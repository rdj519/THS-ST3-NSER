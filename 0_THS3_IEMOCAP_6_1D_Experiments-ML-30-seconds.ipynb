{
 "cells": [
  {
   "cell_type": "code",
   "execution_count": 76,
   "id": "724e81be",
   "metadata": {},
   "outputs": [],
   "source": [
    "import librosa\n",
    "import numpy as np\n",
    "import os\n",
    "import pandas as pd\n",
    "import soundfile\n",
    "import sys\n",
    "import joblib\n",
    "import pandas as pd\n",
    "import numpy as np\n",
    "import xgboost as xgb\n",
    "import pickle\n",
    "import matplotlib\n",
    "import matplotlib.pyplot as plt\n",
    "from sklearn.metrics import classification_report\n",
    "from sklearn.svm import SVC, LinearSVC\n",
    "from sklearn.naive_bayes import MultinomialNB\n",
    "from sklearn.linear_model import LogisticRegression\n",
    "from sklearn.ensemble import RandomForestClassifier\n",
    "from sklearn.model_selection import train_test_split\n",
    "from sklearn.neural_network import MLPClassifier\n",
    "from sklearn.metrics import confusion_matrix, f1_score, fbeta_score,accuracy_score, precision_score, recall_score\n",
    "from sklearn.preprocessing import MinMaxScaler, OneHotEncoder\n",
    "from sklearn.feature_selection import SelectFromModel\n",
    "from sklearn.utils.class_weight import compute_class_weight\n",
    "import itertools\n",
    "from IPython.display import display\n",
    "from tensorflow.keras.models import Sequential\n",
    "from tensorflow.keras import layers\n",
    "from tensorflow.keras import optimizers\n",
    "from tensorflow.keras import callbacks \n",
    "\n",
    "%matplotlib inline"
   ]
  },
  {
   "cell_type": "markdown",
   "id": "674f63c9",
   "metadata": {},
   "source": [
    "We define a function that takes a set of features per time frame and stack the mean so that the data becomes 1-Dimension."
   ]
  },
  {
   "cell_type": "code",
   "execution_count": 2,
   "id": "c87a8e0c",
   "metadata": {},
   "outputs": [],
   "source": [
    "def feature_to_1d(features):\n",
    "    result = np.array([])\n",
    "    mfcc = np.mean(features.T, axis=0)\n",
    "    result = np.hstack((result, mfcc))\n",
    "    return result"
   ]
  },
  {
   "cell_type": "markdown",
   "id": "29bbca0e",
   "metadata": {},
   "source": [
    "We import the binary files containing the original features (MFCCs, and Mel-Spectrogram) in 2D form, as well as the labels corresponding to each feature set."
   ]
  },
  {
   "cell_type": "code",
   "execution_count": 78,
   "id": "238bde0f",
   "metadata": {},
   "outputs": [],
   "source": [
    "#mel\n",
    "\n",
    "f = open('IEMOCAP_Data/Data_30_sec/X_train_mel', 'rb')\n",
    "X_train_mel = joblib.load(f)\n",
    "f.close()\n",
    "f = open('IEMOCAP_Data/Data_30_sec/X_test_mel', 'rb')\n",
    "X_test_mel = joblib.load(f)\n",
    "f.close()\n",
    "f = open('IEMOCAP_Data/Data_30_sec/y_train_mel', 'rb')\n",
    "y_train_mel = joblib.load(f)\n",
    "f.close()\n",
    "f = open('IEMOCAP_Data/Data_30_sec/y_test_mel', 'rb')\n",
    "y_test_mel = joblib.load(f)\n",
    "f.close()\n",
    "\n",
    "#mfcc\n",
    "\n",
    "f = open('IEMOCAP_Data/Data_30_sec/X_train_mfcc', 'rb')\n",
    "X_train_mfcc = joblib.load(f)\n",
    "f.close()\n",
    "f = open('IEMOCAP_Data/Data_30_sec/X_test_mfcc', 'rb')\n",
    "X_test_mfcc = joblib.load(f)\n",
    "f.close()\n",
    "f = open('IEMOCAP_Data/Data_30_sec/y_train_mfcc', 'rb')\n",
    "y_train_mfcc = joblib.load(f)\n",
    "f.close()\n",
    "f = open('IEMOCAP_Data/Data_30_sec/y_test_mfcc', 'rb')\n",
    "y_test_mfcc = joblib.load(f)\n",
    "f.close()"
   ]
  },
  {
   "cell_type": "markdown",
   "id": "32640190",
   "metadata": {},
   "source": [
    "## Find the indices of clipped audio (test)"
   ]
  },
  {
   "cell_type": "code",
   "execution_count": 79,
   "id": "ebf791fb",
   "metadata": {},
   "outputs": [
    {
     "data": {
      "text/plain": [
       "(900, 40, 872)"
      ]
     },
     "execution_count": 79,
     "metadata": {},
     "output_type": "execute_result"
    }
   ],
   "source": [
    "X_test_mfcc.shape"
   ]
  },
  {
   "cell_type": "code",
   "execution_count": 80,
   "id": "abb3a440",
   "metadata": {},
   "outputs": [
    {
     "data": {
      "text/plain": [
       "1600"
      ]
     },
     "execution_count": 80,
     "metadata": {},
     "output_type": "execute_result"
    }
   ],
   "source": [
    "clipped_indices = []\n",
    "\n",
    "for i in range(900):\n",
    "    for j in range(40):\n",
    "        for k in range(313):\n",
    "            if(k == 312 and X_test_mel[i][j][k] != 0):\n",
    "                clipped_indices.append(i)\n",
    "\n",
    "len(clipped_indices)"
   ]
  },
  {
   "cell_type": "code",
   "execution_count": 81,
   "id": "4997cb2a",
   "metadata": {},
   "outputs": [
    {
     "data": {
      "text/plain": [
       "array([  5,  32,  37,  48,  69,  77,  80,  86, 107, 112, 116, 141, 145,\n",
       "       154, 168, 172, 204, 210, 231, 236, 330, 351, 372, 417, 419, 464,\n",
       "       482, 505, 587, 636, 693, 720, 733, 743, 756, 800, 811, 842, 852,\n",
       "       897])"
      ]
     },
     "execution_count": 81,
     "metadata": {},
     "output_type": "execute_result"
    }
   ],
   "source": [
    "x_clipped =np.array(clipped_indices)\n",
    "x_clipped =np.unique(x_clipped)\n",
    "\n",
    "x_clipped"
   ]
  },
  {
   "cell_type": "code",
   "execution_count": 82,
   "id": "4b39146f",
   "metadata": {},
   "outputs": [
    {
     "data": {
      "text/plain": [
       "860"
      ]
     },
     "execution_count": 82,
     "metadata": {},
     "output_type": "execute_result"
    }
   ],
   "source": [
    "x_unclipped = []\n",
    "for i in range(len(X_test_mel)):\n",
    "    if i not in x_clipped:\n",
    "        x_unclipped.append(i)\n",
    "x_unclipped = np.array(x_unclipped)\n",
    "#x_unclipped\n",
    "\n",
    "len(x_unclipped)"
   ]
  },
  {
   "cell_type": "markdown",
   "id": "20717460",
   "metadata": {},
   "source": [
    "32 + 40 = 72"
   ]
  },
  {
   "cell_type": "markdown",
   "id": "a439f3d8",
   "metadata": {},
   "source": [
    "## Examine clipped audio in train set"
   ]
  },
  {
   "cell_type": "code",
   "execution_count": 83,
   "id": "873786da",
   "metadata": {},
   "outputs": [
    {
     "data": {
      "text/plain": [
       "32"
      ]
     },
     "execution_count": 83,
     "metadata": {},
     "output_type": "execute_result"
    }
   ],
   "source": [
    "clipped_indices_train = []\n",
    "\n",
    "for i in range(900):\n",
    "    for j in range(40):\n",
    "        for k in range(313):\n",
    "            if(k == 312 and X_train_mel[i][j][k] != 0):\n",
    "                clipped_indices_train.append(i)\n",
    "\n",
    "x_clipped_t =np.array(clipped_indices_train)\n",
    "x_clipped_t =np.unique(x_clipped_t)\n",
    "\n",
    "len(x_clipped_t)"
   ]
  },
  {
   "cell_type": "code",
   "execution_count": 84,
   "id": "99c6a9f1",
   "metadata": {},
   "outputs": [
    {
     "data": {
      "text/plain": [
       "40"
      ]
     },
     "execution_count": 84,
     "metadata": {},
     "output_type": "execute_result"
    }
   ],
   "source": [
    "train_labels = []\n",
    "for i in range(len(y_onehot_train_mfcc.argmax(axis=1))):\n",
    "    if i in x_clipped_t:\n",
    "        train_labels.append(y_onehot_train_mfcc.argmax(axis=1)[i])\n",
    "test_labels = []\n",
    "for i in range(len(y_onehot_test_mfcc.argmax(axis=1))):\n",
    "    if i in x_clipped:\n",
    "        test_labels.append(y_onehot_test_mfcc.argmax(axis=1)[i])\n",
    "\n",
    "len(test_labels)"
   ]
  },
  {
   "cell_type": "code",
   "execution_count": 85,
   "id": "a79ac7ac",
   "metadata": {},
   "outputs": [
    {
     "name": "stdout",
     "output_type": "stream",
     "text": [
      "Train: \n",
      "Counter({2: 12, 5: 9, 4: 6, 1: 3, 0: 2}) \n",
      "\n",
      "Test: \n",
      "Counter({2: 10, 1: 9, 0: 8, 4: 7, 5: 6})\n"
     ]
    }
   ],
   "source": [
    "from collections import Counter\n",
    "train = Counter(train_labels)\n",
    "test = Counter(test_labels)\n",
    "print(\"Train: \\n{} \\n\\nTest: \\n{}\".format(train, test))"
   ]
  },
  {
   "cell_type": "code",
   "execution_count": 86,
   "id": "3aeffdbd",
   "metadata": {},
   "outputs": [
    {
     "name": "stdout",
     "output_type": "stream",
     "text": [
      "Train count:\n",
      "Anger: 2\n",
      "Happy: 3\n",
      "Sad: 12\n",
      "Fear: 0\n",
      "Surprise: 6\n",
      "Neutral: 9\n",
      "\n"
     ]
    }
   ],
   "source": [
    "print(\"Train count:\\nAnger: {}\\nHappy: {}\\nSad: {}\\nFear: {}\\nSurprise: {}\\nNeutral: {}\\n\".format(train_labels.count(0),train_labels.count(1),train_labels.count(2),train_labels.count(3),train_labels.count(4),train_labels.count(5)))"
   ]
  },
  {
   "cell_type": "code",
   "execution_count": 87,
   "id": "69cddc4e",
   "metadata": {},
   "outputs": [
    {
     "name": "stdout",
     "output_type": "stream",
     "text": [
      "Test count:\n",
      "Anger: 8\n",
      "Happy: 9\n",
      "Sad: 10\n",
      "Fear: 0\n",
      "Surprise: 7\n",
      "Neutral: 6\n",
      "\n"
     ]
    }
   ],
   "source": [
    "print(\"Test count:\\nAnger: {}\\nHappy: {}\\nSad: {}\\nFear: {}\\nSurprise: {}\\nNeutral: {}\\n\".format(test_labels.count(0),test_labels.count(1),test_labels.count(2),test_labels.count(3),test_labels.count(4),test_labels.count(5)))\n"
   ]
  },
  {
   "cell_type": "code",
   "execution_count": 88,
   "id": "4799ce21",
   "metadata": {},
   "outputs": [],
   "source": [
    "dic_true_val = {}\n",
    "dic_true_val['ang'] = test_labels.count(0)\n",
    "dic_true_val['hap'] = test_labels.count(1)\n",
    "dic_true_val['sad'] = test_labels.count(2)\n",
    "dic_true_val['fea'] = test_labels.count(3)\n",
    "dic_true_val['sur'] = test_labels.count(4)\n",
    "dic_true_val['neu'] = test_labels.count(5)"
   ]
  },
  {
   "cell_type": "markdown",
   "id": "a3a6c43a",
   "metadata": {},
   "source": [
    "### Converting to 1D Data\n",
    "\n",
    "We convert the 2D features to 1D data."
   ]
  },
  {
   "cell_type": "code",
   "execution_count": 98,
   "id": "c481de2b",
   "metadata": {},
   "outputs": [],
   "source": [
    "X_train_mel_1d = []\n",
    "X_test_mel_1d = []\n",
    "X_train_mfcc_1d = []\n",
    "X_test_mfcc_1d = []"
   ]
  },
  {
   "cell_type": "code",
   "execution_count": 99,
   "id": "6dd24a82",
   "metadata": {},
   "outputs": [],
   "source": [
    "for i in range(len(X_train_mel)):\n",
    "    X_train_mel_1d.append(feature_to_1d(X_train_mel[i]))\n",
    "for i in range(len(X_test_mel)):\n",
    "    X_test_mel_1d.append(feature_to_1d(X_test_mel[i]))\n",
    "for i in range(len(X_train_mfcc)):\n",
    "    X_train_mfcc_1d.append(feature_to_1d(X_train_mfcc[i]))\n",
    "for i in range(len(X_test_mfcc)):\n",
    "    X_test_mfcc_1d.append(feature_to_1d(X_test_mfcc[i]))"
   ]
  },
  {
   "cell_type": "code",
   "execution_count": 100,
   "id": "089a8ffe",
   "metadata": {},
   "outputs": [],
   "source": [
    "X_train_mel = np.array(X_train_mel_1d)\n",
    "X_test_mel = np.array(X_test_mel_1d)\n",
    "X_train_mfcc = np.array(X_train_mfcc_1d)\n",
    "X_test_mfcc = np.array(X_test_mfcc_1d)"
   ]
  },
  {
   "cell_type": "code",
   "execution_count": 101,
   "id": "02d472d1",
   "metadata": {},
   "outputs": [
    {
     "data": {
      "text/plain": [
       "(2100, 128)"
      ]
     },
     "execution_count": 101,
     "metadata": {},
     "output_type": "execute_result"
    }
   ],
   "source": [
    "X_train_mel.shape"
   ]
  },
  {
   "cell_type": "code",
   "execution_count": 102,
   "id": "8eb337f4",
   "metadata": {},
   "outputs": [
    {
     "data": {
      "text/plain": [
       "(2100, 40)"
      ]
     },
     "execution_count": 102,
     "metadata": {},
     "output_type": "execute_result"
    }
   ],
   "source": [
    "X_train_mfcc.shape"
   ]
  },
  {
   "cell_type": "markdown",
   "id": "f3009edc",
   "metadata": {},
   "source": [
    "Split data into train and test set per feature."
   ]
  },
  {
   "cell_type": "markdown",
   "id": "079bba8e",
   "metadata": {},
   "source": [
    "### Transform the y data \n",
    "\n",
    "We transform the y data containing the labels into onehot-encoded form so that the models can classify the categorical accuracy and loss."
   ]
  },
  {
   "cell_type": "code",
   "execution_count": 45,
   "id": "03d15986",
   "metadata": {},
   "outputs": [],
   "source": [
    "y_onehot_train_mel = y_train_mel\n",
    "y_onehot_test_mel = y_test_mel\n",
    "\n",
    "y_onehot_train_mfcc = y_train_mfcc\n",
    "y_onehot_test_mfcc = y_test_mfcc"
   ]
  },
  {
   "cell_type": "code",
   "execution_count": 46,
   "id": "f18c5fe5",
   "metadata": {},
   "outputs": [],
   "source": [
    "y_onehot_train_mel = pd.get_dummies(y_onehot_train_mel)\n",
    "y_onehot_test_mel = pd.get_dummies(y_onehot_test_mel)\n",
    "\n",
    "y_onehot_train_mfcc = pd.get_dummies(y_onehot_train_mfcc)\n",
    "y_onehot_test_mfcc = pd.get_dummies(y_onehot_test_mfcc)"
   ]
  },
  {
   "cell_type": "code",
   "execution_count": 47,
   "id": "9e16d242",
   "metadata": {},
   "outputs": [],
   "source": [
    "y_onehot_train_mel = np.asarray(y_onehot_train_mel).astype('int8')\n",
    "y_onehot_test_mel  = np.asarray(y_onehot_test_mel).astype('int8')\n",
    "\n",
    "y_onehot_train_mfcc = np.asarray(y_onehot_train_mfcc).astype('int8')\n",
    "y_onehot_test_mfcc  = np.asarray(y_onehot_test_mfcc).astype('int8')"
   ]
  },
  {
   "cell_type": "markdown",
   "id": "d8e5ac2c",
   "metadata": {},
   "source": [
    "Import libraries needed for defining the models."
   ]
  },
  {
   "cell_type": "code",
   "execution_count": 48,
   "id": "9193a1f0",
   "metadata": {},
   "outputs": [],
   "source": [
    "import segmentation_models as sm\n",
    "import numpy as np\n",
    "import matplotlib.pyplot as plt\n",
    "import tensorflow as tf\n",
    "from tensorflow.keras.preprocessing import sequence\n",
    "from tensorflow.keras.models import Sequential\n",
    "from tensorflow.keras.layers import Dense, Embedding\n",
    "from tensorflow.keras.utils import to_categorical\n",
    "from tensorflow.keras.layers import Input, Flatten, Dropout, Activation\n",
    "from tensorflow.keras.layers import Conv1D, MaxPooling1D, Lambda, GlobalMaxPooling1D, Concatenate, BatchNormalization, LSTM, Reshape, Conv2D, MaxPooling2D\n",
    "from tensorflow.keras.models import Model\n",
    "from tensorflow.keras.callbacks import ModelCheckpoint\n",
    "from keras_self_attention import SeqSelfAttention\n",
    "from tensorflow.keras.regularizers import l2"
   ]
  },
  {
   "cell_type": "code",
   "execution_count": 74,
   "id": "4c31f3f2",
   "metadata": {},
   "outputs": [
    {
     "data": {
      "text/plain": [
       "(2100, 40)"
      ]
     },
     "execution_count": 74,
     "metadata": {},
     "output_type": "execute_result"
    }
   ],
   "source": [
    "X_train_mfcc.shape"
   ]
  },
  {
   "cell_type": "markdown",
   "id": "57a24517",
   "metadata": {},
   "source": [
    "Expand the dimensions for the training and testing data so that it can be used for the neural networks."
   ]
  },
  {
   "cell_type": "code",
   "execution_count": 50,
   "id": "375b07df",
   "metadata": {},
   "outputs": [],
   "source": [
    "X_traincnn_mfcc = np.expand_dims(X_train_mfcc, axis = 2)\n",
    "X_testcnn_mfcc = np.expand_dims(X_test_mfcc, axis = 2)\n",
    "X_traincnn_mel = np.expand_dims(X_train_mel, axis = 2)\n",
    "X_testcnn_mel = np.expand_dims(X_test_mel, axis = 2)"
   ]
  },
  {
   "cell_type": "markdown",
   "id": "4b6844e4",
   "metadata": {},
   "source": [
    "#### We define some functions for training and testing"
   ]
  },
  {
   "cell_type": "code",
   "execution_count": 51,
   "id": "fb90aca2",
   "metadata": {},
   "outputs": [],
   "source": [
    "import tensorflow as tf\n",
    "import tensorflow.keras.backend as K\n",
    "\n",
    "def f1_loss(y_true, y_pred):\n",
    "\n",
    "    tp = K.sum(K.cast(y_true*y_pred, 'float'), axis=0)\n",
    "    tn = K.sum(K.cast((1-y_true)*(1-y_pred), 'float'), axis=0)\n",
    "    fp = K.sum(K.cast((1-y_true)*y_pred, 'float'), axis=0)\n",
    "    fn = K.sum(K.cast(y_true*(1-y_pred), 'float'), axis=0)\n",
    "\n",
    "    p = tp / (tp + fp + K.epsilon())\n",
    "    r = tp / (tp + fn + K.epsilon())\n",
    "\n",
    "    f1 = 2*p*r / (p+r+K.epsilon())\n",
    "    f1 = tf.where(tf.math.is_nan(f1), tf.zeros_like(f1), f1)\n",
    "    return 1 - K.mean(f1)"
   ]
  },
  {
   "cell_type": "code",
   "execution_count": 89,
   "id": "d7b173c4",
   "metadata": {},
   "outputs": [],
   "source": [
    "def print_index(y_true, y_pred):\n",
    "    #['ang', 'hap', 'sad', 'fea', 'sur', 'neu']\n",
    "    correct_instances_index = [] #indices of correct predictions\n",
    "    for i in range(len(y_pred)):\n",
    "        if(y_true[i] == y_pred[i]):\n",
    "            correct_instances_index.append(i)\n",
    "            \n",
    "    return correct_instances_index\n",
    "def print_labels(y_true, y_pred):\n",
    "    #['ang', 'hap', 'sad', 'fea', 'sur', 'neu']\n",
    "    correct_instances_label = [] #labels of correct predictions\n",
    "    for i in range(len(y_pred)):\n",
    "        if(y_true[i] == y_pred[i]):\n",
    "            correct_instances_label.append(y_pred[i])\n",
    "            \n",
    "    return correct_instances_label"
   ]
  },
  {
   "cell_type": "code",
   "execution_count": 90,
   "id": "27f969e9",
   "metadata": {},
   "outputs": [],
   "source": [
    "def count_label(x):\n",
    "    ang = 0\n",
    "    hap = 0\n",
    "    sad = 0\n",
    "    fea = 0\n",
    "    sur = 0\n",
    "    neu = 0\n",
    "    \n",
    "    dic = {}\n",
    "    #my_dict['name']='Nick'\n",
    "    for i in range(len(x)):\n",
    "        if(x[i]==0):\n",
    "            ang += 1\n",
    "        elif(x[i]==1):\n",
    "            hap += 1\n",
    "        elif(x[i]==2):\n",
    "            sad += 1\n",
    "        elif(x[i]==3):\n",
    "            fea += 1\n",
    "        elif(x[i]==4):\n",
    "            sur += 1\n",
    "        elif(x[i]==5):\n",
    "            neu += 1\n",
    "    dic['ang'] = ang\n",
    "    dic['hap'] = hap\n",
    "    dic['sad'] = sad\n",
    "    dic['fea'] = fea\n",
    "    dic['sur'] = sur\n",
    "    dic['neu'] = neu\n",
    "    \n",
    "    return dic"
   ]
  },
  {
   "cell_type": "code",
   "execution_count": 52,
   "id": "779c1ea2",
   "metadata": {},
   "outputs": [],
   "source": [
    "checkpoint_path = 'IEMOCAP_Data/Weights/best_weights.hdf5'\n",
    "\n",
    "#-> Save the best weights\n",
    "mcp_save = callbacks.ModelCheckpoint(checkpoint_path, save_best_only=True,\n",
    "                           monitor='val_categorical_accuracy',\n",
    "                           mode='max')\n",
    "#-> Reduce learning rate after 100 epoches without improvement.\n",
    "rlrop = callbacks.ReduceLROnPlateau(monitor='val_categorical_accuracy', \n",
    "                                    factor=0.1, patience=100)"
   ]
  },
  {
   "cell_type": "markdown",
   "id": "a4093c52",
   "metadata": {},
   "source": [
    "#### MFCC\n",
    "\n",
    "We use MFCC as input features."
   ]
  },
  {
   "cell_type": "code",
   "execution_count": 103,
   "id": "49b1d1b7",
   "metadata": {},
   "outputs": [],
   "source": [
    "X_train_mfcc_np = np.array(X_train_mfcc)\n",
    "X_test_mfcc_np = np.array(X_test_mfcc)\n",
    "y_train_mfcc_np = np.array(y_train_mfcc)\n",
    "y_test_mfcc_np = np.array(y_test_mfcc)"
   ]
  },
  {
   "cell_type": "code",
   "execution_count": 104,
   "id": "cb97aa3e",
   "metadata": {},
   "outputs": [
    {
     "name": "stdout",
     "output_type": "stream",
     "text": [
      "(2100, 40)\n",
      "(900, 40)\n",
      "(2100, 6)\n",
      "(900, 6)\n"
     ]
    }
   ],
   "source": [
    "print(X_train_mfcc_np.shape)\n",
    "print(X_test_mfcc_np.shape)\n",
    "print(y_onehot_train_mfcc.shape)\n",
    "print(y_onehot_test_mfcc.shape)"
   ]
  },
  {
   "cell_type": "code",
   "execution_count": 105,
   "id": "f93a4168",
   "metadata": {},
   "outputs": [
    {
     "data": {
      "text/plain": [
       "(900, 40)"
      ]
     },
     "execution_count": 105,
     "metadata": {},
     "output_type": "execute_result"
    }
   ],
   "source": [
    "X_test_mfcc_np.shape"
   ]
  },
  {
   "cell_type": "markdown",
   "id": "66fb36c1",
   "metadata": {},
   "source": [
    "# Results using Machine Learning algorithms\n",
    "\n",
    "In this section of the notebook, we perform experiments on the data we have using traditional Machine Learning algorithms. We define a set of functions to visualize the performance of each ML model."
   ]
  },
  {
   "cell_type": "code",
   "execution_count": 56,
   "id": "8f5a10bb",
   "metadata": {},
   "outputs": [],
   "source": [
    "emotion_dict = {'ang': 0,\n",
    "                'hap': 1,\n",
    "                'sad': 2,\n",
    "                'fea': 3,\n",
    "                'sur': 4,\n",
    "                'neu': 5}\n",
    "\n",
    "emo_keys = list(['ang', 'hap', 'sad', 'fea', 'sur', 'neu'])\n",
    "def plot_confusion_matrix(cm, classes,\n",
    "                          normalize=False,\n",
    "                          title='Confusion matrix',\n",
    "                          cmap=plt.cm.Blues):\n",
    "    \"\"\"\n",
    "    This function prints and plots the confusion matrix.\n",
    "    Normalization can be applied by setting `normalize=True`.\n",
    "    \"\"\"\n",
    "    # plt.figure(figsize=(8,8))\n",
    "    plt.imshow(cm, interpolation='nearest', cmap=cmap)\n",
    "    plt.title(title)\n",
    "    plt.colorbar()\n",
    "    tick_marks = np.arange(len(classes))\n",
    "    plt.xticks(tick_marks, classes, rotation=45)\n",
    "    plt.yticks(tick_marks, classes)\n",
    "\n",
    "    if normalize:\n",
    "        cm = cm.astype('float') / cm.sum(axis=1)[:, np.newaxis]\n",
    "        print(\"Normalized confusion matrix\")\n",
    "    else:\n",
    "        print('Confusion matrix, without normalization')\n",
    "\n",
    "    print(cm)\n",
    "\n",
    "    thresh = cm.max() / 2.\n",
    "    for i, j in itertools.product(range(cm.shape[0]), range(cm.shape[1])):\n",
    "        plt.text(j, i, cm[i, j],\n",
    "                 horizontalalignment=\"center\",\n",
    "                 color=\"white\" if cm[i, j] > thresh else \"black\")\n",
    "\n",
    "    plt.tight_layout()\n",
    "    plt.ylabel('True label')\n",
    "    plt.xlabel('Predicted label')\n",
    "    \n",
    "def one_hot_encoder(true_labels, num_records, num_classes):\n",
    "    temp = np.array(true_labels[:num_records])\n",
    "    true_labels = np.zeros((num_records, num_classes))\n",
    "    print(num_classes)\n",
    "    true_labels[np.arange(num_records), temp] = 1\n",
    "    return true_labels\n",
    "\n",
    "def display_results(y_test, pred_probs, cm=True):\n",
    "    pred = np.argmax(pred_probs, axis=-1)\n",
    "    one_hot_true = one_hot_encoder(y_test, len(pred), len(emotion_dict))\n",
    "    print('Test Set Accuracy =  {0:.3f}'.format(accuracy_score(y_test, pred)))\n",
    "    print('Test Set F-score =  {0:.3f}'.format(fbeta_score(y_test, pred, beta= 1.0,average='macro')))\n",
    "    print('Test Set Precision =  {0:.3f}'.format(precision_score(y_test, pred, average='macro')))\n",
    "    print('Test Set Recall =  {0:.3f}'.format(recall_score(y_test, pred, average='macro')))\n",
    "    if cm:\n",
    "        plot_confusion_matrix(confusion_matrix(y_test, pred), classes=emo_keys)"
   ]
  },
  {
   "cell_type": "markdown",
   "id": "f68510f9",
   "metadata": {},
   "source": [
    "## MFCC\n",
    "\n",
    "In this section, we use MFCCs as input for the ML models."
   ]
  },
  {
   "cell_type": "markdown",
   "id": "79b3f8e4",
   "metadata": {},
   "source": [
    "#### MLP Classifier"
   ]
  },
  {
   "cell_type": "code",
   "execution_count": 67,
   "id": "2a4d6375",
   "metadata": {},
   "outputs": [
    {
     "name": "stderr",
     "output_type": "stream",
     "text": [
      "/home/jupyter-reynaldo_delimajr/.local/lib/python3.7/site-packages/sklearn/neural_network/_multilayer_perceptron.py:619: UserWarning: Training interrupted by user.\n",
      "  warnings.warn(\"Training interrupted by user.\")\n"
     ]
    },
    {
     "name": "stdout",
     "output_type": "stream",
     "text": [
      "6\n",
      "Test Set Accuracy =  0.639\n",
      "Test Set F-score =  0.628\n",
      "Test Set Precision =  0.627\n",
      "Test Set Recall =  0.631\n",
      "Confusion matrix, without normalization\n",
      "[[ 74  26   8   0  11  11]\n",
      " [ 22  74  20   0  19  18]\n",
      " [ 15  12  72   2   8  35]\n",
      " [  0   0   0 158   0   0]\n",
      " [  2  11   7   0 135  10]\n",
      " [  6  29  35   2  16  62]]\n"
     ]
    },
    {
     "data": {
      "image/png": "[encoded data removed]",
      "text/plain": [
       "<Figure size 432x288 with 2 Axes>"
      ]
     },
     "metadata": {
      "needs_background": "light"
     },
     "output_type": "display_data"
    }
   ],
   "source": [
    "### MLP Classifier\n",
    "mlp_classifier = MLPClassifier(hidden_layer_sizes=(500, ), activation='logistic', solver='adam', alpha=0.0001,\n",
    "                               batch_size='auto', learning_rate='constant', learning_rate_init=0.0008,\n",
    "                               power_t=0.5, max_iter=1000)\n",
    "mlp_classifier.fit(X_train_mfcc, y_train_mfcc)\n",
    "\n",
    "# Predict\n",
    "pred_probs = mlp_classifier.predict_proba(X_test_mfcc)\n",
    "\n",
    "# Results\n",
    "display_results(y_test_mfcc, pred_probs)"
   ]
  },
  {
   "cell_type": "code",
   "execution_count": 69,
   "id": "9803a522",
   "metadata": {},
   "outputs": [
    {
     "name": "stdout",
     "output_type": "stream",
     "text": [
      "6\n",
      "Test Set Accuracy =  0.554\n",
      "Test Set F-score =  0.536\n",
      "Test Set Precision =  0.614\n",
      "Test Set Recall =  0.542\n",
      "Confusion matrix, without normalization\n",
      "[[ 38  42   0   3  20  27]\n",
      " [  5  58   8   2  43  37]\n",
      " [  2  18  42   1  25  56]\n",
      " [  0   0   0 138   0  20]\n",
      " [  0   6   9  10 120  20]\n",
      " [  1  13   6   3  24 103]]\n"
     ]
    },
    {
     "data": {
      "image/png": "[encoded data removed]",
      "text/plain": [
       "<Figure size 432x288 with 2 Axes>"
      ]
     },
     "metadata": {
      "needs_background": "light"
     },
     "output_type": "display_data"
    }
   ],
   "source": [
    "### MLP Classifier\n",
    "mlp_classifier = MLPClassifier(hidden_layer_sizes=(500, ), activation='relu', solver='adam', alpha=0.0001,\n",
    "                               batch_size='auto', learning_rate='constant', learning_rate_init=0.0008,\n",
    "                               power_t=0.5, max_iter=1000)\n",
    "mlp_classifier.fit(X_train_mfcc, y_train_mfcc)\n",
    "\n",
    "# Predict\n",
    "pred_probs = mlp_classifier.predict_proba(X_test_mfcc)\n",
    "\n",
    "# Results\n",
    "display_results(y_test_mfcc, pred_probs)"
   ]
  },
  {
   "cell_type": "code",
   "execution_count": 116,
   "id": "f8c2a105",
   "metadata": {},
   "outputs": [
    {
     "name": "stdout",
     "output_type": "stream",
     "text": [
      "6\n",
      "Test Set Accuracy =  0.440\n",
      "Test Set F-score =  0.418\n",
      "Test Set Precision =  0.513\n",
      "Test Set Recall =  0.438\n",
      "Confusion matrix, without normalization\n",
      "[[ 57   3  13   2  27  28]\n",
      " [ 23   5  25   1  60  39]\n",
      " [  9   1  74   0  19  41]\n",
      " [  0   0  17  75  46  20]\n",
      " [  8   0  23   4 106  24]\n",
      " [  2   1  42   1  25  79]]\n"
     ]
    },
    {
     "data": {
      "image/png": "[encoded data removed]",
      "text/plain": [
       "<Figure size 432x288 with 2 Axes>"
      ]
     },
     "metadata": {
      "needs_background": "light"
     },
     "output_type": "display_data"
    }
   ],
   "source": [
    "### MLP Classifier\n",
    "mlp_classifier = MLPClassifier(hidden_layer_sizes=(500, ), activation='identity', solver='adam', alpha=0.0001,\n",
    "                               batch_size='auto', learning_rate='constant', learning_rate_init=0.0008,\n",
    "                               power_t=0.5, max_iter=1000)\n",
    "mlp_classifier.fit(X_train_mfcc, y_train_mfcc)\n",
    "\n",
    "# Predict\n",
    "pred_probs = mlp_classifier.predict_proba(X_test_mfcc)\n",
    "\n",
    "# Results\n",
    "display_results(y_test_mfcc, pred_probs)"
   ]
  },
  {
   "cell_type": "code",
   "execution_count": 106,
   "id": "651ea359",
   "metadata": {},
   "outputs": [
    {
     "data": {
      "text/plain": [
       "MLPClassifier(activation='tanh', hidden_layer_sizes=(500,),\n",
       "              learning_rate_init=0.0008, max_iter=1000)"
      ]
     },
     "execution_count": 106,
     "metadata": {},
     "output_type": "execute_result"
    }
   ],
   "source": [
    "### MLP Classifier\n",
    "mlp_classifier_mfcc = MLPClassifier(hidden_layer_sizes=(500, ), activation='tanh', solver='adam', alpha=0.0001,\n",
    "                               batch_size='auto', learning_rate='constant', learning_rate_init=0.0008,\n",
    "                               power_t=0.5, max_iter=1000)\n",
    "mlp_classifier_mfcc.fit(X_train_mfcc, y_train_mfcc)"
   ]
  },
  {
   "cell_type": "code",
   "execution_count": 107,
   "id": "f6beaf54",
   "metadata": {},
   "outputs": [
    {
     "name": "stdout",
     "output_type": "stream",
     "text": [
      "6\n",
      "Test Set Accuracy =  0.720\n",
      "Test Set F-score =  0.703\n",
      "Test Set Precision =  0.725\n",
      "Test Set Recall =  0.716\n",
      "Confusion matrix, without normalization\n",
      "[[109   5   5   0   2   9]\n",
      " [ 35  55  17   0  10  36]\n",
      " [ 20   4  68   1   2  49]\n",
      " [  0   0   0 158   0   0]\n",
      " [  0   0   0   0 158   7]\n",
      " [ 10   9  25   1   5 100]]\n"
     ]
    },
    {
     "data": {
      "image/png": "[encoded data removed]",
      "text/plain": [
       "<Figure size 432x288 with 2 Axes>"
      ]
     },
     "metadata": {
      "needs_background": "light"
     },
     "output_type": "display_data"
    }
   ],
   "source": [
    "# Predict\n",
    "pred_probs_mlp_mfcc = mlp_classifier_mfcc.predict_proba(X_test_mfcc)\n",
    "\n",
    "# Results\n",
    "display_results(y_test_mfcc, pred_probs_mlp_mfcc)"
   ]
  },
  {
   "cell_type": "code",
   "execution_count": 108,
   "id": "40c2cf9e",
   "metadata": {
    "scrolled": false
   },
   "outputs": [
    {
     "name": "stdout",
     "output_type": "stream",
     "text": [
      "              precision    recall  f1-score   support\n",
      "\n",
      "         ang       0.63      0.84      0.72       130\n",
      "         hap       0.75      0.36      0.49       153\n",
      "         sad       0.59      0.47      0.53       144\n",
      "         fea       0.99      1.00      0.99       158\n",
      "         sur       0.89      0.96      0.92       165\n",
      "         neu       0.50      0.67      0.57       150\n",
      "\n",
      "    accuracy                           0.72       900\n",
      "   macro avg       0.72      0.72      0.70       900\n",
      "weighted avg       0.73      0.72      0.71       900\n",
      "\n"
     ]
    }
   ],
   "source": [
    "target_names = ['ang', 'hap', 'sad', 'fea', 'sur', 'neu']\n",
    "print(classification_report(y_onehot_test_mfcc.argmax(axis=1), pred_probs_mlp_mfcc.argmax(axis=1), target_names=target_names))"
   ]
  },
  {
   "cell_type": "markdown",
   "id": "ddc51d53",
   "metadata": {},
   "source": [
    "# --------------------------------------------------------------------------------"
   ]
  },
  {
   "cell_type": "markdown",
   "id": "a22d5737",
   "metadata": {},
   "source": [
    "#### Support Vector Machine"
   ]
  },
  {
   "cell_type": "code",
   "execution_count": 127,
   "id": "9976d71f",
   "metadata": {},
   "outputs": [
    {
     "name": "stderr",
     "output_type": "stream",
     "text": [
      "/home/jupyter-reynaldo_delimajr/.local/lib/python3.7/site-packages/sklearn/svm/_base.py:986: ConvergenceWarning: Liblinear failed to converge, increase the number of iterations.\n",
      "  \"the number of iterations.\", ConvergenceWarning)\n"
     ]
    },
    {
     "name": "stdout",
     "output_type": "stream",
     "text": [
      "6\n",
      "Test Set Accuracy =  0.276\n",
      "Test Set F-score =  0.206\n",
      "Test Set Precision =  0.570\n",
      "Test Set Recall =  0.262\n",
      "Confusion matrix, without normalization\n",
      "[[ 33   0   0   1  96   0]\n",
      " [  9   1   0   1 141   1]\n",
      " [ 10   0   5   0 125   4]\n",
      " [  0   0   0  40 118   0]\n",
      " [  0   0   0   0 165   0]\n",
      " [  3   1   2   0 140   4]]\n"
     ]
    },
    {
     "data": {
      "image/png": "[encoded data removed]",
      "text/plain": [
       "<Figure size 432x288 with 2 Axes>"
      ]
     },
     "metadata": {
      "needs_background": "light"
     },
     "output_type": "display_data"
    }
   ],
   "source": [
    "## SVM LINEAR\n",
    "svc_classifier = LinearSVC()\n",
    "\n",
    "svc_classifier.fit(X_train_mfcc, y_train_mfcc)\n",
    "\n",
    "# Predict\n",
    "pred = svc_classifier.predict(X_test_mfcc)\n",
    "pred_onehot = np.zeros((pred.size, pred.max()+1))\n",
    "pred_onehot[np.arange(pred.size),pred] = 1\n",
    "\n",
    "# Results\n",
    "display_results(y_test_mfcc, pred_onehot)"
   ]
  },
  {
   "cell_type": "code",
   "execution_count": 151,
   "id": "1065fdcd",
   "metadata": {},
   "outputs": [
    {
     "data": {
      "text/plain": [
       "SVC()"
      ]
     },
     "execution_count": 151,
     "metadata": {},
     "output_type": "execute_result"
    }
   ],
   "source": [
    "svc_classifier_mfcc = SVC(kernel='rbf')\n",
    "\n",
    "svc_classifier_mfcc.fit(X_train_mfcc, y_train_mfcc)"
   ]
  },
  {
   "cell_type": "code",
   "execution_count": 152,
   "id": "984f6a69",
   "metadata": {},
   "outputs": [
    {
     "name": "stdout",
     "output_type": "stream",
     "text": [
      "6\n",
      "Test Set Accuracy =  0.219\n",
      "Test Set F-score =  0.147\n",
      "Test Set Precision =  0.111\n",
      "Test Set Recall =  0.230\n",
      "Confusion matrix, without normalization\n",
      "[[ 78   0  22  30   0   0]\n",
      " [ 73   0  34  46   0   0]\n",
      " [ 53   0  44  47   0   0]\n",
      " [ 55   0  28  75   0   0]\n",
      " [106   0  35  24   0   0]\n",
      " [ 46   0  41  63   0   0]]\n"
     ]
    },
    {
     "name": "stderr",
     "output_type": "stream",
     "text": [
      "/home/jupyter-reynaldo_delimajr/.local/lib/python3.7/site-packages/sklearn/metrics/_classification.py:1248: UndefinedMetricWarning: Precision is ill-defined and being set to 0.0 in labels with no predicted samples. Use `zero_division` parameter to control this behavior.\n",
      "  _warn_prf(average, modifier, msg_start, len(result))\n"
     ]
    },
    {
     "data": {
      "image/png": "[encoded data removed]",
      "text/plain": [
       "<Figure size 432x288 with 2 Axes>"
      ]
     },
     "metadata": {
      "needs_background": "light"
     },
     "output_type": "display_data"
    }
   ],
   "source": [
    "# Predict\n",
    "pred = svc_classifier_mfcc.predict(X_test_mfcc)\n",
    "pred_onehot_svc_mfcc = np.zeros((pred.size, pred.max()+1))\n",
    "pred_onehot_svc_mfcc[np.arange(pred.size),pred] = 1\n",
    "\n",
    "# Results\n",
    "display_results(y_test_mfcc, pred_onehot_svc_mfcc)"
   ]
  },
  {
   "cell_type": "code",
   "execution_count": 153,
   "id": "ab010247",
   "metadata": {},
   "outputs": [
    {
     "name": "stdout",
     "output_type": "stream",
     "text": [
      "              precision    recall  f1-score   support\n",
      "\n",
      "         ang       0.19      0.60      0.29       130\n",
      "         hap       0.00      0.00      0.00       153\n",
      "         sad       0.22      0.31      0.25       144\n",
      "         fea       0.26      0.47      0.34       158\n",
      "         sur       0.00      0.00      0.00       165\n",
      "         neu       0.00      0.00      0.00       150\n",
      "\n",
      "    accuracy                           0.22       900\n",
      "   macro avg       0.11      0.23      0.15       900\n",
      "weighted avg       0.11      0.22      0.14       900\n",
      "\n"
     ]
    },
    {
     "name": "stderr",
     "output_type": "stream",
     "text": [
      "/home/jupyter-reynaldo_delimajr/.local/lib/python3.7/site-packages/sklearn/metrics/_classification.py:1248: UndefinedMetricWarning: Precision and F-score are ill-defined and being set to 0.0 in labels with no predicted samples. Use `zero_division` parameter to control this behavior.\n",
      "  _warn_prf(average, modifier, msg_start, len(result))\n",
      "/home/jupyter-reynaldo_delimajr/.local/lib/python3.7/site-packages/sklearn/metrics/_classification.py:1248: UndefinedMetricWarning: Precision and F-score are ill-defined and being set to 0.0 in labels with no predicted samples. Use `zero_division` parameter to control this behavior.\n",
      "  _warn_prf(average, modifier, msg_start, len(result))\n",
      "/home/jupyter-reynaldo_delimajr/.local/lib/python3.7/site-packages/sklearn/metrics/_classification.py:1248: UndefinedMetricWarning: Precision and F-score are ill-defined and being set to 0.0 in labels with no predicted samples. Use `zero_division` parameter to control this behavior.\n",
      "  _warn_prf(average, modifier, msg_start, len(result))\n"
     ]
    }
   ],
   "source": [
    "target_names = ['ang', 'hap', 'sad', 'fea', 'sur', 'neu']\n",
    "print(classification_report(y_onehot_test_mfcc.argmax(axis=1), pred_onehot_svc_mfcc.argmax(axis=1), target_names=target_names))"
   ]
  },
  {
   "cell_type": "markdown",
   "id": "83f68dbb",
   "metadata": {},
   "source": [
    "#### Logistic Regression"
   ]
  },
  {
   "cell_type": "code",
   "execution_count": 138,
   "id": "10a07daf",
   "metadata": {},
   "outputs": [
    {
     "data": {
      "text/plain": [
       "LogisticRegression(max_iter=500, multi_class='multinomial', solver='newton-cg')"
      ]
     },
     "execution_count": 138,
     "metadata": {},
     "output_type": "execute_result"
    }
   ],
   "source": [
    "lr_classifier_mfcc = LogisticRegression(solver='newton-cg', multi_class='multinomial', max_iter=500)\n",
    "\n",
    "lr_classifier_mfcc.fit(X_train_mfcc, y_train_mfcc)"
   ]
  },
  {
   "cell_type": "code",
   "execution_count": 139,
   "id": "a1ba1aa9",
   "metadata": {},
   "outputs": [
    {
     "name": "stdout",
     "output_type": "stream",
     "text": [
      "6\n",
      "Test Set Accuracy =  0.551\n",
      "Test Set F-score =  0.537\n",
      "Test Set Precision =  0.532\n",
      "Test Set Recall =  0.548\n",
      "Confusion matrix, without normalization\n",
      "[[ 77  21   5   3  12  12]\n",
      " [ 38  47  14   6  34  14]\n",
      " [ 16  12  69   1  15  31]\n",
      " [  0   0   0 158   0   0]\n",
      " [ 11  14  15  11  91  23]\n",
      " [ 16  21  37   5  17  54]]\n"
     ]
    },
    {
     "data": {
      "image/png": "[encoded data removed]",
      "text/plain": [
       "<Figure size 432x288 with 2 Axes>"
      ]
     },
     "metadata": {
      "needs_background": "light"
     },
     "output_type": "display_data"
    }
   ],
   "source": [
    "# Predict\n",
    "pred_probs_lr_mfcc = lr_classifier_mfcc.predict_proba(X_test_mfcc)\n",
    "\n",
    "# Results\n",
    "display_results(y_test_mfcc, pred_probs_lr_mfcc)"
   ]
  },
  {
   "cell_type": "code",
   "execution_count": 140,
   "id": "b15f9ec9",
   "metadata": {
    "scrolled": true
   },
   "outputs": [
    {
     "name": "stdout",
     "output_type": "stream",
     "text": [
      "              precision    recall  f1-score   support\n",
      "\n",
      "         ang       0.49      0.59      0.53       130\n",
      "         hap       0.41      0.31      0.35       153\n",
      "         sad       0.49      0.48      0.49       144\n",
      "         fea       0.86      1.00      0.92       158\n",
      "         sur       0.54      0.55      0.54       165\n",
      "         neu       0.40      0.36      0.38       150\n",
      "\n",
      "    accuracy                           0.55       900\n",
      "   macro avg       0.53      0.55      0.54       900\n",
      "weighted avg       0.54      0.55      0.54       900\n",
      "\n"
     ]
    }
   ],
   "source": [
    "target_names = ['ang', 'hap', 'sad', 'fea', 'sur', 'neu']\n",
    "print(classification_report(y_onehot_test_mfcc.argmax(axis=1), pred_probs_lr_mfcc.argmax(axis=1), target_names=target_names))"
   ]
  },
  {
   "cell_type": "markdown",
   "id": "bf6befbf",
   "metadata": {},
   "source": [
    "## MEL\n",
    "\n",
    "We use Mel-spectrogram as input features."
   ]
  },
  {
   "cell_type": "markdown",
   "id": "45bde928",
   "metadata": {},
   "source": [
    "#### MLP Classifier"
   ]
  },
  {
   "cell_type": "code",
   "execution_count": 154,
   "id": "0f63c2bc",
   "metadata": {},
   "outputs": [
    {
     "data": {
      "text/plain": [
       "MLPClassifier(hidden_layer_sizes=(500,), learning_rate='adaptive',\n",
       "              max_iter=1000)"
      ]
     },
     "execution_count": 154,
     "metadata": {},
     "output_type": "execute_result"
    }
   ],
   "source": [
    "### MLP Classifier\n",
    "mlp_classifier_mel = MLPClassifier(hidden_layer_sizes=(500, ), activation='relu', solver='adam', alpha=0.0001,\n",
    "                               batch_size='auto', learning_rate='adaptive', learning_rate_init=0.001,\n",
    "                               power_t=0.5, max_iter=1000)\n",
    "\n",
    "mlp_classifier_mel.fit(X_train_mel, y_train_mel)"
   ]
  },
  {
   "cell_type": "code",
   "execution_count": 155,
   "id": "f9905668",
   "metadata": {},
   "outputs": [
    {
     "name": "stdout",
     "output_type": "stream",
     "text": [
      "6\n",
      "Test Set Accuracy =  0.656\n",
      "Test Set F-score =  0.633\n",
      "Test Set Precision =  0.652\n",
      "Test Set Recall =  0.652\n",
      "Confusion matrix, without normalization\n",
      "[[108   4   4   0   3  11]\n",
      " [ 42  43  28   0   6  34]\n",
      " [ 21  10  49   1   7  56]\n",
      " [  0   0   0 158   0   0]\n",
      " [ 19   0   0   0 146   0]\n",
      " [ 14  10  30   1   9  86]]\n"
     ]
    },
    {
     "data": {
      "image/png": "[encoded data removed]",
      "text/plain": [
       "<Figure size 432x288 with 2 Axes>"
      ]
     },
     "metadata": {
      "needs_background": "light"
     },
     "output_type": "display_data"
    }
   ],
   "source": [
    "# Predict\n",
    "pred_probs_mlp_mel = mlp_classifier_mel.predict_proba(X_test_mel)\n",
    "\n",
    "# Results\n",
    "display_results(y_test_mel, pred_probs_mlp_mel)"
   ]
  },
  {
   "cell_type": "code",
   "execution_count": 156,
   "id": "4734ce67",
   "metadata": {},
   "outputs": [
    {
     "name": "stdout",
     "output_type": "stream",
     "text": [
      "              precision    recall  f1-score   support\n",
      "\n",
      "         ang       0.53      0.83      0.65       130\n",
      "         hap       0.64      0.28      0.39       153\n",
      "         sad       0.44      0.34      0.38       144\n",
      "         fea       0.99      1.00      0.99       158\n",
      "         sur       0.85      0.88      0.87       165\n",
      "         neu       0.46      0.57      0.51       150\n",
      "\n",
      "    accuracy                           0.66       900\n",
      "   macro avg       0.65      0.65      0.63       900\n",
      "weighted avg       0.66      0.66      0.64       900\n",
      "\n"
     ]
    }
   ],
   "source": [
    "target_names = ['ang', 'hap', 'sad', 'fea', 'sur', 'neu']\n",
    "print(classification_report(y_onehot_test_mfcc.argmax(axis=1), pred_probs_mlp_mel.argmax(axis=1), target_names=target_names))"
   ]
  },
  {
   "cell_type": "markdown",
   "id": "1ba0c3ba",
   "metadata": {},
   "source": [
    "#### Support Vector Machines"
   ]
  },
  {
   "cell_type": "code",
   "execution_count": 168,
   "id": "59f8dcdf",
   "metadata": {},
   "outputs": [
    {
     "data": {
      "text/plain": [
       "SVC()"
      ]
     },
     "execution_count": 168,
     "metadata": {},
     "output_type": "execute_result"
    }
   ],
   "source": [
    "## SVM NON-LINEAR\n",
    "svc_classifier_mel = SVC(kernel = 'rbf')\n",
    "\n",
    "svc_classifier_mel.fit(X_train_mel, y_train_mel)"
   ]
  },
  {
   "cell_type": "code",
   "execution_count": 169,
   "id": "2320e4d8",
   "metadata": {},
   "outputs": [
    {
     "name": "stdout",
     "output_type": "stream",
     "text": [
      "6\n",
      "Test Set Accuracy =  0.577\n",
      "Test Set F-score =  0.572\n",
      "Test Set Precision =  0.584\n",
      "Test Set Recall =  0.571\n",
      "Confusion matrix, without normalization\n",
      "[[ 71  33  11   3   3   9]\n",
      " [ 30  69  19   3   5  27]\n",
      " [ 15  34  58   2   8  27]\n",
      " [  0   0   0 158   0   0]\n",
      " [ 15  27  16   4 101   2]\n",
      " [ 14  36  32   2   4  62]]\n"
     ]
    },
    {
     "data": {
      "image/png": "[encoded data removed]",
      "text/plain": [
       "<Figure size 432x288 with 2 Axes>"
      ]
     },
     "metadata": {
      "needs_background": "light"
     },
     "output_type": "display_data"
    }
   ],
   "source": [
    "# Predict\n",
    "pred = svc_classifier_mel.predict(X_test_mel)\n",
    "pred_onehot_svc_mel = np.zeros((pred.size, pred.max()+1))\n",
    "pred_onehot_svc_mel[np.arange(pred.size),pred] = 1\n",
    "\n",
    "# Results\n",
    "display_results(y_test_mel, pred_onehot_svc_mel)"
   ]
  },
  {
   "cell_type": "code",
   "execution_count": 170,
   "id": "6d291010",
   "metadata": {
    "scrolled": true
   },
   "outputs": [
    {
     "name": "stdout",
     "output_type": "stream",
     "text": [
      "              precision    recall  f1-score   support\n",
      "\n",
      "         ang       0.49      0.55      0.52       130\n",
      "         hap       0.35      0.45      0.39       153\n",
      "         sad       0.43      0.40      0.41       144\n",
      "         fea       0.92      1.00      0.96       158\n",
      "         sur       0.83      0.61      0.71       165\n",
      "         neu       0.49      0.41      0.45       150\n",
      "\n",
      "    accuracy                           0.58       900\n",
      "   macro avg       0.58      0.57      0.57       900\n",
      "weighted avg       0.59      0.58      0.58       900\n",
      "\n"
     ]
    }
   ],
   "source": [
    "target_names = ['ang', 'hap', 'sad', 'fea', 'sur', 'neu']\n",
    "print(classification_report(y_onehot_test_mfcc.argmax(axis=1), pred_onehot_svc_mel.argmax(axis=1), target_names=target_names))"
   ]
  },
  {
   "cell_type": "markdown",
   "id": "8df48e37",
   "metadata": {},
   "source": [
    "#### Logistic Regression "
   ]
  },
  {
   "cell_type": "code",
   "execution_count": 180,
   "id": "4033414d",
   "metadata": {},
   "outputs": [
    {
     "name": "stderr",
     "output_type": "stream",
     "text": [
      "/home/jupyter-reynaldo_delimajr/.local/lib/python3.7/site-packages/sklearn/utils/optimize.py:203: ConvergenceWarning: newton-cg failed to converge. Increase the number of iterations.\n",
      "  \"number of iterations.\", ConvergenceWarning)\n"
     ]
    },
    {
     "data": {
      "text/plain": [
       "LogisticRegression(max_iter=500, multi_class='multinomial', solver='newton-cg')"
      ]
     },
     "execution_count": 180,
     "metadata": {},
     "output_type": "execute_result"
    }
   ],
   "source": [
    "lr_classifier_mel = LogisticRegression(solver='newton-cg', multi_class='multinomial', max_iter=500)\n",
    "\n",
    "lr_classifier_mel.fit(X_train_mel, y_train_mel)"
   ]
  },
  {
   "cell_type": "code",
   "execution_count": 181,
   "id": "e11c14fd",
   "metadata": {},
   "outputs": [
    {
     "name": "stdout",
     "output_type": "stream",
     "text": [
      "6\n",
      "Test Set Accuracy =  0.600\n",
      "Test Set F-score =  0.582\n",
      "Test Set Precision =  0.577\n",
      "Test Set Recall =  0.592\n",
      "Confusion matrix, without normalization\n",
      "[[ 78  21  10   0  11  10]\n",
      " [ 28  58  23   4  12  28]\n",
      " [ 21  18  48   4  14  39]\n",
      " [  0   0   0 158   0   0]\n",
      " [  8  10   3   0 135   9]\n",
      " [  9  17  36   3  22  63]]\n"
     ]
    },
    {
     "data": {
      "image/png": "[encoded data removed]",
      "text/plain": [
       "<Figure size 432x288 with 2 Axes>"
      ]
     },
     "metadata": {
      "needs_background": "light"
     },
     "output_type": "display_data"
    }
   ],
   "source": [
    "# Predict\n",
    "pred_probs_lr_mel = lr_classifier_mel.predict_proba(X_test_mel)\n",
    "\n",
    "# Results\n",
    "display_results(y_test_mel, pred_probs_lr_mel)"
   ]
  },
  {
   "cell_type": "code",
   "execution_count": 182,
   "id": "0d2f1b9b",
   "metadata": {},
   "outputs": [
    {
     "name": "stdout",
     "output_type": "stream",
     "text": [
      "              precision    recall  f1-score   support\n",
      "\n",
      "         ang       0.54      0.60      0.57       130\n",
      "         hap       0.47      0.38      0.42       153\n",
      "         sad       0.40      0.33      0.36       144\n",
      "         fea       0.93      1.00      0.97       158\n",
      "         sur       0.70      0.82      0.75       165\n",
      "         neu       0.42      0.42      0.42       150\n",
      "\n",
      "    accuracy                           0.60       900\n",
      "   macro avg       0.58      0.59      0.58       900\n",
      "weighted avg       0.58      0.60      0.59       900\n",
      "\n"
     ]
    }
   ],
   "source": [
    "target_names = ['ang', 'hap', 'sad', 'fea', 'sur', 'neu']\n",
    "print(classification_report(y_onehot_test_mfcc.argmax(axis=1), pred_probs_lr_mel.argmax(axis=1), target_names=target_names))"
   ]
  },
  {
   "cell_type": "code",
   "execution_count": null,
   "id": "bb8ab494",
   "metadata": {},
   "outputs": [],
   "source": []
  }
 ],
 "metadata": {
  "kernelspec": {
   "display_name": "Python 3",
   "language": "python",
   "name": "python3"
  },
  "language_info": {
   "codemirror_mode": {
    "name": "ipython",
    "version": 3
   },
   "file_extension": ".py",
   "mimetype": "text/x-python",
   "name": "python",
   "nbconvert_exporter": "python",
   "pygments_lexer": "ipython3",
   "version": "3.7.3"
  }
 },
 "nbformat": 4,
 "nbformat_minor": 5
}
