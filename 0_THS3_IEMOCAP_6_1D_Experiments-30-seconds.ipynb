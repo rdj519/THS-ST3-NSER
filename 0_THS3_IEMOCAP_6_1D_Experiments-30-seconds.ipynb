{
 "cells": [
  {
   "cell_type": "code",
   "execution_count": 700,
   "id": "724e81be",
   "metadata": {},
   "outputs": [],
   "source": [
    "import librosa\n",
    "import numpy as np\n",
    "import os\n",
    "import pandas as pd\n",
    "import soundfile\n",
    "import sys\n",
    "import joblib\n",
    "import pandas as pd\n",
    "import numpy as np\n",
    "import xgboost as xgb\n",
    "import pickle\n",
    "import matplotlib\n",
    "import matplotlib.pyplot as plt\n",
    "from sklearn.metrics import classification_report\n",
    "from sklearn import metrics\n",
    "from sklearn.svm import SVC, LinearSVC\n",
    "from sklearn.naive_bayes import MultinomialNB\n",
    "from sklearn.linear_model import LogisticRegression\n",
    "from sklearn.ensemble import RandomForestClassifier\n",
    "from sklearn.model_selection import train_test_split\n",
    "from sklearn.neural_network import MLPClassifier\n",
    "from sklearn.metrics import confusion_matrix, f1_score, fbeta_score,accuracy_score, precision_score, recall_score\n",
    "from sklearn.preprocessing import MinMaxScaler, OneHotEncoder\n",
    "from sklearn.feature_selection import SelectFromModel\n",
    "from sklearn.utils.class_weight import compute_class_weight\n",
    "import itertools\n",
    "from IPython.display import display\n",
    "from tensorflow.keras.models import Sequential\n",
    "from tensorflow.keras import layers\n",
    "from tensorflow.keras import optimizers\n",
    "from tensorflow.keras import callbacks \n",
    "\n",
    "%matplotlib inline"
   ]
  },
  {
   "cell_type": "markdown",
   "id": "674f63c9",
   "metadata": {},
   "source": [
    "We define a function that takes a set of features per time frame and stack the mean so that the data becomes 1-Dimension."
   ]
  },
  {
   "cell_type": "code",
   "execution_count": 56,
   "id": "c87a8e0c",
   "metadata": {},
   "outputs": [],
   "source": [
    "def feature_to_1d(features):\n",
    "    result = np.array([])\n",
    "    mfcc = np.mean(features.T, axis=0)\n",
    "    result = np.hstack((result, mfcc))\n",
    "    return result"
   ]
  },
  {
   "cell_type": "markdown",
   "id": "29bbca0e",
   "metadata": {},
   "source": [
    "We import the binary files containing the original features (MFCCs, and Mel-Spectrogram) in 2D form, as well as the labels corresponding to each feature set."
   ]
  },
  {
   "cell_type": "code",
   "execution_count": 686,
   "id": "238bde0f",
   "metadata": {},
   "outputs": [],
   "source": [
    "#mel\n",
    "\n",
    "f = open('IEMOCAP_Data/Data_30_sec/X_train_mel', 'rb')\n",
    "X_train_mel = joblib.load(f)\n",
    "f.close()\n",
    "f = open('IEMOCAP_Data/Data_30_sec/X_test_mel', 'rb')\n",
    "X_test_mel = joblib.load(f)\n",
    "f.close()\n",
    "f = open('IEMOCAP_Data/Data_30_sec/y_train_mel', 'rb')\n",
    "y_train_mel = joblib.load(f)\n",
    "f.close()\n",
    "f = open('IEMOCAP_Data/Data_30_sec/y_test_mel', 'rb')\n",
    "y_test_mel = joblib.load(f)\n",
    "f.close()\n",
    "\n",
    "#mfcc\n",
    "\n",
    "f = open('IEMOCAP_Data/Data_30_sec/X_train_mfcc', 'rb')\n",
    "X_train_mfcc = joblib.load(f)\n",
    "f.close()\n",
    "f = open('IEMOCAP_Data/Data_30_sec/X_test_mfcc', 'rb')\n",
    "X_test_mfcc = joblib.load(f)\n",
    "f.close()\n",
    "f = open('IEMOCAP_Data/Data_30_sec/y_train_mfcc', 'rb')\n",
    "y_train_mfcc = joblib.load(f)\n",
    "f.close()\n",
    "f = open('IEMOCAP_Data/Data_30_sec/y_test_mfcc', 'rb')\n",
    "y_test_mfcc = joblib.load(f)\n",
    "f.close()"
   ]
  },
  {
   "cell_type": "markdown",
   "id": "035169e2",
   "metadata": {},
   "source": [
    "## Find the indices of clipped audio (test)"
   ]
  },
  {
   "cell_type": "code",
   "execution_count": 682,
   "id": "206dd54b",
   "metadata": {},
   "outputs": [
    {
     "data": {
      "text/plain": [
       "(900, 40)"
      ]
     },
     "execution_count": 682,
     "metadata": {},
     "output_type": "execute_result"
    }
   ],
   "source": [
    "X_test_mfcc.shape"
   ]
  },
  {
   "cell_type": "code",
   "execution_count": 688,
   "id": "6d31b7f0",
   "metadata": {},
   "outputs": [
    {
     "data": {
      "text/plain": [
       "1600"
      ]
     },
     "execution_count": 688,
     "metadata": {},
     "output_type": "execute_result"
    }
   ],
   "source": [
    "clipped_indices = []\n",
    "\n",
    "for i in range(900):\n",
    "    for j in range(40):\n",
    "        for k in range(313):\n",
    "            if(k == 312 and X_test_mel[i][j][k] != 0):\n",
    "                clipped_indices.append(i)\n",
    "\n",
    "len(clipped_indices)"
   ]
  },
  {
   "cell_type": "code",
   "execution_count": 687,
   "id": "fa0e85da",
   "metadata": {},
   "outputs": [
    {
     "data": {
      "text/plain": [
       "(900, 128, 872)"
      ]
     },
     "execution_count": 687,
     "metadata": {},
     "output_type": "execute_result"
    }
   ],
   "source": [
    "X_test_mel.shape"
   ]
  },
  {
   "cell_type": "code",
   "execution_count": 689,
   "id": "45f96ead",
   "metadata": {},
   "outputs": [
    {
     "data": {
      "text/plain": [
       "array([  5,  32,  37,  48,  69,  77,  80,  86, 107, 112, 116, 141, 145,\n",
       "       154, 168, 172, 204, 210, 231, 236, 330, 351, 372, 417, 419, 464,\n",
       "       482, 505, 587, 636, 693, 720, 733, 743, 756, 800, 811, 842, 852,\n",
       "       897])"
      ]
     },
     "execution_count": 689,
     "metadata": {},
     "output_type": "execute_result"
    }
   ],
   "source": [
    "x_clipped =np.array(clipped_indices)\n",
    "x_clipped =np.unique(x_clipped)\n",
    "\n",
    "x_clipped"
   ]
  },
  {
   "cell_type": "code",
   "execution_count": 690,
   "id": "f1c3d57f",
   "metadata": {},
   "outputs": [
    {
     "data": {
      "text/plain": [
       "860"
      ]
     },
     "execution_count": 690,
     "metadata": {},
     "output_type": "execute_result"
    }
   ],
   "source": [
    "x_unclipped = []\n",
    "for i in range(len(X_test_mel)):\n",
    "    if i not in x_clipped:\n",
    "        x_unclipped.append(i)\n",
    "x_unclipped = np.array(x_unclipped)\n",
    "#x_unclipped\n",
    "\n",
    "len(x_unclipped)"
   ]
  },
  {
   "cell_type": "raw",
   "id": "25450b99",
   "metadata": {},
   "source": [
    "32 + 40 = 72"
   ]
  },
  {
   "cell_type": "markdown",
   "id": "e5ed67ce",
   "metadata": {},
   "source": [
    "## Examine clipped audio in train set"
   ]
  },
  {
   "cell_type": "code",
   "execution_count": 691,
   "id": "ca98cd7e",
   "metadata": {},
   "outputs": [
    {
     "data": {
      "text/plain": [
       "32"
      ]
     },
     "execution_count": 691,
     "metadata": {},
     "output_type": "execute_result"
    }
   ],
   "source": [
    "clipped_indices_train = []\n",
    "\n",
    "for i in range(900):\n",
    "    for j in range(40):\n",
    "        for k in range(313):\n",
    "            if(k == 312 and X_train_mel[i][j][k] != 0):\n",
    "                clipped_indices_train.append(i)\n",
    "\n",
    "x_clipped_t =np.array(clipped_indices_train)\n",
    "x_clipped_t =np.unique(x_clipped_t)\n",
    "\n",
    "len(x_clipped_t)"
   ]
  },
  {
   "cell_type": "code",
   "execution_count": 692,
   "id": "e2230d49",
   "metadata": {},
   "outputs": [
    {
     "data": {
      "text/plain": [
       "40"
      ]
     },
     "execution_count": 692,
     "metadata": {},
     "output_type": "execute_result"
    }
   ],
   "source": [
    "train_labels = []\n",
    "for i in range(len(y_onehot_train_mfcc.argmax(axis=1))):\n",
    "    if i in x_clipped_t:\n",
    "        train_labels.append(y_onehot_train_mfcc.argmax(axis=1)[i])\n",
    "test_labels = []\n",
    "for i in range(len(y_onehot_test_mfcc.argmax(axis=1))):\n",
    "    if i in x_clipped:\n",
    "        test_labels.append(y_onehot_test_mfcc.argmax(axis=1)[i])\n",
    "\n",
    "len(test_labels)"
   ]
  },
  {
   "cell_type": "code",
   "execution_count": 693,
   "id": "e5756bec",
   "metadata": {},
   "outputs": [
    {
     "name": "stdout",
     "output_type": "stream",
     "text": [
      "Train: \n",
      "Counter({2: 12, 5: 9, 4: 6, 1: 3, 0: 2}) \n",
      "\n",
      "Test: \n",
      "Counter({2: 10, 1: 9, 0: 8, 4: 7, 5: 6})\n"
     ]
    }
   ],
   "source": [
    "from collections import Counter\n",
    "train = Counter(train_labels)\n",
    "test = Counter(test_labels)\n",
    "print(\"Train: \\n{} \\n\\nTest: \\n{}\".format(train, test))"
   ]
  },
  {
   "cell_type": "code",
   "execution_count": 694,
   "id": "95b119ab",
   "metadata": {},
   "outputs": [
    {
     "name": "stdout",
     "output_type": "stream",
     "text": [
      "Train count:\n",
      "Anger: 2\n",
      "Happy: 3\n",
      "Sad: 12\n",
      "Fear: 0\n",
      "Surprise: 6\n",
      "Neutral: 9\n",
      "\n"
     ]
    }
   ],
   "source": [
    "print(\"Train count:\\nAnger: {}\\nHappy: {}\\nSad: {}\\nFear: {}\\nSurprise: {}\\nNeutral: {}\\n\".format(train_labels.count(0),train_labels.count(1),train_labels.count(2),train_labels.count(3),train_labels.count(4),train_labels.count(5)))"
   ]
  },
  {
   "cell_type": "code",
   "execution_count": 695,
   "id": "7d96b774",
   "metadata": {},
   "outputs": [
    {
     "name": "stdout",
     "output_type": "stream",
     "text": [
      "Test count:\n",
      "Anger: 8\n",
      "Happy: 9\n",
      "Sad: 10\n",
      "Fear: 0\n",
      "Surprise: 7\n",
      "Neutral: 6\n",
      "\n"
     ]
    }
   ],
   "source": [
    "print(\"Test count:\\nAnger: {}\\nHappy: {}\\nSad: {}\\nFear: {}\\nSurprise: {}\\nNeutral: {}\\n\".format(test_labels.count(0),test_labels.count(1),test_labels.count(2),test_labels.count(3),test_labels.count(4),test_labels.count(5)))"
   ]
  },
  {
   "cell_type": "code",
   "execution_count": 696,
   "id": "67f5d45d",
   "metadata": {},
   "outputs": [],
   "source": [
    "dic_true_val = {}\n",
    "dic_true_val['ang'] = test_labels.count(0)\n",
    "dic_true_val['hap'] = test_labels.count(1)\n",
    "dic_true_val['sad'] = test_labels.count(2)\n",
    "dic_true_val['fea'] = test_labels.count(3)\n",
    "dic_true_val['sur'] = test_labels.count(4)\n",
    "dic_true_val['neu'] = test_labels.count(5)"
   ]
  },
  {
   "cell_type": "markdown",
   "id": "24aeaab3",
   "metadata": {},
   "source": [
    "## Unclipped audio"
   ]
  },
  {
   "cell_type": "code",
   "execution_count": 773,
   "id": "757a114e",
   "metadata": {},
   "outputs": [
    {
     "data": {
      "text/plain": [
       "32"
      ]
     },
     "execution_count": 773,
     "metadata": {},
     "output_type": "execute_result"
    }
   ],
   "source": [
    "unclipped_indices_train = []\n",
    "\n",
    "for i in range(900):\n",
    "    for j in range(40):\n",
    "        for k in range(313):\n",
    "            if(k == 312 and X_train_mel[i][j][k] != 0):\n",
    "                unclipped_indices_train.append(i)\n",
    "\n",
    "x_unclipped_t =np.array(unclipped_indices_train)\n",
    "x_unclipped_t =np.unique(x_unclipped_t)\n",
    "\n",
    "len(x_unclipped_t)"
   ]
  },
  {
   "cell_type": "code",
   "execution_count": 774,
   "id": "af2b0d7f",
   "metadata": {},
   "outputs": [
    {
     "data": {
      "text/plain": [
       "860"
      ]
     },
     "execution_count": 774,
     "metadata": {},
     "output_type": "execute_result"
    }
   ],
   "source": [
    "train_labels = []\n",
    "for i in range(len(y_onehot_train_mfcc.argmax(axis=1))):\n",
    "    if i in x_unclipped_t:\n",
    "        train_labels.append(y_onehot_train_mfcc.argmax(axis=1)[i])\n",
    "test_labels = []\n",
    "for i in range(len(y_onehot_test_mfcc.argmax(axis=1))):\n",
    "    if i in x_unclipped:\n",
    "        test_labels.append(y_onehot_test_mfcc.argmax(axis=1)[i])\n",
    "\n",
    "len(test_labels)"
   ]
  },
  {
   "cell_type": "code",
   "execution_count": 775,
   "id": "7023931c",
   "metadata": {},
   "outputs": [
    {
     "name": "stdout",
     "output_type": "stream",
     "text": [
      "Train: \n",
      "Counter({2: 12, 5: 9, 4: 6, 1: 3, 0: 2}) \n",
      "\n",
      "Test: \n",
      "Counter({3: 158, 4: 158, 5: 144, 1: 144, 2: 134, 0: 122})\n"
     ]
    }
   ],
   "source": [
    "train = Counter(train_labels)\n",
    "test = Counter(test_labels)\n",
    "print(\"Train: \\n{} \\n\\nTest: \\n{}\".format(train, test))"
   ]
  },
  {
   "cell_type": "code",
   "execution_count": 776,
   "id": "f4dd5399",
   "metadata": {
    "scrolled": true
   },
   "outputs": [
    {
     "name": "stdout",
     "output_type": "stream",
     "text": [
      "Test count:\n",
      "Anger: 122\n",
      "Happy: 144\n",
      "Sad: 134\n",
      "Fear: 158\n",
      "Surprise: 158\n",
      "Neutral: 144\n",
      "\n"
     ]
    }
   ],
   "source": [
    "print(\"Test count:\\nAnger: {}\\nHappy: {}\\nSad: {}\\nFear: {}\\nSurprise: {}\\nNeutral: {}\\n\".format(test_labels.count(0),test_labels.count(1),test_labels.count(2),test_labels.count(3),test_labels.count(4),test_labels.count(5)))"
   ]
  },
  {
   "cell_type": "code",
   "execution_count": 777,
   "id": "9252d0e2",
   "metadata": {},
   "outputs": [],
   "source": [
    "dic_true_val_unclipped = {}\n",
    "dic_true_val_unclipped['ang'] = test_labels.count(0)\n",
    "dic_true_val_unclipped['hap'] = test_labels.count(1)\n",
    "dic_true_val_unclipped['sad'] = test_labels.count(2)\n",
    "dic_true_val_unclipped['fea'] = test_labels.count(3)\n",
    "dic_true_val_unclipped['sur'] = test_labels.count(4)\n",
    "dic_true_val_unclipped['neu'] = test_labels.count(5)"
   ]
  },
  {
   "cell_type": "markdown",
   "id": "a3a6c43a",
   "metadata": {},
   "source": [
    "### Converting to 1D Data\n",
    "\n",
    "We convert the 2D features to 1D data."
   ]
  },
  {
   "cell_type": "code",
   "execution_count": 59,
   "id": "c481de2b",
   "metadata": {},
   "outputs": [],
   "source": [
    "X_train_mel_1d = []\n",
    "X_test_mel_1d = []\n",
    "X_train_mfcc_1d = []\n",
    "X_test_mfcc_1d = []"
   ]
  },
  {
   "cell_type": "code",
   "execution_count": 60,
   "id": "089a8ffe",
   "metadata": {},
   "outputs": [],
   "source": [
    "for i in range(len(X_train_mel)):\n",
    "    X_train_mel_1d.append(feature_to_1d(X_train_mel[i]))"
   ]
  },
  {
   "cell_type": "code",
   "execution_count": 61,
   "id": "ef80a612",
   "metadata": {},
   "outputs": [],
   "source": [
    "for i in range(len(X_test_mel)):\n",
    "    X_test_mel_1d.append(feature_to_1d(X_test_mel[i]))"
   ]
  },
  {
   "cell_type": "code",
   "execution_count": 62,
   "id": "c9051b06",
   "metadata": {},
   "outputs": [],
   "source": [
    "for i in range(len(X_train_mfcc)):\n",
    "    X_train_mfcc_1d.append(feature_to_1d(X_train_mfcc[i]))"
   ]
  },
  {
   "cell_type": "code",
   "execution_count": 63,
   "id": "02d472d1",
   "metadata": {},
   "outputs": [],
   "source": [
    "for i in range(len(X_test_mfcc)):\n",
    "    X_test_mfcc_1d.append(feature_to_1d(X_test_mfcc[i]))"
   ]
  },
  {
   "cell_type": "code",
   "execution_count": 64,
   "id": "8eb337f4",
   "metadata": {},
   "outputs": [],
   "source": [
    "X_train_mel = np.array(X_train_mel_1d)\n",
    "X_test_mel = np.array(X_test_mel_1d)\n",
    "X_train_mfcc = np.array(X_train_mfcc_1d)\n",
    "X_test_mfcc = np.array(X_test_mfcc_1d)"
   ]
  },
  {
   "cell_type": "code",
   "execution_count": 65,
   "id": "b7485aa2",
   "metadata": {},
   "outputs": [
    {
     "data": {
      "text/plain": [
       "(2100, 128)"
      ]
     },
     "execution_count": 65,
     "metadata": {},
     "output_type": "execute_result"
    }
   ],
   "source": [
    "X_train_mel.shape"
   ]
  },
  {
   "cell_type": "code",
   "execution_count": 66,
   "id": "ce4144a3",
   "metadata": {},
   "outputs": [
    {
     "data": {
      "text/plain": [
       "(2100, 40)"
      ]
     },
     "execution_count": 66,
     "metadata": {},
     "output_type": "execute_result"
    }
   ],
   "source": [
    "X_train_mfcc.shape"
   ]
  },
  {
   "cell_type": "markdown",
   "id": "079bba8e",
   "metadata": {},
   "source": [
    "### Transform the y data \n",
    "\n",
    "We transform the y data containing the labels into onehot-encoded form so that the models can classify the categorical accuracy and loss."
   ]
  },
  {
   "cell_type": "code",
   "execution_count": 67,
   "id": "03d15986",
   "metadata": {},
   "outputs": [],
   "source": [
    "y_onehot_train_mel = y_train_mel\n",
    "y_onehot_test_mel = y_test_mel\n",
    "\n",
    "y_onehot_train_mfcc = y_train_mfcc\n",
    "y_onehot_test_mfcc = y_test_mfcc"
   ]
  },
  {
   "cell_type": "code",
   "execution_count": 68,
   "id": "f18c5fe5",
   "metadata": {},
   "outputs": [],
   "source": [
    "y_onehot_train_mel = pd.get_dummies(y_onehot_train_mel)\n",
    "y_onehot_test_mel = pd.get_dummies(y_onehot_test_mel)\n",
    "\n",
    "y_onehot_train_mfcc = pd.get_dummies(y_onehot_train_mfcc)\n",
    "y_onehot_test_mfcc = pd.get_dummies(y_onehot_test_mfcc)"
   ]
  },
  {
   "cell_type": "code",
   "execution_count": 69,
   "id": "9e16d242",
   "metadata": {},
   "outputs": [],
   "source": [
    "y_onehot_train_mel = np.asarray(y_onehot_train_mel).astype('int8')\n",
    "y_onehot_test_mel  = np.asarray(y_onehot_test_mel).astype('int8')\n",
    "\n",
    "y_onehot_train_mfcc = np.asarray(y_onehot_train_mfcc).astype('int8')\n",
    "y_onehot_test_mfcc  = np.asarray(y_onehot_test_mfcc).astype('int8')"
   ]
  },
  {
   "cell_type": "markdown",
   "id": "d8e5ac2c",
   "metadata": {},
   "source": [
    "Import libraries needed for defining the models."
   ]
  },
  {
   "cell_type": "code",
   "execution_count": 70,
   "id": "9193a1f0",
   "metadata": {},
   "outputs": [],
   "source": [
    "import segmentation_models as sm\n",
    "import numpy as np\n",
    "import matplotlib.pyplot as plt\n",
    "import tensorflow as tf\n",
    "from tensorflow.keras.preprocessing import sequence\n",
    "from tensorflow.keras.models import Sequential\n",
    "from tensorflow.keras.layers import Dense, Embedding\n",
    "from tensorflow.keras.utils import to_categorical\n",
    "from tensorflow.keras.layers import Input, Flatten, Dropout, Activation\n",
    "from tensorflow.keras.layers import Conv1D, MaxPooling1D, Lambda, GlobalMaxPooling1D, Concatenate, BatchNormalization, LSTM, Reshape, Conv2D, MaxPooling2D\n",
    "from tensorflow.keras.models import Model\n",
    "from tensorflow.keras.callbacks import ModelCheckpoint\n",
    "from keras_self_attention import SeqSelfAttention\n",
    "from tensorflow.keras.regularizers import l2"
   ]
  },
  {
   "cell_type": "code",
   "execution_count": 71,
   "id": "4c31f3f2",
   "metadata": {},
   "outputs": [
    {
     "data": {
      "text/plain": [
       "(2100, 40)"
      ]
     },
     "execution_count": 71,
     "metadata": {},
     "output_type": "execute_result"
    }
   ],
   "source": [
    "X_train_mfcc.shape"
   ]
  },
  {
   "cell_type": "code",
   "execution_count": 72,
   "id": "6f260420",
   "metadata": {},
   "outputs": [],
   "source": [
    "y_train_mfcc = np.asarray(y_train_mfcc)"
   ]
  },
  {
   "cell_type": "markdown",
   "id": "57a24517",
   "metadata": {},
   "source": [
    "Expand the dimensions for the training and testing data so that it can be used for the neural networks."
   ]
  },
  {
   "cell_type": "code",
   "execution_count": 73,
   "id": "375b07df",
   "metadata": {},
   "outputs": [],
   "source": [
    "X_traincnn_mfcc = np.expand_dims(X_train_mfcc, axis = 2)\n",
    "X_testcnn_mfcc = np.expand_dims(X_test_mfcc, axis = 2)\n",
    "X_traincnn_mel = np.expand_dims(X_train_mel, axis = 2)\n",
    "X_testcnn_mel = np.expand_dims(X_test_mel, axis = 2)"
   ]
  },
  {
   "cell_type": "markdown",
   "id": "4b6844e4",
   "metadata": {},
   "source": [
    "#### We define some functions for training and testing"
   ]
  },
  {
   "cell_type": "code",
   "execution_count": 74,
   "id": "fb90aca2",
   "metadata": {},
   "outputs": [],
   "source": [
    "import tensorflow as tf\n",
    "import tensorflow.keras.backend as K\n",
    "\n",
    "def f1_loss(y_true, y_pred):\n",
    "\n",
    "    tp = K.sum(K.cast(y_true*y_pred, 'float'), axis=0)\n",
    "    tn = K.sum(K.cast((1-y_true)*(1-y_pred), 'float'), axis=0)\n",
    "    fp = K.sum(K.cast((1-y_true)*y_pred, 'float'), axis=0)\n",
    "    fn = K.sum(K.cast(y_true*(1-y_pred), 'float'), axis=0)\n",
    "\n",
    "    p = tp / (tp + fp + K.epsilon())\n",
    "    r = tp / (tp + fn + K.epsilon())\n",
    "\n",
    "    f1 = 2*p*r / (p+r+K.epsilon())\n",
    "    f1 = tf.where(tf.math.is_nan(f1), tf.zeros_like(f1), f1)\n",
    "    return 1 - K.mean(f1)"
   ]
  },
  {
   "cell_type": "code",
   "execution_count": 697,
   "id": "935b13ef",
   "metadata": {},
   "outputs": [],
   "source": [
    "def print_index(y_true, y_pred):\n",
    "    #['ang', 'hap', 'sad', 'fea', 'sur', 'neu']\n",
    "    correct_instances_index = [] #indices of correct predictions\n",
    "    for i in range(len(y_pred)):\n",
    "        if(y_true[i] == y_pred[i]):\n",
    "            correct_instances_index.append(i)\n",
    "            \n",
    "    return correct_instances_index\n",
    "def print_labels(y_true, y_pred):\n",
    "    #['ang', 'hap', 'sad', 'fea', 'sur', 'neu']\n",
    "    correct_instances_label = [] #labels of correct predictions\n",
    "    for i in range(len(y_pred)):\n",
    "        if(y_true[i] == y_pred[i]):\n",
    "            correct_instances_label.append(y_pred[i])\n",
    "            \n",
    "    return correct_instances_label"
   ]
  },
  {
   "cell_type": "code",
   "execution_count": 698,
   "id": "f5175d50",
   "metadata": {},
   "outputs": [],
   "source": [
    "def count_label(x):\n",
    "    ang = 0\n",
    "    hap = 0\n",
    "    sad = 0\n",
    "    fea = 0\n",
    "    sur = 0\n",
    "    neu = 0\n",
    "    \n",
    "    dic = {}\n",
    "    #my_dict['name']='Nick'\n",
    "    for i in range(len(x)):\n",
    "        if(x[i]==0):\n",
    "            ang += 1\n",
    "        elif(x[i]==1):\n",
    "            hap += 1\n",
    "        elif(x[i]==2):\n",
    "            sad += 1\n",
    "        elif(x[i]==3):\n",
    "            fea += 1\n",
    "        elif(x[i]==4):\n",
    "            sur += 1\n",
    "        elif(x[i]==5):\n",
    "            neu += 1\n",
    "    dic['ang'] = ang\n",
    "    dic['hap'] = hap\n",
    "    dic['sad'] = sad\n",
    "    dic['fea'] = fea\n",
    "    dic['sur'] = sur\n",
    "    dic['neu'] = neu\n",
    "    \n",
    "    return dic"
   ]
  },
  {
   "cell_type": "code",
   "execution_count": 75,
   "id": "779c1ea2",
   "metadata": {},
   "outputs": [],
   "source": [
    "checkpoint_path = 'IEMOCAP_Data/Weights/best_weights.hdf5'\n",
    "\n",
    "#-> Save the best weights\n",
    "mcp_save = callbacks.ModelCheckpoint(checkpoint_path, save_best_only=True,\n",
    "                           monitor='val_categorical_accuracy',\n",
    "                           mode='max')\n",
    "#-> Reduce learning rate after 100 epoches without improvement.\n",
    "rlrop = callbacks.ReduceLROnPlateau(monitor='val_categorical_accuracy', \n",
    "                                    factor=0.1, patience=100)"
   ]
  },
  {
   "cell_type": "markdown",
   "id": "2cdfc6ac",
   "metadata": {},
   "source": [
    "### TDNN\n",
    "\n",
    "We define the Time Delay Neural Netowrk Model. The model is based on a TDNN model used for flood prediction presented on ESoWC 2019 (MATHIW - Machine Learning Techniques for High Impact Weather) by Kugler & Lehner (https://github.com/MATEHIW-project)."
   ]
  },
  {
   "cell_type": "code",
   "execution_count": 597,
   "id": "69fb60da",
   "metadata": {},
   "outputs": [],
   "source": [
    "from sklearn.pipeline import Pipeline\n",
    "from sklearn.preprocessing import StandardScaler\n",
    "from tensorflow.keras.layers import Dropout\n",
    "from tensorflow.keras.constraints import MinMaxNorm, NonNeg\n",
    "\n",
    "\n",
    "def add_time(vector, time, name=None):\n",
    "    \"\"\"Converts numpy arrays to xarrays with a time coordinate.\n",
    "\n",
    "    Parameters\n",
    "    ----------\n",
    "    vector : np.array\n",
    "        1-dimensional array of predictions\n",
    "    time : xr.DataArray\n",
    "        the return value of `Xda.time`\n",
    "\n",
    "    Returns\n",
    "    -------\n",
    "    xr.DataArray\n",
    "    \"\"\"\n",
    "    return xr.DataArray(vector, dims=('time'), coords={'time': time}, name=name)\n",
    "\n",
    "\n",
    "class DenseNN(object):\n",
    "    def __init__(self, **kwargs):\n",
    "        self.xscaler = StandardScaler()\n",
    "        self.yscaler = StandardScaler()\n",
    "        \n",
    "        \n",
    "        model = Sequential()\n",
    "        self.cfg = kwargs\n",
    "        \n",
    "        hidden_nodes = self.cfg.get('hidden_nodes')\n",
    "        input_shape = self.cfg.get('input_shape')\n",
    "        self.epoch = self.cfg.get('epochs')\n",
    "        self.batch_size = self.cfg.get('batch_size')\n",
    "        \n",
    "        \n",
    "\n",
    "        model.add(layers.Input(shape=(input_shape, 1)))\n",
    "        model.add(Dense(hidden_nodes[0], \n",
    "                                activation='relu'))\n",
    "        model.add(BatchNormalization())\n",
    "        model.add(Dropout(self.cfg.get('dropout', None)))\n",
    "        \n",
    "        for n in hidden_nodes[1:]:\n",
    "            model.add(Dense(n, activation='relu')) \n",
    "            model.add(BatchNormalization())\n",
    "            model.add(Dropout(self.cfg.get('dropout', None)))\n",
    "        model.add(Flatten())\n",
    "        model.add(Dense(6, activation='softmax'))\n",
    "        opt = tf.keras.optimizers.Adam(lr=0.0005) \n",
    "        \n",
    "        #opt2 = tf.keras.optimizers.SGD(lr=0.0005)\n",
    "        model.compile(loss='categorical_crossentropy',\n",
    "              optimizer= opt,\n",
    "              metrics=['categorical_accuracy', f1_loss])\n",
    "        self.model = model\n",
    "\n",
    "        self.callbacks = [tf.keras.callbacks.EarlyStopping(monitor='val_loss',\n",
    "                            min_delta=1e-2, patience=100, verbose=0, mode='auto',\n",
    "                            baseline=None, restore_best_weights=True),]\n",
    "    \n",
    "    def score_func(self, X, y):\n",
    "        \"\"\"Calculate the RMS error\n",
    "        \n",
    "        Parameters\n",
    "        ----------\n",
    "        xr.DataArrays\n",
    "        \"\"\"\n",
    "        ypred = self.predict(X)\n",
    "        err_pred = ypred - y\n",
    "        \n",
    "        # NaNs do not contribute to error\n",
    "        err_pred = err_pred.where(~np.isnan(err_pred), 0.)  \n",
    "        return float(np.sqrt(xr.dot(err_pred, err_pred)))\n",
    "        \n",
    "    def predict(self, Xda, name=None):\n",
    "        \"\"\"Input and Output: xr.DataArray\n",
    "        \n",
    "        Parameters\n",
    "        ----------\n",
    "        Xda : xr.DataArray\n",
    "            with coordinates (time,)\n",
    "        \"\"\"\n",
    "        #X = self.xscaler.transform(Xda.values)\n",
    "        #y = self.model.predict(X).squeeze()\n",
    "        #y = self.yscaler.inverse_transform(y)\n",
    "        \n",
    "        #y = add_time(y, Xda.time, name=name)\n",
    "        return self.model.predict(Xda)\n",
    "\n",
    "    def evaluate(self, X, y):\n",
    "        return self.model.evaluate(X, y)\n",
    "    \n",
    "    def fit(self, X_train, y_train, X_valid, y_valid, **kwargs):\n",
    "        \"\"\"\n",
    "        Input: xr.DataArray\n",
    "        Output: None\n",
    "        \"\"\"\n",
    "        \n",
    "        #print(X_train.shape)\n",
    "        #X_train = self.xscaler.fit_transform(X_train)\n",
    "        #y_train = self.yscaler.fit_transform(\n",
    "                        #y_train.reshape(-1, 6))\n",
    "        \n",
    "        #X_valid = self.xscaler.transform(X_valid)\n",
    "        #y_valid = self.yscaler.transform(y_valid.reshape(-1, 6))\n",
    "        \n",
    "        return self.model.fit(X_train, y_train,\n",
    "                              validation_data=(X_valid, y_valid), \n",
    "                              epochs=self.epoch,\n",
    "                              batch_size=self.batch_size, **kwargs)\n",
    "    def predict_classes(X):\n",
    "        return model.predict_classes(X)\n",
    "    \n",
    "    def summary(self):\n",
    "        return self.model.summary()"
   ]
  },
  {
   "cell_type": "markdown",
   "id": "a4093c52",
   "metadata": {},
   "source": [
    "#### MFCC\n",
    "\n",
    "We use MFCC as input features."
   ]
  },
  {
   "cell_type": "code",
   "execution_count": 462,
   "id": "49b1d1b7",
   "metadata": {},
   "outputs": [],
   "source": [
    "X_train_mfcc_np = np.array(X_train_mfcc)\n",
    "X_test_mfcc_np = np.array(X_test_mfcc)\n",
    "y_train_mfcc_np = np.array(y_train_mfcc)\n",
    "y_test_mfcc_np = np.array(y_test_mfcc)"
   ]
  },
  {
   "cell_type": "code",
   "execution_count": 463,
   "id": "f93a4168",
   "metadata": {},
   "outputs": [
    {
     "data": {
      "text/plain": [
       "(900, 40)"
      ]
     },
     "execution_count": 463,
     "metadata": {},
     "output_type": "execute_result"
    }
   ],
   "source": [
    "X_test_mfcc_np.shape"
   ]
  },
  {
   "cell_type": "code",
   "execution_count": 464,
   "id": "0f80241a",
   "metadata": {},
   "outputs": [
    {
     "name": "stdout",
     "output_type": "stream",
     "text": [
      "(2100, 40)\n",
      "(900, 40)\n",
      "(2100, 6)\n",
      "(900, 6)\n"
     ]
    }
   ],
   "source": [
    "print(X_train_mfcc_np.shape)\n",
    "print(X_test_mfcc_np.shape)\n",
    "print(y_onehot_train_mfcc.shape)\n",
    "print(y_onehot_test_mfcc.shape)"
   ]
  },
  {
   "cell_type": "code",
   "execution_count": 671,
   "id": "7bc2e415",
   "metadata": {},
   "outputs": [
    {
     "name": "stdout",
     "output_type": "stream",
     "text": [
      "Epoch 1/35\n",
      "42/42 [==============================] - 2s 20ms/step - loss: 2.5010 - categorical_accuracy: 0.1956 - f1_loss: 0.8305 - val_loss: 1.7871 - val_categorical_accuracy: 0.1900 - val_f1_loss: 0.8338\n",
      "Epoch 2/35\n",
      "42/42 [==============================] - 1s 13ms/step - loss: 2.1729 - categorical_accuracy: 0.2116 - f1_loss: 0.8132 - val_loss: 1.7538 - val_categorical_accuracy: 0.2333 - val_f1_loss: 0.8279\n",
      "Epoch 3/35\n",
      "42/42 [==============================] - 1s 13ms/step - loss: 1.8959 - categorical_accuracy: 0.2831 - f1_loss: 0.7747 - val_loss: 1.7397 - val_categorical_accuracy: 0.2367 - val_f1_loss: 0.8235\n",
      "Epoch 4/35\n",
      "42/42 [==============================] - 1s 13ms/step - loss: 1.7540 - categorical_accuracy: 0.3188 - f1_loss: 0.7515 - val_loss: 1.7112 - val_categorical_accuracy: 0.3422 - val_f1_loss: 0.8157\n",
      "Epoch 5/35\n",
      "42/42 [==============================] - 1s 13ms/step - loss: 1.6653 - categorical_accuracy: 0.3261 - f1_loss: 0.7392 - val_loss: 1.6997 - val_categorical_accuracy: 0.2922 - val_f1_loss: 0.8085\n",
      "Epoch 6/35\n",
      "42/42 [==============================] - 1s 13ms/step - loss: 1.5388 - categorical_accuracy: 0.4093 - f1_loss: 0.7082 - val_loss: 1.6270 - val_categorical_accuracy: 0.3311 - val_f1_loss: 0.7906\n",
      "Epoch 7/35\n",
      "42/42 [==============================] - 1s 12ms/step - loss: 1.4924 - categorical_accuracy: 0.4208 - f1_loss: 0.6895 - val_loss: 1.5642 - val_categorical_accuracy: 0.3944 - val_f1_loss: 0.7714\n",
      "Epoch 8/35\n",
      "42/42 [==============================] - 1s 13ms/step - loss: 1.4459 - categorical_accuracy: 0.4232 - f1_loss: 0.6820 - val_loss: 1.5119 - val_categorical_accuracy: 0.4200 - val_f1_loss: 0.7515\n",
      "Epoch 9/35\n",
      "42/42 [==============================] - 1s 12ms/step - loss: 1.3647 - categorical_accuracy: 0.4578 - f1_loss: 0.6585 - val_loss: 1.4321 - val_categorical_accuracy: 0.4611 - val_f1_loss: 0.7275\n",
      "Epoch 10/35\n",
      "42/42 [==============================] - 1s 12ms/step - loss: 1.2972 - categorical_accuracy: 0.5027 - f1_loss: 0.6363 - val_loss: 1.3353 - val_categorical_accuracy: 0.4789 - val_f1_loss: 0.6953\n",
      "Epoch 11/35\n",
      "42/42 [==============================] - 1s 13ms/step - loss: 1.2816 - categorical_accuracy: 0.5065 - f1_loss: 0.6239 - val_loss: 1.2633 - val_categorical_accuracy: 0.5156 - val_f1_loss: 0.6690\n",
      "Epoch 12/35\n",
      "42/42 [==============================] - 1s 13ms/step - loss: 1.3192 - categorical_accuracy: 0.4754 - f1_loss: 0.6358 - val_loss: 1.2169 - val_categorical_accuracy: 0.5211 - val_f1_loss: 0.6484\n",
      "Epoch 13/35\n",
      "42/42 [==============================] - 1s 13ms/step - loss: 1.2561 - categorical_accuracy: 0.4989 - f1_loss: 0.6231 - val_loss: 1.1691 - val_categorical_accuracy: 0.5433 - val_f1_loss: 0.6280\n",
      "Epoch 14/35\n",
      "42/42 [==============================] - 1s 13ms/step - loss: 1.2547 - categorical_accuracy: 0.5197 - f1_loss: 0.6169 - val_loss: 1.1324 - val_categorical_accuracy: 0.5711 - val_f1_loss: 0.6127\n",
      "Epoch 15/35\n",
      "42/42 [==============================] - 1s 12ms/step - loss: 1.1979 - categorical_accuracy: 0.5315 - f1_loss: 0.5993 - val_loss: 1.1209 - val_categorical_accuracy: 0.5556 - val_f1_loss: 0.6022\n",
      "Epoch 16/35\n",
      "42/42 [==============================] - 1s 13ms/step - loss: 1.2046 - categorical_accuracy: 0.5284 - f1_loss: 0.6059 - val_loss: 1.0982 - val_categorical_accuracy: 0.5722 - val_f1_loss: 0.5906\n",
      "Epoch 17/35\n",
      "42/42 [==============================] - 1s 21ms/step - loss: 1.1886 - categorical_accuracy: 0.5379 - f1_loss: 0.5928 - val_loss: 1.0889 - val_categorical_accuracy: 0.5800 - val_f1_loss: 0.5864\n",
      "Epoch 18/35\n",
      "42/42 [==============================] - 1s 13ms/step - loss: 1.1945 - categorical_accuracy: 0.5284 - f1_loss: 0.5913 - val_loss: 1.0937 - val_categorical_accuracy: 0.5822 - val_f1_loss: 0.5812\n",
      "Epoch 19/35\n",
      "42/42 [==============================] - 1s 13ms/step - loss: 1.1764 - categorical_accuracy: 0.5317 - f1_loss: 0.5937 - val_loss: 1.0847 - val_categorical_accuracy: 0.5778 - val_f1_loss: 0.5753\n",
      "Epoch 20/35\n",
      "42/42 [==============================] - 1s 13ms/step - loss: 1.1794 - categorical_accuracy: 0.5484 - f1_loss: 0.5853 - val_loss: 1.0764 - val_categorical_accuracy: 0.5767 - val_f1_loss: 0.5768\n",
      "Epoch 21/35\n",
      "42/42 [==============================] - 1s 12ms/step - loss: 1.0723 - categorical_accuracy: 0.6046 - f1_loss: 0.5636 - val_loss: 1.0695 - val_categorical_accuracy: 0.5744 - val_f1_loss: 0.5758\n",
      "Epoch 22/35\n",
      "42/42 [==============================] - 1s 13ms/step - loss: 1.1488 - categorical_accuracy: 0.5504 - f1_loss: 0.5778 - val_loss: 1.0561 - val_categorical_accuracy: 0.5844 - val_f1_loss: 0.5673\n",
      "Epoch 23/35\n",
      "42/42 [==============================] - 1s 12ms/step - loss: 1.1096 - categorical_accuracy: 0.5684 - f1_loss: 0.5701 - val_loss: 1.0570 - val_categorical_accuracy: 0.5822 - val_f1_loss: 0.5636\n",
      "Epoch 24/35\n",
      "42/42 [==============================] - 1s 12ms/step - loss: 1.1175 - categorical_accuracy: 0.5700 - f1_loss: 0.5695 - val_loss: 1.0480 - val_categorical_accuracy: 0.5900 - val_f1_loss: 0.5623\n",
      "Epoch 25/35\n",
      "42/42 [==============================] - 1s 12ms/step - loss: 1.0845 - categorical_accuracy: 0.5642 - f1_loss: 0.5690 - val_loss: 1.0465 - val_categorical_accuracy: 0.5767 - val_f1_loss: 0.5598\n",
      "Epoch 26/35\n",
      "42/42 [==============================] - 1s 12ms/step - loss: 1.0893 - categorical_accuracy: 0.5789 - f1_loss: 0.5609 - val_loss: 1.0487 - val_categorical_accuracy: 0.5867 - val_f1_loss: 0.5586\n",
      "Epoch 27/35\n",
      "42/42 [==============================] - 1s 13ms/step - loss: 1.1254 - categorical_accuracy: 0.5557 - f1_loss: 0.5643 - val_loss: 1.0419 - val_categorical_accuracy: 0.5900 - val_f1_loss: 0.5579\n",
      "Epoch 28/35\n",
      "42/42 [==============================] - 1s 13ms/step - loss: 1.1093 - categorical_accuracy: 0.5679 - f1_loss: 0.5616 - val_loss: 1.0431 - val_categorical_accuracy: 0.5756 - val_f1_loss: 0.5535\n",
      "Epoch 29/35\n",
      "42/42 [==============================] - 1s 12ms/step - loss: 1.1096 - categorical_accuracy: 0.5667 - f1_loss: 0.5583 - val_loss: 1.0319 - val_categorical_accuracy: 0.5889 - val_f1_loss: 0.5518\n",
      "Epoch 30/35\n",
      "42/42 [==============================] - 1s 13ms/step - loss: 1.0739 - categorical_accuracy: 0.5708 - f1_loss: 0.5502 - val_loss: 1.0360 - val_categorical_accuracy: 0.5833 - val_f1_loss: 0.5549\n",
      "Epoch 31/35\n",
      "42/42 [==============================] - 1s 13ms/step - loss: 1.0555 - categorical_accuracy: 0.5915 - f1_loss: 0.5477 - val_loss: 1.0271 - val_categorical_accuracy: 0.5878 - val_f1_loss: 0.5479\n",
      "Epoch 32/35\n",
      "42/42 [==============================] - 1s 13ms/step - loss: 1.0838 - categorical_accuracy: 0.5763 - f1_loss: 0.5493 - val_loss: 1.0288 - val_categorical_accuracy: 0.5867 - val_f1_loss: 0.5492\n",
      "Epoch 33/35\n",
      "42/42 [==============================] - 1s 13ms/step - loss: 1.0570 - categorical_accuracy: 0.5837 - f1_loss: 0.5496 - val_loss: 1.0269 - val_categorical_accuracy: 0.5956 - val_f1_loss: 0.5448\n",
      "Epoch 34/35\n",
      "42/42 [==============================] - 1s 13ms/step - loss: 1.0841 - categorical_accuracy: 0.5818 - f1_loss: 0.5477 - val_loss: 1.0262 - val_categorical_accuracy: 0.6011 - val_f1_loss: 0.5496\n",
      "Epoch 35/35\n",
      "42/42 [==============================] - 1s 13ms/step - loss: 1.0962 - categorical_accuracy: 0.5670 - f1_loss: 0.5553 - val_loss: 1.0200 - val_categorical_accuracy: 0.6011 - val_f1_loss: 0.5431\n"
     ]
    }
   ],
   "source": [
    "config = dict(hidden_nodes=(64, 32,16),  \n",
    "                input_shape=40,\n",
    "                dropout=0.25,\n",
    "                epochs=35,\n",
    "                batch_size=50)\n",
    "\n",
    "m_2 = DenseNN(**config)\n",
    "\n",
    "hist_2 = m_2.fit(X_traincnn_mfcc, y_onehot_train_mfcc, X_testcnn_mfcc, y_onehot_test_mfcc)"
   ]
  },
  {
   "cell_type": "code",
   "execution_count": 672,
   "id": "f5c0e723",
   "metadata": {},
   "outputs": [
    {
     "name": "stdout",
     "output_type": "stream",
     "text": [
      "Model: \"sequential_108\"\n",
      "_________________________________________________________________\n",
      "Layer (type)                 Output Shape              Param #   \n",
      "=================================================================\n",
      "dense_317 (Dense)            (None, 40, 64)            128       \n",
      "_________________________________________________________________\n",
      "batch_normalization_242 (Bat (None, 40, 64)            256       \n",
      "_________________________________________________________________\n",
      "dropout_297 (Dropout)        (None, 40, 64)            0         \n",
      "_________________________________________________________________\n",
      "dense_318 (Dense)            (None, 40, 32)            2080      \n",
      "_________________________________________________________________\n",
      "batch_normalization_243 (Bat (None, 40, 32)            128       \n",
      "_________________________________________________________________\n",
      "dropout_298 (Dropout)        (None, 40, 32)            0         \n",
      "_________________________________________________________________\n",
      "dense_319 (Dense)            (None, 40, 16)            528       \n",
      "_________________________________________________________________\n",
      "batch_normalization_244 (Bat (None, 40, 16)            64        \n",
      "_________________________________________________________________\n",
      "dropout_299 (Dropout)        (None, 40, 16)            0         \n",
      "_________________________________________________________________\n",
      "flatten_30 (Flatten)         (None, 640)               0         \n",
      "_________________________________________________________________\n",
      "dense_320 (Dense)            (None, 6)                 3846      \n",
      "=================================================================\n",
      "Total params: 7,030\n",
      "Trainable params: 6,806\n",
      "Non-trainable params: 224\n",
      "_________________________________________________________________\n"
     ]
    }
   ],
   "source": [
    "m_2.summary()"
   ]
  },
  {
   "cell_type": "code",
   "execution_count": 673,
   "id": "ea6cfe88",
   "metadata": {},
   "outputs": [
    {
     "data": {
      "image/png": "[encoded data removed]",
      "text/plain": [
       "<Figure size 432x288 with 1 Axes>"
      ]
     },
     "metadata": {
      "needs_background": "light"
     },
     "output_type": "display_data"
    },
    {
     "data": {
      "image/png": "[encoded data removed]",
      "text/plain": [
       "<Figure size 432x288 with 1 Axes>"
      ]
     },
     "metadata": {
      "needs_background": "light"
     },
     "output_type": "display_data"
    }
   ],
   "source": [
    "plt.plot(hist_2.history['categorical_accuracy'])\n",
    "plt.plot(hist_2.history['val_categorical_accuracy'])\n",
    "plt.title('model accuracy')\n",
    "plt.ylabel('accuracy')\n",
    "plt.xlabel('epoch')\n",
    "plt.legend(['train', 'test'], loc='upper left')\n",
    "plt.show()\n",
    "# summarize history for loss\n",
    "plt.plot(hist_2.history['loss'])\n",
    "plt.plot(hist_2.history['val_loss'])\n",
    "plt.title('model loss')\n",
    "plt.ylabel('loss')\n",
    "plt.xlabel('epoch')\n",
    "plt.legend(['train', 'test'], loc='upper left')\n",
    "plt.show()"
   ]
  },
  {
   "cell_type": "code",
   "execution_count": 701,
   "id": "92c91834",
   "metadata": {},
   "outputs": [
    {
     "name": "stdout",
     "output_type": "stream",
     "text": [
      "29/29 [==============================] - 0s 4ms/step - loss: 1.0200 - categorical_accuracy: 0.6011 - f1_loss: 0.5521\n",
      "Restored model, accuracy: 60.11%\n"
     ]
    }
   ],
   "source": [
    "loss, acc, f1_score = m_2.evaluate(X_testcnn_mfcc, y_onehot_test_mfcc)\n",
    "print(\"Restored model, accuracy: {:5.2f}%\".format(100*acc))"
   ]
  },
  {
   "cell_type": "code",
   "execution_count": 783,
   "id": "3a92524d",
   "metadata": {},
   "outputs": [
    {
     "name": "stdout",
     "output_type": "stream",
     "text": [
      "Confusion matrix, without normalization\n",
      "[[ 70  30   8   0   7  15]\n",
      " [ 31  67  16   2  19  18]\n",
      " [ 14  18  63   2  17  30]\n",
      " [  0   0   0 158   0   0]\n",
      " [  4  12  10   4 115  20]\n",
      " [ 10  24  30   2  16  68]]\n"
     ]
    },
    {
     "data": {
      "image/png": "[encoded data removed]",
      "text/plain": [
       "<Figure size 432x288 with 2 Axes>"
      ]
     },
     "metadata": {
      "needs_background": "light"
     },
     "output_type": "display_data"
    }
   ],
   "source": [
    "y_pred = m_2.predict(X_testcnn_mfcc)\n",
    "matrix = metrics.confusion_matrix(y_onehot_test_mfcc.argmax(axis=1), y_pred.argmax(axis=1))\n",
    "emo_keys = list(['ang', 'hap', 'sad', 'fea', 'sur', 'neu'])\n",
    "plot_confusion_matrix(matrix, classes=emo_keys)"
   ]
  },
  {
   "cell_type": "code",
   "execution_count": 784,
   "id": "383f5434",
   "metadata": {},
   "outputs": [
    {
     "name": "stdout",
     "output_type": "stream",
     "text": [
      "              precision    recall  f1-score   support\n",
      "\n",
      "         ang       0.54      0.54      0.54       130\n",
      "         hap       0.44      0.44      0.44       153\n",
      "         sad       0.50      0.44      0.46       144\n",
      "         fea       0.94      1.00      0.97       158\n",
      "         sur       0.66      0.70      0.68       165\n",
      "         neu       0.45      0.45      0.45       150\n",
      "\n",
      "    accuracy                           0.60       900\n",
      "   macro avg       0.59      0.59      0.59       900\n",
      "weighted avg       0.59      0.60      0.60       900\n",
      "\n"
     ]
    }
   ],
   "source": [
    "target_names = ['ang', 'hap', 'sad', 'fea', 'sur', 'neu']\n",
    "print(classification_report(y_onehot_test_mfcc.argmax(axis=1), y_pred.argmax(axis=1), target_names=target_names))"
   ]
  },
  {
   "cell_type": "markdown",
   "id": "c426ce56",
   "metadata": {},
   "source": [
    "#### MEL\n",
    "\n",
    "We use Mel-Spectrogram as input features."
   ]
  },
  {
   "cell_type": "code",
   "execution_count": 607,
   "id": "418cdd18",
   "metadata": {},
   "outputs": [],
   "source": [
    "X_train_mel_np = np.array(X_train_mel)\n",
    "X_test_mel_np = np.array(X_test_mel)\n",
    "y_train_mel_np = np.array(y_train_mel)\n",
    "y_test_mel_np = np.array(y_test_mel)"
   ]
  },
  {
   "cell_type": "code",
   "execution_count": 623,
   "id": "b9ded256",
   "metadata": {},
   "outputs": [
    {
     "name": "stdout",
     "output_type": "stream",
     "text": [
      "Epoch 1/60\n",
      "42/42 [==============================] - 4s 46ms/step - loss: 2.4606 - categorical_accuracy: 0.1914 - f1_loss: 0.8218 - val_loss: 1.7226 - val_categorical_accuracy: 0.2844 - val_f1_loss: 0.7680\n",
      "Epoch 2/60\n",
      "42/42 [==============================] - 2s 38ms/step - loss: 1.9965 - categorical_accuracy: 0.2805 - f1_loss: 0.7621 - val_loss: 1.6034 - val_categorical_accuracy: 0.3656 - val_f1_loss: 0.7409\n",
      "Epoch 3/60\n",
      "42/42 [==============================] - 1s 28ms/step - loss: 1.8285 - categorical_accuracy: 0.3390 - f1_loss: 0.7250 - val_loss: 1.5030 - val_categorical_accuracy: 0.4100 - val_f1_loss: 0.7200\n",
      "Epoch 4/60\n",
      "42/42 [==============================] - 1s 36ms/step - loss: 1.6313 - categorical_accuracy: 0.3874 - f1_loss: 0.6843 - val_loss: 1.4351 - val_categorical_accuracy: 0.4478 - val_f1_loss: 0.6997\n",
      "Epoch 5/60\n",
      "42/42 [==============================] - 2s 37ms/step - loss: 1.5712 - categorical_accuracy: 0.4248 - f1_loss: 0.6695 - val_loss: 1.3487 - val_categorical_accuracy: 0.4867 - val_f1_loss: 0.6750\n",
      "Epoch 6/60\n",
      "42/42 [==============================] - 1s 36ms/step - loss: 1.5256 - categorical_accuracy: 0.4132 - f1_loss: 0.6569 - val_loss: 1.3070 - val_categorical_accuracy: 0.5100 - val_f1_loss: 0.6514\n",
      "Epoch 7/60\n",
      "42/42 [==============================] - 1s 32ms/step - loss: 1.3349 - categorical_accuracy: 0.4903 - f1_loss: 0.6131 - val_loss: 1.2594 - val_categorical_accuracy: 0.5300 - val_f1_loss: 0.6352\n",
      "Epoch 8/60\n",
      "42/42 [==============================] - 1s 35ms/step - loss: 1.3303 - categorical_accuracy: 0.4929 - f1_loss: 0.6209 - val_loss: 1.2268 - val_categorical_accuracy: 0.5378 - val_f1_loss: 0.6165\n",
      "Epoch 9/60\n",
      "42/42 [==============================] - 2s 36ms/step - loss: 1.2855 - categorical_accuracy: 0.5126 - f1_loss: 0.6032 - val_loss: 1.1695 - val_categorical_accuracy: 0.5567 - val_f1_loss: 0.5954\n",
      "Epoch 10/60\n",
      "42/42 [==============================] - 2s 38ms/step - loss: 1.1951 - categorical_accuracy: 0.5387 - f1_loss: 0.5869 - val_loss: 1.1366 - val_categorical_accuracy: 0.5656 - val_f1_loss: 0.5815\n",
      "Epoch 11/60\n",
      "42/42 [==============================] - 2s 40ms/step - loss: 1.1806 - categorical_accuracy: 0.5464 - f1_loss: 0.5724 - val_loss: 1.1389 - val_categorical_accuracy: 0.5633 - val_f1_loss: 0.5803\n",
      "Epoch 12/60\n",
      "42/42 [==============================] - 2s 37ms/step - loss: 1.1892 - categorical_accuracy: 0.5349 - f1_loss: 0.5713 - val_loss: 1.0987 - val_categorical_accuracy: 0.5833 - val_f1_loss: 0.5658\n",
      "Epoch 13/60\n",
      "42/42 [==============================] - 2s 39ms/step - loss: 1.1390 - categorical_accuracy: 0.5472 - f1_loss: 0.5604 - val_loss: 1.0874 - val_categorical_accuracy: 0.5756 - val_f1_loss: 0.5599\n",
      "Epoch 14/60\n",
      "42/42 [==============================] - 2s 39ms/step - loss: 1.1552 - categorical_accuracy: 0.5410 - f1_loss: 0.5623 - val_loss: 1.0832 - val_categorical_accuracy: 0.5700 - val_f1_loss: 0.5569\n",
      "Epoch 15/60\n",
      "42/42 [==============================] - 2s 38ms/step - loss: 1.1027 - categorical_accuracy: 0.5691 - f1_loss: 0.5513 - val_loss: 1.0701 - val_categorical_accuracy: 0.5811 - val_f1_loss: 0.5476\n",
      "Epoch 16/60\n",
      "42/42 [==============================] - 2s 39ms/step - loss: 1.0994 - categorical_accuracy: 0.5727 - f1_loss: 0.5418 - val_loss: 1.0490 - val_categorical_accuracy: 0.5778 - val_f1_loss: 0.5387\n",
      "Epoch 17/60\n",
      "42/42 [==============================] - 2s 39ms/step - loss: 1.0688 - categorical_accuracy: 0.5873 - f1_loss: 0.5395 - val_loss: 1.0600 - val_categorical_accuracy: 0.5889 - val_f1_loss: 0.5355\n",
      "Epoch 18/60\n",
      "42/42 [==============================] - 1s 35ms/step - loss: 1.0327 - categorical_accuracy: 0.6004 - f1_loss: 0.5200 - val_loss: 1.0388 - val_categorical_accuracy: 0.5822 - val_f1_loss: 0.5318\n",
      "Epoch 19/60\n",
      "42/42 [==============================] - 1s 36ms/step - loss: 1.0283 - categorical_accuracy: 0.6025 - f1_loss: 0.5211 - val_loss: 1.0508 - val_categorical_accuracy: 0.5822 - val_f1_loss: 0.5313\n",
      "Epoch 20/60\n",
      "42/42 [==============================] - 1s 34ms/step - loss: 1.0117 - categorical_accuracy: 0.6063 - f1_loss: 0.5150 - val_loss: 1.0268 - val_categorical_accuracy: 0.6033 - val_f1_loss: 0.5323\n",
      "Epoch 21/60\n",
      "42/42 [==============================] - 1s 33ms/step - loss: 0.9875 - categorical_accuracy: 0.6292 - f1_loss: 0.5120 - val_loss: 1.0230 - val_categorical_accuracy: 0.5978 - val_f1_loss: 0.5300\n",
      "Epoch 22/60\n",
      "42/42 [==============================] - 1s 34ms/step - loss: 1.0102 - categorical_accuracy: 0.6032 - f1_loss: 0.5140 - val_loss: 1.0249 - val_categorical_accuracy: 0.5933 - val_f1_loss: 0.5290\n",
      "Epoch 23/60\n",
      "42/42 [==============================] - 2s 36ms/step - loss: 0.9810 - categorical_accuracy: 0.6222 - f1_loss: 0.5032 - val_loss: 1.0137 - val_categorical_accuracy: 0.6011 - val_f1_loss: 0.5233\n",
      "Epoch 24/60\n",
      "42/42 [==============================] - 2s 37ms/step - loss: 0.9787 - categorical_accuracy: 0.6316 - f1_loss: 0.5105 - val_loss: 0.9979 - val_categorical_accuracy: 0.6122 - val_f1_loss: 0.5151\n",
      "Epoch 25/60\n",
      "42/42 [==============================] - 1s 35ms/step - loss: 0.9451 - categorical_accuracy: 0.6370 - f1_loss: 0.4951 - val_loss: 1.0012 - val_categorical_accuracy: 0.5989 - val_f1_loss: 0.5127\n",
      "Epoch 26/60\n",
      "42/42 [==============================] - 2s 38ms/step - loss: 0.9455 - categorical_accuracy: 0.6366 - f1_loss: 0.4914 - val_loss: 0.9887 - val_categorical_accuracy: 0.5989 - val_f1_loss: 0.5124\n",
      "Epoch 27/60\n",
      "42/42 [==============================] - 2s 38ms/step - loss: 0.9756 - categorical_accuracy: 0.6167 - f1_loss: 0.4919 - val_loss: 0.9955 - val_categorical_accuracy: 0.6044 - val_f1_loss: 0.5112\n",
      "Epoch 28/60\n",
      "42/42 [==============================] - 2s 36ms/step - loss: 0.9297 - categorical_accuracy: 0.6331 - f1_loss: 0.4830 - val_loss: 0.9822 - val_categorical_accuracy: 0.6133 - val_f1_loss: 0.5080\n",
      "Epoch 29/60\n",
      "42/42 [==============================] - 1s 35ms/step - loss: 0.9280 - categorical_accuracy: 0.6480 - f1_loss: 0.4888 - val_loss: 0.9934 - val_categorical_accuracy: 0.5822 - val_f1_loss: 0.5115\n",
      "Epoch 30/60\n",
      "42/42 [==============================] - 1s 24ms/step - loss: 0.9517 - categorical_accuracy: 0.6340 - f1_loss: 0.4861 - val_loss: 0.9870 - val_categorical_accuracy: 0.6078 - val_f1_loss: 0.5050\n",
      "Epoch 31/60\n",
      "42/42 [==============================] - 1s 22ms/step - loss: 0.9175 - categorical_accuracy: 0.6352 - f1_loss: 0.4803 - val_loss: 0.9827 - val_categorical_accuracy: 0.6033 - val_f1_loss: 0.5053\n",
      "Epoch 32/60\n",
      "42/42 [==============================] - 1s 22ms/step - loss: 0.9231 - categorical_accuracy: 0.6411 - f1_loss: 0.4823 - val_loss: 0.9908 - val_categorical_accuracy: 0.6200 - val_f1_loss: 0.5025\n",
      "Epoch 33/60\n",
      "42/42 [==============================] - 1s 22ms/step - loss: 0.8617 - categorical_accuracy: 0.6694 - f1_loss: 0.4542 - val_loss: 0.9690 - val_categorical_accuracy: 0.6133 - val_f1_loss: 0.4984\n",
      "Epoch 34/60\n",
      "42/42 [==============================] - 1s 22ms/step - loss: 0.8859 - categorical_accuracy: 0.6689 - f1_loss: 0.4728 - val_loss: 0.9729 - val_categorical_accuracy: 0.6189 - val_f1_loss: 0.4998\n",
      "Epoch 35/60\n",
      "42/42 [==============================] - 1s 22ms/step - loss: 0.9006 - categorical_accuracy: 0.6482 - f1_loss: 0.4758 - val_loss: 0.9583 - val_categorical_accuracy: 0.6156 - val_f1_loss: 0.4971\n",
      "Epoch 36/60\n",
      "42/42 [==============================] - 1s 22ms/step - loss: 0.8758 - categorical_accuracy: 0.6644 - f1_loss: 0.4619 - val_loss: 0.9628 - val_categorical_accuracy: 0.6011 - val_f1_loss: 0.4968\n",
      "Epoch 37/60\n",
      "42/42 [==============================] - 1s 22ms/step - loss: 0.8914 - categorical_accuracy: 0.6633 - f1_loss: 0.4615 - val_loss: 0.9503 - val_categorical_accuracy: 0.6300 - val_f1_loss: 0.4921\n",
      "Epoch 38/60\n",
      "42/42 [==============================] - 1s 22ms/step - loss: 0.9197 - categorical_accuracy: 0.6300 - f1_loss: 0.4748 - val_loss: 0.9564 - val_categorical_accuracy: 0.6211 - val_f1_loss: 0.4930\n",
      "Epoch 39/60\n",
      "42/42 [==============================] - 1s 22ms/step - loss: 0.8344 - categorical_accuracy: 0.6945 - f1_loss: 0.4451 - val_loss: 0.9501 - val_categorical_accuracy: 0.6244 - val_f1_loss: 0.4942\n",
      "Epoch 40/60\n",
      "42/42 [==============================] - 1s 22ms/step - loss: 0.9373 - categorical_accuracy: 0.6574 - f1_loss: 0.4744 - val_loss: 0.9668 - val_categorical_accuracy: 0.6244 - val_f1_loss: 0.4952\n",
      "Epoch 41/60\n",
      "42/42 [==============================] - 1s 21ms/step - loss: 0.8484 - categorical_accuracy: 0.6687 - f1_loss: 0.4555 - val_loss: 0.9601 - val_categorical_accuracy: 0.6233 - val_f1_loss: 0.4908\n",
      "Epoch 42/60\n",
      "42/42 [==============================] - 1s 20ms/step - loss: 0.8818 - categorical_accuracy: 0.6489 - f1_loss: 0.4575 - val_loss: 0.9623 - val_categorical_accuracy: 0.6211 - val_f1_loss: 0.4916\n",
      "Epoch 43/60\n",
      "42/42 [==============================] - 1s 21ms/step - loss: 0.8602 - categorical_accuracy: 0.6614 - f1_loss: 0.4528 - val_loss: 0.9459 - val_categorical_accuracy: 0.6300 - val_f1_loss: 0.4885\n",
      "Epoch 44/60\n",
      "42/42 [==============================] - 1s 21ms/step - loss: 0.8358 - categorical_accuracy: 0.6809 - f1_loss: 0.4523 - val_loss: 0.9737 - val_categorical_accuracy: 0.6189 - val_f1_loss: 0.4956\n",
      "Epoch 45/60\n",
      "42/42 [==============================] - 1s 22ms/step - loss: 0.8315 - categorical_accuracy: 0.6746 - f1_loss: 0.4521 - val_loss: 0.9535 - val_categorical_accuracy: 0.6278 - val_f1_loss: 0.4881\n",
      "Epoch 46/60\n",
      "42/42 [==============================] - 1s 22ms/step - loss: 0.8431 - categorical_accuracy: 0.6786 - f1_loss: 0.4473 - val_loss: 0.9428 - val_categorical_accuracy: 0.6400 - val_f1_loss: 0.4871\n",
      "Epoch 47/60\n",
      "42/42 [==============================] - 1s 23ms/step - loss: 0.8732 - categorical_accuracy: 0.6486 - f1_loss: 0.4584 - val_loss: 0.9435 - val_categorical_accuracy: 0.6356 - val_f1_loss: 0.4861\n",
      "Epoch 48/60\n",
      "42/42 [==============================] - 1s 22ms/step - loss: 0.8573 - categorical_accuracy: 0.6605 - f1_loss: 0.4545 - val_loss: 0.9398 - val_categorical_accuracy: 0.6289 - val_f1_loss: 0.4814\n",
      "Epoch 49/60\n",
      "42/42 [==============================] - 1s 23ms/step - loss: 0.8245 - categorical_accuracy: 0.6781 - f1_loss: 0.4458 - val_loss: 0.9541 - val_categorical_accuracy: 0.6344 - val_f1_loss: 0.4849\n",
      "Epoch 50/60\n",
      "42/42 [==============================] - 1s 23ms/step - loss: 0.8222 - categorical_accuracy: 0.6875 - f1_loss: 0.4390 - val_loss: 0.9534 - val_categorical_accuracy: 0.6122 - val_f1_loss: 0.4870\n",
      "Epoch 51/60\n",
      "42/42 [==============================] - 1s 22ms/step - loss: 0.8167 - categorical_accuracy: 0.6775 - f1_loss: 0.4324 - val_loss: 0.9437 - val_categorical_accuracy: 0.6333 - val_f1_loss: 0.4846\n",
      "Epoch 52/60\n",
      "42/42 [==============================] - 1s 20ms/step - loss: 0.8148 - categorical_accuracy: 0.6855 - f1_loss: 0.4388 - val_loss: 0.9432 - val_categorical_accuracy: 0.6267 - val_f1_loss: 0.4835\n",
      "Epoch 53/60\n",
      "42/42 [==============================] - 1s 20ms/step - loss: 0.7897 - categorical_accuracy: 0.7029 - f1_loss: 0.4320 - val_loss: 0.9516 - val_categorical_accuracy: 0.6378 - val_f1_loss: 0.4837\n",
      "Epoch 54/60\n",
      "42/42 [==============================] - 1s 20ms/step - loss: 0.7953 - categorical_accuracy: 0.6995 - f1_loss: 0.4280 - val_loss: 0.9394 - val_categorical_accuracy: 0.6278 - val_f1_loss: 0.4829\n",
      "Epoch 55/60\n",
      "42/42 [==============================] - 1s 21ms/step - loss: 0.7971 - categorical_accuracy: 0.6757 - f1_loss: 0.4261 - val_loss: 0.9335 - val_categorical_accuracy: 0.6300 - val_f1_loss: 0.4794\n",
      "Epoch 56/60\n",
      "42/42 [==============================] - 1s 30ms/step - loss: 0.8192 - categorical_accuracy: 0.6865 - f1_loss: 0.4331 - val_loss: 0.9334 - val_categorical_accuracy: 0.6322 - val_f1_loss: 0.4764\n",
      "Epoch 57/60\n",
      "42/42 [==============================] - 1s 20ms/step - loss: 0.8324 - categorical_accuracy: 0.6788 - f1_loss: 0.4371 - val_loss: 0.9301 - val_categorical_accuracy: 0.6278 - val_f1_loss: 0.4796\n",
      "Epoch 58/60\n",
      "42/42 [==============================] - 1s 21ms/step - loss: 0.7896 - categorical_accuracy: 0.6832 - f1_loss: 0.4380 - val_loss: 0.9194 - val_categorical_accuracy: 0.6378 - val_f1_loss: 0.4756\n",
      "Epoch 59/60\n",
      "42/42 [==============================] - 1s 21ms/step - loss: 0.8119 - categorical_accuracy: 0.6861 - f1_loss: 0.4300 - val_loss: 0.9259 - val_categorical_accuracy: 0.6300 - val_f1_loss: 0.4763\n",
      "Epoch 60/60\n",
      "42/42 [==============================] - 1s 20ms/step - loss: 0.8309 - categorical_accuracy: 0.6785 - f1_loss: 0.4364 - val_loss: 0.9144 - val_categorical_accuracy: 0.6311 - val_f1_loss: 0.4790\n"
     ]
    }
   ],
   "source": [
    "config = dict(hidden_nodes=(64,32,16),  \n",
    "                input_shape=128,\n",
    "                dropout=0.25,\n",
    "                epochs=60,\n",
    "                batch_size=50)\n",
    "\n",
    "m_mel_2 = DenseNN(**config)\n",
    "hist_mel_2 = m_mel_2.fit(X_traincnn_mel, y_onehot_train_mel, X_testcnn_mel, y_onehot_test_mel)"
   ]
  },
  {
   "cell_type": "code",
   "execution_count": 624,
   "id": "d7dd7802",
   "metadata": {},
   "outputs": [
    {
     "name": "stdout",
     "output_type": "stream",
     "text": [
      "Model: \"sequential_99\"\n",
      "_________________________________________________________________\n",
      "Layer (type)                 Output Shape              Param #   \n",
      "=================================================================\n",
      "dense_296 (Dense)            (None, 128, 64)           128       \n",
      "_________________________________________________________________\n",
      "batch_normalization_221 (Bat (None, 128, 64)           256       \n",
      "_________________________________________________________________\n",
      "dropout_275 (Dropout)        (None, 128, 64)           0         \n",
      "_________________________________________________________________\n",
      "dense_297 (Dense)            (None, 128, 32)           2080      \n",
      "_________________________________________________________________\n",
      "batch_normalization_222 (Bat (None, 128, 32)           128       \n",
      "_________________________________________________________________\n",
      "dropout_276 (Dropout)        (None, 128, 32)           0         \n",
      "_________________________________________________________________\n",
      "dense_298 (Dense)            (None, 128, 16)           528       \n",
      "_________________________________________________________________\n",
      "batch_normalization_223 (Bat (None, 128, 16)           64        \n",
      "_________________________________________________________________\n",
      "dropout_277 (Dropout)        (None, 128, 16)           0         \n",
      "_________________________________________________________________\n",
      "flatten_26 (Flatten)         (None, 2048)              0         \n",
      "_________________________________________________________________\n",
      "dense_299 (Dense)            (None, 6)                 12294     \n",
      "=================================================================\n",
      "Total params: 15,478\n",
      "Trainable params: 15,254\n",
      "Non-trainable params: 224\n",
      "_________________________________________________________________\n"
     ]
    }
   ],
   "source": [
    "m_mel_2.summary()"
   ]
  },
  {
   "cell_type": "code",
   "execution_count": 625,
   "id": "07864771",
   "metadata": {},
   "outputs": [
    {
     "data": {
      "image/png": "[encoded data removed]",
      "text/plain": [
       "<Figure size 432x288 with 1 Axes>"
      ]
     },
     "metadata": {
      "needs_background": "light"
     },
     "output_type": "display_data"
    },
    {
     "data": {
      "image/png": "[encoded data removed]",
      "text/plain": [
       "<Figure size 432x288 with 1 Axes>"
      ]
     },
     "metadata": {
      "needs_background": "light"
     },
     "output_type": "display_data"
    }
   ],
   "source": [
    "plt.plot(hist_mel_2.history['categorical_accuracy'])\n",
    "plt.plot(hist_mel_2.history['val_categorical_accuracy'])\n",
    "plt.title('model accuracy')\n",
    "plt.ylabel('accuracy')\n",
    "plt.xlabel('epoch')\n",
    "plt.legend(['train', 'test'], loc='upper left')\n",
    "plt.show()\n",
    "# summarize history for loss\n",
    "plt.plot(hist_mel_2.history['loss'])\n",
    "plt.plot(hist_mel_2.history['val_loss'])\n",
    "plt.title('model loss')\n",
    "plt.ylabel('loss')\n",
    "plt.xlabel('epoch')\n",
    "plt.legend(['train', 'test'], loc='upper left')\n",
    "plt.show()"
   ]
  },
  {
   "cell_type": "code",
   "execution_count": 780,
   "id": "428e26ce",
   "metadata": {},
   "outputs": [
    {
     "name": "stdout",
     "output_type": "stream",
     "text": [
      "29/29 [==============================] - 0s 8ms/step - loss: 0.9144 - categorical_accuracy: 0.6311 - f1_loss: 0.4930\n",
      "Restored model, accuracy: 63.11%\n"
     ]
    }
   ],
   "source": [
    "loss, acc, f1_score = m_mel_2.evaluate(X_testcnn_mel, y_onehot_test_mel)\n",
    "print(\"Restored model, accuracy: {:5.2f}%\".format(100*acc))"
   ]
  },
  {
   "cell_type": "code",
   "execution_count": 796,
   "id": "5f090dfd",
   "metadata": {},
   "outputs": [
    {
     "name": "stdout",
     "output_type": "stream",
     "text": [
      "Confusion matrix, without normalization\n",
      "[[ 89  20  10   0   5   6]\n",
      " [ 24  69  32   1  11  16]\n",
      " [ 17  22  61   2  14  28]\n",
      " [  0   0   0 158   0   0]\n",
      " [  0  19  12   0 130   4]\n",
      " [ 15  25  42   1   6  61]]\n"
     ]
    },
    {
     "data": {
      "image/png": "[encoded data removed]",
      "text/plain": [
       "<Figure size 432x288 with 2 Axes>"
      ]
     },
     "metadata": {
      "needs_background": "light"
     },
     "output_type": "display_data"
    }
   ],
   "source": [
    "y_pred = m_mel_2.predict(X_testcnn_mel)\n",
    "matrix = metrics.confusion_matrix(y_onehot_test_mel.argmax(axis=1), y_pred.argmax(axis=1))\n",
    "emo_keys = list(['ang', 'hap', 'sad', 'fea', 'sur', 'neu'])\n",
    "plot_confusion_matrix(matrix, classes=emo_keys)"
   ]
  },
  {
   "cell_type": "code",
   "execution_count": 797,
   "id": "b11f4756",
   "metadata": {},
   "outputs": [
    {
     "name": "stdout",
     "output_type": "stream",
     "text": [
      "              precision    recall  f1-score   support\n",
      "\n",
      "         ang       0.61      0.68      0.65       130\n",
      "         hap       0.45      0.45      0.45       153\n",
      "         sad       0.39      0.42      0.41       144\n",
      "         fea       0.98      1.00      0.99       158\n",
      "         sur       0.78      0.79      0.79       165\n",
      "         neu       0.53      0.41      0.46       150\n",
      "\n",
      "    accuracy                           0.63       900\n",
      "   macro avg       0.62      0.63      0.62       900\n",
      "weighted avg       0.63      0.63      0.63       900\n",
      "\n"
     ]
    }
   ],
   "source": [
    "target_names = ['ang', 'hap', 'sad', 'fea', 'sur', 'neu']\n",
    "print(classification_report(y_onehot_test_mfcc.argmax(axis=1), y_pred.argmax(axis=1), target_names=target_names))"
   ]
  },
  {
   "cell_type": "markdown",
   "id": "ff21a50a",
   "metadata": {},
   "source": [
    "## CNN + LSTM\n",
    "\n",
    "We create a CNN model with LSTM based on a paper on Speech Emotion Recognition by Zhao et al., the reference to the github is: (https://github.com/vandana-rajan/1D-Speech-Emotion-Recognition)."
   ]
  },
  {
   "cell_type": "markdown",
   "id": "8bb47209",
   "metadata": {},
   "source": [
    "### MFCC\n",
    "\n",
    "We use MFCC as input features."
   ]
  },
  {
   "cell_type": "code",
   "execution_count": 519,
   "id": "ec16cf81",
   "metadata": {},
   "outputs": [],
   "source": [
    "model_mfcc_lstm = Sequential()\n",
    "\n",
    "#LFLB - Local Feature Learning Block\n",
    "\n",
    "model_mfcc_lstm.add(Conv1D(32, 6,padding='same',input_shape=(40,1)))        #1\n",
    "model_mfcc_lstm.add(Activation('relu'))\n",
    "model_mfcc_lstm.add(MaxPooling1D(pool_size=(5)))\n",
    "model_mfcc_lstm.add(BatchNormalization()) #\n",
    "model_mfcc_lstm.add(Dropout(0.01))\n",
    "\n",
    "model_mfcc_lstm.add(Conv1D(64, 6,padding='same',))                           #2\n",
    "model_mfcc_lstm.add(Activation('relu'))\n",
    "model_mfcc_lstm.add(MaxPooling1D(pool_size=(5)))\n",
    "model_mfcc_lstm.add(Dropout(0.01))\n",
    "\n",
    "model_mfcc_lstm.add(Conv1D(64, 6,padding='same',))                           #3\n",
    "model_mfcc_lstm.add(Activation('relu'))\n",
    "model_mfcc_lstm.add(Dropout(0.01))\n",
    "\n",
    "model_mfcc_lstm.add(Conv1D(128, 6,padding='same',))                           #4 ...\n",
    "model_mfcc_lstm.add(Activation('relu'))\n",
    "model_mfcc_lstm.add(Dropout(0.01))\n",
    "\n",
    "# LSTM\n",
    "model_mfcc_lstm.add(LSTM(64,return_sequences=True))\n",
    "model_mfcc_lstm.add(SeqSelfAttention(attention_activation='tanh'))\n",
    "model_mfcc_lstm.add(LSTM(32,return_sequences=False))\n",
    "\n",
    "# FC\n",
    "model_mfcc_lstm.add(Dense(units=6, activation='softmax'))"
   ]
  },
  {
   "cell_type": "code",
   "execution_count": 520,
   "id": "0876e6be",
   "metadata": {},
   "outputs": [],
   "source": [
    "opt = tf.keras.optimizers.Adam(lr=0.0005) "
   ]
  },
  {
   "cell_type": "code",
   "execution_count": 521,
   "id": "70089d70",
   "metadata": {},
   "outputs": [
    {
     "name": "stdout",
     "output_type": "stream",
     "text": [
      "Model: \"sequential_78\"\n",
      "_________________________________________________________________\n",
      "Layer (type)                 Output Shape              Param #   \n",
      "=================================================================\n",
      "conv1d_56 (Conv1D)           (None, 40, 32)            224       \n",
      "_________________________________________________________________\n",
      "activation_60 (Activation)   (None, 40, 32)            0         \n",
      "_________________________________________________________________\n",
      "max_pooling1d_25 (MaxPooling (None, 8, 32)             0         \n",
      "_________________________________________________________________\n",
      "batch_normalization_177 (Bat (None, 8, 32)             128       \n",
      "_________________________________________________________________\n",
      "dropout_218 (Dropout)        (None, 8, 32)             0         \n",
      "_________________________________________________________________\n",
      "conv1d_57 (Conv1D)           (None, 8, 64)             12352     \n",
      "_________________________________________________________________\n",
      "activation_61 (Activation)   (None, 8, 64)             0         \n",
      "_________________________________________________________________\n",
      "max_pooling1d_26 (MaxPooling (None, 1, 64)             0         \n",
      "_________________________________________________________________\n",
      "dropout_219 (Dropout)        (None, 1, 64)             0         \n",
      "_________________________________________________________________\n",
      "conv1d_58 (Conv1D)           (None, 1, 64)             24640     \n",
      "_________________________________________________________________\n",
      "activation_62 (Activation)   (None, 1, 64)             0         \n",
      "_________________________________________________________________\n",
      "dropout_220 (Dropout)        (None, 1, 64)             0         \n",
      "_________________________________________________________________\n",
      "conv1d_59 (Conv1D)           (None, 1, 128)            49280     \n",
      "_________________________________________________________________\n",
      "activation_63 (Activation)   (None, 1, 128)            0         \n",
      "_________________________________________________________________\n",
      "dropout_221 (Dropout)        (None, 1, 128)            0         \n",
      "_________________________________________________________________\n",
      "lstm_24 (LSTM)               (None, 1, 64)             49408     \n",
      "_________________________________________________________________\n",
      "seq_self_attention_12 (SeqSe (None, None, 64)          4161      \n",
      "_________________________________________________________________\n",
      "lstm_25 (LSTM)               (None, 32)                12416     \n",
      "_________________________________________________________________\n",
      "dense_242 (Dense)            (None, 6)                 198       \n",
      "=================================================================\n",
      "Total params: 152,807\n",
      "Trainable params: 152,743\n",
      "Non-trainable params: 64\n",
      "_________________________________________________________________\n"
     ]
    }
   ],
   "source": [
    "model_mfcc_lstm.summary()"
   ]
  },
  {
   "cell_type": "code",
   "execution_count": 522,
   "id": "b89ead64",
   "metadata": {},
   "outputs": [],
   "source": [
    "model_mfcc_lstm.compile(loss='categorical_crossentropy',\n",
    "              optimizer=opt,\n",
    "              metrics=['categorical_accuracy', f1_loss])"
   ]
  },
  {
   "cell_type": "code",
   "execution_count": 523,
   "id": "5a5926f6",
   "metadata": {},
   "outputs": [
    {
     "name": "stdout",
     "output_type": "stream",
     "text": [
      "Epoch 1/50\n",
      "42/42 [==============================] - 5s 37ms/step - loss: 1.7905 - categorical_accuracy: 0.1840 - f1_loss: 0.8364 - val_loss: 1.7850 - val_categorical_accuracy: 0.1444 - val_f1_loss: 0.8355\n",
      "Epoch 2/50\n",
      "42/42 [==============================] - 1s 13ms/step - loss: 1.7492 - categorical_accuracy: 0.2433 - f1_loss: 0.8285 - val_loss: 1.7882 - val_categorical_accuracy: 0.1444 - val_f1_loss: 0.8298\n",
      "Epoch 3/50\n",
      "42/42 [==============================] - 1s 13ms/step - loss: 1.6486 - categorical_accuracy: 0.2948 - f1_loss: 0.8030 - val_loss: 1.9772 - val_categorical_accuracy: 0.1489 - val_f1_loss: 0.8420\n",
      "Epoch 4/50\n",
      "42/42 [==============================] - 1s 13ms/step - loss: 1.5139 - categorical_accuracy: 0.3423 - f1_loss: 0.7550 - val_loss: 1.8489 - val_categorical_accuracy: 0.2100 - val_f1_loss: 0.8239\n",
      "Epoch 5/50\n",
      "42/42 [==============================] - 1s 14ms/step - loss: 1.4109 - categorical_accuracy: 0.4115 - f1_loss: 0.7196 - val_loss: 1.6314 - val_categorical_accuracy: 0.3111 - val_f1_loss: 0.7778\n",
      "Epoch 6/50\n",
      "42/42 [==============================] - 1s 13ms/step - loss: 1.3465 - categorical_accuracy: 0.4383 - f1_loss: 0.6920 - val_loss: 1.5728 - val_categorical_accuracy: 0.3489 - val_f1_loss: 0.7578\n",
      "Epoch 7/50\n",
      "42/42 [==============================] - 1s 13ms/step - loss: 1.2807 - categorical_accuracy: 0.4738 - f1_loss: 0.6612 - val_loss: 1.6831 - val_categorical_accuracy: 0.2944 - val_f1_loss: 0.7746\n",
      "Epoch 8/50\n",
      "42/42 [==============================] - 1s 14ms/step - loss: 1.2362 - categorical_accuracy: 0.4815 - f1_loss: 0.6360 - val_loss: 1.4154 - val_categorical_accuracy: 0.4022 - val_f1_loss: 0.7087\n",
      "Epoch 9/50\n",
      "42/42 [==============================] - 1s 13ms/step - loss: 1.2511 - categorical_accuracy: 0.4824 - f1_loss: 0.6386 - val_loss: 1.4044 - val_categorical_accuracy: 0.3700 - val_f1_loss: 0.7080\n",
      "Epoch 10/50\n",
      "42/42 [==============================] - 1s 13ms/step - loss: 1.1892 - categorical_accuracy: 0.5022 - f1_loss: 0.6243 - val_loss: 1.5625 - val_categorical_accuracy: 0.3389 - val_f1_loss: 0.7432\n",
      "Epoch 11/50\n",
      "42/42 [==============================] - 1s 13ms/step - loss: 1.2138 - categorical_accuracy: 0.4927 - f1_loss: 0.6262 - val_loss: 1.2892 - val_categorical_accuracy: 0.4522 - val_f1_loss: 0.6776\n",
      "Epoch 12/50\n",
      "42/42 [==============================] - 1s 14ms/step - loss: 1.1530 - categorical_accuracy: 0.5232 - f1_loss: 0.6086 - val_loss: 1.4266 - val_categorical_accuracy: 0.3433 - val_f1_loss: 0.7047\n",
      "Epoch 13/50\n",
      "42/42 [==============================] - 1s 13ms/step - loss: 1.1499 - categorical_accuracy: 0.5208 - f1_loss: 0.6035 - val_loss: 1.2123 - val_categorical_accuracy: 0.5078 - val_f1_loss: 0.6447\n",
      "Epoch 14/50\n",
      "42/42 [==============================] - 1s 14ms/step - loss: 1.1302 - categorical_accuracy: 0.5336 - f1_loss: 0.5956 - val_loss: 1.1502 - val_categorical_accuracy: 0.5000 - val_f1_loss: 0.6152\n",
      "Epoch 15/50\n",
      "42/42 [==============================] - 1s 14ms/step - loss: 1.1345 - categorical_accuracy: 0.5367 - f1_loss: 0.5955 - val_loss: 1.1343 - val_categorical_accuracy: 0.5322 - val_f1_loss: 0.6007\n",
      "Epoch 16/50\n",
      "42/42 [==============================] - 0s 12ms/step - loss: 1.1262 - categorical_accuracy: 0.5288 - f1_loss: 0.5937 - val_loss: 1.1328 - val_categorical_accuracy: 0.5033 - val_f1_loss: 0.6058\n",
      "Epoch 17/50\n",
      "42/42 [==============================] - 1s 13ms/step - loss: 1.1163 - categorical_accuracy: 0.5287 - f1_loss: 0.5824 - val_loss: 1.0855 - val_categorical_accuracy: 0.5200 - val_f1_loss: 0.5873\n",
      "Epoch 18/50\n",
      "42/42 [==============================] - 1s 13ms/step - loss: 1.0789 - categorical_accuracy: 0.5362 - f1_loss: 0.5746 - val_loss: 1.0741 - val_categorical_accuracy: 0.5300 - val_f1_loss: 0.5849\n",
      "Epoch 19/50\n",
      "42/42 [==============================] - 1s 13ms/step - loss: 1.0979 - categorical_accuracy: 0.5295 - f1_loss: 0.5784 - val_loss: 1.1314 - val_categorical_accuracy: 0.5100 - val_f1_loss: 0.5941\n",
      "Epoch 20/50\n",
      "42/42 [==============================] - 1s 13ms/step - loss: 1.0648 - categorical_accuracy: 0.5533 - f1_loss: 0.5719 - val_loss: 1.0529 - val_categorical_accuracy: 0.5322 - val_f1_loss: 0.5748\n",
      "Epoch 21/50\n",
      "42/42 [==============================] - 1s 13ms/step - loss: 1.0754 - categorical_accuracy: 0.5453 - f1_loss: 0.5728 - val_loss: 1.1002 - val_categorical_accuracy: 0.5344 - val_f1_loss: 0.5851\n",
      "Epoch 22/50\n",
      "42/42 [==============================] - 1s 27ms/step - loss: 1.0468 - categorical_accuracy: 0.5724 - f1_loss: 0.5643 - val_loss: 1.0650 - val_categorical_accuracy: 0.5467 - val_f1_loss: 0.5651\n",
      "Epoch 23/50\n",
      "42/42 [==============================] - 1s 13ms/step - loss: 1.0728 - categorical_accuracy: 0.5453 - f1_loss: 0.5626 - val_loss: 1.0273 - val_categorical_accuracy: 0.5522 - val_f1_loss: 0.5590\n",
      "Epoch 24/50\n",
      "42/42 [==============================] - 1s 13ms/step - loss: 1.0371 - categorical_accuracy: 0.5901 - f1_loss: 0.5512 - val_loss: 1.0115 - val_categorical_accuracy: 0.5722 - val_f1_loss: 0.5541\n",
      "Epoch 25/50\n",
      "42/42 [==============================] - 1s 13ms/step - loss: 1.0408 - categorical_accuracy: 0.5599 - f1_loss: 0.5510 - val_loss: 1.0166 - val_categorical_accuracy: 0.5456 - val_f1_loss: 0.5541\n",
      "Epoch 26/50\n",
      "42/42 [==============================] - 1s 13ms/step - loss: 1.0411 - categorical_accuracy: 0.5748 - f1_loss: 0.5477 - val_loss: 1.0026 - val_categorical_accuracy: 0.5611 - val_f1_loss: 0.5467\n",
      "Epoch 27/50\n",
      "42/42 [==============================] - 1s 13ms/step - loss: 1.0070 - categorical_accuracy: 0.6008 - f1_loss: 0.5346 - val_loss: 0.9905 - val_categorical_accuracy: 0.5644 - val_f1_loss: 0.5396\n",
      "Epoch 28/50\n",
      "42/42 [==============================] - 1s 13ms/step - loss: 1.0240 - categorical_accuracy: 0.5700 - f1_loss: 0.5412 - val_loss: 1.0428 - val_categorical_accuracy: 0.5333 - val_f1_loss: 0.5593\n",
      "Epoch 29/50\n",
      "42/42 [==============================] - 1s 13ms/step - loss: 0.9933 - categorical_accuracy: 0.5914 - f1_loss: 0.5368 - val_loss: 0.9862 - val_categorical_accuracy: 0.5667 - val_f1_loss: 0.5409\n",
      "Epoch 30/50\n",
      "42/42 [==============================] - 1s 13ms/step - loss: 0.9785 - categorical_accuracy: 0.5940 - f1_loss: 0.5279 - val_loss: 0.9852 - val_categorical_accuracy: 0.5689 - val_f1_loss: 0.5327\n",
      "Epoch 31/50\n",
      "42/42 [==============================] - 1s 14ms/step - loss: 1.0100 - categorical_accuracy: 0.5713 - f1_loss: 0.5309 - val_loss: 0.9673 - val_categorical_accuracy: 0.5911 - val_f1_loss: 0.5317\n",
      "Epoch 32/50\n",
      "42/42 [==============================] - 1s 13ms/step - loss: 0.9815 - categorical_accuracy: 0.5983 - f1_loss: 0.5230 - val_loss: 0.9584 - val_categorical_accuracy: 0.5778 - val_f1_loss: 0.5202\n",
      "Epoch 33/50\n",
      "42/42 [==============================] - 1s 12ms/step - loss: 0.9429 - categorical_accuracy: 0.6103 - f1_loss: 0.5069 - val_loss: 0.9519 - val_categorical_accuracy: 0.5878 - val_f1_loss: 0.5131\n",
      "Epoch 34/50\n",
      "42/42 [==============================] - 1s 14ms/step - loss: 0.9730 - categorical_accuracy: 0.5934 - f1_loss: 0.5225 - val_loss: 0.9454 - val_categorical_accuracy: 0.5989 - val_f1_loss: 0.5223\n",
      "Epoch 35/50\n",
      "42/42 [==============================] - 1s 14ms/step - loss: 0.9663 - categorical_accuracy: 0.5938 - f1_loss: 0.5185 - val_loss: 0.9295 - val_categorical_accuracy: 0.6000 - val_f1_loss: 0.5099\n",
      "Epoch 36/50\n",
      "42/42 [==============================] - 1s 14ms/step - loss: 0.9168 - categorical_accuracy: 0.6279 - f1_loss: 0.5057 - val_loss: 0.9208 - val_categorical_accuracy: 0.5933 - val_f1_loss: 0.5072\n",
      "Epoch 37/50\n",
      "42/42 [==============================] - 1s 14ms/step - loss: 0.9226 - categorical_accuracy: 0.6020 - f1_loss: 0.5053 - val_loss: 0.9246 - val_categorical_accuracy: 0.6233 - val_f1_loss: 0.5045\n",
      "Epoch 38/50\n",
      "42/42 [==============================] - 1s 14ms/step - loss: 0.9287 - categorical_accuracy: 0.6167 - f1_loss: 0.5009 - val_loss: 0.8940 - val_categorical_accuracy: 0.6122 - val_f1_loss: 0.4925\n",
      "Epoch 39/50\n",
      "42/42 [==============================] - 1s 14ms/step - loss: 0.9174 - categorical_accuracy: 0.6247 - f1_loss: 0.4952 - val_loss: 0.9384 - val_categorical_accuracy: 0.6022 - val_f1_loss: 0.5046\n",
      "Epoch 40/50\n",
      "42/42 [==============================] - 1s 14ms/step - loss: 0.9116 - categorical_accuracy: 0.6323 - f1_loss: 0.4925 - val_loss: 0.9178 - val_categorical_accuracy: 0.5900 - val_f1_loss: 0.5018\n",
      "Epoch 41/50\n",
      "42/42 [==============================] - 1s 14ms/step - loss: 0.8783 - categorical_accuracy: 0.6213 - f1_loss: 0.4846 - val_loss: 0.9103 - val_categorical_accuracy: 0.6044 - val_f1_loss: 0.4970\n",
      "Epoch 42/50\n",
      "42/42 [==============================] - 1s 14ms/step - loss: 0.8991 - categorical_accuracy: 0.6270 - f1_loss: 0.4850 - val_loss: 0.8864 - val_categorical_accuracy: 0.6200 - val_f1_loss: 0.4882\n",
      "Epoch 43/50\n",
      "42/42 [==============================] - 1s 14ms/step - loss: 0.8491 - categorical_accuracy: 0.6524 - f1_loss: 0.4763 - val_loss: 0.9005 - val_categorical_accuracy: 0.6022 - val_f1_loss: 0.4921\n",
      "Epoch 44/50\n",
      "42/42 [==============================] - 1s 14ms/step - loss: 0.8681 - categorical_accuracy: 0.6379 - f1_loss: 0.4783 - val_loss: 0.8870 - val_categorical_accuracy: 0.6289 - val_f1_loss: 0.4774\n",
      "Epoch 45/50\n",
      "42/42 [==============================] - 1s 14ms/step - loss: 0.8695 - categorical_accuracy: 0.6391 - f1_loss: 0.4686 - val_loss: 0.8583 - val_categorical_accuracy: 0.6300 - val_f1_loss: 0.4732\n",
      "Epoch 46/50\n",
      "42/42 [==============================] - 1s 14ms/step - loss: 0.7703 - categorical_accuracy: 0.6786 - f1_loss: 0.4500 - val_loss: 0.8945 - val_categorical_accuracy: 0.6156 - val_f1_loss: 0.4909\n",
      "Epoch 47/50\n",
      "42/42 [==============================] - 1s 14ms/step - loss: 0.8292 - categorical_accuracy: 0.6653 - f1_loss: 0.4609 - val_loss: 0.9253 - val_categorical_accuracy: 0.5822 - val_f1_loss: 0.4898\n",
      "Epoch 48/50\n",
      "42/42 [==============================] - 1s 14ms/step - loss: 0.8285 - categorical_accuracy: 0.6535 - f1_loss: 0.4529 - val_loss: 0.8469 - val_categorical_accuracy: 0.6467 - val_f1_loss: 0.4655\n",
      "Epoch 49/50\n",
      "42/42 [==============================] - 1s 14ms/step - loss: 0.7888 - categorical_accuracy: 0.6792 - f1_loss: 0.4502 - val_loss: 0.8718 - val_categorical_accuracy: 0.6378 - val_f1_loss: 0.4873\n",
      "Epoch 50/50\n",
      "42/42 [==============================] - 1s 15ms/step - loss: 0.7708 - categorical_accuracy: 0.7012 - f1_loss: 0.4289 - val_loss: 0.8567 - val_categorical_accuracy: 0.6344 - val_f1_loss: 0.4661\n"
     ]
    }
   ],
   "source": [
    "cnnhistory_lstm_mfcc=model_mfcc_lstm.fit(X_traincnn_mfcc, y_onehot_train_mfcc, batch_size=50, epochs=50, validation_data=(X_testcnn_mfcc, y_onehot_test_mfcc), callbacks=[mcp_save, rlrop])"
   ]
  },
  {
   "cell_type": "code",
   "execution_count": 721,
   "id": "fa95adae",
   "metadata": {},
   "outputs": [
    {
     "name": "stdout",
     "output_type": "stream",
     "text": [
      "29/29 [==============================] - 0s 5ms/step - loss: 0.8567 - categorical_accuracy: 0.6344 - f1_loss: 0.4734\n",
      "Restored model, accuracy: 63.44%\n"
     ]
    }
   ],
   "source": [
    "loss, acc, f1_score = model_mfcc_lstm.evaluate(X_testcnn_mfcc, y_onehot_test_mfcc)\n",
    "print(\"Restored model, accuracy: {:5.2f}%\".format(100*acc))"
   ]
  },
  {
   "cell_type": "code",
   "execution_count": 722,
   "id": "6759bb0b",
   "metadata": {},
   "outputs": [
    {
     "data": {
      "image/png": "[encoded data removed]",
      "text/plain": [
       "<Figure size 432x288 with 1 Axes>"
      ]
     },
     "metadata": {
      "needs_background": "light"
     },
     "output_type": "display_data"
    },
    {
     "data": {
      "image/png": "[encoded data removed]",
      "text/plain": [
       "<Figure size 432x288 with 1 Axes>"
      ]
     },
     "metadata": {
      "needs_background": "light"
     },
     "output_type": "display_data"
    }
   ],
   "source": [
    "plt.plot(cnnhistory_lstm_mfcc.history['categorical_accuracy'])\n",
    "plt.plot(cnnhistory_lstm_mfcc.history['val_categorical_accuracy'])\n",
    "plt.title('model accuracy')\n",
    "plt.ylabel('accuracy')\n",
    "plt.xlabel('epoch')\n",
    "plt.legend(['train', 'test'], loc='upper left')\n",
    "plt.show()\n",
    "# summarize history for loss\n",
    "plt.plot(cnnhistory_lstm_mfcc.history['loss'])\n",
    "plt.plot(cnnhistory_lstm_mfcc.history['val_loss'])\n",
    "plt.title('model loss')\n",
    "plt.ylabel('loss')\n",
    "plt.xlabel('epoch')\n",
    "plt.legend(['train', 'test'], loc='upper left')\n",
    "plt.show()"
   ]
  },
  {
   "cell_type": "code",
   "execution_count": 804,
   "id": "32a82673",
   "metadata": {},
   "outputs": [
    {
     "name": "stdout",
     "output_type": "stream",
     "text": [
      "Confusion matrix, without normalization\n",
      "[[ 80  32   5   0   5   8]\n",
      " [ 31  54  10   0  22  36]\n",
      " [ 20  12  51   0   9  52]\n",
      " [  0   0   0 158   0   0]\n",
      " [  2   0   4   0 154   5]\n",
      " [ 20  17  29   0  10  74]]\n"
     ]
    },
    {
     "data": {
      "image/png": "[encoded data removed]",
      "text/plain": [
       "<Figure size 432x288 with 2 Axes>"
      ]
     },
     "metadata": {
      "needs_background": "light"
     },
     "output_type": "display_data"
    }
   ],
   "source": [
    "y_pred = model_mfcc_lstm.predict(X_testcnn_mfcc)\n",
    "matrix = metrics.confusion_matrix(y_onehot_test_mfcc.argmax(axis=1), y_pred.argmax(axis=1))\n",
    "emo_keys = list(['ang', 'hap', 'sad', 'fea', 'sur', 'neu'])\n",
    "plot_confusion_matrix(matrix, classes=emo_keys)"
   ]
  },
  {
   "cell_type": "code",
   "execution_count": 805,
   "id": "70af8538",
   "metadata": {},
   "outputs": [
    {
     "name": "stdout",
     "output_type": "stream",
     "text": [
      "              precision    recall  f1-score   support\n",
      "\n",
      "         ang       0.52      0.62      0.57       130\n",
      "         hap       0.47      0.35      0.40       153\n",
      "         sad       0.52      0.35      0.42       144\n",
      "         fea       1.00      1.00      1.00       158\n",
      "         sur       0.77      0.93      0.84       165\n",
      "         neu       0.42      0.49      0.46       150\n",
      "\n",
      "    accuracy                           0.63       900\n",
      "   macro avg       0.62      0.62      0.61       900\n",
      "weighted avg       0.62      0.63      0.62       900\n",
      "\n"
     ]
    }
   ],
   "source": [
    "target_names = ['ang', 'hap', 'sad', 'fea', 'sur', 'neu']\n",
    "print(classification_report(y_onehot_test_mfcc.argmax(axis=1), y_pred.argmax(axis=1), target_names=target_names))"
   ]
  },
  {
   "cell_type": "markdown",
   "id": "82726760",
   "metadata": {},
   "source": [
    "### MEL\n",
    "\n",
    "We use Mel Spectrogram as input features."
   ]
  },
  {
   "cell_type": "code",
   "execution_count": 557,
   "id": "692ca2c5",
   "metadata": {},
   "outputs": [],
   "source": [
    "model_mel_lstm = Sequential()\n",
    "\n",
    "#LFLB - Local Feature Learning Block\n",
    "\n",
    "model_mel_lstm.add(Conv1D(32, 6,padding='same',input_shape=(128,1)))        #1\n",
    "model_mel_lstm.add(Activation('relu'))\n",
    "model_mel_lstm.add(MaxPooling1D(pool_size=(5)))\n",
    "model_mel_lstm.add(BatchNormalization()) #\n",
    "model_mel_lstm.add(Dropout(0.25))\n",
    "\n",
    "model_mel_lstm.add(Conv1D(64, 6,padding='same',))                           #2\n",
    "model_mel_lstm.add(Activation('relu'))\n",
    "model_mel_lstm.add(MaxPooling1D(pool_size=(5)))\n",
    "model_mel_lstm.add(Dropout(0.25))\n",
    "\n",
    "model_mel_lstm.add(Conv1D(128, 6,padding='same',))                           #3\n",
    "model_mel_lstm.add(Activation('relu'))\n",
    "model_mel_lstm.add(Dropout(0.25))\n",
    "\n",
    "model_mel_lstm.add(Conv1D(256, 6,padding='same',))                           #4 ...\n",
    "model_mel_lstm.add(Activation('relu'))\n",
    "model_mel_lstm.add(Dropout(0.25))\n",
    "\n",
    "# LSTM\n",
    "model_mel_lstm.add(LSTM(64,return_sequences=True))\n",
    "model_mel_lstm.add(SeqSelfAttention(attention_activation='tanh'))\n",
    "model_mel_lstm.add(LSTM(32,return_sequences=False))\n",
    "\n",
    "# FC\n",
    "model_mel_lstm.add(Dense(units=6, activation='softmax'))"
   ]
  },
  {
   "cell_type": "code",
   "execution_count": 558,
   "id": "064071e6",
   "metadata": {},
   "outputs": [
    {
     "name": "stdout",
     "output_type": "stream",
     "text": [
      "Model: \"sequential_84\"\n",
      "_________________________________________________________________\n",
      "Layer (type)                 Output Shape              Param #   \n",
      "=================================================================\n",
      "conv1d_76 (Conv1D)           (None, 128, 32)           224       \n",
      "_________________________________________________________________\n",
      "activation_82 (Activation)   (None, 128, 32)           0         \n",
      "_________________________________________________________________\n",
      "max_pooling1d_33 (MaxPooling (None, 25, 32)            0         \n",
      "_________________________________________________________________\n",
      "batch_normalization_187 (Bat (None, 25, 32)            128       \n",
      "_________________________________________________________________\n",
      "dropout_238 (Dropout)        (None, 25, 32)            0         \n",
      "_________________________________________________________________\n",
      "conv1d_77 (Conv1D)           (None, 25, 64)            12352     \n",
      "_________________________________________________________________\n",
      "activation_83 (Activation)   (None, 25, 64)            0         \n",
      "_________________________________________________________________\n",
      "max_pooling1d_34 (MaxPooling (None, 5, 64)             0         \n",
      "_________________________________________________________________\n",
      "dropout_239 (Dropout)        (None, 5, 64)             0         \n",
      "_________________________________________________________________\n",
      "conv1d_78 (Conv1D)           (None, 5, 128)            49280     \n",
      "_________________________________________________________________\n",
      "activation_84 (Activation)   (None, 5, 128)            0         \n",
      "_________________________________________________________________\n",
      "dropout_240 (Dropout)        (None, 5, 128)            0         \n",
      "_________________________________________________________________\n",
      "conv1d_79 (Conv1D)           (None, 5, 256)            196864    \n",
      "_________________________________________________________________\n",
      "activation_85 (Activation)   (None, 5, 256)            0         \n",
      "_________________________________________________________________\n",
      "dropout_241 (Dropout)        (None, 5, 256)            0         \n",
      "_________________________________________________________________\n",
      "lstm_32 (LSTM)               (None, 5, 64)             82176     \n",
      "_________________________________________________________________\n",
      "seq_self_attention_16 (SeqSe (None, None, 64)          4161      \n",
      "_________________________________________________________________\n",
      "lstm_33 (LSTM)               (None, 32)                12416     \n",
      "_________________________________________________________________\n",
      "dense_248 (Dense)            (None, 6)                 198       \n",
      "=================================================================\n",
      "Total params: 357,799\n",
      "Trainable params: 357,735\n",
      "Non-trainable params: 64\n",
      "_________________________________________________________________\n"
     ]
    }
   ],
   "source": [
    "model_mel_lstm.summary()"
   ]
  },
  {
   "cell_type": "code",
   "execution_count": 559,
   "id": "8e0526d1",
   "metadata": {},
   "outputs": [],
   "source": [
    "model_mel_lstm.compile(loss='categorical_crossentropy',\n",
    "              optimizer=opt,\n",
    "              metrics=['categorical_accuracy', f1_loss])"
   ]
  },
  {
   "cell_type": "code",
   "execution_count": 560,
   "id": "2218c52e",
   "metadata": {},
   "outputs": [
    {
     "name": "stdout",
     "output_type": "stream",
     "text": [
      "Epoch 1/60\n",
      "42/42 [==============================] - 6s 58ms/step - loss: 1.7628 - categorical_accuracy: 0.2356 - f1_loss: 0.8262 - val_loss: 1.6891 - val_categorical_accuracy: 0.2511 - val_f1_loss: 0.7954\n",
      "Epoch 2/60\n",
      "42/42 [==============================] - 1s 34ms/step - loss: 1.5927 - categorical_accuracy: 0.3333 - f1_loss: 0.7779 - val_loss: 1.4349 - val_categorical_accuracy: 0.3411 - val_f1_loss: 0.7003\n",
      "Epoch 3/60\n",
      "42/42 [==============================] - 2s 38ms/step - loss: 1.4061 - categorical_accuracy: 0.4215 - f1_loss: 0.7005 - val_loss: 1.2799 - val_categorical_accuracy: 0.4467 - val_f1_loss: 0.6515\n",
      "Epoch 4/60\n",
      "42/42 [==============================] - 2s 39ms/step - loss: 1.3307 - categorical_accuracy: 0.4378 - f1_loss: 0.6660 - val_loss: 1.2738 - val_categorical_accuracy: 0.4356 - val_f1_loss: 0.6421\n",
      "Epoch 5/60\n",
      "42/42 [==============================] - 2s 43ms/step - loss: 1.2847 - categorical_accuracy: 0.4484 - f1_loss: 0.6527 - val_loss: 1.2815 - val_categorical_accuracy: 0.4111 - val_f1_loss: 0.6429\n",
      "Epoch 6/60\n",
      "42/42 [==============================] - 2s 42ms/step - loss: 1.2954 - categorical_accuracy: 0.4447 - f1_loss: 0.6489 - val_loss: 1.2699 - val_categorical_accuracy: 0.4256 - val_f1_loss: 0.6331\n",
      "Epoch 7/60\n",
      "42/42 [==============================] - 2s 41ms/step - loss: 1.2638 - categorical_accuracy: 0.4461 - f1_loss: 0.6368 - val_loss: 1.2457 - val_categorical_accuracy: 0.4122 - val_f1_loss: 0.6327\n",
      "Epoch 8/60\n",
      "42/42 [==============================] - 2s 41ms/step - loss: 1.2495 - categorical_accuracy: 0.4564 - f1_loss: 0.6328 - val_loss: 1.2478 - val_categorical_accuracy: 0.4256 - val_f1_loss: 0.6314\n",
      "Epoch 9/60\n",
      "42/42 [==============================] - 2s 41ms/step - loss: 1.2522 - categorical_accuracy: 0.4676 - f1_loss: 0.6310 - val_loss: 1.2414 - val_categorical_accuracy: 0.4367 - val_f1_loss: 0.6329\n",
      "Epoch 10/60\n",
      "42/42 [==============================] - 2s 41ms/step - loss: 1.2170 - categorical_accuracy: 0.4888 - f1_loss: 0.6263 - val_loss: 1.2644 - val_categorical_accuracy: 0.4300 - val_f1_loss: 0.6319\n",
      "Epoch 11/60\n",
      "42/42 [==============================] - 2s 40ms/step - loss: 1.2156 - categorical_accuracy: 0.4764 - f1_loss: 0.6268 - val_loss: 1.2305 - val_categorical_accuracy: 0.4411 - val_f1_loss: 0.6281\n",
      "Epoch 12/60\n",
      "42/42 [==============================] - 2s 38ms/step - loss: 1.2081 - categorical_accuracy: 0.4921 - f1_loss: 0.6189 - val_loss: 1.2270 - val_categorical_accuracy: 0.4522 - val_f1_loss: 0.6235\n",
      "Epoch 13/60\n",
      "42/42 [==============================] - 2s 42ms/step - loss: 1.1965 - categorical_accuracy: 0.4887 - f1_loss: 0.6168 - val_loss: 1.2209 - val_categorical_accuracy: 0.4767 - val_f1_loss: 0.6204\n",
      "Epoch 14/60\n",
      "42/42 [==============================] - 2s 41ms/step - loss: 1.1819 - categorical_accuracy: 0.4914 - f1_loss: 0.6166 - val_loss: 1.1945 - val_categorical_accuracy: 0.5111 - val_f1_loss: 0.6151\n",
      "Epoch 15/60\n",
      "42/42 [==============================] - 2s 38ms/step - loss: 1.2074 - categorical_accuracy: 0.4806 - f1_loss: 0.6153 - val_loss: 1.2045 - val_categorical_accuracy: 0.4856 - val_f1_loss: 0.6087\n",
      "Epoch 16/60\n",
      "42/42 [==============================] - 2s 38ms/step - loss: 1.2157 - categorical_accuracy: 0.4823 - f1_loss: 0.6161 - val_loss: 1.1795 - val_categorical_accuracy: 0.5122 - val_f1_loss: 0.6074\n",
      "Epoch 17/60\n",
      "42/42 [==============================] - 2s 42ms/step - loss: 1.1657 - categorical_accuracy: 0.5013 - f1_loss: 0.6035 - val_loss: 1.1671 - val_categorical_accuracy: 0.5111 - val_f1_loss: 0.6009\n",
      "Epoch 18/60\n",
      "42/42 [==============================] - 2s 40ms/step - loss: 1.1412 - categorical_accuracy: 0.5231 - f1_loss: 0.5997 - val_loss: 1.1753 - val_categorical_accuracy: 0.5111 - val_f1_loss: 0.5972\n",
      "Epoch 19/60\n",
      "42/42 [==============================] - 2s 37ms/step - loss: 1.1739 - categorical_accuracy: 0.5121 - f1_loss: 0.5988 - val_loss: 1.1675 - val_categorical_accuracy: 0.5244 - val_f1_loss: 0.5921\n",
      "Epoch 20/60\n",
      "42/42 [==============================] - 2s 40ms/step - loss: 1.1595 - categorical_accuracy: 0.5178 - f1_loss: 0.5896 - val_loss: 1.1566 - val_categorical_accuracy: 0.5167 - val_f1_loss: 0.5929\n",
      "Epoch 21/60\n",
      "42/42 [==============================] - 2s 38ms/step - loss: 1.1503 - categorical_accuracy: 0.5215 - f1_loss: 0.5847 - val_loss: 1.1167 - val_categorical_accuracy: 0.5344 - val_f1_loss: 0.5820\n",
      "Epoch 22/60\n",
      "42/42 [==============================] - 2s 40ms/step - loss: 1.0943 - categorical_accuracy: 0.5487 - f1_loss: 0.5754 - val_loss: 1.0936 - val_categorical_accuracy: 0.5522 - val_f1_loss: 0.5669\n",
      "Epoch 23/60\n",
      "42/42 [==============================] - 2s 38ms/step - loss: 1.1074 - categorical_accuracy: 0.5458 - f1_loss: 0.5723 - val_loss: 1.0860 - val_categorical_accuracy: 0.5478 - val_f1_loss: 0.5683\n",
      "Epoch 24/60\n",
      "42/42 [==============================] - 2s 36ms/step - loss: 1.0549 - categorical_accuracy: 0.5589 - f1_loss: 0.5650 - val_loss: 1.1099 - val_categorical_accuracy: 0.5200 - val_f1_loss: 0.5662\n",
      "Epoch 25/60\n",
      "42/42 [==============================] - 2s 39ms/step - loss: 1.0829 - categorical_accuracy: 0.5476 - f1_loss: 0.5558 - val_loss: 1.0633 - val_categorical_accuracy: 0.5456 - val_f1_loss: 0.5572\n",
      "Epoch 26/60\n",
      "42/42 [==============================] - 2s 39ms/step - loss: 1.0805 - categorical_accuracy: 0.5386 - f1_loss: 0.5610 - val_loss: 1.0395 - val_categorical_accuracy: 0.5700 - val_f1_loss: 0.5525\n",
      "Epoch 27/60\n",
      "42/42 [==============================] - 1s 35ms/step - loss: 1.0147 - categorical_accuracy: 0.5913 - f1_loss: 0.5410 - val_loss: 1.0253 - val_categorical_accuracy: 0.5667 - val_f1_loss: 0.5477\n",
      "Epoch 28/60\n",
      "42/42 [==============================] - 2s 41ms/step - loss: 1.0406 - categorical_accuracy: 0.5720 - f1_loss: 0.5450 - val_loss: 1.0120 - val_categorical_accuracy: 0.5656 - val_f1_loss: 0.5393\n",
      "Epoch 29/60\n",
      "42/42 [==============================] - 2s 39ms/step - loss: 0.9965 - categorical_accuracy: 0.5785 - f1_loss: 0.5396 - val_loss: 0.9917 - val_categorical_accuracy: 0.5689 - val_f1_loss: 0.5267\n",
      "Epoch 30/60\n",
      "42/42 [==============================] - 2s 42ms/step - loss: 1.0206 - categorical_accuracy: 0.5754 - f1_loss: 0.5313 - val_loss: 0.9620 - val_categorical_accuracy: 0.5756 - val_f1_loss: 0.5208\n",
      "Epoch 31/60\n",
      "42/42 [==============================] - 2s 36ms/step - loss: 0.9872 - categorical_accuracy: 0.5907 - f1_loss: 0.5273 - val_loss: 0.9475 - val_categorical_accuracy: 0.6111 - val_f1_loss: 0.5147\n",
      "Epoch 32/60\n",
      "42/42 [==============================] - 2s 51ms/step - loss: 1.0000 - categorical_accuracy: 0.6009 - f1_loss: 0.5293 - val_loss: 0.9485 - val_categorical_accuracy: 0.5922 - val_f1_loss: 0.5121\n",
      "Epoch 33/60\n",
      "42/42 [==============================] - 1s 34ms/step - loss: 0.9662 - categorical_accuracy: 0.6066 - f1_loss: 0.5205 - val_loss: 0.9614 - val_categorical_accuracy: 0.5900 - val_f1_loss: 0.5057\n",
      "Epoch 34/60\n",
      "42/42 [==============================] - 1s 34ms/step - loss: 0.9391 - categorical_accuracy: 0.6218 - f1_loss: 0.5058 - val_loss: 0.9459 - val_categorical_accuracy: 0.5944 - val_f1_loss: 0.5041\n",
      "Epoch 35/60\n",
      "42/42 [==============================] - 2s 39ms/step - loss: 0.9557 - categorical_accuracy: 0.6077 - f1_loss: 0.5106 - val_loss: 0.9244 - val_categorical_accuracy: 0.6022 - val_f1_loss: 0.4948\n",
      "Epoch 36/60\n",
      "42/42 [==============================] - 2s 40ms/step - loss: 0.9201 - categorical_accuracy: 0.6218 - f1_loss: 0.4927 - val_loss: 0.9309 - val_categorical_accuracy: 0.5944 - val_f1_loss: 0.4930\n",
      "Epoch 37/60\n",
      "42/42 [==============================] - 1s 34ms/step - loss: 0.9493 - categorical_accuracy: 0.6055 - f1_loss: 0.5007 - val_loss: 0.9094 - val_categorical_accuracy: 0.6000 - val_f1_loss: 0.4911\n",
      "Epoch 38/60\n",
      "42/42 [==============================] - 2s 39ms/step - loss: 0.9021 - categorical_accuracy: 0.6290 - f1_loss: 0.4897 - val_loss: 0.9003 - val_categorical_accuracy: 0.6144 - val_f1_loss: 0.4904\n",
      "Epoch 39/60\n",
      "42/42 [==============================] - 2s 42ms/step - loss: 0.9160 - categorical_accuracy: 0.6337 - f1_loss: 0.4893 - val_loss: 0.9042 - val_categorical_accuracy: 0.6022 - val_f1_loss: 0.4809\n",
      "Epoch 40/60\n",
      "42/42 [==============================] - 2s 41ms/step - loss: 0.9123 - categorical_accuracy: 0.6424 - f1_loss: 0.4758 - val_loss: 0.8901 - val_categorical_accuracy: 0.6167 - val_f1_loss: 0.4767\n",
      "Epoch 41/60\n",
      "42/42 [==============================] - 2s 36ms/step - loss: 0.8876 - categorical_accuracy: 0.6372 - f1_loss: 0.4767 - val_loss: 0.8853 - val_categorical_accuracy: 0.6189 - val_f1_loss: 0.4764\n",
      "Epoch 42/60\n",
      "42/42 [==============================] - 2s 41ms/step - loss: 0.8922 - categorical_accuracy: 0.6412 - f1_loss: 0.4795 - val_loss: 0.9033 - val_categorical_accuracy: 0.5967 - val_f1_loss: 0.4759\n",
      "Epoch 43/60\n",
      "42/42 [==============================] - 2s 38ms/step - loss: 0.8882 - categorical_accuracy: 0.6347 - f1_loss: 0.4830 - val_loss: 0.8791 - val_categorical_accuracy: 0.6111 - val_f1_loss: 0.4724\n",
      "Epoch 44/60\n",
      "42/42 [==============================] - 2s 39ms/step - loss: 0.8781 - categorical_accuracy: 0.6444 - f1_loss: 0.4700 - val_loss: 0.8752 - val_categorical_accuracy: 0.6222 - val_f1_loss: 0.4655\n",
      "Epoch 45/60\n",
      "42/42 [==============================] - 2s 38ms/step - loss: 0.8791 - categorical_accuracy: 0.6358 - f1_loss: 0.4714 - val_loss: 0.8742 - val_categorical_accuracy: 0.6167 - val_f1_loss: 0.4598\n",
      "Epoch 46/60\n",
      "42/42 [==============================] - 2s 42ms/step - loss: 0.8964 - categorical_accuracy: 0.6238 - f1_loss: 0.4695 - val_loss: 0.8871 - val_categorical_accuracy: 0.6211 - val_f1_loss: 0.4710\n",
      "Epoch 47/60\n",
      "42/42 [==============================] - 2s 37ms/step - loss: 0.8806 - categorical_accuracy: 0.6400 - f1_loss: 0.4678 - val_loss: 0.8986 - val_categorical_accuracy: 0.6189 - val_f1_loss: 0.4658\n",
      "Epoch 48/60\n",
      "42/42 [==============================] - 1s 35ms/step - loss: 0.8432 - categorical_accuracy: 0.6566 - f1_loss: 0.4567 - val_loss: 0.8653 - val_categorical_accuracy: 0.6444 - val_f1_loss: 0.4580\n",
      "Epoch 49/60\n",
      "42/42 [==============================] - 1s 34ms/step - loss: 0.8245 - categorical_accuracy: 0.6613 - f1_loss: 0.4497 - val_loss: 0.8567 - val_categorical_accuracy: 0.6333 - val_f1_loss: 0.4573\n",
      "Epoch 50/60\n",
      "42/42 [==============================] - 1s 31ms/step - loss: 0.8342 - categorical_accuracy: 0.6507 - f1_loss: 0.4503 - val_loss: 0.8342 - val_categorical_accuracy: 0.6411 - val_f1_loss: 0.4453\n",
      "Epoch 51/60\n",
      "42/42 [==============================] - 1s 32ms/step - loss: 0.8465 - categorical_accuracy: 0.6445 - f1_loss: 0.4543 - val_loss: 0.8472 - val_categorical_accuracy: 0.6322 - val_f1_loss: 0.4527\n",
      "Epoch 52/60\n",
      "42/42 [==============================] - 1s 30ms/step - loss: 0.8168 - categorical_accuracy: 0.6758 - f1_loss: 0.4411 - val_loss: 0.8508 - val_categorical_accuracy: 0.6467 - val_f1_loss: 0.4443\n",
      "Epoch 53/60\n",
      "42/42 [==============================] - 1s 27ms/step - loss: 0.8649 - categorical_accuracy: 0.6564 - f1_loss: 0.4524 - val_loss: 0.8472 - val_categorical_accuracy: 0.6467 - val_f1_loss: 0.4463\n",
      "Epoch 54/60\n",
      "42/42 [==============================] - 1s 28ms/step - loss: 0.8095 - categorical_accuracy: 0.6801 - f1_loss: 0.4298 - val_loss: 0.8334 - val_categorical_accuracy: 0.6311 - val_f1_loss: 0.4460\n",
      "Epoch 55/60\n",
      "42/42 [==============================] - 1s 27ms/step - loss: 0.7832 - categorical_accuracy: 0.6867 - f1_loss: 0.4307 - val_loss: 0.8228 - val_categorical_accuracy: 0.6522 - val_f1_loss: 0.4411\n",
      "Epoch 56/60\n",
      "42/42 [==============================] - 1s 29ms/step - loss: 0.8402 - categorical_accuracy: 0.6598 - f1_loss: 0.4574 - val_loss: 0.8160 - val_categorical_accuracy: 0.6378 - val_f1_loss: 0.4416\n",
      "Epoch 57/60\n",
      "42/42 [==============================] - 1s 29ms/step - loss: 0.8182 - categorical_accuracy: 0.6761 - f1_loss: 0.4404 - val_loss: 0.8333 - val_categorical_accuracy: 0.6444 - val_f1_loss: 0.4414\n",
      "Epoch 58/60\n",
      "42/42 [==============================] - 1s 25ms/step - loss: 0.7752 - categorical_accuracy: 0.6948 - f1_loss: 0.4265 - val_loss: 0.8143 - val_categorical_accuracy: 0.6467 - val_f1_loss: 0.4385\n",
      "Epoch 59/60\n",
      "42/42 [==============================] - 1s 28ms/step - loss: 0.7840 - categorical_accuracy: 0.6814 - f1_loss: 0.4242 - val_loss: 0.8151 - val_categorical_accuracy: 0.6411 - val_f1_loss: 0.4401\n",
      "Epoch 60/60\n",
      "42/42 [==============================] - 1s 27ms/step - loss: 0.7857 - categorical_accuracy: 0.6909 - f1_loss: 0.4316 - val_loss: 0.8370 - val_categorical_accuracy: 0.6444 - val_f1_loss: 0.4388\n"
     ]
    }
   ],
   "source": [
    "cnnhistory_lstm_mel=model_mel_lstm.fit(X_traincnn_mel, y_onehot_train_mel, batch_size=50, epochs=60, validation_data=(X_testcnn_mel, y_onehot_test_mel), callbacks=[mcp_save, rlrop])"
   ]
  },
  {
   "cell_type": "code",
   "execution_count": 733,
   "id": "b7c71a4e",
   "metadata": {},
   "outputs": [
    {
     "name": "stdout",
     "output_type": "stream",
     "text": [
      "29/29 [==============================] - 0s 9ms/step - loss: 0.8370 - categorical_accuracy: 0.6444 - f1_loss: 0.4498\n",
      "Restored model, accuracy: 64.44%\n"
     ]
    }
   ],
   "source": [
    "loss, acc, f1_score = model_mel_lstm.evaluate(X_testcnn_mel, y_onehot_test_mel)\n",
    "print(\"Restored model, accuracy: {:5.2f}%\".format(100*acc))"
   ]
  },
  {
   "cell_type": "code",
   "execution_count": 734,
   "id": "2aa1a048",
   "metadata": {},
   "outputs": [
    {
     "data": {
      "image/png": "[encoded data removed]",
      "text/plain": [
       "<Figure size 432x288 with 1 Axes>"
      ]
     },
     "metadata": {
      "needs_background": "light"
     },
     "output_type": "display_data"
    },
    {
     "data": {
      "image/png": "[encoded data removed]",
      "text/plain": [
       "<Figure size 432x288 with 1 Axes>"
      ]
     },
     "metadata": {
      "needs_background": "light"
     },
     "output_type": "display_data"
    }
   ],
   "source": [
    "plt.plot(cnnhistory_lstm_mel.history['categorical_accuracy'])\n",
    "plt.plot(cnnhistory_lstm_mel.history['val_categorical_accuracy'])\n",
    "plt.title('model accuracy')\n",
    "plt.ylabel('accuracy')\n",
    "plt.xlabel('epoch')\n",
    "plt.legend(['train', 'test'], loc='upper left')\n",
    "plt.show()\n",
    "# summarize history for loss\n",
    "plt.plot(cnnhistory_lstm_mel.history['loss'])\n",
    "plt.plot(cnnhistory_lstm_mel.history['val_loss'])\n",
    "plt.title('model loss')\n",
    "plt.ylabel('loss')\n",
    "plt.xlabel('epoch')\n",
    "plt.legend(['train', 'test'], loc='upper left')\n",
    "plt.show()"
   ]
  },
  {
   "cell_type": "code",
   "execution_count": 814,
   "id": "810c53f1",
   "metadata": {},
   "outputs": [
    {
     "name": "stdout",
     "output_type": "stream",
     "text": [
      "Confusion matrix, without normalization\n",
      "[[103  13   5   0   0   9]\n",
      " [ 45  42  25   1  11  29]\n",
      " [ 19  24  42   1  10  48]\n",
      " [  0   0   0 158   0   0]\n",
      " [  0   0   0   0 165   0]\n",
      " [ 16  23  35   0   6  70]]\n"
     ]
    },
    {
     "data": {
      "image/png": "[encoded data removed]",
      "text/plain": [
       "<Figure size 432x288 with 2 Axes>"
      ]
     },
     "metadata": {
      "needs_background": "light"
     },
     "output_type": "display_data"
    }
   ],
   "source": [
    "y_pred = model_mel_lstm.predict(X_testcnn_mel)\n",
    "matrix = metrics.confusion_matrix(y_onehot_test_mel.argmax(axis=1), y_pred.argmax(axis=1))\n",
    "emo_keys = list(['ang', 'hap', 'sad', 'fea', 'sur', 'neu'])\n",
    "plot_confusion_matrix(matrix, classes=emo_keys)"
   ]
  },
  {
   "cell_type": "code",
   "execution_count": 815,
   "id": "007502f0",
   "metadata": {},
   "outputs": [
    {
     "name": "stdout",
     "output_type": "stream",
     "text": [
      "              precision    recall  f1-score   support\n",
      "\n",
      "         ang       0.56      0.79      0.66       130\n",
      "         hap       0.41      0.27      0.33       153\n",
      "         sad       0.39      0.29      0.33       144\n",
      "         fea       0.99      1.00      0.99       158\n",
      "         sur       0.86      1.00      0.92       165\n",
      "         neu       0.45      0.47      0.46       150\n",
      "\n",
      "    accuracy                           0.64       900\n",
      "   macro avg       0.61      0.64      0.62       900\n",
      "weighted avg       0.62      0.64      0.62       900\n",
      "\n"
     ]
    }
   ],
   "source": [
    "target_names = ['ang', 'hap', 'sad', 'fea', 'sur', 'neu']\n",
    "print(classification_report(y_onehot_test_mel.argmax(axis=1), y_pred.argmax(axis=1), target_names=target_names))"
   ]
  },
  {
   "cell_type": "markdown",
   "id": "91db198f",
   "metadata": {},
   "source": [
    "## BASE CNN"
   ]
  },
  {
   "cell_type": "markdown",
   "id": "e9e25625",
   "metadata": {},
   "source": [
    "#### MFCC"
   ]
  },
  {
   "cell_type": "code",
   "execution_count": 100,
   "id": "398714be",
   "metadata": {},
   "outputs": [],
   "source": [
    "model_mfcc_base = Sequential()\n",
    "\n",
    "model_mfcc_base.add(Conv1D(32, 6,padding='same',input_shape=(40,1)))        #1\n",
    "model_mfcc_base.add(Activation('relu'))\n",
    "model_mfcc_base.add(MaxPooling1D(pool_size=(5)))\n",
    "model_mfcc_base.add(Dropout(0.01))\n",
    "\n",
    "model_mfcc_base.add(Conv1D(128, 6,padding='same',))                           #2\n",
    "model_mfcc_base.add(Activation('relu'))\n",
    "#model_mfcc_base.add(MaxPooling1D(pool_size=(5)))\n",
    "model_mfcc_base.add(Dropout(0.01))\n",
    "\n",
    "model_mfcc_base.add(GlobalMaxPooling1D())\n",
    "model_mfcc_base.add(Dense(6))                                                 #5\n",
    "model_mfcc_base.add(Activation('softmax'))"
   ]
  },
  {
   "cell_type": "code",
   "execution_count": 101,
   "id": "4ab6eb00",
   "metadata": {},
   "outputs": [
    {
     "name": "stdout",
     "output_type": "stream",
     "text": [
      "Model: \"sequential_8\"\n",
      "_________________________________________________________________\n",
      "Layer (type)                 Output Shape              Param #   \n",
      "=================================================================\n",
      "conv1d_16 (Conv1D)           (None, 40, 32)            224       \n",
      "_________________________________________________________________\n",
      "activation_16 (Activation)   (None, 40, 32)            0         \n",
      "_________________________________________________________________\n",
      "max_pooling1d_8 (MaxPooling1 (None, 8, 32)             0         \n",
      "_________________________________________________________________\n",
      "dropout_28 (Dropout)         (None, 8, 32)             0         \n",
      "_________________________________________________________________\n",
      "conv1d_17 (Conv1D)           (None, 8, 128)            24704     \n",
      "_________________________________________________________________\n",
      "activation_17 (Activation)   (None, 8, 128)            0         \n",
      "_________________________________________________________________\n",
      "dropout_29 (Dropout)         (None, 8, 128)            0         \n",
      "_________________________________________________________________\n",
      "global_max_pooling1d (Global (None, 128)               0         \n",
      "_________________________________________________________________\n",
      "dense_20 (Dense)             (None, 6)                 774       \n",
      "_________________________________________________________________\n",
      "activation_18 (Activation)   (None, 6)                 0         \n",
      "=================================================================\n",
      "Total params: 25,702\n",
      "Trainable params: 25,702\n",
      "Non-trainable params: 0\n",
      "_________________________________________________________________\n"
     ]
    }
   ],
   "source": [
    "model_mfcc_base.summary()"
   ]
  },
  {
   "cell_type": "code",
   "execution_count": 102,
   "id": "29c9dbef",
   "metadata": {},
   "outputs": [],
   "source": [
    "model_mfcc_base.compile(loss='categorical_crossentropy',\n",
    "              optimizer=opt,\n",
    "              metrics=['categorical_accuracy', f1_loss])"
   ]
  },
  {
   "cell_type": "code",
   "execution_count": 103,
   "id": "1811796a",
   "metadata": {},
   "outputs": [
    {
     "name": "stdout",
     "output_type": "stream",
     "text": [
      "Epoch 1/100\n",
      "42/42 [==============================] - 2s 32ms/step - loss: 12.4479 - categorical_accuracy: 0.1880 - f1_loss: 0.9204 - val_loss: 3.1912 - val_categorical_accuracy: 0.3044 - val_f1_loss: 0.8508\n",
      "Epoch 2/100\n",
      "42/42 [==============================] - 1s 13ms/step - loss: 2.6161 - categorical_accuracy: 0.2381 - f1_loss: 0.8146 - val_loss: 1.8022 - val_categorical_accuracy: 0.3722 - val_f1_loss: 0.7616\n",
      "Epoch 3/100\n",
      "42/42 [==============================] - 1s 13ms/step - loss: 1.9311 - categorical_accuracy: 0.3032 - f1_loss: 0.7644 - val_loss: 1.5393 - val_categorical_accuracy: 0.3356 - val_f1_loss: 0.7426\n",
      "Epoch 4/100\n",
      "42/42 [==============================] - 1s 15ms/step - loss: 1.6522 - categorical_accuracy: 0.3920 - f1_loss: 0.7271 - val_loss: 1.6768 - val_categorical_accuracy: 0.3833 - val_f1_loss: 0.7340\n",
      "Epoch 5/100\n",
      "42/42 [==============================] - 1s 15ms/step - loss: 1.6986 - categorical_accuracy: 0.3494 - f1_loss: 0.7292 - val_loss: 1.4193 - val_categorical_accuracy: 0.4244 - val_f1_loss: 0.7022\n",
      "Epoch 6/100\n",
      "42/42 [==============================] - 1s 12ms/step - loss: 1.6114 - categorical_accuracy: 0.3836 - f1_loss: 0.7164 - val_loss: 1.3762 - val_categorical_accuracy: 0.4144 - val_f1_loss: 0.6952\n",
      "Epoch 7/100\n",
      "42/42 [==============================] - 1s 13ms/step - loss: 1.4708 - categorical_accuracy: 0.4424 - f1_loss: 0.6828 - val_loss: 1.3350 - val_categorical_accuracy: 0.4422 - val_f1_loss: 0.6804\n",
      "Epoch 8/100\n",
      "42/42 [==============================] - 0s 12ms/step - loss: 1.4916 - categorical_accuracy: 0.4142 - f1_loss: 0.6851 - val_loss: 1.3309 - val_categorical_accuracy: 0.4167 - val_f1_loss: 0.6717\n",
      "Epoch 9/100\n",
      "42/42 [==============================] - 0s 12ms/step - loss: 1.4913 - categorical_accuracy: 0.4180 - f1_loss: 0.6855 - val_loss: 1.4193 - val_categorical_accuracy: 0.3978 - val_f1_loss: 0.6810\n",
      "Epoch 10/100\n",
      "42/42 [==============================] - 1s 13ms/step - loss: 1.3919 - categorical_accuracy: 0.4564 - f1_loss: 0.6650 - val_loss: 1.4682 - val_categorical_accuracy: 0.4289 - val_f1_loss: 0.6755\n",
      "Epoch 11/100\n",
      "42/42 [==============================] - 1s 12ms/step - loss: 1.4542 - categorical_accuracy: 0.4323 - f1_loss: 0.6696 - val_loss: 1.2544 - val_categorical_accuracy: 0.4789 - val_f1_loss: 0.6473\n",
      "Epoch 12/100\n",
      "42/42 [==============================] - 0s 11ms/step - loss: 1.3353 - categorical_accuracy: 0.4614 - f1_loss: 0.6547 - val_loss: 1.3342 - val_categorical_accuracy: 0.4144 - val_f1_loss: 0.6585\n",
      "Epoch 13/100\n",
      "42/42 [==============================] - 1s 13ms/step - loss: 1.3416 - categorical_accuracy: 0.4845 - f1_loss: 0.6525 - val_loss: 1.2535 - val_categorical_accuracy: 0.5078 - val_f1_loss: 0.6489\n",
      "Epoch 14/100\n",
      "42/42 [==============================] - 0s 11ms/step - loss: 1.3000 - categorical_accuracy: 0.4981 - f1_loss: 0.6384 - val_loss: 1.2753 - val_categorical_accuracy: 0.5011 - val_f1_loss: 0.6429\n",
      "Epoch 15/100\n",
      "42/42 [==============================] - 0s 12ms/step - loss: 1.3248 - categorical_accuracy: 0.4728 - f1_loss: 0.6483 - val_loss: 1.2986 - val_categorical_accuracy: 0.4867 - val_f1_loss: 0.6481\n",
      "Epoch 16/100\n",
      "42/42 [==============================] - 1s 13ms/step - loss: 1.3263 - categorical_accuracy: 0.4793 - f1_loss: 0.6437 - val_loss: 1.2544 - val_categorical_accuracy: 0.5067 - val_f1_loss: 0.6467\n",
      "Epoch 17/100\n",
      "42/42 [==============================] - 1s 12ms/step - loss: 1.2941 - categorical_accuracy: 0.4799 - f1_loss: 0.6403 - val_loss: 1.2966 - val_categorical_accuracy: 0.5100 - val_f1_loss: 0.6423\n",
      "Epoch 18/100\n",
      "42/42 [==============================] - 0s 11ms/step - loss: 1.3167 - categorical_accuracy: 0.4671 - f1_loss: 0.6461 - val_loss: 1.2767 - val_categorical_accuracy: 0.4644 - val_f1_loss: 0.6375\n",
      "Epoch 19/100\n",
      "42/42 [==============================] - 1s 14ms/step - loss: 1.2180 - categorical_accuracy: 0.5247 - f1_loss: 0.6167 - val_loss: 1.2418 - val_categorical_accuracy: 0.5289 - val_f1_loss: 0.6284\n",
      "Epoch 20/100\n",
      "42/42 [==============================] - 1s 12ms/step - loss: 1.2424 - categorical_accuracy: 0.5058 - f1_loss: 0.6207 - val_loss: 1.1900 - val_categorical_accuracy: 0.5089 - val_f1_loss: 0.6233\n",
      "Epoch 21/100\n",
      "42/42 [==============================] - 1s 14ms/step - loss: 1.1950 - categorical_accuracy: 0.5345 - f1_loss: 0.6105 - val_loss: 1.1776 - val_categorical_accuracy: 0.5178 - val_f1_loss: 0.6147\n",
      "Epoch 22/100\n",
      "42/42 [==============================] - 1s 30ms/step - loss: 1.1450 - categorical_accuracy: 0.5326 - f1_loss: 0.5995 - val_loss: 1.1652 - val_categorical_accuracy: 0.5189 - val_f1_loss: 0.6128\n",
      "Epoch 23/100\n",
      "42/42 [==============================] - 0s 11ms/step - loss: 1.1924 - categorical_accuracy: 0.5191 - f1_loss: 0.6101 - val_loss: 1.1397 - val_categorical_accuracy: 0.5244 - val_f1_loss: 0.6044\n",
      "Epoch 24/100\n",
      "42/42 [==============================] - 0s 12ms/step - loss: 1.1385 - categorical_accuracy: 0.5548 - f1_loss: 0.5904 - val_loss: 1.1357 - val_categorical_accuracy: 0.5222 - val_f1_loss: 0.5985\n",
      "Epoch 25/100\n",
      "42/42 [==============================] - 1s 13ms/step - loss: 1.1645 - categorical_accuracy: 0.5559 - f1_loss: 0.5975 - val_loss: 1.1689 - val_categorical_accuracy: 0.5400 - val_f1_loss: 0.6084\n",
      "Epoch 26/100\n",
      "42/42 [==============================] - 1s 12ms/step - loss: 1.1657 - categorical_accuracy: 0.5348 - f1_loss: 0.5972 - val_loss: 1.1624 - val_categorical_accuracy: 0.5233 - val_f1_loss: 0.6077\n",
      "Epoch 27/100\n",
      "42/42 [==============================] - 1s 14ms/step - loss: 1.1418 - categorical_accuracy: 0.5424 - f1_loss: 0.5892 - val_loss: 1.1472 - val_categorical_accuracy: 0.5367 - val_f1_loss: 0.5962\n",
      "Epoch 28/100\n",
      "42/42 [==============================] - 1s 13ms/step - loss: 1.1371 - categorical_accuracy: 0.5585 - f1_loss: 0.5934 - val_loss: 1.1832 - val_categorical_accuracy: 0.4878 - val_f1_loss: 0.6078\n",
      "Epoch 29/100\n",
      "42/42 [==============================] - 0s 11ms/step - loss: 1.1420 - categorical_accuracy: 0.5296 - f1_loss: 0.5914 - val_loss: 1.1808 - val_categorical_accuracy: 0.5367 - val_f1_loss: 0.6011\n",
      "Epoch 30/100\n",
      "42/42 [==============================] - 0s 12ms/step - loss: 1.1507 - categorical_accuracy: 0.5587 - f1_loss: 0.5881 - val_loss: 1.1326 - val_categorical_accuracy: 0.5311 - val_f1_loss: 0.5946\n",
      "Epoch 31/100\n",
      "42/42 [==============================] - 1s 13ms/step - loss: 1.1246 - categorical_accuracy: 0.5505 - f1_loss: 0.5849 - val_loss: 1.1139 - val_categorical_accuracy: 0.5533 - val_f1_loss: 0.5900\n",
      "Epoch 32/100\n",
      "42/42 [==============================] - 1s 14ms/step - loss: 1.1203 - categorical_accuracy: 0.5588 - f1_loss: 0.5822 - val_loss: 1.1628 - val_categorical_accuracy: 0.5344 - val_f1_loss: 0.5970\n",
      "Epoch 33/100\n",
      "42/42 [==============================] - 1s 13ms/step - loss: 1.1517 - categorical_accuracy: 0.5423 - f1_loss: 0.5804 - val_loss: 1.1170 - val_categorical_accuracy: 0.5278 - val_f1_loss: 0.5893\n",
      "Epoch 34/100\n",
      "42/42 [==============================] - 1s 14ms/step - loss: 1.1027 - categorical_accuracy: 0.5710 - f1_loss: 0.5732 - val_loss: 1.1191 - val_categorical_accuracy: 0.5522 - val_f1_loss: 0.5902\n",
      "Epoch 35/100\n",
      "42/42 [==============================] - 0s 12ms/step - loss: 1.1118 - categorical_accuracy: 0.5588 - f1_loss: 0.5796 - val_loss: 1.0799 - val_categorical_accuracy: 0.5633 - val_f1_loss: 0.5771\n",
      "Epoch 36/100\n",
      "42/42 [==============================] - 1s 15ms/step - loss: 1.0673 - categorical_accuracy: 0.5641 - f1_loss: 0.5647 - val_loss: 1.0764 - val_categorical_accuracy: 0.5533 - val_f1_loss: 0.5715\n",
      "Epoch 37/100\n",
      "42/42 [==============================] - 1s 12ms/step - loss: 1.0527 - categorical_accuracy: 0.5845 - f1_loss: 0.5582 - val_loss: 1.0604 - val_categorical_accuracy: 0.5500 - val_f1_loss: 0.5719\n",
      "Epoch 38/100\n",
      "42/42 [==============================] - 1s 12ms/step - loss: 1.0738 - categorical_accuracy: 0.5807 - f1_loss: 0.5692 - val_loss: 1.0581 - val_categorical_accuracy: 0.5622 - val_f1_loss: 0.5626\n",
      "Epoch 39/100\n",
      "42/42 [==============================] - 1s 13ms/step - loss: 1.0656 - categorical_accuracy: 0.5811 - f1_loss: 0.5591 - val_loss: 1.0592 - val_categorical_accuracy: 0.5500 - val_f1_loss: 0.5622\n",
      "Epoch 40/100\n",
      "42/42 [==============================] - 1s 13ms/step - loss: 1.0683 - categorical_accuracy: 0.5906 - f1_loss: 0.5569 - val_loss: 1.0574 - val_categorical_accuracy: 0.5711 - val_f1_loss: 0.5665\n",
      "Epoch 41/100\n",
      "42/42 [==============================] - 1s 13ms/step - loss: 1.0643 - categorical_accuracy: 0.5706 - f1_loss: 0.5567 - val_loss: 1.0797 - val_categorical_accuracy: 0.5378 - val_f1_loss: 0.5658\n",
      "Epoch 42/100\n",
      "42/42 [==============================] - 1s 12ms/step - loss: 1.0453 - categorical_accuracy: 0.5929 - f1_loss: 0.5548 - val_loss: 1.1275 - val_categorical_accuracy: 0.5567 - val_f1_loss: 0.5714\n",
      "Epoch 43/100\n",
      "42/42 [==============================] - 1s 13ms/step - loss: 1.0311 - categorical_accuracy: 0.5880 - f1_loss: 0.5486 - val_loss: 1.0810 - val_categorical_accuracy: 0.5922 - val_f1_loss: 0.5629\n",
      "Epoch 44/100\n",
      "42/42 [==============================] - 1s 13ms/step - loss: 1.0084 - categorical_accuracy: 0.6041 - f1_loss: 0.5464 - val_loss: 1.1066 - val_categorical_accuracy: 0.5422 - val_f1_loss: 0.5716\n",
      "Epoch 45/100\n",
      "42/42 [==============================] - 1s 12ms/step - loss: 1.0028 - categorical_accuracy: 0.6078 - f1_loss: 0.5374 - val_loss: 1.0293 - val_categorical_accuracy: 0.5844 - val_f1_loss: 0.5566\n",
      "Epoch 46/100\n",
      "42/42 [==============================] - 0s 11ms/step - loss: 0.9996 - categorical_accuracy: 0.6040 - f1_loss: 0.5369 - val_loss: 1.0669 - val_categorical_accuracy: 0.5611 - val_f1_loss: 0.5628\n",
      "Epoch 47/100\n",
      "42/42 [==============================] - 1s 14ms/step - loss: 1.0469 - categorical_accuracy: 0.5954 - f1_loss: 0.5470 - val_loss: 1.0267 - val_categorical_accuracy: 0.5922 - val_f1_loss: 0.5507\n",
      "Epoch 48/100\n",
      "42/42 [==============================] - 0s 11ms/step - loss: 1.0244 - categorical_accuracy: 0.5792 - f1_loss: 0.5457 - val_loss: 1.0351 - val_categorical_accuracy: 0.5889 - val_f1_loss: 0.5497\n",
      "Epoch 49/100\n",
      "42/42 [==============================] - 1s 12ms/step - loss: 1.0244 - categorical_accuracy: 0.5973 - f1_loss: 0.5392 - val_loss: 1.0062 - val_categorical_accuracy: 0.5900 - val_f1_loss: 0.5427\n",
      "Epoch 50/100\n",
      "42/42 [==============================] - 0s 12ms/step - loss: 0.9855 - categorical_accuracy: 0.6056 - f1_loss: 0.5268 - val_loss: 1.0880 - val_categorical_accuracy: 0.5489 - val_f1_loss: 0.5666\n",
      "Epoch 51/100\n",
      "42/42 [==============================] - 1s 13ms/step - loss: 1.0081 - categorical_accuracy: 0.6075 - f1_loss: 0.5375 - val_loss: 1.0655 - val_categorical_accuracy: 0.5733 - val_f1_loss: 0.5568\n",
      "Epoch 52/100\n",
      "42/42 [==============================] - 1s 15ms/step - loss: 0.9970 - categorical_accuracy: 0.6092 - f1_loss: 0.5320 - val_loss: 1.0333 - val_categorical_accuracy: 0.5789 - val_f1_loss: 0.5498\n",
      "Epoch 53/100\n",
      "42/42 [==============================] - 1s 13ms/step - loss: 1.0122 - categorical_accuracy: 0.5972 - f1_loss: 0.5351 - val_loss: 1.0735 - val_categorical_accuracy: 0.5644 - val_f1_loss: 0.5541\n",
      "Epoch 54/100\n",
      "42/42 [==============================] - 1s 13ms/step - loss: 0.9593 - categorical_accuracy: 0.6353 - f1_loss: 0.5186 - val_loss: 1.0111 - val_categorical_accuracy: 0.5767 - val_f1_loss: 0.5379\n",
      "Epoch 55/100\n",
      "42/42 [==============================] - 1s 13ms/step - loss: 0.9881 - categorical_accuracy: 0.6161 - f1_loss: 0.5232 - val_loss: 0.9874 - val_categorical_accuracy: 0.5967 - val_f1_loss: 0.5382\n",
      "Epoch 56/100\n",
      "42/42 [==============================] - 1s 14ms/step - loss: 0.9857 - categorical_accuracy: 0.5985 - f1_loss: 0.5319 - val_loss: 0.9975 - val_categorical_accuracy: 0.6100 - val_f1_loss: 0.5337\n",
      "Epoch 57/100\n",
      "42/42 [==============================] - 0s 12ms/step - loss: 1.0014 - categorical_accuracy: 0.6085 - f1_loss: 0.5240 - val_loss: 0.9929 - val_categorical_accuracy: 0.6044 - val_f1_loss: 0.5371\n",
      "Epoch 58/100\n",
      "42/42 [==============================] - 1s 13ms/step - loss: 0.9300 - categorical_accuracy: 0.6397 - f1_loss: 0.5071 - val_loss: 0.9954 - val_categorical_accuracy: 0.6033 - val_f1_loss: 0.5301\n",
      "Epoch 59/100\n",
      "42/42 [==============================] - 1s 13ms/step - loss: 0.9587 - categorical_accuracy: 0.6167 - f1_loss: 0.5156 - val_loss: 1.0204 - val_categorical_accuracy: 0.5889 - val_f1_loss: 0.5366\n",
      "Epoch 60/100\n",
      "42/42 [==============================] - 1s 12ms/step - loss: 0.9319 - categorical_accuracy: 0.6405 - f1_loss: 0.5007 - val_loss: 1.0094 - val_categorical_accuracy: 0.5867 - val_f1_loss: 0.5309\n",
      "Epoch 61/100\n",
      "42/42 [==============================] - 1s 12ms/step - loss: 0.9429 - categorical_accuracy: 0.6437 - f1_loss: 0.5050 - val_loss: 1.0080 - val_categorical_accuracy: 0.6089 - val_f1_loss: 0.5316\n",
      "Epoch 62/100\n",
      "42/42 [==============================] - 1s 13ms/step - loss: 0.9251 - categorical_accuracy: 0.6257 - f1_loss: 0.5008 - val_loss: 1.0058 - val_categorical_accuracy: 0.5856 - val_f1_loss: 0.5329\n",
      "Epoch 63/100\n",
      "42/42 [==============================] - 1s 12ms/step - loss: 0.9325 - categorical_accuracy: 0.6279 - f1_loss: 0.5057 - val_loss: 1.0238 - val_categorical_accuracy: 0.5733 - val_f1_loss: 0.5393\n",
      "Epoch 64/100\n",
      "42/42 [==============================] - 1s 13ms/step - loss: 0.8951 - categorical_accuracy: 0.6471 - f1_loss: 0.4995 - val_loss: 0.9593 - val_categorical_accuracy: 0.6111 - val_f1_loss: 0.5240\n",
      "Epoch 65/100\n",
      "42/42 [==============================] - 1s 31ms/step - loss: 0.8968 - categorical_accuracy: 0.6544 - f1_loss: 0.4953 - val_loss: 0.9749 - val_categorical_accuracy: 0.5967 - val_f1_loss: 0.5219\n",
      "Epoch 66/100\n",
      "42/42 [==============================] - 1s 14ms/step - loss: 0.9244 - categorical_accuracy: 0.6220 - f1_loss: 0.4953 - val_loss: 1.0131 - val_categorical_accuracy: 0.5856 - val_f1_loss: 0.5342\n",
      "Epoch 67/100\n",
      "42/42 [==============================] - 1s 13ms/step - loss: 0.9314 - categorical_accuracy: 0.6364 - f1_loss: 0.5040 - val_loss: 0.9793 - val_categorical_accuracy: 0.6033 - val_f1_loss: 0.5276\n",
      "Epoch 68/100\n",
      "42/42 [==============================] - 1s 17ms/step - loss: 0.8852 - categorical_accuracy: 0.6604 - f1_loss: 0.4930 - val_loss: 0.9917 - val_categorical_accuracy: 0.6211 - val_f1_loss: 0.5164\n",
      "Epoch 69/100\n",
      "42/42 [==============================] - 1s 13ms/step - loss: 0.8776 - categorical_accuracy: 0.6668 - f1_loss: 0.4819 - val_loss: 0.9700 - val_categorical_accuracy: 0.5956 - val_f1_loss: 0.5176\n",
      "Epoch 70/100\n",
      "42/42 [==============================] - 1s 14ms/step - loss: 0.9014 - categorical_accuracy: 0.6352 - f1_loss: 0.4943 - val_loss: 0.9610 - val_categorical_accuracy: 0.6078 - val_f1_loss: 0.5118\n",
      "Epoch 71/100\n",
      "42/42 [==============================] - 0s 11ms/step - loss: 0.8965 - categorical_accuracy: 0.6476 - f1_loss: 0.4871 - val_loss: 0.9533 - val_categorical_accuracy: 0.6178 - val_f1_loss: 0.5155\n",
      "Epoch 72/100\n",
      "42/42 [==============================] - 0s 11ms/step - loss: 0.8981 - categorical_accuracy: 0.6516 - f1_loss: 0.4947 - val_loss: 0.9673 - val_categorical_accuracy: 0.6067 - val_f1_loss: 0.5188\n",
      "Epoch 73/100\n",
      "42/42 [==============================] - 1s 12ms/step - loss: 0.9034 - categorical_accuracy: 0.6528 - f1_loss: 0.4842 - val_loss: 0.9586 - val_categorical_accuracy: 0.6011 - val_f1_loss: 0.5125\n",
      "Epoch 74/100\n",
      "42/42 [==============================] - 1s 13ms/step - loss: 0.8891 - categorical_accuracy: 0.6562 - f1_loss: 0.4902 - val_loss: 0.9282 - val_categorical_accuracy: 0.6289 - val_f1_loss: 0.5053\n",
      "Epoch 75/100\n",
      "42/42 [==============================] - 1s 13ms/step - loss: 0.8830 - categorical_accuracy: 0.6591 - f1_loss: 0.4911 - val_loss: 0.9920 - val_categorical_accuracy: 0.6044 - val_f1_loss: 0.5146\n",
      "Epoch 76/100\n",
      "42/42 [==============================] - 1s 12ms/step - loss: 0.8801 - categorical_accuracy: 0.6349 - f1_loss: 0.4812 - val_loss: 0.9476 - val_categorical_accuracy: 0.6200 - val_f1_loss: 0.5078\n",
      "Epoch 77/100\n",
      "42/42 [==============================] - 1s 15ms/step - loss: 0.8674 - categorical_accuracy: 0.6453 - f1_loss: 0.4739 - val_loss: 0.9290 - val_categorical_accuracy: 0.6278 - val_f1_loss: 0.5015\n",
      "Epoch 78/100\n",
      "42/42 [==============================] - 1s 13ms/step - loss: 0.8415 - categorical_accuracy: 0.6733 - f1_loss: 0.4722 - val_loss: 0.9342 - val_categorical_accuracy: 0.6122 - val_f1_loss: 0.5084\n",
      "Epoch 79/100\n",
      "42/42 [==============================] - 1s 12ms/step - loss: 0.8703 - categorical_accuracy: 0.6475 - f1_loss: 0.4750 - val_loss: 0.9422 - val_categorical_accuracy: 0.6244 - val_f1_loss: 0.5025\n",
      "Epoch 80/100\n",
      "42/42 [==============================] - 0s 11ms/step - loss: 0.8536 - categorical_accuracy: 0.6624 - f1_loss: 0.4779 - val_loss: 0.9232 - val_categorical_accuracy: 0.6311 - val_f1_loss: 0.5026\n",
      "Epoch 81/100\n",
      "42/42 [==============================] - 1s 13ms/step - loss: 0.8508 - categorical_accuracy: 0.6748 - f1_loss: 0.4707 - val_loss: 0.9221 - val_categorical_accuracy: 0.6167 - val_f1_loss: 0.4985\n",
      "Epoch 82/100\n",
      "42/42 [==============================] - 1s 13ms/step - loss: 0.8260 - categorical_accuracy: 0.6868 - f1_loss: 0.4653 - val_loss: 0.9299 - val_categorical_accuracy: 0.6244 - val_f1_loss: 0.4985\n",
      "Epoch 83/100\n",
      "42/42 [==============================] - 1s 16ms/step - loss: 0.8521 - categorical_accuracy: 0.6722 - f1_loss: 0.4720 - val_loss: 0.9184 - val_categorical_accuracy: 0.6556 - val_f1_loss: 0.4937\n",
      "Epoch 84/100\n",
      "42/42 [==============================] - 1s 13ms/step - loss: 0.8417 - categorical_accuracy: 0.6799 - f1_loss: 0.4678 - val_loss: 0.9598 - val_categorical_accuracy: 0.6311 - val_f1_loss: 0.4995\n",
      "Epoch 85/100\n",
      "42/42 [==============================] - 1s 16ms/step - loss: 0.8167 - categorical_accuracy: 0.6947 - f1_loss: 0.4592 - val_loss: 0.9427 - val_categorical_accuracy: 0.6144 - val_f1_loss: 0.5037\n",
      "Epoch 86/100\n",
      "42/42 [==============================] - 1s 13ms/step - loss: 0.8256 - categorical_accuracy: 0.6844 - f1_loss: 0.4606 - val_loss: 0.9233 - val_categorical_accuracy: 0.6578 - val_f1_loss: 0.4892\n",
      "Epoch 87/100\n",
      "42/42 [==============================] - 1s 13ms/step - loss: 0.8709 - categorical_accuracy: 0.6478 - f1_loss: 0.4685 - val_loss: 0.9704 - val_categorical_accuracy: 0.6444 - val_f1_loss: 0.4932\n",
      "Epoch 88/100\n",
      "42/42 [==============================] - 1s 13ms/step - loss: 0.8152 - categorical_accuracy: 0.6812 - f1_loss: 0.4521 - val_loss: 0.9310 - val_categorical_accuracy: 0.6322 - val_f1_loss: 0.4986\n",
      "Epoch 89/100\n",
      "42/42 [==============================] - 0s 12ms/step - loss: 0.8082 - categorical_accuracy: 0.6989 - f1_loss: 0.4509 - val_loss: 0.9186 - val_categorical_accuracy: 0.6289 - val_f1_loss: 0.4892\n",
      "Epoch 90/100\n",
      "42/42 [==============================] - 1s 13ms/step - loss: 0.8151 - categorical_accuracy: 0.6936 - f1_loss: 0.4540 - val_loss: 0.9189 - val_categorical_accuracy: 0.6333 - val_f1_loss: 0.4901\n",
      "Epoch 91/100\n",
      "42/42 [==============================] - 1s 13ms/step - loss: 0.8144 - categorical_accuracy: 0.6861 - f1_loss: 0.4541 - val_loss: 0.9081 - val_categorical_accuracy: 0.6333 - val_f1_loss: 0.4890\n",
      "Epoch 92/100\n",
      "42/42 [==============================] - 1s 13ms/step - loss: 0.8219 - categorical_accuracy: 0.6761 - f1_loss: 0.4555 - val_loss: 0.9301 - val_categorical_accuracy: 0.6422 - val_f1_loss: 0.4885\n",
      "Epoch 93/100\n",
      "42/42 [==============================] - 1s 13ms/step - loss: 0.8178 - categorical_accuracy: 0.6820 - f1_loss: 0.4548 - val_loss: 0.9155 - val_categorical_accuracy: 0.6300 - val_f1_loss: 0.4921\n",
      "Epoch 94/100\n",
      "42/42 [==============================] - 1s 12ms/step - loss: 0.7985 - categorical_accuracy: 0.6937 - f1_loss: 0.4472 - val_loss: 0.8989 - val_categorical_accuracy: 0.6489 - val_f1_loss: 0.4872\n",
      "Epoch 95/100\n",
      "42/42 [==============================] - 1s 13ms/step - loss: 0.7950 - categorical_accuracy: 0.6994 - f1_loss: 0.4475 - val_loss: 0.9854 - val_categorical_accuracy: 0.6467 - val_f1_loss: 0.4916\n",
      "Epoch 96/100\n",
      "42/42 [==============================] - 1s 13ms/step - loss: 0.8461 - categorical_accuracy: 0.6829 - f1_loss: 0.4520 - val_loss: 0.8875 - val_categorical_accuracy: 0.6511 - val_f1_loss: 0.4813\n",
      "Epoch 97/100\n",
      "42/42 [==============================] - 1s 14ms/step - loss: 0.7850 - categorical_accuracy: 0.6994 - f1_loss: 0.4375 - val_loss: 0.9431 - val_categorical_accuracy: 0.6000 - val_f1_loss: 0.5010\n",
      "Epoch 98/100\n",
      "42/42 [==============================] - 1s 14ms/step - loss: 0.7923 - categorical_accuracy: 0.6910 - f1_loss: 0.4407 - val_loss: 0.8900 - val_categorical_accuracy: 0.6556 - val_f1_loss: 0.4815\n",
      "Epoch 99/100\n",
      "42/42 [==============================] - 1s 13ms/step - loss: 0.8000 - categorical_accuracy: 0.6861 - f1_loss: 0.4535 - val_loss: 0.8964 - val_categorical_accuracy: 0.6578 - val_f1_loss: 0.4731\n",
      "Epoch 100/100\n",
      "42/42 [==============================] - 0s 11ms/step - loss: 0.7618 - categorical_accuracy: 0.7110 - f1_loss: 0.4322 - val_loss: 0.8917 - val_categorical_accuracy: 0.6478 - val_f1_loss: 0.4777\n"
     ]
    }
   ],
   "source": [
    "cnnhistory_base_mfcc=model_mfcc_base.fit(X_traincnn_mfcc, y_onehot_train_mfcc, batch_size=50, epochs=100, validation_data=(X_testcnn_mfcc, y_onehot_test_mfcc), callbacks=[mcp_save, rlrop])"
   ]
  },
  {
   "cell_type": "code",
   "execution_count": 745,
   "id": "9e005143",
   "metadata": {},
   "outputs": [
    {
     "name": "stdout",
     "output_type": "stream",
     "text": [
      "29/29 [==============================] - 0s 4ms/step - loss: 0.8917 - categorical_accuracy: 0.6478 - f1_loss: 0.4865\n",
      "Restored model, accuracy: 64.78%\n"
     ]
    }
   ],
   "source": [
    "loss, acc, f1_score = model_mfcc_base.evaluate(X_testcnn_mfcc, y_onehot_test_mfcc)\n",
    "print(\"Restored model, accuracy: {:5.2f}%\".format(100*acc))"
   ]
  },
  {
   "cell_type": "code",
   "execution_count": 746,
   "id": "9447923b",
   "metadata": {},
   "outputs": [
    {
     "data": {
      "image/png": "[encoded data removed]",
      "text/plain": [
       "<Figure size 432x288 with 1 Axes>"
      ]
     },
     "metadata": {
      "needs_background": "light"
     },
     "output_type": "display_data"
    },
    {
     "data": {
      "image/png": "[encoded data removed]",
      "text/plain": [
       "<Figure size 432x288 with 1 Axes>"
      ]
     },
     "metadata": {
      "needs_background": "light"
     },
     "output_type": "display_data"
    }
   ],
   "source": [
    "plt.plot(cnnhistory_base_mfcc.history['categorical_accuracy'])\n",
    "plt.plot(cnnhistory_base_mfcc.history['val_categorical_accuracy'])\n",
    "plt.title('model accuracy')\n",
    "plt.ylabel('accuracy')\n",
    "plt.xlabel('epoch')\n",
    "plt.legend(['train', 'test'], loc='upper left')\n",
    "plt.show()\n",
    "# summarize history for loss\n",
    "plt.plot(cnnhistory_base_mfcc.history['loss'][1:])\n",
    "plt.plot(cnnhistory_base_mfcc.history['val_loss'][1:])\n",
    "plt.title('model loss')\n",
    "plt.ylabel('loss')\n",
    "plt.xlabel('epoch')\n",
    "plt.legend(['train', 'test'], loc='upper left')\n",
    "plt.show()"
   ]
  },
  {
   "cell_type": "code",
   "execution_count": 824,
   "id": "fae16d08",
   "metadata": {},
   "outputs": [
    {
     "name": "stdout",
     "output_type": "stream",
     "text": [
      "Confusion matrix, without normalization\n",
      "[[ 94   5   7   1  14   9]\n",
      " [ 35  39  28   1  24  26]\n",
      " [ 16   9  73   0   6  40]\n",
      " [  0   0   0 158   0   0]\n",
      " [  0   0  12   0 147   6]\n",
      " [ 14  10  42   1  11  72]]\n"
     ]
    },
    {
     "data": {
      "image/png": "[encoded data removed]",
      "text/plain": [
       "<Figure size 432x288 with 2 Axes>"
      ]
     },
     "metadata": {
      "needs_background": "light"
     },
     "output_type": "display_data"
    }
   ],
   "source": [
    "y_pred = model_mfcc_base.predict(X_testcnn_mfcc)\n",
    "matrix = metrics.confusion_matrix(y_onehot_test_mfcc.argmax(axis=1), y_pred.argmax(axis=1))\n",
    "emo_keys = list(['ang', 'hap', 'sad', 'fea', 'sur', 'neu'])\n",
    "plot_confusion_matrix(matrix, classes=emo_keys)"
   ]
  },
  {
   "cell_type": "code",
   "execution_count": 825,
   "id": "bd14b8c7",
   "metadata": {},
   "outputs": [
    {
     "name": "stdout",
     "output_type": "stream",
     "text": [
      "              precision    recall  f1-score   support\n",
      "\n",
      "         ang       0.59      0.72      0.65       130\n",
      "         hap       0.62      0.25      0.36       153\n",
      "         sad       0.45      0.51      0.48       144\n",
      "         fea       0.98      1.00      0.99       158\n",
      "         sur       0.73      0.89      0.80       165\n",
      "         neu       0.47      0.48      0.48       150\n",
      "\n",
      "    accuracy                           0.65       900\n",
      "   macro avg       0.64      0.64      0.63       900\n",
      "weighted avg       0.65      0.65      0.63       900\n",
      "\n"
     ]
    }
   ],
   "source": [
    "target_names = ['ang', 'hap', 'sad', 'fea', 'sur', 'neu']\n",
    "print(classification_report(y_onehot_test_mfcc.argmax(axis=1), y_pred.argmax(axis=1), target_names=target_names))"
   ]
  },
  {
   "cell_type": "markdown",
   "id": "5ed8691d",
   "metadata": {},
   "source": [
    "#### Mel"
   ]
  },
  {
   "cell_type": "code",
   "execution_count": 653,
   "id": "1ccb0c0c",
   "metadata": {},
   "outputs": [],
   "source": [
    "model_mel_base = Sequential()\n",
    "\n",
    "model_mel_base.add(Conv1D(32, 6,padding='same',input_shape=(128,1)))        #1\n",
    "model_mel_base.add(Activation('relu'))\n",
    "#model_mel_base.add(MaxPooling1D(pool_size=(5)))\n",
    "model_mel_base.add(BatchNormalization())\n",
    "model_mel_base.add(Dropout(0.01))\n",
    "\n",
    "model_mel_base.add(Conv1D(64, 6,padding='same',))                           #2\n",
    "model_mel_base.add(Activation('relu'))\n",
    "#model_mel_base.add(BatchNormalization())\n",
    "model_mel_base.add(Dropout(0.01))\n",
    "\n",
    "model_mel_base.add(GlobalMaxPooling1D())\n",
    "model_mel_base.add(Dense(6))                                                 #5\n",
    "model_mel_base.add(Activation('softmax'))"
   ]
  },
  {
   "cell_type": "code",
   "execution_count": 654,
   "id": "fc51fa8d",
   "metadata": {},
   "outputs": [
    {
     "name": "stdout",
     "output_type": "stream",
     "text": [
      "Model: \"sequential_104\"\n",
      "_________________________________________________________________\n",
      "Layer (type)                 Output Shape              Param #   \n",
      "=================================================================\n",
      "conv1d_88 (Conv1D)           (None, 128, 32)           224       \n",
      "_________________________________________________________________\n",
      "activation_98 (Activation)   (None, 128, 32)           0         \n",
      "_________________________________________________________________\n",
      "batch_normalization_232 (Bat (None, 128, 32)           128       \n",
      "_________________________________________________________________\n",
      "dropout_286 (Dropout)        (None, 128, 32)           0         \n",
      "_________________________________________________________________\n",
      "conv1d_89 (Conv1D)           (None, 128, 64)           12352     \n",
      "_________________________________________________________________\n",
      "activation_99 (Activation)   (None, 128, 64)           0         \n",
      "_________________________________________________________________\n",
      "dropout_287 (Dropout)        (None, 128, 64)           0         \n",
      "_________________________________________________________________\n",
      "global_max_pooling1d_10 (Glo (None, 64)                0         \n",
      "_________________________________________________________________\n",
      "dense_304 (Dense)            (None, 6)                 390       \n",
      "_________________________________________________________________\n",
      "activation_100 (Activation)  (None, 6)                 0         \n",
      "=================================================================\n",
      "Total params: 13,094\n",
      "Trainable params: 13,030\n",
      "Non-trainable params: 64\n",
      "_________________________________________________________________\n"
     ]
    }
   ],
   "source": [
    "model_mel_base.summary()\n",
    "model_mel_base.compile(loss='categorical_crossentropy',\n",
    "              optimizer=opt,\n",
    "              metrics=['categorical_accuracy', f1_loss])"
   ]
  },
  {
   "cell_type": "code",
   "execution_count": 655,
   "id": "1211836f",
   "metadata": {},
   "outputs": [
    {
     "name": "stdout",
     "output_type": "stream",
     "text": [
      "Epoch 1/60\n",
      "42/42 [==============================] - 2s 36ms/step - loss: 3.1906 - categorical_accuracy: 0.2094 - f1_loss: 0.8276 - val_loss: 2.2010 - val_categorical_accuracy: 0.2589 - val_f1_loss: 0.7719\n",
      "Epoch 2/60\n",
      "42/42 [==============================] - 1s 17ms/step - loss: 1.7187 - categorical_accuracy: 0.3109 - f1_loss: 0.7671 - val_loss: 1.6477 - val_categorical_accuracy: 0.3589 - val_f1_loss: 0.7390\n",
      "Epoch 3/60\n",
      "42/42 [==============================] - 1s 16ms/step - loss: 1.5520 - categorical_accuracy: 0.3836 - f1_loss: 0.7351 - val_loss: 1.5525 - val_categorical_accuracy: 0.4233 - val_f1_loss: 0.7152\n",
      "Epoch 4/60\n",
      "42/42 [==============================] - 1s 16ms/step - loss: 1.4233 - categorical_accuracy: 0.4312 - f1_loss: 0.7060 - val_loss: 1.4761 - val_categorical_accuracy: 0.4111 - val_f1_loss: 0.7133\n",
      "Epoch 5/60\n",
      "42/42 [==============================] - 1s 17ms/step - loss: 1.4163 - categorical_accuracy: 0.4491 - f1_loss: 0.7013 - val_loss: 1.4974 - val_categorical_accuracy: 0.4044 - val_f1_loss: 0.7140\n",
      "Epoch 6/60\n",
      "42/42 [==============================] - 1s 16ms/step - loss: 1.3850 - categorical_accuracy: 0.4647 - f1_loss: 0.6942 - val_loss: 1.4273 - val_categorical_accuracy: 0.4456 - val_f1_loss: 0.6967\n",
      "Epoch 7/60\n",
      "42/42 [==============================] - 1s 17ms/step - loss: 1.3092 - categorical_accuracy: 0.5096 - f1_loss: 0.6689 - val_loss: 1.4021 - val_categorical_accuracy: 0.4533 - val_f1_loss: 0.6891\n",
      "Epoch 8/60\n",
      "42/42 [==============================] - 1s 16ms/step - loss: 1.2868 - categorical_accuracy: 0.4926 - f1_loss: 0.6631 - val_loss: 1.4097 - val_categorical_accuracy: 0.4622 - val_f1_loss: 0.6934\n",
      "Epoch 9/60\n",
      "42/42 [==============================] - 1s 17ms/step - loss: 1.2884 - categorical_accuracy: 0.5117 - f1_loss: 0.6598 - val_loss: 1.3588 - val_categorical_accuracy: 0.4844 - val_f1_loss: 0.6782\n",
      "Epoch 10/60\n",
      "42/42 [==============================] - 1s 16ms/step - loss: 1.2741 - categorical_accuracy: 0.5083 - f1_loss: 0.6543 - val_loss: 1.3556 - val_categorical_accuracy: 0.4556 - val_f1_loss: 0.6764\n",
      "Epoch 11/60\n",
      "42/42 [==============================] - 1s 17ms/step - loss: 1.2410 - categorical_accuracy: 0.5061 - f1_loss: 0.6442 - val_loss: 1.3628 - val_categorical_accuracy: 0.4856 - val_f1_loss: 0.6677\n",
      "Epoch 12/60\n",
      "42/42 [==============================] - 1s 17ms/step - loss: 1.2143 - categorical_accuracy: 0.5375 - f1_loss: 0.6400 - val_loss: 1.4012 - val_categorical_accuracy: 0.4844 - val_f1_loss: 0.6642\n",
      "Epoch 13/60\n",
      "42/42 [==============================] - 1s 17ms/step - loss: 1.2121 - categorical_accuracy: 0.5336 - f1_loss: 0.6380 - val_loss: 1.3293 - val_categorical_accuracy: 0.5067 - val_f1_loss: 0.6530\n",
      "Epoch 14/60\n",
      "42/42 [==============================] - 1s 17ms/step - loss: 1.1784 - categorical_accuracy: 0.5414 - f1_loss: 0.6191 - val_loss: 1.2993 - val_categorical_accuracy: 0.4822 - val_f1_loss: 0.6509\n",
      "Epoch 15/60\n",
      "42/42 [==============================] - 1s 16ms/step - loss: 1.1784 - categorical_accuracy: 0.5621 - f1_loss: 0.6209 - val_loss: 1.3308 - val_categorical_accuracy: 0.4522 - val_f1_loss: 0.6632\n",
      "Epoch 16/60\n",
      "42/42 [==============================] - 1s 17ms/step - loss: 1.1486 - categorical_accuracy: 0.5540 - f1_loss: 0.6209 - val_loss: 1.2922 - val_categorical_accuracy: 0.5189 - val_f1_loss: 0.6447\n",
      "Epoch 17/60\n",
      "42/42 [==============================] - 1s 16ms/step - loss: 1.1236 - categorical_accuracy: 0.5660 - f1_loss: 0.6051 - val_loss: 1.2544 - val_categorical_accuracy: 0.4956 - val_f1_loss: 0.6391\n",
      "Epoch 18/60\n",
      "42/42 [==============================] - 1s 17ms/step - loss: 1.1220 - categorical_accuracy: 0.5975 - f1_loss: 0.6037 - val_loss: 1.2876 - val_categorical_accuracy: 0.5122 - val_f1_loss: 0.6394\n",
      "Epoch 19/60\n",
      "42/42 [==============================] - 1s 16ms/step - loss: 1.1450 - categorical_accuracy: 0.5637 - f1_loss: 0.6065 - val_loss: 1.3102 - val_categorical_accuracy: 0.5233 - val_f1_loss: 0.6361\n",
      "Epoch 20/60\n",
      "42/42 [==============================] - 1s 15ms/step - loss: 1.1661 - categorical_accuracy: 0.5453 - f1_loss: 0.6079 - val_loss: 1.2489 - val_categorical_accuracy: 0.5333 - val_f1_loss: 0.6254\n",
      "Epoch 21/60\n",
      "42/42 [==============================] - 1s 15ms/step - loss: 1.0861 - categorical_accuracy: 0.5766 - f1_loss: 0.5886 - val_loss: 1.2187 - val_categorical_accuracy: 0.5233 - val_f1_loss: 0.6218\n",
      "Epoch 22/60\n",
      "42/42 [==============================] - 1s 16ms/step - loss: 1.1070 - categorical_accuracy: 0.5886 - f1_loss: 0.5916 - val_loss: 1.2240 - val_categorical_accuracy: 0.5422 - val_f1_loss: 0.6163\n",
      "Epoch 23/60\n",
      "42/42 [==============================] - 1s 16ms/step - loss: 1.0723 - categorical_accuracy: 0.5913 - f1_loss: 0.5769 - val_loss: 1.2505 - val_categorical_accuracy: 0.5211 - val_f1_loss: 0.6183\n",
      "Epoch 24/60\n",
      "42/42 [==============================] - 1s 16ms/step - loss: 1.0597 - categorical_accuracy: 0.5870 - f1_loss: 0.5832 - val_loss: 1.2527 - val_categorical_accuracy: 0.5356 - val_f1_loss: 0.6133\n",
      "Epoch 25/60\n",
      "42/42 [==============================] - 1s 16ms/step - loss: 1.0382 - categorical_accuracy: 0.6052 - f1_loss: 0.5654 - val_loss: 1.2419 - val_categorical_accuracy: 0.5300 - val_f1_loss: 0.6106\n",
      "Epoch 26/60\n",
      "42/42 [==============================] - 1s 15ms/step - loss: 1.0517 - categorical_accuracy: 0.5949 - f1_loss: 0.5650 - val_loss: 1.1977 - val_categorical_accuracy: 0.5433 - val_f1_loss: 0.6063\n",
      "Epoch 27/60\n",
      "42/42 [==============================] - 1s 16ms/step - loss: 1.0005 - categorical_accuracy: 0.6325 - f1_loss: 0.5543 - val_loss: 1.2016 - val_categorical_accuracy: 0.5456 - val_f1_loss: 0.6021\n",
      "Epoch 28/60\n",
      "42/42 [==============================] - 1s 16ms/step - loss: 0.9909 - categorical_accuracy: 0.6263 - f1_loss: 0.5594 - val_loss: 1.1985 - val_categorical_accuracy: 0.5211 - val_f1_loss: 0.6035\n",
      "Epoch 29/60\n",
      "42/42 [==============================] - 1s 16ms/step - loss: 1.0270 - categorical_accuracy: 0.6238 - f1_loss: 0.5651 - val_loss: 1.1928 - val_categorical_accuracy: 0.5389 - val_f1_loss: 0.5991\n",
      "Epoch 30/60\n",
      "42/42 [==============================] - 1s 17ms/step - loss: 1.0139 - categorical_accuracy: 0.6343 - f1_loss: 0.5604 - val_loss: 1.2124 - val_categorical_accuracy: 0.5222 - val_f1_loss: 0.6018\n",
      "Epoch 31/60\n",
      "42/42 [==============================] - 1s 16ms/step - loss: 1.0096 - categorical_accuracy: 0.6235 - f1_loss: 0.5555 - val_loss: 1.1827 - val_categorical_accuracy: 0.5467 - val_f1_loss: 0.5964\n",
      "Epoch 32/60\n",
      "42/42 [==============================] - 1s 17ms/step - loss: 0.9511 - categorical_accuracy: 0.6709 - f1_loss: 0.5305 - val_loss: 1.1733 - val_categorical_accuracy: 0.5567 - val_f1_loss: 0.5944\n",
      "Epoch 33/60\n",
      "42/42 [==============================] - 1s 16ms/step - loss: 0.9827 - categorical_accuracy: 0.6430 - f1_loss: 0.5522 - val_loss: 1.2089 - val_categorical_accuracy: 0.5356 - val_f1_loss: 0.5984\n",
      "Epoch 34/60\n",
      "42/42 [==============================] - 1s 16ms/step - loss: 0.9970 - categorical_accuracy: 0.6104 - f1_loss: 0.5457 - val_loss: 1.1466 - val_categorical_accuracy: 0.5778 - val_f1_loss: 0.5830\n",
      "Epoch 35/60\n",
      "42/42 [==============================] - 1s 17ms/step - loss: 0.9411 - categorical_accuracy: 0.6553 - f1_loss: 0.5336 - val_loss: 1.1707 - val_categorical_accuracy: 0.5500 - val_f1_loss: 0.5810\n",
      "Epoch 36/60\n",
      "42/42 [==============================] - 1s 16ms/step - loss: 0.9451 - categorical_accuracy: 0.6389 - f1_loss: 0.5252 - val_loss: 1.1955 - val_categorical_accuracy: 0.5478 - val_f1_loss: 0.5812\n",
      "Epoch 37/60\n",
      "42/42 [==============================] - 1s 16ms/step - loss: 0.9654 - categorical_accuracy: 0.6424 - f1_loss: 0.5405 - val_loss: 1.1467 - val_categorical_accuracy: 0.5611 - val_f1_loss: 0.5776\n",
      "Epoch 38/60\n",
      "42/42 [==============================] - 1s 17ms/step - loss: 0.9537 - categorical_accuracy: 0.6337 - f1_loss: 0.5297 - val_loss: 1.1686 - val_categorical_accuracy: 0.5511 - val_f1_loss: 0.5722\n",
      "Epoch 39/60\n",
      "42/42 [==============================] - 1s 17ms/step - loss: 0.9359 - categorical_accuracy: 0.6458 - f1_loss: 0.5301 - val_loss: 1.1610 - val_categorical_accuracy: 0.5544 - val_f1_loss: 0.5717\n",
      "Epoch 40/60\n",
      "42/42 [==============================] - 1s 17ms/step - loss: 0.9236 - categorical_accuracy: 0.6603 - f1_loss: 0.5141 - val_loss: 1.1465 - val_categorical_accuracy: 0.5433 - val_f1_loss: 0.5773\n",
      "Epoch 41/60\n",
      "42/42 [==============================] - 1s 17ms/step - loss: 0.9156 - categorical_accuracy: 0.6487 - f1_loss: 0.5120 - val_loss: 1.1459 - val_categorical_accuracy: 0.5500 - val_f1_loss: 0.5710\n",
      "Epoch 42/60\n",
      "42/42 [==============================] - 1s 17ms/step - loss: 0.8919 - categorical_accuracy: 0.6701 - f1_loss: 0.5020 - val_loss: 1.1347 - val_categorical_accuracy: 0.5689 - val_f1_loss: 0.5636\n",
      "Epoch 43/60\n",
      "42/42 [==============================] - 1s 16ms/step - loss: 0.8720 - categorical_accuracy: 0.6855 - f1_loss: 0.4974 - val_loss: 1.1435 - val_categorical_accuracy: 0.5700 - val_f1_loss: 0.5652\n",
      "Epoch 44/60\n",
      "42/42 [==============================] - 1s 16ms/step - loss: 0.8946 - categorical_accuracy: 0.6599 - f1_loss: 0.4974 - val_loss: 1.1620 - val_categorical_accuracy: 0.5622 - val_f1_loss: 0.5633\n",
      "Epoch 45/60\n",
      "42/42 [==============================] - 1s 16ms/step - loss: 0.8951 - categorical_accuracy: 0.6784 - f1_loss: 0.5041 - val_loss: 1.1327 - val_categorical_accuracy: 0.5711 - val_f1_loss: 0.5656\n",
      "Epoch 46/60\n",
      "42/42 [==============================] - 1s 16ms/step - loss: 0.8802 - categorical_accuracy: 0.6787 - f1_loss: 0.4910 - val_loss: 1.1407 - val_categorical_accuracy: 0.5667 - val_f1_loss: 0.5615\n",
      "Epoch 47/60\n",
      "42/42 [==============================] - 1s 25ms/step - loss: 0.8816 - categorical_accuracy: 0.6705 - f1_loss: 0.4960 - val_loss: 1.1107 - val_categorical_accuracy: 0.5756 - val_f1_loss: 0.5589\n",
      "Epoch 48/60\n",
      "42/42 [==============================] - 1s 16ms/step - loss: 0.8676 - categorical_accuracy: 0.6838 - f1_loss: 0.4903 - val_loss: 1.1444 - val_categorical_accuracy: 0.5744 - val_f1_loss: 0.5545\n",
      "Epoch 49/60\n",
      "42/42 [==============================] - 1s 18ms/step - loss: 0.8102 - categorical_accuracy: 0.6955 - f1_loss: 0.4653 - val_loss: 1.1419 - val_categorical_accuracy: 0.5667 - val_f1_loss: 0.5526\n",
      "Epoch 50/60\n",
      "42/42 [==============================] - 1s 16ms/step - loss: 0.8666 - categorical_accuracy: 0.6766 - f1_loss: 0.4882 - val_loss: 1.1124 - val_categorical_accuracy: 0.5789 - val_f1_loss: 0.5533\n",
      "Epoch 51/60\n",
      "42/42 [==============================] - 1s 16ms/step - loss: 0.8716 - categorical_accuracy: 0.6994 - f1_loss: 0.4928 - val_loss: 1.1166 - val_categorical_accuracy: 0.5756 - val_f1_loss: 0.5493\n",
      "Epoch 52/60\n",
      "42/42 [==============================] - 1s 16ms/step - loss: 0.8773 - categorical_accuracy: 0.6757 - f1_loss: 0.4882 - val_loss: 1.2003 - val_categorical_accuracy: 0.5522 - val_f1_loss: 0.5546\n",
      "Epoch 53/60\n",
      "42/42 [==============================] - 1s 21ms/step - loss: 0.8634 - categorical_accuracy: 0.6843 - f1_loss: 0.4832 - val_loss: 1.1235 - val_categorical_accuracy: 0.5700 - val_f1_loss: 0.5495\n",
      "Epoch 54/60\n",
      "42/42 [==============================] - 1s 19ms/step - loss: 0.8203 - categorical_accuracy: 0.7073 - f1_loss: 0.4738 - val_loss: 1.1185 - val_categorical_accuracy: 0.5689 - val_f1_loss: 0.5456\n",
      "Epoch 55/60\n",
      "42/42 [==============================] - 1s 19ms/step - loss: 0.8015 - categorical_accuracy: 0.7085 - f1_loss: 0.4669 - val_loss: 1.1042 - val_categorical_accuracy: 0.5722 - val_f1_loss: 0.5417\n",
      "Epoch 56/60\n",
      "42/42 [==============================] - 1s 19ms/step - loss: 0.7865 - categorical_accuracy: 0.7261 - f1_loss: 0.4553 - val_loss: 1.0917 - val_categorical_accuracy: 0.5844 - val_f1_loss: 0.5388\n",
      "Epoch 57/60\n",
      "42/42 [==============================] - 1s 21ms/step - loss: 0.8154 - categorical_accuracy: 0.7095 - f1_loss: 0.4696 - val_loss: 1.1344 - val_categorical_accuracy: 0.5722 - val_f1_loss: 0.5449\n",
      "Epoch 58/60\n",
      "42/42 [==============================] - 1s 21ms/step - loss: 0.7883 - categorical_accuracy: 0.7184 - f1_loss: 0.4509 - val_loss: 1.1081 - val_categorical_accuracy: 0.5867 - val_f1_loss: 0.5440\n",
      "Epoch 59/60\n",
      "42/42 [==============================] - 1s 22ms/step - loss: 0.8174 - categorical_accuracy: 0.7013 - f1_loss: 0.4712 - val_loss: 1.1236 - val_categorical_accuracy: 0.5811 - val_f1_loss: 0.5436\n",
      "Epoch 60/60\n",
      "42/42 [==============================] - 1s 21ms/step - loss: 0.7857 - categorical_accuracy: 0.7175 - f1_loss: 0.4557 - val_loss: 1.1010 - val_categorical_accuracy: 0.5822 - val_f1_loss: 0.5335\n"
     ]
    }
   ],
   "source": [
    "cnnhistory_base_mel=model_mel_base.fit(X_traincnn_mel, y_onehot_train_mel, batch_size=50, epochs=60, validation_data=(X_testcnn_mel, y_onehot_test_mel), callbacks=[mcp_save, rlrop])"
   ]
  },
  {
   "cell_type": "code",
   "execution_count": 757,
   "id": "9a14c24c",
   "metadata": {},
   "outputs": [
    {
     "name": "stdout",
     "output_type": "stream",
     "text": [
      "29/29 [==============================] - 0s 5ms/step - loss: 1.1010 - categorical_accuracy: 0.5822 - f1_loss: 0.5439\n",
      "Restored model, accuracy: 58.22%\n"
     ]
    }
   ],
   "source": [
    "loss, acc, f1_score = model_mel_base.evaluate(X_testcnn_mel, y_onehot_test_mel)\n",
    "print(\"Restored model, accuracy: {:5.2f}%\".format(100*acc))"
   ]
  },
  {
   "cell_type": "code",
   "execution_count": 758,
   "id": "248650cf",
   "metadata": {},
   "outputs": [
    {
     "data": {
      "image/png": "[encoded data removed]",
      "text/plain": [
       "<Figure size 432x288 with 1 Axes>"
      ]
     },
     "metadata": {
      "needs_background": "light"
     },
     "output_type": "display_data"
    },
    {
     "data": {
      "image/png": "[encoded data removed]",
      "text/plain": [
       "<Figure size 432x288 with 1 Axes>"
      ]
     },
     "metadata": {
      "needs_background": "light"
     },
     "output_type": "display_data"
    }
   ],
   "source": [
    "plt.plot(cnnhistory_base_mel.history['categorical_accuracy'])\n",
    "plt.plot(cnnhistory_base_mel.history['val_categorical_accuracy'])\n",
    "plt.title('model accuracy')\n",
    "plt.ylabel('accuracy')\n",
    "plt.xlabel('epoch')\n",
    "plt.legend(['train', 'test'], loc='upper left')\n",
    "plt.show()\n",
    "# summarize history for loss\n",
    "plt.plot(cnnhistory_base_mel.history['loss'])\n",
    "plt.plot(cnnhistory_base_mel.history['val_loss'])\n",
    "plt.title('model loss')\n",
    "plt.ylabel('loss')\n",
    "plt.xlabel('epoch')\n",
    "plt.legend(['train', 'test'], loc='upper left')\n",
    "plt.show()"
   ]
  },
  {
   "cell_type": "code",
   "execution_count": 834,
   "id": "a5bcfc53",
   "metadata": {},
   "outputs": [
    {
     "name": "stdout",
     "output_type": "stream",
     "text": [
      "Confusion matrix, without normalization\n",
      "[[ 75  26  10   1  11   7]\n",
      " [ 30  55  24   3  13  28]\n",
      " [ 23  37  33   4  11  36]\n",
      " [  0   0   0 158   0   0]\n",
      " [  1   6   1   4 153   0]\n",
      " [ 23  29  32   5  11  50]]\n"
     ]
    },
    {
     "data": {
      "image/png": "[encoded data removed]",
      "text/plain": [
       "<Figure size 432x288 with 2 Axes>"
      ]
     },
     "metadata": {
      "needs_background": "light"
     },
     "output_type": "display_data"
    }
   ],
   "source": [
    "y_pred = model_mel_base.predict(X_testcnn_mel)\n",
    "matrix = metrics.confusion_matrix(y_onehot_test_mel.argmax(axis=1), y_pred.argmax(axis=1))\n",
    "emo_keys = list(['ang', 'hap', 'sad', 'fea', 'sur', 'neu'])\n",
    "plot_confusion_matrix(matrix, classes=emo_keys)"
   ]
  },
  {
   "cell_type": "code",
   "execution_count": 835,
   "id": "df701b17",
   "metadata": {},
   "outputs": [
    {
     "name": "stdout",
     "output_type": "stream",
     "text": [
      "              precision    recall  f1-score   support\n",
      "\n",
      "         ang       0.49      0.58      0.53       130\n",
      "         hap       0.36      0.36      0.36       153\n",
      "         sad       0.33      0.23      0.27       144\n",
      "         fea       0.90      1.00      0.95       158\n",
      "         sur       0.77      0.93      0.84       165\n",
      "         neu       0.41      0.33      0.37       150\n",
      "\n",
      "    accuracy                           0.58       900\n",
      "   macro avg       0.54      0.57      0.55       900\n",
      "weighted avg       0.55      0.58      0.56       900\n",
      "\n"
     ]
    }
   ],
   "source": [
    "target_names = ['ang', 'hap', 'sad', 'fea', 'sur', 'neu']\n",
    "print(classification_report(y_onehot_test_mfcc.argmax(axis=1), y_pred.argmax(axis=1), target_names=target_names))"
   ]
  },
  {
   "cell_type": "code",
   "execution_count": null,
   "id": "dbf6a9e1",
   "metadata": {},
   "outputs": [],
   "source": []
  }
 ],
 "metadata": {
  "kernelspec": {
   "display_name": "Python 3",
   "language": "python",
   "name": "python3"
  },
  "language_info": {
   "codemirror_mode": {
    "name": "ipython",
    "version": 3
   },
   "file_extension": ".py",
   "mimetype": "text/x-python",
   "name": "python",
   "nbconvert_exporter": "python",
   "pygments_lexer": "ipython3",
   "version": "3.7.3"
  }
 },
 "nbformat": 4,
 "nbformat_minor": 5
}
