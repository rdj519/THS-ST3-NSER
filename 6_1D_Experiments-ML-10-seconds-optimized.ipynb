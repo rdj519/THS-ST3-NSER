{
 "cells": [
  {
   "cell_type": "code",
   "execution_count": 44,
   "id": "724e81be",
   "metadata": {},
   "outputs": [],
   "source": [
    "import librosa\n",
    "import numpy as np\n",
    "import os\n",
    "import pandas as pd\n",
    "import soundfile\n",
    "import sys\n",
    "import joblib\n",
    "import pandas as pd\n",
    "import numpy as np\n",
    "import xgboost as xgb\n",
    "import pickle\n",
    "import matplotlib\n",
    "import matplotlib.pyplot as plt\n",
    "from sklearn.metrics import classification_report\n",
    "from sklearn.svm import SVC, LinearSVC\n",
    "from sklearn.naive_bayes import MultinomialNB\n",
    "from sklearn.linear_model import LogisticRegression\n",
    "from sklearn.ensemble import RandomForestClassifier\n",
    "from sklearn.model_selection import train_test_split\n",
    "from sklearn.neural_network import MLPClassifier\n",
    "from sklearn.metrics import confusion_matrix, f1_score, fbeta_score,accuracy_score, precision_score, recall_score\n",
    "from sklearn.preprocessing import MinMaxScaler, OneHotEncoder\n",
    "from sklearn.feature_selection import SelectFromModel\n",
    "from sklearn.utils.class_weight import compute_class_weight\n",
    "import itertools\n",
    "from IPython.display import display\n",
    "from tensorflow.keras.models import Sequential\n",
    "from tensorflow.keras import layers\n",
    "from tensorflow.keras import optimizers\n",
    "from tensorflow.keras import callbacks \n",
    "from librosa import display   \n",
    "\n",
    "%matplotlib inline"
   ]
  },
  {
   "cell_type": "markdown",
   "id": "674f63c9",
   "metadata": {},
   "source": [
    "We define a function that takes a set of features per time frame and stack the mean so that the data becomes 1-Dimension."
   ]
  },
  {
   "cell_type": "code",
   "execution_count": 5,
   "id": "c87a8e0c",
   "metadata": {},
   "outputs": [],
   "source": [
    "def feature_to_1d(features):\n",
    "    result = np.array([])\n",
    "    mfcc = np.mean(features.T, axis=0)\n",
    "    result = np.hstack((result, mfcc))\n",
    "    return result"
   ]
  },
  {
   "cell_type": "markdown",
   "id": "29bbca0e",
   "metadata": {},
   "source": [
    "We import the binary files containing the original features (MFCCs, and Mel-Spectrogram) in 2D form, as well as the labels corresponding to each feature set."
   ]
  },
  {
   "cell_type": "code",
   "execution_count": 6,
   "id": "238bde0f",
   "metadata": {},
   "outputs": [],
   "source": [
    "#mel\n",
    "\n",
    "f = open('IEMOCAP_Data/Data_10_sec/X_train_mel', 'rb')\n",
    "X_train_mel = joblib.load(f)\n",
    "f.close()\n",
    "f = open('IEMOCAP_Data/Data_10_sec/X_test_mel', 'rb')\n",
    "X_test_mel = joblib.load(f)\n",
    "f.close()\n",
    "f = open('IEMOCAP_Data/Data_10_sec/y_train_mel', 'rb')\n",
    "y_train_mel = joblib.load(f)\n",
    "f.close()\n",
    "f = open('IEMOCAP_Data/Data_10_sec/y_test_mel', 'rb')\n",
    "y_test_mel = joblib.load(f)\n",
    "f.close()\n",
    "\n",
    "#mfcc\n",
    "\n",
    "f = open('IEMOCAP_Data/Data_10_sec/X_train_mfcc', 'rb')\n",
    "X_train_mfcc = joblib.load(f)\n",
    "f.close()\n",
    "f = open('IEMOCAP_Data/Data_10_sec/X_test_mfcc', 'rb')\n",
    "X_test_mfcc = joblib.load(f)\n",
    "f.close()\n",
    "f = open('IEMOCAP_Data/Data_10_sec/y_train_mfcc', 'rb')\n",
    "y_train_mfcc = joblib.load(f)\n",
    "f.close()\n",
    "f = open('IEMOCAP_Data/Data_10_sec/y_test_mfcc', 'rb')\n",
    "y_test_mfcc = joblib.load(f)\n",
    "f.close()"
   ]
  },
  {
   "cell_type": "markdown",
   "id": "f2a6b6c5",
   "metadata": {},
   "source": [
    "## Find the indices of clipped audio (test)"
   ]
  },
  {
   "cell_type": "code",
   "execution_count": 7,
   "id": "2bac88c0",
   "metadata": {},
   "outputs": [
    {
     "data": {
      "text/plain": [
       "(900, 40, 313)"
      ]
     },
     "execution_count": 7,
     "metadata": {},
     "output_type": "execute_result"
    }
   ],
   "source": [
    "X_test_mfcc.shape"
   ]
  },
  {
   "cell_type": "code",
   "execution_count": 8,
   "id": "e5fb918b",
   "metadata": {},
   "outputs": [
    {
     "data": {
      "text/plain": [
       "1600"
      ]
     },
     "execution_count": 8,
     "metadata": {},
     "output_type": "execute_result"
    }
   ],
   "source": [
    "clipped_indices = []\n",
    "\n",
    "for i in range(900):\n",
    "    for j in range(40):\n",
    "        for k in range(313):\n",
    "            if(k == 312 and X_test_mel[i][j][k] != 0):\n",
    "                clipped_indices.append(i)\n",
    "\n",
    "len(clipped_indices)\n"
   ]
  },
  {
   "cell_type": "code",
   "execution_count": 9,
   "id": "7850e374",
   "metadata": {},
   "outputs": [
    {
     "data": {
      "text/plain": [
       "array([  5,  32,  37,  48,  69,  77,  80,  86, 107, 112, 116, 141, 145,\n",
       "       154, 168, 172, 204, 210, 231, 236, 330, 351, 372, 417, 419, 464,\n",
       "       482, 505, 587, 636, 693, 720, 733, 743, 756, 800, 811, 842, 852,\n",
       "       897])"
      ]
     },
     "execution_count": 9,
     "metadata": {},
     "output_type": "execute_result"
    }
   ],
   "source": [
    "x_clipped =np.array(clipped_indices)\n",
    "x_clipped =np.unique(x_clipped)\n",
    "\n",
    "x_clipped"
   ]
  },
  {
   "cell_type": "code",
   "execution_count": 10,
   "id": "7d053a9f",
   "metadata": {},
   "outputs": [
    {
     "data": {
      "text/plain": [
       "860"
      ]
     },
     "execution_count": 10,
     "metadata": {},
     "output_type": "execute_result"
    }
   ],
   "source": [
    "x_unclipped = []\n",
    "for i in range(len(X_test_mel)):\n",
    "    if i not in x_clipped:\n",
    "        x_unclipped.append(i)\n",
    "x_unclipped = np.array(x_unclipped)\n",
    "#x_unclipped\n",
    "\n",
    "len(x_unclipped)"
   ]
  },
  {
   "cell_type": "markdown",
   "id": "24405cdb",
   "metadata": {},
   "source": [
    "32 + 40 = 72"
   ]
  },
  {
   "cell_type": "markdown",
   "id": "28b0e939",
   "metadata": {},
   "source": [
    "## Examine clipped audio in train set"
   ]
  },
  {
   "cell_type": "code",
   "execution_count": 11,
   "id": "4a8a8c3b",
   "metadata": {},
   "outputs": [],
   "source": [
    "clipped_indices_train = []\n",
    "\n",
    "for i in range(900):\n",
    "    for j in range(40):\n",
    "        for k in range(313):\n",
    "            if(k == 312 and X_train_mel[i][j][k] != 0):\n",
    "                clipped_indices_train.append(i)"
   ]
  },
  {
   "cell_type": "code",
   "execution_count": 12,
   "id": "e5a6e4db",
   "metadata": {},
   "outputs": [
    {
     "data": {
      "text/plain": [
       "32"
      ]
     },
     "execution_count": 12,
     "metadata": {},
     "output_type": "execute_result"
    }
   ],
   "source": [
    "x_clipped_t =np.array(clipped_indices_train)\n",
    "x_clipped_t =np.unique(x_clipped_t)\n",
    "\n",
    "len(x_clipped_t)"
   ]
  },
  {
   "cell_type": "code",
   "execution_count": 25,
   "id": "055cd84c",
   "metadata": {},
   "outputs": [
    {
     "data": {
      "text/plain": [
       "40"
      ]
     },
     "execution_count": 25,
     "metadata": {},
     "output_type": "execute_result"
    }
   ],
   "source": [
    "train_labels = []\n",
    "for i in range(len(y_onehot_train_mfcc.argmax(axis=1))):\n",
    "    if i in x_clipped_t:\n",
    "        train_labels.append(y_onehot_train_mfcc.argmax(axis=1)[i])\n",
    "test_labels = []\n",
    "for i in range(len(y_onehot_test_mfcc.argmax(axis=1))):\n",
    "    if i in x_clipped:\n",
    "        test_labels.append(y_onehot_test_mfcc.argmax(axis=1)[i])\n",
    "\n",
    "len(test_labels)"
   ]
  },
  {
   "cell_type": "code",
   "execution_count": 26,
   "id": "309e174e",
   "metadata": {},
   "outputs": [
    {
     "name": "stdout",
     "output_type": "stream",
     "text": [
      "Train: \n",
      "Counter({2: 12, 5: 9, 4: 6, 1: 3, 0: 2}) \n",
      "\n",
      "Test: \n",
      "Counter({2: 10, 1: 9, 0: 8, 4: 7, 5: 6})\n"
     ]
    }
   ],
   "source": [
    "from collections import Counter\n",
    "train = Counter(train_labels)\n",
    "test = Counter(test_labels)\n",
    "print(\"Train: \\n{} \\n\\nTest: \\n{}\".format(train, test))"
   ]
  },
  {
   "cell_type": "code",
   "execution_count": 27,
   "id": "b07a888b",
   "metadata": {},
   "outputs": [
    {
     "name": "stdout",
     "output_type": "stream",
     "text": [
      "Train count:\n",
      "Anger: 2\n",
      "Happy: 3\n",
      "Sad: 12\n",
      "Fear: 0\n",
      "Surprise: 6\n",
      "Neutral: 9\n",
      "\n"
     ]
    }
   ],
   "source": [
    "print(\"Train count:\\nAnger: {}\\nHappy: {}\\nSad: {}\\nFear: {}\\nSurprise: {}\\nNeutral: {}\\n\".format(train_labels.count(0),train_labels.count(1),train_labels.count(2),train_labels.count(3),train_labels.count(4),train_labels.count(5)))"
   ]
  },
  {
   "cell_type": "code",
   "execution_count": 28,
   "id": "2daeded3",
   "metadata": {},
   "outputs": [
    {
     "name": "stdout",
     "output_type": "stream",
     "text": [
      "Test count:\n",
      "Anger: 8\n",
      "Happy: 9\n",
      "Sad: 10\n",
      "Fear: 0\n",
      "Surprise: 7\n",
      "Neutral: 6\n",
      "\n"
     ]
    }
   ],
   "source": [
    "print(\"Test count:\\nAnger: {}\\nHappy: {}\\nSad: {}\\nFear: {}\\nSurprise: {}\\nNeutral: {}\\n\".format(test_labels.count(0),test_labels.count(1),test_labels.count(2),test_labels.count(3),test_labels.count(4),test_labels.count(5)))"
   ]
  },
  {
   "cell_type": "code",
   "execution_count": 29,
   "id": "a9a0c8a7",
   "metadata": {},
   "outputs": [],
   "source": [
    "dic_true_val = {}\n",
    "dic_true_val['ang'] = test_labels.count(0)\n",
    "dic_true_val['hap'] = test_labels.count(1)\n",
    "dic_true_val['sad'] = test_labels.count(2)\n",
    "dic_true_val['fea'] = test_labels.count(3)\n",
    "dic_true_val['sur'] = test_labels.count(4)\n",
    "dic_true_val['neu'] = test_labels.count(5)\n"
   ]
  },
  {
   "cell_type": "markdown",
   "id": "a3a6c43a",
   "metadata": {},
   "source": [
    "### Converting to 1D Data\n",
    "\n",
    "We convert the 2D features to 1D data."
   ]
  },
  {
   "cell_type": "code",
   "execution_count": 14,
   "id": "c481de2b",
   "metadata": {},
   "outputs": [],
   "source": [
    "X_train_mel_1d = []\n",
    "X_test_mel_1d = []\n",
    "X_train_mfcc_1d = []\n",
    "X_test_mfcc_1d = []"
   ]
  },
  {
   "cell_type": "code",
   "execution_count": 15,
   "id": "6dd24a82",
   "metadata": {},
   "outputs": [],
   "source": [
    "for i in range(len(X_train_mel)):\n",
    "    X_train_mel_1d.append(feature_to_1d(X_train_mel[i]))\n",
    "for i in range(len(X_test_mel)):\n",
    "    X_test_mel_1d.append(feature_to_1d(X_test_mel[i]))\n",
    "for i in range(len(X_train_mfcc)):\n",
    "    X_train_mfcc_1d.append(feature_to_1d(X_train_mfcc[i]))\n",
    "for i in range(len(X_test_mfcc)):\n",
    "    X_test_mfcc_1d.append(feature_to_1d(X_test_mfcc[i]))"
   ]
  },
  {
   "cell_type": "code",
   "execution_count": 16,
   "id": "089a8ffe",
   "metadata": {},
   "outputs": [],
   "source": [
    "X_train_mel = np.array(X_train_mel_1d)\n",
    "X_test_mel = np.array(X_test_mel_1d)\n",
    "X_train_mfcc = np.array(X_train_mfcc_1d)\n",
    "X_test_mfcc = np.array(X_test_mfcc_1d)"
   ]
  },
  {
   "cell_type": "code",
   "execution_count": 17,
   "id": "02d472d1",
   "metadata": {},
   "outputs": [
    {
     "data": {
      "text/plain": [
       "(2100, 128)"
      ]
     },
     "execution_count": 17,
     "metadata": {},
     "output_type": "execute_result"
    }
   ],
   "source": [
    "X_train_mel.shape"
   ]
  },
  {
   "cell_type": "code",
   "execution_count": 18,
   "id": "8eb337f4",
   "metadata": {},
   "outputs": [
    {
     "data": {
      "text/plain": [
       "(2100, 40)"
      ]
     },
     "execution_count": 18,
     "metadata": {},
     "output_type": "execute_result"
    }
   ],
   "source": [
    "X_train_mfcc.shape"
   ]
  },
  {
   "cell_type": "markdown",
   "id": "f3009edc",
   "metadata": {},
   "source": [
    "Split data into train and test set per feature."
   ]
  },
  {
   "cell_type": "markdown",
   "id": "079bba8e",
   "metadata": {},
   "source": [
    "### Transform the y data \n",
    "\n",
    "We transform the y data containing the labels into onehot-encoded form so that the models can classify the categorical accuracy and loss."
   ]
  },
  {
   "cell_type": "code",
   "execution_count": 19,
   "id": "03d15986",
   "metadata": {},
   "outputs": [],
   "source": [
    "y_onehot_train_mel = y_train_mel\n",
    "y_onehot_test_mel = y_test_mel\n",
    "\n",
    "y_onehot_train_mfcc = y_train_mfcc\n",
    "y_onehot_test_mfcc = y_test_mfcc"
   ]
  },
  {
   "cell_type": "code",
   "execution_count": 20,
   "id": "f18c5fe5",
   "metadata": {},
   "outputs": [],
   "source": [
    "y_onehot_train_mel = pd.get_dummies(y_onehot_train_mel)\n",
    "y_onehot_test_mel = pd.get_dummies(y_onehot_test_mel)\n",
    "\n",
    "y_onehot_train_mfcc = pd.get_dummies(y_onehot_train_mfcc)\n",
    "y_onehot_test_mfcc = pd.get_dummies(y_onehot_test_mfcc)"
   ]
  },
  {
   "cell_type": "code",
   "execution_count": 21,
   "id": "9e16d242",
   "metadata": {},
   "outputs": [],
   "source": [
    "y_onehot_train_mel = np.asarray(y_onehot_train_mel).astype('int8')\n",
    "y_onehot_test_mel  = np.asarray(y_onehot_test_mel).astype('int8')\n",
    "\n",
    "y_onehot_train_mfcc = np.asarray(y_onehot_train_mfcc).astype('int8')\n",
    "y_onehot_test_mfcc  = np.asarray(y_onehot_test_mfcc).astype('int8')"
   ]
  },
  {
   "cell_type": "markdown",
   "id": "d8e5ac2c",
   "metadata": {},
   "source": [
    "Import libraries needed for defining the models."
   ]
  },
  {
   "cell_type": "code",
   "execution_count": 22,
   "id": "9193a1f0",
   "metadata": {},
   "outputs": [
    {
     "name": "stdout",
     "output_type": "stream",
     "text": [
      "Segmentation Models: using `tf.keras` framework.\n"
     ]
    }
   ],
   "source": [
    "import segmentation_models as sm\n",
    "import numpy as np\n",
    "import matplotlib.pyplot as plt\n",
    "import tensorflow as tf\n",
    "from tensorflow.keras.preprocessing import sequence\n",
    "from tensorflow.keras.models import Sequential\n",
    "from tensorflow.keras.layers import Dense, Embedding\n",
    "from tensorflow.keras.utils import to_categorical\n",
    "from tensorflow.keras.layers import Input, Flatten, Dropout, Activation\n",
    "from tensorflow.keras.layers import Conv1D, MaxPooling1D, Lambda, GlobalMaxPooling1D, Concatenate, BatchNormalization, LSTM, Reshape, Conv2D, MaxPooling2D\n",
    "from tensorflow.keras.models import Model\n",
    "from tensorflow.keras.callbacks import ModelCheckpoint\n",
    "from keras_self_attention import SeqSelfAttention\n",
    "from tensorflow.keras.regularizers import l2"
   ]
  },
  {
   "cell_type": "code",
   "execution_count": 23,
   "id": "4c31f3f2",
   "metadata": {},
   "outputs": [
    {
     "data": {
      "text/plain": [
       "(2100, 40)"
      ]
     },
     "execution_count": 23,
     "metadata": {},
     "output_type": "execute_result"
    }
   ],
   "source": [
    "X_train_mfcc.shape"
   ]
  },
  {
   "cell_type": "markdown",
   "id": "57a24517",
   "metadata": {},
   "source": [
    "Expand the dimensions for the training and testing data so that it can be used for the neural networks."
   ]
  },
  {
   "cell_type": "code",
   "execution_count": 24,
   "id": "375b07df",
   "metadata": {},
   "outputs": [],
   "source": [
    "X_traincnn_mfcc = np.expand_dims(X_train_mfcc, axis = 2)\n",
    "X_testcnn_mfcc = np.expand_dims(X_test_mfcc, axis = 2)\n",
    "X_traincnn_mel = np.expand_dims(X_train_mel, axis = 2)\n",
    "X_testcnn_mel = np.expand_dims(X_test_mel, axis = 2)"
   ]
  },
  {
   "cell_type": "markdown",
   "id": "4b6844e4",
   "metadata": {},
   "source": [
    "#### We define some functions for training and testing"
   ]
  },
  {
   "cell_type": "code",
   "execution_count": 30,
   "id": "fb90aca2",
   "metadata": {},
   "outputs": [],
   "source": [
    "import tensorflow as tf\n",
    "import tensorflow.keras.backend as K\n",
    "\n",
    "def f1_loss(y_true, y_pred):\n",
    "\n",
    "    tp = K.sum(K.cast(y_true*y_pred, 'float'), axis=0)\n",
    "    tn = K.sum(K.cast((1-y_true)*(1-y_pred), 'float'), axis=0)\n",
    "    fp = K.sum(K.cast((1-y_true)*y_pred, 'float'), axis=0)\n",
    "    fn = K.sum(K.cast(y_true*(1-y_pred), 'float'), axis=0)\n",
    "\n",
    "    p = tp / (tp + fp + K.epsilon())\n",
    "    r = tp / (tp + fn + K.epsilon())\n",
    "\n",
    "    f1 = 2*p*r / (p+r+K.epsilon())\n",
    "    f1 = tf.where(tf.math.is_nan(f1), tf.zeros_like(f1), f1)\n",
    "    return 1 - K.mean(f1)"
   ]
  },
  {
   "cell_type": "code",
   "execution_count": 42,
   "id": "061d8546",
   "metadata": {},
   "outputs": [],
   "source": [
    "def print_index(y_true, y_pred):\n",
    "    #['ang', 'hap', 'sad', 'fea', 'sur', 'neu']\n",
    "    correct_instances_index = [] #indices of correct predictions\n",
    "    for i in range(len(y_pred)):\n",
    "        if(y_true[i] == y_pred[i]):\n",
    "            correct_instances_index.append(i)\n",
    "            \n",
    "    return correct_instances_index\n",
    "def print_labels(y_true, y_pred):\n",
    "    #['ang', 'hap', 'sad', 'fea', 'sur', 'neu']\n",
    "    correct_instances_label = [] #labels of correct predictions\n",
    "    for i in range(len(y_pred)):\n",
    "        if(y_true[i] == y_pred[i]):\n",
    "            correct_instances_label.append(y_pred[i])\n",
    "            \n",
    "    return correct_instances_label"
   ]
  },
  {
   "cell_type": "code",
   "execution_count": 43,
   "id": "d6c88653",
   "metadata": {},
   "outputs": [],
   "source": [
    "def count_label(x):\n",
    "    ang = 0\n",
    "    hap = 0\n",
    "    sad = 0\n",
    "    fea = 0\n",
    "    sur = 0\n",
    "    neu = 0\n",
    "    \n",
    "    dic = {}\n",
    "    #my_dict['name']='Nick'\n",
    "    for i in range(len(x)):\n",
    "        if(x[i]==0):\n",
    "            ang += 1\n",
    "        elif(x[i]==1):\n",
    "            hap += 1\n",
    "        elif(x[i]==2):\n",
    "            sad += 1\n",
    "        elif(x[i]==3):\n",
    "            fea += 1\n",
    "        elif(x[i]==4):\n",
    "            sur += 1\n",
    "        elif(x[i]==5):\n",
    "            neu += 1\n",
    "    dic['ang'] = ang\n",
    "    dic['hap'] = hap\n",
    "    dic['sad'] = sad\n",
    "    dic['fea'] = fea\n",
    "    dic['sur'] = sur\n",
    "    dic['neu'] = neu\n",
    "    \n",
    "    return dic"
   ]
  },
  {
   "cell_type": "code",
   "execution_count": 31,
   "id": "779c1ea2",
   "metadata": {},
   "outputs": [],
   "source": [
    "checkpoint_path = 'IEMOCAP_Data/Weights/best_weights.hdf5'\n",
    "\n",
    "#-> Save the best weights\n",
    "mcp_save = callbacks.ModelCheckpoint(checkpoint_path, save_best_only=True,\n",
    "                           monitor='val_categorical_accuracy',\n",
    "                           mode='max')\n",
    "#-> Reduce learning rate after 100 epoches without improvement.\n",
    "rlrop = callbacks.ReduceLROnPlateau(monitor='val_categorical_accuracy', \n",
    "                                    factor=0.1, patience=100)"
   ]
  },
  {
   "cell_type": "markdown",
   "id": "a4093c52",
   "metadata": {},
   "source": [
    "#### MFCC\n",
    "\n",
    "We use MFCC as input features."
   ]
  },
  {
   "cell_type": "code",
   "execution_count": 33,
   "id": "49b1d1b7",
   "metadata": {},
   "outputs": [],
   "source": [
    "X_train_mfcc_np = np.array(X_train_mfcc)\n",
    "X_test_mfcc_np = np.array(X_test_mfcc)\n",
    "y_train_mfcc_np = np.array(y_train_mfcc)\n",
    "y_test_mfcc_np = np.array(y_test_mfcc)"
   ]
  },
  {
   "cell_type": "code",
   "execution_count": 34,
   "id": "cb97aa3e",
   "metadata": {},
   "outputs": [
    {
     "name": "stdout",
     "output_type": "stream",
     "text": [
      "(2100, 40)\n",
      "(900, 40)\n",
      "(2100, 6)\n",
      "(900, 6)\n"
     ]
    }
   ],
   "source": [
    "print(X_train_mfcc_np.shape)\n",
    "print(X_test_mfcc_np.shape)\n",
    "print(y_onehot_train_mfcc.shape)\n",
    "print(y_onehot_test_mfcc.shape)"
   ]
  },
  {
   "cell_type": "code",
   "execution_count": 35,
   "id": "f93a4168",
   "metadata": {},
   "outputs": [
    {
     "data": {
      "text/plain": [
       "(900, 40)"
      ]
     },
     "execution_count": 35,
     "metadata": {},
     "output_type": "execute_result"
    }
   ],
   "source": [
    "X_test_mfcc_np.shape"
   ]
  },
  {
   "cell_type": "markdown",
   "id": "66fb36c1",
   "metadata": {},
   "source": [
    "# Results using Machine Learning algorithms\n",
    "\n",
    "In this section of the notebook, we perform experiments on the data we have using traditional Machine Learning algorithms. We define a set of functions to visualize the performance of each ML model."
   ]
  },
  {
   "cell_type": "code",
   "execution_count": 36,
   "id": "8f5a10bb",
   "metadata": {},
   "outputs": [],
   "source": [
    "emotion_dict = {'ang': 0,\n",
    "                'hap': 1,\n",
    "                'sad': 2,\n",
    "                'fea': 3,\n",
    "                'sur': 4,\n",
    "                'neu': 5}\n",
    "\n",
    "emo_keys = list(['ang', 'hap', 'sad', 'fea', 'sur', 'neu'])\n",
    "def plot_confusion_matrix(cm, classes,\n",
    "                          normalize=False,\n",
    "                          title='Confusion matrix',\n",
    "                          cmap=plt.cm.Blues):\n",
    "    \"\"\"\n",
    "    This function prints and plots the confusion matrix.\n",
    "    Normalization can be applied by setting `normalize=True`.\n",
    "    \"\"\"\n",
    "    # plt.figure(figsize=(8,8))\n",
    "    plt.imshow(cm, interpolation='nearest', cmap=cmap)\n",
    "    plt.title(title)\n",
    "    plt.colorbar()\n",
    "    tick_marks = np.arange(len(classes))\n",
    "    plt.xticks(tick_marks, classes, rotation=45)\n",
    "    plt.yticks(tick_marks, classes)\n",
    "\n",
    "    if normalize:\n",
    "        cm = cm.astype('float') / cm.sum(axis=1)[:, np.newaxis]\n",
    "        print(\"Normalized confusion matrix\")\n",
    "    else:\n",
    "        print('Confusion matrix, without normalization')\n",
    "\n",
    "    print(cm)\n",
    "\n",
    "    thresh = cm.max() / 2.\n",
    "    for i, j in itertools.product(range(cm.shape[0]), range(cm.shape[1])):\n",
    "        plt.text(j, i, cm[i, j],\n",
    "                 horizontalalignment=\"center\",\n",
    "                 color=\"white\" if cm[i, j] > thresh else \"black\")\n",
    "\n",
    "    plt.tight_layout()\n",
    "    plt.ylabel('True label')\n",
    "    plt.xlabel('Predicted label')\n",
    "    \n",
    "def one_hot_encoder(true_labels, num_records, num_classes):\n",
    "    temp = np.array(true_labels[:num_records])\n",
    "    true_labels = np.zeros((num_records, num_classes))\n",
    "    print(num_classes)\n",
    "    true_labels[np.arange(num_records), temp] = 1\n",
    "    return true_labels\n",
    "\n",
    "def display_results(y_test, pred_probs, cm=True):\n",
    "    pred = np.argmax(pred_probs, axis=-1)\n",
    "    one_hot_true = one_hot_encoder(y_test, len(pred), len(emotion_dict))\n",
    "    print('Test Set Accuracy =  {0:.3f}'.format(accuracy_score(y_test, pred)))\n",
    "    print('Test Set F-score =  {0:.3f}'.format(fbeta_score(y_test, pred, beta= 1.0,average='macro')))\n",
    "    print('Test Set Precision =  {0:.3f}'.format(precision_score(y_test, pred, average='macro')))\n",
    "    print('Test Set Recall =  {0:.3f}'.format(recall_score(y_test, pred, average='macro')))\n",
    "    if cm:\n",
    "        plot_confusion_matrix(confusion_matrix(y_test, pred), classes=emo_keys)"
   ]
  },
  {
   "cell_type": "markdown",
   "id": "f68510f9",
   "metadata": {},
   "source": [
    "## MFCC\n",
    "\n",
    "In this section, we use MFCCs as input for the ML models."
   ]
  },
  {
   "cell_type": "markdown",
   "id": "9cac80cf",
   "metadata": {},
   "source": [
    "# BEST MODEL"
   ]
  },
  {
   "cell_type": "markdown",
   "id": "e5eb3375",
   "metadata": {},
   "source": [
    "### MLP"
   ]
  },
  {
   "cell_type": "code",
   "execution_count": 127,
   "id": "5a529463",
   "metadata": {},
   "outputs": [
    {
     "data": {
      "text/plain": [
       "MLPClassifier(activation='logistic', hidden_layer_sizes=(500,),\n",
       "              learning_rate_init=0.0008, max_iter=1000)"
      ]
     },
     "execution_count": 127,
     "metadata": {},
     "output_type": "execute_result"
    }
   ],
   "source": [
    "### MLP Classifier\n",
    "mlp_classifier_mfcc = MLPClassifier(hidden_layer_sizes=(500, ), activation='logistic', solver='adam', alpha=0.0001,\n",
    "                               batch_size='auto', learning_rate='constant', learning_rate_init=0.0008,\n",
    "                               power_t=0.5, max_iter=1000)\n",
    "mlp_classifier_mfcc.fit(X_train_mfcc, y_train_mfcc)"
   ]
  },
  {
   "cell_type": "code",
   "execution_count": 128,
   "id": "a3ac0a24",
   "metadata": {},
   "outputs": [
    {
     "name": "stdout",
     "output_type": "stream",
     "text": [
      "6\n",
      "Test Set Accuracy =  0.743\n",
      "Test Set F-score =  0.728\n",
      "Test Set Precision =  0.725\n",
      "Test Set Recall =  0.740\n",
      "Confusion matrix, without normalization\n",
      "[[122   2   2   0   2   2]\n",
      " [ 21  77  24   0  11  20]\n",
      " [ 19  18  73   0   2  32]\n",
      " [  0   0   0 158   0   0]\n",
      " [  0   0   0   0 165   0]\n",
      " [ 11  23  36   0   6  74]]\n"
     ]
    },
    {
     "data": {
      "image/png": "[encoded data removed]",
      "text/plain": [
       "<Figure size 432x288 with 2 Axes>"
      ]
     },
     "metadata": {
      "needs_background": "light"
     },
     "output_type": "display_data"
    }
   ],
   "source": [
    "# Predict\n",
    "mlp_mfcc_pred_probs = mlp_classifier_mfcc.predict_proba(X_test_mfcc)\n",
    "\n",
    "# Results\n",
    "display_results(y_test_mfcc, mlp_mfcc_pred_probs)"
   ]
  },
  {
   "cell_type": "code",
   "execution_count": 129,
   "id": "626523d5",
   "metadata": {
    "scrolled": true
   },
   "outputs": [
    {
     "name": "stdout",
     "output_type": "stream",
     "text": [
      "              precision    recall  f1-score   support\n",
      "\n",
      "         ang       0.71      0.94      0.81       130\n",
      "         hap       0.64      0.50      0.56       153\n",
      "         sad       0.54      0.51      0.52       144\n",
      "         fea       1.00      1.00      1.00       158\n",
      "         sur       0.89      1.00      0.94       165\n",
      "         neu       0.58      0.49      0.53       150\n",
      "\n",
      "    accuracy                           0.74       900\n",
      "   macro avg       0.73      0.74      0.73       900\n",
      "weighted avg       0.73      0.74      0.73       900\n",
      "\n"
     ]
    }
   ],
   "source": [
    "target_names = ['ang', 'hap', 'sad', 'fea', 'sur', 'neu']\n",
    "print(classification_report(y_onehot_test_mfcc.argmax(axis=1), mlp_mfcc_pred_probs.argmax(axis=1), target_names=target_names))"
   ]
  },
  {
   "cell_type": "code",
   "execution_count": 130,
   "id": "c6e76463",
   "metadata": {},
   "outputs": [
    {
     "data": {
      "text/plain": [
       "669"
      ]
     },
     "execution_count": 130,
     "metadata": {},
     "output_type": "execute_result"
    }
   ],
   "source": [
    "# indices and labels of all correctly recognized\n",
    "correct_indices = print_index(y_onehot_test_mfcc.argmax(axis=1), mlp_mfcc_pred_probs.argmax(axis=1))\n",
    "correct_labels = print_labels(y_onehot_test_mfcc.argmax(axis=1), mlp_mfcc_pred_probs.argmax(axis=1))\n",
    "\n",
    "len(correct_indices)"
   ]
  },
  {
   "cell_type": "code",
   "execution_count": 131,
   "id": "216395a8",
   "metadata": {},
   "outputs": [],
   "source": [
    "# indices of correctly recognized AND clipped\n",
    "indices_of_clipped_recognized = []\n",
    "for i in range(len(X_testcnn_mfcc)):\n",
    "    for j in range(len(correct_indices)):\n",
    "        if(i == correct_indices[j]):\n",
    "            if(i in x_clipped):\n",
    "                indices_of_clipped_recognized.append(i)\n",
    "\n",
    "label_of_clipped_recognized = []\n",
    "# we get the label of correctly recognized clipped audios\n",
    "for i in range(len(y_onehot_test_mfcc.argmax(axis=1))):\n",
    "    if(i in indices_of_clipped_recognized):\n",
    "        label_of_clipped_recognized.append((y_onehot_test_mfcc.argmax(axis=1)[i]))\n"
   ]
  },
  {
   "cell_type": "code",
   "execution_count": 132,
   "id": "13f5ff28",
   "metadata": {},
   "outputs": [
    {
     "data": {
      "text/plain": [
       "{'ang': 8, 'hap': 5, 'sad': 5, 'fea': 0, 'sur': 7, 'neu': 5}"
      ]
     },
     "execution_count": 132,
     "metadata": {},
     "output_type": "execute_result"
    }
   ],
   "source": [
    "dic_val_clipped = count_label(label_of_clipped_recognized)\n",
    "\n",
    "dic_val_clipped"
   ]
  },
  {
   "cell_type": "code",
   "execution_count": 133,
   "id": "1a7f5fa3",
   "metadata": {},
   "outputs": [
    {
     "data": {
      "text/plain": [
       "<BarContainer object of 6 artists>"
      ]
     },
     "execution_count": 133,
     "metadata": {},
     "output_type": "execute_result"
    },
    {
     "data": {
      "image/png": "[encoded data removed]",
      "text/plain": [
       "<Figure size 432x288 with 1 Axes>"
      ]
     },
     "metadata": {
      "needs_background": "light"
     },
     "output_type": "display_data"
    }
   ],
   "source": [
    "plt.bar(list(dic_val_clipped.keys()), dic_val_clipped.values(), color='black')"
   ]
  },
  {
   "cell_type": "code",
   "execution_count": 134,
   "id": "7a12eba7",
   "metadata": {},
   "outputs": [
    {
     "data": {
      "text/plain": [
       "0.75"
      ]
     },
     "execution_count": 134,
     "metadata": {},
     "output_type": "execute_result"
    }
   ],
   "source": [
    "clipped_ratio = len(indices_of_clipped_recognized) / len(x_clipped)\n",
    "\n",
    "clipped_ratio"
   ]
  },
  {
   "cell_type": "code",
   "execution_count": 135,
   "id": "5cc85dd6",
   "metadata": {},
   "outputs": [],
   "source": [
    "# we get the indices of correctly recognized un-clipped audios\n",
    "indices_of_unclipped_recognized = []\n",
    "for i in range(len(X_testcnn_mfcc)):\n",
    "    for j in range(len(correct_indices)):\n",
    "        if(i == correct_indices[j]):\n",
    "            if(i not in x_clipped):\n",
    "                indices_of_unclipped_recognized.append(i)"
   ]
  },
  {
   "cell_type": "code",
   "execution_count": 136,
   "id": "74625ee7",
   "metadata": {},
   "outputs": [
    {
     "data": {
      "text/plain": [
       "639"
      ]
     },
     "execution_count": 136,
     "metadata": {},
     "output_type": "execute_result"
    }
   ],
   "source": [
    "len(indices_of_unclipped_recognized)"
   ]
  },
  {
   "cell_type": "code",
   "execution_count": 137,
   "id": "91e852cc",
   "metadata": {},
   "outputs": [],
   "source": [
    "label_of_unclipped_recognized = []\n",
    "# we get the label of correctly recognized unclipped audios\n",
    "for i in range(len(y_onehot_test_mfcc.argmax(axis=1))):\n",
    "    if(i in indices_of_unclipped_recognized):\n",
    "        label_of_unclipped_recognized.append((y_onehot_test_mfcc.argmax(axis=1)[i]))\n",
    "\n",
    "dic_val_unclipped = count_label(label_of_unclipped_recognized)"
   ]
  },
  {
   "cell_type": "code",
   "execution_count": 138,
   "id": "65ec2278",
   "metadata": {},
   "outputs": [
    {
     "data": {
      "text/plain": [
       "<BarContainer object of 6 artists>"
      ]
     },
     "execution_count": 138,
     "metadata": {},
     "output_type": "execute_result"
    },
    {
     "data": {
      "image/png": "[encoded data removed]",
      "text/plain": [
       "<Figure size 432x288 with 1 Axes>"
      ]
     },
     "metadata": {
      "needs_background": "light"
     },
     "output_type": "display_data"
    }
   ],
   "source": [
    "plt.bar(list(dic_val_unclipped.keys()), dic_val_unclipped.values(), color='black')"
   ]
  },
  {
   "cell_type": "code",
   "execution_count": 139,
   "id": "178a28a3",
   "metadata": {},
   "outputs": [
    {
     "data": {
      "text/plain": [
       "0.7430232558139535"
      ]
     },
     "execution_count": 139,
     "metadata": {},
     "output_type": "execute_result"
    }
   ],
   "source": [
    "unclipped_ratio = len(indices_of_unclipped_recognized) / len(x_unclipped)\n",
    "\n",
    "unclipped_ratio"
   ]
  },
  {
   "cell_type": "markdown",
   "id": "ed11b72d",
   "metadata": {},
   "source": [
    "### SVM"
   ]
  },
  {
   "cell_type": "code",
   "execution_count": 207,
   "id": "b9a100c4",
   "metadata": {},
   "outputs": [
    {
     "name": "stderr",
     "output_type": "stream",
     "text": [
      "/home/jupyter-reynaldo_delimajr/.local/lib/python3.7/site-packages/sklearn/svm/_base.py:986: ConvergenceWarning: Liblinear failed to converge, increase the number of iterations.\n",
      "  \"the number of iterations.\", ConvergenceWarning)\n"
     ]
    },
    {
     "data": {
      "text/plain": [
       "LinearSVC()"
      ]
     },
     "execution_count": 207,
     "metadata": {},
     "output_type": "execute_result"
    }
   ],
   "source": [
    "## SVM LINEAR\n",
    "svc_classifier = LinearSVC()\n",
    "\n",
    "svc_classifier.fit(X_train_mfcc, y_train_mfcc)"
   ]
  },
  {
   "cell_type": "code",
   "execution_count": 208,
   "id": "0f4138e9",
   "metadata": {},
   "outputs": [
    {
     "name": "stdout",
     "output_type": "stream",
     "text": [
      "6\n",
      "Test Set Accuracy =  0.213\n",
      "Test Set F-score =  0.164\n",
      "Test Set Precision =  0.540\n",
      "Test Set Recall =  0.235\n",
      "Confusion matrix, without normalization\n",
      "[[130   0   0   0   0   0]\n",
      " [151   0   0   0   2   0]\n",
      " [115   1  23   0   3   2]\n",
      " [135   0   0  23   0   0]\n",
      " [157   0   0   0   8   0]\n",
      " [132   1   4   1   4   8]]\n"
     ]
    },
    {
     "data": {
      "image/png": "[encoded data removed]",
      "text/plain": [
       "<Figure size 432x288 with 2 Axes>"
      ]
     },
     "metadata": {
      "needs_background": "light"
     },
     "output_type": "display_data"
    }
   ],
   "source": [
    "# Predict\n",
    "pred = svc_classifier.predict(X_test_mfcc)\n",
    "pred_onehot = np.zeros((pred.size, pred.max()+1))\n",
    "pred_onehot[np.arange(pred.size),pred] = 1\n",
    "\n",
    "# Results\n",
    "display_results(y_test_mfcc, pred_onehot)"
   ]
  },
  {
   "cell_type": "code",
   "execution_count": 210,
   "id": "4ed3049a",
   "metadata": {},
   "outputs": [
    {
     "data": {
      "text/plain": [
       "SVC()"
      ]
     },
     "execution_count": 210,
     "metadata": {},
     "output_type": "execute_result"
    }
   ],
   "source": [
    "svc_classifier_nonlinear = SVC(kernel='rbf')\n",
    "\n",
    "svc_classifier_nonlinear.fit(X_train_mfcc, y_train_mfcc)"
   ]
  },
  {
   "cell_type": "code",
   "execution_count": 211,
   "id": "1fe6b2d9",
   "metadata": {},
   "outputs": [
    {
     "name": "stdout",
     "output_type": "stream",
     "text": [
      "6\n",
      "Test Set Accuracy =  0.289\n",
      "Test Set F-score =  0.227\n",
      "Test Set Precision =  0.223\n",
      "Test Set Recall =  0.291\n",
      "Confusion matrix, without normalization\n",
      "[[ 57   0   6  58   9   0]\n",
      " [ 40   0  19  80  14   0]\n",
      " [ 23   0  50  64   7   0]\n",
      " [ 17   0   0 121  20   0]\n",
      " [ 24   0   8 101  32   0]\n",
      " [ 16   0  39  90   5   0]]\n"
     ]
    },
    {
     "name": "stderr",
     "output_type": "stream",
     "text": [
      "/home/jupyter-reynaldo_delimajr/.local/lib/python3.7/site-packages/sklearn/metrics/_classification.py:1248: UndefinedMetricWarning: Precision is ill-defined and being set to 0.0 in labels with no predicted samples. Use `zero_division` parameter to control this behavior.\n",
      "  _warn_prf(average, modifier, msg_start, len(result))\n"
     ]
    },
    {
     "data": {
      "image/png": "[encoded data removed]",
      "text/plain": [
       "<Figure size 432x288 with 2 Axes>"
      ]
     },
     "metadata": {
      "needs_background": "light"
     },
     "output_type": "display_data"
    }
   ],
   "source": [
    "# Predict\n",
    "pred = svc_classifier_nonlinear.predict(X_test_mfcc)\n",
    "pred_onehot = np.zeros((pred.size, pred.max()+1))\n",
    "pred_onehot[np.arange(pred.size),pred] = 1\n",
    "\n",
    "# Results\n",
    "display_results(y_test_mfcc, pred_onehot)"
   ]
  },
  {
   "cell_type": "code",
   "execution_count": 212,
   "id": "4aced37d",
   "metadata": {},
   "outputs": [
    {
     "name": "stdout",
     "output_type": "stream",
     "text": [
      "              precision    recall  f1-score   support\n",
      "\n",
      "         ang       0.32      0.44      0.37       130\n",
      "         hap       0.00      0.00      0.00       153\n",
      "         sad       0.41      0.35      0.38       144\n",
      "         fea       0.24      0.77      0.36       158\n",
      "         sur       0.37      0.19      0.25       165\n",
      "         neu       0.00      0.00      0.00       150\n",
      "\n",
      "    accuracy                           0.29       900\n",
      "   macro avg       0.22      0.29      0.23       900\n",
      "weighted avg       0.22      0.29      0.22       900\n",
      "\n"
     ]
    },
    {
     "name": "stderr",
     "output_type": "stream",
     "text": [
      "/home/jupyter-reynaldo_delimajr/.local/lib/python3.7/site-packages/sklearn/metrics/_classification.py:1248: UndefinedMetricWarning: Precision and F-score are ill-defined and being set to 0.0 in labels with no predicted samples. Use `zero_division` parameter to control this behavior.\n",
      "  _warn_prf(average, modifier, msg_start, len(result))\n",
      "/home/jupyter-reynaldo_delimajr/.local/lib/python3.7/site-packages/sklearn/metrics/_classification.py:1248: UndefinedMetricWarning: Precision and F-score are ill-defined and being set to 0.0 in labels with no predicted samples. Use `zero_division` parameter to control this behavior.\n",
      "  _warn_prf(average, modifier, msg_start, len(result))\n",
      "/home/jupyter-reynaldo_delimajr/.local/lib/python3.7/site-packages/sklearn/metrics/_classification.py:1248: UndefinedMetricWarning: Precision and F-score are ill-defined and being set to 0.0 in labels with no predicted samples. Use `zero_division` parameter to control this behavior.\n",
      "  _warn_prf(average, modifier, msg_start, len(result))\n"
     ]
    }
   ],
   "source": [
    "target_names = ['ang', 'hap', 'sad', 'fea', 'sur', 'neu']\n",
    "print(classification_report(y_onehot_test_mfcc.argmax(axis=1), pred_onehot.argmax(axis=1), target_names=target_names))"
   ]
  },
  {
   "cell_type": "code",
   "execution_count": 213,
   "id": "ff00c16d",
   "metadata": {},
   "outputs": [
    {
     "data": {
      "text/plain": [
       "260"
      ]
     },
     "execution_count": 213,
     "metadata": {},
     "output_type": "execute_result"
    }
   ],
   "source": [
    "# indices and labels of all correctly recognized\n",
    "correct_indices = print_index(y_onehot_test_mfcc.argmax(axis=1), pred_onehot.argmax(axis=1))\n",
    "correct_labels = print_labels(y_onehot_test_mfcc.argmax(axis=1), pred_onehot.argmax(axis=1))\n",
    "\n",
    "len(correct_indices)"
   ]
  },
  {
   "cell_type": "code",
   "execution_count": 214,
   "id": "f55619a9",
   "metadata": {},
   "outputs": [
    {
     "data": {
      "text/plain": [
       "{'ang': 8, 'hap': 0, 'sad': 8, 'fea': 0, 'sur': 0, 'neu': 0}"
      ]
     },
     "execution_count": 214,
     "metadata": {},
     "output_type": "execute_result"
    }
   ],
   "source": [
    "# indices of correctly recognized AND clipped\n",
    "indices_of_clipped_recognized = []\n",
    "for i in range(len(X_testcnn_mfcc)):\n",
    "    for j in range(len(correct_indices)):\n",
    "        if(i == correct_indices[j]):\n",
    "            if(i in x_clipped):\n",
    "                indices_of_clipped_recognized.append(i)\n",
    "\n",
    "label_of_clipped_recognized = []\n",
    "# we get the label of correctly recognized clipped audios\n",
    "for i in range(len(y_onehot_test_mfcc.argmax(axis=1))):\n",
    "    if(i in indices_of_clipped_recognized):\n",
    "        label_of_clipped_recognized.append((y_onehot_test_mfcc.argmax(axis=1)[i]))\n",
    "\n",
    "dic_val_clipped = count_label(label_of_clipped_recognized)\n",
    "\n",
    "dic_val_clipped"
   ]
  },
  {
   "cell_type": "code",
   "execution_count": 215,
   "id": "b09d05af",
   "metadata": {},
   "outputs": [
    {
     "data": {
      "text/plain": [
       "<BarContainer object of 6 artists>"
      ]
     },
     "execution_count": 215,
     "metadata": {},
     "output_type": "execute_result"
    },
    {
     "data": {
      "image/png": "[encoded data removed]",
      "text/plain": [
       "<Figure size 432x288 with 1 Axes>"
      ]
     },
     "metadata": {
      "needs_background": "light"
     },
     "output_type": "display_data"
    }
   ],
   "source": [
    "plt.bar(list(dic_val_clipped.keys()), dic_val_clipped.values(), color='black')"
   ]
  },
  {
   "cell_type": "code",
   "execution_count": 216,
   "id": "9e2b7642",
   "metadata": {},
   "outputs": [
    {
     "data": {
      "text/plain": [
       "0.4"
      ]
     },
     "execution_count": 216,
     "metadata": {},
     "output_type": "execute_result"
    }
   ],
   "source": [
    "clipped_ratio = len(indices_of_clipped_recognized) / len(x_clipped)\n",
    "\n",
    "clipped_ratio"
   ]
  },
  {
   "cell_type": "code",
   "execution_count": 217,
   "id": "29db586c",
   "metadata": {},
   "outputs": [
    {
     "data": {
      "text/plain": [
       "244"
      ]
     },
     "execution_count": 217,
     "metadata": {},
     "output_type": "execute_result"
    }
   ],
   "source": [
    "# we get the indices of correctly recognized un-clipped audios\n",
    "indices_of_unclipped_recognized = []\n",
    "for i in range(len(X_testcnn_mfcc)):\n",
    "    for j in range(len(correct_indices)):\n",
    "        if(i == correct_indices[j]):\n",
    "            if(i not in x_clipped):\n",
    "                indices_of_unclipped_recognized.append(i)\n",
    "\n",
    "len(indices_of_unclipped_recognized)"
   ]
  },
  {
   "cell_type": "code",
   "execution_count": 218,
   "id": "e129a1a3",
   "metadata": {},
   "outputs": [
    {
     "data": {
      "text/plain": [
       "<BarContainer object of 6 artists>"
      ]
     },
     "execution_count": 218,
     "metadata": {},
     "output_type": "execute_result"
    },
    {
     "data": {
      "image/png": "[encoded data removed]",
      "text/plain": [
       "<Figure size 432x288 with 1 Axes>"
      ]
     },
     "metadata": {
      "needs_background": "light"
     },
     "output_type": "display_data"
    }
   ],
   "source": [
    "label_of_unclipped_recognized = []\n",
    "# we get the label of correctly recognized unclipped audios\n",
    "for i in range(len(y_onehot_test_mfcc.argmax(axis=1))):\n",
    "    if(i in indices_of_unclipped_recognized):\n",
    "        label_of_unclipped_recognized.append((y_onehot_test_mfcc.argmax(axis=1)[i]))\n",
    "\n",
    "dic_val_unclipped = count_label(label_of_unclipped_recognized)\n",
    "\n",
    "plt.bar(list(dic_val_unclipped.keys()), dic_val_unclipped.values(), color='black')"
   ]
  },
  {
   "cell_type": "code",
   "execution_count": 219,
   "id": "e8c0b77f",
   "metadata": {},
   "outputs": [
    {
     "data": {
      "text/plain": [
       "0.2837209302325581"
      ]
     },
     "execution_count": 219,
     "metadata": {},
     "output_type": "execute_result"
    }
   ],
   "source": [
    "unclipped_ratio = len(indices_of_unclipped_recognized) / len(x_unclipped)\n",
    "\n",
    "unclipped_ratio"
   ]
  },
  {
   "cell_type": "markdown",
   "id": "617da4ab",
   "metadata": {},
   "source": [
    "### LR"
   ]
  },
  {
   "cell_type": "code",
   "execution_count": 83,
   "id": "b3a0c191",
   "metadata": {},
   "outputs": [
    {
     "name": "stdout",
     "output_type": "stream",
     "text": [
      "6\n",
      "Test Set Accuracy =  0.558\n",
      "Test Set F-score =  0.545\n",
      "Test Set Precision =  0.539\n",
      "Test Set Recall =  0.556\n",
      "Confusion matrix, without normalization\n",
      "[[ 80  21   4   1  12  12]\n",
      " [ 36  44  18   5  32  18]\n",
      " [ 13  14  71   0  14  32]\n",
      " [  0   0   0 158   0   0]\n",
      " [  7  21  15  11  92  19]\n",
      " [ 16  20  36   3  18  57]]\n"
     ]
    },
    {
     "data": {
      "image/png": "[encoded data removed]",
      "text/plain": [
       "<Figure size 432x288 with 2 Axes>"
      ]
     },
     "metadata": {
      "needs_background": "light"
     },
     "output_type": "display_data"
    }
   ],
   "source": [
    "lr_classifier_mfcc = LogisticRegression(solver='newton-cg', multi_class='multinomial', max_iter=500)\n",
    "\n",
    "lr_classifier_mfcc.fit(X_train_mfcc, y_train_mfcc)\n",
    "\n",
    "# Predict\n",
    "pred_probs_lr = lr_classifier_mfcc.predict_proba(X_test_mfcc)\n",
    "\n",
    "# Results\n",
    "display_results(y_test_mfcc, pred_probs_lr)"
   ]
  },
  {
   "cell_type": "code",
   "execution_count": 84,
   "id": "a208aa58",
   "metadata": {
    "scrolled": true
   },
   "outputs": [
    {
     "name": "stdout",
     "output_type": "stream",
     "text": [
      "              precision    recall  f1-score   support\n",
      "\n",
      "         ang       0.53      0.62      0.57       130\n",
      "         hap       0.37      0.29      0.32       153\n",
      "         sad       0.49      0.49      0.49       144\n",
      "         fea       0.89      1.00      0.94       158\n",
      "         sur       0.55      0.56      0.55       165\n",
      "         neu       0.41      0.38      0.40       150\n",
      "\n",
      "    accuracy                           0.56       900\n",
      "   macro avg       0.54      0.56      0.55       900\n",
      "weighted avg       0.54      0.56      0.55       900\n",
      "\n"
     ]
    }
   ],
   "source": [
    "target_names = ['ang', 'hap', 'sad', 'fea', 'sur', 'neu']\n",
    "print(classification_report(y_onehot_test_mfcc.argmax(axis=1), pred_probs_lr.argmax(axis=1), target_names=target_names))"
   ]
  },
  {
   "cell_type": "code",
   "execution_count": 85,
   "id": "6caddc65",
   "metadata": {},
   "outputs": [
    {
     "data": {
      "text/plain": [
       "502"
      ]
     },
     "execution_count": 85,
     "metadata": {},
     "output_type": "execute_result"
    }
   ],
   "source": [
    "# indices and labels of all correctly recognized\n",
    "correct_indices = print_index(y_onehot_test_mfcc.argmax(axis=1), pred_probs_lr.argmax(axis=1))\n",
    "correct_labels = print_labels(y_onehot_test_mfcc.argmax(axis=1), pred_probs_lr.argmax(axis=1))\n",
    "\n",
    "len(correct_indices)"
   ]
  },
  {
   "cell_type": "code",
   "execution_count": 86,
   "id": "7d701c8b",
   "metadata": {},
   "outputs": [],
   "source": [
    "# indices of correctly recognized AND clipped\n",
    "indices_of_clipped_recognized = []\n",
    "for i in range(len(X_testcnn_mfcc)):\n",
    "    for j in range(len(correct_indices)):\n",
    "        if(i == correct_indices[j]):\n",
    "            if(i in x_clipped):\n",
    "                indices_of_clipped_recognized.append(i)\n",
    "\n",
    "label_of_clipped_recognized = []\n",
    "# we get the label of correctly recognized clipped audios\n",
    "for i in range(len(y_onehot_test_mfcc.argmax(axis=1))):\n",
    "    if(i in indices_of_clipped_recognized):\n",
    "        label_of_clipped_recognized.append((y_onehot_test_mfcc.argmax(axis=1)[i]))"
   ]
  },
  {
   "cell_type": "code",
   "execution_count": 87,
   "id": "713d1a4d",
   "metadata": {},
   "outputs": [
    {
     "data": {
      "text/plain": [
       "{'ang': 8, 'hap': 5, 'sad': 6, 'fea': 0, 'sur': 0, 'neu': 5}"
      ]
     },
     "execution_count": 87,
     "metadata": {},
     "output_type": "execute_result"
    }
   ],
   "source": [
    "dic_val_clipped = count_label(label_of_clipped_recognized)\n",
    "\n",
    "dic_val_clipped"
   ]
  },
  {
   "cell_type": "code",
   "execution_count": 88,
   "id": "02ec7129",
   "metadata": {},
   "outputs": [
    {
     "data": {
      "text/plain": [
       "<BarContainer object of 6 artists>"
      ]
     },
     "execution_count": 88,
     "metadata": {},
     "output_type": "execute_result"
    },
    {
     "data": {
      "image/png": "[encoded data removed]",
      "text/plain": [
       "<Figure size 432x288 with 1 Axes>"
      ]
     },
     "metadata": {
      "needs_background": "light"
     },
     "output_type": "display_data"
    }
   ],
   "source": [
    "plt.bar(list(dic_val_clipped.keys()), dic_val_clipped.values(), color='black')"
   ]
  },
  {
   "cell_type": "code",
   "execution_count": 89,
   "id": "5730ab1b",
   "metadata": {},
   "outputs": [
    {
     "data": {
      "text/plain": [
       "0.6"
      ]
     },
     "execution_count": 89,
     "metadata": {},
     "output_type": "execute_result"
    }
   ],
   "source": [
    "clipped_ratio = len(indices_of_clipped_recognized) / len(x_clipped)\n",
    "\n",
    "clipped_ratio"
   ]
  },
  {
   "cell_type": "code",
   "execution_count": 90,
   "id": "79282e84",
   "metadata": {},
   "outputs": [
    {
     "data": {
      "text/plain": [
       "478"
      ]
     },
     "execution_count": 90,
     "metadata": {},
     "output_type": "execute_result"
    }
   ],
   "source": [
    "# we get the indices of correctly recognized un-clipped audios\n",
    "indices_of_unclipped_recognized = []\n",
    "for i in range(len(X_testcnn_mfcc)):\n",
    "    for j in range(len(correct_indices)):\n",
    "        if(i == correct_indices[j]):\n",
    "            if(i not in x_clipped):\n",
    "                indices_of_unclipped_recognized.append(i)\n",
    "\n",
    "len(indices_of_unclipped_recognized)"
   ]
  },
  {
   "cell_type": "code",
   "execution_count": 91,
   "id": "bcb2ebda",
   "metadata": {},
   "outputs": [],
   "source": [
    "label_of_unclipped_recognized = []\n",
    "# we get the label of correctly recognized unclipped audios\n",
    "for i in range(len(y_onehot_test_mfcc.argmax(axis=1))):\n",
    "    if(i in indices_of_unclipped_recognized):\n",
    "        label_of_unclipped_recognized.append((y_onehot_test_mfcc.argmax(axis=1)[i]))"
   ]
  },
  {
   "cell_type": "code",
   "execution_count": 92,
   "id": "e1168c6d",
   "metadata": {},
   "outputs": [],
   "source": [
    "dic_val_unclipped = count_label(label_of_unclipped_recognized)"
   ]
  },
  {
   "cell_type": "code",
   "execution_count": 93,
   "id": "3a8e9542",
   "metadata": {},
   "outputs": [
    {
     "data": {
      "text/plain": [
       "<BarContainer object of 6 artists>"
      ]
     },
     "execution_count": 93,
     "metadata": {},
     "output_type": "execute_result"
    },
    {
     "data": {
      "image/png": "[encoded data removed]",
      "text/plain": [
       "<Figure size 432x288 with 1 Axes>"
      ]
     },
     "metadata": {
      "needs_background": "light"
     },
     "output_type": "display_data"
    }
   ],
   "source": [
    "plt.bar(list(dic_val_unclipped.keys()), dic_val_unclipped.values(), color='black')"
   ]
  },
  {
   "cell_type": "code",
   "execution_count": 94,
   "id": "de5191df",
   "metadata": {},
   "outputs": [
    {
     "data": {
      "text/plain": [
       "0.5558139534883721"
      ]
     },
     "execution_count": 94,
     "metadata": {},
     "output_type": "execute_result"
    }
   ],
   "source": [
    "unclipped_ratio = len(indices_of_unclipped_recognized) / len(x_unclipped)\n",
    "\n",
    "unclipped_ratio"
   ]
  },
  {
   "cell_type": "markdown",
   "id": "bf6befbf",
   "metadata": {},
   "source": [
    "## MEL\n",
    "\n",
    "We use Mel-spectrogram as input features."
   ]
  },
  {
   "cell_type": "code",
   "execution_count": 115,
   "id": "c27fbffc",
   "metadata": {
    "scrolled": true
   },
   "outputs": [
    {
     "data": {
      "text/plain": [
       "MLPClassifier(hidden_layer_sizes=(500,), learning_rate='adaptive',\n",
       "              max_iter=1000)"
      ]
     },
     "execution_count": 115,
     "metadata": {},
     "output_type": "execute_result"
    }
   ],
   "source": [
    "### MLP Classifier\n",
    "mlp_classifier_mel = MLPClassifier(hidden_layer_sizes=(500, ), activation='relu', solver='adam', alpha=0.0001,\n",
    "                               batch_size='auto', learning_rate='adaptive', learning_rate_init=0.001,\n",
    "                               power_t=0.5, max_iter=1000)\n",
    "\n",
    "mlp_classifier_mel.fit(X_train_mel, y_train_mel)"
   ]
  },
  {
   "cell_type": "code",
   "execution_count": 116,
   "id": "6703171d",
   "metadata": {},
   "outputs": [
    {
     "name": "stdout",
     "output_type": "stream",
     "text": [
      "6\n",
      "Test Set Accuracy =  0.686\n",
      "Test Set F-score =  0.671\n",
      "Test Set Precision =  0.666\n",
      "Test Set Recall =  0.679\n",
      "Confusion matrix, without normalization\n",
      "[[104  15   4   0   4   3]\n",
      " [ 21  69  26   0   3  34]\n",
      " [ 14  33  55   1   4  37]\n",
      " [  0   0   0 158   0   0]\n",
      " [  0   0   0   0 165   0]\n",
      " [ 10  37  34   1   2  66]]\n"
     ]
    },
    {
     "data": {
      "image/png": "[encoded data removed]",
      "text/plain": [
       "<Figure size 432x288 with 2 Axes>"
      ]
     },
     "metadata": {
      "needs_background": "light"
     },
     "output_type": "display_data"
    }
   ],
   "source": [
    "# Predict\n",
    "mlp_mel_pred_probs = mlp_classifier_mel.predict_proba(X_test_mel)\n",
    "\n",
    "# Results\n",
    "display_results(y_test_mel, mlp_mel_pred_probs)"
   ]
  },
  {
   "cell_type": "code",
   "execution_count": 117,
   "id": "ece2008f",
   "metadata": {},
   "outputs": [
    {
     "name": "stdout",
     "output_type": "stream",
     "text": [
      "              precision    recall  f1-score   support\n",
      "\n",
      "         ang       0.70      0.80      0.75       130\n",
      "         hap       0.45      0.45      0.45       153\n",
      "         sad       0.46      0.38      0.42       144\n",
      "         fea       0.99      1.00      0.99       158\n",
      "         sur       0.93      1.00      0.96       165\n",
      "         neu       0.47      0.44      0.46       150\n",
      "\n",
      "    accuracy                           0.69       900\n",
      "   macro avg       0.67      0.68      0.67       900\n",
      "weighted avg       0.67      0.69      0.68       900\n",
      "\n"
     ]
    }
   ],
   "source": [
    "target_names = ['ang', 'hap', 'sad', 'fea', 'sur', 'neu']\n",
    "print(classification_report(y_onehot_test_mel.argmax(axis=1), mlp_mel_pred_probs.argmax(axis=1), target_names=target_names))"
   ]
  },
  {
   "cell_type": "code",
   "execution_count": 118,
   "id": "4bce9937",
   "metadata": {},
   "outputs": [
    {
     "data": {
      "text/plain": [
       "617"
      ]
     },
     "execution_count": 118,
     "metadata": {},
     "output_type": "execute_result"
    }
   ],
   "source": [
    "# indices and labels of all correctly recognized\n",
    "correct_indices = print_index(y_onehot_test_mfcc.argmax(axis=1), mlp_mel_pred_probs.argmax(axis=1))\n",
    "correct_labels = print_labels(y_onehot_test_mfcc.argmax(axis=1), mlp_mel_pred_probs.argmax(axis=1))\n",
    "\n",
    "len(correct_indices)\n"
   ]
  },
  {
   "cell_type": "code",
   "execution_count": 119,
   "id": "44a5e650",
   "metadata": {},
   "outputs": [
    {
     "data": {
      "text/plain": [
       "{'ang': 8, 'hap': 3, 'sad': 3, 'fea': 0, 'sur': 7, 'neu': 3}"
      ]
     },
     "execution_count": 119,
     "metadata": {},
     "output_type": "execute_result"
    }
   ],
   "source": [
    "# indices of correctly recognized AND clipped\n",
    "indices_of_clipped_recognized = []\n",
    "for i in range(len(X_testcnn_mfcc)):\n",
    "    for j in range(len(correct_indices)):\n",
    "        if(i == correct_indices[j]):\n",
    "            if(i in x_clipped):\n",
    "                indices_of_clipped_recognized.append(i)\n",
    "\n",
    "label_of_clipped_recognized = []\n",
    "# we get the label of correctly recognized clipped audios\n",
    "for i in range(len(y_onehot_test_mfcc.argmax(axis=1))):\n",
    "    if(i in indices_of_clipped_recognized):\n",
    "        label_of_clipped_recognized.append((y_onehot_test_mfcc.argmax(axis=1)[i]))\n",
    "\n",
    "dic_val_clipped = count_label(label_of_clipped_recognized)\n",
    "\n",
    "dic_val_clipped"
   ]
  },
  {
   "cell_type": "code",
   "execution_count": 120,
   "id": "eb6f0397",
   "metadata": {},
   "outputs": [
    {
     "data": {
      "text/plain": [
       "<BarContainer object of 6 artists>"
      ]
     },
     "execution_count": 120,
     "metadata": {},
     "output_type": "execute_result"
    },
    {
     "data": {
      "image/png": "[encoded data removed]",
      "text/plain": [
       "<Figure size 432x288 with 1 Axes>"
      ]
     },
     "metadata": {
      "needs_background": "light"
     },
     "output_type": "display_data"
    }
   ],
   "source": [
    "plt.bar(list(dic_val_clipped.keys()), dic_val_clipped.values(), color='black')"
   ]
  },
  {
   "cell_type": "code",
   "execution_count": 121,
   "id": "dde10f36",
   "metadata": {},
   "outputs": [
    {
     "data": {
      "text/plain": [
       "0.6"
      ]
     },
     "execution_count": 121,
     "metadata": {},
     "output_type": "execute_result"
    }
   ],
   "source": [
    "clipped_ratio = len(indices_of_clipped_recognized) / len(x_clipped)\n",
    "\n",
    "clipped_ratio"
   ]
  },
  {
   "cell_type": "code",
   "execution_count": 122,
   "id": "1f5376c1",
   "metadata": {},
   "outputs": [
    {
     "data": {
      "text/plain": [
       "593"
      ]
     },
     "execution_count": 122,
     "metadata": {},
     "output_type": "execute_result"
    }
   ],
   "source": [
    "# we get the indices of correctly recognized un-clipped audios\n",
    "indices_of_unclipped_recognized = []\n",
    "for i in range(len(X_testcnn_mfcc)):\n",
    "    for j in range(len(correct_indices)):\n",
    "        if(i == correct_indices[j]):\n",
    "            if(i not in x_clipped):\n",
    "                indices_of_unclipped_recognized.append(i)\n",
    "\n",
    "len(indices_of_unclipped_recognized)"
   ]
  },
  {
   "cell_type": "code",
   "execution_count": 123,
   "id": "67e6625b",
   "metadata": {},
   "outputs": [],
   "source": [
    "label_of_unclipped_recognized = []\n",
    "# we get the label of correctly recognized unclipped audios\n",
    "for i in range(len(y_onehot_test_mfcc.argmax(axis=1))):\n",
    "    if(i in indices_of_unclipped_recognized):\n",
    "        label_of_unclipped_recognized.append((y_onehot_test_mfcc.argmax(axis=1)[i]))\n",
    "\n",
    "dic_val_unclipped = count_label(label_of_unclipped_recognized)"
   ]
  },
  {
   "cell_type": "code",
   "execution_count": 124,
   "id": "89866714",
   "metadata": {},
   "outputs": [
    {
     "data": {
      "text/plain": [
       "<BarContainer object of 6 artists>"
      ]
     },
     "execution_count": 124,
     "metadata": {},
     "output_type": "execute_result"
    },
    {
     "data": {
      "image/png": "[encoded data removed]",
      "text/plain": [
       "<Figure size 432x288 with 1 Axes>"
      ]
     },
     "metadata": {
      "needs_background": "light"
     },
     "output_type": "display_data"
    }
   ],
   "source": [
    "plt.bar(list(dic_val_unclipped.keys()), dic_val_unclipped.values(), color='black')"
   ]
  },
  {
   "cell_type": "code",
   "execution_count": 125,
   "id": "9f46acd9",
   "metadata": {},
   "outputs": [
    {
     "data": {
      "text/plain": [
       "0.6895348837209302"
      ]
     },
     "execution_count": 125,
     "metadata": {},
     "output_type": "execute_result"
    }
   ],
   "source": [
    "unclipped_ratio = len(indices_of_unclipped_recognized) / len(x_unclipped)\n",
    "\n",
    "unclipped_ratio"
   ]
  },
  {
   "cell_type": "markdown",
   "id": "1ba0c3ba",
   "metadata": {},
   "source": [
    "#### Support Vector Machines"
   ]
  },
  {
   "cell_type": "code",
   "execution_count": 151,
   "id": "8e53e17a",
   "metadata": {},
   "outputs": [
    {
     "name": "stdout",
     "output_type": "stream",
     "text": [
      "6\n",
      "Test Set Accuracy =  0.571\n",
      "Test Set F-score =  0.566\n",
      "Test Set Precision =  0.577\n",
      "Test Set Recall =  0.565\n",
      "Confusion matrix, without normalization\n",
      "[[ 71  33  11   2   4   9]\n",
      " [ 30  69  18   4   5  27]\n",
      " [ 15  36  54   3   8  28]\n",
      " [  0   0   0 158   0   0]\n",
      " [ 15  27  16   4 101   2]\n",
      " [ 12  33  38   2   4  61]]\n"
     ]
    },
    {
     "data": {
      "image/png": "[encoded data removed]",
      "text/plain": [
       "<Figure size 432x288 with 2 Axes>"
      ]
     },
     "metadata": {
      "needs_background": "light"
     },
     "output_type": "display_data"
    }
   ],
   "source": [
    "## SVM NON-LINEAR\n",
    "svc_classifier = SVC(kernel = 'rbf')\n",
    "\n",
    "svc_classifier.fit(X_train_mel, y_train_mel)\n",
    "\n",
    "# Predict\n",
    "pred = svc_classifier.predict(X_test_mel)\n",
    "pred_onehot = np.zeros((pred.size, pred.max()+1))\n",
    "pred_onehot[np.arange(pred.size),pred] = 1\n",
    "\n",
    "# Results\n",
    "display_results(y_test_mel, pred_onehot)"
   ]
  },
  {
   "cell_type": "code",
   "execution_count": 152,
   "id": "202f7f51",
   "metadata": {
    "scrolled": true
   },
   "outputs": [
    {
     "name": "stdout",
     "output_type": "stream",
     "text": [
      "              precision    recall  f1-score   support\n",
      "\n",
      "         ang       0.50      0.55      0.52       130\n",
      "         hap       0.35      0.45      0.39       153\n",
      "         sad       0.39      0.38      0.38       144\n",
      "         fea       0.91      1.00      0.95       158\n",
      "         sur       0.83      0.61      0.70       165\n",
      "         neu       0.48      0.41      0.44       150\n",
      "\n",
      "    accuracy                           0.57       900\n",
      "   macro avg       0.58      0.57      0.57       900\n",
      "weighted avg       0.59      0.57      0.57       900\n",
      "\n"
     ]
    }
   ],
   "source": [
    "target_names = ['ang', 'hap', 'sad', 'fea', 'sur', 'neu']\n",
    "print(classification_report(y_onehot_test_mel.argmax(axis=1), pred_onehot.argmax(axis=1), target_names=target_names))"
   ]
  },
  {
   "cell_type": "code",
   "execution_count": 153,
   "id": "c0e2b9ba",
   "metadata": {},
   "outputs": [
    {
     "data": {
      "text/plain": [
       "483"
      ]
     },
     "execution_count": 153,
     "metadata": {},
     "output_type": "execute_result"
    }
   ],
   "source": [
    "# indices and labels of all correctly recognized\n",
    "correct_indices = print_index(y_onehot_test_mfcc.argmax(axis=1), pred_onehot_mel.argmax(axis=1))\n",
    "correct_labels = print_labels(y_onehot_test_mfcc.argmax(axis=1), pred_onehot_mel.argmax(axis=1))\n",
    "\n",
    "len(correct_indices)"
   ]
  },
  {
   "cell_type": "code",
   "execution_count": 154,
   "id": "204f0046",
   "metadata": {},
   "outputs": [
    {
     "data": {
      "text/plain": [
       "{'ang': 8, 'hap': 1, 'sad': 4, 'fea': 0, 'sur': 0, 'neu': 6}"
      ]
     },
     "execution_count": 154,
     "metadata": {},
     "output_type": "execute_result"
    }
   ],
   "source": [
    "# indices of correctly recognized AND clipped\n",
    "indices_of_clipped_recognized = []\n",
    "for i in range(len(X_testcnn_mfcc)):\n",
    "    for j in range(len(correct_indices)):\n",
    "        if(i == correct_indices[j]):\n",
    "            if(i in x_clipped):\n",
    "                indices_of_clipped_recognized.append(i)\n",
    "\n",
    "label_of_clipped_recognized = []\n",
    "# we get the label of correctly recognized clipped audios\n",
    "for i in range(len(y_onehot_test_mfcc.argmax(axis=1))):\n",
    "    if(i in indices_of_clipped_recognized):\n",
    "        label_of_clipped_recognized.append((y_onehot_test_mfcc.argmax(axis=1)[i]))\n",
    "\n",
    "dic_val_clipped = count_label(label_of_clipped_recognized)\n",
    "\n",
    "dic_val_clipped"
   ]
  },
  {
   "cell_type": "code",
   "execution_count": 155,
   "id": "998da1c7",
   "metadata": {},
   "outputs": [
    {
     "data": {
      "text/plain": [
       "<BarContainer object of 6 artists>"
      ]
     },
     "execution_count": 155,
     "metadata": {},
     "output_type": "execute_result"
    },
    {
     "data": {
      "image/png": "[encoded data removed]",
      "text/plain": [
       "<Figure size 432x288 with 1 Axes>"
      ]
     },
     "metadata": {
      "needs_background": "light"
     },
     "output_type": "display_data"
    }
   ],
   "source": [
    "plt.bar(list(dic_val_clipped.keys()), dic_val_clipped.values(), color='black')"
   ]
  },
  {
   "cell_type": "code",
   "execution_count": 156,
   "id": "0674521a",
   "metadata": {},
   "outputs": [
    {
     "data": {
      "text/plain": [
       "0.475"
      ]
     },
     "execution_count": 156,
     "metadata": {},
     "output_type": "execute_result"
    }
   ],
   "source": [
    "clipped_ratio = len(indices_of_clipped_recognized) / len(x_clipped)\n",
    "\n",
    "clipped_ratio"
   ]
  },
  {
   "cell_type": "code",
   "execution_count": 157,
   "id": "fd7a2956",
   "metadata": {},
   "outputs": [
    {
     "data": {
      "text/plain": [
       "464"
      ]
     },
     "execution_count": 157,
     "metadata": {},
     "output_type": "execute_result"
    }
   ],
   "source": [
    "# we get the indices of correctly recognized un-clipped audios\n",
    "indices_of_unclipped_recognized = []\n",
    "for i in range(len(X_testcnn_mfcc)):\n",
    "    for j in range(len(correct_indices)):\n",
    "        if(i == correct_indices[j]):\n",
    "            if(i not in x_clipped):\n",
    "                indices_of_unclipped_recognized.append(i)\n",
    "\n",
    "len(indices_of_unclipped_recognized)"
   ]
  },
  {
   "cell_type": "code",
   "execution_count": 158,
   "id": "d9f0c8c1",
   "metadata": {},
   "outputs": [],
   "source": [
    "label_of_unclipped_recognized = []\n",
    "# we get the label of correctly recognized unclipped audios\n",
    "for i in range(len(y_onehot_test_mfcc.argmax(axis=1))):\n",
    "    if(i in indices_of_unclipped_recognized):\n",
    "        label_of_unclipped_recognized.append((y_onehot_test_mfcc.argmax(axis=1)[i]))\n",
    "\n",
    "dic_val_unclipped = count_label(label_of_unclipped_recognized)"
   ]
  },
  {
   "cell_type": "code",
   "execution_count": 159,
   "id": "5c506750",
   "metadata": {},
   "outputs": [
    {
     "data": {
      "text/plain": [
       "<BarContainer object of 6 artists>"
      ]
     },
     "execution_count": 159,
     "metadata": {},
     "output_type": "execute_result"
    },
    {
     "data": {
      "image/png": "[encoded data removed]",
      "text/plain": [
       "<Figure size 432x288 with 1 Axes>"
      ]
     },
     "metadata": {
      "needs_background": "light"
     },
     "output_type": "display_data"
    }
   ],
   "source": [
    "plt.bar(list(dic_val_unclipped.keys()), dic_val_unclipped.values(), color='black')"
   ]
  },
  {
   "cell_type": "code",
   "execution_count": 160,
   "id": "72e8f59a",
   "metadata": {},
   "outputs": [
    {
     "data": {
      "text/plain": [
       "0.5395348837209303"
      ]
     },
     "execution_count": 160,
     "metadata": {},
     "output_type": "execute_result"
    }
   ],
   "source": [
    "unclipped_ratio = len(indices_of_unclipped_recognized) / len(x_unclipped)\n",
    "\n",
    "unclipped_ratio"
   ]
  },
  {
   "cell_type": "markdown",
   "id": "8df48e37",
   "metadata": {},
   "source": [
    "#### Logistic Regression "
   ]
  },
  {
   "cell_type": "markdown",
   "id": "0137ac02",
   "metadata": {},
   "source": [
    "#### Testing best Optimization Algorithm"
   ]
  },
  {
   "cell_type": "code",
   "execution_count": 164,
   "id": "eb3705c2",
   "metadata": {},
   "outputs": [
    {
     "name": "stderr",
     "output_type": "stream",
     "text": [
      "/home/jupyter-reynaldo_delimajr/.local/lib/python3.7/site-packages/sklearn/utils/optimize.py:203: ConvergenceWarning: newton-cg failed to converge. Increase the number of iterations.\n",
      "  \"number of iterations.\", ConvergenceWarning)\n"
     ]
    },
    {
     "data": {
      "text/plain": [
       "LogisticRegression(max_iter=500, multi_class='multinomial', solver='newton-cg')"
      ]
     },
     "execution_count": 164,
     "metadata": {},
     "output_type": "execute_result"
    }
   ],
   "source": [
    "lr_classifier_mel = LogisticRegression(solver='newton-cg', multi_class='multinomial', max_iter=500)\n",
    "\n",
    "lr_classifier_mel.fit(X_train_mel, y_train_mel)"
   ]
  },
  {
   "cell_type": "code",
   "execution_count": 165,
   "id": "7202a327",
   "metadata": {},
   "outputs": [
    {
     "name": "stdout",
     "output_type": "stream",
     "text": [
      "6\n",
      "Test Set Accuracy =  0.602\n",
      "Test Set F-score =  0.584\n",
      "Test Set Precision =  0.579\n",
      "Test Set Recall =  0.594\n",
      "Confusion matrix, without normalization\n",
      "[[ 80  21  10   0  10   9]\n",
      " [ 27  60  24   4  11  27]\n",
      " [ 22  18  46   4  14  40]\n",
      " [  0   0   0 158   0   0]\n",
      " [  8  10   7   0 134   6]\n",
      " [  9  17  33   3  24  64]]\n"
     ]
    },
    {
     "data": {
      "image/png": "[encoded data removed]",
      "text/plain": [
       "<Figure size 432x288 with 2 Axes>"
      ]
     },
     "metadata": {
      "needs_background": "light"
     },
     "output_type": "display_data"
    }
   ],
   "source": [
    "# Predict\n",
    "pred_probs_mel = lr_classifier_mel.predict_proba(X_test_mel)\n",
    "\n",
    "# Results\n",
    "display_results(y_test_mel, pred_probs_mel)"
   ]
  },
  {
   "cell_type": "code",
   "execution_count": 166,
   "id": "5283a5d4",
   "metadata": {},
   "outputs": [
    {
     "name": "stdout",
     "output_type": "stream",
     "text": [
      "              precision    recall  f1-score   support\n",
      "\n",
      "         ang       0.55      0.62      0.58       130\n",
      "         hap       0.48      0.39      0.43       153\n",
      "         sad       0.38      0.32      0.35       144\n",
      "         fea       0.93      1.00      0.97       158\n",
      "         sur       0.69      0.81      0.75       165\n",
      "         neu       0.44      0.43      0.43       150\n",
      "\n",
      "    accuracy                           0.60       900\n",
      "   macro avg       0.58      0.59      0.58       900\n",
      "weighted avg       0.59      0.60      0.59       900\n",
      "\n"
     ]
    }
   ],
   "source": [
    "target_names = ['ang', 'hap', 'sad', 'fea', 'sur', 'neu']\n",
    "print(classification_report(y_onehot_test_mel.argmax(axis=1), pred_probs_mel.argmax(axis=1), target_names=target_names))"
   ]
  },
  {
   "cell_type": "code",
   "execution_count": 167,
   "id": "1cc0010e",
   "metadata": {},
   "outputs": [
    {
     "data": {
      "text/plain": [
       "542"
      ]
     },
     "execution_count": 167,
     "metadata": {},
     "output_type": "execute_result"
    }
   ],
   "source": [
    "# indices and labels of all correctly recognized\n",
    "correct_indices = print_index(y_onehot_test_mfcc.argmax(axis=1), pred_probs_mel.argmax(axis=1))\n",
    "correct_labels = print_labels(y_onehot_test_mfcc.argmax(axis=1), pred_probs_mel.argmax(axis=1))\n",
    "\n",
    "len(correct_indices)"
   ]
  },
  {
   "cell_type": "code",
   "execution_count": 168,
   "id": "3aadf3b2",
   "metadata": {},
   "outputs": [
    {
     "data": {
      "text/plain": [
       "{'ang': 7, 'hap': 7, 'sad': 2, 'fea': 0, 'sur': 0, 'neu': 2}"
      ]
     },
     "execution_count": 168,
     "metadata": {},
     "output_type": "execute_result"
    }
   ],
   "source": [
    "# indices of correctly recognized AND clipped\n",
    "indices_of_clipped_recognized = []\n",
    "for i in range(len(X_testcnn_mfcc)):\n",
    "    for j in range(len(correct_indices)):\n",
    "        if(i == correct_indices[j]):\n",
    "            if(i in x_clipped):\n",
    "                indices_of_clipped_recognized.append(i)\n",
    "\n",
    "label_of_clipped_recognized = []\n",
    "# we get the label of correctly recognized clipped audios\n",
    "for i in range(len(y_onehot_test_mfcc.argmax(axis=1))):\n",
    "    if(i in indices_of_clipped_recognized):\n",
    "        label_of_clipped_recognized.append((y_onehot_test_mfcc.argmax(axis=1)[i]))\n",
    "\n",
    "dic_val_clipped = count_label(label_of_clipped_recognized)\n",
    "\n",
    "dic_val_clipped"
   ]
  },
  {
   "cell_type": "code",
   "execution_count": 169,
   "id": "9aa00822",
   "metadata": {},
   "outputs": [
    {
     "data": {
      "text/plain": [
       "<BarContainer object of 6 artists>"
      ]
     },
     "execution_count": 169,
     "metadata": {},
     "output_type": "execute_result"
    },
    {
     "data": {
      "image/png": "[encoded data removed]",
      "text/plain": [
       "<Figure size 432x288 with 1 Axes>"
      ]
     },
     "metadata": {
      "needs_background": "light"
     },
     "output_type": "display_data"
    }
   ],
   "source": [
    "plt.bar(list(dic_val_clipped.keys()), dic_val_clipped.values(), color='black')"
   ]
  },
  {
   "cell_type": "code",
   "execution_count": 170,
   "id": "c4da5419",
   "metadata": {},
   "outputs": [
    {
     "data": {
      "text/plain": [
       "0.45"
      ]
     },
     "execution_count": 170,
     "metadata": {},
     "output_type": "execute_result"
    }
   ],
   "source": [
    "clipped_ratio = len(indices_of_clipped_recognized) / len(x_clipped)\n",
    "\n",
    "clipped_ratio"
   ]
  },
  {
   "cell_type": "code",
   "execution_count": 171,
   "id": "838868a5",
   "metadata": {},
   "outputs": [
    {
     "data": {
      "text/plain": [
       "524"
      ]
     },
     "execution_count": 171,
     "metadata": {},
     "output_type": "execute_result"
    }
   ],
   "source": [
    "# we get the indices of correctly recognized un-clipped audios\n",
    "indices_of_unclipped_recognized = []\n",
    "for i in range(len(X_testcnn_mfcc)):\n",
    "    for j in range(len(correct_indices)):\n",
    "        if(i == correct_indices[j]):\n",
    "            if(i not in x_clipped):\n",
    "                indices_of_unclipped_recognized.append(i)\n",
    "\n",
    "len(indices_of_unclipped_recognized)\n"
   ]
  },
  {
   "cell_type": "code",
   "execution_count": 172,
   "id": "b5323463",
   "metadata": {},
   "outputs": [
    {
     "data": {
      "text/plain": [
       "<BarContainer object of 6 artists>"
      ]
     },
     "execution_count": 172,
     "metadata": {},
     "output_type": "execute_result"
    },
    {
     "data": {
      "image/png": "[encoded data removed]",
      "text/plain": [
       "<Figure size 432x288 with 1 Axes>"
      ]
     },
     "metadata": {
      "needs_background": "light"
     },
     "output_type": "display_data"
    }
   ],
   "source": [
    "label_of_unclipped_recognized = []\n",
    "# we get the label of correctly recognized unclipped audios\n",
    "for i in range(len(y_onehot_test_mfcc.argmax(axis=1))):\n",
    "    if(i in indices_of_unclipped_recognized):\n",
    "        label_of_unclipped_recognized.append((y_onehot_test_mfcc.argmax(axis=1)[i]))\n",
    "\n",
    "dic_val_unclipped = count_label(label_of_unclipped_recognized)\n",
    "\n",
    "plt.bar(list(dic_val_unclipped.keys()), dic_val_unclipped.values(), color='black')"
   ]
  },
  {
   "cell_type": "code",
   "execution_count": 173,
   "id": "82cb6355",
   "metadata": {},
   "outputs": [
    {
     "data": {
      "text/plain": [
       "0.6093023255813953"
      ]
     },
     "execution_count": 173,
     "metadata": {},
     "output_type": "execute_result"
    }
   ],
   "source": [
    "unclipped_ratio = len(indices_of_unclipped_recognized) / len(x_unclipped)\n",
    "\n",
    "unclipped_ratio"
   ]
  }
 ],
 "metadata": {
  "kernelspec": {
   "display_name": "Python 3",
   "language": "python",
   "name": "python3"
  },
  "language_info": {
   "codemirror_mode": {
    "name": "ipython",
    "version": 3
   },
   "file_extension": ".py",
   "mimetype": "text/x-python",
   "name": "python",
   "nbconvert_exporter": "python",
   "pygments_lexer": "ipython3",
   "version": "3.7.3"
  }
 },
 "nbformat": 4,
 "nbformat_minor": 5
}
