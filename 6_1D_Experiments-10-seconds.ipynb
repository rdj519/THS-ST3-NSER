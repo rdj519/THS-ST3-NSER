{
 "cells": [
  {
   "cell_type": "code",
   "execution_count": 950,
   "id": "724e81be",
   "metadata": {
    "collapsed": true
   },
   "outputs": [],
   "source": [
    "import librosa\n",
    "import numpy as np\n",
    "import os\n",
    "import pandas as pd\n",
    "import soundfile\n",
    "import sys\n",
    "import joblib\n",
    "import pandas as pd\n",
    "import numpy as np\n",
    "import xgboost as xgb\n",
    "import pickle\n",
    "import matplotlib\n",
    "import matplotlib.pyplot as plt\n",
    "from sklearn.metrics import classification_report\n",
    "from sklearn.svm import SVC, LinearSVC\n",
    "from sklearn.naive_bayes import MultinomialNB\n",
    "from sklearn.linear_model import LogisticRegression\n",
    "from sklearn.ensemble import RandomForestClassifier\n",
    "from sklearn.model_selection import train_test_split\n",
    "from sklearn.neural_network import MLPClassifier\n",
    "from sklearn.metrics import confusion_matrix, f1_score, fbeta_score,accuracy_score, precision_score, recall_score\n",
    "from sklearn.preprocessing import MinMaxScaler, OneHotEncoder\n",
    "from sklearn.feature_selection import SelectFromModel\n",
    "from sklearn.utils.class_weight import compute_class_weight\n",
    "import itertools\n",
    "from IPython.display import display\n",
    "from tensorflow.keras.models import Sequential\n",
    "from tensorflow.keras import layers\n",
    "from tensorflow.keras import optimizers\n",
    "from tensorflow.keras import callbacks \n",
    "\n",
    "%matplotlib inline"
   ]
  },
  {
   "cell_type": "markdown",
   "id": "674f63c9",
   "metadata": {},
   "source": [
    "We define a function that takes a set of features per time frame and stack the mean so that the data becomes 1-Dimension."
   ]
  },
  {
   "cell_type": "code",
   "execution_count": 32,
   "id": "c87a8e0c",
   "metadata": {},
   "outputs": [],
   "source": [
    "def feature_to_1d(features):\n",
    "    result = np.array([])\n",
    "    mfcc = np.mean(features.T, axis=0)\n",
    "    result = np.hstack((result, mfcc))\n",
    "    return result"
   ]
  },
  {
   "cell_type": "markdown",
   "id": "29bbca0e",
   "metadata": {},
   "source": [
    "We import the binary files containing the original features (MFCCs, and Mel-Spectrogram) in 2D form, as well as the labels corresponding to each feature set."
   ]
  },
  {
   "cell_type": "code",
   "execution_count": 804,
   "id": "238bde0f",
   "metadata": {},
   "outputs": [],
   "source": [
    "#mel\n",
    "\n",
    "f = open('IEMOCAP_Data/Data_10_sec/X_train_mel', 'rb')\n",
    "X_train_mel = joblib.load(f)\n",
    "f.close()\n",
    "f = open('IEMOCAP_Data/Data_10_sec/X_test_mel', 'rb')\n",
    "X_test_mel = joblib.load(f)\n",
    "f.close()\n",
    "f = open('IEMOCAP_Data/Data_10_sec/y_train_mel', 'rb')\n",
    "y_train_mel = joblib.load(f)\n",
    "f.close()\n",
    "f = open('IEMOCAP_Data/Data_10_sec/y_test_mel', 'rb')\n",
    "y_test_mel = joblib.load(f)\n",
    "f.close()\n",
    "\n",
    "#mfcc\n",
    "\n",
    "f = open('IEMOCAP_Data/Data_10_sec/X_train_mfcc', 'rb')\n",
    "X_train_mfcc = joblib.load(f)\n",
    "f.close()\n",
    "f = open('IEMOCAP_Data/Data_10_sec/X_test_mfcc', 'rb')\n",
    "X_test_mfcc = joblib.load(f)\n",
    "f.close()\n",
    "f = open('IEMOCAP_Data/Data_10_sec/y_train_mfcc', 'rb')\n",
    "y_train_mfcc = joblib.load(f)\n",
    "f.close()\n",
    "f = open('IEMOCAP_Data/Data_10_sec/y_test_mfcc', 'rb')\n",
    "y_test_mfcc = joblib.load(f)\n",
    "f.close()"
   ]
  },
  {
   "cell_type": "markdown",
   "id": "99afd11f",
   "metadata": {},
   "source": [
    "## Find the indices of clipped audio (test)"
   ]
  },
  {
   "cell_type": "code",
   "execution_count": 820,
   "id": "b1e75131",
   "metadata": {},
   "outputs": [
    {
     "data": {
      "text/plain": [
       "(900, 40, 313)"
      ]
     },
     "execution_count": 820,
     "metadata": {},
     "output_type": "execute_result"
    }
   ],
   "source": [
    "X_test_mfcc.shape"
   ]
  },
  {
   "cell_type": "code",
   "execution_count": 858,
   "id": "bb9adcee",
   "metadata": {},
   "outputs": [],
   "source": [
    "clipped_indices = []\n",
    "\n",
    "for i in range(900):\n",
    "    for j in range(40):\n",
    "        for k in range(313):\n",
    "            if(k == 312 and X_test_mel[i][j][k] != 0):\n",
    "                clipped_indices.append(i)"
   ]
  },
  {
   "cell_type": "code",
   "execution_count": 859,
   "id": "525c59b5",
   "metadata": {},
   "outputs": [
    {
     "data": {
      "text/plain": [
       "1600"
      ]
     },
     "execution_count": 859,
     "metadata": {},
     "output_type": "execute_result"
    }
   ],
   "source": [
    "len(clipped_indices)"
   ]
  },
  {
   "cell_type": "code",
   "execution_count": 862,
   "id": "a4bc0de7",
   "metadata": {},
   "outputs": [],
   "source": [
    "x_clipped =np.array(clipped_indices)\n",
    "x_clipped =np.unique(x_clipped)"
   ]
  },
  {
   "cell_type": "code",
   "execution_count": 943,
   "id": "1b83b987",
   "metadata": {
    "scrolled": true
   },
   "outputs": [
    {
     "data": {
      "text/plain": [
       "array([  5,  32,  37,  48,  69,  77,  80,  86, 107, 112, 116, 141, 145,\n",
       "       154, 168, 172, 204, 210, 231, 236, 330, 351, 372, 417, 419, 464,\n",
       "       482, 505, 587, 636, 693, 720, 733, 743, 756, 800, 811, 842, 852,\n",
       "       897])"
      ]
     },
     "execution_count": 943,
     "metadata": {},
     "output_type": "execute_result"
    }
   ],
   "source": [
    "x_clipped"
   ]
  },
  {
   "cell_type": "code",
   "execution_count": 944,
   "id": "54d742e5",
   "metadata": {},
   "outputs": [],
   "source": [
    "x_unclipped = []\n",
    "for i in range(len(X_test_mel)):\n",
    "    if i not in x_clipped:\n",
    "        x_unclipped.append(i)\n",
    "x_unclipped = np.array(x_unclipped)\n",
    "#x_unclipped"
   ]
  },
  {
   "cell_type": "code",
   "execution_count": 946,
   "id": "febf8ac9",
   "metadata": {},
   "outputs": [
    {
     "data": {
      "text/plain": [
       "860"
      ]
     },
     "execution_count": 946,
     "metadata": {},
     "output_type": "execute_result"
    }
   ],
   "source": [
    "len(x_unclipped)"
   ]
  },
  {
   "cell_type": "raw",
   "id": "47788116",
   "metadata": {},
   "source": [
    "32 + 40 = 72"
   ]
  },
  {
   "cell_type": "markdown",
   "id": "9b3a408c",
   "metadata": {},
   "source": [
    "## Examine clipped audio in train set"
   ]
  },
  {
   "cell_type": "code",
   "execution_count": 900,
   "id": "4bd61785",
   "metadata": {},
   "outputs": [],
   "source": [
    "clipped_indices_train = []\n",
    "\n",
    "for i in range(900):\n",
    "    for j in range(40):\n",
    "        for k in range(313):\n",
    "            if(k == 312 and X_train_mel[i][j][k] != 0):\n",
    "                clipped_indices_train.append(i)"
   ]
  },
  {
   "cell_type": "code",
   "execution_count": 901,
   "id": "f657987e",
   "metadata": {},
   "outputs": [],
   "source": [
    "x_clipped_t =np.array(clipped_indices_train)\n",
    "x_clipped_t =np.unique(x_clipped_t)"
   ]
  },
  {
   "cell_type": "code",
   "execution_count": 906,
   "id": "04551a40",
   "metadata": {},
   "outputs": [
    {
     "data": {
      "text/plain": [
       "32"
      ]
     },
     "execution_count": 906,
     "metadata": {},
     "output_type": "execute_result"
    }
   ],
   "source": [
    "len(x_clipped_t)"
   ]
  },
  {
   "cell_type": "code",
   "execution_count": 912,
   "id": "b67f50e6",
   "metadata": {},
   "outputs": [],
   "source": [
    "train_labels = []\n",
    "for i in range(len(y_onehot_train_mfcc.argmax(axis=1))):\n",
    "    if i in x_clipped_t:\n",
    "        train_labels.append(y_onehot_train_mfcc.argmax(axis=1)[i])\n",
    "test_labels = []\n",
    "for i in range(len(y_onehot_test_mfcc.argmax(axis=1))):\n",
    "    if i in x_clipped:\n",
    "        test_labels.append(y_onehot_test_mfcc.argmax(axis=1)[i])"
   ]
  },
  {
   "cell_type": "code",
   "execution_count": 915,
   "id": "2ac12fe5",
   "metadata": {},
   "outputs": [
    {
     "data": {
      "text/plain": [
       "40"
      ]
     },
     "execution_count": 915,
     "metadata": {},
     "output_type": "execute_result"
    }
   ],
   "source": [
    "len(test_labels)"
   ]
  },
  {
   "cell_type": "code",
   "execution_count": 917,
   "id": "28327179",
   "metadata": {},
   "outputs": [
    {
     "name": "stdout",
     "output_type": "stream",
     "text": [
      "Train: \n",
      "Counter({2: 12, 5: 9, 4: 6, 1: 3, 0: 2}) \n",
      "\n",
      "Test: \n",
      "Counter({2: 10, 1: 9, 0: 8, 4: 7, 5: 6})\n"
     ]
    }
   ],
   "source": [
    "from collections import Counter\n",
    "train = Counter(train_labels)\n",
    "test = Counter(test_labels)\n",
    "print(\"Train: \\n{} \\n\\nTest: \\n{}\".format(train, test))"
   ]
  },
  {
   "cell_type": "code",
   "execution_count": 920,
   "id": "a2b13252",
   "metadata": {},
   "outputs": [
    {
     "name": "stdout",
     "output_type": "stream",
     "text": [
      "Train count:\n",
      "Anger: 2\n",
      "Happy: 3\n",
      "Sad: 12\n",
      "Fear: 0\n",
      "Surprise: 6\n",
      "Neutral: 9\n",
      "\n"
     ]
    }
   ],
   "source": [
    "print(\"Train count:\\nAnger: {}\\nHappy: {}\\nSad: {}\\nFear: {}\\nSurprise: {}\\nNeutral: {}\\n\".format(train_labels.count(0),train_labels.count(1),train_labels.count(2),train_labels.count(3),train_labels.count(4),train_labels.count(5)))"
   ]
  },
  {
   "cell_type": "code",
   "execution_count": 921,
   "id": "1718f68a",
   "metadata": {
    "scrolled": true
   },
   "outputs": [
    {
     "name": "stdout",
     "output_type": "stream",
     "text": [
      "Test count:\n",
      "Anger: 8\n",
      "Happy: 9\n",
      "Sad: 10\n",
      "Fear: 0\n",
      "Surprise: 7\n",
      "Neutral: 6\n",
      "\n"
     ]
    }
   ],
   "source": [
    "print(\"Test count:\\nAnger: {}\\nHappy: {}\\nSad: {}\\nFear: {}\\nSurprise: {}\\nNeutral: {}\\n\".format(test_labels.count(0),test_labels.count(1),test_labels.count(2),test_labels.count(3),test_labels.count(4),test_labels.count(5)))"
   ]
  },
  {
   "cell_type": "code",
   "execution_count": 922,
   "id": "16f86e96",
   "metadata": {},
   "outputs": [],
   "source": [
    "dic_true_val = {}\n",
    "dic_true_val['ang'] = test_labels.count(0)\n",
    "dic_true_val['hap'] = test_labels.count(1)\n",
    "dic_true_val['sad'] = test_labels.count(2)\n",
    "dic_true_val['fea'] = test_labels.count(3)\n",
    "dic_true_val['sur'] = test_labels.count(4)\n",
    "dic_true_val['neu'] = test_labels.count(5)"
   ]
  },
  {
   "cell_type": "markdown",
   "id": "a5b2473c",
   "metadata": {},
   "source": [
    "## Unclipped audio"
   ]
  },
  {
   "cell_type": "code",
   "execution_count": 1047,
   "id": "71d50fb9",
   "metadata": {},
   "outputs": [],
   "source": [
    "unclipped_indices_train = []\n",
    "\n",
    "for i in range(900):\n",
    "    for j in range(40):\n",
    "        for k in range(313):\n",
    "            if(k == 312 and X_train_mel[i][j][k] != 0):\n",
    "                unclipped_indices_train.append(i)"
   ]
  },
  {
   "cell_type": "code",
   "execution_count": 1048,
   "id": "c322ab63",
   "metadata": {},
   "outputs": [
    {
     "data": {
      "text/plain": [
       "32"
      ]
     },
     "execution_count": 1048,
     "metadata": {},
     "output_type": "execute_result"
    }
   ],
   "source": [
    "x_unclipped_t =np.array(unclipped_indices_train)\n",
    "x_unclipped_t =np.unique(x_unclipped_t)\n",
    "\n",
    "len(x_unclipped_t)"
   ]
  },
  {
   "cell_type": "code",
   "execution_count": 1049,
   "id": "66842f18",
   "metadata": {},
   "outputs": [
    {
     "data": {
      "text/plain": [
       "860"
      ]
     },
     "execution_count": 1049,
     "metadata": {},
     "output_type": "execute_result"
    }
   ],
   "source": [
    "train_labels = []\n",
    "for i in range(len(y_onehot_train_mfcc.argmax(axis=1))):\n",
    "    if i in x_unclipped_t:\n",
    "        train_labels.append(y_onehot_train_mfcc.argmax(axis=1)[i])\n",
    "test_labels = []\n",
    "for i in range(len(y_onehot_test_mfcc.argmax(axis=1))):\n",
    "    if i in x_unclipped:\n",
    "        test_labels.append(y_onehot_test_mfcc.argmax(axis=1)[i])\n",
    "\n",
    "len(test_labels)\n"
   ]
  },
  {
   "cell_type": "code",
   "execution_count": 1050,
   "id": "7c42f85f",
   "metadata": {},
   "outputs": [
    {
     "name": "stdout",
     "output_type": "stream",
     "text": [
      "Train: \n",
      "Counter({2: 12, 5: 9, 4: 6, 1: 3, 0: 2}) \n",
      "\n",
      "Test: \n",
      "Counter({3: 158, 4: 158, 5: 144, 1: 144, 2: 134, 0: 122})\n"
     ]
    }
   ],
   "source": [
    "train = Counter(train_labels)\n",
    "test = Counter(test_labels)\n",
    "print(\"Train: \\n{} \\n\\nTest: \\n{}\".format(train, test))"
   ]
  },
  {
   "cell_type": "code",
   "execution_count": 1052,
   "id": "bb3e2c4a",
   "metadata": {},
   "outputs": [
    {
     "name": "stdout",
     "output_type": "stream",
     "text": [
      "Test count:\n",
      "Anger: 122\n",
      "Happy: 144\n",
      "Sad: 134\n",
      "Fear: 158\n",
      "Surprise: 158\n",
      "Neutral: 144\n",
      "\n"
     ]
    }
   ],
   "source": [
    "print(\"Test count:\\nAnger: {}\\nHappy: {}\\nSad: {}\\nFear: {}\\nSurprise: {}\\nNeutral: {}\\n\".format(test_labels.count(0),test_labels.count(1),test_labels.count(2),test_labels.count(3),test_labels.count(4),test_labels.count(5)))"
   ]
  },
  {
   "cell_type": "code",
   "execution_count": 1053,
   "id": "4b5b45c1",
   "metadata": {},
   "outputs": [],
   "source": [
    "dic_true_val_unclipped = {}\n",
    "dic_true_val_unclipped['ang'] = test_labels.count(0)\n",
    "dic_true_val_unclipped['hap'] = test_labels.count(1)\n",
    "dic_true_val_unclipped['sad'] = test_labels.count(2)\n",
    "dic_true_val_unclipped['fea'] = test_labels.count(3)\n",
    "dic_true_val_unclipped['sur'] = test_labels.count(4)\n",
    "dic_true_val_unclipped['neu'] = test_labels.count(5)"
   ]
  },
  {
   "cell_type": "markdown",
   "id": "a3a6c43a",
   "metadata": {},
   "source": [
    "### Converting to 1D Data\n",
    "\n",
    "We convert the 2D features to 1D data."
   ]
  },
  {
   "cell_type": "code",
   "execution_count": 662,
   "id": "8cb3b5d5",
   "metadata": {},
   "outputs": [],
   "source": [
    "f = open('IEMOCAP_Data/Data_10_sec/X_train_mfcc', 'rb')\n",
    "X_train_mel_2d_10= joblib.load(f)\n",
    "f.close()\n",
    "f = open('IEMOCAP_Data/Data_30_sec/X_train_mfcc', 'rb')\n",
    "X_train_mel_2d_30 = joblib.load(f)\n",
    "f.close()"
   ]
  },
  {
   "cell_type": "code",
   "execution_count": 672,
   "id": "a0873e24",
   "metadata": {},
   "outputs": [],
   "source": [
    "mean_30 = np.mean(X_train_mel_2d_30[0]) "
   ]
  },
  {
   "cell_type": "code",
   "execution_count": 673,
   "id": "d67feb9a",
   "metadata": {},
   "outputs": [],
   "source": [
    "mean_10 = np.mean(X_train_mel_2d_10[0])"
   ]
  },
  {
   "cell_type": "code",
   "execution_count": 674,
   "id": "82bcf388",
   "metadata": {},
   "outputs": [
    {
     "name": "stdout",
     "output_type": "stream",
     "text": [
      "10.435373\n",
      "11.396431\n"
     ]
    }
   ],
   "source": [
    "print(mean_30)\n",
    "print(mean_10)"
   ]
  },
  {
   "cell_type": "code",
   "execution_count": 297,
   "id": "c481de2b",
   "metadata": {},
   "outputs": [],
   "source": [
    "X_train_mel_1d = []\n",
    "X_test_mel_1d = []\n",
    "X_train_mfcc_1d = []\n",
    "X_test_mfcc_1d = []"
   ]
  },
  {
   "cell_type": "code",
   "execution_count": 298,
   "id": "6dd24a82",
   "metadata": {},
   "outputs": [],
   "source": [
    "for i in range(len(X_train_mel)):\n",
    "    X_train_mel_1d.append(feature_to_1d(X_train_mel[i]))\n",
    "for i in range(len(X_test_mel)):\n",
    "    X_test_mel_1d.append(feature_to_1d(X_test_mel[i]))\n",
    "for i in range(len(X_train_mfcc)):\n",
    "    X_train_mfcc_1d.append(feature_to_1d(X_train_mfcc[i]))\n",
    "for i in range(len(X_test_mfcc)):\n",
    "    X_test_mfcc_1d.append(feature_to_1d(X_test_mfcc[i]))"
   ]
  },
  {
   "cell_type": "code",
   "execution_count": 299,
   "id": "089a8ffe",
   "metadata": {},
   "outputs": [],
   "source": [
    "X_train_mel = np.array(X_train_mel_1d)\n",
    "X_test_mel = np.array(X_test_mel_1d)\n",
    "X_train_mfcc = np.array(X_train_mfcc_1d)\n",
    "X_test_mfcc = np.array(X_test_mfcc_1d)"
   ]
  },
  {
   "cell_type": "code",
   "execution_count": 300,
   "id": "02d472d1",
   "metadata": {},
   "outputs": [
    {
     "data": {
      "text/plain": [
       "(2100, 128)"
      ]
     },
     "execution_count": 300,
     "metadata": {},
     "output_type": "execute_result"
    }
   ],
   "source": [
    "X_train_mel.shape"
   ]
  },
  {
   "cell_type": "code",
   "execution_count": 301,
   "id": "8eb337f4",
   "metadata": {},
   "outputs": [
    {
     "data": {
      "text/plain": [
       "(2100, 40)"
      ]
     },
     "execution_count": 301,
     "metadata": {},
     "output_type": "execute_result"
    }
   ],
   "source": [
    "X_train_mfcc.shape"
   ]
  },
  {
   "cell_type": "markdown",
   "id": "f3009edc",
   "metadata": {},
   "source": [
    "Split data into train and test set per feature."
   ]
  },
  {
   "cell_type": "markdown",
   "id": "079bba8e",
   "metadata": {},
   "source": [
    "### Transform the y data \n",
    "\n",
    "We transform the y data containing the labels into onehot-encoded form so that the models can classify the categorical accuracy and loss."
   ]
  },
  {
   "cell_type": "code",
   "execution_count": 44,
   "id": "03d15986",
   "metadata": {},
   "outputs": [],
   "source": [
    "y_onehot_train_mel = y_train_mel\n",
    "y_onehot_test_mel = y_test_mel\n",
    "\n",
    "y_onehot_train_mfcc = y_train_mfcc\n",
    "y_onehot_test_mfcc = y_test_mfcc"
   ]
  },
  {
   "cell_type": "code",
   "execution_count": 45,
   "id": "f18c5fe5",
   "metadata": {},
   "outputs": [],
   "source": [
    "y_onehot_train_mel = pd.get_dummies(y_onehot_train_mel)\n",
    "y_onehot_test_mel = pd.get_dummies(y_onehot_test_mel)\n",
    "\n",
    "y_onehot_train_mfcc = pd.get_dummies(y_onehot_train_mfcc)\n",
    "y_onehot_test_mfcc = pd.get_dummies(y_onehot_test_mfcc)"
   ]
  },
  {
   "cell_type": "code",
   "execution_count": 46,
   "id": "9e16d242",
   "metadata": {},
   "outputs": [],
   "source": [
    "y_onehot_train_mel = np.asarray(y_onehot_train_mel).astype('int8')\n",
    "y_onehot_test_mel  = np.asarray(y_onehot_test_mel).astype('int8')\n",
    "\n",
    "y_onehot_train_mfcc = np.asarray(y_onehot_train_mfcc).astype('int8')\n",
    "y_onehot_test_mfcc  = np.asarray(y_onehot_test_mfcc).astype('int8')"
   ]
  },
  {
   "cell_type": "markdown",
   "id": "d8e5ac2c",
   "metadata": {},
   "source": [
    "Import libraries needed for defining the models."
   ]
  },
  {
   "cell_type": "code",
   "execution_count": 396,
   "id": "9193a1f0",
   "metadata": {},
   "outputs": [],
   "source": [
    "import segmentation_models as sm\n",
    "import numpy as np\n",
    "import matplotlib.pyplot as plt\n",
    "import tensorflow as tf\n",
    "from tensorflow.keras.preprocessing import sequence\n",
    "from tensorflow.keras.models import Sequential\n",
    "from tensorflow.keras.layers import Dense, Embedding, LeakyReLU\n",
    "from tensorflow.keras.utils import to_categorical\n",
    "from tensorflow.keras.layers import Input, Flatten, Dropout, Activation\n",
    "from tensorflow.keras.layers import Conv1D, MaxPooling1D, Lambda, GlobalMaxPooling1D, Concatenate, BatchNormalization, LSTM, Reshape, Conv2D, MaxPooling2D\n",
    "from tensorflow.keras.models import Model\n",
    "from tensorflow.keras.callbacks import ModelCheckpoint\n",
    "from keras_self_attention import SeqSelfAttention\n",
    "from tensorflow.keras.regularizers import l2"
   ]
  },
  {
   "cell_type": "code",
   "execution_count": 48,
   "id": "4c31f3f2",
   "metadata": {},
   "outputs": [
    {
     "data": {
      "text/plain": [
       "(2100, 40)"
      ]
     },
     "execution_count": 48,
     "metadata": {},
     "output_type": "execute_result"
    }
   ],
   "source": [
    "X_train_mfcc.shape"
   ]
  },
  {
   "cell_type": "code",
   "execution_count": 623,
   "id": "676fa1f5",
   "metadata": {
    "scrolled": true
   },
   "outputs": [
    {
     "data": {
      "text/plain": [
       "array([1.09590675e+06, 1.51087738e+06, 2.91274950e+06, 1.97672020e+07,\n",
       "       1.43971120e+08, 1.14526480e+08, 2.19677060e+07, 7.09604640e+07,\n",
       "       1.96999568e+08, 5.88081088e+08, 5.09481312e+08, 9.96183744e+08,\n",
       "       2.28888224e+08, 3.48847600e+07, 1.44513888e+08, 2.44494144e+08,\n",
       "       1.63201424e+08, 1.16570752e+09, 9.65148032e+08, 1.92716480e+08,\n",
       "       1.23404640e+08, 7.49460240e+07, 1.75392624e+08, 3.03373792e+08,\n",
       "       1.99665008e+08, 2.10018656e+08, 4.06420224e+08, 8.88740160e+08,\n",
       "       7.45806899e+09, 2.76280934e+09, 2.97069056e+08, 1.61298416e+08,\n",
       "       1.54877840e+08, 7.71990784e+08, 2.38734080e+09, 3.05790080e+08,\n",
       "       3.42876480e+07, 2.53264960e+07, 1.82338960e+07, 1.12078208e+08,\n",
       "       2.84509248e+08, 5.22837320e+07, 5.03912720e+07, 3.96290440e+07,\n",
       "       1.16155544e+08, 2.12306464e+08, 2.03539504e+08, 2.53003536e+08,\n",
       "       1.61513360e+08, 2.08928560e+08, 7.20520832e+08, 1.16199475e+09,\n",
       "       5.04297696e+08, 8.71042560e+07, 2.69099232e+08, 8.02708032e+08,\n",
       "       1.75156448e+08, 3.40935400e+07, 4.70986720e+07, 1.55624864e+08,\n",
       "       3.18811240e+07, 3.67881160e+07, 1.05518360e+08, 2.19602864e+08,\n",
       "       6.85090000e+07, 2.82415280e+07, 2.21697940e+07, 1.50929000e+07,\n",
       "       1.08030040e+07, 1.63526570e+07, 9.31834200e+06, 6.32219050e+06,\n",
       "       5.11723900e+06, 7.38009400e+06, 8.32970200e+06, 9.46600800e+06,\n",
       "       7.80493150e+06, 6.55511150e+06, 8.67603200e+06, 2.30549540e+07,\n",
       "       3.51378080e+07, 7.73641520e+07, 6.04779440e+07, 1.19764400e+08,\n",
       "       3.41331160e+07, 2.12343780e+07, 1.17823900e+07, 3.89328600e+06,\n",
       "       3.58940675e+06, 6.29081100e+06, 3.65885825e+06, 7.16854400e+06,\n",
       "       3.67109100e+06, 4.89201000e+06, 1.45138960e+07, 3.93901800e+07,\n",
       "       1.40564768e+08, 5.71297960e+07, 2.54197140e+07, 5.05595850e+06,\n",
       "       4.61174750e+06, 3.71546000e+06, 2.38726000e+06, 1.37038350e+06,\n",
       "       6.64171938e+05, 5.52305125e+05, 3.97908688e+05, 2.93196562e+05,\n",
       "       1.26032100e+06, 2.20664525e+06, 2.32764975e+06, 1.20375050e+06,\n",
       "       7.56695250e+05, 7.35924188e+05, 1.04231025e+06, 7.95005625e+05,\n",
       "       4.11065031e+05, 6.56108000e+05, 7.62233125e+05, 3.73102938e+05,\n",
       "       1.35849859e+05, 3.38056367e+04, 1.13227568e+04, 2.90559375e+03,\n",
       "       4.01824829e+02, 2.74449749e+01, 4.45821142e+00, 3.86958647e+00])"
      ]
     },
     "execution_count": 623,
     "metadata": {},
     "output_type": "execute_result"
    }
   ],
   "source": [
    "X_train_mel[1]"
   ]
  },
  {
   "cell_type": "markdown",
   "id": "57a24517",
   "metadata": {},
   "source": [
    "Expand the dimensions for the training and testing data so that it can be used for the neural networks."
   ]
  },
  {
   "cell_type": "code",
   "execution_count": 302,
   "id": "375b07df",
   "metadata": {},
   "outputs": [],
   "source": [
    "X_traincnn_mfcc = np.expand_dims(X_train_mfcc, axis = 2)\n",
    "X_testcnn_mfcc = np.expand_dims(X_test_mfcc, axis = 2)\n",
    "X_traincnn_mel = np.expand_dims(X_train_mel, axis = 2)\n",
    "X_testcnn_mel = np.expand_dims(X_test_mel, axis = 2)"
   ]
  },
  {
   "cell_type": "markdown",
   "id": "4b6844e4",
   "metadata": {},
   "source": [
    "#### We define some functions for training and testing"
   ]
  },
  {
   "cell_type": "code",
   "execution_count": 50,
   "id": "fb90aca2",
   "metadata": {},
   "outputs": [],
   "source": [
    "import tensorflow as tf\n",
    "import tensorflow.keras.backend as K\n",
    "\n",
    "def f1_loss(y_true, y_pred):\n",
    "\n",
    "    tp = K.sum(K.cast(y_true*y_pred, 'float'), axis=0)\n",
    "    tn = K.sum(K.cast((1-y_true)*(1-y_pred), 'float'), axis=0)\n",
    "    fp = K.sum(K.cast((1-y_true)*y_pred, 'float'), axis=0)\n",
    "    fn = K.sum(K.cast(y_true*(1-y_pred), 'float'), axis=0)\n",
    "\n",
    "    p = tp / (tp + fp + K.epsilon())\n",
    "    r = tp / (tp + fn + K.epsilon())\n",
    "\n",
    "    f1 = 2*p*r / (p+r+K.epsilon())\n",
    "    f1 = tf.where(tf.math.is_nan(f1), tf.zeros_like(f1), f1)\n",
    "    return 1 - K.mean(f1)"
   ]
  },
  {
   "cell_type": "code",
   "execution_count": 793,
   "id": "954aa2d2",
   "metadata": {},
   "outputs": [],
   "source": [
    "def print_index(y_true, y_pred):\n",
    "    #['ang', 'hap', 'sad', 'fea', 'sur', 'neu']\n",
    "    correct_instances_index = [] #indices of correct predictions\n",
    "    for i in range(len(y_pred)):\n",
    "        if(y_true[i] == y_pred[i]):\n",
    "            correct_instances_index.append(i)\n",
    "            \n",
    "    return correct_instances_index\n",
    "def print_labels(y_true, y_pred):\n",
    "    #['ang', 'hap', 'sad', 'fea', 'sur', 'neu']\n",
    "    correct_instances_label = [] #labels of correct predictions\n",
    "    for i in range(len(y_pred)):\n",
    "        if(y_true[i] == y_pred[i]):\n",
    "            correct_instances_label.append(y_pred[i])\n",
    "            \n",
    "    return correct_instances_label"
   ]
  },
  {
   "cell_type": "code",
   "execution_count": 888,
   "id": "249ced3f",
   "metadata": {},
   "outputs": [],
   "source": [
    "def count_label(x):\n",
    "    ang = 0\n",
    "    hap = 0\n",
    "    sad = 0\n",
    "    fea = 0\n",
    "    sur = 0\n",
    "    neu = 0\n",
    "    \n",
    "    dic = {}\n",
    "    #my_dict['name']='Nick'\n",
    "    for i in range(len(x)):\n",
    "        if(x[i]==0):\n",
    "            ang += 1\n",
    "        elif(x[i]==1):\n",
    "            hap += 1\n",
    "        elif(x[i]==2):\n",
    "            sad += 1\n",
    "        elif(x[i]==3):\n",
    "            fea += 1\n",
    "        elif(x[i]==4):\n",
    "            sur += 1\n",
    "        elif(x[i]==5):\n",
    "            neu += 1\n",
    "    dic['ang'] = ang\n",
    "    dic['hap'] = hap\n",
    "    dic['sad'] = sad\n",
    "    dic['fea'] = fea\n",
    "    dic['sur'] = sur\n",
    "    dic['neu'] = neu\n",
    "    \n",
    "    return dic"
   ]
  },
  {
   "cell_type": "code",
   "execution_count": 51,
   "id": "779c1ea2",
   "metadata": {},
   "outputs": [],
   "source": [
    "checkpoint_path = 'IEMOCAP_Data/Weights/best_weights.hdf5'\n",
    "\n",
    "#-> Save the best weights\n",
    "mcp_save = callbacks.ModelCheckpoint(checkpoint_path, save_best_only=True,\n",
    "                           monitor='val_categorical_accuracy',\n",
    "                           mode='max')\n",
    "#-> Reduce learning rate after 100 epoches without improvement.\n",
    "rlrop = callbacks.ReduceLROnPlateau(monitor='val_categorical_accuracy', \n",
    "                                    factor=0.1, patience=100)"
   ]
  },
  {
   "cell_type": "code",
   "execution_count": 882,
   "id": "74d24845",
   "metadata": {},
   "outputs": [],
   "source": [
    "emotion_dict = {'ang': 0,\n",
    "                'hap': 1,\n",
    "                'sad': 2,\n",
    "                'fea': 3,\n",
    "                'sur': 4,\n",
    "                'neu': 5}\n",
    "\n",
    "emo_keys = list(['ang', 'hap', 'sad', 'fea', 'sur', 'neu'])\n",
    "def plot_confusion_matrix(cm, classes,\n",
    "                          normalize=False,\n",
    "                          title='Confusion matrix',\n",
    "                          cmap=plt.cm.Blues):\n",
    "    \"\"\"\n",
    "    This function prints and plots the confusion matrix.\n",
    "    Normalization can be applied by setting `normalize=True`.\n",
    "    \"\"\"\n",
    "    # plt.figure(figsize=(8,8))\n",
    "    plt.imshow(cm, interpolation='nearest', cmap=cmap)\n",
    "    plt.title(title)\n",
    "    plt.colorbar()\n",
    "    tick_marks = np.arange(len(classes))\n",
    "    plt.xticks(tick_marks, classes, rotation=45)\n",
    "    plt.yticks(tick_marks, classes)\n",
    "\n",
    "    if normalize:\n",
    "        cm = cm.astype('float') / cm.sum(axis=1)[:, np.newaxis]\n",
    "        print(\"Normalized confusion matrix\")\n",
    "    else:\n",
    "        print('Confusion matrix, without normalization')\n",
    "\n",
    "    print(cm)\n",
    "\n",
    "    thresh = cm.max() / 2.\n",
    "    for i, j in itertools.product(range(cm.shape[0]), range(cm.shape[1])):\n",
    "        plt.text(j, i, cm[i, j],\n",
    "                 horizontalalignment=\"center\",\n",
    "                 color=\"white\" if cm[i, j] > thresh else \"black\")\n",
    "\n",
    "    plt.tight_layout()\n",
    "    plt.ylabel('True label')\n",
    "    plt.xlabel('Predicted label')\n",
    "    \n",
    "def one_hot_encoder(true_labels, num_records, num_classes):\n",
    "    temp = np.array(true_labels[:num_records])\n",
    "    true_labels = np.zeros((num_records, num_classes))\n",
    "    print(num_classes)\n",
    "    true_labels[np.arange(num_records), temp] = 1\n",
    "    return true_labels\n",
    "\n",
    "def display_results(y_test, pred_probs, cm=True):\n",
    "    pred = np.argmax(pred_probs, axis=-1)\n",
    "    one_hot_true = one_hot_encoder(y_test, len(pred), len(emotion_dict))\n",
    "    print('Test Set Accuracy =  {0:.3f}'.format(accuracy_score(y_test, pred)))\n",
    "    print('Test Set F-score =  {0:.3f}'.format(fbeta_score(y_test, pred, beta= 1.0,average='macro')))\n",
    "    print('Test Set Precision =  {0:.3f}'.format(precision_score(y_test, pred, average='macro')))\n",
    "    print('Test Set Recall =  {0:.3f}'.format(recall_score(y_test, pred, average='macro')))\n",
    "    if cm:\n",
    "        plot_confusion_matrix(confusion_matrix(y_test, pred), classes=emo_keys)"
   ]
  },
  {
   "cell_type": "markdown",
   "id": "2cdfc6ac",
   "metadata": {},
   "source": [
    "### TDNN\n",
    "\n",
    "We define the Time Delay Neural Netowrk Model. The model is based on a TDNN model used for flood prediction presented on ESoWC 2019 (MATHIW - Machine Learning Techniques for High Impact Weather) by Kugler & Lehner (https://github.com/MATEHIW-project)."
   ]
  },
  {
   "cell_type": "code",
   "execution_count": 713,
   "id": "69fb60da",
   "metadata": {},
   "outputs": [],
   "source": [
    "from sklearn.pipeline import Pipeline\n",
    "from sklearn.preprocessing import StandardScaler\n",
    "from tensorflow.keras.layers import Dropout\n",
    "from tensorflow.keras.constraints import MinMaxNorm, NonNeg\n",
    "\n",
    "\n",
    "def add_time(vector, time, name=None):\n",
    "    \"\"\"Converts numpy arrays to xarrays with a time coordinate.\n",
    "\n",
    "    Parameters\n",
    "    ----------\n",
    "    vector : np.array\n",
    "        1-dimensional array of predictions\n",
    "    time : xr.DataArray\n",
    "        the return value of `Xda.time`\n",
    "\n",
    "    Returns\n",
    "    -------\n",
    "    xr.DataArray\n",
    "    \"\"\"\n",
    "    return xr.DataArray(vector, dims=('time'), coords={'time': time}, name=name)\n",
    "\n",
    "\n",
    "class DenseNN(object):\n",
    "    def __init__(self, **kwargs):\n",
    "        self.xscaler = StandardScaler()\n",
    "        self.yscaler = StandardScaler()\n",
    "        \n",
    "        \n",
    "        model = Sequential()\n",
    "        self.cfg = kwargs\n",
    "        \n",
    "        hidden_nodes = self.cfg.get('hidden_nodes')\n",
    "        input_shape = self.cfg.get('input_shape')\n",
    "        self.epoch = self.cfg.get('epochs')\n",
    "        self.batch_size = self.cfg.get('batch_size')\n",
    "        \n",
    "        \n",
    "\n",
    "        model.add(layers.Input(shape=(input_shape, 1)))\n",
    "        model.add(Dense(hidden_nodes[0], \n",
    "                                activation='relu'))\n",
    "        model.add(BatchNormalization())\n",
    "        model.add(Dropout(self.cfg.get('dropout', None)))\n",
    "        \n",
    "        for n in hidden_nodes[1:]:\n",
    "            model.add(Dense(n, activation='relu')) \n",
    "            model.add(BatchNormalization())\n",
    "            model.add(Dropout(self.cfg.get('dropout', None)))\n",
    "        model.add(Flatten())\n",
    "        model.add(Dense(6, activation='softmax'))\n",
    "        opt = tf.keras.optimizers.Adam(lr=0.0005) \n",
    "        \n",
    "        #opt2 = tf.keras.optimizers.SGD(lr=0.0005)\n",
    "        model.compile(loss='categorical_crossentropy',\n",
    "              optimizer= opt,\n",
    "              metrics=['categorical_accuracy', f1_loss])\n",
    "        self.model = model\n",
    "\n",
    "        self.callbacks = [tf.keras.callbacks.EarlyStopping(monitor='val_loss',\n",
    "                            min_delta=1e-2, patience=100, verbose=0, mode='auto',\n",
    "                            baseline=None, restore_best_weights=True),]\n",
    "    \n",
    "    def score_func(self, X, y):\n",
    "        \"\"\"Calculate the RMS error\n",
    "        \n",
    "        Parameters\n",
    "        ----------\n",
    "        xr.DataArrays\n",
    "        \"\"\"\n",
    "        ypred = self.predict(X)\n",
    "        err_pred = ypred - y\n",
    "        \n",
    "        # NaNs do not contribute to error\n",
    "        err_pred = err_pred.where(~np.isnan(err_pred), 0.)  \n",
    "        return float(np.sqrt(xr.dot(err_pred, err_pred)))\n",
    "        \n",
    "    def predict(self, Xda, name=None):\n",
    "        \"\"\"Input and Output: xr.DataArray\n",
    "        \n",
    "        Parameters\n",
    "        ----------\n",
    "        Xda : xr.DataArray\n",
    "            with coordinates (time,)\n",
    "        \"\"\"\n",
    "        #X = self.xscaler.transform(Xda.values)\n",
    "        #y = self.model.predict(X).squeeze()\n",
    "        #y = self.yscaler.inverse_transform(y)\n",
    "        \n",
    "        #y = add_time(y, Xda.time, name=name)\n",
    "        return self.model.predict(Xda)\n",
    "\n",
    "    def evaluate(self, X, y):\n",
    "        return self.model.evaluate(X, y)\n",
    "    \n",
    "    def fit(self, X_train, y_train, X_valid, y_valid, **kwargs):\n",
    "        \"\"\"\n",
    "        Input: xr.DataArray\n",
    "        Output: None\n",
    "        \"\"\"\n",
    "        \n",
    "        #print(X_train.shape)\n",
    "        #X_train = self.xscaler.fit_transform(X_train)\n",
    "        #y_train = self.yscaler.fit_transform(\n",
    "                        #y_train.reshape(-1, 6))\n",
    "        \n",
    "        #X_valid = self.xscaler.transform(X_valid)\n",
    "        #y_valid = self.yscaler.transform(y_valid.reshape(-1, 6))\n",
    "        \n",
    "        return self.model.fit(X_train, y_train,\n",
    "                              validation_data=(X_valid, y_valid), \n",
    "                              epochs=self.epoch,\n",
    "                              batch_size=self.batch_size, **kwargs)\n",
    "    def predict_classes(X):\n",
    "        return model.predict_classes(X)\n",
    "    \n",
    "    def summary(self):\n",
    "        return self.model.summary()"
   ]
  },
  {
   "cell_type": "markdown",
   "id": "a4093c52",
   "metadata": {},
   "source": [
    "#### MFCC\n",
    "\n",
    "We use MFCC as input features."
   ]
  },
  {
   "cell_type": "code",
   "execution_count": 763,
   "id": "cb97aa3e",
   "metadata": {},
   "outputs": [
    {
     "name": "stdout",
     "output_type": "stream",
     "text": [
      "(2100, 40)\n",
      "(900, 40)\n",
      "(2100, 6)\n",
      "(900, 6)\n"
     ]
    }
   ],
   "source": [
    "print(X_train_mfcc_np.shape)\n",
    "print(X_test_mfcc_np.shape)\n",
    "print(y_onehot_train_mfcc.shape)\n",
    "print(y_onehot_test_mfcc.shape)"
   ]
  },
  {
   "cell_type": "code",
   "execution_count": 764,
   "id": "49b1d1b7",
   "metadata": {},
   "outputs": [],
   "source": [
    "X_train_mfcc_np = np.array(X_train_mfcc)\n",
    "X_test_mfcc_np = np.array(X_test_mfcc)\n",
    "y_train_mfcc_np = np.array(y_train_mfcc)\n",
    "y_test_mfcc_np = np.array(y_test_mfcc)"
   ]
  },
  {
   "cell_type": "code",
   "execution_count": 765,
   "id": "f93a4168",
   "metadata": {},
   "outputs": [
    {
     "data": {
      "text/plain": [
       "(900, 40)"
      ]
     },
     "execution_count": 765,
     "metadata": {},
     "output_type": "execute_result"
    }
   ],
   "source": [
    "X_test_mfcc_np.shape"
   ]
  },
  {
   "cell_type": "code",
   "execution_count": 771,
   "id": "7bc2e415",
   "metadata": {},
   "outputs": [
    {
     "name": "stdout",
     "output_type": "stream",
     "text": [
      "Epoch 1/35\n",
      "42/42 [==============================] - 1s 16ms/step - loss: 2.3144 - categorical_accuracy: 0.1906 - f1_loss: 0.8281 - val_loss: 1.8218 - val_categorical_accuracy: 0.1789 - val_f1_loss: 0.8268\n",
      "Epoch 2/35\n",
      "42/42 [==============================] - 0s 10ms/step - loss: 1.8743 - categorical_accuracy: 0.2831 - f1_loss: 0.7657 - val_loss: 1.6515 - val_categorical_accuracy: 0.3078 - val_f1_loss: 0.8008\n",
      "Epoch 3/35\n",
      "42/42 [==============================] - 0s 11ms/step - loss: 1.6397 - categorical_accuracy: 0.3695 - f1_loss: 0.7224 - val_loss: 1.6103 - val_categorical_accuracy: 0.3300 - val_f1_loss: 0.7845\n",
      "Epoch 4/35\n",
      "42/42 [==============================] - 0s 11ms/step - loss: 1.5251 - categorical_accuracy: 0.3887 - f1_loss: 0.6980 - val_loss: 1.4913 - val_categorical_accuracy: 0.4144 - val_f1_loss: 0.7572\n",
      "Epoch 5/35\n",
      "42/42 [==============================] - 0s 10ms/step - loss: 1.3953 - categorical_accuracy: 0.4595 - f1_loss: 0.6553 - val_loss: 1.4785 - val_categorical_accuracy: 0.3933 - val_f1_loss: 0.7449\n",
      "Epoch 6/35\n",
      "42/42 [==============================] - 0s 11ms/step - loss: 1.3364 - categorical_accuracy: 0.4706 - f1_loss: 0.6370 - val_loss: 1.4012 - val_categorical_accuracy: 0.4178 - val_f1_loss: 0.7208\n",
      "Epoch 7/35\n",
      "42/42 [==============================] - 1s 23ms/step - loss: 1.2927 - categorical_accuracy: 0.5077 - f1_loss: 0.6183 - val_loss: 1.3123 - val_categorical_accuracy: 0.4889 - val_f1_loss: 0.6945\n",
      "Epoch 8/35\n",
      "42/42 [==============================] - 0s 11ms/step - loss: 1.2508 - categorical_accuracy: 0.5142 - f1_loss: 0.6069 - val_loss: 1.2780 - val_categorical_accuracy: 0.5300 - val_f1_loss: 0.6778\n",
      "Epoch 9/35\n",
      "42/42 [==============================] - 0s 11ms/step - loss: 1.2263 - categorical_accuracy: 0.5048 - f1_loss: 0.6008 - val_loss: 1.1947 - val_categorical_accuracy: 0.5467 - val_f1_loss: 0.6490\n",
      "Epoch 10/35\n",
      "42/42 [==============================] - 0s 10ms/step - loss: 1.2202 - categorical_accuracy: 0.5138 - f1_loss: 0.5936 - val_loss: 1.1734 - val_categorical_accuracy: 0.5644 - val_f1_loss: 0.6344\n",
      "Epoch 11/35\n",
      "42/42 [==============================] - 0s 11ms/step - loss: 1.1932 - categorical_accuracy: 0.5322 - f1_loss: 0.5824 - val_loss: 1.1685 - val_categorical_accuracy: 0.5422 - val_f1_loss: 0.6275\n",
      "Epoch 12/35\n",
      "42/42 [==============================] - 0s 11ms/step - loss: 1.1530 - categorical_accuracy: 0.5668 - f1_loss: 0.5663 - val_loss: 1.1393 - val_categorical_accuracy: 0.5544 - val_f1_loss: 0.6090\n",
      "Epoch 13/35\n",
      "42/42 [==============================] - 0s 11ms/step - loss: 1.1533 - categorical_accuracy: 0.5610 - f1_loss: 0.5693 - val_loss: 1.1174 - val_categorical_accuracy: 0.5511 - val_f1_loss: 0.5978\n",
      "Epoch 14/35\n",
      "42/42 [==============================] - 0s 10ms/step - loss: 1.1183 - categorical_accuracy: 0.5805 - f1_loss: 0.5612 - val_loss: 1.0740 - val_categorical_accuracy: 0.5844 - val_f1_loss: 0.5780\n",
      "Epoch 15/35\n",
      "42/42 [==============================] - 0s 11ms/step - loss: 1.0925 - categorical_accuracy: 0.5774 - f1_loss: 0.5487 - val_loss: 1.0560 - val_categorical_accuracy: 0.5911 - val_f1_loss: 0.5751\n",
      "Epoch 16/35\n",
      "42/42 [==============================] - 0s 11ms/step - loss: 1.0987 - categorical_accuracy: 0.5657 - f1_loss: 0.5491 - val_loss: 1.0479 - val_categorical_accuracy: 0.5933 - val_f1_loss: 0.5626\n",
      "Epoch 17/35\n",
      "42/42 [==============================] - 0s 11ms/step - loss: 1.0729 - categorical_accuracy: 0.5706 - f1_loss: 0.5493 - val_loss: 1.0510 - val_categorical_accuracy: 0.5956 - val_f1_loss: 0.5653\n",
      "Epoch 18/35\n",
      "42/42 [==============================] - 0s 10ms/step - loss: 1.0867 - categorical_accuracy: 0.5704 - f1_loss: 0.5479 - val_loss: 1.0256 - val_categorical_accuracy: 0.6011 - val_f1_loss: 0.5520\n",
      "Epoch 19/35\n",
      "42/42 [==============================] - 0s 11ms/step - loss: 1.0874 - categorical_accuracy: 0.5706 - f1_loss: 0.5485 - val_loss: 1.0287 - val_categorical_accuracy: 0.5933 - val_f1_loss: 0.5484\n",
      "Epoch 20/35\n",
      "42/42 [==============================] - 0s 11ms/step - loss: 1.0703 - categorical_accuracy: 0.5911 - f1_loss: 0.5419 - val_loss: 1.0182 - val_categorical_accuracy: 0.6056 - val_f1_loss: 0.5441\n",
      "Epoch 21/35\n",
      "42/42 [==============================] - 0s 11ms/step - loss: 1.0462 - categorical_accuracy: 0.6044 - f1_loss: 0.5318 - val_loss: 1.0248 - val_categorical_accuracy: 0.6011 - val_f1_loss: 0.5401\n",
      "Epoch 22/35\n",
      "42/42 [==============================] - 0s 11ms/step - loss: 1.0468 - categorical_accuracy: 0.5923 - f1_loss: 0.5314 - val_loss: 1.0061 - val_categorical_accuracy: 0.6022 - val_f1_loss: 0.5374\n",
      "Epoch 23/35\n",
      "42/42 [==============================] - 0s 11ms/step - loss: 1.0365 - categorical_accuracy: 0.5838 - f1_loss: 0.5386 - val_loss: 0.9992 - val_categorical_accuracy: 0.6156 - val_f1_loss: 0.5325\n",
      "Epoch 24/35\n",
      "42/42 [==============================] - 0s 10ms/step - loss: 1.0120 - categorical_accuracy: 0.6072 - f1_loss: 0.5266 - val_loss: 1.0169 - val_categorical_accuracy: 0.6056 - val_f1_loss: 0.5423\n",
      "Epoch 25/35\n",
      "42/42 [==============================] - 0s 10ms/step - loss: 1.0540 - categorical_accuracy: 0.5908 - f1_loss: 0.5353 - val_loss: 1.0124 - val_categorical_accuracy: 0.6122 - val_f1_loss: 0.5289\n",
      "Epoch 26/35\n",
      "42/42 [==============================] - 0s 10ms/step - loss: 1.0497 - categorical_accuracy: 0.5933 - f1_loss: 0.5229 - val_loss: 0.9931 - val_categorical_accuracy: 0.6122 - val_f1_loss: 0.5292\n",
      "Epoch 27/35\n",
      "42/42 [==============================] - 0s 11ms/step - loss: 0.9709 - categorical_accuracy: 0.6285 - f1_loss: 0.5147 - val_loss: 0.9975 - val_categorical_accuracy: 0.6144 - val_f1_loss: 0.5300\n",
      "Epoch 28/35\n",
      "42/42 [==============================] - 0s 11ms/step - loss: 0.9984 - categorical_accuracy: 0.6063 - f1_loss: 0.5179 - val_loss: 0.9951 - val_categorical_accuracy: 0.6078 - val_f1_loss: 0.5332\n",
      "Epoch 29/35\n",
      "42/42 [==============================] - 0s 11ms/step - loss: 1.0171 - categorical_accuracy: 0.6030 - f1_loss: 0.5244 - val_loss: 0.9918 - val_categorical_accuracy: 0.6244 - val_f1_loss: 0.5255\n",
      "Epoch 30/35\n",
      "42/42 [==============================] - 0s 10ms/step - loss: 0.9599 - categorical_accuracy: 0.6227 - f1_loss: 0.5109 - val_loss: 1.0133 - val_categorical_accuracy: 0.5989 - val_f1_loss: 0.5279\n",
      "Epoch 31/35\n",
      "42/42 [==============================] - 0s 11ms/step - loss: 1.0157 - categorical_accuracy: 0.5938 - f1_loss: 0.5217 - val_loss: 0.9934 - val_categorical_accuracy: 0.6178 - val_f1_loss: 0.5252\n",
      "Epoch 32/35\n",
      "42/42 [==============================] - 0s 10ms/step - loss: 0.9884 - categorical_accuracy: 0.6053 - f1_loss: 0.5120 - val_loss: 0.9909 - val_categorical_accuracy: 0.6289 - val_f1_loss: 0.5253\n",
      "Epoch 33/35\n",
      "42/42 [==============================] - 1s 19ms/step - loss: 0.9968 - categorical_accuracy: 0.5954 - f1_loss: 0.5202 - val_loss: 1.0018 - val_categorical_accuracy: 0.6089 - val_f1_loss: 0.5257\n",
      "Epoch 34/35\n",
      "42/42 [==============================] - 0s 11ms/step - loss: 1.0030 - categorical_accuracy: 0.6049 - f1_loss: 0.5188 - val_loss: 0.9925 - val_categorical_accuracy: 0.6089 - val_f1_loss: 0.5214\n",
      "Epoch 35/35\n",
      "42/42 [==============================] - 0s 11ms/step - loss: 1.0142 - categorical_accuracy: 0.5961 - f1_loss: 0.5236 - val_loss: 0.9845 - val_categorical_accuracy: 0.6144 - val_f1_loss: 0.5137\n"
     ]
    }
   ],
   "source": [
    "config = dict(hidden_nodes=(64, 32),  \n",
    "                input_shape=40,\n",
    "                dropout=0.25,\n",
    "                epochs=35,\n",
    "                batch_size=50)\n",
    "\n",
    "m_2 = DenseNN(**config)\n",
    "\n",
    "hist_2 = m_2.fit(X_traincnn_mfcc, y_onehot_train_mfcc, X_testcnn_mfcc, y_onehot_test_mfcc)"
   ]
  },
  {
   "cell_type": "code",
   "execution_count": 772,
   "id": "f5c0e723",
   "metadata": {},
   "outputs": [
    {
     "name": "stdout",
     "output_type": "stream",
     "text": [
      "Model: \"sequential_110\"\n",
      "_________________________________________________________________\n",
      "Layer (type)                 Output Shape              Param #   \n",
      "=================================================================\n",
      "dense_216 (Dense)            (None, 40, 64)            128       \n",
      "_________________________________________________________________\n",
      "batch_normalization_132 (Bat (None, 40, 64)            256       \n",
      "_________________________________________________________________\n",
      "dropout_282 (Dropout)        (None, 40, 64)            0         \n",
      "_________________________________________________________________\n",
      "dense_217 (Dense)            (None, 40, 32)            2080      \n",
      "_________________________________________________________________\n",
      "batch_normalization_133 (Bat (None, 40, 32)            128       \n",
      "_________________________________________________________________\n",
      "dropout_283 (Dropout)        (None, 40, 32)            0         \n",
      "_________________________________________________________________\n",
      "flatten_28 (Flatten)         (None, 1280)              0         \n",
      "_________________________________________________________________\n",
      "dense_218 (Dense)            (None, 6)                 7686      \n",
      "=================================================================\n",
      "Total params: 10,278\n",
      "Trainable params: 10,086\n",
      "Non-trainable params: 192\n",
      "_________________________________________________________________\n"
     ]
    }
   ],
   "source": [
    "m_2.summary()"
   ]
  },
  {
   "cell_type": "code",
   "execution_count": 773,
   "id": "ea6cfe88",
   "metadata": {},
   "outputs": [
    {
     "data": {
      "image/png": "[encoded data removed]",
      "text/plain": [
       "<Figure size 432x288 with 1 Axes>"
      ]
     },
     "metadata": {
      "needs_background": "light"
     },
     "output_type": "display_data"
    },
    {
     "data": {
      "image/png": "[encoded data removed]",
      "text/plain": [
       "<Figure size 432x288 with 1 Axes>"
      ]
     },
     "metadata": {
      "needs_background": "light"
     },
     "output_type": "display_data"
    }
   ],
   "source": [
    "plt.plot(hist_2.history['categorical_accuracy'])\n",
    "plt.plot(hist_2.history['val_categorical_accuracy'])\n",
    "plt.title('model accuracy')\n",
    "plt.ylabel('accuracy')\n",
    "plt.xlabel('epoch')\n",
    "plt.legend(['train', 'test'], loc='upper left')\n",
    "plt.show()\n",
    "# summarize history for loss\n",
    "plt.plot(hist_2.history['loss'])\n",
    "plt.plot(hist_2.history['val_loss'])\n",
    "plt.title('model loss')\n",
    "plt.ylabel('loss')\n",
    "plt.xlabel('epoch')\n",
    "plt.legend(['train', 'test'], loc='upper left')\n",
    "plt.show()"
   ]
  },
  {
   "cell_type": "code",
   "execution_count": 1029,
   "id": "c8bc2cb3",
   "metadata": {},
   "outputs": [
    {
     "name": "stdout",
     "output_type": "stream",
     "text": [
      "29/29 [==============================] - 0s 3ms/step - loss: 0.9845 - categorical_accuracy: 0.6144 - f1_loss: 0.5224\n",
      "Restored model, accuracy: 61.44%\n"
     ]
    }
   ],
   "source": [
    "loss, acc, f1_score = m_2.evaluate(X_testcnn_mfcc, y_onehot_test_mfcc)\n",
    "print(\"Restored model, accuracy: {:5.2f}%\".format(100*acc))"
   ]
  },
  {
   "cell_type": "code",
   "execution_count": 1030,
   "id": "c2c740dc",
   "metadata": {},
   "outputs": [
    {
     "name": "stdout",
     "output_type": "stream",
     "text": [
      "Confusion matrix, without normalization\n",
      "[[ 87  18   7   0  12   6]\n",
      " [ 36  60  14   2  28  13]\n",
      " [ 19  13  73   2  20  17]\n",
      " [  0   0   0 158   0   0]\n",
      " [  4  10  19   0 128   4]\n",
      " [ 15  22  37   1  28  47]]\n"
     ]
    },
    {
     "data": {
      "image/png": "[encoded data removed]",
      "text/plain": [
       "<Figure size 432x288 with 2 Axes>"
      ]
     },
     "metadata": {
      "needs_background": "light"
     },
     "output_type": "display_data"
    }
   ],
   "source": [
    "from sklearn import metrics\n",
    "y_pred = m_2.predict(X_testcnn_mfcc)\n",
    "matrix = metrics.confusion_matrix(y_onehot_test_mfcc.argmax(axis=1), y_pred.argmax(axis=1))\n",
    "emo_keys = list(['ang', 'hap', 'sad', 'fea', 'sur', 'neu'])\n",
    "plot_confusion_matrix(matrix, classes=emo_keys)"
   ]
  },
  {
   "cell_type": "code",
   "execution_count": 1031,
   "id": "c3a31d3f",
   "metadata": {
    "scrolled": true
   },
   "outputs": [
    {
     "name": "stdout",
     "output_type": "stream",
     "text": [
      "              precision    recall  f1-score   support\n",
      "\n",
      "         ang       0.54      0.67      0.60       130\n",
      "         hap       0.49      0.39      0.43       153\n",
      "         sad       0.49      0.51      0.50       144\n",
      "         fea       0.97      1.00      0.98       158\n",
      "         sur       0.59      0.78      0.67       165\n",
      "         neu       0.54      0.31      0.40       150\n",
      "\n",
      "    accuracy                           0.61       900\n",
      "   macro avg       0.60      0.61      0.60       900\n",
      "weighted avg       0.61      0.61      0.60       900\n",
      "\n"
     ]
    }
   ],
   "source": [
    "target_names = ['ang', 'hap', 'sad', 'fea', 'sur', 'neu']\n",
    "print(classification_report(y_onehot_test_mfcc.argmax(axis=1), y_pred.argmax(axis=1), target_names=target_names))"
   ]
  },
  {
   "cell_type": "code",
   "execution_count": 1032,
   "id": "bebe9992",
   "metadata": {},
   "outputs": [],
   "source": [
    "# indices and labels of all correctly recognized\n",
    "correct_indices = print_index(y_onehot_test_mfcc.argmax(axis=1), y_pred.argmax(axis=1))\n",
    "correct_labels = print_labels(y_onehot_test_mfcc.argmax(axis=1), y_pred.argmax(axis=1))"
   ]
  },
  {
   "cell_type": "code",
   "execution_count": 1033,
   "id": "1f5fe504",
   "metadata": {},
   "outputs": [
    {
     "data": {
      "text/plain": [
       "553"
      ]
     },
     "execution_count": 1033,
     "metadata": {},
     "output_type": "execute_result"
    }
   ],
   "source": [
    "len(correct_indices)"
   ]
  },
  {
   "cell_type": "code",
   "execution_count": 1034,
   "id": "f37d7d10",
   "metadata": {},
   "outputs": [],
   "source": [
    "# indices of correctly recognized AND clipped\n",
    "indices_of_clipped_recognized = []\n",
    "for i in range(len(X_testcnn_mfcc)):\n",
    "    for j in range(len(correct_indices)):\n",
    "        if(i == correct_indices[j]):\n",
    "            if(i in x_clipped):\n",
    "                indices_of_clipped_recognized.append(i)"
   ]
  },
  {
   "cell_type": "code",
   "execution_count": 1035,
   "id": "a0b88ee2",
   "metadata": {},
   "outputs": [],
   "source": [
    "label_of_clipped_recognized = []\n",
    "# we get the label of correctly recognized clipped audios\n",
    "for i in range(len(y_onehot_test_mfcc.argmax(axis=1))):\n",
    "    if(i in indices_of_clipped_recognized):\n",
    "        label_of_clipped_recognized.append((y_onehot_test_mfcc.argmax(axis=1)[i]))"
   ]
  },
  {
   "cell_type": "code",
   "execution_count": 1036,
   "id": "2ad17a88",
   "metadata": {},
   "outputs": [],
   "source": [
    "dic_val_clipped = count_label(label_of_clipped_recognized)"
   ]
  },
  {
   "cell_type": "code",
   "execution_count": 1037,
   "id": "19dc2679",
   "metadata": {},
   "outputs": [
    {
     "data": {
      "text/plain": [
       "{'ang': 8, 'hap': 4, 'sad': 6, 'fea': 0, 'sur': 3, 'neu': 3}"
      ]
     },
     "execution_count": 1037,
     "metadata": {},
     "output_type": "execute_result"
    }
   ],
   "source": [
    "dic_val_clipped"
   ]
  },
  {
   "cell_type": "code",
   "execution_count": 1038,
   "id": "cba65817",
   "metadata": {},
   "outputs": [
    {
     "data": {
      "text/plain": [
       "<BarContainer object of 6 artists>"
      ]
     },
     "execution_count": 1038,
     "metadata": {},
     "output_type": "execute_result"
    },
    {
     "data": {
      "image/png": "[encoded data removed]",
      "text/plain": [
       "<Figure size 432x288 with 1 Axes>"
      ]
     },
     "metadata": {
      "needs_background": "light"
     },
     "output_type": "display_data"
    }
   ],
   "source": [
    "plt.bar(list(dic_val_clipped.keys()), dic_val_clipped.values(), color='black')"
   ]
  },
  {
   "cell_type": "code",
   "execution_count": 1054,
   "id": "c5f82b82",
   "metadata": {},
   "outputs": [
    {
     "name": "stdout",
     "output_type": "stream",
     "text": [
      "Number of recognized clipped test data: 24\n",
      "Total number of clipped test data: 40\n",
      "Ratio of recognized clipped test data: 0.6\n",
      "\n",
      "Anger: 8\n",
      "Happiness: 4\n",
      "Sadness: 6\n",
      "Surpise: 3\n",
      "Neutral: 3\n",
      "Fear: 0\n",
      "\n",
      "Anger: 8\n",
      "Happiness: 9\n",
      "Sadness: 10\n",
      "Surpise: 7\n",
      "Neutral: 6\n",
      "Fear: 0\n",
      "\n"
     ]
    }
   ],
   "source": [
    "clipped_ratio = len(indices_of_clipped_recognized) / len(x_clipped)\n",
    "print(\"Number of recognized clipped test data: {}\\nTotal number of clipped test data: {}\\nRatio of recognized clipped test data: {}\\n\".format(len(indices_of_clipped_recognized),len(x_clipped), clipped_ratio ))\n",
    "print(\"Anger: {}\\nHappiness: {}\\nSadness: {}\\nSurpise: {}\\nNeutral: {}\\nFear: {}\\n\".format(dic_val_clipped['ang'],dic_val_clipped['hap'],dic_val_clipped['sad'],dic_val_clipped['sur'],dic_val_clipped['neu'],dic_val_clipped['fea']))\n",
    "print(\"Anger: {}\\nHappiness: {}\\nSadness: {}\\nSurpise: {}\\nNeutral: {}\\nFear: {}\\n\".format(dic_true_val['ang'],dic_true_val['hap'],dic_true_val['sad'],dic_true_val['sur'],dic_true_val['neu'],dic_true_val['fea']))"
   ]
  },
  {
   "cell_type": "code",
   "execution_count": 1041,
   "id": "27191a04",
   "metadata": {},
   "outputs": [],
   "source": [
    "# we get the indices of correctly recognized un-clipped audios\n",
    "indices_of_unclipped_recognized = []\n",
    "for i in range(len(X_testcnn_mfcc)):\n",
    "    for j in range(len(correct_indices)):\n",
    "        if(i == correct_indices[j]):\n",
    "            if(i not in x_clipped):\n",
    "                indices_of_unclipped_recognized.append(i)"
   ]
  },
  {
   "cell_type": "code",
   "execution_count": 941,
   "id": "cad621f5",
   "metadata": {},
   "outputs": [
    {
     "data": {
      "text/plain": [
       "529"
      ]
     },
     "execution_count": 941,
     "metadata": {},
     "output_type": "execute_result"
    }
   ],
   "source": [
    "len(indices_of_unclipped_recognized)"
   ]
  },
  {
   "cell_type": "code",
   "execution_count": 932,
   "id": "62c1d2fb",
   "metadata": {},
   "outputs": [],
   "source": [
    "label_of_unclipped_recognized = []\n",
    "# we get the label of correctly recognized unclipped audios\n",
    "for i in range(len(y_onehot_test_mfcc.argmax(axis=1))):\n",
    "    if(i in indices_of_unclipped_recognized):\n",
    "        label_of_unclipped_recognized.append((y_onehot_test_mfcc.argmax(axis=1)[i]))"
   ]
  },
  {
   "cell_type": "code",
   "execution_count": 936,
   "id": "c37e4a61",
   "metadata": {},
   "outputs": [],
   "source": [
    "dic_val_unclipped = count_label(label_of_unclipped_recognized)"
   ]
  },
  {
   "cell_type": "code",
   "execution_count": 937,
   "id": "cfee5a81",
   "metadata": {
    "scrolled": true
   },
   "outputs": [
    {
     "data": {
      "text/plain": [
       "<BarContainer object of 6 artists>"
      ]
     },
     "execution_count": 937,
     "metadata": {},
     "output_type": "execute_result"
    },
    {
     "data": {
      "image/png": "[encoded data removed]",
      "text/plain": [
       "<Figure size 432x288 with 1 Axes>"
      ]
     },
     "metadata": {
      "needs_background": "light"
     },
     "output_type": "display_data"
    }
   ],
   "source": [
    "plt.bar(list(dic_val_unclipped.keys()), dic_val_unclipped.values(), color='black')"
   ]
  },
  {
   "cell_type": "code",
   "execution_count": 1055,
   "id": "70808379",
   "metadata": {},
   "outputs": [
    {
     "name": "stdout",
     "output_type": "stream",
     "text": [
      "Number of recognized unclipped test data: 529\n",
      "Total number of unclipped test data: 860\n",
      "Ratio of recognized unclipped test data: 0.6151162790697674\n",
      "\n",
      "Anger: 57\n",
      "Happiness: 52\n",
      "Sadness: 20\n",
      "Surpise: 147\n",
      "Neutral: 60\n",
      "Fear: 158\n",
      "\n",
      "Anger: 122\n",
      "Happiness: 144\n",
      "Sadness: 134\n",
      "Surpise: 158\n",
      "Neutral: 144\n",
      "Fear: 158\n",
      "\n"
     ]
    }
   ],
   "source": [
    "unclipped_ratio = len(indices_of_unclipped_recognized) / len(x_unclipped)\n",
    "print(\"Number of recognized unclipped test data: {}\\nTotal number of unclipped test data: {}\\nRatio of recognized unclipped test data: {}\\n\".format(len(indices_of_unclipped_recognized),len(x_unclipped), unclipped_ratio ))\n",
    "print(\"Anger: {}\\nHappiness: {}\\nSadness: {}\\nSurpise: {}\\nNeutral: {}\\nFear: {}\\n\".format(dic_val_unclipped['ang'],dic_val_unclipped['hap'],dic_val_unclipped['sad'],dic_val_unclipped['sur'],dic_val_unclipped['neu'],dic_val_unclipped['fea']))\n",
    "print(\"Anger: {}\\nHappiness: {}\\nSadness: {}\\nSurpise: {}\\nNeutral: {}\\nFear: {}\\n\".format(dic_true_val_unclipped['ang'],dic_true_val_unclipped['hap'],dic_true_val_unclipped['sad'],dic_true_val_unclipped['sur'],dic_true_val_unclipped['neu'],dic_true_val_unclipped['fea']))"
   ]
  },
  {
   "cell_type": "markdown",
   "id": "c426ce56",
   "metadata": {},
   "source": [
    "#### MEL\n",
    "\n",
    "We use Mel-Spectrogram as input features."
   ]
  },
  {
   "cell_type": "code",
   "execution_count": 677,
   "id": "418cdd18",
   "metadata": {},
   "outputs": [],
   "source": [
    "X_train_mel_np = np.array(X_train_mel)\n",
    "X_test_mel_np = np.array(X_test_mel)\n",
    "y_train_mel_np = np.array(y_train_mel)\n",
    "y_test_mel_np = np.array(y_test_mel)"
   ]
  },
  {
   "cell_type": "code",
   "execution_count": 758,
   "id": "b9ded256",
   "metadata": {},
   "outputs": [
    {
     "name": "stdout",
     "output_type": "stream",
     "text": [
      "Epoch 1/30\n",
      "42/42 [==============================] - 2s 29ms/step - loss: 2.6009 - categorical_accuracy: 0.1682 - f1_loss: 0.8391 - val_loss: 1.7626 - val_categorical_accuracy: 0.2067 - val_f1_loss: 0.8031\n",
      "Epoch 2/30\n",
      "42/42 [==============================] - 1s 21ms/step - loss: 1.9184 - categorical_accuracy: 0.3032 - f1_loss: 0.7538 - val_loss: 1.5813 - val_categorical_accuracy: 0.3233 - val_f1_loss: 0.7616\n",
      "Epoch 3/30\n",
      "42/42 [==============================] - 1s 21ms/step - loss: 1.7056 - categorical_accuracy: 0.3788 - f1_loss: 0.7054 - val_loss: 1.4997 - val_categorical_accuracy: 0.4322 - val_f1_loss: 0.7401\n",
      "Epoch 4/30\n",
      "42/42 [==============================] - 1s 21ms/step - loss: 1.5950 - categorical_accuracy: 0.4162 - f1_loss: 0.6724 - val_loss: 1.4242 - val_categorical_accuracy: 0.4411 - val_f1_loss: 0.7145\n",
      "Epoch 5/30\n",
      "42/42 [==============================] - 1s 23ms/step - loss: 1.4437 - categorical_accuracy: 0.4584 - f1_loss: 0.6460 - val_loss: 1.3810 - val_categorical_accuracy: 0.4756 - val_f1_loss: 0.6903\n",
      "Epoch 6/30\n",
      "42/42 [==============================] - 1s 21ms/step - loss: 1.4185 - categorical_accuracy: 0.4586 - f1_loss: 0.6429 - val_loss: 1.3405 - val_categorical_accuracy: 0.5056 - val_f1_loss: 0.6659\n",
      "Epoch 7/30\n",
      "42/42 [==============================] - 1s 23ms/step - loss: 1.3727 - categorical_accuracy: 0.4891 - f1_loss: 0.6260 - val_loss: 1.2849 - val_categorical_accuracy: 0.5300 - val_f1_loss: 0.6500\n",
      "Epoch 8/30\n",
      "42/42 [==============================] - 1s 23ms/step - loss: 1.3351 - categorical_accuracy: 0.4964 - f1_loss: 0.6226 - val_loss: 1.2359 - val_categorical_accuracy: 0.5300 - val_f1_loss: 0.6280\n",
      "Epoch 9/30\n",
      "42/42 [==============================] - 1s 24ms/step - loss: 1.2542 - categorical_accuracy: 0.5500 - f1_loss: 0.5937 - val_loss: 1.1949 - val_categorical_accuracy: 0.5378 - val_f1_loss: 0.6150\n",
      "Epoch 10/30\n",
      "42/42 [==============================] - 1s 34ms/step - loss: 1.2422 - categorical_accuracy: 0.5299 - f1_loss: 0.5933 - val_loss: 1.1566 - val_categorical_accuracy: 0.5622 - val_f1_loss: 0.5966\n",
      "Epoch 11/30\n",
      "42/42 [==============================] - 1s 22ms/step - loss: 1.2234 - categorical_accuracy: 0.5338 - f1_loss: 0.5817 - val_loss: 1.1379 - val_categorical_accuracy: 0.5556 - val_f1_loss: 0.5849\n",
      "Epoch 12/30\n",
      "42/42 [==============================] - 1s 22ms/step - loss: 1.2058 - categorical_accuracy: 0.5303 - f1_loss: 0.5787 - val_loss: 1.1355 - val_categorical_accuracy: 0.5667 - val_f1_loss: 0.5773\n",
      "Epoch 13/30\n",
      "42/42 [==============================] - 1s 22ms/step - loss: 1.1364 - categorical_accuracy: 0.5550 - f1_loss: 0.5596 - val_loss: 1.1156 - val_categorical_accuracy: 0.5589 - val_f1_loss: 0.5727\n",
      "Epoch 14/30\n",
      "42/42 [==============================] - 1s 22ms/step - loss: 1.1087 - categorical_accuracy: 0.5609 - f1_loss: 0.5579 - val_loss: 1.1017 - val_categorical_accuracy: 0.5678 - val_f1_loss: 0.5638\n",
      "Epoch 15/30\n",
      "42/42 [==============================] - 1s 22ms/step - loss: 1.0900 - categorical_accuracy: 0.5885 - f1_loss: 0.5480 - val_loss: 1.0730 - val_categorical_accuracy: 0.5889 - val_f1_loss: 0.5543\n",
      "Epoch 16/30\n",
      "42/42 [==============================] - 1s 22ms/step - loss: 1.0931 - categorical_accuracy: 0.5795 - f1_loss: 0.5509 - val_loss: 1.0909 - val_categorical_accuracy: 0.5744 - val_f1_loss: 0.5546\n",
      "Epoch 17/30\n",
      "42/42 [==============================] - 1s 21ms/step - loss: 1.0364 - categorical_accuracy: 0.5862 - f1_loss: 0.5282 - val_loss: 1.0711 - val_categorical_accuracy: 0.5822 - val_f1_loss: 0.5480\n",
      "Epoch 18/30\n",
      "42/42 [==============================] - 1s 21ms/step - loss: 1.0414 - categorical_accuracy: 0.5746 - f1_loss: 0.5314 - val_loss: 1.0673 - val_categorical_accuracy: 0.5900 - val_f1_loss: 0.5469\n",
      "Epoch 19/30\n",
      "42/42 [==============================] - 1s 22ms/step - loss: 0.9980 - categorical_accuracy: 0.6304 - f1_loss: 0.5230 - val_loss: 1.0514 - val_categorical_accuracy: 0.5733 - val_f1_loss: 0.5423\n",
      "Epoch 20/30\n",
      "42/42 [==============================] - 1s 22ms/step - loss: 1.0150 - categorical_accuracy: 0.5983 - f1_loss: 0.5256 - val_loss: 1.0766 - val_categorical_accuracy: 0.5600 - val_f1_loss: 0.5457\n",
      "Epoch 21/30\n",
      "42/42 [==============================] - 1s 22ms/step - loss: 0.9965 - categorical_accuracy: 0.6226 - f1_loss: 0.5108 - val_loss: 1.0236 - val_categorical_accuracy: 0.6011 - val_f1_loss: 0.5381\n",
      "Epoch 22/30\n",
      "42/42 [==============================] - 1s 22ms/step - loss: 1.0148 - categorical_accuracy: 0.5972 - f1_loss: 0.5203 - val_loss: 1.0181 - val_categorical_accuracy: 0.6033 - val_f1_loss: 0.5309\n",
      "Epoch 23/30\n",
      "42/42 [==============================] - 1s 23ms/step - loss: 0.9745 - categorical_accuracy: 0.6245 - f1_loss: 0.5114 - val_loss: 1.0073 - val_categorical_accuracy: 0.6011 - val_f1_loss: 0.5283\n",
      "Epoch 24/30\n",
      "42/42 [==============================] - 1s 22ms/step - loss: 0.9735 - categorical_accuracy: 0.6221 - f1_loss: 0.5048 - val_loss: 1.0126 - val_categorical_accuracy: 0.6000 - val_f1_loss: 0.5284\n",
      "Epoch 25/30\n",
      "42/42 [==============================] - 1s 21ms/step - loss: 0.9961 - categorical_accuracy: 0.6062 - f1_loss: 0.5085 - val_loss: 1.0013 - val_categorical_accuracy: 0.6122 - val_f1_loss: 0.5211\n",
      "Epoch 26/30\n",
      "42/42 [==============================] - 1s 21ms/step - loss: 0.9344 - categorical_accuracy: 0.6464 - f1_loss: 0.4836 - val_loss: 1.0192 - val_categorical_accuracy: 0.5900 - val_f1_loss: 0.5251\n",
      "Epoch 27/30\n",
      "42/42 [==============================] - 1s 20ms/step - loss: 0.9496 - categorical_accuracy: 0.6150 - f1_loss: 0.4958 - val_loss: 1.0056 - val_categorical_accuracy: 0.5989 - val_f1_loss: 0.5246\n",
      "Epoch 28/30\n",
      "42/42 [==============================] - 1s 21ms/step - loss: 0.9638 - categorical_accuracy: 0.6175 - f1_loss: 0.5004 - val_loss: 1.0015 - val_categorical_accuracy: 0.6122 - val_f1_loss: 0.5202\n",
      "Epoch 29/30\n",
      "42/42 [==============================] - 1s 22ms/step - loss: 0.9351 - categorical_accuracy: 0.6522 - f1_loss: 0.4858 - val_loss: 0.9845 - val_categorical_accuracy: 0.6133 - val_f1_loss: 0.5147\n",
      "Epoch 30/30\n",
      "42/42 [==============================] - 1s 22ms/step - loss: 0.9209 - categorical_accuracy: 0.6459 - f1_loss: 0.4853 - val_loss: 0.9780 - val_categorical_accuracy: 0.6122 - val_f1_loss: 0.5127\n"
     ]
    }
   ],
   "source": [
    "config = dict(hidden_nodes=(64,32,16),  \n",
    "                input_shape=128,\n",
    "                dropout=0.25,\n",
    "                epochs=30,\n",
    "                batch_size=50)\n",
    "\n",
    "m_mel_2 = DenseNN(**config)\n",
    "hist_mel_2 = m_mel_2.fit(X_traincnn_mel, y_onehot_train_mel, X_testcnn_mel, y_onehot_test_mel)"
   ]
  },
  {
   "cell_type": "code",
   "execution_count": 759,
   "id": "d7dd7802",
   "metadata": {},
   "outputs": [
    {
     "name": "stdout",
     "output_type": "stream",
     "text": [
      "Model: \"sequential_108\"\n",
      "_________________________________________________________________\n",
      "Layer (type)                 Output Shape              Param #   \n",
      "=================================================================\n",
      "dense_209 (Dense)            (None, 128, 64)           128       \n",
      "_________________________________________________________________\n",
      "batch_normalization_127 (Bat (None, 128, 64)           256       \n",
      "_________________________________________________________________\n",
      "dropout_277 (Dropout)        (None, 128, 64)           0         \n",
      "_________________________________________________________________\n",
      "dense_210 (Dense)            (None, 128, 32)           2080      \n",
      "_________________________________________________________________\n",
      "batch_normalization_128 (Bat (None, 128, 32)           128       \n",
      "_________________________________________________________________\n",
      "dropout_278 (Dropout)        (None, 128, 32)           0         \n",
      "_________________________________________________________________\n",
      "dense_211 (Dense)            (None, 128, 16)           528       \n",
      "_________________________________________________________________\n",
      "batch_normalization_129 (Bat (None, 128, 16)           64        \n",
      "_________________________________________________________________\n",
      "dropout_279 (Dropout)        (None, 128, 16)           0         \n",
      "_________________________________________________________________\n",
      "flatten_26 (Flatten)         (None, 2048)              0         \n",
      "_________________________________________________________________\n",
      "dense_212 (Dense)            (None, 6)                 12294     \n",
      "=================================================================\n",
      "Total params: 15,478\n",
      "Trainable params: 15,254\n",
      "Non-trainable params: 224\n",
      "_________________________________________________________________\n"
     ]
    }
   ],
   "source": [
    "m_mel_2.summary()"
   ]
  },
  {
   "cell_type": "code",
   "execution_count": 760,
   "id": "07864771",
   "metadata": {},
   "outputs": [
    {
     "data": {
      "image/png": "[encoded data removed]",
      "text/plain": [
       "<Figure size 432x288 with 1 Axes>"
      ]
     },
     "metadata": {
      "needs_background": "light"
     },
     "output_type": "display_data"
    },
    {
     "data": {
      "image/png": "[encoded data removed]",
      "text/plain": [
       "<Figure size 432x288 with 1 Axes>"
      ]
     },
     "metadata": {
      "needs_background": "light"
     },
     "output_type": "display_data"
    }
   ],
   "source": [
    "plt.plot(hist_mel_2.history['categorical_accuracy'])\n",
    "plt.plot(hist_mel_2.history['val_categorical_accuracy'])\n",
    "plt.title('model accuracy')\n",
    "plt.ylabel('accuracy')\n",
    "plt.xlabel('epoch')\n",
    "plt.legend(['train', 'test'], loc='upper left')\n",
    "plt.show()\n",
    "# summarize history for loss\n",
    "plt.plot(hist_mel_2.history['loss'])\n",
    "plt.plot(hist_mel_2.history['val_loss'])\n",
    "plt.title('model loss')\n",
    "plt.ylabel('loss')\n",
    "plt.xlabel('epoch')\n",
    "plt.legend(['train', 'test'], loc='upper left')\n",
    "plt.show()"
   ]
  },
  {
   "cell_type": "code",
   "execution_count": 962,
   "id": "1d9da852",
   "metadata": {},
   "outputs": [
    {
     "name": "stdout",
     "output_type": "stream",
     "text": [
      "29/29 [==============================] - 0s 5ms/step - loss: 0.9780 - categorical_accuracy: 0.6122 - f1_loss: 0.5266\n",
      "Restored model, accuracy: 61.22%\n"
     ]
    }
   ],
   "source": [
    "loss, acc, f1_score = m_mel_2.evaluate(X_testcnn_mel, y_onehot_test_mel)\n",
    "print(\"Restored model, accuracy: {:5.2f}%\".format(100*acc))"
   ]
  },
  {
   "cell_type": "code",
   "execution_count": 1056,
   "id": "87f15931",
   "metadata": {},
   "outputs": [
    {
     "name": "stdout",
     "output_type": "stream",
     "text": [
      "Confusion matrix, without normalization\n",
      "[[ 80  21   9   0   6  14]\n",
      " [ 22  69  11   1  13  37]\n",
      " [ 15  28  35   2  12  52]\n",
      " [  0   0   0 158   0   0]\n",
      " [  0  20  12   0 122  11]\n",
      " [ 11  27  21   0   4  87]]\n"
     ]
    },
    {
     "data": {
      "image/png": "[encoded data removed]",
      "text/plain": [
       "<Figure size 432x288 with 2 Axes>"
      ]
     },
     "metadata": {
      "needs_background": "light"
     },
     "output_type": "display_data"
    }
   ],
   "source": [
    "y_pred = m_mel_2.predict(X_testcnn_mel)\n",
    "matrix = metrics.confusion_matrix(y_onehot_test_mel.argmax(axis=1), y_pred.argmax(axis=1))\n",
    "emo_keys = list(['ang', 'hap', 'sad', 'fea', 'sur', 'neu'])\n",
    "plot_confusion_matrix(matrix, classes=emo_keys)"
   ]
  },
  {
   "cell_type": "code",
   "execution_count": 1057,
   "id": "26cd89d3",
   "metadata": {
    "scrolled": true
   },
   "outputs": [
    {
     "name": "stdout",
     "output_type": "stream",
     "text": [
      "              precision    recall  f1-score   support\n",
      "\n",
      "         ang       0.62      0.62      0.62       130\n",
      "         hap       0.42      0.45      0.43       153\n",
      "         sad       0.40      0.24      0.30       144\n",
      "         fea       0.98      1.00      0.99       158\n",
      "         sur       0.78      0.74      0.76       165\n",
      "         neu       0.43      0.58      0.50       150\n",
      "\n",
      "    accuracy                           0.61       900\n",
      "   macro avg       0.61      0.60      0.60       900\n",
      "weighted avg       0.61      0.61      0.61       900\n",
      "\n"
     ]
    }
   ],
   "source": [
    "target_names = ['ang', 'hap', 'sad', 'fea', 'sur', 'neu']\n",
    "print(classification_report(y_onehot_test_mfcc.argmax(axis=1), y_pred.argmax(axis=1), target_names=target_names))"
   ]
  },
  {
   "cell_type": "code",
   "execution_count": 1058,
   "id": "ea3b08fd",
   "metadata": {},
   "outputs": [],
   "source": [
    "# indices and labels of all correctly recognized\n",
    "correct_indices = print_index(y_onehot_test_mel.argmax(axis=1), y_pred.argmax(axis=1))\n",
    "correct_labels = print_labels(y_onehot_test_mel.argmax(axis=1), y_pred.argmax(axis=1))\n",
    "\n",
    "# indices of correctly recognized AND clipped\n",
    "indices_of_clipped_recognized = []\n",
    "for i in range(len(X_testcnn_mel)):\n",
    "    for j in range(len(correct_indices)):\n",
    "        if(i == correct_indices[j]):\n",
    "            if(i in x_clipped):\n",
    "                indices_of_clipped_recognized.append(i)\n",
    "\n",
    "label_of_clipped_recognized = []\n",
    "\n",
    "# we get the label of correctly recognized clipped audios\n",
    "for i in range(len(y_onehot_test_mel.argmax(axis=1))):\n",
    "    if(i in indices_of_clipped_recognized):\n",
    "        label_of_clipped_recognized.append((y_onehot_test_mel.argmax(axis=1)[i]))"
   ]
  },
  {
   "cell_type": "code",
   "execution_count": 1059,
   "id": "cecc740a",
   "metadata": {},
   "outputs": [],
   "source": [
    "dic_val_clipped = count_label(label_of_clipped_recognized)"
   ]
  },
  {
   "cell_type": "code",
   "execution_count": 1060,
   "id": "a6952389",
   "metadata": {},
   "outputs": [
    {
     "data": {
      "text/plain": [
       "{'ang': 5, 'hap': 7, 'sad': 3, 'fea': 0, 'sur': 7, 'neu': 5}"
      ]
     },
     "execution_count": 1060,
     "metadata": {},
     "output_type": "execute_result"
    }
   ],
   "source": [
    "dic_val_clipped"
   ]
  },
  {
   "cell_type": "code",
   "execution_count": 1061,
   "id": "ae4f105a",
   "metadata": {},
   "outputs": [
    {
     "data": {
      "text/plain": [
       "<BarContainer object of 6 artists>"
      ]
     },
     "execution_count": 1061,
     "metadata": {},
     "output_type": "execute_result"
    },
    {
     "data": {
      "image/png": "[encoded data removed]",
      "text/plain": [
       "<Figure size 432x288 with 1 Axes>"
      ]
     },
     "metadata": {
      "needs_background": "light"
     },
     "output_type": "display_data"
    }
   ],
   "source": [
    "plt.bar(list(dic_val_clipped.keys()), dic_val_clipped.values(), color='black')"
   ]
  },
  {
   "cell_type": "code",
   "execution_count": 1063,
   "id": "158c441b",
   "metadata": {},
   "outputs": [
    {
     "name": "stdout",
     "output_type": "stream",
     "text": [
      "Number of recognized clipped test data: 27\n",
      "Total number of clipped test data: 40\n",
      "Ratio of recognized clipped test data: 0.675\n",
      "\n",
      "Anger: 5\n",
      "Happiness: 7\n",
      "Sadness: 3\n",
      "Surpise: 7\n",
      "Neutral: 5\n",
      "Fear: 0\n",
      "\n",
      "Anger: 8\n",
      "Happiness: 9\n",
      "Sadness: 10\n",
      "Surpise: 7\n",
      "Neutral: 6\n",
      "Fear: 0\n",
      "\n"
     ]
    }
   ],
   "source": [
    "clipped_ratio = len(indices_of_clipped_recognized) / len(x_clipped)\n",
    "print(\"Number of recognized clipped test data: {}\\nTotal number of clipped test data: {}\\nRatio of recognized clipped test data: {}\\n\".format(len(indices_of_clipped_recognized),len(x_clipped), clipped_ratio ))\n",
    "print(\"Anger: {}\\nHappiness: {}\\nSadness: {}\\nSurpise: {}\\nNeutral: {}\\nFear: {}\\n\".format(dic_val_clipped['ang'],dic_val_clipped['hap'],dic_val_clipped['sad'],dic_val_clipped['sur'],dic_val_clipped['neu'],dic_val_clipped['fea']))\n",
    "print(\"Anger: {}\\nHappiness: {}\\nSadness: {}\\nSurpise: {}\\nNeutral: {}\\nFear: {}\\n\".format(dic_true_val['ang'],dic_true_val['hap'],dic_true_val['sad'],dic_true_val['sur'],dic_true_val['neu'],dic_true_val['fea']))"
   ]
  },
  {
   "cell_type": "code",
   "execution_count": 1064,
   "id": "97ae41db",
   "metadata": {},
   "outputs": [],
   "source": [
    "# we get the indices of correctly recognized un-clipped audios\n",
    "indices_of_unclipped_recognized = []\n",
    "for i in range(len(X_testcnn_mel)):\n",
    "    for j in range(len(correct_indices)):\n",
    "        if(i == correct_indices[j]):\n",
    "            if(i not in x_clipped):\n",
    "                indices_of_unclipped_recognized.append(i)"
   ]
  },
  {
   "cell_type": "code",
   "execution_count": 1065,
   "id": "58b1f41e",
   "metadata": {},
   "outputs": [
    {
     "data": {
      "text/plain": [
       "<BarContainer object of 6 artists>"
      ]
     },
     "execution_count": 1065,
     "metadata": {},
     "output_type": "execute_result"
    },
    {
     "data": {
      "image/png": "[encoded data removed]",
      "text/plain": [
       "<Figure size 432x288 with 1 Axes>"
      ]
     },
     "metadata": {
      "needs_background": "light"
     },
     "output_type": "display_data"
    }
   ],
   "source": [
    "label_of_unclipped_recognized = []\n",
    "# we get the label of correctly recognized unclipped audios\n",
    "for i in range(len(y_onehot_test_mel.argmax(axis=1))):\n",
    "    if(i in indices_of_unclipped_recognized):\n",
    "        label_of_unclipped_recognized.append((y_onehot_test_mel.argmax(axis=1)[i]))\n",
    "\n",
    "dic_val_unclipped = count_label(label_of_unclipped_recognized)\n",
    "\n",
    "plt.bar(list(dic_val_unclipped.keys()), dic_val_unclipped.values(), color='black')"
   ]
  },
  {
   "cell_type": "code",
   "execution_count": 1066,
   "id": "0ac1897e",
   "metadata": {},
   "outputs": [
    {
     "name": "stdout",
     "output_type": "stream",
     "text": [
      "Number of recognized unclipped test data: 524\n",
      "Total number of unclipped test data: 860\n",
      "Ratio of recognized unclipped test data: 0.6093023255813953\n",
      "\n",
      "Anger: 75\n",
      "Happiness: 62\n",
      "Sadness: 32\n",
      "Surpise: 115\n",
      "Neutral: 82\n",
      "Fear: 158\n",
      "\n",
      "Anger: 122\n",
      "Happiness: 144\n",
      "Sadness: 134\n",
      "Surpise: 158\n",
      "Neutral: 144\n",
      "Fear: 158\n",
      "\n"
     ]
    }
   ],
   "source": [
    "unclipped_ratio = len(indices_of_unclipped_recognized) / len(x_unclipped)\n",
    "print(\"Number of recognized unclipped test data: {}\\nTotal number of unclipped test data: {}\\nRatio of recognized unclipped test data: {}\\n\".format(len(indices_of_unclipped_recognized),len(x_unclipped), unclipped_ratio ))\n",
    "print(\"Anger: {}\\nHappiness: {}\\nSadness: {}\\nSurpise: {}\\nNeutral: {}\\nFear: {}\\n\".format(dic_val_unclipped['ang'],dic_val_unclipped['hap'],dic_val_unclipped['sad'],dic_val_unclipped['sur'],dic_val_unclipped['neu'],dic_val_unclipped['fea']))\n",
    "print(\"Anger: {}\\nHappiness: {}\\nSadness: {}\\nSurpise: {}\\nNeutral: {}\\nFear: {}\\n\".format(dic_true_val_unclipped['ang'],dic_true_val_unclipped['hap'],dic_true_val_unclipped['sad'],dic_true_val_unclipped['sur'],dic_true_val_unclipped['neu'],dic_true_val_unclipped['fea']))"
   ]
  },
  {
   "cell_type": "markdown",
   "id": "ff21a50a",
   "metadata": {},
   "source": [
    "## CNN + LSTM\n",
    "\n",
    "We create a CNN model with LSTM based on a paper on Speech Emotion Recognition by Zhao et al., the reference to the github is: (https://github.com/vandana-rajan/1D-Speech-Emotion-Recognition)."
   ]
  },
  {
   "cell_type": "markdown",
   "id": "8bb47209",
   "metadata": {},
   "source": [
    "### MFCC\n",
    "\n",
    "We use MFCC as input features."
   ]
  },
  {
   "cell_type": "code",
   "execution_count": 683,
   "id": "ec16cf81",
   "metadata": {},
   "outputs": [],
   "source": [
    "model_mfcc_lstm = Sequential()\n",
    "\n",
    "#LFLB - Local Feature Learning Block\n",
    "\n",
    "model_mfcc_lstm.add(Conv1D(32, 6,padding='same',input_shape=(40,1)))        #1\n",
    "model_mfcc_lstm.add(Activation('relu'))\n",
    "model_mfcc_lstm.add(MaxPooling1D(pool_size=(5)))\n",
    "model_mfcc_lstm.add(BatchNormalization()) #\n",
    "model_mfcc_lstm.add(Dropout(0.01))\n",
    "\n",
    "model_mfcc_lstm.add(Conv1D(64, 6,padding='same',))                           #2\n",
    "model_mfcc_lstm.add(Activation('relu'))\n",
    "model_mfcc_lstm.add(MaxPooling1D(pool_size=(5)))\n",
    "model_mfcc_lstm.add(Dropout(0.01))\n",
    "\n",
    "model_mfcc_lstm.add(Conv1D(64, 6,padding='same',))                           #3\n",
    "model_mfcc_lstm.add(Activation('relu'))\n",
    "model_mfcc_lstm.add(Dropout(0.01))\n",
    "\n",
    "model_mfcc_lstm.add(Conv1D(128, 6,padding='same',))                           #4 ...\n",
    "model_mfcc_lstm.add(Activation('relu'))\n",
    "model_mfcc_lstm.add(Dropout(0.01))\n",
    "\n",
    "# LSTM\n",
    "model_mfcc_lstm.add(LSTM(64,return_sequences=True))\n",
    "model_mfcc_lstm.add(SeqSelfAttention(attention_activation='tanh'))\n",
    "model_mfcc_lstm.add(LSTM(32,return_sequences=False))\n",
    "\n",
    "# FC\n",
    "model_mfcc_lstm.add(Dense(units=6, activation='softmax'))"
   ]
  },
  {
   "cell_type": "code",
   "execution_count": 684,
   "id": "0876e6be",
   "metadata": {},
   "outputs": [],
   "source": [
    "opt = tf.keras.optimizers.Adam(lr=0.0005) "
   ]
  },
  {
   "cell_type": "code",
   "execution_count": 685,
   "id": "70089d70",
   "metadata": {},
   "outputs": [
    {
     "name": "stdout",
     "output_type": "stream",
     "text": [
      "Model: \"sequential_95\"\n",
      "_________________________________________________________________\n",
      "Layer (type)                 Output Shape              Param #   \n",
      "=================================================================\n",
      "conv1d_161 (Conv1D)          (None, 40, 32)            224       \n",
      "_________________________________________________________________\n",
      "activation_201 (Activation)  (None, 40, 32)            0         \n",
      "_________________________________________________________________\n",
      "max_pooling1d_108 (MaxPoolin (None, 8, 32)             0         \n",
      "_________________________________________________________________\n",
      "batch_normalization_102 (Bat (None, 8, 32)             128       \n",
      "_________________________________________________________________\n",
      "dropout_240 (Dropout)        (None, 8, 32)             0         \n",
      "_________________________________________________________________\n",
      "conv1d_162 (Conv1D)          (None, 8, 64)             12352     \n",
      "_________________________________________________________________\n",
      "activation_202 (Activation)  (None, 8, 64)             0         \n",
      "_________________________________________________________________\n",
      "max_pooling1d_109 (MaxPoolin (None, 1, 64)             0         \n",
      "_________________________________________________________________\n",
      "dropout_241 (Dropout)        (None, 1, 64)             0         \n",
      "_________________________________________________________________\n",
      "conv1d_163 (Conv1D)          (None, 1, 64)             24640     \n",
      "_________________________________________________________________\n",
      "activation_203 (Activation)  (None, 1, 64)             0         \n",
      "_________________________________________________________________\n",
      "dropout_242 (Dropout)        (None, 1, 64)             0         \n",
      "_________________________________________________________________\n",
      "conv1d_164 (Conv1D)          (None, 1, 128)            49280     \n",
      "_________________________________________________________________\n",
      "activation_204 (Activation)  (None, 1, 128)            0         \n",
      "_________________________________________________________________\n",
      "dropout_243 (Dropout)        (None, 1, 128)            0         \n",
      "_________________________________________________________________\n",
      "lstm_20 (LSTM)               (None, 1, 64)             49408     \n",
      "_________________________________________________________________\n",
      "seq_self_attention_10 (SeqSe (None, None, 64)          4161      \n",
      "_________________________________________________________________\n",
      "lstm_21 (LSTM)               (None, 32)                12416     \n",
      "_________________________________________________________________\n",
      "dense_178 (Dense)            (None, 6)                 198       \n",
      "=================================================================\n",
      "Total params: 152,807\n",
      "Trainable params: 152,743\n",
      "Non-trainable params: 64\n",
      "_________________________________________________________________\n"
     ]
    }
   ],
   "source": [
    "model_mfcc_lstm.summary()"
   ]
  },
  {
   "cell_type": "code",
   "execution_count": 686,
   "id": "b89ead64",
   "metadata": {},
   "outputs": [],
   "source": [
    "model_mfcc_lstm.compile(loss='categorical_crossentropy',\n",
    "              optimizer=opt,\n",
    "              metrics=['categorical_accuracy', f1_loss])"
   ]
  },
  {
   "cell_type": "code",
   "execution_count": 687,
   "id": "5a5926f6",
   "metadata": {},
   "outputs": [
    {
     "name": "stdout",
     "output_type": "stream",
     "text": [
      "Epoch 1/50\n",
      "42/42 [==============================] - 5s 36ms/step - loss: 1.7902 - categorical_accuracy: 0.1747 - f1_loss: 0.8369 - val_loss: 1.7780 - val_categorical_accuracy: 0.1633 - val_f1_loss: 0.8342\n",
      "Epoch 2/50\n",
      "42/42 [==============================] - 1s 14ms/step - loss: 1.7553 - categorical_accuracy: 0.2260 - f1_loss: 0.8293 - val_loss: 1.7312 - val_categorical_accuracy: 0.2156 - val_f1_loss: 0.8182\n",
      "Epoch 3/50\n",
      "42/42 [==============================] - 1s 14ms/step - loss: 1.6478 - categorical_accuracy: 0.2911 - f1_loss: 0.8004 - val_loss: 1.6183 - val_categorical_accuracy: 0.2722 - val_f1_loss: 0.7966\n",
      "Epoch 4/50\n",
      "42/42 [==============================] - 1s 15ms/step - loss: 1.5262 - categorical_accuracy: 0.3693 - f1_loss: 0.7600 - val_loss: 1.4951 - val_categorical_accuracy: 0.3822 - val_f1_loss: 0.7610\n",
      "Epoch 5/50\n",
      "42/42 [==============================] - 1s 14ms/step - loss: 1.4423 - categorical_accuracy: 0.3865 - f1_loss: 0.7317 - val_loss: 1.6139 - val_categorical_accuracy: 0.2667 - val_f1_loss: 0.7846\n",
      "Epoch 6/50\n",
      "42/42 [==============================] - 1s 15ms/step - loss: 1.3731 - categorical_accuracy: 0.4131 - f1_loss: 0.7050 - val_loss: 1.3392 - val_categorical_accuracy: 0.4556 - val_f1_loss: 0.7017\n",
      "Epoch 7/50\n",
      "42/42 [==============================] - 1s 14ms/step - loss: 1.3879 - categorical_accuracy: 0.4066 - f1_loss: 0.7013 - val_loss: 1.3191 - val_categorical_accuracy: 0.4489 - val_f1_loss: 0.6987\n",
      "Epoch 8/50\n",
      "42/42 [==============================] - 1s 14ms/step - loss: 1.2646 - categorical_accuracy: 0.4797 - f1_loss: 0.6615 - val_loss: 1.2588 - val_categorical_accuracy: 0.4844 - val_f1_loss: 0.6660\n",
      "Epoch 9/50\n",
      "42/42 [==============================] - 1s 14ms/step - loss: 1.2414 - categorical_accuracy: 0.4871 - f1_loss: 0.6419 - val_loss: 1.2442 - val_categorical_accuracy: 0.4756 - val_f1_loss: 0.6513\n",
      "Epoch 10/50\n",
      "42/42 [==============================] - 1s 14ms/step - loss: 1.2272 - categorical_accuracy: 0.4833 - f1_loss: 0.6338 - val_loss: 1.2523 - val_categorical_accuracy: 0.4456 - val_f1_loss: 0.6566\n",
      "Epoch 11/50\n",
      "42/42 [==============================] - 1s 14ms/step - loss: 1.1530 - categorical_accuracy: 0.5273 - f1_loss: 0.6141 - val_loss: 1.1957 - val_categorical_accuracy: 0.5056 - val_f1_loss: 0.6359\n",
      "Epoch 12/50\n",
      "42/42 [==============================] - 1s 14ms/step - loss: 1.1714 - categorical_accuracy: 0.4972 - f1_loss: 0.6150 - val_loss: 1.1433 - val_categorical_accuracy: 0.5178 - val_f1_loss: 0.6112\n",
      "Epoch 13/50\n",
      "42/42 [==============================] - 1s 13ms/step - loss: 1.1513 - categorical_accuracy: 0.5084 - f1_loss: 0.6068 - val_loss: 1.1505 - val_categorical_accuracy: 0.5322 - val_f1_loss: 0.6188\n",
      "Epoch 14/50\n",
      "42/42 [==============================] - 1s 14ms/step - loss: 1.1445 - categorical_accuracy: 0.5052 - f1_loss: 0.6006 - val_loss: 1.1164 - val_categorical_accuracy: 0.5267 - val_f1_loss: 0.5979\n",
      "Epoch 15/50\n",
      "42/42 [==============================] - 1s 14ms/step - loss: 1.0919 - categorical_accuracy: 0.5303 - f1_loss: 0.5799 - val_loss: 1.1563 - val_categorical_accuracy: 0.5078 - val_f1_loss: 0.5999\n",
      "Epoch 16/50\n",
      "42/42 [==============================] - 1s 14ms/step - loss: 1.1003 - categorical_accuracy: 0.5319 - f1_loss: 0.5828 - val_loss: 1.1336 - val_categorical_accuracy: 0.5078 - val_f1_loss: 0.5958\n",
      "Epoch 17/50\n",
      "42/42 [==============================] - 1s 13ms/step - loss: 1.0842 - categorical_accuracy: 0.5330 - f1_loss: 0.5808 - val_loss: 1.0882 - val_categorical_accuracy: 0.5544 - val_f1_loss: 0.5870\n",
      "Epoch 18/50\n",
      "42/42 [==============================] - 1s 14ms/step - loss: 1.0897 - categorical_accuracy: 0.5295 - f1_loss: 0.5759 - val_loss: 1.0819 - val_categorical_accuracy: 0.5333 - val_f1_loss: 0.5774\n",
      "Epoch 19/50\n",
      "42/42 [==============================] - 1s 14ms/step - loss: 1.0693 - categorical_accuracy: 0.5306 - f1_loss: 0.5730 - val_loss: 1.0413 - val_categorical_accuracy: 0.5667 - val_f1_loss: 0.5700\n",
      "Epoch 20/50\n",
      "42/42 [==============================] - 1s 13ms/step - loss: 1.0996 - categorical_accuracy: 0.5330 - f1_loss: 0.5736 - val_loss: 1.0875 - val_categorical_accuracy: 0.5233 - val_f1_loss: 0.5738\n",
      "Epoch 21/50\n",
      "42/42 [==============================] - 1s 13ms/step - loss: 1.0292 - categorical_accuracy: 0.5669 - f1_loss: 0.5525 - val_loss: 1.0327 - val_categorical_accuracy: 0.5744 - val_f1_loss: 0.5583\n",
      "Epoch 22/50\n",
      "42/42 [==============================] - 1s 13ms/step - loss: 1.0452 - categorical_accuracy: 0.5568 - f1_loss: 0.5541 - val_loss: 1.0314 - val_categorical_accuracy: 0.5733 - val_f1_loss: 0.5561\n",
      "Epoch 23/50\n",
      "42/42 [==============================] - 1s 13ms/step - loss: 1.0142 - categorical_accuracy: 0.5715 - f1_loss: 0.5467 - val_loss: 1.0243 - val_categorical_accuracy: 0.5589 - val_f1_loss: 0.5575\n",
      "Epoch 24/50\n",
      "42/42 [==============================] - 1s 13ms/step - loss: 1.0080 - categorical_accuracy: 0.5809 - f1_loss: 0.5439 - val_loss: 0.9959 - val_categorical_accuracy: 0.5856 - val_f1_loss: 0.5376\n",
      "Epoch 25/50\n",
      "42/42 [==============================] - 1s 13ms/step - loss: 1.0196 - categorical_accuracy: 0.5655 - f1_loss: 0.5388 - val_loss: 1.0291 - val_categorical_accuracy: 0.5833 - val_f1_loss: 0.5556\n",
      "Epoch 26/50\n",
      "42/42 [==============================] - 1s 14ms/step - loss: 0.9782 - categorical_accuracy: 0.5902 - f1_loss: 0.5306 - val_loss: 1.0378 - val_categorical_accuracy: 0.5589 - val_f1_loss: 0.5512\n",
      "Epoch 27/50\n",
      "42/42 [==============================] - 1s 13ms/step - loss: 0.9790 - categorical_accuracy: 0.5933 - f1_loss: 0.5322 - val_loss: 0.9880 - val_categorical_accuracy: 0.5800 - val_f1_loss: 0.5341\n",
      "Epoch 28/50\n",
      "42/42 [==============================] - 1s 14ms/step - loss: 0.9839 - categorical_accuracy: 0.5816 - f1_loss: 0.5243 - val_loss: 0.9604 - val_categorical_accuracy: 0.6022 - val_f1_loss: 0.5282\n",
      "Epoch 29/50\n",
      "42/42 [==============================] - 1s 13ms/step - loss: 0.9174 - categorical_accuracy: 0.6142 - f1_loss: 0.5089 - val_loss: 0.9238 - val_categorical_accuracy: 0.6033 - val_f1_loss: 0.5117\n",
      "Epoch 30/50\n",
      "42/42 [==============================] - 1s 25ms/step - loss: 0.9485 - categorical_accuracy: 0.5795 - f1_loss: 0.5066 - val_loss: 0.9506 - val_categorical_accuracy: 0.5967 - val_f1_loss: 0.5254\n",
      "Epoch 31/50\n",
      "42/42 [==============================] - 1s 13ms/step - loss: 0.9530 - categorical_accuracy: 0.5825 - f1_loss: 0.5139 - val_loss: 0.9478 - val_categorical_accuracy: 0.5989 - val_f1_loss: 0.5245\n",
      "Epoch 32/50\n",
      "42/42 [==============================] - 1s 13ms/step - loss: 0.9478 - categorical_accuracy: 0.5927 - f1_loss: 0.5096 - val_loss: 0.9304 - val_categorical_accuracy: 0.6078 - val_f1_loss: 0.5104\n",
      "Epoch 33/50\n",
      "42/42 [==============================] - 1s 12ms/step - loss: 0.9136 - categorical_accuracy: 0.6187 - f1_loss: 0.4982 - val_loss: 0.9181 - val_categorical_accuracy: 0.6078 - val_f1_loss: 0.5069\n",
      "Epoch 34/50\n",
      "42/42 [==============================] - 1s 13ms/step - loss: 0.9183 - categorical_accuracy: 0.6228 - f1_loss: 0.4929 - val_loss: 0.8937 - val_categorical_accuracy: 0.6222 - val_f1_loss: 0.4940\n",
      "Epoch 35/50\n",
      "42/42 [==============================] - 1s 13ms/step - loss: 0.9393 - categorical_accuracy: 0.6092 - f1_loss: 0.4990 - val_loss: 0.8959 - val_categorical_accuracy: 0.6178 - val_f1_loss: 0.4896\n",
      "Epoch 36/50\n",
      "42/42 [==============================] - 1s 13ms/step - loss: 0.8699 - categorical_accuracy: 0.6338 - f1_loss: 0.4775 - val_loss: 0.9134 - val_categorical_accuracy: 0.6111 - val_f1_loss: 0.4913\n",
      "Epoch 37/50\n",
      "42/42 [==============================] - 1s 13ms/step - loss: 0.8788 - categorical_accuracy: 0.6459 - f1_loss: 0.4804 - val_loss: 0.8856 - val_categorical_accuracy: 0.6178 - val_f1_loss: 0.4907\n",
      "Epoch 38/50\n",
      "42/42 [==============================] - 1s 13ms/step - loss: 0.8548 - categorical_accuracy: 0.6409 - f1_loss: 0.4699 - val_loss: 0.9718 - val_categorical_accuracy: 0.5789 - val_f1_loss: 0.5227\n",
      "Epoch 39/50\n",
      "42/42 [==============================] - 1s 13ms/step - loss: 0.8784 - categorical_accuracy: 0.6382 - f1_loss: 0.4815 - val_loss: 0.8672 - val_categorical_accuracy: 0.6411 - val_f1_loss: 0.4805\n",
      "Epoch 40/50\n",
      "42/42 [==============================] - 1s 13ms/step - loss: 0.8358 - categorical_accuracy: 0.6594 - f1_loss: 0.4609 - val_loss: 0.9056 - val_categorical_accuracy: 0.6122 - val_f1_loss: 0.4930\n",
      "Epoch 41/50\n",
      "42/42 [==============================] - 1s 14ms/step - loss: 0.8492 - categorical_accuracy: 0.6222 - f1_loss: 0.4740 - val_loss: 0.8912 - val_categorical_accuracy: 0.6144 - val_f1_loss: 0.4787\n",
      "Epoch 42/50\n",
      "42/42 [==============================] - 1s 12ms/step - loss: 0.8627 - categorical_accuracy: 0.6426 - f1_loss: 0.4606 - val_loss: 0.8761 - val_categorical_accuracy: 0.6233 - val_f1_loss: 0.4745\n",
      "Epoch 43/50\n",
      "42/42 [==============================] - 1s 13ms/step - loss: 0.7864 - categorical_accuracy: 0.6877 - f1_loss: 0.4448 - val_loss: 0.8749 - val_categorical_accuracy: 0.6300 - val_f1_loss: 0.4821\n",
      "Epoch 44/50\n",
      "42/42 [==============================] - 1s 13ms/step - loss: 0.8580 - categorical_accuracy: 0.6324 - f1_loss: 0.4643 - val_loss: 0.8783 - val_categorical_accuracy: 0.6156 - val_f1_loss: 0.4734\n",
      "Epoch 45/50\n",
      "42/42 [==============================] - 1s 13ms/step - loss: 0.8699 - categorical_accuracy: 0.6438 - f1_loss: 0.4622 - val_loss: 0.8536 - val_categorical_accuracy: 0.6278 - val_f1_loss: 0.4651\n",
      "Epoch 46/50\n",
      "42/42 [==============================] - 1s 13ms/step - loss: 0.8151 - categorical_accuracy: 0.6591 - f1_loss: 0.4548 - val_loss: 0.8779 - val_categorical_accuracy: 0.6211 - val_f1_loss: 0.4663\n",
      "Epoch 47/50\n",
      "42/42 [==============================] - 1s 13ms/step - loss: 0.8016 - categorical_accuracy: 0.6726 - f1_loss: 0.4482 - val_loss: 0.8519 - val_categorical_accuracy: 0.6367 - val_f1_loss: 0.4695\n",
      "Epoch 48/50\n",
      "42/42 [==============================] - 1s 13ms/step - loss: 0.8203 - categorical_accuracy: 0.6490 - f1_loss: 0.4444 - val_loss: 0.8852 - val_categorical_accuracy: 0.6367 - val_f1_loss: 0.4762\n",
      "Epoch 49/50\n",
      "42/42 [==============================] - 1s 12ms/step - loss: 0.7998 - categorical_accuracy: 0.6698 - f1_loss: 0.4372 - val_loss: 0.8469 - val_categorical_accuracy: 0.6356 - val_f1_loss: 0.4585\n",
      "Epoch 50/50\n",
      "42/42 [==============================] - 1s 12ms/step - loss: 0.7833 - categorical_accuracy: 0.6770 - f1_loss: 0.4314 - val_loss: 0.8617 - val_categorical_accuracy: 0.6389 - val_f1_loss: 0.4546\n"
     ]
    }
   ],
   "source": [
    "cnnhistory_lstm_mfcc=model_mfcc_lstm.fit(X_traincnn_mfcc, y_onehot_train_mfcc, batch_size=50, epochs=50, validation_data=(X_testcnn_mfcc, y_onehot_test_mfcc), callbacks=[mcp_save, rlrop])"
   ]
  },
  {
   "cell_type": "code",
   "execution_count": 973,
   "id": "fa95adae",
   "metadata": {},
   "outputs": [
    {
     "name": "stdout",
     "output_type": "stream",
     "text": [
      "29/29 [==============================] - 0s 4ms/step - loss: 0.8617 - categorical_accuracy: 0.6389 - f1_loss: 0.4612\n",
      "Restored model, accuracy: 63.89%\n"
     ]
    }
   ],
   "source": [
    "loss, acc, f1_score = model_mfcc_lstm.evaluate(X_testcnn_mfcc, y_onehot_test_mfcc)\n",
    "print(\"Restored model, accuracy: {:5.2f}%\".format(100*acc))"
   ]
  },
  {
   "cell_type": "code",
   "execution_count": 974,
   "id": "6759bb0b",
   "metadata": {},
   "outputs": [
    {
     "data": {
      "image/png": "[encoded data removed]",
      "text/plain": [
       "<Figure size 432x288 with 1 Axes>"
      ]
     },
     "metadata": {
      "needs_background": "light"
     },
     "output_type": "display_data"
    },
    {
     "data": {
      "image/png": "[encoded data removed]",
      "text/plain": [
       "<Figure size 432x288 with 1 Axes>"
      ]
     },
     "metadata": {
      "needs_background": "light"
     },
     "output_type": "display_data"
    }
   ],
   "source": [
    "plt.plot(cnnhistory_lstm_mfcc.history['categorical_accuracy'])\n",
    "plt.plot(cnnhistory_lstm_mfcc.history['val_categorical_accuracy'])\n",
    "plt.title('model accuracy')\n",
    "plt.ylabel('accuracy')\n",
    "plt.xlabel('epoch')\n",
    "plt.legend(['train', 'test'], loc='upper left')\n",
    "plt.show()\n",
    "# summarize history for loss\n",
    "plt.plot(cnnhistory_lstm_mfcc.history['loss'])\n",
    "plt.plot(cnnhistory_lstm_mfcc.history['val_loss'])\n",
    "plt.title('model loss')\n",
    "plt.ylabel('loss')\n",
    "plt.xlabel('epoch')\n",
    "plt.legend(['train', 'test'], loc='upper left')\n",
    "plt.show()"
   ]
  },
  {
   "cell_type": "code",
   "execution_count": 1068,
   "id": "5138e364",
   "metadata": {},
   "outputs": [
    {
     "name": "stdout",
     "output_type": "stream",
     "text": [
      "Confusion matrix, without normalization\n",
      "[[ 77  27   3   0   7  16]\n",
      " [ 29  56  11   0  21  36]\n",
      " [ 15  20  41   0   4  64]\n",
      " [  0   0   0 158   0   0]\n",
      " [  2   0   0   0 156   7]\n",
      " [ 11  16  19   0  17  87]]\n"
     ]
    },
    {
     "data": {
      "image/png": "[encoded data removed]",
      "text/plain": [
       "<Figure size 432x288 with 2 Axes>"
      ]
     },
     "metadata": {
      "needs_background": "light"
     },
     "output_type": "display_data"
    }
   ],
   "source": [
    "y_pred = model_mfcc_lstm.predict(X_testcnn_mfcc)\n",
    "matrix = metrics.confusion_matrix(y_onehot_test_mfcc.argmax(axis=1), y_pred.argmax(axis=1))\n",
    "emo_keys = list(['ang', 'hap', 'sad', 'fea', 'sur', 'neu'])\n",
    "plot_confusion_matrix(matrix, classes=emo_keys)"
   ]
  },
  {
   "cell_type": "code",
   "execution_count": 1069,
   "id": "06ef7d37",
   "metadata": {
    "scrolled": false
   },
   "outputs": [
    {
     "name": "stdout",
     "output_type": "stream",
     "text": [
      "              precision    recall  f1-score   support\n",
      "\n",
      "         ang       0.57      0.59      0.58       130\n",
      "         hap       0.47      0.37      0.41       153\n",
      "         sad       0.55      0.28      0.38       144\n",
      "         fea       1.00      1.00      1.00       158\n",
      "         sur       0.76      0.95      0.84       165\n",
      "         neu       0.41      0.58      0.48       150\n",
      "\n",
      "    accuracy                           0.64       900\n",
      "   macro avg       0.63      0.63      0.62       900\n",
      "weighted avg       0.64      0.64      0.63       900\n",
      "\n"
     ]
    }
   ],
   "source": [
    "target_names = ['ang', 'hap', 'sad', 'fea', 'sur', 'neu']\n",
    "print(classification_report(y_onehot_test_mfcc.argmax(axis=1), y_pred.argmax(axis=1), target_names=target_names))"
   ]
  },
  {
   "cell_type": "code",
   "execution_count": 1070,
   "id": "cf88d2f0",
   "metadata": {},
   "outputs": [],
   "source": [
    "# indices and labels of all correctly recognized\n",
    "correct_indices = print_index(y_onehot_test_mfcc.argmax(axis=1), y_pred.argmax(axis=1))\n",
    "correct_labels = print_labels(y_onehot_test_mfcc.argmax(axis=1), y_pred.argmax(axis=1))\n",
    "\n",
    "# indices of correctly recognized AND clipped\n",
    "indices_of_clipped_recognized = []\n",
    "for i in range(len(X_testcnn_mfcc)):\n",
    "    for j in range(len(correct_indices)):\n",
    "        if(i == correct_indices[j]):\n",
    "            if(i in x_clipped):\n",
    "                indices_of_clipped_recognized.append(i)\n",
    "\n",
    "label_of_clipped_recognized = []\n",
    "# we get the label of correctly recognized clipped audios\n",
    "for i in range(len(y_onehot_test_mfcc.argmax(axis=1))):\n",
    "    if(i in indices_of_clipped_recognized):\n",
    "        label_of_clipped_recognized.append((y_onehot_test_mfcc.argmax(axis=1)[i]))\n",
    "\n",
    "dic_val_clipped = count_label(label_of_clipped_recognized)"
   ]
  },
  {
   "cell_type": "code",
   "execution_count": 1071,
   "id": "7ab2f92b",
   "metadata": {},
   "outputs": [
    {
     "data": {
      "text/plain": [
       "{'ang': 8, 'hap': 7, 'sad': 4, 'fea': 0, 'sur': 7, 'neu': 5}"
      ]
     },
     "execution_count": 1071,
     "metadata": {},
     "output_type": "execute_result"
    }
   ],
   "source": [
    "dic_val_clipped"
   ]
  },
  {
   "cell_type": "code",
   "execution_count": 1072,
   "id": "baa6bf5b",
   "metadata": {},
   "outputs": [
    {
     "data": {
      "text/plain": [
       "<BarContainer object of 6 artists>"
      ]
     },
     "execution_count": 1072,
     "metadata": {},
     "output_type": "execute_result"
    },
    {
     "data": {
      "image/png": "[encoded data removed]",
      "text/plain": [
       "<Figure size 432x288 with 1 Axes>"
      ]
     },
     "metadata": {
      "needs_background": "light"
     },
     "output_type": "display_data"
    }
   ],
   "source": [
    "plt.bar(list(dic_val_clipped.keys()), dic_val_clipped.values(), color='black')"
   ]
  },
  {
   "cell_type": "code",
   "execution_count": 1073,
   "id": "c4f97775",
   "metadata": {},
   "outputs": [
    {
     "name": "stdout",
     "output_type": "stream",
     "text": [
      "Number of recognized clipped test data: 31\n",
      "Total number of clipped test data: 40\n",
      "Ratio of recognized clipped test data: 0.775\n",
      "\n",
      "Anger: 8\n",
      "Happiness: 7\n",
      "Sadness: 4\n",
      "Surpise: 7\n",
      "Neutral: 5\n",
      "Fear: 0\n",
      "\n",
      "Anger: 8\n",
      "Happiness: 9\n",
      "Sadness: 10\n",
      "Surpise: 7\n",
      "Neutral: 6\n",
      "Fear: 0\n",
      "\n"
     ]
    }
   ],
   "source": [
    "clipped_ratio = len(indices_of_clipped_recognized) / len(x_clipped)\n",
    "print(\"Number of recognized clipped test data: {}\\nTotal number of clipped test data: {}\\nRatio of recognized clipped test data: {}\\n\".format(len(indices_of_clipped_recognized),len(x_clipped), clipped_ratio ))\n",
    "print(\"Anger: {}\\nHappiness: {}\\nSadness: {}\\nSurpise: {}\\nNeutral: {}\\nFear: {}\\n\".format(dic_val_clipped['ang'],dic_val_clipped['hap'],dic_val_clipped['sad'],dic_val_clipped['sur'],dic_val_clipped['neu'],dic_val_clipped['fea']))\n",
    "print(\"Anger: {}\\nHappiness: {}\\nSadness: {}\\nSurpise: {}\\nNeutral: {}\\nFear: {}\\n\".format(dic_true_val['ang'],dic_true_val['hap'],dic_true_val['sad'],dic_true_val['sur'],dic_true_val['neu'],dic_true_val['fea']))"
   ]
  },
  {
   "cell_type": "code",
   "execution_count": 1074,
   "id": "161569a7",
   "metadata": {},
   "outputs": [],
   "source": [
    "# we get the indices of correctly recognized un-clipped audios\n",
    "indices_of_unclipped_recognized = []\n",
    "for i in range(len(X_testcnn_mfcc)):\n",
    "    for j in range(len(correct_indices)):\n",
    "        if(i == correct_indices[j]):\n",
    "            if(i not in x_clipped):\n",
    "                indices_of_unclipped_recognized.append(i)\n",
    "\n",
    "label_of_unclipped_recognized = []\n",
    "# we get the label of correctly recognized unclipped audios\n",
    "for i in range(len(y_onehot_test_mfcc.argmax(axis=1))):\n",
    "    if(i in indices_of_unclipped_recognized):\n",
    "        label_of_unclipped_recognized.append((y_onehot_test_mfcc.argmax(axis=1)[i]))\n",
    "\n",
    "dic_val_unclipped = count_label(label_of_unclipped_recognized)"
   ]
  },
  {
   "cell_type": "code",
   "execution_count": 1075,
   "id": "461625f1",
   "metadata": {},
   "outputs": [
    {
     "data": {
      "text/plain": [
       "{'ang': 69, 'hap': 49, 'sad': 37, 'fea': 158, 'sur': 149, 'neu': 82}"
      ]
     },
     "execution_count": 1075,
     "metadata": {},
     "output_type": "execute_result"
    }
   ],
   "source": [
    "dic_val_unclipped"
   ]
  },
  {
   "cell_type": "code",
   "execution_count": 1076,
   "id": "dd17a55a",
   "metadata": {},
   "outputs": [
    {
     "data": {
      "text/plain": [
       "<BarContainer object of 6 artists>"
      ]
     },
     "execution_count": 1076,
     "metadata": {},
     "output_type": "execute_result"
    },
    {
     "data": {
      "image/png": "[encoded data removed]",
      "text/plain": [
       "<Figure size 432x288 with 1 Axes>"
      ]
     },
     "metadata": {
      "needs_background": "light"
     },
     "output_type": "display_data"
    }
   ],
   "source": [
    "plt.bar(list(dic_val_unclipped.keys()), dic_val_unclipped.values(), color='black')"
   ]
  },
  {
   "cell_type": "code",
   "execution_count": 1077,
   "id": "1ae9ff82",
   "metadata": {},
   "outputs": [
    {
     "name": "stdout",
     "output_type": "stream",
     "text": [
      "Number of recognized unclipped test data: 544\n",
      "Total number of unclipped test data: 860\n",
      "Ratio of recognized unclipped test data: 0.6325581395348837\n",
      "\n",
      "Anger: 69\n",
      "Happiness: 49\n",
      "Sadness: 37\n",
      "Surpise: 149\n",
      "Neutral: 82\n",
      "Fear: 158\n",
      "\n",
      "Anger: 122\n",
      "Happiness: 144\n",
      "Sadness: 134\n",
      "Surpise: 158\n",
      "Neutral: 144\n",
      "Fear: 158\n",
      "\n"
     ]
    }
   ],
   "source": [
    "unclipped_ratio = len(indices_of_unclipped_recognized) / len(x_unclipped)\n",
    "print(\"Number of recognized unclipped test data: {}\\nTotal number of unclipped test data: {}\\nRatio of recognized unclipped test data: {}\\n\".format(len(indices_of_unclipped_recognized),len(x_unclipped), unclipped_ratio ))\n",
    "print(\"Anger: {}\\nHappiness: {}\\nSadness: {}\\nSurpise: {}\\nNeutral: {}\\nFear: {}\\n\".format(dic_val_unclipped['ang'],dic_val_unclipped['hap'],dic_val_unclipped['sad'],dic_val_unclipped['sur'],dic_val_unclipped['neu'],dic_val_unclipped['fea']))\n",
    "print(\"Anger: {}\\nHappiness: {}\\nSadness: {}\\nSurpise: {}\\nNeutral: {}\\nFear: {}\\n\".format(dic_true_val_unclipped['ang'],dic_true_val_unclipped['hap'],dic_true_val_unclipped['sad'],dic_true_val_unclipped['sur'],dic_true_val_unclipped['neu'],dic_true_val_unclipped['fea']))"
   ]
  },
  {
   "cell_type": "markdown",
   "id": "82726760",
   "metadata": {},
   "source": [
    "### MEL\n",
    "\n",
    "We use Mel Spectrogram as input features."
   ]
  },
  {
   "cell_type": "code",
   "execution_count": 706,
   "id": "692ca2c5",
   "metadata": {},
   "outputs": [],
   "source": [
    "model_mel_lstm = Sequential()\n",
    "\n",
    "#LFLB - Local Feature Learning Block\n",
    "\n",
    "model_mel_lstm.add(Conv1D(32, 6,padding='same',input_shape=(128,1)))        #1\n",
    "model_mel_lstm.add(Activation('relu'))\n",
    "model_mel_lstm.add(MaxPooling1D(pool_size=(5)))\n",
    "model_mel_lstm.add(BatchNormalization()) #\n",
    "model_mel_lstm.add(Dropout(0.25))\n",
    "\n",
    "model_mel_lstm.add(Conv1D(64, 6,padding='same',))                           #2\n",
    "model_mel_lstm.add(Activation('relu'))\n",
    "model_mel_lstm.add(MaxPooling1D(pool_size=(5)))\n",
    "model_mel_lstm.add(Dropout(0.25))\n",
    "\n",
    "model_mel_lstm.add(Conv1D(128, 6,padding='same',))                           #3\n",
    "model_mel_lstm.add(Activation('relu'))\n",
    "model_mel_lstm.add(Dropout(0.25))\n",
    "\n",
    "model_mel_lstm.add(Conv1D(256, 6,padding='same',))                           #4 ...\n",
    "model_mel_lstm.add(Activation('relu'))\n",
    "model_mel_lstm.add(Dropout(0.25))\n",
    "\n",
    "# LSTM\n",
    "model_mel_lstm.add(LSTM(64,return_sequences=True))\n",
    "model_mel_lstm.add(SeqSelfAttention(attention_activation='tanh'))\n",
    "model_mel_lstm.add(LSTM(32,return_sequences=False))\n",
    "\n",
    "# FC\n",
    "model_mel_lstm.add(Dense(units=6, activation='softmax'))"
   ]
  },
  {
   "cell_type": "code",
   "execution_count": 707,
   "id": "064071e6",
   "metadata": {},
   "outputs": [
    {
     "name": "stdout",
     "output_type": "stream",
     "text": [
      "Model: \"sequential_99\"\n",
      "_________________________________________________________________\n",
      "Layer (type)                 Output Shape              Param #   \n",
      "=================================================================\n",
      "conv1d_175 (Conv1D)          (None, 128, 32)           224       \n",
      "_________________________________________________________________\n",
      "activation_216 (Activation)  (None, 128, 32)           0         \n",
      "_________________________________________________________________\n",
      "max_pooling1d_114 (MaxPoolin (None, 25, 32)            0         \n",
      "_________________________________________________________________\n",
      "batch_normalization_107 (Bat (None, 25, 32)            128       \n",
      "_________________________________________________________________\n",
      "dropout_254 (Dropout)        (None, 25, 32)            0         \n",
      "_________________________________________________________________\n",
      "conv1d_176 (Conv1D)          (None, 25, 64)            12352     \n",
      "_________________________________________________________________\n",
      "activation_217 (Activation)  (None, 25, 64)            0         \n",
      "_________________________________________________________________\n",
      "max_pooling1d_115 (MaxPoolin (None, 5, 64)             0         \n",
      "_________________________________________________________________\n",
      "dropout_255 (Dropout)        (None, 5, 64)             0         \n",
      "_________________________________________________________________\n",
      "conv1d_177 (Conv1D)          (None, 5, 128)            49280     \n",
      "_________________________________________________________________\n",
      "activation_218 (Activation)  (None, 5, 128)            0         \n",
      "_________________________________________________________________\n",
      "dropout_256 (Dropout)        (None, 5, 128)            0         \n",
      "_________________________________________________________________\n",
      "conv1d_178 (Conv1D)          (None, 5, 256)            196864    \n",
      "_________________________________________________________________\n",
      "activation_219 (Activation)  (None, 5, 256)            0         \n",
      "_________________________________________________________________\n",
      "dropout_257 (Dropout)        (None, 5, 256)            0         \n",
      "_________________________________________________________________\n",
      "lstm_26 (LSTM)               (None, 5, 64)             82176     \n",
      "_________________________________________________________________\n",
      "seq_self_attention_13 (SeqSe (None, None, 64)          4161      \n",
      "_________________________________________________________________\n",
      "lstm_27 (LSTM)               (None, 32)                12416     \n",
      "_________________________________________________________________\n",
      "dense_182 (Dense)            (None, 6)                 198       \n",
      "=================================================================\n",
      "Total params: 357,799\n",
      "Trainable params: 357,735\n",
      "Non-trainable params: 64\n",
      "_________________________________________________________________\n"
     ]
    }
   ],
   "source": [
    "model_mel_lstm.summary()"
   ]
  },
  {
   "cell_type": "code",
   "execution_count": 708,
   "id": "8e0526d1",
   "metadata": {},
   "outputs": [],
   "source": [
    "model_mel_lstm.compile(loss='categorical_crossentropy',\n",
    "              optimizer=opt,\n",
    "              metrics=['categorical_accuracy', f1_loss])"
   ]
  },
  {
   "cell_type": "code",
   "execution_count": 709,
   "id": "2218c52e",
   "metadata": {},
   "outputs": [
    {
     "name": "stdout",
     "output_type": "stream",
     "text": [
      "Epoch 1/60\n",
      "42/42 [==============================] - 7s 59ms/step - loss: 1.7839 - categorical_accuracy: 0.2088 - f1_loss: 0.8312 - val_loss: 1.7454 - val_categorical_accuracy: 0.2067 - val_f1_loss: 0.8197\n",
      "Epoch 2/60\n",
      "42/42 [==============================] - 1s 35ms/step - loss: 1.6857 - categorical_accuracy: 0.2713 - f1_loss: 0.8100 - val_loss: 1.7135 - val_categorical_accuracy: 0.2411 - val_f1_loss: 0.8045\n",
      "Epoch 3/60\n",
      "42/42 [==============================] - 2s 39ms/step - loss: 1.6435 - categorical_accuracy: 0.3158 - f1_loss: 0.7928 - val_loss: 1.5572 - val_categorical_accuracy: 0.3789 - val_f1_loss: 0.7591\n",
      "Epoch 4/60\n",
      "42/42 [==============================] - 1s 35ms/step - loss: 1.5207 - categorical_accuracy: 0.3651 - f1_loss: 0.7474 - val_loss: 1.3381 - val_categorical_accuracy: 0.4167 - val_f1_loss: 0.6735\n",
      "Epoch 5/60\n",
      "42/42 [==============================] - 2s 38ms/step - loss: 1.3881 - categorical_accuracy: 0.4176 - f1_loss: 0.6903 - val_loss: 1.3228 - val_categorical_accuracy: 0.4111 - val_f1_loss: 0.6659\n",
      "Epoch 6/60\n",
      "42/42 [==============================] - 2s 45ms/step - loss: 1.3682 - categorical_accuracy: 0.4031 - f1_loss: 0.6826 - val_loss: 1.2794 - val_categorical_accuracy: 0.4056 - val_f1_loss: 0.6491\n",
      "Epoch 7/60\n",
      "42/42 [==============================] - 3s 60ms/step - loss: 1.3169 - categorical_accuracy: 0.4408 - f1_loss: 0.6560 - val_loss: 1.2615 - val_categorical_accuracy: 0.4144 - val_f1_loss: 0.6429\n",
      "Epoch 8/60\n",
      "42/42 [==============================] - 3s 61ms/step - loss: 1.2880 - categorical_accuracy: 0.4448 - f1_loss: 0.6520 - val_loss: 1.2586 - val_categorical_accuracy: 0.4356 - val_f1_loss: 0.6437\n",
      "Epoch 9/60\n",
      "42/42 [==============================] - 2s 58ms/step - loss: 1.2589 - categorical_accuracy: 0.4414 - f1_loss: 0.6429 - val_loss: 1.2670 - val_categorical_accuracy: 0.4200 - val_f1_loss: 0.6387\n",
      "Epoch 10/60\n",
      "42/42 [==============================] - 3s 65ms/step - loss: 1.2500 - categorical_accuracy: 0.4561 - f1_loss: 0.6335 - val_loss: 1.2580 - val_categorical_accuracy: 0.4289 - val_f1_loss: 0.6362\n",
      "Epoch 11/60\n",
      "42/42 [==============================] - 2s 54ms/step - loss: 1.2407 - categorical_accuracy: 0.4681 - f1_loss: 0.6306 - val_loss: 1.2395 - val_categorical_accuracy: 0.4300 - val_f1_loss: 0.6350\n",
      "Epoch 12/60\n",
      "42/42 [==============================] - 2s 45ms/step - loss: 1.2559 - categorical_accuracy: 0.4456 - f1_loss: 0.6348 - val_loss: 1.2309 - val_categorical_accuracy: 0.4367 - val_f1_loss: 0.6294\n",
      "Epoch 13/60\n",
      "42/42 [==============================] - 2s 39ms/step - loss: 1.2275 - categorical_accuracy: 0.4728 - f1_loss: 0.6248 - val_loss: 1.2386 - val_categorical_accuracy: 0.4400 - val_f1_loss: 0.6305\n",
      "Epoch 14/60\n",
      "42/42 [==============================] - 2s 37ms/step - loss: 1.1908 - categorical_accuracy: 0.4779 - f1_loss: 0.6267 - val_loss: 1.2337 - val_categorical_accuracy: 0.4544 - val_f1_loss: 0.6277\n",
      "Epoch 15/60\n",
      "42/42 [==============================] - 2s 38ms/step - loss: 1.2262 - categorical_accuracy: 0.4861 - f1_loss: 0.6252 - val_loss: 1.2288 - val_categorical_accuracy: 0.4511 - val_f1_loss: 0.6237\n",
      "Epoch 16/60\n",
      "42/42 [==============================] - 2s 40ms/step - loss: 1.2341 - categorical_accuracy: 0.4706 - f1_loss: 0.6241 - val_loss: 1.2054 - val_categorical_accuracy: 0.4611 - val_f1_loss: 0.6192\n",
      "Epoch 17/60\n",
      "42/42 [==============================] - 2s 36ms/step - loss: 1.1956 - categorical_accuracy: 0.5043 - f1_loss: 0.6141 - val_loss: 1.1986 - val_categorical_accuracy: 0.4911 - val_f1_loss: 0.6147\n",
      "Epoch 18/60\n",
      "42/42 [==============================] - 2s 40ms/step - loss: 1.1898 - categorical_accuracy: 0.4841 - f1_loss: 0.6137 - val_loss: 1.1797 - val_categorical_accuracy: 0.4900 - val_f1_loss: 0.6098\n",
      "Epoch 19/60\n",
      "42/42 [==============================] - 2s 38ms/step - loss: 1.1824 - categorical_accuracy: 0.4905 - f1_loss: 0.6120 - val_loss: 1.1707 - val_categorical_accuracy: 0.5033 - val_f1_loss: 0.6043\n",
      "Epoch 20/60\n",
      "42/42 [==============================] - 2s 38ms/step - loss: 1.1550 - categorical_accuracy: 0.5059 - f1_loss: 0.6013 - val_loss: 1.1518 - val_categorical_accuracy: 0.5122 - val_f1_loss: 0.6004\n",
      "Epoch 21/60\n",
      "42/42 [==============================] - 2s 39ms/step - loss: 1.1302 - categorical_accuracy: 0.5206 - f1_loss: 0.5911 - val_loss: 1.1527 - val_categorical_accuracy: 0.5011 - val_f1_loss: 0.6002\n",
      "Epoch 22/60\n",
      "42/42 [==============================] - 1s 36ms/step - loss: 1.1179 - categorical_accuracy: 0.5171 - f1_loss: 0.5953 - val_loss: 1.1372 - val_categorical_accuracy: 0.5289 - val_f1_loss: 0.5923\n",
      "Epoch 23/60\n",
      "42/42 [==============================] - 2s 37ms/step - loss: 1.1688 - categorical_accuracy: 0.4962 - f1_loss: 0.5956 - val_loss: 1.1302 - val_categorical_accuracy: 0.5178 - val_f1_loss: 0.5923\n",
      "Epoch 24/60\n",
      "42/42 [==============================] - 1s 34ms/step - loss: 1.1130 - categorical_accuracy: 0.5224 - f1_loss: 0.5862 - val_loss: 1.0929 - val_categorical_accuracy: 0.5256 - val_f1_loss: 0.5818\n",
      "Epoch 25/60\n",
      "42/42 [==============================] - 2s 38ms/step - loss: 1.1224 - categorical_accuracy: 0.5234 - f1_loss: 0.5829 - val_loss: 1.0850 - val_categorical_accuracy: 0.5367 - val_f1_loss: 0.5700\n",
      "Epoch 26/60\n",
      "42/42 [==============================] - 1s 34ms/step - loss: 1.0893 - categorical_accuracy: 0.5387 - f1_loss: 0.5678 - val_loss: 1.1126 - val_categorical_accuracy: 0.5144 - val_f1_loss: 0.5743\n",
      "Epoch 27/60\n",
      "42/42 [==============================] - 2s 38ms/step - loss: 1.0814 - categorical_accuracy: 0.5492 - f1_loss: 0.5679 - val_loss: 1.0741 - val_categorical_accuracy: 0.5567 - val_f1_loss: 0.5658\n",
      "Epoch 28/60\n",
      "42/42 [==============================] - 1s 35ms/step - loss: 1.0561 - categorical_accuracy: 0.5753 - f1_loss: 0.5604 - val_loss: 1.0680 - val_categorical_accuracy: 0.5511 - val_f1_loss: 0.5586\n",
      "Epoch 29/60\n",
      "42/42 [==============================] - 1s 33ms/step - loss: 1.0453 - categorical_accuracy: 0.5560 - f1_loss: 0.5542 - val_loss: 1.0513 - val_categorical_accuracy: 0.5589 - val_f1_loss: 0.5610\n",
      "Epoch 30/60\n",
      "42/42 [==============================] - 2s 47ms/step - loss: 1.0402 - categorical_accuracy: 0.5685 - f1_loss: 0.5572 - val_loss: 1.0328 - val_categorical_accuracy: 0.5711 - val_f1_loss: 0.5455\n",
      "Epoch 31/60\n",
      "42/42 [==============================] - 2s 39ms/step - loss: 1.0476 - categorical_accuracy: 0.5759 - f1_loss: 0.5486 - val_loss: 1.0284 - val_categorical_accuracy: 0.5722 - val_f1_loss: 0.5476\n",
      "Epoch 32/60\n",
      "42/42 [==============================] - 1s 36ms/step - loss: 1.0223 - categorical_accuracy: 0.5650 - f1_loss: 0.5428 - val_loss: 0.9944 - val_categorical_accuracy: 0.5789 - val_f1_loss: 0.5362\n",
      "Epoch 33/60\n",
      "42/42 [==============================] - 2s 43ms/step - loss: 1.0548 - categorical_accuracy: 0.5487 - f1_loss: 0.5509 - val_loss: 0.9884 - val_categorical_accuracy: 0.5789 - val_f1_loss: 0.5376\n",
      "Epoch 34/60\n",
      "42/42 [==============================] - 2s 40ms/step - loss: 1.0252 - categorical_accuracy: 0.5921 - f1_loss: 0.5382 - val_loss: 0.9884 - val_categorical_accuracy: 0.5878 - val_f1_loss: 0.5246\n",
      "Epoch 35/60\n",
      "42/42 [==============================] - 2s 36ms/step - loss: 1.0199 - categorical_accuracy: 0.5877 - f1_loss: 0.5311 - val_loss: 0.9778 - val_categorical_accuracy: 0.5922 - val_f1_loss: 0.5225\n",
      "Epoch 36/60\n",
      "42/42 [==============================] - 1s 34ms/step - loss: 0.9856 - categorical_accuracy: 0.5829 - f1_loss: 0.5176 - val_loss: 0.9636 - val_categorical_accuracy: 0.5878 - val_f1_loss: 0.5135\n",
      "Epoch 37/60\n",
      "42/42 [==============================] - 1s 34ms/step - loss: 0.9713 - categorical_accuracy: 0.5814 - f1_loss: 0.5187 - val_loss: 0.9717 - val_categorical_accuracy: 0.5911 - val_f1_loss: 0.5129\n",
      "Epoch 38/60\n",
      "42/42 [==============================] - 1s 36ms/step - loss: 0.9861 - categorical_accuracy: 0.6019 - f1_loss: 0.5200 - val_loss: 0.9556 - val_categorical_accuracy: 0.5944 - val_f1_loss: 0.5149\n",
      "Epoch 39/60\n",
      "42/42 [==============================] - 2s 37ms/step - loss: 0.9743 - categorical_accuracy: 0.5826 - f1_loss: 0.5190 - val_loss: 0.9549 - val_categorical_accuracy: 0.5867 - val_f1_loss: 0.5102\n",
      "Epoch 40/60\n",
      "42/42 [==============================] - 2s 36ms/step - loss: 0.9482 - categorical_accuracy: 0.6133 - f1_loss: 0.5014 - val_loss: 0.9604 - val_categorical_accuracy: 0.6000 - val_f1_loss: 0.5079\n",
      "Epoch 41/60\n",
      "42/42 [==============================] - 2s 36ms/step - loss: 0.9536 - categorical_accuracy: 0.5937 - f1_loss: 0.5038 - val_loss: 0.9251 - val_categorical_accuracy: 0.6056 - val_f1_loss: 0.5036\n",
      "Epoch 42/60\n",
      "42/42 [==============================] - 2s 39ms/step - loss: 0.9281 - categorical_accuracy: 0.6125 - f1_loss: 0.4993 - val_loss: 0.9326 - val_categorical_accuracy: 0.5911 - val_f1_loss: 0.4994\n",
      "Epoch 43/60\n",
      "42/42 [==============================] - 2s 43ms/step - loss: 0.9240 - categorical_accuracy: 0.6256 - f1_loss: 0.4996 - val_loss: 0.9405 - val_categorical_accuracy: 0.6056 - val_f1_loss: 0.4990\n",
      "Epoch 44/60\n",
      "42/42 [==============================] - 2s 45ms/step - loss: 0.9352 - categorical_accuracy: 0.6311 - f1_loss: 0.5016 - val_loss: 0.9214 - val_categorical_accuracy: 0.6078 - val_f1_loss: 0.4906\n",
      "Epoch 45/60\n",
      "42/42 [==============================] - 2s 41ms/step - loss: 0.9159 - categorical_accuracy: 0.6206 - f1_loss: 0.4918 - val_loss: 0.9166 - val_categorical_accuracy: 0.6144 - val_f1_loss: 0.4889\n",
      "Epoch 46/60\n",
      "42/42 [==============================] - 2s 41ms/step - loss: 0.9268 - categorical_accuracy: 0.6213 - f1_loss: 0.4841 - val_loss: 0.8952 - val_categorical_accuracy: 0.6267 - val_f1_loss: 0.4832\n",
      "Epoch 47/60\n",
      "42/42 [==============================] - 2s 46ms/step - loss: 0.9630 - categorical_accuracy: 0.6081 - f1_loss: 0.5015 - val_loss: 0.8941 - val_categorical_accuracy: 0.6244 - val_f1_loss: 0.4852\n",
      "Epoch 48/60\n",
      "42/42 [==============================] - 2s 44ms/step - loss: 0.9427 - categorical_accuracy: 0.6272 - f1_loss: 0.5004 - val_loss: 0.9006 - val_categorical_accuracy: 0.6400 - val_f1_loss: 0.4821\n",
      "Epoch 49/60\n",
      "42/42 [==============================] - 2s 40ms/step - loss: 0.9012 - categorical_accuracy: 0.6245 - f1_loss: 0.4815 - val_loss: 0.9444 - val_categorical_accuracy: 0.6033 - val_f1_loss: 0.4932\n",
      "Epoch 50/60\n",
      "42/42 [==============================] - 1s 31ms/step - loss: 0.8823 - categorical_accuracy: 0.6478 - f1_loss: 0.4765 - val_loss: 0.9214 - val_categorical_accuracy: 0.6133 - val_f1_loss: 0.4826\n",
      "Epoch 51/60\n",
      "42/42 [==============================] - 1s 31ms/step - loss: 0.8729 - categorical_accuracy: 0.6506 - f1_loss: 0.4731 - val_loss: 0.8910 - val_categorical_accuracy: 0.6067 - val_f1_loss: 0.4755\n",
      "Epoch 52/60\n",
      "42/42 [==============================] - 1s 31ms/step - loss: 0.8776 - categorical_accuracy: 0.6317 - f1_loss: 0.4671 - val_loss: 0.8762 - val_categorical_accuracy: 0.6378 - val_f1_loss: 0.4701\n",
      "Epoch 53/60\n",
      "42/42 [==============================] - 1s 28ms/step - loss: 0.9011 - categorical_accuracy: 0.6270 - f1_loss: 0.4752 - val_loss: 0.8685 - val_categorical_accuracy: 0.6356 - val_f1_loss: 0.4675\n",
      "Epoch 54/60\n",
      "42/42 [==============================] - 1s 30ms/step - loss: 0.8515 - categorical_accuracy: 0.6318 - f1_loss: 0.4675 - val_loss: 0.8746 - val_categorical_accuracy: 0.6244 - val_f1_loss: 0.4718\n",
      "Epoch 55/60\n",
      "42/42 [==============================] - 1s 27ms/step - loss: 0.8780 - categorical_accuracy: 0.6548 - f1_loss: 0.4699 - val_loss: 0.8880 - val_categorical_accuracy: 0.6267 - val_f1_loss: 0.4641\n",
      "Epoch 56/60\n",
      "42/42 [==============================] - 1s 27ms/step - loss: 0.8417 - categorical_accuracy: 0.6595 - f1_loss: 0.4597 - val_loss: 0.8809 - val_categorical_accuracy: 0.6411 - val_f1_loss: 0.4681\n",
      "Epoch 57/60\n",
      "42/42 [==============================] - 1s 30ms/step - loss: 0.8606 - categorical_accuracy: 0.6464 - f1_loss: 0.4606 - val_loss: 0.8738 - val_categorical_accuracy: 0.6300 - val_f1_loss: 0.4668\n",
      "Epoch 58/60\n",
      "42/42 [==============================] - 1s 30ms/step - loss: 0.8353 - categorical_accuracy: 0.6560 - f1_loss: 0.4528 - val_loss: 0.8727 - val_categorical_accuracy: 0.6300 - val_f1_loss: 0.4597\n",
      "Epoch 59/60\n",
      "42/42 [==============================] - 1s 32ms/step - loss: 0.8156 - categorical_accuracy: 0.6746 - f1_loss: 0.4455 - val_loss: 0.8687 - val_categorical_accuracy: 0.6333 - val_f1_loss: 0.4619\n",
      "Epoch 60/60\n",
      "42/42 [==============================] - 1s 29ms/step - loss: 0.8232 - categorical_accuracy: 0.6776 - f1_loss: 0.4465 - val_loss: 0.8791 - val_categorical_accuracy: 0.6400 - val_f1_loss: 0.4570\n"
     ]
    }
   ],
   "source": [
    "cnnhistory_lstm_mel=model_mel_lstm.fit(X_traincnn_mel, y_onehot_train_mel, batch_size=50, epochs=60, validation_data=(X_testcnn_mel, y_onehot_test_mel), callbacks=[mcp_save, rlrop])"
   ]
  },
  {
   "cell_type": "code",
   "execution_count": 986,
   "id": "b7c71a4e",
   "metadata": {},
   "outputs": [
    {
     "name": "stdout",
     "output_type": "stream",
     "text": [
      "29/29 [==============================] - 0s 9ms/step - loss: 0.8791 - categorical_accuracy: 0.6400 - f1_loss: 0.4683\n",
      "Restored model, accuracy: 64.00%\n"
     ]
    }
   ],
   "source": [
    "loss, acc, f1_score = model_mel_lstm.evaluate(X_testcnn_mel, y_onehot_test_mel)\n",
    "print(\"Restored model, accuracy: {:5.2f}%\".format(100*acc))"
   ]
  },
  {
   "cell_type": "code",
   "execution_count": 987,
   "id": "2aa1a048",
   "metadata": {},
   "outputs": [
    {
     "data": {
      "image/png": "[encoded data removed]",
      "text/plain": [
       "<Figure size 432x288 with 1 Axes>"
      ]
     },
     "metadata": {
      "needs_background": "light"
     },
     "output_type": "display_data"
    },
    {
     "data": {
      "image/png": "[encoded data removed]",
      "text/plain": [
       "<Figure size 432x288 with 1 Axes>"
      ]
     },
     "metadata": {
      "needs_background": "light"
     },
     "output_type": "display_data"
    }
   ],
   "source": [
    "plt.plot(cnnhistory_lstm_mel.history['categorical_accuracy'])\n",
    "plt.plot(cnnhistory_lstm_mel.history['val_categorical_accuracy'])\n",
    "plt.title('model accuracy')\n",
    "plt.ylabel('accuracy')\n",
    "plt.xlabel('epoch')\n",
    "plt.legend(['train', 'test'], loc='upper left')\n",
    "plt.show()\n",
    "# summarize history for loss\n",
    "plt.plot(cnnhistory_lstm_mel.history['loss'])\n",
    "plt.plot(cnnhistory_lstm_mel.history['val_loss'])\n",
    "plt.title('model loss')\n",
    "plt.ylabel('loss')\n",
    "plt.xlabel('epoch')\n",
    "plt.legend(['train', 'test'], loc='upper left')\n",
    "plt.show()"
   ]
  },
  {
   "cell_type": "code",
   "execution_count": 1078,
   "id": "b60852b3",
   "metadata": {},
   "outputs": [
    {
     "name": "stdout",
     "output_type": "stream",
     "text": [
      "Confusion matrix, without normalization\n",
      "[[103  10   7   1   4   5]\n",
      " [ 58  41  23   0  11  20]\n",
      " [ 28  20  51   1  14  30]\n",
      " [  0   0   0 158   0   0]\n",
      " [  0   0   0   0 165   0]\n",
      " [ 30  10  40   0  12  58]]\n"
     ]
    },
    {
     "data": {
      "image/png": "[encoded data removed]",
      "text/plain": [
       "<Figure size 432x288 with 2 Axes>"
      ]
     },
     "metadata": {
      "needs_background": "light"
     },
     "output_type": "display_data"
    }
   ],
   "source": [
    "y_pred = model_mel_lstm.predict(X_testcnn_mel)\n",
    "matrix = metrics.confusion_matrix(y_onehot_test_mel.argmax(axis=1), y_pred.argmax(axis=1))\n",
    "emo_keys = list(['ang', 'hap', 'sad', 'fea', 'sur', 'neu'])\n",
    "plot_confusion_matrix(matrix, classes=emo_keys)"
   ]
  },
  {
   "cell_type": "code",
   "execution_count": 1079,
   "id": "c62c8871",
   "metadata": {
    "scrolled": false
   },
   "outputs": [
    {
     "name": "stdout",
     "output_type": "stream",
     "text": [
      "              precision    recall  f1-score   support\n",
      "\n",
      "         ang       0.47      0.79      0.59       130\n",
      "         hap       0.51      0.27      0.35       153\n",
      "         sad       0.42      0.35      0.38       144\n",
      "         fea       0.99      1.00      0.99       158\n",
      "         sur       0.80      1.00      0.89       165\n",
      "         neu       0.51      0.39      0.44       150\n",
      "\n",
      "    accuracy                           0.64       900\n",
      "   macro avg       0.62      0.63      0.61       900\n",
      "weighted avg       0.63      0.64      0.62       900\n",
      "\n"
     ]
    }
   ],
   "source": [
    "target_names = ['ang', 'hap', 'sad', 'fea', 'sur', 'neu']\n",
    "print(classification_report(y_onehot_test_mel.argmax(axis=1), y_pred.argmax(axis=1), target_names=target_names))"
   ]
  },
  {
   "cell_type": "code",
   "execution_count": 1080,
   "id": "42d1eacc",
   "metadata": {},
   "outputs": [],
   "source": [
    "# indices and labels of all correctly recognized\n",
    "correct_indices = print_index(y_onehot_test_mel.argmax(axis=1), y_pred.argmax(axis=1))\n",
    "correct_labels = print_labels(y_onehot_test_mel.argmax(axis=1), y_pred.argmax(axis=1))\n",
    "\n",
    "# indices of correctly recognized AND clipped\n",
    "indices_of_clipped_recognized = []\n",
    "for i in range(len(X_testcnn_mel)):\n",
    "    for j in range(len(correct_indices)):\n",
    "        if(i == correct_indices[j]):\n",
    "            if(i in x_clipped):\n",
    "                indices_of_clipped_recognized.append(i)\n",
    "\n",
    "label_of_clipped_recognized = []\n",
    "# we get the label of correctly recognized clipped audios\n",
    "for i in range(len(y_onehot_test_mel.argmax(axis=1))):\n",
    "    if(i in indices_of_clipped_recognized):\n",
    "        label_of_clipped_recognized.append((y_onehot_test_mel.argmax(axis=1)[i]))\n",
    "\n",
    "dic_val_clipped = count_label(label_of_clipped_recognized)"
   ]
  },
  {
   "cell_type": "code",
   "execution_count": 1081,
   "id": "a7ce4d01",
   "metadata": {},
   "outputs": [
    {
     "data": {
      "text/plain": [
       "{'ang': 8, 'hap': 2, 'sad': 4, 'fea': 0, 'sur': 7, 'neu': 3}"
      ]
     },
     "execution_count": 1081,
     "metadata": {},
     "output_type": "execute_result"
    }
   ],
   "source": [
    "dic_val_clipped"
   ]
  },
  {
   "cell_type": "code",
   "execution_count": 1082,
   "id": "e4274182",
   "metadata": {},
   "outputs": [
    {
     "data": {
      "text/plain": [
       "<BarContainer object of 6 artists>"
      ]
     },
     "execution_count": 1082,
     "metadata": {},
     "output_type": "execute_result"
    },
    {
     "data": {
      "image/png": "[encoded data removed]",
      "text/plain": [
       "<Figure size 432x288 with 1 Axes>"
      ]
     },
     "metadata": {
      "needs_background": "light"
     },
     "output_type": "display_data"
    }
   ],
   "source": [
    "plt.bar(list(dic_val_clipped.keys()), dic_val_clipped.values(), color='black')"
   ]
  },
  {
   "cell_type": "code",
   "execution_count": 1083,
   "id": "84392144",
   "metadata": {},
   "outputs": [
    {
     "name": "stdout",
     "output_type": "stream",
     "text": [
      "Number of recognized clipped test data: 24\n",
      "Total number of clipped test data: 40\n",
      "Ratio of recognized clipped test data: 0.6\n",
      "\n",
      "Anger: 8\n",
      "Happiness: 2\n",
      "Sadness: 4\n",
      "Surpise: 7\n",
      "Neutral: 3\n",
      "Fear: 0\n",
      "\n",
      "Anger: 8\n",
      "Happiness: 9\n",
      "Sadness: 10\n",
      "Surpise: 7\n",
      "Neutral: 6\n",
      "Fear: 0\n",
      "\n"
     ]
    }
   ],
   "source": [
    "clipped_ratio = len(indices_of_clipped_recognized) / len(x_clipped)\n",
    "print(\"Number of recognized clipped test data: {}\\nTotal number of clipped test data: {}\\nRatio of recognized clipped test data: {}\\n\".format(len(indices_of_clipped_recognized),len(x_clipped), clipped_ratio ))\n",
    "print(\"Anger: {}\\nHappiness: {}\\nSadness: {}\\nSurpise: {}\\nNeutral: {}\\nFear: {}\\n\".format(dic_val_clipped['ang'],dic_val_clipped['hap'],dic_val_clipped['sad'],dic_val_clipped['sur'],dic_val_clipped['neu'],dic_val_clipped['fea']))\n",
    "print(\"Anger: {}\\nHappiness: {}\\nSadness: {}\\nSurpise: {}\\nNeutral: {}\\nFear: {}\\n\".format(dic_true_val['ang'],dic_true_val['hap'],dic_true_val['sad'],dic_true_val['sur'],dic_true_val['neu'],dic_true_val['fea']))"
   ]
  },
  {
   "cell_type": "code",
   "execution_count": 1084,
   "id": "0cb00bad",
   "metadata": {},
   "outputs": [],
   "source": [
    "# we get the indices of correctly recognized un-clipped audios\n",
    "indices_of_unclipped_recognized = []\n",
    "for i in range(len(X_testcnn_mel)):\n",
    "    for j in range(len(correct_indices)):\n",
    "        if(i == correct_indices[j]):\n",
    "            if(i not in x_clipped):\n",
    "                indices_of_unclipped_recognized.append(i)\n",
    "\n",
    "label_of_unclipped_recognized = []\n",
    "# we get the label of correctly recognized unclipped audios\n",
    "for i in range(len(y_onehot_test_mel.argmax(axis=1))):\n",
    "    if(i in indices_of_unclipped_recognized):\n",
    "        label_of_unclipped_recognized.append((y_onehot_test_mel.argmax(axis=1)[i]))\n",
    "\n",
    "dic_val_unclipped = count_label(label_of_unclipped_recognized)"
   ]
  },
  {
   "cell_type": "code",
   "execution_count": 1085,
   "id": "7cf9d3ab",
   "metadata": {},
   "outputs": [
    {
     "data": {
      "text/plain": [
       "{'ang': 95, 'hap': 39, 'sad': 47, 'fea': 158, 'sur': 158, 'neu': 55}"
      ]
     },
     "execution_count": 1085,
     "metadata": {},
     "output_type": "execute_result"
    }
   ],
   "source": [
    "dic_val_unclipped"
   ]
  },
  {
   "cell_type": "code",
   "execution_count": 1086,
   "id": "c9fd44d3",
   "metadata": {},
   "outputs": [
    {
     "data": {
      "text/plain": [
       "<BarContainer object of 6 artists>"
      ]
     },
     "execution_count": 1086,
     "metadata": {},
     "output_type": "execute_result"
    },
    {
     "data": {
      "image/png": "[encoded data removed]",
      "text/plain": [
       "<Figure size 432x288 with 1 Axes>"
      ]
     },
     "metadata": {
      "needs_background": "light"
     },
     "output_type": "display_data"
    }
   ],
   "source": [
    "plt.bar(list(dic_val_unclipped.keys()), dic_val_unclipped.values(), color='black')"
   ]
  },
  {
   "cell_type": "code",
   "execution_count": 1087,
   "id": "005e7ea4",
   "metadata": {},
   "outputs": [
    {
     "name": "stdout",
     "output_type": "stream",
     "text": [
      "Number of recognized unclipped test data: 552\n",
      "Total number of unclipped test data: 860\n",
      "Ratio of recognized unclipped test data: 0.641860465116279\n",
      "\n",
      "Anger: 95\n",
      "Happiness: 39\n",
      "Sadness: 47\n",
      "Surpise: 158\n",
      "Neutral: 55\n",
      "Fear: 158\n",
      "\n",
      "Anger: 122\n",
      "Happiness: 144\n",
      "Sadness: 134\n",
      "Surpise: 158\n",
      "Neutral: 144\n",
      "Fear: 158\n",
      "\n"
     ]
    }
   ],
   "source": [
    "unclipped_ratio = len(indices_of_unclipped_recognized) / len(x_unclipped)\n",
    "print(\"Number of recognized unclipped test data: {}\\nTotal number of unclipped test data: {}\\nRatio of recognized unclipped test data: {}\\n\".format(len(indices_of_unclipped_recognized),len(x_unclipped), unclipped_ratio ))\n",
    "print(\"Anger: {}\\nHappiness: {}\\nSadness: {}\\nSurpise: {}\\nNeutral: {}\\nFear: {}\\n\".format(dic_val_unclipped['ang'],dic_val_unclipped['hap'],dic_val_unclipped['sad'],dic_val_unclipped['sur'],dic_val_unclipped['neu'],dic_val_unclipped['fea']))\n",
    "print(\"Anger: {}\\nHappiness: {}\\nSadness: {}\\nSurpise: {}\\nNeutral: {}\\nFear: {}\\n\".format(dic_true_val_unclipped['ang'],dic_true_val_unclipped['hap'],dic_true_val_unclipped['sad'],dic_true_val_unclipped['sur'],dic_true_val_unclipped['neu'],dic_true_val_unclipped['fea']))"
   ]
  },
  {
   "cell_type": "markdown",
   "id": "fed4a2c8",
   "metadata": {},
   "source": [
    "## BASE CNN"
   ]
  },
  {
   "cell_type": "markdown",
   "id": "4c1e943a",
   "metadata": {},
   "source": [
    "#### MFCC"
   ]
  },
  {
   "cell_type": "code",
   "execution_count": 478,
   "id": "31972a94",
   "metadata": {},
   "outputs": [],
   "source": [
    "model_mfcc_base = Sequential()\n",
    "\n",
    "model_mfcc_base.add(Conv1D(32, 6,padding='same',input_shape=(40,1)))        #1\n",
    "model_mfcc_base.add(Activation('relu'))\n",
    "model_mfcc_base.add(MaxPooling1D(pool_size=(5)))\n",
    "model_mfcc_base.add(Dropout(0.01))\n",
    "\n",
    "model_mfcc_base.add(Conv1D(128, 6,padding='same',))                           #2\n",
    "model_mfcc_base.add(Activation('relu'))\n",
    "#model_mfcc_base.add(MaxPooling1D(pool_size=(5)))\n",
    "model_mfcc_base.add(Dropout(0.01))\n",
    "\n",
    "model_mfcc_base.add(GlobalMaxPooling1D())\n",
    "model_mfcc_base.add(Dense(6))                                                 #5\n",
    "model_mfcc_base.add(Activation('softmax'))"
   ]
  },
  {
   "cell_type": "code",
   "execution_count": 479,
   "id": "10b31d74",
   "metadata": {},
   "outputs": [
    {
     "name": "stdout",
     "output_type": "stream",
     "text": [
      "Model: \"sequential_73\"\n",
      "_________________________________________________________________\n",
      "Layer (type)                 Output Shape              Param #   \n",
      "=================================================================\n",
      "conv1d_127 (Conv1D)          (None, 40, 32)            224       \n",
      "_________________________________________________________________\n",
      "activation_164 (Activation)  (None, 40, 32)            0         \n",
      "_________________________________________________________________\n",
      "max_pooling1d_93 (MaxPooling (None, 8, 32)             0         \n",
      "_________________________________________________________________\n",
      "dropout_171 (Dropout)        (None, 8, 32)             0         \n",
      "_________________________________________________________________\n",
      "conv1d_128 (Conv1D)          (None, 8, 128)            24704     \n",
      "_________________________________________________________________\n",
      "activation_165 (Activation)  (None, 8, 128)            0         \n",
      "_________________________________________________________________\n",
      "dropout_172 (Dropout)        (None, 8, 128)            0         \n",
      "_________________________________________________________________\n",
      "global_max_pooling1d_41 (Glo (None, 128)               0         \n",
      "_________________________________________________________________\n",
      "dense_121 (Dense)            (None, 6)                 774       \n",
      "_________________________________________________________________\n",
      "activation_166 (Activation)  (None, 6)                 0         \n",
      "=================================================================\n",
      "Total params: 25,702\n",
      "Trainable params: 25,702\n",
      "Non-trainable params: 0\n",
      "_________________________________________________________________\n"
     ]
    }
   ],
   "source": [
    "model_mfcc_base.summary()"
   ]
  },
  {
   "cell_type": "code",
   "execution_count": 480,
   "id": "288ae9c4",
   "metadata": {},
   "outputs": [],
   "source": [
    "model_mfcc_base.compile(loss='categorical_crossentropy',\n",
    "              optimizer=opt,\n",
    "              metrics=['categorical_accuracy', f1_loss])"
   ]
  },
  {
   "cell_type": "code",
   "execution_count": 481,
   "id": "dd05fd3e",
   "metadata": {},
   "outputs": [
    {
     "name": "stdout",
     "output_type": "stream",
     "text": [
      "Epoch 1/100\n",
      "42/42 [==============================] - 2s 21ms/step - loss: 16.1315 - categorical_accuracy: 0.1943 - f1_loss: 0.9100 - val_loss: 3.3241 - val_categorical_accuracy: 0.3167 - val_f1_loss: 0.7720\n",
      "Epoch 2/100\n",
      "42/42 [==============================] - 0s 12ms/step - loss: 2.6137 - categorical_accuracy: 0.3192 - f1_loss: 0.7455 - val_loss: 1.5833 - val_categorical_accuracy: 0.3500 - val_f1_loss: 0.7205\n",
      "Epoch 3/100\n",
      "42/42 [==============================] - 0s 11ms/step - loss: 1.9486 - categorical_accuracy: 0.3546 - f1_loss: 0.6984 - val_loss: 1.7679 - val_categorical_accuracy: 0.4267 - val_f1_loss: 0.6994\n",
      "Epoch 4/100\n",
      "42/42 [==============================] - 1s 13ms/step - loss: 1.8309 - categorical_accuracy: 0.3812 - f1_loss: 0.6996 - val_loss: 1.7848 - val_categorical_accuracy: 0.3456 - val_f1_loss: 0.7139\n",
      "Epoch 5/100\n",
      "42/42 [==============================] - 0s 11ms/step - loss: 1.9485 - categorical_accuracy: 0.3633 - f1_loss: 0.7049 - val_loss: 1.4644 - val_categorical_accuracy: 0.4322 - val_f1_loss: 0.6622\n",
      "Epoch 6/100\n",
      "42/42 [==============================] - 1s 13ms/step - loss: 1.8253 - categorical_accuracy: 0.3873 - f1_loss: 0.6785 - val_loss: 1.3102 - val_categorical_accuracy: 0.4733 - val_f1_loss: 0.6342\n",
      "Epoch 7/100\n",
      "42/42 [==============================] - 0s 11ms/step - loss: 1.5402 - categorical_accuracy: 0.4042 - f1_loss: 0.6619 - val_loss: 1.4416 - val_categorical_accuracy: 0.4611 - val_f1_loss: 0.6475\n",
      "Epoch 8/100\n",
      "42/42 [==============================] - 0s 10ms/step - loss: 1.4630 - categorical_accuracy: 0.4523 - f1_loss: 0.6386 - val_loss: 1.4263 - val_categorical_accuracy: 0.4211 - val_f1_loss: 0.6579\n",
      "Epoch 9/100\n",
      "42/42 [==============================] - 0s 12ms/step - loss: 1.3785 - categorical_accuracy: 0.4666 - f1_loss: 0.6296 - val_loss: 1.2254 - val_categorical_accuracy: 0.5156 - val_f1_loss: 0.6153\n",
      "Epoch 10/100\n",
      "42/42 [==============================] - 1s 12ms/step - loss: 1.3397 - categorical_accuracy: 0.4888 - f1_loss: 0.6160 - val_loss: 1.2837 - val_categorical_accuracy: 0.5022 - val_f1_loss: 0.6202\n",
      "Epoch 11/100\n",
      "42/42 [==============================] - 1s 13ms/step - loss: 1.3215 - categorical_accuracy: 0.4993 - f1_loss: 0.6118 - val_loss: 1.2517 - val_categorical_accuracy: 0.4833 - val_f1_loss: 0.6217\n",
      "Epoch 12/100\n",
      "42/42 [==============================] - 0s 12ms/step - loss: 1.3124 - categorical_accuracy: 0.4735 - f1_loss: 0.6216 - val_loss: 1.1853 - val_categorical_accuracy: 0.4978 - val_f1_loss: 0.6034\n",
      "Epoch 13/100\n",
      "42/42 [==============================] - 1s 12ms/step - loss: 1.2600 - categorical_accuracy: 0.5140 - f1_loss: 0.6042 - val_loss: 1.1314 - val_categorical_accuracy: 0.5367 - val_f1_loss: 0.5974\n",
      "Epoch 14/100\n",
      "42/42 [==============================] - 1s 12ms/step - loss: 1.2875 - categorical_accuracy: 0.5048 - f1_loss: 0.6066 - val_loss: 1.2488 - val_categorical_accuracy: 0.5078 - val_f1_loss: 0.6111\n",
      "Epoch 15/100\n",
      "42/42 [==============================] - 1s 36ms/step - loss: 1.2229 - categorical_accuracy: 0.5068 - f1_loss: 0.5974 - val_loss: 1.2352 - val_categorical_accuracy: 0.5311 - val_f1_loss: 0.6055\n",
      "Epoch 16/100\n",
      "42/42 [==============================] - 1s 12ms/step - loss: 1.2972 - categorical_accuracy: 0.4941 - f1_loss: 0.6140 - val_loss: 1.1746 - val_categorical_accuracy: 0.5378 - val_f1_loss: 0.5854\n",
      "Epoch 17/100\n",
      "42/42 [==============================] - 0s 11ms/step - loss: 1.2062 - categorical_accuracy: 0.5257 - f1_loss: 0.5808 - val_loss: 1.1029 - val_categorical_accuracy: 0.5533 - val_f1_loss: 0.5794\n",
      "Epoch 18/100\n",
      "42/42 [==============================] - 0s 12ms/step - loss: 1.1330 - categorical_accuracy: 0.5449 - f1_loss: 0.5771 - val_loss: 1.1453 - val_categorical_accuracy: 0.5744 - val_f1_loss: 0.5783\n",
      "Epoch 19/100\n",
      "42/42 [==============================] - 1s 12ms/step - loss: 1.1571 - categorical_accuracy: 0.5388 - f1_loss: 0.5744 - val_loss: 1.1509 - val_categorical_accuracy: 0.5578 - val_f1_loss: 0.5840\n",
      "Epoch 20/100\n",
      "42/42 [==============================] - 1s 13ms/step - loss: 1.1725 - categorical_accuracy: 0.5418 - f1_loss: 0.5747 - val_loss: 1.1809 - val_categorical_accuracy: 0.5233 - val_f1_loss: 0.5819\n",
      "Epoch 21/100\n",
      "42/42 [==============================] - 1s 12ms/step - loss: 1.1892 - categorical_accuracy: 0.5253 - f1_loss: 0.5806 - val_loss: 1.2648 - val_categorical_accuracy: 0.4967 - val_f1_loss: 0.6028\n",
      "Epoch 22/100\n",
      "42/42 [==============================] - 1s 13ms/step - loss: 1.1593 - categorical_accuracy: 0.5412 - f1_loss: 0.5628 - val_loss: 1.0515 - val_categorical_accuracy: 0.5822 - val_f1_loss: 0.5594\n",
      "Epoch 23/100\n",
      "42/42 [==============================] - 0s 11ms/step - loss: 1.0994 - categorical_accuracy: 0.5663 - f1_loss: 0.5542 - val_loss: 1.0824 - val_categorical_accuracy: 0.5644 - val_f1_loss: 0.5636\n",
      "Epoch 24/100\n",
      "42/42 [==============================] - 1s 14ms/step - loss: 1.1411 - categorical_accuracy: 0.5509 - f1_loss: 0.5637 - val_loss: 1.0642 - val_categorical_accuracy: 0.5978 - val_f1_loss: 0.5566\n",
      "Epoch 25/100\n",
      "42/42 [==============================] - 0s 11ms/step - loss: 1.0743 - categorical_accuracy: 0.5829 - f1_loss: 0.5489 - val_loss: 1.0925 - val_categorical_accuracy: 0.5800 - val_f1_loss: 0.5618\n",
      "Epoch 26/100\n",
      "42/42 [==============================] - 0s 12ms/step - loss: 1.0593 - categorical_accuracy: 0.5929 - f1_loss: 0.5543 - val_loss: 1.0341 - val_categorical_accuracy: 0.6100 - val_f1_loss: 0.5546\n",
      "Epoch 27/100\n",
      "42/42 [==============================] - 1s 13ms/step - loss: 1.0428 - categorical_accuracy: 0.5895 - f1_loss: 0.5382 - val_loss: 1.1054 - val_categorical_accuracy: 0.5711 - val_f1_loss: 0.5587\n",
      "Epoch 28/100\n",
      "42/42 [==============================] - 1s 12ms/step - loss: 1.0500 - categorical_accuracy: 0.5839 - f1_loss: 0.5438 - val_loss: 1.0157 - val_categorical_accuracy: 0.6033 - val_f1_loss: 0.5434\n",
      "Epoch 29/100\n",
      "42/42 [==============================] - 0s 12ms/step - loss: 1.0625 - categorical_accuracy: 0.5891 - f1_loss: 0.5396 - val_loss: 1.0687 - val_categorical_accuracy: 0.5778 - val_f1_loss: 0.5395\n",
      "Epoch 30/100\n",
      "42/42 [==============================] - 1s 14ms/step - loss: 1.0300 - categorical_accuracy: 0.6164 - f1_loss: 0.5297 - val_loss: 1.0466 - val_categorical_accuracy: 0.6111 - val_f1_loss: 0.5382\n",
      "Epoch 31/100\n",
      "42/42 [==============================] - 0s 12ms/step - loss: 1.0431 - categorical_accuracy: 0.6041 - f1_loss: 0.5307 - val_loss: 1.0163 - val_categorical_accuracy: 0.6056 - val_f1_loss: 0.5419\n",
      "Epoch 32/100\n",
      "42/42 [==============================] - 0s 12ms/step - loss: 1.0103 - categorical_accuracy: 0.6225 - f1_loss: 0.5276 - val_loss: 1.0001 - val_categorical_accuracy: 0.6089 - val_f1_loss: 0.5333\n",
      "Epoch 33/100\n",
      "42/42 [==============================] - 1s 13ms/step - loss: 0.9761 - categorical_accuracy: 0.6080 - f1_loss: 0.5224 - val_loss: 1.0165 - val_categorical_accuracy: 0.6056 - val_f1_loss: 0.5284\n",
      "Epoch 34/100\n",
      "42/42 [==============================] - 1s 12ms/step - loss: 0.9459 - categorical_accuracy: 0.6308 - f1_loss: 0.5063 - val_loss: 1.1651 - val_categorical_accuracy: 0.5222 - val_f1_loss: 0.5696\n",
      "Epoch 35/100\n",
      "42/42 [==============================] - 0s 11ms/step - loss: 1.0357 - categorical_accuracy: 0.5877 - f1_loss: 0.5255 - val_loss: 1.0175 - val_categorical_accuracy: 0.6067 - val_f1_loss: 0.5313\n",
      "Epoch 36/100\n",
      "42/42 [==============================] - 0s 12ms/step - loss: 1.0012 - categorical_accuracy: 0.6059 - f1_loss: 0.5193 - val_loss: 1.0354 - val_categorical_accuracy: 0.6100 - val_f1_loss: 0.5262\n",
      "Epoch 37/100\n",
      "42/42 [==============================] - 1s 12ms/step - loss: 0.9454 - categorical_accuracy: 0.6315 - f1_loss: 0.5040 - val_loss: 1.0507 - val_categorical_accuracy: 0.6067 - val_f1_loss: 0.5378\n",
      "Epoch 38/100\n",
      "42/42 [==============================] - 0s 10ms/step - loss: 1.0214 - categorical_accuracy: 0.5875 - f1_loss: 0.5265 - val_loss: 0.9993 - val_categorical_accuracy: 0.5989 - val_f1_loss: 0.5255\n",
      "Epoch 39/100\n",
      "42/42 [==============================] - 1s 15ms/step - loss: 0.9683 - categorical_accuracy: 0.6187 - f1_loss: 0.5109 - val_loss: 0.9548 - val_categorical_accuracy: 0.6100 - val_f1_loss: 0.5143\n",
      "Epoch 40/100\n",
      "42/42 [==============================] - 0s 11ms/step - loss: 0.9258 - categorical_accuracy: 0.6451 - f1_loss: 0.4926 - val_loss: 1.1094 - val_categorical_accuracy: 0.5056 - val_f1_loss: 0.5610\n",
      "Epoch 41/100\n",
      "42/42 [==============================] - 0s 12ms/step - loss: 0.9370 - categorical_accuracy: 0.6274 - f1_loss: 0.4975 - val_loss: 0.9743 - val_categorical_accuracy: 0.6011 - val_f1_loss: 0.5168\n",
      "Epoch 42/100\n",
      "42/42 [==============================] - 0s 11ms/step - loss: 0.9237 - categorical_accuracy: 0.6398 - f1_loss: 0.4972 - val_loss: 0.9643 - val_categorical_accuracy: 0.6211 - val_f1_loss: 0.5101\n",
      "Epoch 43/100\n",
      "42/42 [==============================] - 0s 11ms/step - loss: 0.9517 - categorical_accuracy: 0.6367 - f1_loss: 0.4986 - val_loss: 0.9980 - val_categorical_accuracy: 0.6056 - val_f1_loss: 0.5276\n",
      "Epoch 44/100\n",
      "42/42 [==============================] - 0s 11ms/step - loss: 0.9503 - categorical_accuracy: 0.6159 - f1_loss: 0.5079 - val_loss: 0.9754 - val_categorical_accuracy: 0.6256 - val_f1_loss: 0.5076\n",
      "Epoch 45/100\n",
      "42/42 [==============================] - 1s 12ms/step - loss: 0.9250 - categorical_accuracy: 0.6381 - f1_loss: 0.4907 - val_loss: 0.9512 - val_categorical_accuracy: 0.5978 - val_f1_loss: 0.5110\n",
      "Epoch 46/100\n",
      "42/42 [==============================] - 0s 11ms/step - loss: 0.9039 - categorical_accuracy: 0.6414 - f1_loss: 0.4840 - val_loss: 0.9362 - val_categorical_accuracy: 0.6211 - val_f1_loss: 0.5066\n",
      "Epoch 47/100\n",
      "42/42 [==============================] - 0s 11ms/step - loss: 0.8508 - categorical_accuracy: 0.6786 - f1_loss: 0.4760 - val_loss: 0.9737 - val_categorical_accuracy: 0.6367 - val_f1_loss: 0.5086\n",
      "Epoch 48/100\n",
      "42/42 [==============================] - 0s 11ms/step - loss: 0.8788 - categorical_accuracy: 0.6640 - f1_loss: 0.4764 - val_loss: 0.9848 - val_categorical_accuracy: 0.6256 - val_f1_loss: 0.5063\n",
      "Epoch 49/100\n",
      "42/42 [==============================] - 0s 11ms/step - loss: 0.8799 - categorical_accuracy: 0.6421 - f1_loss: 0.4762 - val_loss: 0.9256 - val_categorical_accuracy: 0.6267 - val_f1_loss: 0.4969\n",
      "Epoch 50/100\n",
      "42/42 [==============================] - 0s 12ms/step - loss: 0.9093 - categorical_accuracy: 0.6360 - f1_loss: 0.4770 - val_loss: 0.9850 - val_categorical_accuracy: 0.6044 - val_f1_loss: 0.5166\n",
      "Epoch 51/100\n",
      "42/42 [==============================] - 0s 11ms/step - loss: 0.8851 - categorical_accuracy: 0.6575 - f1_loss: 0.4838 - val_loss: 0.8901 - val_categorical_accuracy: 0.6333 - val_f1_loss: 0.4909\n",
      "Epoch 52/100\n",
      "42/42 [==============================] - 1s 12ms/step - loss: 0.8747 - categorical_accuracy: 0.6565 - f1_loss: 0.4719 - val_loss: 0.9520 - val_categorical_accuracy: 0.6133 - val_f1_loss: 0.5059\n",
      "Epoch 53/100\n",
      "42/42 [==============================] - 0s 12ms/step - loss: 0.8747 - categorical_accuracy: 0.6478 - f1_loss: 0.4707 - val_loss: 0.8988 - val_categorical_accuracy: 0.6333 - val_f1_loss: 0.4900\n",
      "Epoch 54/100\n",
      "42/42 [==============================] - 0s 10ms/step - loss: 0.8613 - categorical_accuracy: 0.6640 - f1_loss: 0.4700 - val_loss: 0.8968 - val_categorical_accuracy: 0.6500 - val_f1_loss: 0.4887\n",
      "Epoch 55/100\n",
      "42/42 [==============================] - 0s 10ms/step - loss: 0.8359 - categorical_accuracy: 0.6785 - f1_loss: 0.4638 - val_loss: 0.9028 - val_categorical_accuracy: 0.6422 - val_f1_loss: 0.4827\n",
      "Epoch 56/100\n",
      "42/42 [==============================] - 1s 12ms/step - loss: 0.8407 - categorical_accuracy: 0.6786 - f1_loss: 0.4653 - val_loss: 0.9546 - val_categorical_accuracy: 0.6144 - val_f1_loss: 0.4921\n",
      "Epoch 57/100\n",
      "42/42 [==============================] - 0s 12ms/step - loss: 0.8606 - categorical_accuracy: 0.6588 - f1_loss: 0.4695 - val_loss: 0.9104 - val_categorical_accuracy: 0.6500 - val_f1_loss: 0.4810\n",
      "Epoch 58/100\n",
      "42/42 [==============================] - 1s 12ms/step - loss: 0.7909 - categorical_accuracy: 0.6997 - f1_loss: 0.4477 - val_loss: 0.9318 - val_categorical_accuracy: 0.6144 - val_f1_loss: 0.4947\n",
      "Epoch 59/100\n",
      "42/42 [==============================] - 1s 13ms/step - loss: 0.8568 - categorical_accuracy: 0.6653 - f1_loss: 0.4682 - val_loss: 0.9064 - val_categorical_accuracy: 0.6322 - val_f1_loss: 0.4794\n",
      "Epoch 60/100\n",
      "42/42 [==============================] - 0s 12ms/step - loss: 0.8513 - categorical_accuracy: 0.6650 - f1_loss: 0.4602 - val_loss: 0.9211 - val_categorical_accuracy: 0.6222 - val_f1_loss: 0.4923\n",
      "Epoch 61/100\n",
      "42/42 [==============================] - 1s 32ms/step - loss: 0.8278 - categorical_accuracy: 0.6688 - f1_loss: 0.4534 - val_loss: 0.9339 - val_categorical_accuracy: 0.6300 - val_f1_loss: 0.4818\n",
      "Epoch 62/100\n",
      "42/42 [==============================] - 1s 14ms/step - loss: 0.8686 - categorical_accuracy: 0.6678 - f1_loss: 0.4617 - val_loss: 0.9212 - val_categorical_accuracy: 0.6389 - val_f1_loss: 0.4729\n",
      "Epoch 63/100\n",
      "42/42 [==============================] - 1s 12ms/step - loss: 0.8164 - categorical_accuracy: 0.6747 - f1_loss: 0.4458 - val_loss: 0.8998 - val_categorical_accuracy: 0.6467 - val_f1_loss: 0.4750\n",
      "Epoch 64/100\n",
      "42/42 [==============================] - 1s 12ms/step - loss: 0.8001 - categorical_accuracy: 0.6924 - f1_loss: 0.4388 - val_loss: 0.9156 - val_categorical_accuracy: 0.6133 - val_f1_loss: 0.4827\n",
      "Epoch 65/100\n",
      "42/42 [==============================] - 0s 11ms/step - loss: 0.8078 - categorical_accuracy: 0.7029 - f1_loss: 0.4421 - val_loss: 0.8819 - val_categorical_accuracy: 0.6500 - val_f1_loss: 0.4679\n",
      "Epoch 66/100\n",
      "42/42 [==============================] - 1s 12ms/step - loss: 0.8098 - categorical_accuracy: 0.6861 - f1_loss: 0.4382 - val_loss: 0.9043 - val_categorical_accuracy: 0.6500 - val_f1_loss: 0.4841\n",
      "Epoch 67/100\n",
      "42/42 [==============================] - 1s 14ms/step - loss: 0.8232 - categorical_accuracy: 0.6811 - f1_loss: 0.4404 - val_loss: 0.8784 - val_categorical_accuracy: 0.6522 - val_f1_loss: 0.4769\n",
      "Epoch 68/100\n",
      "42/42 [==============================] - 1s 12ms/step - loss: 0.8123 - categorical_accuracy: 0.6962 - f1_loss: 0.4356 - val_loss: 0.8974 - val_categorical_accuracy: 0.6522 - val_f1_loss: 0.4724\n",
      "Epoch 69/100\n",
      "42/42 [==============================] - 0s 12ms/step - loss: 0.7853 - categorical_accuracy: 0.6836 - f1_loss: 0.4359 - val_loss: 0.8960 - val_categorical_accuracy: 0.6478 - val_f1_loss: 0.4637\n",
      "Epoch 70/100\n",
      "42/42 [==============================] - 1s 12ms/step - loss: 0.7969 - categorical_accuracy: 0.7016 - f1_loss: 0.4312 - val_loss: 0.8370 - val_categorical_accuracy: 0.6611 - val_f1_loss: 0.4604\n",
      "Epoch 71/100\n",
      "42/42 [==============================] - 1s 13ms/step - loss: 0.7333 - categorical_accuracy: 0.7159 - f1_loss: 0.4225 - val_loss: 0.8904 - val_categorical_accuracy: 0.6444 - val_f1_loss: 0.4746\n",
      "Epoch 72/100\n",
      "42/42 [==============================] - 1s 14ms/step - loss: 0.7645 - categorical_accuracy: 0.7163 - f1_loss: 0.4254 - val_loss: 0.8533 - val_categorical_accuracy: 0.6556 - val_f1_loss: 0.4641\n",
      "Epoch 73/100\n",
      "42/42 [==============================] - 1s 12ms/step - loss: 0.7665 - categorical_accuracy: 0.7139 - f1_loss: 0.4218 - val_loss: 0.9779 - val_categorical_accuracy: 0.6400 - val_f1_loss: 0.4789\n",
      "Epoch 74/100\n",
      "42/42 [==============================] - 1s 13ms/step - loss: 0.7995 - categorical_accuracy: 0.7008 - f1_loss: 0.4284 - val_loss: 0.8564 - val_categorical_accuracy: 0.6433 - val_f1_loss: 0.4629\n",
      "Epoch 75/100\n",
      "42/42 [==============================] - 1s 13ms/step - loss: 0.7361 - categorical_accuracy: 0.7212 - f1_loss: 0.4172 - val_loss: 0.8409 - val_categorical_accuracy: 0.6722 - val_f1_loss: 0.4627\n",
      "Epoch 76/100\n",
      "42/42 [==============================] - 0s 11ms/step - loss: 0.7573 - categorical_accuracy: 0.6993 - f1_loss: 0.4312 - val_loss: 0.9061 - val_categorical_accuracy: 0.6700 - val_f1_loss: 0.4557\n",
      "Epoch 77/100\n",
      "42/42 [==============================] - 0s 11ms/step - loss: 0.7644 - categorical_accuracy: 0.7138 - f1_loss: 0.4180 - val_loss: 0.8811 - val_categorical_accuracy: 0.6711 - val_f1_loss: 0.4530\n",
      "Epoch 78/100\n",
      "42/42 [==============================] - 1s 12ms/step - loss: 0.7334 - categorical_accuracy: 0.7168 - f1_loss: 0.4145 - val_loss: 0.8323 - val_categorical_accuracy: 0.6700 - val_f1_loss: 0.4516\n",
      "Epoch 79/100\n",
      "42/42 [==============================] - 0s 11ms/step - loss: 0.7266 - categorical_accuracy: 0.7289 - f1_loss: 0.4143 - val_loss: 0.8907 - val_categorical_accuracy: 0.6444 - val_f1_loss: 0.4565\n",
      "Epoch 80/100\n",
      "42/42 [==============================] - 1s 12ms/step - loss: 0.7742 - categorical_accuracy: 0.6946 - f1_loss: 0.4170 - val_loss: 0.8507 - val_categorical_accuracy: 0.6700 - val_f1_loss: 0.4567\n",
      "Epoch 81/100\n",
      "42/42 [==============================] - 1s 12ms/step - loss: 0.7424 - categorical_accuracy: 0.7124 - f1_loss: 0.4103 - val_loss: 0.8836 - val_categorical_accuracy: 0.6522 - val_f1_loss: 0.4537\n",
      "Epoch 82/100\n",
      "42/42 [==============================] - 0s 11ms/step - loss: 0.7182 - categorical_accuracy: 0.7387 - f1_loss: 0.3999 - val_loss: 0.8163 - val_categorical_accuracy: 0.6922 - val_f1_loss: 0.4451\n",
      "Epoch 83/100\n",
      "42/42 [==============================] - 0s 12ms/step - loss: 0.7038 - categorical_accuracy: 0.7328 - f1_loss: 0.4081 - val_loss: 0.8278 - val_categorical_accuracy: 0.6578 - val_f1_loss: 0.4484\n",
      "Epoch 84/100\n",
      "42/42 [==============================] - 1s 12ms/step - loss: 0.7104 - categorical_accuracy: 0.7351 - f1_loss: 0.4052 - val_loss: 0.8639 - val_categorical_accuracy: 0.6478 - val_f1_loss: 0.4564\n",
      "Epoch 85/100\n",
      "42/42 [==============================] - 0s 11ms/step - loss: 0.7080 - categorical_accuracy: 0.7223 - f1_loss: 0.4009 - val_loss: 0.8665 - val_categorical_accuracy: 0.6822 - val_f1_loss: 0.4504\n",
      "Epoch 86/100\n",
      "42/42 [==============================] - 1s 14ms/step - loss: 0.7489 - categorical_accuracy: 0.7162 - f1_loss: 0.4012 - val_loss: 0.8356 - val_categorical_accuracy: 0.6589 - val_f1_loss: 0.4504\n",
      "Epoch 87/100\n",
      "42/42 [==============================] - 0s 12ms/step - loss: 0.7200 - categorical_accuracy: 0.7224 - f1_loss: 0.4048 - val_loss: 0.8261 - val_categorical_accuracy: 0.6722 - val_f1_loss: 0.4412\n",
      "Epoch 88/100\n",
      "42/42 [==============================] - 1s 13ms/step - loss: 0.6908 - categorical_accuracy: 0.7326 - f1_loss: 0.3900 - val_loss: 0.8406 - val_categorical_accuracy: 0.6400 - val_f1_loss: 0.4531\n",
      "Epoch 89/100\n",
      "42/42 [==============================] - 0s 11ms/step - loss: 0.6951 - categorical_accuracy: 0.7343 - f1_loss: 0.3935 - val_loss: 0.8273 - val_categorical_accuracy: 0.6789 - val_f1_loss: 0.4440\n",
      "Epoch 90/100\n",
      "42/42 [==============================] - 1s 14ms/step - loss: 0.6822 - categorical_accuracy: 0.7526 - f1_loss: 0.3938 - val_loss: 0.8163 - val_categorical_accuracy: 0.6778 - val_f1_loss: 0.4342\n",
      "Epoch 91/100\n",
      "42/42 [==============================] - 1s 13ms/step - loss: 0.6819 - categorical_accuracy: 0.7476 - f1_loss: 0.3912 - val_loss: 0.8898 - val_categorical_accuracy: 0.6711 - val_f1_loss: 0.4441\n",
      "Epoch 92/100\n",
      "42/42 [==============================] - 1s 14ms/step - loss: 0.7435 - categorical_accuracy: 0.7224 - f1_loss: 0.4032 - val_loss: 0.8425 - val_categorical_accuracy: 0.6656 - val_f1_loss: 0.4421\n",
      "Epoch 93/100\n",
      "42/42 [==============================] - 1s 14ms/step - loss: 0.7148 - categorical_accuracy: 0.7326 - f1_loss: 0.3972 - val_loss: 0.8475 - val_categorical_accuracy: 0.6800 - val_f1_loss: 0.4356\n",
      "Epoch 94/100\n",
      "42/42 [==============================] - 1s 12ms/step - loss: 0.6618 - categorical_accuracy: 0.7482 - f1_loss: 0.3723 - val_loss: 0.8153 - val_categorical_accuracy: 0.6889 - val_f1_loss: 0.4350\n",
      "Epoch 95/100\n",
      "42/42 [==============================] - 1s 13ms/step - loss: 0.6443 - categorical_accuracy: 0.7688 - f1_loss: 0.3792 - val_loss: 0.9148 - val_categorical_accuracy: 0.6533 - val_f1_loss: 0.4502\n",
      "Epoch 96/100\n",
      "42/42 [==============================] - 1s 13ms/step - loss: 0.6689 - categorical_accuracy: 0.7467 - f1_loss: 0.3786 - val_loss: 0.8742 - val_categorical_accuracy: 0.6767 - val_f1_loss: 0.4343\n",
      "Epoch 97/100\n",
      "42/42 [==============================] - 0s 11ms/step - loss: 0.6678 - categorical_accuracy: 0.7464 - f1_loss: 0.3854 - val_loss: 0.8059 - val_categorical_accuracy: 0.6644 - val_f1_loss: 0.4364\n",
      "Epoch 98/100\n",
      "42/42 [==============================] - 1s 13ms/step - loss: 0.6392 - categorical_accuracy: 0.7528 - f1_loss: 0.3718 - val_loss: 0.8342 - val_categorical_accuracy: 0.6589 - val_f1_loss: 0.4419\n",
      "Epoch 99/100\n",
      "42/42 [==============================] - 0s 11ms/step - loss: 0.6387 - categorical_accuracy: 0.7608 - f1_loss: 0.3627 - val_loss: 0.8769 - val_categorical_accuracy: 0.6422 - val_f1_loss: 0.4506\n",
      "Epoch 100/100\n",
      "42/42 [==============================] - 0s 12ms/step - loss: 0.6730 - categorical_accuracy: 0.7513 - f1_loss: 0.3756 - val_loss: 0.7913 - val_categorical_accuracy: 0.6933 - val_f1_loss: 0.4247\n"
     ]
    }
   ],
   "source": [
    "cnnhistory_base_mfcc=model_mfcc_base.fit(X_traincnn_mfcc, y_onehot_train_mfcc, batch_size=50, epochs=100, validation_data=(X_testcnn_mfcc, y_onehot_test_mfcc), callbacks=[mcp_save, rlrop])"
   ]
  },
  {
   "cell_type": "code",
   "execution_count": 1005,
   "id": "7dba7728",
   "metadata": {},
   "outputs": [
    {
     "name": "stdout",
     "output_type": "stream",
     "text": [
      "29/29 [==============================] - 0s 3ms/step - loss: 0.7913 - categorical_accuracy: 0.6933 - f1_loss: 0.4358\n",
      "Restored model, accuracy: 69.33%\n"
     ]
    }
   ],
   "source": [
    "loss, acc, f1_score = model_mfcc_base.evaluate(X_testcnn_mfcc, y_onehot_test_mfcc)\n",
    "print(\"Restored model, accuracy: {:5.2f}%\".format(100*acc))"
   ]
  },
  {
   "cell_type": "code",
   "execution_count": 1006,
   "id": "975a31c1",
   "metadata": {},
   "outputs": [
    {
     "data": {
      "image/png": "[encoded data removed]",
      "text/plain": [
       "<Figure size 432x288 with 1 Axes>"
      ]
     },
     "metadata": {
      "needs_background": "light"
     },
     "output_type": "display_data"
    },
    {
     "data": {
      "image/png": "[encoded data removed]",
      "text/plain": [
       "<Figure size 432x288 with 1 Axes>"
      ]
     },
     "metadata": {
      "needs_background": "light"
     },
     "output_type": "display_data"
    }
   ],
   "source": [
    "plt.plot(cnnhistory_base_mfcc.history['categorical_accuracy'])\n",
    "plt.plot(cnnhistory_base_mfcc.history['val_categorical_accuracy'])\n",
    "plt.title('model accuracy')\n",
    "plt.ylabel('accuracy')\n",
    "plt.xlabel('epoch')\n",
    "plt.legend(['train', 'test'], loc='upper left')\n",
    "plt.show()\n",
    "# summarize history for loss\n",
    "plt.plot(cnnhistory_base_mfcc.history['loss'][1:])\n",
    "plt.plot(cnnhistory_base_mfcc.history['val_loss'][1:])\n",
    "plt.title('model loss')\n",
    "plt.ylabel('loss')\n",
    "plt.xlabel('epoch')\n",
    "plt.legend(['train', 'test'], loc='upper left')\n",
    "plt.show()"
   ]
  },
  {
   "cell_type": "code",
   "execution_count": 1088,
   "id": "0b0308bf",
   "metadata": {},
   "outputs": [
    {
     "name": "stdout",
     "output_type": "stream",
     "text": [
      "Confusion matrix, without normalization\n",
      "[[ 91  13   8   0   7  11]\n",
      " [ 23  79  14   0  20  17]\n",
      " [ 20  17  68   1   3  35]\n",
      " [  0   0   0 158   0   0]\n",
      " [  0   4   0   5 152   4]\n",
      " [  9  24  32   1   8  76]]\n"
     ]
    },
    {
     "data": {
      "image/png": "[encoded data removed]",
      "text/plain": [
       "<Figure size 432x288 with 2 Axes>"
      ]
     },
     "metadata": {
      "needs_background": "light"
     },
     "output_type": "display_data"
    }
   ],
   "source": [
    "y_pred = model_mfcc_base.predict(X_testcnn_mfcc)\n",
    "matrix = metrics.confusion_matrix(y_onehot_test_mfcc.argmax(axis=1), y_pred.argmax(axis=1))\n",
    "emo_keys = list(['ang', 'hap', 'sad', 'fea', 'sur', 'neu'])\n",
    "plot_confusion_matrix(matrix, classes=emo_keys)"
   ]
  },
  {
   "cell_type": "code",
   "execution_count": 1089,
   "id": "1196fac6",
   "metadata": {
    "scrolled": false
   },
   "outputs": [
    {
     "name": "stdout",
     "output_type": "stream",
     "text": [
      "              precision    recall  f1-score   support\n",
      "\n",
      "         ang       0.64      0.70      0.67       130\n",
      "         hap       0.58      0.52      0.54       153\n",
      "         sad       0.56      0.47      0.51       144\n",
      "         fea       0.96      1.00      0.98       158\n",
      "         sur       0.80      0.92      0.86       165\n",
      "         neu       0.53      0.51      0.52       150\n",
      "\n",
      "    accuracy                           0.69       900\n",
      "   macro avg       0.68      0.69      0.68       900\n",
      "weighted avg       0.68      0.69      0.69       900\n",
      "\n"
     ]
    }
   ],
   "source": [
    "target_names = ['ang', 'hap', 'sad', 'fea', 'sur', 'neu']\n",
    "print(classification_report(y_onehot_test_mfcc.argmax(axis=1), y_pred.argmax(axis=1), target_names=target_names))"
   ]
  },
  {
   "cell_type": "code",
   "execution_count": 1090,
   "id": "b9840848",
   "metadata": {},
   "outputs": [],
   "source": [
    "# indices and labels of all correctly recognized\n",
    "correct_indices = print_index(y_onehot_test_mfcc.argmax(axis=1), y_pred.argmax(axis=1))\n",
    "correct_labels = print_labels(y_onehot_test_mfcc.argmax(axis=1), y_pred.argmax(axis=1))\n",
    "\n",
    "# indices of correctly recognized AND clipped\n",
    "indices_of_clipped_recognized = []\n",
    "for i in range(len(X_testcnn_mel)):\n",
    "    for j in range(len(correct_indices)):\n",
    "        if(i == correct_indices[j]):\n",
    "            if(i in x_clipped):\n",
    "                indices_of_clipped_recognized.append(i)\n",
    "\n",
    "label_of_clipped_recognized = []\n",
    "# we get the label of correctly recognized clipped audios\n",
    "for i in range(len(y_onehot_test_mel.argmax(axis=1))):\n",
    "    if(i in indices_of_clipped_recognized):\n",
    "        label_of_clipped_recognized.append((y_onehot_test_mel.argmax(axis=1)[i]))\n",
    "\n",
    "dic_val_clipped = count_label(label_of_clipped_recognized)"
   ]
  },
  {
   "cell_type": "code",
   "execution_count": 1091,
   "id": "5ef4661a",
   "metadata": {},
   "outputs": [
    {
     "data": {
      "text/plain": [
       "{'ang': 8, 'hap': 6, 'sad': 5, 'fea': 0, 'sur': 7, 'neu': 5}"
      ]
     },
     "execution_count": 1091,
     "metadata": {},
     "output_type": "execute_result"
    }
   ],
   "source": [
    "dic_val_clipped"
   ]
  },
  {
   "cell_type": "code",
   "execution_count": 1092,
   "id": "be6e5e7c",
   "metadata": {},
   "outputs": [
    {
     "data": {
      "text/plain": [
       "<BarContainer object of 6 artists>"
      ]
     },
     "execution_count": 1092,
     "metadata": {},
     "output_type": "execute_result"
    },
    {
     "data": {
      "image/png": "[encoded data removed]",
      "text/plain": [
       "<Figure size 432x288 with 1 Axes>"
      ]
     },
     "metadata": {
      "needs_background": "light"
     },
     "output_type": "display_data"
    }
   ],
   "source": [
    "plt.bar(list(dic_val_clipped.keys()), dic_val_clipped.values(), color='black')"
   ]
  },
  {
   "cell_type": "code",
   "execution_count": 1093,
   "id": "0cef441e",
   "metadata": {},
   "outputs": [
    {
     "name": "stdout",
     "output_type": "stream",
     "text": [
      "Number of recognized clipped test data: 31\n",
      "Total number of clipped test data: 40\n",
      "Ratio of recognized clipped test data: 0.775\n",
      "\n",
      "Anger: 8\n",
      "Happiness: 6\n",
      "Sadness: 5\n",
      "Surpise: 7\n",
      "Neutral: 5\n",
      "Fear: 0\n",
      "\n",
      "Anger: 8\n",
      "Happiness: 9\n",
      "Sadness: 10\n",
      "Surpise: 7\n",
      "Neutral: 6\n",
      "Fear: 0\n",
      "\n"
     ]
    }
   ],
   "source": [
    "clipped_ratio = len(indices_of_clipped_recognized) / len(x_clipped)\n",
    "print(\"Number of recognized clipped test data: {}\\nTotal number of clipped test data: {}\\nRatio of recognized clipped test data: {}\\n\".format(len(indices_of_clipped_recognized),len(x_clipped), clipped_ratio ))\n",
    "print(\"Anger: {}\\nHappiness: {}\\nSadness: {}\\nSurpise: {}\\nNeutral: {}\\nFear: {}\\n\".format(dic_val_clipped['ang'],dic_val_clipped['hap'],dic_val_clipped['sad'],dic_val_clipped['sur'],dic_val_clipped['neu'],dic_val_clipped['fea']))\n",
    "print(\"Anger: {}\\nHappiness: {}\\nSadness: {}\\nSurpise: {}\\nNeutral: {}\\nFear: {}\\n\".format(dic_true_val['ang'],dic_true_val['hap'],dic_true_val['sad'],dic_true_val['sur'],dic_true_val['neu'],dic_true_val['fea']))"
   ]
  },
  {
   "cell_type": "code",
   "execution_count": 1094,
   "id": "718b9cf9",
   "metadata": {},
   "outputs": [],
   "source": [
    "# we get the indices of correctly recognized un-clipped audios\n",
    "indices_of_unclipped_recognized = []\n",
    "for i in range(len(X_testcnn_mel)):\n",
    "    for j in range(len(correct_indices)):\n",
    "        if(i == correct_indices[j]):\n",
    "            if(i not in x_clipped):\n",
    "                indices_of_unclipped_recognized.append(i)\n",
    "\n",
    "label_of_unclipped_recognized = []\n",
    "# we get the label of correctly recognized unclipped audios\n",
    "for i in range(len(y_onehot_test_mel.argmax(axis=1))):\n",
    "    if(i in indices_of_unclipped_recognized):\n",
    "        label_of_unclipped_recognized.append((y_onehot_test_mel.argmax(axis=1)[i]))\n",
    "\n",
    "dic_val_unclipped = count_label(label_of_unclipped_recognized)"
   ]
  },
  {
   "cell_type": "code",
   "execution_count": 1095,
   "id": "1a763d02",
   "metadata": {},
   "outputs": [
    {
     "data": {
      "text/plain": [
       "{'ang': 83, 'hap': 73, 'sad': 63, 'fea': 158, 'sur': 145, 'neu': 71}"
      ]
     },
     "execution_count": 1095,
     "metadata": {},
     "output_type": "execute_result"
    }
   ],
   "source": [
    "dic_val_unclipped"
   ]
  },
  {
   "cell_type": "code",
   "execution_count": 1096,
   "id": "f3a956aa",
   "metadata": {},
   "outputs": [
    {
     "data": {
      "text/plain": [
       "<BarContainer object of 6 artists>"
      ]
     },
     "execution_count": 1096,
     "metadata": {},
     "output_type": "execute_result"
    },
    {
     "data": {
      "image/png": "[encoded data removed]",
      "text/plain": [
       "<Figure size 432x288 with 1 Axes>"
      ]
     },
     "metadata": {
      "needs_background": "light"
     },
     "output_type": "display_data"
    }
   ],
   "source": [
    "plt.bar(list(dic_val_unclipped.keys()), dic_val_unclipped.values(), color='black')"
   ]
  },
  {
   "cell_type": "code",
   "execution_count": 1097,
   "id": "56c24980",
   "metadata": {},
   "outputs": [
    {
     "name": "stdout",
     "output_type": "stream",
     "text": [
      "Number of recognized unclipped test data: 593\n",
      "Total number of unclipped test data: 860\n",
      "Ratio of recognized unclipped test data: 0.6895348837209302\n",
      "\n",
      "Anger: 83\n",
      "Happiness: 73\n",
      "Sadness: 63\n",
      "Surpise: 145\n",
      "Neutral: 71\n",
      "Fear: 158\n",
      "\n",
      "Anger: 122\n",
      "Happiness: 144\n",
      "Sadness: 134\n",
      "Surpise: 158\n",
      "Neutral: 144\n",
      "Fear: 158\n",
      "\n"
     ]
    }
   ],
   "source": [
    "unclipped_ratio = len(indices_of_unclipped_recognized) / len(x_unclipped)\n",
    "print(\"Number of recognized unclipped test data: {}\\nTotal number of unclipped test data: {}\\nRatio of recognized unclipped test data: {}\\n\".format(len(indices_of_unclipped_recognized),len(x_unclipped), unclipped_ratio ))\n",
    "print(\"Anger: {}\\nHappiness: {}\\nSadness: {}\\nSurpise: {}\\nNeutral: {}\\nFear: {}\\n\".format(dic_val_unclipped['ang'],dic_val_unclipped['hap'],dic_val_unclipped['sad'],dic_val_unclipped['sur'],dic_val_unclipped['neu'],dic_val_unclipped['fea']))\n",
    "print(\"Anger: {}\\nHappiness: {}\\nSadness: {}\\nSurpise: {}\\nNeutral: {}\\nFear: {}\\n\".format(dic_true_val_unclipped['ang'],dic_true_val_unclipped['hap'],dic_true_val_unclipped['sad'],dic_true_val_unclipped['sur'],dic_true_val_unclipped['neu'],dic_true_val_unclipped['fea']))"
   ]
  },
  {
   "cell_type": "markdown",
   "id": "86004d81",
   "metadata": {},
   "source": [
    "#### Mel"
   ]
  },
  {
   "cell_type": "code",
   "execution_count": 782,
   "id": "fb9913a9",
   "metadata": {},
   "outputs": [],
   "source": [
    "model_mel_base = Sequential()\n",
    "\n",
    "model_mel_base.add(Conv1D(32, 6,padding='same',input_shape=(128,1)))        #1\n",
    "model_mel_base.add(Activation('relu'))\n",
    "#model_mel_base.add(MaxPooling1D(pool_size=(5)))\n",
    "model_mel_base.add(BatchNormalization())\n",
    "model_mel_base.add(Dropout(0.01))\n",
    "\n",
    "model_mel_base.add(Conv1D(64, 6,padding='same',))                           #2\n",
    "model_mel_base.add(Activation('relu'))\n",
    "#model_mel_base.add(BatchNormalization())\n",
    "model_mel_base.add(Dropout(0.01))\n",
    "\n",
    "model_mel_base.add(GlobalMaxPooling1D())\n",
    "model_mel_base.add(Dense(6))                                                 #5\n",
    "model_mel_base.add(Activation('softmax'))"
   ]
  },
  {
   "cell_type": "code",
   "execution_count": 783,
   "id": "bae90849",
   "metadata": {},
   "outputs": [
    {
     "name": "stdout",
     "output_type": "stream",
     "text": [
      "Model: \"sequential_112\"\n",
      "_________________________________________________________________\n",
      "Layer (type)                 Output Shape              Param #   \n",
      "=================================================================\n",
      "conv1d_181 (Conv1D)          (None, 128, 32)           224       \n",
      "_________________________________________________________________\n",
      "activation_223 (Activation)  (None, 128, 32)           0         \n",
      "_________________________________________________________________\n",
      "batch_normalization_135 (Bat (None, 128, 32)           128       \n",
      "_________________________________________________________________\n",
      "dropout_286 (Dropout)        (None, 128, 32)           0         \n",
      "_________________________________________________________________\n",
      "conv1d_182 (Conv1D)          (None, 128, 64)           12352     \n",
      "_________________________________________________________________\n",
      "activation_224 (Activation)  (None, 128, 64)           0         \n",
      "_________________________________________________________________\n",
      "dropout_287 (Dropout)        (None, 128, 64)           0         \n",
      "_________________________________________________________________\n",
      "global_max_pooling1d_46 (Glo (None, 64)                0         \n",
      "_________________________________________________________________\n",
      "dense_220 (Dense)            (None, 6)                 390       \n",
      "_________________________________________________________________\n",
      "activation_225 (Activation)  (None, 6)                 0         \n",
      "=================================================================\n",
      "Total params: 13,094\n",
      "Trainable params: 13,030\n",
      "Non-trainable params: 64\n",
      "_________________________________________________________________\n"
     ]
    }
   ],
   "source": [
    "model_mel_base.summary()\n",
    "model_mel_base.compile(loss='categorical_crossentropy',\n",
    "              optimizer=opt,\n",
    "              metrics=['categorical_accuracy', f1_loss])"
   ]
  },
  {
   "cell_type": "code",
   "execution_count": 784,
   "id": "cbafe811",
   "metadata": {},
   "outputs": [
    {
     "name": "stdout",
     "output_type": "stream",
     "text": [
      "Epoch 1/60\n",
      "42/42 [==============================] - 2s 22ms/step - loss: 2.6138 - categorical_accuracy: 0.2135 - f1_loss: 0.8275 - val_loss: 2.4897 - val_categorical_accuracy: 0.2400 - val_f1_loss: 0.7767\n",
      "Epoch 2/60\n",
      "42/42 [==============================] - 1s 16ms/step - loss: 1.7367 - categorical_accuracy: 0.3401 - f1_loss: 0.7492 - val_loss: 1.8102 - val_categorical_accuracy: 0.3022 - val_f1_loss: 0.7457\n",
      "Epoch 3/60\n",
      "42/42 [==============================] - 1s 17ms/step - loss: 1.5747 - categorical_accuracy: 0.3975 - f1_loss: 0.7215 - val_loss: 1.5127 - val_categorical_accuracy: 0.4189 - val_f1_loss: 0.7086\n",
      "Epoch 4/60\n",
      "42/42 [==============================] - 1s 17ms/step - loss: 1.5163 - categorical_accuracy: 0.4170 - f1_loss: 0.7065 - val_loss: 1.5173 - val_categorical_accuracy: 0.4100 - val_f1_loss: 0.6999\n",
      "Epoch 5/60\n",
      "42/42 [==============================] - 1s 16ms/step - loss: 1.3974 - categorical_accuracy: 0.4549 - f1_loss: 0.6858 - val_loss: 1.5139 - val_categorical_accuracy: 0.4122 - val_f1_loss: 0.7009\n",
      "Epoch 6/60\n",
      "42/42 [==============================] - 1s 16ms/step - loss: 1.3385 - categorical_accuracy: 0.4631 - f1_loss: 0.6717 - val_loss: 1.3624 - val_categorical_accuracy: 0.4478 - val_f1_loss: 0.6864\n",
      "Epoch 7/60\n",
      "42/42 [==============================] - 1s 17ms/step - loss: 1.3258 - categorical_accuracy: 0.4788 - f1_loss: 0.6609 - val_loss: 1.3442 - val_categorical_accuracy: 0.4667 - val_f1_loss: 0.6762\n",
      "Epoch 8/60\n",
      "42/42 [==============================] - 1s 16ms/step - loss: 1.2782 - categorical_accuracy: 0.5027 - f1_loss: 0.6493 - val_loss: 1.4551 - val_categorical_accuracy: 0.4300 - val_f1_loss: 0.6915\n",
      "Epoch 9/60\n",
      "42/42 [==============================] - 1s 18ms/step - loss: 1.2879 - categorical_accuracy: 0.4940 - f1_loss: 0.6533 - val_loss: 1.3152 - val_categorical_accuracy: 0.4622 - val_f1_loss: 0.6660\n",
      "Epoch 10/60\n",
      "42/42 [==============================] - 1s 17ms/step - loss: 1.2452 - categorical_accuracy: 0.5291 - f1_loss: 0.6364 - val_loss: 1.3008 - val_categorical_accuracy: 0.5067 - val_f1_loss: 0.6546\n",
      "Epoch 11/60\n",
      "42/42 [==============================] - 1s 17ms/step - loss: 1.2428 - categorical_accuracy: 0.5318 - f1_loss: 0.6371 - val_loss: 1.2987 - val_categorical_accuracy: 0.5078 - val_f1_loss: 0.6565\n",
      "Epoch 12/60\n",
      "42/42 [==============================] - 1s 17ms/step - loss: 1.2259 - categorical_accuracy: 0.5279 - f1_loss: 0.6318 - val_loss: 1.3459 - val_categorical_accuracy: 0.4333 - val_f1_loss: 0.6655\n",
      "Epoch 13/60\n",
      "42/42 [==============================] - 1s 18ms/step - loss: 1.2103 - categorical_accuracy: 0.5276 - f1_loss: 0.6154 - val_loss: 1.3285 - val_categorical_accuracy: 0.5033 - val_f1_loss: 0.6470\n",
      "Epoch 14/60\n",
      "42/42 [==============================] - 1s 16ms/step - loss: 1.1728 - categorical_accuracy: 0.5470 - f1_loss: 0.6179 - val_loss: 1.3145 - val_categorical_accuracy: 0.5189 - val_f1_loss: 0.6475\n",
      "Epoch 15/60\n",
      "42/42 [==============================] - 1s 17ms/step - loss: 1.1610 - categorical_accuracy: 0.5652 - f1_loss: 0.6146 - val_loss: 1.3069 - val_categorical_accuracy: 0.5122 - val_f1_loss: 0.6403\n",
      "Epoch 16/60\n",
      "42/42 [==============================] - 1s 16ms/step - loss: 1.1251 - categorical_accuracy: 0.5826 - f1_loss: 0.5945 - val_loss: 1.3124 - val_categorical_accuracy: 0.5178 - val_f1_loss: 0.6429\n",
      "Epoch 17/60\n",
      "42/42 [==============================] - 1s 15ms/step - loss: 1.1784 - categorical_accuracy: 0.5581 - f1_loss: 0.6075 - val_loss: 1.2895 - val_categorical_accuracy: 0.5322 - val_f1_loss: 0.6359\n",
      "Epoch 18/60\n",
      "42/42 [==============================] - 1s 16ms/step - loss: 1.0926 - categorical_accuracy: 0.6032 - f1_loss: 0.5881 - val_loss: 1.3418 - val_categorical_accuracy: 0.4844 - val_f1_loss: 0.6506\n",
      "Epoch 19/60\n",
      "42/42 [==============================] - 1s 16ms/step - loss: 1.1049 - categorical_accuracy: 0.5843 - f1_loss: 0.5868 - val_loss: 1.2456 - val_categorical_accuracy: 0.5300 - val_f1_loss: 0.6282\n",
      "Epoch 20/60\n",
      "42/42 [==============================] - 1s 16ms/step - loss: 1.0915 - categorical_accuracy: 0.5969 - f1_loss: 0.5843 - val_loss: 1.3059 - val_categorical_accuracy: 0.4778 - val_f1_loss: 0.6417\n",
      "Epoch 21/60\n",
      "42/42 [==============================] - 1s 16ms/step - loss: 1.0832 - categorical_accuracy: 0.6073 - f1_loss: 0.5827 - val_loss: 1.2931 - val_categorical_accuracy: 0.5278 - val_f1_loss: 0.6301\n",
      "Epoch 22/60\n",
      "42/42 [==============================] - 1s 18ms/step - loss: 1.0701 - categorical_accuracy: 0.6181 - f1_loss: 0.5720 - val_loss: 1.2619 - val_categorical_accuracy: 0.5233 - val_f1_loss: 0.6260\n",
      "Epoch 23/60\n",
      "42/42 [==============================] - 1s 17ms/step - loss: 1.0428 - categorical_accuracy: 0.6214 - f1_loss: 0.5703 - val_loss: 1.2120 - val_categorical_accuracy: 0.5489 - val_f1_loss: 0.6156\n",
      "Epoch 24/60\n",
      "42/42 [==============================] - 1s 28ms/step - loss: 1.0451 - categorical_accuracy: 0.6295 - f1_loss: 0.5674 - val_loss: 1.1990 - val_categorical_accuracy: 0.5411 - val_f1_loss: 0.6088\n",
      "Epoch 25/60\n",
      "42/42 [==============================] - 1s 17ms/step - loss: 1.0215 - categorical_accuracy: 0.6375 - f1_loss: 0.5529 - val_loss: 1.2271 - val_categorical_accuracy: 0.5589 - val_f1_loss: 0.6077\n",
      "Epoch 26/60\n",
      "42/42 [==============================] - 1s 18ms/step - loss: 1.0258 - categorical_accuracy: 0.6227 - f1_loss: 0.5591 - val_loss: 1.2077 - val_categorical_accuracy: 0.5467 - val_f1_loss: 0.6018\n",
      "Epoch 27/60\n",
      "42/42 [==============================] - 1s 17ms/step - loss: 1.0098 - categorical_accuracy: 0.6302 - f1_loss: 0.5516 - val_loss: 1.2091 - val_categorical_accuracy: 0.5356 - val_f1_loss: 0.6041\n",
      "Epoch 28/60\n",
      "42/42 [==============================] - 1s 16ms/step - loss: 1.0140 - categorical_accuracy: 0.6387 - f1_loss: 0.5541 - val_loss: 1.2185 - val_categorical_accuracy: 0.5400 - val_f1_loss: 0.6016\n",
      "Epoch 29/60\n",
      "42/42 [==============================] - 1s 16ms/step - loss: 1.0153 - categorical_accuracy: 0.6291 - f1_loss: 0.5478 - val_loss: 1.2106 - val_categorical_accuracy: 0.5589 - val_f1_loss: 0.5959\n",
      "Epoch 30/60\n",
      "42/42 [==============================] - 1s 17ms/step - loss: 1.0006 - categorical_accuracy: 0.6281 - f1_loss: 0.5325 - val_loss: 1.2299 - val_categorical_accuracy: 0.5444 - val_f1_loss: 0.5953\n",
      "Epoch 31/60\n",
      "42/42 [==============================] - 1s 17ms/step - loss: 0.9685 - categorical_accuracy: 0.6425 - f1_loss: 0.5352 - val_loss: 1.1988 - val_categorical_accuracy: 0.5378 - val_f1_loss: 0.5972\n",
      "Epoch 32/60\n",
      "42/42 [==============================] - 1s 16ms/step - loss: 0.9666 - categorical_accuracy: 0.6485 - f1_loss: 0.5318 - val_loss: 1.1989 - val_categorical_accuracy: 0.5456 - val_f1_loss: 0.5962\n",
      "Epoch 33/60\n",
      "42/42 [==============================] - 1s 17ms/step - loss: 0.9732 - categorical_accuracy: 0.6280 - f1_loss: 0.5335 - val_loss: 1.1873 - val_categorical_accuracy: 0.5467 - val_f1_loss: 0.5883\n",
      "Epoch 34/60\n",
      "42/42 [==============================] - 1s 16ms/step - loss: 0.9451 - categorical_accuracy: 0.6498 - f1_loss: 0.5241 - val_loss: 1.1901 - val_categorical_accuracy: 0.5389 - val_f1_loss: 0.5932\n",
      "Epoch 35/60\n",
      "42/42 [==============================] - 1s 18ms/step - loss: 0.9436 - categorical_accuracy: 0.6579 - f1_loss: 0.5181 - val_loss: 1.1698 - val_categorical_accuracy: 0.5411 - val_f1_loss: 0.5900\n",
      "Epoch 36/60\n",
      "42/42 [==============================] - 1s 16ms/step - loss: 0.9341 - categorical_accuracy: 0.6516 - f1_loss: 0.5236 - val_loss: 1.1640 - val_categorical_accuracy: 0.5300 - val_f1_loss: 0.5870\n",
      "Epoch 37/60\n",
      "42/42 [==============================] - 1s 17ms/step - loss: 0.9208 - categorical_accuracy: 0.6618 - f1_loss: 0.5130 - val_loss: 1.1912 - val_categorical_accuracy: 0.5433 - val_f1_loss: 0.5813\n",
      "Epoch 38/60\n",
      "42/42 [==============================] - 1s 15ms/step - loss: 0.9261 - categorical_accuracy: 0.6701 - f1_loss: 0.5161 - val_loss: 1.1781 - val_categorical_accuracy: 0.5578 - val_f1_loss: 0.5837\n",
      "Epoch 39/60\n",
      "42/42 [==============================] - 1s 16ms/step - loss: 0.8830 - categorical_accuracy: 0.6913 - f1_loss: 0.5009 - val_loss: 1.1632 - val_categorical_accuracy: 0.5611 - val_f1_loss: 0.5754\n",
      "Epoch 40/60\n",
      "42/42 [==============================] - 1s 16ms/step - loss: 0.8940 - categorical_accuracy: 0.6832 - f1_loss: 0.5057 - val_loss: 1.1338 - val_categorical_accuracy: 0.5467 - val_f1_loss: 0.5720\n",
      "Epoch 41/60\n",
      "42/42 [==============================] - 1s 16ms/step - loss: 0.9083 - categorical_accuracy: 0.6733 - f1_loss: 0.5112 - val_loss: 1.1667 - val_categorical_accuracy: 0.5600 - val_f1_loss: 0.5739\n",
      "Epoch 42/60\n",
      "42/42 [==============================] - 1s 15ms/step - loss: 0.8483 - categorical_accuracy: 0.7026 - f1_loss: 0.4829 - val_loss: 1.1546 - val_categorical_accuracy: 0.5567 - val_f1_loss: 0.5703\n",
      "Epoch 43/60\n",
      "42/42 [==============================] - 1s 16ms/step - loss: 0.8912 - categorical_accuracy: 0.6683 - f1_loss: 0.5001 - val_loss: 1.1492 - val_categorical_accuracy: 0.5567 - val_f1_loss: 0.5701\n",
      "Epoch 44/60\n",
      "42/42 [==============================] - 1s 17ms/step - loss: 0.8867 - categorical_accuracy: 0.6774 - f1_loss: 0.4971 - val_loss: 1.1451 - val_categorical_accuracy: 0.5556 - val_f1_loss: 0.5637\n",
      "Epoch 45/60\n",
      "42/42 [==============================] - 1s 16ms/step - loss: 0.8928 - categorical_accuracy: 0.6667 - f1_loss: 0.5000 - val_loss: 1.2104 - val_categorical_accuracy: 0.5544 - val_f1_loss: 0.5670\n",
      "Epoch 46/60\n",
      "42/42 [==============================] - 1s 15ms/step - loss: 0.8701 - categorical_accuracy: 0.6950 - f1_loss: 0.4921 - val_loss: 1.1363 - val_categorical_accuracy: 0.5589 - val_f1_loss: 0.5657\n",
      "Epoch 47/60\n",
      "42/42 [==============================] - 1s 16ms/step - loss: 0.8760 - categorical_accuracy: 0.6949 - f1_loss: 0.4951 - val_loss: 1.1708 - val_categorical_accuracy: 0.5467 - val_f1_loss: 0.5654\n",
      "Epoch 48/60\n",
      "42/42 [==============================] - 1s 16ms/step - loss: 0.9103 - categorical_accuracy: 0.6881 - f1_loss: 0.4912 - val_loss: 1.1556 - val_categorical_accuracy: 0.5533 - val_f1_loss: 0.5603\n",
      "Epoch 49/60\n",
      "42/42 [==============================] - 1s 16ms/step - loss: 0.8822 - categorical_accuracy: 0.6991 - f1_loss: 0.4902 - val_loss: 1.1486 - val_categorical_accuracy: 0.5556 - val_f1_loss: 0.5583\n",
      "Epoch 50/60\n",
      "42/42 [==============================] - 1s 16ms/step - loss: 0.8463 - categorical_accuracy: 0.7046 - f1_loss: 0.4837 - val_loss: 1.1118 - val_categorical_accuracy: 0.5700 - val_f1_loss: 0.5522\n",
      "Epoch 51/60\n",
      "42/42 [==============================] - 1s 16ms/step - loss: 0.8342 - categorical_accuracy: 0.6972 - f1_loss: 0.4788 - val_loss: 1.1793 - val_categorical_accuracy: 0.5622 - val_f1_loss: 0.5548\n",
      "Epoch 52/60\n",
      "42/42 [==============================] - 1s 16ms/step - loss: 0.8315 - categorical_accuracy: 0.7168 - f1_loss: 0.4677 - val_loss: 1.1232 - val_categorical_accuracy: 0.5622 - val_f1_loss: 0.5549\n",
      "Epoch 53/60\n",
      "42/42 [==============================] - 1s 16ms/step - loss: 0.7771 - categorical_accuracy: 0.7412 - f1_loss: 0.4542 - val_loss: 1.1435 - val_categorical_accuracy: 0.5700 - val_f1_loss: 0.5496\n",
      "Epoch 54/60\n",
      "42/42 [==============================] - 1s 16ms/step - loss: 0.8283 - categorical_accuracy: 0.7036 - f1_loss: 0.4687 - val_loss: 1.1394 - val_categorical_accuracy: 0.5644 - val_f1_loss: 0.5558\n",
      "Epoch 55/60\n",
      "42/42 [==============================] - 1s 15ms/step - loss: 0.8232 - categorical_accuracy: 0.7088 - f1_loss: 0.4624 - val_loss: 1.1155 - val_categorical_accuracy: 0.5544 - val_f1_loss: 0.5511\n",
      "Epoch 56/60\n",
      "42/42 [==============================] - 1s 17ms/step - loss: 0.8102 - categorical_accuracy: 0.7259 - f1_loss: 0.4588 - val_loss: 1.0979 - val_categorical_accuracy: 0.5744 - val_f1_loss: 0.5452\n",
      "Epoch 57/60\n",
      "42/42 [==============================] - 1s 16ms/step - loss: 0.7932 - categorical_accuracy: 0.7077 - f1_loss: 0.4548 - val_loss: 1.1186 - val_categorical_accuracy: 0.5656 - val_f1_loss: 0.5499\n",
      "Epoch 58/60\n",
      "42/42 [==============================] - 1s 17ms/step - loss: 0.7812 - categorical_accuracy: 0.7310 - f1_loss: 0.4590 - val_loss: 1.0916 - val_categorical_accuracy: 0.5678 - val_f1_loss: 0.5430\n",
      "Epoch 59/60\n",
      "42/42 [==============================] - 1s 16ms/step - loss: 0.7728 - categorical_accuracy: 0.7376 - f1_loss: 0.4519 - val_loss: 1.1447 - val_categorical_accuracy: 0.5756 - val_f1_loss: 0.5420\n",
      "Epoch 60/60\n",
      "42/42 [==============================] - 1s 16ms/step - loss: 0.7535 - categorical_accuracy: 0.7421 - f1_loss: 0.4356 - val_loss: 1.1422 - val_categorical_accuracy: 0.5722 - val_f1_loss: 0.5403\n"
     ]
    }
   ],
   "source": [
    "cnnhistory_base_mel=model_mel_base.fit(X_traincnn_mel, y_onehot_train_mel, batch_size=50, epochs=60, validation_data=(X_testcnn_mel, y_onehot_test_mel), callbacks=[mcp_save, rlrop])"
   ]
  },
  {
   "cell_type": "code",
   "execution_count": 785,
   "id": "7ed37712",
   "metadata": {},
   "outputs": [
    {
     "name": "stdout",
     "output_type": "stream",
     "text": [
      "29/29 [==============================] - 0s 4ms/step - loss: 1.1422 - categorical_accuracy: 0.5722 - f1_loss: 0.5482\n",
      "Restored model, accuracy: 57.22%\n"
     ]
    }
   ],
   "source": [
    "loss, acc, f1_score = model_mel_base.evaluate(X_testcnn_mel, y_onehot_test_mel)\n",
    "print(\"Restored model, accuracy: {:5.2f}%\".format(100*acc))"
   ]
  },
  {
   "cell_type": "code",
   "execution_count": 786,
   "id": "d6e9eada",
   "metadata": {},
   "outputs": [
    {
     "data": {
      "image/png": "[encoded data removed]",
      "text/plain": [
       "<Figure size 432x288 with 1 Axes>"
      ]
     },
     "metadata": {
      "needs_background": "light"
     },
     "output_type": "display_data"
    },
    {
     "data": {
      "image/png": "[encoded data removed]",
      "text/plain": [
       "<Figure size 432x288 with 1 Axes>"
      ]
     },
     "metadata": {
      "needs_background": "light"
     },
     "output_type": "display_data"
    }
   ],
   "source": [
    "plt.plot(cnnhistory_base_mel.history['categorical_accuracy'])\n",
    "plt.plot(cnnhistory_base_mel.history['val_categorical_accuracy'])\n",
    "plt.title('model accuracy')\n",
    "plt.ylabel('accuracy')\n",
    "plt.xlabel('epoch')\n",
    "plt.legend(['train', 'test'], loc='upper left')\n",
    "plt.show()\n",
    "# summarize history for loss\n",
    "plt.plot(cnnhistory_base_mel.history['loss'])\n",
    "plt.plot(cnnhistory_base_mel.history['val_loss'])\n",
    "plt.title('model loss')\n",
    "plt.ylabel('loss')\n",
    "plt.xlabel('epoch')\n",
    "plt.legend(['train', 'test'], loc='upper left')\n",
    "plt.show()"
   ]
  },
  {
   "cell_type": "code",
   "execution_count": 1098,
   "id": "64e6e667",
   "metadata": {},
   "outputs": [
    {
     "name": "stdout",
     "output_type": "stream",
     "text": [
      "Confusion matrix, without normalization\n",
      "[[ 65  28  13   4   3  17]\n",
      " [ 29  55   9   4   8  48]\n",
      " [ 21  43  21   5   6  48]\n",
      " [  0   0   0 158   0   0]\n",
      " [  6   1   0   4 154   0]\n",
      " [ 12  35  24   5  12  62]]\n"
     ]
    },
    {
     "data": {
      "image/png": "[encoded data removed]",
      "text/plain": [
       "<Figure size 432x288 with 2 Axes>"
      ]
     },
     "metadata": {
      "needs_background": "light"
     },
     "output_type": "display_data"
    }
   ],
   "source": [
    "y_pred = model_mel_base.predict(X_testcnn_mel)\n",
    "matrix = metrics.confusion_matrix(y_onehot_test_mel.argmax(axis=1), y_pred.argmax(axis=1))\n",
    "emo_keys = list(['ang', 'hap', 'sad', 'fea', 'sur', 'neu'])\n",
    "plot_confusion_matrix(matrix, classes=emo_keys)"
   ]
  },
  {
   "cell_type": "code",
   "execution_count": 1099,
   "id": "cb38c927",
   "metadata": {
    "scrolled": true
   },
   "outputs": [
    {
     "name": "stdout",
     "output_type": "stream",
     "text": [
      "              precision    recall  f1-score   support\n",
      "\n",
      "         ang       0.49      0.50      0.49       130\n",
      "         hap       0.34      0.36      0.35       153\n",
      "         sad       0.31      0.15      0.20       144\n",
      "         fea       0.88      1.00      0.93       158\n",
      "         sur       0.84      0.93      0.89       165\n",
      "         neu       0.35      0.41      0.38       150\n",
      "\n",
      "    accuracy                           0.57       900\n",
      "   macro avg       0.54      0.56      0.54       900\n",
      "weighted avg       0.55      0.57      0.55       900\n",
      "\n"
     ]
    }
   ],
   "source": [
    "target_names = ['ang', 'hap', 'sad', 'fea', 'sur', 'neu']\n",
    "print(classification_report(y_onehot_test_mfcc.argmax(axis=1), y_pred.argmax(axis=1), target_names=target_names))"
   ]
  },
  {
   "cell_type": "code",
   "execution_count": 1100,
   "id": "4a7510a3",
   "metadata": {},
   "outputs": [],
   "source": [
    "# indices and labels of all correctly recognized\n",
    "correct_indices = print_index(y_onehot_test_mfcc.argmax(axis=1), y_pred.argmax(axis=1))\n",
    "correct_labels = print_labels(y_onehot_test_mfcc.argmax(axis=1), y_pred.argmax(axis=1))\n",
    "\n",
    "# indices of correctly recognized AND clipped\n",
    "indices_of_clipped_recognized = []\n",
    "for i in range(len(X_testcnn_mel)):\n",
    "    for j in range(len(correct_indices)):\n",
    "        if(i == correct_indices[j]):\n",
    "            if(i in x_clipped):\n",
    "                indices_of_clipped_recognized.append(i)\n",
    "\n",
    "label_of_clipped_recognized = []\n",
    "# we get the label of correctly recognized clipped audios\n",
    "for i in range(len(y_onehot_test_mel.argmax(axis=1))):\n",
    "    if(i in indices_of_clipped_recognized):\n",
    "        label_of_clipped_recognized.append((y_onehot_test_mel.argmax(axis=1)[i]))\n",
    "\n",
    "dic_val_clipped = count_label(label_of_clipped_recognized)"
   ]
  },
  {
   "cell_type": "code",
   "execution_count": 1101,
   "id": "28f89a11",
   "metadata": {},
   "outputs": [
    {
     "data": {
      "text/plain": [
       "{'ang': 8, 'hap': 3, 'sad': 1, 'fea': 0, 'sur': 7, 'neu': 2}"
      ]
     },
     "execution_count": 1101,
     "metadata": {},
     "output_type": "execute_result"
    }
   ],
   "source": [
    "dic_val_clipped"
   ]
  },
  {
   "cell_type": "code",
   "execution_count": 1102,
   "id": "ea4f3df4",
   "metadata": {},
   "outputs": [
    {
     "data": {
      "text/plain": [
       "<BarContainer object of 6 artists>"
      ]
     },
     "execution_count": 1102,
     "metadata": {},
     "output_type": "execute_result"
    },
    {
     "data": {
      "image/png": "[encoded data removed]",
      "text/plain": [
       "<Figure size 432x288 with 1 Axes>"
      ]
     },
     "metadata": {
      "needs_background": "light"
     },
     "output_type": "display_data"
    }
   ],
   "source": [
    "plt.bar(list(dic_val_clipped.keys()), dic_val_clipped.values(), color='black')"
   ]
  },
  {
   "cell_type": "code",
   "execution_count": 1103,
   "id": "55aa6c97",
   "metadata": {},
   "outputs": [
    {
     "name": "stdout",
     "output_type": "stream",
     "text": [
      "Number of recognized clipped test data: 21\n",
      "Total number of clipped test data: 40\n",
      "Ratio of recognized clipped test data: 0.525\n",
      "\n",
      "Anger: 8\n",
      "Happiness: 3\n",
      "Sadness: 1\n",
      "Surpise: 7\n",
      "Neutral: 2\n",
      "Fear: 0\n",
      "\n",
      "Anger: 8\n",
      "Happiness: 9\n",
      "Sadness: 10\n",
      "Surpise: 7\n",
      "Neutral: 6\n",
      "Fear: 0\n",
      "\n"
     ]
    }
   ],
   "source": [
    "clipped_ratio = len(indices_of_clipped_recognized) / len(x_clipped)\n",
    "print(\"Number of recognized clipped test data: {}\\nTotal number of clipped test data: {}\\nRatio of recognized clipped test data: {}\\n\".format(len(indices_of_clipped_recognized),len(x_clipped), clipped_ratio ))\n",
    "print(\"Anger: {}\\nHappiness: {}\\nSadness: {}\\nSurpise: {}\\nNeutral: {}\\nFear: {}\\n\".format(dic_val_clipped['ang'],dic_val_clipped['hap'],dic_val_clipped['sad'],dic_val_clipped['sur'],dic_val_clipped['neu'],dic_val_clipped['fea']))\n",
    "print(\"Anger: {}\\nHappiness: {}\\nSadness: {}\\nSurpise: {}\\nNeutral: {}\\nFear: {}\\n\".format(dic_true_val['ang'],dic_true_val['hap'],dic_true_val['sad'],dic_true_val['sur'],dic_true_val['neu'],dic_true_val['fea']))"
   ]
  },
  {
   "cell_type": "code",
   "execution_count": 1104,
   "id": "1f1d2219",
   "metadata": {},
   "outputs": [],
   "source": [
    "# we get the indices of correctly recognized un-clipped audios\n",
    "indices_of_unclipped_recognized = []\n",
    "for i in range(len(X_testcnn_mel)):\n",
    "    for j in range(len(correct_indices)):\n",
    "        if(i == correct_indices[j]):\n",
    "            if(i not in x_clipped):\n",
    "                indices_of_unclipped_recognized.append(i)\n",
    "\n",
    "label_of_unclipped_recognized = []\n",
    "# we get the label of correctly recognized unclipped audios\n",
    "for i in range(len(y_onehot_test_mel.argmax(axis=1))):\n",
    "    if(i in indices_of_unclipped_recognized):\n",
    "        label_of_unclipped_recognized.append((y_onehot_test_mel.argmax(axis=1)[i]))\n",
    "\n",
    "dic_val_unclipped = count_label(label_of_unclipped_recognized)"
   ]
  },
  {
   "cell_type": "code",
   "execution_count": 1105,
   "id": "7420b10d",
   "metadata": {},
   "outputs": [
    {
     "data": {
      "text/plain": [
       "{'ang': 57, 'hap': 52, 'sad': 20, 'fea': 158, 'sur': 147, 'neu': 60}"
      ]
     },
     "execution_count": 1105,
     "metadata": {},
     "output_type": "execute_result"
    }
   ],
   "source": [
    "dic_val_unclipped"
   ]
  },
  {
   "cell_type": "code",
   "execution_count": 1026,
   "id": "66a4bf6f",
   "metadata": {},
   "outputs": [
    {
     "data": {
      "text/plain": [
       "<BarContainer object of 6 artists>"
      ]
     },
     "execution_count": 1026,
     "metadata": {},
     "output_type": "execute_result"
    },
    {
     "data": {
      "image/png": "[encoded data removed]",
      "text/plain": [
       "<Figure size 432x288 with 1 Axes>"
      ]
     },
     "metadata": {
      "needs_background": "light"
     },
     "output_type": "display_data"
    }
   ],
   "source": [
    "plt.bar(list(dic_val_unclipped.keys()), dic_val_unclipped.values(), color='black')"
   ]
  },
  {
   "cell_type": "code",
   "execution_count": 1106,
   "id": "a439c897",
   "metadata": {
    "scrolled": true
   },
   "outputs": [
    {
     "name": "stdout",
     "output_type": "stream",
     "text": [
      "Number of recognized unclipped test data: 494\n",
      "Total number of unclipped test data: 860\n",
      "Ratio of recognized unclipped test data: 0.5744186046511628\n",
      "\n",
      "Anger: 57\n",
      "Happiness: 52\n",
      "Sadness: 20\n",
      "Surpise: 147\n",
      "Neutral: 60\n",
      "Fear: 158\n",
      "\n",
      "Anger: 122\n",
      "Happiness: 144\n",
      "Sadness: 134\n",
      "Surpise: 158\n",
      "Neutral: 144\n",
      "Fear: 158\n",
      "\n"
     ]
    }
   ],
   "source": [
    "unclipped_ratio = len(indices_of_unclipped_recognized) / len(x_unclipped)\n",
    "print(\"Number of recognized unclipped test data: {}\\nTotal number of unclipped test data: {}\\nRatio of recognized unclipped test data: {}\\n\".format(len(indices_of_unclipped_recognized),len(x_unclipped), unclipped_ratio ))\n",
    "print(\"Anger: {}\\nHappiness: {}\\nSadness: {}\\nSurpise: {}\\nNeutral: {}\\nFear: {}\\n\".format(dic_val_unclipped['ang'],dic_val_unclipped['hap'],dic_val_unclipped['sad'],dic_val_unclipped['sur'],dic_val_unclipped['neu'],dic_val_unclipped['fea']))\n",
    "print(\"Anger: {}\\nHappiness: {}\\nSadness: {}\\nSurpise: {}\\nNeutral: {}\\nFear: {}\\n\".format(dic_true_val_unclipped['ang'],dic_true_val_unclipped['hap'],dic_true_val_unclipped['sad'],dic_true_val_unclipped['sur'],dic_true_val_unclipped['neu'],dic_true_val_unclipped['fea']))"
   ]
  },
  {
   "cell_type": "code",
   "execution_count": null,
   "id": "892ea4e7",
   "metadata": {},
   "outputs": [],
   "source": []
  }
 ],
 "metadata": {
  "kernelspec": {
   "display_name": "Python 3",
   "language": "python",
   "name": "python3"
  },
  "language_info": {
   "codemirror_mode": {
    "name": "ipython",
    "version": 3
   },
   "file_extension": ".py",
   "mimetype": "text/x-python",
   "name": "python",
   "nbconvert_exporter": "python",
   "pygments_lexer": "ipython3",
   "version": "3.7.3"
  }
 },
 "nbformat": 4,
 "nbformat_minor": 5
}
