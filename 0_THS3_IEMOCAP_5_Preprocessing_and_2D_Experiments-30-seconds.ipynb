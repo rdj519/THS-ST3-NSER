{
 "cells": [
  {
   "cell_type": "code",
   "execution_count": 2,
   "id": "4fd62be2",
   "metadata": {},
   "outputs": [
    {
     "name": "stderr",
     "output_type": "stream",
     "text": [
      "/home/jupyter-reynaldo_delimajr/.local/lib/python3.7/site-packages/pydub/utils.py:170: RuntimeWarning: Couldn't find ffmpeg or avconv - defaulting to ffmpeg, but may not work\n",
      "  warn(\"Couldn't find ffmpeg or avconv - defaulting to ffmpeg, but may not work\", RuntimeWarning)\n"
     ]
    }
   ],
   "source": [
    "import matplotlib.pyplot as plt\n",
    "from scipy import signal\n",
    "from scipy.io import wavfile\n",
    "import wave\n",
    "import contextlib\n",
    "import librosa\n",
    "import numpy as np\n",
    "import os\n",
    "import pandas as pd\n",
    "import soundfile\n",
    "import sys\n",
    "import os\n",
    "import numpy as np\n",
    "from pydub import AudioSegment, effects\n",
    "import librosa\n",
    "import noisereduce as nr\n",
    "import matplotlib.pyplot as plt\n",
    "from librosa import display   \n",
    "import IPython.display as ipd\n",
    "import wave\n",
    "import contextlib\n",
    "import joblib"
   ]
  },
  {
   "cell_type": "markdown",
   "id": "4821b2e2",
   "metadata": {},
   "source": [
    "### Import the data"
   ]
  },
  {
   "cell_type": "code",
   "execution_count": 3,
   "id": "def103e0",
   "metadata": {},
   "outputs": [],
   "source": [
    "## LOAD MEL DATA\n",
    "f = open('IEMOCAP_Data/Processed/audio_features_mel_2d', 'rb')\n",
    "mel = joblib.load(f)\n",
    "f.close()"
   ]
  },
  {
   "cell_type": "code",
   "execution_count": 4,
   "id": "edf2208f",
   "metadata": {},
   "outputs": [],
   "source": [
    "## LOAD MFCC DATA\n",
    "f = open('IEMOCAP_Data/Processed/audio_features_mfcc_2d', 'rb')\n",
    "mfcc = joblib.load(f)\n",
    "f.close()"
   ]
  },
  {
   "cell_type": "code",
   "execution_count": 5,
   "id": "bff7e360",
   "metadata": {},
   "outputs": [],
   "source": [
    "## LOAD LABEL DATA\n",
    "f = open('IEMOCAP_Data/Processed/labels', 'rb')\n",
    "labels = joblib.load(f)\n",
    "f.close()"
   ]
  },
  {
   "cell_type": "code",
   "execution_count": 6,
   "id": "15d0ac9a",
   "metadata": {},
   "outputs": [],
   "source": [
    "labels_backup = labels"
   ]
  },
  {
   "cell_type": "markdown",
   "id": "2d13da5d",
   "metadata": {},
   "source": [
    "### Changing the labels\n",
    "To increase the amount of 'happiness' label, we upscale it by combining excited, and 'frustration' with 'sadness'."
   ]
  },
  {
   "cell_type": "code",
   "execution_count": 7,
   "id": "e94d5d60",
   "metadata": {},
   "outputs": [],
   "source": [
    "for i in range(len(labels)):\n",
    "    if labels[i] == 2:\n",
    "        labels[i]  = 1\n",
    "    elif labels[i]  == 3:\n",
    "        labels[i]  = 2\n",
    "    elif labels[i]  == 4:\n",
    "        labels[i]  = 2\n",
    "    elif labels[i]  == 5:\n",
    "        labels[i]  = 3\n",
    "    elif labels[i]  == 6:\n",
    "        labels[i]  = 4\n",
    "    elif labels[i]  == 7:\n",
    "        labels[i]  = 5"
   ]
  },
  {
   "cell_type": "code",
   "execution_count": 8,
   "id": "fd6a35cd",
   "metadata": {},
   "outputs": [
    {
     "name": "stdout",
     "output_type": "stream",
     "text": [
      "8\n",
      "8\n",
      "8\n",
      "8\n",
      "8\n",
      "8\n",
      "8\n",
      "8\n",
      "8\n",
      "8\n",
      "8\n",
      "8\n",
      "8\n",
      "8\n",
      "8\n",
      "8\n",
      "8\n",
      "8\n",
      "8\n",
      "8\n",
      "8\n",
      "8\n",
      "8\n",
      "8\n",
      "8\n",
      "8\n",
      "8\n",
      "8\n",
      "8\n",
      "8\n",
      "8\n",
      "8\n",
      "8\n",
      "8\n",
      "8\n",
      "8\n",
      "8\n",
      "8\n",
      "8\n",
      "8\n",
      "8\n",
      "8\n",
      "8\n",
      "8\n",
      "8\n",
      "8\n",
      "8\n",
      "8\n",
      "8\n",
      "8\n",
      "8\n",
      "8\n",
      "8\n",
      "8\n",
      "8\n",
      "8\n",
      "8\n",
      "8\n",
      "8\n",
      "8\n",
      "8\n",
      "8\n",
      "8\n",
      "8\n",
      "8\n",
      "8\n",
      "8\n",
      "8\n",
      "8\n",
      "8\n",
      "8\n",
      "8\n",
      "8\n",
      "8\n",
      "8\n",
      "8\n",
      "8\n",
      "8\n",
      "8\n",
      "8\n",
      "8\n",
      "8\n",
      "8\n",
      "8\n",
      "8\n",
      "8\n",
      "8\n",
      "8\n",
      "8\n",
      "8\n",
      "8\n",
      "8\n",
      "8\n",
      "8\n",
      "8\n",
      "8\n",
      "8\n",
      "8\n",
      "8\n",
      "8\n",
      "8\n",
      "8\n",
      "8\n",
      "8\n",
      "8\n",
      "8\n",
      "8\n",
      "8\n",
      "8\n",
      "8\n",
      "8\n",
      "8\n",
      "8\n",
      "8\n",
      "8\n",
      "8\n",
      "8\n",
      "8\n",
      "8\n",
      "8\n",
      "8\n",
      "8\n",
      "8\n",
      "8\n",
      "8\n",
      "8\n",
      "8\n",
      "8\n",
      "8\n",
      "8\n",
      "8\n",
      "8\n",
      "8\n",
      "8\n",
      "8\n",
      "8\n",
      "8\n",
      "8\n",
      "8\n",
      "8\n",
      "8\n",
      "8\n",
      "8\n",
      "8\n",
      "8\n",
      "8\n",
      "8\n",
      "8\n",
      "8\n",
      "8\n",
      "8\n",
      "8\n",
      "8\n",
      "8\n",
      "8\n",
      "8\n",
      "8\n",
      "8\n",
      "8\n",
      "8\n",
      "8\n",
      "8\n",
      "8\n",
      "8\n",
      "8\n",
      "8\n",
      "8\n",
      "8\n",
      "8\n",
      "8\n",
      "8\n",
      "8\n",
      "8\n",
      "8\n",
      "8\n",
      "8\n",
      "8\n",
      "8\n",
      "8\n",
      "8\n",
      "8\n",
      "8\n",
      "8\n",
      "8\n",
      "8\n",
      "8\n",
      "8\n",
      "8\n",
      "8\n",
      "8\n",
      "8\n",
      "8\n",
      "8\n",
      "8\n",
      "8\n",
      "8\n",
      "8\n",
      "8\n",
      "8\n",
      "8\n",
      "8\n",
      "8\n",
      "8\n",
      "8\n",
      "8\n",
      "8\n",
      "8\n",
      "8\n",
      "8\n",
      "8\n",
      "8\n",
      "8\n",
      "8\n",
      "8\n",
      "8\n",
      "8\n",
      "8\n",
      "8\n",
      "8\n",
      "8\n",
      "8\n",
      "8\n",
      "8\n",
      "8\n",
      "8\n",
      "8\n",
      "8\n",
      "8\n",
      "8\n",
      "8\n",
      "8\n",
      "8\n",
      "8\n",
      "8\n",
      "8\n",
      "8\n",
      "8\n",
      "8\n",
      "8\n",
      "8\n",
      "8\n",
      "8\n",
      "8\n",
      "8\n",
      "8\n",
      "8\n",
      "8\n",
      "8\n",
      "8\n",
      "8\n",
      "8\n",
      "8\n",
      "8\n",
      "8\n",
      "8\n",
      "8\n",
      "8\n",
      "8\n",
      "8\n",
      "8\n",
      "8\n",
      "8\n",
      "8\n",
      "8\n",
      "8\n",
      "8\n",
      "8\n",
      "8\n",
      "8\n",
      "8\n",
      "8\n",
      "8\n",
      "8\n",
      "8\n",
      "8\n",
      "8\n",
      "8\n",
      "8\n",
      "8\n",
      "8\n",
      "8\n",
      "8\n",
      "8\n",
      "8\n",
      "8\n",
      "8\n",
      "8\n",
      "8\n",
      "8\n",
      "8\n",
      "8\n",
      "8\n",
      "8\n",
      "8\n",
      "8\n",
      "8\n",
      "8\n",
      "8\n",
      "8\n",
      "8\n",
      "8\n",
      "8\n",
      "8\n",
      "8\n",
      "8\n",
      "8\n",
      "8\n",
      "8\n",
      "8\n",
      "8\n",
      "8\n",
      "8\n",
      "8\n",
      "8\n",
      "8\n",
      "8\n",
      "8\n",
      "8\n",
      "8\n",
      "8\n",
      "8\n",
      "8\n",
      "8\n",
      "8\n",
      "8\n",
      "8\n",
      "8\n",
      "8\n",
      "8\n",
      "8\n",
      "8\n",
      "8\n",
      "8\n",
      "8\n",
      "8\n",
      "8\n",
      "8\n",
      "8\n",
      "8\n",
      "8\n",
      "8\n",
      "8\n",
      "8\n",
      "8\n",
      "8\n",
      "8\n",
      "8\n",
      "8\n",
      "8\n",
      "8\n",
      "8\n",
      "8\n",
      "8\n",
      "8\n",
      "8\n",
      "8\n",
      "8\n",
      "8\n",
      "8\n",
      "8\n",
      "8\n",
      "8\n",
      "8\n",
      "8\n",
      "8\n",
      "8\n",
      "8\n",
      "8\n",
      "8\n",
      "8\n",
      "8\n",
      "8\n",
      "8\n",
      "8\n",
      "8\n",
      "8\n",
      "8\n",
      "8\n",
      "8\n",
      "8\n",
      "8\n",
      "8\n",
      "8\n",
      "8\n",
      "8\n",
      "8\n",
      "8\n",
      "8\n",
      "8\n",
      "8\n",
      "8\n",
      "8\n",
      "8\n",
      "8\n",
      "8\n",
      "8\n",
      "8\n",
      "8\n",
      "8\n",
      "8\n",
      "8\n",
      "8\n",
      "8\n",
      "8\n",
      "8\n",
      "8\n",
      "8\n",
      "8\n",
      "8\n",
      "8\n",
      "8\n",
      "8\n",
      "8\n",
      "8\n",
      "8\n",
      "8\n",
      "8\n",
      "8\n",
      "8\n",
      "8\n",
      "8\n",
      "8\n",
      "8\n",
      "8\n",
      "8\n",
      "8\n",
      "8\n",
      "8\n",
      "8\n",
      "8\n",
      "8\n",
      "8\n",
      "8\n",
      "8\n",
      "8\n",
      "8\n",
      "8\n",
      "8\n",
      "8\n",
      "8\n",
      "8\n",
      "8\n",
      "8\n",
      "8\n",
      "8\n",
      "8\n",
      "8\n",
      "8\n",
      "8\n",
      "8\n",
      "8\n",
      "8\n",
      "8\n",
      "8\n",
      "8\n",
      "8\n",
      "8\n",
      "8\n",
      "8\n",
      "8\n",
      "8\n",
      "8\n",
      "8\n",
      "8\n",
      "8\n",
      "8\n",
      "8\n",
      "8\n",
      "8\n",
      "8\n",
      "8\n",
      "8\n",
      "8\n",
      "8\n",
      "8\n",
      "8\n",
      "8\n",
      "8\n",
      "8\n",
      "8\n",
      "8\n",
      "8\n",
      "8\n",
      "8\n",
      "8\n",
      "8\n",
      "8\n",
      "8\n",
      "8\n",
      "8\n",
      "8\n",
      "8\n",
      "8\n",
      "8\n",
      "8\n",
      "8\n",
      "8\n",
      "8\n",
      "8\n",
      "8\n",
      "8\n",
      "8\n",
      "8\n",
      "8\n",
      "8\n",
      "8\n",
      "8\n",
      "8\n",
      "8\n",
      "8\n",
      "8\n",
      "8\n",
      "8\n",
      "8\n",
      "8\n",
      "8\n",
      "8\n",
      "8\n",
      "8\n",
      "8\n",
      "8\n",
      "8\n",
      "8\n",
      "8\n",
      "8\n",
      "8\n",
      "8\n",
      "8\n",
      "8\n",
      "8\n",
      "8\n",
      "8\n",
      "8\n",
      "8\n",
      "8\n",
      "8\n",
      "8\n",
      "8\n",
      "8\n",
      "8\n",
      "8\n",
      "8\n",
      "8\n",
      "8\n",
      "8\n",
      "8\n",
      "8\n",
      "8\n",
      "8\n",
      "8\n",
      "8\n",
      "8\n",
      "8\n",
      "8\n",
      "8\n",
      "8\n",
      "8\n",
      "8\n",
      "8\n",
      "8\n",
      "8\n",
      "8\n",
      "8\n",
      "8\n",
      "8\n",
      "8\n",
      "8\n",
      "8\n",
      "8\n",
      "8\n",
      "8\n",
      "8\n",
      "8\n",
      "8\n",
      "8\n",
      "8\n",
      "8\n",
      "8\n",
      "8\n",
      "8\n",
      "8\n",
      "8\n",
      "8\n",
      "8\n",
      "8\n",
      "8\n",
      "8\n",
      "8\n",
      "8\n",
      "8\n",
      "8\n",
      "8\n",
      "8\n",
      "8\n",
      "8\n",
      "8\n",
      "8\n",
      "8\n",
      "8\n",
      "8\n",
      "8\n",
      "8\n",
      "8\n",
      "8\n",
      "8\n",
      "8\n",
      "8\n",
      "8\n",
      "8\n",
      "8\n",
      "8\n",
      "8\n",
      "8\n",
      "8\n",
      "8\n",
      "8\n",
      "8\n",
      "8\n",
      "8\n",
      "8\n",
      "8\n",
      "8\n",
      "8\n",
      "8\n",
      "8\n",
      "8\n",
      "8\n",
      "8\n",
      "8\n",
      "8\n",
      "8\n",
      "8\n",
      "8\n",
      "8\n",
      "8\n",
      "8\n",
      "8\n",
      "8\n",
      "8\n",
      "8\n",
      "8\n",
      "8\n",
      "8\n",
      "8\n",
      "8\n",
      "8\n",
      "8\n",
      "8\n",
      "8\n",
      "8\n",
      "8\n",
      "8\n",
      "8\n",
      "8\n",
      "8\n",
      "8\n",
      "8\n",
      "8\n",
      "8\n",
      "8\n",
      "8\n",
      "8\n",
      "8\n",
      "8\n",
      "8\n",
      "8\n",
      "8\n",
      "8\n",
      "8\n",
      "8\n",
      "8\n",
      "8\n",
      "8\n",
      "8\n",
      "8\n",
      "8\n",
      "8\n",
      "8\n",
      "8\n",
      "8\n",
      "8\n",
      "8\n",
      "8\n",
      "8\n",
      "8\n",
      "8\n",
      "8\n",
      "8\n",
      "8\n",
      "8\n",
      "8\n",
      "8\n",
      "8\n",
      "8\n",
      "8\n",
      "8\n",
      "8\n",
      "8\n",
      "8\n",
      "8\n",
      "8\n",
      "8\n",
      "8\n",
      "8\n",
      "8\n",
      "8\n",
      "8\n",
      "8\n",
      "8\n",
      "8\n",
      "8\n",
      "8\n",
      "8\n",
      "8\n",
      "8\n",
      "8\n",
      "8\n",
      "8\n",
      "8\n",
      "8\n",
      "8\n",
      "8\n",
      "8\n",
      "8\n",
      "8\n",
      "8\n",
      "8\n",
      "8\n",
      "8\n",
      "8\n",
      "8\n",
      "8\n",
      "8\n",
      "8\n",
      "8\n",
      "8\n",
      "8\n",
      "8\n",
      "8\n",
      "8\n",
      "8\n",
      "8\n",
      "8\n",
      "8\n",
      "8\n",
      "8\n",
      "8\n",
      "8\n",
      "8\n",
      "8\n",
      "8\n",
      "8\n",
      "8\n",
      "8\n",
      "8\n",
      "8\n",
      "8\n",
      "8\n",
      "8\n",
      "8\n",
      "8\n",
      "8\n",
      "8\n",
      "8\n",
      "8\n",
      "8\n",
      "8\n",
      "8\n",
      "8\n",
      "8\n",
      "8\n",
      "8\n",
      "8\n",
      "8\n",
      "8\n",
      "8\n",
      "8\n",
      "8\n",
      "8\n",
      "8\n",
      "8\n",
      "8\n",
      "8\n"
     ]
    }
   ],
   "source": [
    "for i in range(len(labels)):\n",
    "    if labels[i] == 8:\n",
    "        print(labels[i])"
   ]
  },
  {
   "cell_type": "code",
   "execution_count": 9,
   "id": "2abf8432",
   "metadata": {},
   "outputs": [],
   "source": [
    "labels_modified = labels\n",
    "labels_1 = labels"
   ]
  },
  {
   "cell_type": "code",
   "execution_count": 10,
   "id": "a3d06d6c",
   "metadata": {},
   "outputs": [],
   "source": [
    "labels_new = []\n",
    "X_new_mel = []\n",
    "X_new_mfcc = []\n",
    "for i in range(len(labels)):\n",
    "    if labels[i] != 8:\n",
    "        if labels[i] != None:\n",
    "            labels_new.append(labels[i])\n",
    "            X_new_mel.append(mel[i])\n",
    "            X_new_mfcc.append(mfcc[i])"
   ]
  },
  {
   "cell_type": "code",
   "execution_count": 11,
   "id": "1704a64a",
   "metadata": {},
   "outputs": [],
   "source": [
    "labels_backup_no_eight = labels_new\n",
    "mel_backup_no_eight = X_new_mel\n",
    "mfcc_back_no_eight = X_new_mfcc"
   ]
  },
  {
   "cell_type": "code",
   "execution_count": 12,
   "id": "46e824af",
   "metadata": {},
   "outputs": [
    {
     "data": {
      "text/plain": [
       "3762"
      ]
     },
     "execution_count": 12,
     "metadata": {},
     "output_type": "execute_result"
    }
   ],
   "source": [
    "len(X_new_mel)"
   ]
  },
  {
   "cell_type": "code",
   "execution_count": 13,
   "id": "67bfc36a",
   "metadata": {},
   "outputs": [
    {
     "name": "stdout",
     "output_type": "stream",
     "text": [
      "(array([0, 1, 2, 3, 4, 5]), array([ 235,  946, 1509,    8,   60, 1004]))\n"
     ]
    }
   ],
   "source": [
    "labels_new_array = np.array(labels_new)\n",
    "print(np.unique(labels_new_array, return_counts=True))"
   ]
  },
  {
   "cell_type": "code",
   "execution_count": 14,
   "id": "59f43c4e",
   "metadata": {},
   "outputs": [],
   "source": [
    "X_mel = []\n",
    "X_mfcc = []\n",
    "X_label = []"
   ]
  },
  {
   "cell_type": "code",
   "execution_count": 15,
   "id": "a383ec48",
   "metadata": {},
   "outputs": [],
   "source": [
    "x_anger_mel = []\n",
    "x_fear_mel = []\n",
    "x_surprise_mel = []\n",
    "\n",
    "x_anger_mfcc = []\n",
    "x_fear_mfcc = []\n",
    "x_surprise_mfcc = []\n",
    "\n",
    "for i in range(len(X_new_mel)):\n",
    "    if(labels_new[i] == 3): #fear\n",
    "        x_fear_mel.append(X_new_mel[i])\n",
    "        x_fear_mfcc.append(X_new_mfcc[i])\n",
    "    elif(labels_new[i] == 4): #surprise\n",
    "        x_surprise_mel.append(X_new_mel[i])\n",
    "        x_surprise_mfcc.append(X_new_mfcc[i])\n",
    "    elif(labels_new[i] == 0): #anger\n",
    "        x_anger_mel.append(X_new_mel[i])\n",
    "        x_anger_mfcc.append(X_new_mfcc[i])"
   ]
  },
  {
   "cell_type": "markdown",
   "id": "71dfb9ed",
   "metadata": {},
   "source": [
    "### We upscale the data to 500 each label.\n",
    "to make sure that every label has the same amount of uterances during the training we upsampled anger, fear and surpirse for all utterances to reach a minimum number of 500 \n"
   ]
  },
  {
   "cell_type": "code",
   "execution_count": 16,
   "id": "e0edb13d",
   "metadata": {},
   "outputs": [],
   "source": [
    "#anger \n",
    "for i in range(3):\n",
    "    for i in range(len(x_anger_mel)):\n",
    "        X_new_mel.append(x_anger_mel[i])\n",
    "        X_new_mfcc.append(x_anger_mfcc[i])\n",
    "        labels_new.append(0)\n",
    "#fear\n",
    "for i in range(65):\n",
    "    for i in range(len(x_fear_mel)):\n",
    "        X_new_mel.append(x_fear_mel[i])\n",
    "        X_new_mfcc.append(x_fear_mfcc[i])\n",
    "        labels_new.append(3)\n",
    "#surprise\n",
    "for i in range(9):\n",
    "    for i in range(len(x_surprise_mel)):\n",
    "        X_new_mel.append(x_surprise_mel[i])\n",
    "        X_new_mfcc.append(x_surprise_mfcc[i])\n",
    "        labels_new.append(4)"
   ]
  },
  {
   "cell_type": "code",
   "execution_count": 17,
   "id": "bd0a94aa",
   "metadata": {},
   "outputs": [],
   "source": [
    "X_mel_data_500 = []\n",
    "X_mfcc_data_500 = []\n",
    "labels_new_data_500 = []\n",
    "\n",
    "ang_ctr = 0\n",
    "hap_ctr = 0\n",
    "sad_ctr = 0\n",
    "fea_ctr = 0\n",
    "sur_ctr = 0\n",
    "neu_ctr = 0 \n",
    "\n",
    "for i in range(len(X_new_mel)):\n",
    "    if labels_new[i] == 0:\n",
    "        if ang_ctr < 500:\n",
    "            X_mel_data_500.append(X_new_mel[i])\n",
    "            X_mfcc_data_500.append(X_new_mfcc[i])\n",
    "            labels_new_data_500.append(labels_new[i])\n",
    "            ang_ctr += 1\n",
    "    if labels_new[i] == 1:\n",
    "        if hap_ctr < 500:\n",
    "            X_mel_data_500.append(X_new_mel[i])\n",
    "            X_mfcc_data_500.append(X_new_mfcc[i])\n",
    "            labels_new_data_500.append(labels_new[i])\n",
    "            hap_ctr += 1\n",
    "    if labels_new[i] == 2:\n",
    "        if sad_ctr < 500:\n",
    "            X_mel_data_500.append(X_new_mel[i])\n",
    "            X_mfcc_data_500.append(X_new_mfcc[i])\n",
    "            labels_new_data_500.append(labels_new[i])\n",
    "            sad_ctr += 1\n",
    "    if labels_new[i] == 3:\n",
    "        if fea_ctr < 500:\n",
    "            X_mel_data_500.append(X_new_mel[i])\n",
    "            X_mfcc_data_500.append(X_new_mfcc[i])\n",
    "            labels_new_data_500.append(labels_new[i])\n",
    "            fea_ctr += 1\n",
    "    if labels_new[i] == 4:\n",
    "        if sur_ctr < 500:\n",
    "            X_mel_data_500.append(X_new_mel[i])\n",
    "            X_mfcc_data_500.append(X_new_mfcc[i])\n",
    "            labels_new_data_500.append(labels_new[i])\n",
    "            sur_ctr += 1\n",
    "    if labels_new[i] == 5:\n",
    "        if neu_ctr < 500:\n",
    "            X_mel_data_500.append(X_new_mel[i])\n",
    "            X_mfcc_data_500.append(X_new_mfcc[i])\n",
    "            labels_new_data_500.append(labels_new[i])\n",
    "            neu_ctr += 1"
   ]
  },
  {
   "cell_type": "markdown",
   "id": "43f96433",
   "metadata": {},
   "source": [
    "### Cell under shows that each label has a 500 utterances within"
   ]
  },
  {
   "cell_type": "code",
   "execution_count": 18,
   "id": "5afc32ae",
   "metadata": {},
   "outputs": [
    {
     "name": "stdout",
     "output_type": "stream",
     "text": [
      "(array([0, 1, 2, 3, 4, 5]), array([500, 500, 500, 500, 500, 500]))\n"
     ]
    }
   ],
   "source": [
    "labels_new_array = np.array(labels_new_data_500)\n",
    "print(np.unique(labels_new_array, return_counts=True))"
   ]
  },
  {
   "cell_type": "code",
   "execution_count": 19,
   "id": "c56f4ad2",
   "metadata": {},
   "outputs": [
    {
     "name": "stdout",
     "output_type": "stream",
     "text": [
      "500\n"
     ]
    }
   ],
   "source": [
    "print(ang_ctr)"
   ]
  },
  {
   "cell_type": "code",
   "execution_count": 20,
   "id": "bb8d9ab9",
   "metadata": {},
   "outputs": [
    {
     "data": {
      "text/plain": [
       "8"
      ]
     },
     "execution_count": 20,
     "metadata": {},
     "output_type": "execute_result"
    }
   ],
   "source": [
    "len(x_fear_mfcc)"
   ]
  },
  {
   "cell_type": "markdown",
   "id": "021347b8",
   "metadata": {},
   "source": [
    "#### Save the data to binary file\n",
    "In order for the team to access the data a lot easier in future trainings the labels, mel-spectrogram, and mfcc features of each utterances are saved within seperated binary files"
   ]
  },
  {
   "cell_type": "raw",
   "id": "b6df4a9f",
   "metadata": {},
   "source": [
    "joblib.dump(labels_new_data_500, 'IEMOCAP_Data/Processed2D/labels_500_2d', compress=0, protocol=None, cache_size=None)"
   ]
  },
  {
   "cell_type": "raw",
   "id": "852ff0fc",
   "metadata": {},
   "source": [
    "joblib.dump(X_mel_data_500, 'IEMOCAP_Data/Processed2D/mel_500_2d', compress=0, protocol=None, cache_size=None)"
   ]
  },
  {
   "cell_type": "raw",
   "id": "33c9c66b",
   "metadata": {},
   "source": [
    "joblib.dump(X_mfcc_data_500, 'IEMOCAP_Data/Processed2D/mfcc_500_2d', compress=0, protocol=None, cache_size=None)"
   ]
  },
  {
   "cell_type": "code",
   "execution_count": 47,
   "id": "18027c75",
   "metadata": {},
   "outputs": [],
   "source": [
    "f = open('IEMOCAP_Data/Try/wav_3000', 'rb')\n",
    "wav_names = joblib.load(f)\n",
    "f.close()"
   ]
  },
  {
   "cell_type": "code",
   "execution_count": 48,
   "id": "eaf33005",
   "metadata": {},
   "outputs": [
    {
     "data": {
      "text/plain": [
       "5"
      ]
     },
     "execution_count": 48,
     "metadata": {},
     "output_type": "execute_result"
    }
   ],
   "source": [
    "labels[246]"
   ]
  },
  {
   "cell_type": "code",
   "execution_count": 52,
   "id": "6a317694",
   "metadata": {},
   "outputs": [],
   "source": [
    "# 3 and 4\n",
    "pos_fear = []\n",
    "pos_surprise = []\n",
    "\n",
    "for i in range(len(labels)):\n",
    "    if(labels[i] == 3):\n",
    "        pos_fear.append(i)\n",
    "    elif(labels[i] == 4):\n",
    "        pos_surprise.append(i)"
   ]
  },
  {
   "cell_type": "code",
   "execution_count": 53,
   "id": "675ed11f",
   "metadata": {},
   "outputs": [
    {
     "data": {
      "text/plain": [
       "[1502, 3706, 4351, 4352, 4364, 4365, 4366, 4368]"
      ]
     },
     "execution_count": 53,
     "metadata": {},
     "output_type": "execute_result"
    }
   ],
   "source": [
    "pos_fear"
   ]
  },
  {
   "cell_type": "code",
   "execution_count": 55,
   "id": "eb611401",
   "metadata": {},
   "outputs": [],
   "source": [
    "# cross check with wav files to check if they are more than 15 sec."
   ]
  },
  {
   "cell_type": "markdown",
   "id": "aa5bcc93",
   "metadata": {},
   "source": [
    "#### Import the data"
   ]
  },
  {
   "cell_type": "code",
   "execution_count": 21,
   "id": "0ef84759",
   "metadata": {},
   "outputs": [],
   "source": [
    "### LOAD EVERYTHING\n",
    "f = open('IEMOCAP_Data/Processed2D/labels_500_2d', 'rb')\n",
    "labels_new_data_500 = joblib.load(f)\n",
    "f.close()\n",
    "\n",
    "f = open('IEMOCAP_Data/Processed2D/mel_500_2d', 'rb')\n",
    "X_mel_data_500 = joblib.load(f)\n",
    "f.close()\n",
    "\n",
    "f = open('IEMOCAP_Data/Processed2D/mfcc_500_2d', 'rb')\n",
    "X_mfcc_data_500 = joblib.load(f)\n",
    "f.close()\n"
   ]
  },
  {
   "cell_type": "markdown",
   "id": "63130b99",
   "metadata": {},
   "source": [
    "### We start experimentation now\n",
    "\n",
    "Both mfcc and mel spectrogram features are splited with a ratio of 70-30 using the train_test_split from sklearn.model_selection"
   ]
  },
  {
   "cell_type": "code",
   "execution_count": 22,
   "id": "0b0646a7",
   "metadata": {},
   "outputs": [],
   "source": [
    "from sklearn.model_selection import train_test_split"
   ]
  },
  {
   "cell_type": "markdown",
   "id": "32e7f5ee",
   "metadata": {},
   "source": [
    "Split the <b>mel spectrogram </b> features\n",
    "\n",
    "\n"
   ]
  },
  {
   "cell_type": "code",
   "execution_count": 23,
   "id": "913b490f",
   "metadata": {},
   "outputs": [],
   "source": [
    "X_train_mel, X_test_mel, y_train_mel, y_test_mel = train_test_split(np.array(X_mel_data_500), labels_new_data_500 , test_size=0.3, random_state=7)"
   ]
  },
  {
   "cell_type": "markdown",
   "id": "22d9d628",
   "metadata": {},
   "source": [
    "Split the <b>mfcc </b> features"
   ]
  },
  {
   "cell_type": "code",
   "execution_count": 24,
   "id": "39d0d563",
   "metadata": {},
   "outputs": [],
   "source": [
    "X_train_mfcc, X_test_mfcc, y_train_mfcc, y_test_mfcc = train_test_split(np.array(X_mfcc_data_500), labels_new_data_500 , test_size=0.3, random_state=7)"
   ]
  },
  {
   "cell_type": "markdown",
   "id": "15e2e310",
   "metadata": {},
   "source": [
    "### We store the train and test data for both mel and mfcc"
   ]
  },
  {
   "cell_type": "code",
   "execution_count": 25,
   "id": "55e7953b",
   "metadata": {},
   "outputs": [
    {
     "data": {
      "text/plain": [
       "['IEMOCAP_Data/Data/y_test_mfcc']"
      ]
     },
     "execution_count": 25,
     "metadata": {},
     "output_type": "execute_result"
    }
   ],
   "source": [
    "# Mel\n",
    "joblib.dump(X_train_mel, 'IEMOCAP_Data/Data_30_sec/X_train_mel', compress=0, protocol=None, cache_size=None)\n",
    "joblib.dump(X_test_mel, 'IEMOCAP_Data/Data_30_sec/X_test_mel', compress=0, protocol=None, cache_size=None)\n",
    "joblib.dump(y_train_mel, 'IEMOCAP_Data/Data_30_sec/y_train_mel', compress=0, protocol=None, cache_size=None)\n",
    "joblib.dump(y_test_mel, 'IEMOCAP_Data/Data_30_sec/y_test_mel', compress=0, protocol=None, cache_size=None)\n",
    "\n",
    "# mfcc\n",
    "joblib.dump(X_train_mfcc, 'IEMOCAP_Data/Data_30_sec/X_train_mfcc', compress=0, protocol=None, cache_size=None)\n",
    "joblib.dump(X_test_mfcc, 'IEMOCAP_Data/Data_30_sec/X_test_mfcc', compress=0, protocol=None, cache_size=None)\n",
    "joblib.dump(y_train_mfcc, 'IEMOCAP_Data/Data_30_sec/y_train_mfcc', compress=0, protocol=None, cache_size=None)\n",
    "joblib.dump(y_test_mfcc, 'IEMOCAP_Data/Data_30_sec/y_test_mfcc', compress=0, protocol=None, cache_size=None)"
   ]
  },
  {
   "cell_type": "markdown",
   "id": "badcef90",
   "metadata": {},
   "source": [
    "<b> 1D MFCC: </b>                               \n",
    "TDNN + LSTM                         \n",
    "<b> 2D MELSPECTROGRAM: </b>                \n",
    "IMAGE RECOG CNN                "
   ]
  },
  {
   "cell_type": "markdown",
   "id": "583f751a",
   "metadata": {},
   "source": [
    "### Imported the libraries needed for model building"
   ]
  },
  {
   "cell_type": "code",
   "execution_count": 26,
   "id": "481495f3",
   "metadata": {},
   "outputs": [],
   "source": [
    "#import segmentation_models as sm\n",
    "import numpy as np\n",
    "import matplotlib.pyplot as plt\n",
    "import tensorflow as tf\n",
    "from tensorflow.keras.preprocessing import sequence\n",
    "from tensorflow.keras.models import Sequential\n",
    "from tensorflow.keras.layers import Dense, Embedding, BatchNormalization\n",
    "from tensorflow.keras.utils import to_categorical\n",
    "from tensorflow.keras.layers import Input, Flatten, Dropout, Activation\n",
    "from tensorflow.keras.layers import Conv1D, MaxPooling1D\n",
    "from tensorflow.keras.models import Model\n",
    "from tensorflow.keras.callbacks import ModelCheckpoint\n",
    "from tensorflow.keras.layers import Lambda\n",
    "from tensorflow.keras import backend as K\n",
    "from tensorflow.keras.models import Sequential\n",
    "from tensorflow.keras import layers\n",
    "from tensorflow.keras import optimizers\n",
    "from tensorflow.keras import callbacks \n",
    "\n",
    "from kerassurgeon.operations  import delete_layer, insert_layer\n",
    "from tensorflow.keras.models import load_model\n",
    "\n",
    "from tensorflow.keras.applications.resnet50 import ResNet50\n",
    "from tensorflow.keras.layers import Conv2D, MaxPooling2D, GlobalMaxPooling1D, GlobalMaxPooling2D\n",
    "from tensorflow.keras.layers import Conv1D, Conv2D, MaxPooling2D, GlobalMaxPooling2D, MaxPooling1D, GlobalMaxPooling1D, Reshape\n",
    "from tensorflow.keras.layers import BatchNormalization, LSTM\n",
    "from keras_self_attention import SeqSelfAttention"
   ]
  },
  {
   "cell_type": "code",
   "execution_count": 27,
   "id": "0e27a67a",
   "metadata": {},
   "outputs": [],
   "source": [
    "import numpy as np"
   ]
  },
  {
   "cell_type": "code",
   "execution_count": 28,
   "id": "56c0938a",
   "metadata": {},
   "outputs": [
    {
     "data": {
      "text/plain": [
       "['/opt/tljh/user/lib/python3.7/site-packages/numpy']"
      ]
     },
     "execution_count": 28,
     "metadata": {},
     "output_type": "execute_result"
    }
   ],
   "source": [
    "np.__version__\n",
    "np.__path__"
   ]
  },
  {
   "cell_type": "code",
   "execution_count": 29,
   "id": "5dcbceb9",
   "metadata": {},
   "outputs": [
    {
     "data": {
      "text/plain": [
       "(2100, 128, 872)"
      ]
     },
     "execution_count": 29,
     "metadata": {},
     "output_type": "execute_result"
    }
   ],
   "source": [
    "X_train_mel.shape"
   ]
  },
  {
   "cell_type": "markdown",
   "id": "7f8927f9",
   "metadata": {},
   "source": [
    "### Turn Y data to onehot\n",
    "\n",
    "this is to make sure that some models require the Y or the labels to be encoded as onehot format, so we decided to transform each labels into onehot format\n",
    "\n",
    "##### example of regular Y data are\n",
    "y = 1 or y = 5\n",
    "\n",
    "##### example of onehot encoded Y data are\n",
    "y = [ 0, 1, 0, 0, 0, 0 ]  or  y = [ 0, 0, 0, 0, 0, 1 ]"
   ]
  },
  {
   "cell_type": "code",
   "execution_count": 38,
   "id": "efd445f7",
   "metadata": {},
   "outputs": [],
   "source": [
    "y_onehot_train_mel = y_train_mel\n",
    "y_onehot_test_mel = y_test_mel\n",
    "\n",
    "y_onehot_train_mfcc = y_train_mfcc\n",
    "y_onehot_test_mfcc = y_test_mfcc"
   ]
  },
  {
   "cell_type": "code",
   "execution_count": 39,
   "id": "2ef27678",
   "metadata": {},
   "outputs": [],
   "source": [
    "y_onehot_train_mel = pd.get_dummies(y_onehot_train_mel)\n",
    "y_onehot_test_mel = pd.get_dummies(y_onehot_test_mel)\n",
    "\n",
    "y_onehot_train_mfcc = pd.get_dummies(y_onehot_train_mfcc)\n",
    "y_onehot_test_mfcc = pd.get_dummies(y_onehot_test_mfcc)"
   ]
  },
  {
   "cell_type": "code",
   "execution_count": 40,
   "id": "069af623",
   "metadata": {},
   "outputs": [],
   "source": [
    "y_onehot_train_mel = np.asarray(y_onehot_train_mel).astype('int8')\n",
    "y_onehot_test_mel  = np.asarray(y_onehot_test_mel).astype('int8')\n",
    "\n",
    "y_onehot_train_mfcc = np.asarray(y_onehot_train_mfcc).astype('int8')\n",
    "y_onehot_test_mfcc  = np.asarray(y_onehot_test_mfcc).astype('int8')"
   ]
  },
  {
   "cell_type": "code",
   "execution_count": 41,
   "id": "e8015c39",
   "metadata": {},
   "outputs": [
    {
     "data": {
      "text/plain": [
       "array([[0, 0, 0, 0, 0, 1],\n",
       "       [1, 0, 0, 0, 0, 0],\n",
       "       [0, 1, 0, 0, 0, 0],\n",
       "       ...,\n",
       "       [0, 0, 0, 0, 0, 1],\n",
       "       [0, 1, 0, 0, 0, 0],\n",
       "       [1, 0, 0, 0, 0, 0]], dtype=int8)"
      ]
     },
     "execution_count": 41,
     "metadata": {},
     "output_type": "execute_result"
    }
   ],
   "source": [
    "y_onehot_train_mfcc"
   ]
  },
  {
   "cell_type": "markdown",
   "id": "c742d6e5",
   "metadata": {},
   "source": [
    "### A simple function to calculate for the f1-loss"
   ]
  },
  {
   "cell_type": "code",
   "execution_count": 46,
   "id": "d1c9e0ed",
   "metadata": {},
   "outputs": [],
   "source": [
    "def f1_loss(y_true, y_pred):\n",
    "\n",
    "    tp = K.sum(K.cast(y_true*y_pred, 'float'), axis=0)\n",
    "    tn = K.sum(K.cast((1-y_true)*(1-y_pred), 'float'), axis=0)\n",
    "    fp = K.sum(K.cast((1-y_true)*y_pred, 'float'), axis=0)\n",
    "    fn = K.sum(K.cast(y_true*(1-y_pred), 'float'), axis=0)\n",
    "\n",
    "    p = tp / (tp + fp + K.epsilon())\n",
    "    r = tp / (tp + fn + K.epsilon())\n",
    "\n",
    "    f1 = 2*p*r / (p+r+K.epsilon())\n",
    "    f1 = tf.where(tf.math.is_nan(f1), tf.zeros_like(f1), f1)\n",
    "    return 1 - K.mean(f1)"
   ]
  },
  {
   "cell_type": "markdown",
   "id": "8d6fa557",
   "metadata": {},
   "source": [
    "### ResNet50 using Mel Spectrogram features\n",
    "\n",
    "We imported ResNet50 through tensorflow.keras with the input shape of (128,872,1) basing from the mel-spectrogram shape we have and we also expanded the dimesion of the X data or the mel-spectrogram to 3 dimensional in order for it to fully fit the ResNet's training "
   ]
  },
  {
   "cell_type": "markdown",
   "id": "1d41877c",
   "metadata": {},
   "source": [
    "###### 128 = number of Mel spectrogram features\n",
    "###### 872 = time length\n",
    "###### 1 = number of labels it contains"
   ]
  },
  {
   "cell_type": "code",
   "execution_count": 48,
   "id": "e617f43e",
   "metadata": {},
   "outputs": [],
   "source": [
    "X_traincnn_mel_2d = np.expand_dims(X_train_mel, axis = 3)\n",
    "X_testcnn_mel_2d = np.expand_dims(X_test_mel, axis = 3)"
   ]
  },
  {
   "cell_type": "code",
   "execution_count": 49,
   "id": "976df9dc",
   "metadata": {},
   "outputs": [
    {
     "data": {
      "text/plain": [
       "(2100, 128, 872, 1)"
      ]
     },
     "execution_count": 49,
     "metadata": {},
     "output_type": "execute_result"
    }
   ],
   "source": [
    "X_traincnn_mel_2d.shape"
   ]
  },
  {
   "cell_type": "code",
   "execution_count": 68,
   "id": "03b30749",
   "metadata": {},
   "outputs": [],
   "source": [
    "resnet_model = Sequential()\n",
    "\n",
    "pretrained_model= tf.keras.applications.ResNet50(include_top=False,\n",
    "                   input_shape=(128, 872, 1),\n",
    "                   pooling='max',classes=6,  weights=None)\n",
    "#for layer in pretrained_model.layers:\n",
    "        #layer.trainable=False\n",
    "\n",
    "resnet_model.add(pretrained_model)"
   ]
  },
  {
   "cell_type": "code",
   "execution_count": 69,
   "id": "94725976",
   "metadata": {},
   "outputs": [],
   "source": [
    "resnet_model.add(Flatten())"
   ]
  },
  {
   "cell_type": "code",
   "execution_count": 70,
   "id": "32dec39d",
   "metadata": {},
   "outputs": [],
   "source": [
    "resnet_model.add(Dense(6, activation='softmax'))"
   ]
  },
  {
   "cell_type": "code",
   "execution_count": 71,
   "id": "31a9f3b9",
   "metadata": {},
   "outputs": [
    {
     "name": "stdout",
     "output_type": "stream",
     "text": [
      "Model: \"sequential_6\"\n",
      "_________________________________________________________________\n",
      "Layer (type)                 Output Shape              Param #   \n",
      "=================================================================\n",
      "resnet50 (Functional)        (None, 2048)              23581440  \n",
      "_________________________________________________________________\n",
      "flatten_4 (Flatten)          (None, 2048)              0         \n",
      "_________________________________________________________________\n",
      "dense_5 (Dense)              (None, 6)                 12294     \n",
      "=================================================================\n",
      "Total params: 23,593,734\n",
      "Trainable params: 23,540,614\n",
      "Non-trainable params: 53,120\n",
      "_________________________________________________________________\n"
     ]
    }
   ],
   "source": [
    "resnet_model.summary()"
   ]
  },
  {
   "cell_type": "code",
   "execution_count": 72,
   "id": "5fe82c1a",
   "metadata": {},
   "outputs": [],
   "source": [
    "opt2 = tf.keras.optimizers.Adam(lr=0.001)\n",
    "resnet_model.compile(optimizer=opt2,loss='categorical_crossentropy',metrics=['categorical_accuracy', f1_loss])"
   ]
  },
  {
   "cell_type": "code",
   "execution_count": 75,
   "id": "1c327bcb",
   "metadata": {},
   "outputs": [
    {
     "name": "stdout",
     "output_type": "stream",
     "text": [
      "Epoch 1/50\n",
      "42/42 [==============================] - 1174s 28s/step - loss: 1.4946 - categorical_accuracy: 0.4229 - f1_loss: 0.6793 - val_loss: 1.7223 - val_categorical_accuracy: 0.3222 - val_f1_loss: 0.7910\n",
      "Epoch 2/50\n",
      "42/42 [==============================] - 1176s 28s/step - loss: 1.2673 - categorical_accuracy: 0.4952 - f1_loss: 0.6263 - val_loss: 1.4298 - val_categorical_accuracy: 0.4367 - val_f1_loss: 0.7068\n",
      "Epoch 3/50\n",
      "42/42 [==============================] - 1184s 28s/step - loss: 1.2790 - categorical_accuracy: 0.5052 - f1_loss: 0.6082 - val_loss: 1.3469 - val_categorical_accuracy: 0.4422 - val_f1_loss: 0.6778\n",
      "Epoch 4/50\n",
      "42/42 [==============================] - 1184s 28s/step - loss: 1.3758 - categorical_accuracy: 0.5333 - f1_loss: 0.5791 - val_loss: 1.3549 - val_categorical_accuracy: 0.4533 - val_f1_loss: 0.6745\n",
      "Epoch 5/50\n",
      "42/42 [==============================] - 1192s 28s/step - loss: 1.1164 - categorical_accuracy: 0.5605 - f1_loss: 0.5406 - val_loss: 1.3344 - val_categorical_accuracy: 0.4644 - val_f1_loss: 0.6484\n",
      "Epoch 6/50\n",
      "42/42 [==============================] - 1220s 29s/step - loss: 0.8399 - categorical_accuracy: 0.6462 - f1_loss: 0.4555 - val_loss: 1.2276 - val_categorical_accuracy: 0.4422 - val_f1_loss: 0.6234\n",
      "Epoch 7/50\n",
      "42/42 [==============================] - 1707s 41s/step - loss: 0.7825 - categorical_accuracy: 0.6914 - f1_loss: 0.4122 - val_loss: 1.1398 - val_categorical_accuracy: 0.4933 - val_f1_loss: 0.5885\n",
      "Epoch 8/50\n",
      "42/42 [==============================] - 2270s 54s/step - loss: 1.2244 - categorical_accuracy: 0.5681 - f1_loss: 0.5242 - val_loss: 1.4218 - val_categorical_accuracy: 0.4978 - val_f1_loss: 0.6254\n",
      "Epoch 9/50\n",
      "42/42 [==============================] - 2323s 55s/step - loss: 0.8717 - categorical_accuracy: 0.6648 - f1_loss: 0.4523 - val_loss: 1.0306 - val_categorical_accuracy: 0.5333 - val_f1_loss: 0.5352\n",
      "Epoch 10/50\n",
      "42/42 [==============================] - 2306s 55s/step - loss: 0.6689 - categorical_accuracy: 0.7133 - f1_loss: 0.3763 - val_loss: 1.1009 - val_categorical_accuracy: 0.5067 - val_f1_loss: 0.5543\n",
      "Epoch 11/50\n",
      "42/42 [==============================] - 2333s 56s/step - loss: 0.7794 - categorical_accuracy: 0.7052 - f1_loss: 0.3891 - val_loss: 1.3407 - val_categorical_accuracy: 0.5633 - val_f1_loss: 0.5318\n",
      "Epoch 12/50\n",
      "42/42 [==============================] - 2303s 55s/step - loss: 0.7859 - categorical_accuracy: 0.7214 - f1_loss: 0.3882 - val_loss: 3.1413 - val_categorical_accuracy: 0.3700 - val_f1_loss: 0.6670\n",
      "Epoch 13/50\n",
      "42/42 [==============================] - 2328s 56s/step - loss: 1.1407 - categorical_accuracy: 0.6271 - f1_loss: 0.4600 - val_loss: 6.6574 - val_categorical_accuracy: 0.2167 - val_f1_loss: 0.8582\n",
      "Epoch 14/50\n",
      "42/42 [==============================] - 2370s 57s/step - loss: 0.9285 - categorical_accuracy: 0.6548 - f1_loss: 0.4486 - val_loss: 1.2350 - val_categorical_accuracy: 0.5167 - val_f1_loss: 0.5522\n",
      "Epoch 17/50\n",
      "42/42 [==============================] - 2692s 64s/step - loss: 1.1820 - categorical_accuracy: 0.6614 - f1_loss: 0.4310 - val_loss: 2.4811 - val_categorical_accuracy: 0.2556 - val_f1_loss: 0.7903\n",
      "Epoch 18/50\n",
      "42/42 [==============================] - 2800s 67s/step - loss: 1.2868 - categorical_accuracy: 0.5967 - f1_loss: 0.5002 - val_loss: 2.4255 - val_categorical_accuracy: 0.3333 - val_f1_loss: 0.7096\n",
      "Epoch 19/50\n",
      "42/42 [==============================] - 2724s 65s/step - loss: 1.3241 - categorical_accuracy: 0.6114 - f1_loss: 0.4774 - val_loss: 1.6477 - val_categorical_accuracy: 0.5178 - val_f1_loss: 0.5704\n",
      "Epoch 20/50\n",
      "42/42 [==============================] - 3007s 72s/step - loss: 0.8973 - categorical_accuracy: 0.7114 - f1_loss: 0.4080 - val_loss: 0.9484 - val_categorical_accuracy: 0.6078 - val_f1_loss: 0.4905\n",
      "Epoch 21/50\n",
      "42/42 [==============================] - 3044s 73s/step - loss: 0.6839 - categorical_accuracy: 0.7376 - f1_loss: 0.3720 - val_loss: 1.0744 - val_categorical_accuracy: 0.5778 - val_f1_loss: 0.4990\n",
      "Epoch 22/50\n",
      "42/42 [==============================] - 3013s 72s/step - loss: 0.5892 - categorical_accuracy: 0.7624 - f1_loss: 0.3323 - val_loss: 0.8711 - val_categorical_accuracy: 0.6367 - val_f1_loss: 0.4550\n",
      "Epoch 23/50\n",
      "42/42 [==============================] - 2990s 71s/step - loss: 0.4934 - categorical_accuracy: 0.8038 - f1_loss: 0.2879 - val_loss: 0.9252 - val_categorical_accuracy: 0.6511 - val_f1_loss: 0.4302\n",
      "Epoch 24/50\n",
      "42/42 [==============================] - 3099s 74s/step - loss: 0.3919 - categorical_accuracy: 0.8500 - f1_loss: 0.2331 - val_loss: 0.9164 - val_categorical_accuracy: 0.6567 - val_f1_loss: 0.4231\n",
      "Epoch 25/50\n",
      "42/42 [==============================] - 3109s 74s/step - loss: 0.3095 - categorical_accuracy: 0.8886 - f1_loss: 0.1894 - val_loss: 0.9068 - val_categorical_accuracy: 0.6844 - val_f1_loss: 0.3925\n",
      "Epoch 26/50\n",
      "42/42 [==============================] - 3016s 72s/step - loss: 0.4077 - categorical_accuracy: 0.8476 - f1_loss: 0.2231 - val_loss: 1.0768 - val_categorical_accuracy: 0.6478 - val_f1_loss: 0.4170\n",
      "Epoch 27/50\n",
      "42/42 [==============================] - 3231s 78s/step - loss: 0.4146 - categorical_accuracy: 0.8529 - f1_loss: 0.2208 - val_loss: 1.1297 - val_categorical_accuracy: 0.6589 - val_f1_loss: 0.4072\n",
      "Epoch 28/50\n",
      "42/42 [==============================] - 3349s 80s/step - loss: 0.3984 - categorical_accuracy: 0.8638 - f1_loss: 0.2148 - val_loss: 1.9794 - val_categorical_accuracy: 0.5767 - val_f1_loss: 0.4707\n",
      "Epoch 29/50\n",
      "42/42 [==============================] - 3050s 73s/step - loss: 0.4378 - categorical_accuracy: 0.8719 - f1_loss: 0.2085 - val_loss: 1.1343 - val_categorical_accuracy: 0.6678 - val_f1_loss: 0.3972\n",
      "Epoch 30/50\n",
      "42/42 [==============================] - 2992s 71s/step - loss: 0.2942 - categorical_accuracy: 0.8976 - f1_loss: 0.1692 - val_loss: 1.0402 - val_categorical_accuracy: 0.6744 - val_f1_loss: 0.3790\n",
      "Epoch 31/50\n",
      "42/42 [==============================] - 3172s 76s/step - loss: 0.1761 - categorical_accuracy: 0.9514 - f1_loss: 0.0917 - val_loss: 1.3630 - val_categorical_accuracy: 0.6467 - val_f1_loss: 0.4181\n",
      "Epoch 32/50\n",
      "42/42 [==============================] - 3518s 84s/step - loss: 0.5701 - categorical_accuracy: 0.8519 - f1_loss: 0.2017 - val_loss: 2.5927 - val_categorical_accuracy: 0.5633 - val_f1_loss: 0.4821\n",
      "Epoch 33/50\n",
      "42/42 [==============================] - 3409s 81s/step - loss: 0.5481 - categorical_accuracy: 0.8767 - f1_loss: 0.1945 - val_loss: 1.8485 - val_categorical_accuracy: 0.5922 - val_f1_loss: 0.4457\n",
      "Epoch 34/50\n",
      "42/42 [==============================] - 2926s 70s/step - loss: 0.2364 - categorical_accuracy: 0.9214 - f1_loss: 0.1359 - val_loss: 1.2501 - val_categorical_accuracy: 0.6578 - val_f1_loss: 0.3971\n",
      "Epoch 35/50\n",
      "42/42 [==============================] - 2727s 65s/step - loss: 0.3414 - categorical_accuracy: 0.9257 - f1_loss: 0.1335 - val_loss: 1.3669 - val_categorical_accuracy: 0.6722 - val_f1_loss: 0.3971\n",
      "Epoch 36/50\n",
      "42/42 [==============================] - 3021s 72s/step - loss: 0.1647 - categorical_accuracy: 0.9452 - f1_loss: 0.1078 - val_loss: 1.2407 - val_categorical_accuracy: 0.7078 - val_f1_loss: 0.3425\n",
      "Epoch 37/50\n",
      "42/42 [==============================] - 3014s 72s/step - loss: 0.2585 - categorical_accuracy: 0.9662 - f1_loss: 0.0618 - val_loss: 1.8632 - val_categorical_accuracy: 0.6422 - val_f1_loss: 0.4123\n",
      "Epoch 38/50\n",
      "42/42 [==============================] - 3000s 72s/step - loss: 0.3907 - categorical_accuracy: 0.8705 - f1_loss: 0.1760 - val_loss: 1.7293 - val_categorical_accuracy: 0.6278 - val_f1_loss: 0.4449\n",
      "Epoch 39/50\n",
      "42/42 [==============================] - 3011s 72s/step - loss: 0.2385 - categorical_accuracy: 0.9257 - f1_loss: 0.1303 - val_loss: 1.2118 - val_categorical_accuracy: 0.6811 - val_f1_loss: 0.3707\n",
      "Epoch 40/50\n",
      "42/42 [==============================] - 2975s 71s/step - loss: 0.2025 - categorical_accuracy: 0.9633 - f1_loss: 0.0771 - val_loss: 1.3222 - val_categorical_accuracy: 0.6944 - val_f1_loss: 0.3443\n",
      "Epoch 41/50\n",
      "42/42 [==============================] - 3003s 72s/step - loss: 0.1151 - categorical_accuracy: 0.9705 - f1_loss: 0.0591 - val_loss: 1.5105 - val_categorical_accuracy: 0.6644 - val_f1_loss: 0.3705\n",
      "Epoch 42/50\n",
      "42/42 [==============================] - 3016s 72s/step - loss: 0.1063 - categorical_accuracy: 0.9786 - f1_loss: 0.0527 - val_loss: 1.5097 - val_categorical_accuracy: 0.7022 - val_f1_loss: 0.3355\n",
      "Epoch 43/50\n",
      "42/42 [==============================] - 2995s 71s/step - loss: 0.0346 - categorical_accuracy: 0.9938 - f1_loss: 0.0251 - val_loss: 1.4996 - val_categorical_accuracy: 0.7111 - val_f1_loss: 0.3247\n",
      "Epoch 44/50\n",
      "42/42 [==============================] - 3017s 72s/step - loss: 1.1972 - categorical_accuracy: 0.8014 - f1_loss: 0.2324 - val_loss: 10.4457 - val_categorical_accuracy: 0.2789 - val_f1_loss: 0.7568\n",
      "Epoch 45/50\n",
      "42/42 [==============================] - 2998s 72s/step - loss: 0.5207 - categorical_accuracy: 0.8100 - f1_loss: 0.2742 - val_loss: 2.6468 - val_categorical_accuracy: 0.4500 - val_f1_loss: 0.5736\n",
      "Epoch 46/50\n",
      "42/42 [==============================] - 2992s 71s/step - loss: 0.5207 - categorical_accuracy: 0.9062 - f1_loss: 0.1591 - val_loss: 1.7765 - val_categorical_accuracy: 0.5833 - val_f1_loss: 0.4656\n",
      "Epoch 47/50\n",
      "42/42 [==============================] - 3154s 75s/step - loss: 0.5047 - categorical_accuracy: 0.8814 - f1_loss: 0.1853 - val_loss: 1.2341 - val_categorical_accuracy: 0.6311 - val_f1_loss: 0.4131\n",
      "Epoch 48/50\n",
      "42/42 [==============================] - 3046s 73s/step - loss: 1.0607 - categorical_accuracy: 0.8267 - f1_loss: 0.2223 - val_loss: 6.4735 - val_categorical_accuracy: 0.3600 - val_f1_loss: 0.7144\n",
      "Epoch 49/50\n",
      "42/42 [==============================] - 3079s 74s/step - loss: 0.6867 - categorical_accuracy: 0.7705 - f1_loss: 0.3300 - val_loss: 1.3395 - val_categorical_accuracy: 0.5589 - val_f1_loss: 0.4978\n",
      "Epoch 50/50\n",
      "42/42 [==============================] - 3213s 77s/step - loss: 1.2784 - categorical_accuracy: 0.8248 - f1_loss: 0.2460 - val_loss: 5.0102 - val_categorical_accuracy: 0.3000 - val_f1_loss: 0.7371\n"
     ]
    }
   ],
   "source": [
    "history = resnet_model.fit(X_traincnn_mel_2d, y_onehot_train_mel, batch_size=50, epochs=50, validation_data=(X_testcnn_mel_2d, y_onehot_test_mel))"
   ]
  },
  {
   "cell_type": "code",
   "execution_count": 80,
   "id": "98262409",
   "metadata": {},
   "outputs": [
    {
     "data": {
      "image/png": "[encoded data removed]",
      "text/plain": [
       "<Figure size 432x288 with 1 Axes>"
      ]
     },
     "metadata": {
      "needs_background": "light"
     },
     "output_type": "display_data"
    },
    {
     "data": {
      "image/png": "[encoded data removed]",
      "text/plain": [
       "<Figure size 432x288 with 1 Axes>"
      ]
     },
     "metadata": {
      "needs_background": "light"
     },
     "output_type": "display_data"
    }
   ],
   "source": [
    "plt.plot(history.history['categorical_accuracy'])\n",
    "plt.plot(history.history['val_categorical_accuracy'])\n",
    "plt.title('model accuracy')\n",
    "plt.ylabel('accuracy')\n",
    "plt.xlabel('epoch')\n",
    "plt.legend(['train', 'test'], loc='upper left')\n",
    "plt.show()\n",
    "# summarize history for loss\n",
    "plt.plot(history.history['loss'])\n",
    "plt.plot(history.history['val_loss'])\n",
    "plt.title('model loss')\n",
    "plt.ylabel('loss')\n",
    "plt.xlabel('epoch')\n",
    "plt.legend(['train', 'test'], loc='upper left')\n",
    "plt.show()"
   ]
  },
  {
   "cell_type": "code",
   "execution_count": 123,
   "id": "9e219eab",
   "metadata": {},
   "outputs": [
    {
     "data": {
      "text/plain": [
       "array([[[9.51713600e+07],\n",
       "        [1.10864656e+08],\n",
       "        [5.94689280e+07],\n",
       "        ...,\n",
       "        [0.00000000e+00],\n",
       "        [0.00000000e+00],\n",
       "        [0.00000000e+00]],\n",
       "\n",
       "       [[6.65804160e+07],\n",
       "        [1.20941816e+08],\n",
       "        [6.16565480e+07],\n",
       "        ...,\n",
       "        [0.00000000e+00],\n",
       "        [0.00000000e+00],\n",
       "        [0.00000000e+00]],\n",
       "\n",
       "       [[1.94081800e+07],\n",
       "        [3.61214200e+07],\n",
       "        [1.95499600e+07],\n",
       "        ...,\n",
       "        [0.00000000e+00],\n",
       "        [0.00000000e+00],\n",
       "        [0.00000000e+00]],\n",
       "\n",
       "       ...,\n",
       "\n",
       "       [[8.49710254e+03],\n",
       "        [2.63126660e+03],\n",
       "        [5.28204346e+02],\n",
       "        ...,\n",
       "        [0.00000000e+00],\n",
       "        [0.00000000e+00],\n",
       "        [0.00000000e+00]],\n",
       "\n",
       "       [[9.26032324e+03],\n",
       "        [3.03422168e+03],\n",
       "        [7.30244080e+02],\n",
       "        ...,\n",
       "        [0.00000000e+00],\n",
       "        [0.00000000e+00],\n",
       "        [0.00000000e+00]],\n",
       "\n",
       "       [[7.87413232e+03],\n",
       "        [2.39573999e+03],\n",
       "        [6.35567261e+02],\n",
       "        ...,\n",
       "        [0.00000000e+00],\n",
       "        [0.00000000e+00],\n",
       "        [0.00000000e+00]]], dtype=float32)"
      ]
     },
     "execution_count": 123,
     "metadata": {},
     "output_type": "execute_result"
    }
   ],
   "source": [
    "X_traincnn_mel_2d[0]"
   ]
  },
  {
   "cell_type": "markdown",
   "id": "25f57a38",
   "metadata": {},
   "source": [
    "### ResNet50 using MFCC features\n",
    "\n",
    "We imported ResNet50 through tensorflow.keras with the input shape of (40,872,1) basing from the mel-spectrogram shape we have and we also expanded the dimesion of the X data or the mfcc to 3 dimensional in order for it to fully fit the ResNet's training"
   ]
  },
  {
   "cell_type": "markdown",
   "id": "29ea63fd",
   "metadata": {},
   "source": [
    "###### 40 = number of mfcc features\n",
    "###### 872 = time length\n",
    "###### 1 = number of labels it contains"
   ]
  },
  {
   "cell_type": "code",
   "execution_count": 81,
   "id": "ee3cabc0",
   "metadata": {},
   "outputs": [],
   "source": [
    "X_traincnn_mfcc_2d = np.expand_dims(X_train_mfcc, axis = 3)\n",
    "X_testcnn_mfcc_2d = np.expand_dims(X_test_mfcc, axis = 3)"
   ]
  },
  {
   "cell_type": "code",
   "execution_count": 104,
   "id": "99eaeedb",
   "metadata": {},
   "outputs": [],
   "source": [
    "resnet_model_mfcc = Sequential()\n",
    "\n",
    "pretrained_model_mfcc= tf.keras.applications.ResNet50(include_top=False,\n",
    "                   input_shape=(40, 872, 1),\n",
    "                   pooling='max',classes=6,  weights=None)\n",
    "#for layer in pretrained_model.layers:\n",
    "        #layer.trainable=False\n",
    "\n",
    "resnet_model_mfcc.add(pretrained_model_mfcc)"
   ]
  },
  {
   "cell_type": "code",
   "execution_count": 105,
   "id": "a3461a0a",
   "metadata": {},
   "outputs": [
    {
     "name": "stdout",
     "output_type": "stream",
     "text": [
      "Model: \"sequential_11\"\n",
      "_________________________________________________________________\n",
      "Layer (type)                 Output Shape              Param #   \n",
      "=================================================================\n",
      "resnet50 (Functional)        (None, 2048)              23581440  \n",
      "_________________________________________________________________\n",
      "flatten_9 (Flatten)          (None, 2048)              0         \n",
      "_________________________________________________________________\n",
      "dense_10 (Dense)             (None, 6)                 12294     \n",
      "=================================================================\n",
      "Total params: 23,593,734\n",
      "Trainable params: 23,540,614\n",
      "Non-trainable params: 53,120\n",
      "_________________________________________________________________\n"
     ]
    }
   ],
   "source": [
    "resnet_model_mfcc.add(Flatten())\n",
    "resnet_model_mfcc.add(Dense(6, activation='softmax'))\n",
    "resnet_model_mfcc.summary()"
   ]
  },
  {
   "cell_type": "code",
   "execution_count": 106,
   "id": "e235e6a0",
   "metadata": {},
   "outputs": [],
   "source": [
    "opt2 = tf.keras.optimizers.Adam(lr=0.001)"
   ]
  },
  {
   "cell_type": "code",
   "execution_count": 107,
   "id": "920555e2",
   "metadata": {},
   "outputs": [],
   "source": [
    "resnet_model_mfcc.compile(optimizer=opt2,loss='categorical_crossentropy',metrics=['categorical_accuracy', f1_loss])"
   ]
  },
  {
   "cell_type": "code",
   "execution_count": 117,
   "id": "386d03e1",
   "metadata": {},
   "outputs": [
    {
     "name": "stdout",
     "output_type": "stream",
     "text": [
      "Epoch 1/50\n",
      "42/42 [==============================] - 902s 22s/step - loss: 1.9734 - categorical_accuracy: 0.2400 - f1_loss: 0.8128 - val_loss: 50.1066 - val_categorical_accuracy: 0.1567 - val_f1_loss: 0.9462\n",
      "Epoch 2/50\n",
      "42/42 [==============================] - 901s 21s/step - loss: 2.3454 - categorical_accuracy: 0.2562 - f1_loss: 0.8144 - val_loss: 430.5458 - val_categorical_accuracy: 0.1600 - val_f1_loss: 0.9461\n",
      "Epoch 3/50\n",
      "42/42 [==============================] - 916s 22s/step - loss: 2.0272 - categorical_accuracy: 0.3138 - f1_loss: 0.7794 - val_loss: 73.2639 - val_categorical_accuracy: 0.1856 - val_f1_loss: 0.9455\n",
      "Epoch 4/50\n",
      "42/42 [==============================] - 901s 21s/step - loss: 1.7123 - categorical_accuracy: 0.3743 - f1_loss: 0.7482 - val_loss: 30.7067 - val_categorical_accuracy: 0.1700 - val_f1_loss: 0.9514\n",
      "Epoch 5/50\n",
      "42/42 [==============================] - 894s 21s/step - loss: 1.5120 - categorical_accuracy: 0.4305 - f1_loss: 0.6909 - val_loss: 4.2534 - val_categorical_accuracy: 0.2811 - val_f1_loss: 0.7896\n",
      "Epoch 6/50\n",
      "42/42 [==============================] - 895s 21s/step - loss: 1.4707 - categorical_accuracy: 0.4500 - f1_loss: 0.6586 - val_loss: 5.4189 - val_categorical_accuracy: 0.2956 - val_f1_loss: 0.7589\n",
      "Epoch 7/50\n",
      "42/42 [==============================] - 917s 22s/step - loss: 1.4913 - categorical_accuracy: 0.4505 - f1_loss: 0.6483 - val_loss: 5.4843 - val_categorical_accuracy: 0.3722 - val_f1_loss: 0.7009\n",
      "Epoch 8/50\n",
      "42/42 [==============================] - 915s 22s/step - loss: 1.4634 - categorical_accuracy: 0.4752 - f1_loss: 0.6332 - val_loss: 1.7510 - val_categorical_accuracy: 0.4856 - val_f1_loss: 0.6428\n",
      "Epoch 9/50\n",
      "42/42 [==============================] - 910s 22s/step - loss: 1.3797 - categorical_accuracy: 0.5090 - f1_loss: 0.6006 - val_loss: 1.2697 - val_categorical_accuracy: 0.4889 - val_f1_loss: 0.6146\n",
      "Epoch 10/50\n",
      "42/42 [==============================] - 907s 22s/step - loss: 1.2762 - categorical_accuracy: 0.5076 - f1_loss: 0.5933 - val_loss: 1.2504 - val_categorical_accuracy: 0.5067 - val_f1_loss: 0.6137\n",
      "Epoch 11/50\n",
      "42/42 [==============================] - 867s 21s/step - loss: 1.2374 - categorical_accuracy: 0.5552 - f1_loss: 0.5600 - val_loss: 2.1225 - val_categorical_accuracy: 0.2033 - val_f1_loss: 0.8068\n",
      "Epoch 12/50\n",
      "42/42 [==============================] - 524s 12s/step - loss: 1.1700 - categorical_accuracy: 0.5514 - f1_loss: 0.5475 - val_loss: 1.9573 - val_categorical_accuracy: 0.2389 - val_f1_loss: 0.7879\n",
      "Epoch 13/50\n",
      "42/42 [==============================] - 494s 12s/step - loss: 1.1056 - categorical_accuracy: 0.5919 - f1_loss: 0.5202 - val_loss: 2.2634 - val_categorical_accuracy: 0.2522 - val_f1_loss: 0.7921\n",
      "Epoch 14/50\n",
      "42/42 [==============================] - 498s 12s/step - loss: 1.1543 - categorical_accuracy: 0.5905 - f1_loss: 0.5228 - val_loss: 1.7478 - val_categorical_accuracy: 0.3478 - val_f1_loss: 0.7205\n",
      "Epoch 15/50\n",
      "42/42 [==============================] - 502s 12s/step - loss: 1.1314 - categorical_accuracy: 0.5948 - f1_loss: 0.5053 - val_loss: 2.4953 - val_categorical_accuracy: 0.5122 - val_f1_loss: 0.5938\n",
      "Epoch 16/50\n",
      "42/42 [==============================] - 493s 12s/step - loss: 1.0924 - categorical_accuracy: 0.6138 - f1_loss: 0.4921 - val_loss: 1.7467 - val_categorical_accuracy: 0.3122 - val_f1_loss: 0.7249\n",
      "Epoch 17/50\n",
      "42/42 [==============================] - 474s 11s/step - loss: 0.9087 - categorical_accuracy: 0.6510 - f1_loss: 0.4508 - val_loss: 1.5658 - val_categorical_accuracy: 0.3744 - val_f1_loss: 0.6785\n",
      "Epoch 18/50\n",
      "42/42 [==============================] - 499s 12s/step - loss: 0.9729 - categorical_accuracy: 0.6633 - f1_loss: 0.4382 - val_loss: 1.2159 - val_categorical_accuracy: 0.4911 - val_f1_loss: 0.5812\n",
      "Epoch 19/50\n",
      "42/42 [==============================] - 516s 12s/step - loss: 0.9496 - categorical_accuracy: 0.6829 - f1_loss: 0.4285 - val_loss: 1.8672 - val_categorical_accuracy: 0.5278 - val_f1_loss: 0.5371\n",
      "Epoch 20/50\n",
      "42/42 [==============================] - 529s 13s/step - loss: 0.9402 - categorical_accuracy: 0.6790 - f1_loss: 0.4199 - val_loss: 1.9232 - val_categorical_accuracy: 0.2978 - val_f1_loss: 0.7198\n",
      "Epoch 21/50\n",
      "42/42 [==============================] - 537s 13s/step - loss: 0.8523 - categorical_accuracy: 0.7090 - f1_loss: 0.3889 - val_loss: 1.1633 - val_categorical_accuracy: 0.5711 - val_f1_loss: 0.5490\n",
      "Epoch 22/50\n",
      "42/42 [==============================] - 536s 13s/step - loss: 0.6939 - categorical_accuracy: 0.7495 - f1_loss: 0.3458 - val_loss: 2.9147 - val_categorical_accuracy: 0.2311 - val_f1_loss: 0.8210\n",
      "Epoch 23/50\n",
      "42/42 [==============================] - 503s 12s/step - loss: 0.7705 - categorical_accuracy: 0.7271 - f1_loss: 0.3602 - val_loss: 2.4898 - val_categorical_accuracy: 0.2867 - val_f1_loss: 0.7747\n",
      "Epoch 24/50\n",
      "42/42 [==============================] - 476s 11s/step - loss: 0.6627 - categorical_accuracy: 0.7581 - f1_loss: 0.3259 - val_loss: 1.0864 - val_categorical_accuracy: 0.5656 - val_f1_loss: 0.4976\n",
      "Epoch 25/50\n",
      "42/42 [==============================] - 485s 12s/step - loss: 0.6863 - categorical_accuracy: 0.7833 - f1_loss: 0.2992 - val_loss: 1.0739 - val_categorical_accuracy: 0.6467 - val_f1_loss: 0.4322\n",
      "Epoch 26/50\n",
      "42/42 [==============================] - 497s 12s/step - loss: 0.6649 - categorical_accuracy: 0.7690 - f1_loss: 0.3166 - val_loss: 1.2272 - val_categorical_accuracy: 0.5756 - val_f1_loss: 0.4773\n",
      "Epoch 27/50\n",
      "42/42 [==============================] - 518s 12s/step - loss: 0.5538 - categorical_accuracy: 0.8148 - f1_loss: 0.2620 - val_loss: 1.7195 - val_categorical_accuracy: 0.4233 - val_f1_loss: 0.6280\n",
      "Epoch 28/50\n",
      "42/42 [==============================] - 508s 12s/step - loss: 0.6654 - categorical_accuracy: 0.7710 - f1_loss: 0.2899 - val_loss: 1.0646 - val_categorical_accuracy: 0.6667 - val_f1_loss: 0.4055\n",
      "Epoch 29/50\n",
      "42/42 [==============================] - 479s 11s/step - loss: 0.4830 - categorical_accuracy: 0.8105 - f1_loss: 0.2580 - val_loss: 0.9787 - val_categorical_accuracy: 0.6844 - val_f1_loss: 0.3817\n",
      "Epoch 30/50\n",
      "42/42 [==============================] - 436s 10s/step - loss: 0.4269 - categorical_accuracy: 0.8562 - f1_loss: 0.2107 - val_loss: 0.8701 - val_categorical_accuracy: 0.6833 - val_f1_loss: 0.3803\n",
      "Epoch 31/50\n",
      "42/42 [==============================] - 420s 10s/step - loss: 0.5401 - categorical_accuracy: 0.8267 - f1_loss: 0.2233 - val_loss: 2.0770 - val_categorical_accuracy: 0.5911 - val_f1_loss: 0.4466\n",
      "Epoch 32/50\n",
      "42/42 [==============================] - 421s 10s/step - loss: 0.4791 - categorical_accuracy: 0.8500 - f1_loss: 0.2068 - val_loss: 1.9399 - val_categorical_accuracy: 0.4756 - val_f1_loss: 0.5419\n",
      "Epoch 33/50\n",
      "42/42 [==============================] - 435s 10s/step - loss: 0.6949 - categorical_accuracy: 0.7962 - f1_loss: 0.2577 - val_loss: 1.6494 - val_categorical_accuracy: 0.5256 - val_f1_loss: 0.4817\n",
      "Epoch 34/50\n",
      "42/42 [==============================] - 435s 10s/step - loss: 0.3588 - categorical_accuracy: 0.8833 - f1_loss: 0.1886 - val_loss: 1.5740 - val_categorical_accuracy: 0.6422 - val_f1_loss: 0.4015\n",
      "Epoch 35/50\n",
      "42/42 [==============================] - 439s 10s/step - loss: 0.3511 - categorical_accuracy: 0.8843 - f1_loss: 0.1571 - val_loss: 1.7465 - val_categorical_accuracy: 0.5578 - val_f1_loss: 0.4790\n",
      "Epoch 36/50\n",
      "42/42 [==============================] - 440s 10s/step - loss: 0.4413 - categorical_accuracy: 0.8510 - f1_loss: 0.1925 - val_loss: 1.6504 - val_categorical_accuracy: 0.6033 - val_f1_loss: 0.4258\n",
      "Epoch 37/50\n",
      "42/42 [==============================] - 448s 11s/step - loss: 0.4823 - categorical_accuracy: 0.8367 - f1_loss: 0.2095 - val_loss: 7.5684 - val_categorical_accuracy: 0.1956 - val_f1_loss: 0.8862\n",
      "Epoch 38/50\n",
      "42/42 [==============================] - 457s 11s/step - loss: 0.3226 - categorical_accuracy: 0.8905 - f1_loss: 0.1732 - val_loss: 1.3242 - val_categorical_accuracy: 0.6256 - val_f1_loss: 0.4205\n",
      "Epoch 39/50\n",
      "42/42 [==============================] - 443s 11s/step - loss: 0.2401 - categorical_accuracy: 0.9152 - f1_loss: 0.1190 - val_loss: 1.4899 - val_categorical_accuracy: 0.5478 - val_f1_loss: 0.4525\n",
      "Epoch 40/50\n",
      "42/42 [==============================] - 402s 10s/step - loss: 0.2772 - categorical_accuracy: 0.9014 - f1_loss: 0.1320 - val_loss: 2.1395 - val_categorical_accuracy: 0.5267 - val_f1_loss: 0.4938\n",
      "Epoch 41/50\n",
      "42/42 [==============================] - 408s 10s/step - loss: 0.2278 - categorical_accuracy: 0.9195 - f1_loss: 0.1200 - val_loss: 1.4656 - val_categorical_accuracy: 0.6700 - val_f1_loss: 0.3701\n",
      "Epoch 42/50\n",
      "42/42 [==============================] - 418s 10s/step - loss: 0.1476 - categorical_accuracy: 0.9481 - f1_loss: 0.0809 - val_loss: 1.3686 - val_categorical_accuracy: 0.6933 - val_f1_loss: 0.3475\n",
      "Epoch 43/50\n",
      "42/42 [==============================] - 424s 10s/step - loss: 0.1663 - categorical_accuracy: 0.9600 - f1_loss: 0.0600 - val_loss: 1.4589 - val_categorical_accuracy: 0.6711 - val_f1_loss: 0.3771\n",
      "Epoch 44/50\n",
      "42/42 [==============================] - 417s 10s/step - loss: 0.2381 - categorical_accuracy: 0.9133 - f1_loss: 0.1086 - val_loss: 1.7906 - val_categorical_accuracy: 0.5844 - val_f1_loss: 0.4277\n",
      "Epoch 45/50\n",
      "42/42 [==============================] - 413s 10s/step - loss: 0.2308 - categorical_accuracy: 0.9152 - f1_loss: 0.1144 - val_loss: 1.6118 - val_categorical_accuracy: 0.6811 - val_f1_loss: 0.3723\n",
      "Epoch 46/50\n",
      "42/42 [==============================] - 419s 10s/step - loss: 0.1436 - categorical_accuracy: 0.9433 - f1_loss: 0.0808 - val_loss: 1.7067 - val_categorical_accuracy: 0.6156 - val_f1_loss: 0.3930\n",
      "Epoch 47/50\n",
      "42/42 [==============================] - 437s 10s/step - loss: 0.2114 - categorical_accuracy: 0.9200 - f1_loss: 0.1102 - val_loss: 2.1128 - val_categorical_accuracy: 0.6044 - val_f1_loss: 0.4267\n",
      "Epoch 48/50\n",
      "42/42 [==============================] - 424s 10s/step - loss: 0.0861 - categorical_accuracy: 0.9705 - f1_loss: 0.0546 - val_loss: 1.7183 - val_categorical_accuracy: 0.6789 - val_f1_loss: 0.3688\n",
      "Epoch 49/50\n",
      "42/42 [==============================] - 395s 9s/step - loss: 0.1041 - categorical_accuracy: 0.9695 - f1_loss: 0.0538 - val_loss: 1.7710 - val_categorical_accuracy: 0.6500 - val_f1_loss: 0.3806\n",
      "Epoch 50/50\n",
      "42/42 [==============================] - 401s 10s/step - loss: 0.0903 - categorical_accuracy: 0.9733 - f1_loss: 0.0439 - val_loss: 1.7199 - val_categorical_accuracy: 0.6744 - val_f1_loss: 0.3589\n"
     ]
    }
   ],
   "source": [
    "history_mfcc_2 = resnet_model_mfcc.fit(X_traincnn_mfcc_2d, y_onehot_train_mfcc, batch_size=50, epochs=50, validation_data=(X_testcnn_mfcc_2d, y_onehot_test_mfcc))"
   ]
  },
  {
   "cell_type": "code",
   "execution_count": 120,
   "id": "cf4f7a3b",
   "metadata": {},
   "outputs": [
    {
     "data": {
      "image/png": "[encoded data removed]",
      "text/plain": [
       "<Figure size 432x288 with 1 Axes>"
      ]
     },
     "metadata": {
      "needs_background": "light"
     },
     "output_type": "display_data"
    },
    {
     "data": {
      "image/png": "[encoded data removed]",
      "text/plain": [
       "<Figure size 432x288 with 1 Axes>"
      ]
     },
     "metadata": {
      "needs_background": "light"
     },
     "output_type": "display_data"
    }
   ],
   "source": [
    "plt.plot(history_mfcc_2.history['categorical_accuracy'])\n",
    "plt.plot(history_mfcc_2.history['val_categorical_accuracy'])\n",
    "plt.title('model accuracy')\n",
    "plt.ylabel('accuracy')\n",
    "plt.xlabel('epoch')\n",
    "plt.legend(['train', 'test'], loc='upper left')\n",
    "plt.show()\n",
    "# summarize history for loss\n",
    "plt.plot(history_mfcc_2.history['loss'][3:])\n",
    "plt.plot(history_mfcc_2.history['val_loss'][3:])\n",
    "plt.title('model loss')\n",
    "plt.ylabel('loss')\n",
    "plt.xlabel('epoch')\n",
    "plt.legend(['train', 'test'], loc='upper left')\n",
    "plt.show()"
   ]
  },
  {
   "cell_type": "code",
   "execution_count": 121,
   "id": "37ca0290",
   "metadata": {},
   "outputs": [
    {
     "data": {
      "image/png": "[encoded data removed]",
      "text/plain": [
       "<Figure size 432x288 with 1 Axes>"
      ]
     },
     "metadata": {
      "needs_background": "light"
     },
     "output_type": "display_data"
    },
    {
     "data": {
      "image/png": "[encoded data removed]",
      "text/plain": [
       "<Figure size 432x288 with 1 Axes>"
      ]
     },
     "metadata": {
      "needs_background": "light"
     },
     "output_type": "display_data"
    }
   ],
   "source": [
    "plt.plot(history_mfcc_2.history['categorical_accuracy'])\n",
    "plt.plot(history_mfcc_2.history['val_categorical_accuracy'])\n",
    "plt.title('model accuracy')\n",
    "plt.ylabel('accuracy')\n",
    "plt.xlabel('epoch')\n",
    "plt.legend(['train', 'test'], loc='upper left')\n",
    "plt.show()\n",
    "# summarize history for loss\n",
    "plt.plot(history_mfcc_2.history['loss'])\n",
    "plt.plot(history_mfcc_2.history['val_loss'])\n",
    "plt.title('model loss')\n",
    "plt.ylabel('loss')\n",
    "plt.xlabel('epoch')\n",
    "plt.legend(['train', 'test'], loc='upper left')\n",
    "plt.show()"
   ]
  }
 ],
 "metadata": {
  "kernelspec": {
   "display_name": "Python 3",
   "language": "python",
   "name": "python3"
  },
  "language_info": {
   "codemirror_mode": {
    "name": "ipython",
    "version": 3
   },
   "file_extension": ".py",
   "mimetype": "text/x-python",
   "name": "python",
   "nbconvert_exporter": "python",
   "pygments_lexer": "ipython3",
   "version": "3.7.3"
  }
 },
 "nbformat": 4,
 "nbformat_minor": 5
}
