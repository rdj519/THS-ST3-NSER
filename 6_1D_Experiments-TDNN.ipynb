{
 "cells": [
  {
   "cell_type": "code",
   "execution_count": 256,
   "id": "724e81be",
   "metadata": {},
   "outputs": [],
   "source": [
    "import librosa\n",
    "import numpy as np\n",
    "import os\n",
    "import pandas as pd\n",
    "import soundfile\n",
    "import sys\n",
    "import joblib\n",
    "import pandas as pd\n",
    "import numpy as np\n",
    "import xgboost as xgb\n",
    "import pickle\n",
    "import matplotlib\n",
    "import matplotlib.pyplot as plt\n",
    "from sklearn.metrics import classification_report\n",
    "from sklearn import metrics\n",
    "from sklearn.svm import SVC, LinearSVC\n",
    "from sklearn.naive_bayes import MultinomialNB\n",
    "from sklearn.linear_model import LogisticRegression\n",
    "from sklearn.ensemble import RandomForestClassifier\n",
    "from sklearn.model_selection import train_test_split\n",
    "from sklearn.neural_network import MLPClassifier\n",
    "from sklearn.metrics import confusion_matrix, f1_score, fbeta_score,accuracy_score, precision_score, recall_score\n",
    "from sklearn.preprocessing import MinMaxScaler, OneHotEncoder\n",
    "from sklearn.feature_selection import SelectFromModel\n",
    "from sklearn.utils.class_weight import compute_class_weight\n",
    "import itertools\n",
    "from IPython.display import display\n",
    "from tensorflow.keras.models import Sequential\n",
    "from tensorflow.keras import layers\n",
    "from tensorflow.keras import optimizers\n",
    "from tensorflow.keras import callbacks \n",
    "\n",
    "%matplotlib inline"
   ]
  },
  {
   "cell_type": "markdown",
   "id": "674f63c9",
   "metadata": {},
   "source": [
    "We define a function that takes a set of features per time frame and stack the mean so that the data becomes 1-Dimension."
   ]
  },
  {
   "cell_type": "code",
   "execution_count": 2,
   "id": "c87a8e0c",
   "metadata": {},
   "outputs": [],
   "source": [
    "def feature_to_1d(features):\n",
    "    result = np.array([])\n",
    "    mfcc = np.mean(features.T, axis=0)\n",
    "    result = np.hstack((result, mfcc))\n",
    "    return result"
   ]
  },
  {
   "cell_type": "code",
   "execution_count": 3,
   "id": "4ebb44d6",
   "metadata": {},
   "outputs": [],
   "source": [
    "emotion_dict = {'ang': 0,\n",
    "                'hap': 1,\n",
    "                'sad': 2,\n",
    "                'fea': 3,\n",
    "                'sur': 4,\n",
    "                'neu': 5}\n",
    "\n",
    "emo_keys = list(['ang', 'hap', 'sad', 'fea', 'sur', 'neu'])\n",
    "def plot_confusion_matrix(cm, classes,\n",
    "                          normalize=False,\n",
    "                          title='Confusion matrix',\n",
    "                          cmap=plt.cm.Blues):\n",
    "    \"\"\"\n",
    "    This function prints and plots the confusion matrix.\n",
    "    Normalization can be applied by setting `normalize=True`.\n",
    "    \"\"\"\n",
    "    # plt.figure(figsize=(8,8))\n",
    "    plt.imshow(cm, interpolation='nearest', cmap=cmap)\n",
    "    plt.title(title)\n",
    "    plt.colorbar()\n",
    "    tick_marks = np.arange(len(classes))\n",
    "    plt.xticks(tick_marks, classes, rotation=45)\n",
    "    plt.yticks(tick_marks, classes)\n",
    "\n",
    "    if normalize:\n",
    "        cm = cm.astype('float') / cm.sum(axis=1)[:, np.newaxis]\n",
    "        print(\"Normalized confusion matrix\")\n",
    "    else:\n",
    "        print('Confusion matrix, without normalization')\n",
    "\n",
    "    print(cm)\n",
    "\n",
    "    thresh = cm.max() / 2.\n",
    "    for i, j in itertools.product(range(cm.shape[0]), range(cm.shape[1])):\n",
    "        plt.text(j, i, cm[i, j],\n",
    "                 horizontalalignment=\"center\",\n",
    "                 color=\"white\" if cm[i, j] > thresh else \"black\")\n",
    "\n",
    "    plt.tight_layout()\n",
    "    plt.ylabel('True label')\n",
    "    plt.xlabel('Predicted label')\n",
    "    \n",
    "def one_hot_encoder(true_labels, num_records, num_classes):\n",
    "    temp = np.array(true_labels[:num_records])\n",
    "    true_labels = np.zeros((num_records, num_classes))\n",
    "    print(num_classes)\n",
    "    true_labels[np.arange(num_records), temp] = 1\n",
    "    return true_labels\n",
    "\n",
    "def display_results(y_test, pred_probs, cm=True):\n",
    "    pred = np.argmax(pred_probs, axis=-1)\n",
    "    one_hot_true = one_hot_encoder(y_test, len(pred), len(emotion_dict))\n",
    "    print('Test Set Accuracy =  {0:.3f}'.format(accuracy_score(y_test, pred)))\n",
    "    print('Test Set F-score =  {0:.3f}'.format(fbeta_score(y_test, pred, beta= 1.0,average='macro')))\n",
    "    print('Test Set Precision =  {0:.3f}'.format(precision_score(y_test, pred, average='macro')))\n",
    "    print('Test Set Recall =  {0:.3f}'.format(recall_score(y_test, pred, average='macro')))\n",
    "    if cm:\n",
    "        plot_confusion_matrix(confusion_matrix(y_test, pred), classes=emo_keys)"
   ]
  },
  {
   "cell_type": "markdown",
   "id": "29bbca0e",
   "metadata": {},
   "source": [
    "We import the binary files containing the original features (MFCCs, and Mel-Spectrogram) in 2D form, as well as the labels corresponding to each feature set."
   ]
  },
  {
   "cell_type": "code",
   "execution_count": 225,
   "id": "238bde0f",
   "metadata": {},
   "outputs": [],
   "source": [
    "#mel\n",
    "\n",
    "f = open('IEMOCAP_Data/Data_10_sec/X_train_mel', 'rb')\n",
    "X_train_mel = joblib.load(f)\n",
    "f.close()\n",
    "f = open('IEMOCAP_Data/Data_10_sec/X_test_mel', 'rb')\n",
    "X_test_mel = joblib.load(f)\n",
    "f.close()\n",
    "f = open('IEMOCAP_Data/Data_10_sec/y_train_mel', 'rb')\n",
    "y_train_mel = joblib.load(f)\n",
    "f.close()\n",
    "f = open('IEMOCAP_Data/Data_10_sec/y_test_mel', 'rb')\n",
    "y_test_mel = joblib.load(f)\n",
    "f.close()\n",
    "\n",
    "#mfcc\n",
    "\n",
    "f = open('IEMOCAP_Data/Data_10_sec/X_train_mfcc', 'rb')\n",
    "X_train_mfcc = joblib.load(f)\n",
    "f.close()\n",
    "f = open('IEMOCAP_Data/Data_10_sec/X_test_mfcc', 'rb')\n",
    "X_test_mfcc = joblib.load(f)\n",
    "f.close()\n",
    "f = open('IEMOCAP_Data/Data_10_sec/y_train_mfcc', 'rb')\n",
    "y_train_mfcc = joblib.load(f)\n",
    "f.close()\n",
    "f = open('IEMOCAP_Data/Data_10_sec/y_test_mfcc', 'rb')\n",
    "y_test_mfcc = joblib.load(f)\n",
    "f.close()"
   ]
  },
  {
   "cell_type": "markdown",
   "id": "2cce0c8a",
   "metadata": {},
   "source": [
    "## Find the indices of clipped audio (test)"
   ]
  },
  {
   "cell_type": "code",
   "execution_count": 226,
   "id": "1ddd24c2",
   "metadata": {},
   "outputs": [
    {
     "data": {
      "text/plain": [
       "(900, 40, 313)"
      ]
     },
     "execution_count": 226,
     "metadata": {},
     "output_type": "execute_result"
    }
   ],
   "source": [
    "X_test_mfcc.shape"
   ]
  },
  {
   "cell_type": "code",
   "execution_count": 227,
   "id": "46994855",
   "metadata": {},
   "outputs": [
    {
     "data": {
      "text/plain": [
       "1600"
      ]
     },
     "execution_count": 227,
     "metadata": {},
     "output_type": "execute_result"
    }
   ],
   "source": [
    "clipped_indices = []\n",
    "\n",
    "for i in range(900):\n",
    "    for j in range(40):\n",
    "        for k in range(313):\n",
    "            if(k == 312 and X_test_mel[i][j][k] != 0):\n",
    "                clipped_indices.append(i)\n",
    "\n",
    "len(clipped_indices)"
   ]
  },
  {
   "cell_type": "code",
   "execution_count": 228,
   "id": "38b4d9da",
   "metadata": {},
   "outputs": [
    {
     "data": {
      "text/plain": [
       "array([  5,  32,  37,  48,  69,  77,  80,  86, 107, 112, 116, 141, 145,\n",
       "       154, 168, 172, 204, 210, 231, 236, 330, 351, 372, 417, 419, 464,\n",
       "       482, 505, 587, 636, 693, 720, 733, 743, 756, 800, 811, 842, 852,\n",
       "       897])"
      ]
     },
     "execution_count": 228,
     "metadata": {},
     "output_type": "execute_result"
    }
   ],
   "source": [
    "x_clipped =np.array(clipped_indices)\n",
    "x_clipped =np.unique(x_clipped)\n",
    "\n",
    "x_clipped"
   ]
  },
  {
   "cell_type": "code",
   "execution_count": 229,
   "id": "0e16f24b",
   "metadata": {},
   "outputs": [],
   "source": [
    "x_unclipped = []\n",
    "for i in range(len(X_test_mel)):\n",
    "    if i not in x_clipped:\n",
    "        x_unclipped.append(i)\n",
    "x_unclipped = np.array(x_unclipped)\n",
    "#x_unclipped"
   ]
  },
  {
   "cell_type": "code",
   "execution_count": 230,
   "id": "6446a963",
   "metadata": {},
   "outputs": [
    {
     "data": {
      "text/plain": [
       "860"
      ]
     },
     "execution_count": 230,
     "metadata": {},
     "output_type": "execute_result"
    }
   ],
   "source": [
    "len(x_unclipped)"
   ]
  },
  {
   "cell_type": "markdown",
   "id": "b04c4db2",
   "metadata": {},
   "source": [
    "32 + 40 = 72"
   ]
  },
  {
   "cell_type": "markdown",
   "id": "a2ff1679",
   "metadata": {},
   "source": [
    "## Examine clipped audio in train set"
   ]
  },
  {
   "cell_type": "code",
   "execution_count": 231,
   "id": "c3a34d5f",
   "metadata": {},
   "outputs": [
    {
     "data": {
      "text/plain": [
       "32"
      ]
     },
     "execution_count": 231,
     "metadata": {},
     "output_type": "execute_result"
    }
   ],
   "source": [
    "clipped_indices_train = []\n",
    "\n",
    "for i in range(900):\n",
    "    for j in range(40):\n",
    "        for k in range(313):\n",
    "            if(k == 312 and X_train_mel[i][j][k] != 0):\n",
    "                clipped_indices_train.append(i)\n",
    "\n",
    "x_clipped_t =np.array(clipped_indices_train)\n",
    "x_clipped_t =np.unique(x_clipped_t)\n",
    "\n",
    "len(x_clipped_t)"
   ]
  },
  {
   "cell_type": "code",
   "execution_count": 232,
   "id": "40acfc42",
   "metadata": {},
   "outputs": [
    {
     "data": {
      "text/plain": [
       "40"
      ]
     },
     "execution_count": 232,
     "metadata": {},
     "output_type": "execute_result"
    }
   ],
   "source": [
    "train_labels = []\n",
    "for i in range(len(y_onehot_train_mfcc.argmax(axis=1))):\n",
    "    if i in x_clipped_t:\n",
    "        train_labels.append(y_onehot_train_mfcc.argmax(axis=1)[i])\n",
    "test_labels = []\n",
    "for i in range(len(y_onehot_test_mfcc.argmax(axis=1))):\n",
    "    if i in x_clipped:\n",
    "        test_labels.append(y_onehot_test_mfcc.argmax(axis=1)[i])\n",
    "\n",
    "len(test_labels)"
   ]
  },
  {
   "cell_type": "code",
   "execution_count": 233,
   "id": "a859f360",
   "metadata": {},
   "outputs": [
    {
     "name": "stdout",
     "output_type": "stream",
     "text": [
      "Train: \n",
      "Counter({2: 12, 5: 9, 4: 6, 1: 3, 0: 2}) \n",
      "\n",
      "Test: \n",
      "Counter({2: 10, 1: 9, 0: 8, 4: 7, 5: 6})\n"
     ]
    }
   ],
   "source": [
    "from collections import Counter\n",
    "train = Counter(train_labels)\n",
    "test = Counter(test_labels)\n",
    "print(\"Train: \\n{} \\n\\nTest: \\n{}\".format(train, test))"
   ]
  },
  {
   "cell_type": "code",
   "execution_count": 234,
   "id": "28be38e1",
   "metadata": {},
   "outputs": [
    {
     "name": "stdout",
     "output_type": "stream",
     "text": [
      "Train count:\n",
      "Anger: 2\n",
      "Happy: 3\n",
      "Sad: 12\n",
      "Fear: 0\n",
      "Surprise: 6\n",
      "Neutral: 9\n",
      "\n"
     ]
    }
   ],
   "source": [
    "print(\"Train count:\\nAnger: {}\\nHappy: {}\\nSad: {}\\nFear: {}\\nSurprise: {}\\nNeutral: {}\\n\".format(train_labels.count(0),train_labels.count(1),train_labels.count(2),train_labels.count(3),train_labels.count(4),train_labels.count(5)))"
   ]
  },
  {
   "cell_type": "code",
   "execution_count": 235,
   "id": "c0a701c7",
   "metadata": {},
   "outputs": [
    {
     "name": "stdout",
     "output_type": "stream",
     "text": [
      "Test count:\n",
      "Anger: 8\n",
      "Happy: 9\n",
      "Sad: 10\n",
      "Fear: 0\n",
      "Surprise: 7\n",
      "Neutral: 6\n",
      "\n"
     ]
    }
   ],
   "source": [
    "print(\"Test count:\\nAnger: {}\\nHappy: {}\\nSad: {}\\nFear: {}\\nSurprise: {}\\nNeutral: {}\\n\".format(test_labels.count(0),test_labels.count(1),test_labels.count(2),test_labels.count(3),test_labels.count(4),test_labels.count(5)))"
   ]
  },
  {
   "cell_type": "code",
   "execution_count": 236,
   "id": "b39352d9",
   "metadata": {},
   "outputs": [],
   "source": [
    "dic_true_val = {}\n",
    "dic_true_val['ang'] = test_labels.count(0)\n",
    "dic_true_val['hap'] = test_labels.count(1)\n",
    "dic_true_val['sad'] = test_labels.count(2)\n",
    "dic_true_val['fea'] = test_labels.count(3)\n",
    "dic_true_val['sur'] = test_labels.count(4)\n",
    "dic_true_val['neu'] = test_labels.count(5)"
   ]
  },
  {
   "cell_type": "markdown",
   "id": "a33a2601",
   "metadata": {},
   "source": [
    "## Unclipped audio"
   ]
  },
  {
   "cell_type": "code",
   "execution_count": 243,
   "id": "9350994e",
   "metadata": {},
   "outputs": [
    {
     "data": {
      "text/plain": [
       "32"
      ]
     },
     "execution_count": 243,
     "metadata": {},
     "output_type": "execute_result"
    }
   ],
   "source": [
    "unclipped_indices_train = []\n",
    "\n",
    "for i in range(900):\n",
    "    for j in range(40):\n",
    "        for k in range(313):\n",
    "            if(k == 312 and X_train_mel[i][j][k] != 0):\n",
    "                unclipped_indices_train.append(i)\n",
    "\n",
    "x_unclipped_t =np.array(unclipped_indices_train)\n",
    "x_unclipped_t =np.unique(x_unclipped_t)\n",
    "\n",
    "len(x_unclipped_t)"
   ]
  },
  {
   "cell_type": "code",
   "execution_count": 244,
   "id": "010a6276",
   "metadata": {},
   "outputs": [
    {
     "data": {
      "text/plain": [
       "860"
      ]
     },
     "execution_count": 244,
     "metadata": {},
     "output_type": "execute_result"
    }
   ],
   "source": [
    "train_labels = []\n",
    "for i in range(len(y_onehot_train_mfcc.argmax(axis=1))):\n",
    "    if i in x_unclipped_t:\n",
    "        train_labels.append(y_onehot_train_mfcc.argmax(axis=1)[i])\n",
    "test_labels = []\n",
    "for i in range(len(y_onehot_test_mfcc.argmax(axis=1))):\n",
    "    if i in x_unclipped:\n",
    "        test_labels.append(y_onehot_test_mfcc.argmax(axis=1)[i])\n",
    "\n",
    "len(test_labels)"
   ]
  },
  {
   "cell_type": "code",
   "execution_count": 245,
   "id": "450290e6",
   "metadata": {},
   "outputs": [
    {
     "name": "stdout",
     "output_type": "stream",
     "text": [
      "Train: \n",
      "Counter({2: 12, 5: 9, 4: 6, 1: 3, 0: 2}) \n",
      "\n",
      "Test: \n",
      "Counter({3: 158, 4: 158, 5: 144, 1: 144, 2: 134, 0: 122})\n"
     ]
    }
   ],
   "source": [
    "train = Counter(train_labels)\n",
    "test = Counter(test_labels)\n",
    "print(\"Train: \\n{} \\n\\nTest: \\n{}\".format(train, test))"
   ]
  },
  {
   "cell_type": "code",
   "execution_count": 246,
   "id": "ddc73c3b",
   "metadata": {},
   "outputs": [
    {
     "name": "stdout",
     "output_type": "stream",
     "text": [
      "Test count:\n",
      "Anger: 122\n",
      "Happy: 144\n",
      "Sad: 134\n",
      "Fear: 158\n",
      "Surprise: 158\n",
      "Neutral: 144\n",
      "\n"
     ]
    }
   ],
   "source": [
    "print(\"Test count:\\nAnger: {}\\nHappy: {}\\nSad: {}\\nFear: {}\\nSurprise: {}\\nNeutral: {}\\n\".format(test_labels.count(0),test_labels.count(1),test_labels.count(2),test_labels.count(3),test_labels.count(4),test_labels.count(5)))"
   ]
  },
  {
   "cell_type": "code",
   "execution_count": 247,
   "id": "0bc5453a",
   "metadata": {},
   "outputs": [],
   "source": [
    "dic_true_val_unclipped = {}\n",
    "dic_true_val_unclipped['ang'] = test_labels.count(0)\n",
    "dic_true_val_unclipped['hap'] = test_labels.count(1)\n",
    "dic_true_val_unclipped['sad'] = test_labels.count(2)\n",
    "dic_true_val_unclipped['fea'] = test_labels.count(3)\n",
    "dic_true_val_unclipped['sur'] = test_labels.count(4)\n",
    "dic_true_val_unclipped['neu'] = test_labels.count(5)"
   ]
  },
  {
   "cell_type": "markdown",
   "id": "a3a6c43a",
   "metadata": {},
   "source": [
    "### Converting to 1D Data\n",
    "\n",
    "We convert the 2D features to 1D data."
   ]
  },
  {
   "cell_type": "code",
   "execution_count": 5,
   "id": "c481de2b",
   "metadata": {},
   "outputs": [],
   "source": [
    "X_train_mel_1d = []\n",
    "X_test_mel_1d = []\n",
    "X_train_mfcc_1d = []\n",
    "X_test_mfcc_1d = []"
   ]
  },
  {
   "cell_type": "code",
   "execution_count": 6,
   "id": "6dd24a82",
   "metadata": {},
   "outputs": [],
   "source": [
    "for i in range(len(X_train_mel)):\n",
    "    X_train_mel_1d.append(feature_to_1d(X_train_mel[i]))\n",
    "for i in range(len(X_test_mel)):\n",
    "    X_test_mel_1d.append(feature_to_1d(X_test_mel[i]))\n",
    "for i in range(len(X_train_mfcc)):\n",
    "    X_train_mfcc_1d.append(feature_to_1d(X_train_mfcc[i]))\n",
    "for i in range(len(X_test_mfcc)):\n",
    "    X_test_mfcc_1d.append(feature_to_1d(X_test_mfcc[i]))"
   ]
  },
  {
   "cell_type": "code",
   "execution_count": 7,
   "id": "089a8ffe",
   "metadata": {},
   "outputs": [],
   "source": [
    "X_train_mel = np.array(X_train_mel_1d)\n",
    "X_test_mel = np.array(X_test_mel_1d)\n",
    "X_train_mfcc = np.array(X_train_mfcc_1d)\n",
    "X_test_mfcc = np.array(X_test_mfcc_1d)"
   ]
  },
  {
   "cell_type": "code",
   "execution_count": 8,
   "id": "02d472d1",
   "metadata": {},
   "outputs": [
    {
     "data": {
      "text/plain": [
       "(2100, 128)"
      ]
     },
     "execution_count": 8,
     "metadata": {},
     "output_type": "execute_result"
    }
   ],
   "source": [
    "X_train_mel.shape"
   ]
  },
  {
   "cell_type": "code",
   "execution_count": 9,
   "id": "8eb337f4",
   "metadata": {},
   "outputs": [
    {
     "data": {
      "text/plain": [
       "(2100, 40)"
      ]
     },
     "execution_count": 9,
     "metadata": {},
     "output_type": "execute_result"
    }
   ],
   "source": [
    "X_train_mfcc.shape"
   ]
  },
  {
   "cell_type": "markdown",
   "id": "f3009edc",
   "metadata": {},
   "source": [
    "Split data into train and test set per feature."
   ]
  },
  {
   "cell_type": "markdown",
   "id": "079bba8e",
   "metadata": {},
   "source": [
    "### Transform the y data \n",
    "\n",
    "We transform the y data containing the labels into onehot-encoded form so that the models can classify the categorical accuracy and loss."
   ]
  },
  {
   "cell_type": "code",
   "execution_count": 10,
   "id": "03d15986",
   "metadata": {},
   "outputs": [],
   "source": [
    "y_onehot_train_mel = y_train_mel\n",
    "y_onehot_test_mel = y_test_mel\n",
    "\n",
    "y_onehot_train_mfcc = y_train_mfcc\n",
    "y_onehot_test_mfcc = y_test_mfcc"
   ]
  },
  {
   "cell_type": "code",
   "execution_count": 11,
   "id": "f18c5fe5",
   "metadata": {},
   "outputs": [],
   "source": [
    "y_onehot_train_mel = pd.get_dummies(y_onehot_train_mel)\n",
    "y_onehot_test_mel = pd.get_dummies(y_onehot_test_mel)\n",
    "\n",
    "y_onehot_train_mfcc = pd.get_dummies(y_onehot_train_mfcc)\n",
    "y_onehot_test_mfcc = pd.get_dummies(y_onehot_test_mfcc)"
   ]
  },
  {
   "cell_type": "code",
   "execution_count": 12,
   "id": "9e16d242",
   "metadata": {},
   "outputs": [],
   "source": [
    "y_onehot_train_mel = np.asarray(y_onehot_train_mel).astype('int8')\n",
    "y_onehot_test_mel  = np.asarray(y_onehot_test_mel).astype('int8')\n",
    "\n",
    "y_onehot_train_mfcc = np.asarray(y_onehot_train_mfcc).astype('int8')\n",
    "y_onehot_test_mfcc  = np.asarray(y_onehot_test_mfcc).astype('int8')"
   ]
  },
  {
   "cell_type": "markdown",
   "id": "d8e5ac2c",
   "metadata": {},
   "source": [
    "Import libraries needed for defining the models."
   ]
  },
  {
   "cell_type": "code",
   "execution_count": 13,
   "id": "9193a1f0",
   "metadata": {},
   "outputs": [
    {
     "name": "stdout",
     "output_type": "stream",
     "text": [
      "Segmentation Models: using `tf.keras` framework.\n"
     ]
    }
   ],
   "source": [
    "import segmentation_models as sm\n",
    "import numpy as np\n",
    "import matplotlib.pyplot as plt\n",
    "import tensorflow as tf\n",
    "from tensorflow.keras.preprocessing import sequence\n",
    "from tensorflow.keras.models import Sequential\n",
    "from tensorflow.keras.layers import Dense, Embedding, LeakyReLU\n",
    "from tensorflow.keras.utils import to_categorical\n",
    "from tensorflow.keras.layers import Input, Flatten, Dropout, Activation\n",
    "from tensorflow.keras.layers import Conv1D, MaxPooling1D, Lambda, GlobalMaxPooling1D, Concatenate, BatchNormalization, LSTM, Reshape, Conv2D, MaxPooling2D\n",
    "from tensorflow.keras.models import Model\n",
    "from tensorflow.keras.callbacks import ModelCheckpoint\n",
    "from keras_self_attention import SeqSelfAttention\n",
    "from tensorflow.keras.regularizers import l2"
   ]
  },
  {
   "cell_type": "code",
   "execution_count": 14,
   "id": "4c31f3f2",
   "metadata": {},
   "outputs": [
    {
     "data": {
      "text/plain": [
       "(2100, 40)"
      ]
     },
     "execution_count": 14,
     "metadata": {},
     "output_type": "execute_result"
    }
   ],
   "source": [
    "X_train_mfcc.shape"
   ]
  },
  {
   "cell_type": "markdown",
   "id": "57a24517",
   "metadata": {},
   "source": [
    "Expand the dimensions for the training and testing data so that it can be used for the neural networks."
   ]
  },
  {
   "cell_type": "code",
   "execution_count": 15,
   "id": "375b07df",
   "metadata": {},
   "outputs": [],
   "source": [
    "X_traincnn_mfcc = np.expand_dims(X_train_mfcc, axis = 2)\n",
    "X_testcnn_mfcc = np.expand_dims(X_test_mfcc, axis = 2)\n",
    "X_traincnn_mel = np.expand_dims(X_train_mel, axis = 2)\n",
    "X_testcnn_mel = np.expand_dims(X_test_mel, axis = 2)"
   ]
  },
  {
   "cell_type": "markdown",
   "id": "4b6844e4",
   "metadata": {},
   "source": [
    "#### We define some functions for training and testing"
   ]
  },
  {
   "cell_type": "code",
   "execution_count": 16,
   "id": "fb90aca2",
   "metadata": {},
   "outputs": [],
   "source": [
    "import tensorflow as tf\n",
    "import tensorflow.keras.backend as K\n",
    "\n",
    "def f1_loss(y_true, y_pred):\n",
    "\n",
    "    tp = K.sum(K.cast(y_true*y_pred, 'float'), axis=0)\n",
    "    tn = K.sum(K.cast((1-y_true)*(1-y_pred), 'float'), axis=0)\n",
    "    fp = K.sum(K.cast((1-y_true)*y_pred, 'float'), axis=0)\n",
    "    fn = K.sum(K.cast(y_true*(1-y_pred), 'float'), axis=0)\n",
    "\n",
    "    p = tp / (tp + fp + K.epsilon())\n",
    "    r = tp / (tp + fn + K.epsilon())\n",
    "\n",
    "    f1 = 2*p*r / (p+r+K.epsilon())\n",
    "    f1 = tf.where(tf.math.is_nan(f1), tf.zeros_like(f1), f1)\n",
    "    return 1 - K.mean(f1)"
   ]
  },
  {
   "cell_type": "code",
   "execution_count": 248,
   "id": "f1e1875d",
   "metadata": {},
   "outputs": [],
   "source": [
    "def print_index(y_true, y_pred):\n",
    "    #['ang', 'hap', 'sad', 'fea', 'sur', 'neu']\n",
    "    correct_instances_index = [] #indices of correct predictions\n",
    "    for i in range(len(y_pred)):\n",
    "        if(y_true[i] == y_pred[i]):\n",
    "            correct_instances_index.append(i)\n",
    "            \n",
    "    return correct_instances_index\n",
    "def print_labels(y_true, y_pred):\n",
    "    #['ang', 'hap', 'sad', 'fea', 'sur', 'neu']\n",
    "    correct_instances_label = [] #labels of correct predictions\n",
    "    for i in range(len(y_pred)):\n",
    "        if(y_true[i] == y_pred[i]):\n",
    "            correct_instances_label.append(y_pred[i])\n",
    "            \n",
    "    return correct_instances_label"
   ]
  },
  {
   "cell_type": "code",
   "execution_count": 249,
   "id": "4945e5bc",
   "metadata": {},
   "outputs": [],
   "source": [
    "def count_label(x):\n",
    "    ang = 0\n",
    "    hap = 0\n",
    "    sad = 0\n",
    "    fea = 0\n",
    "    sur = 0\n",
    "    neu = 0\n",
    "    \n",
    "    dic = {}\n",
    "    #my_dict['name']='Nick'\n",
    "    for i in range(len(x)):\n",
    "        if(x[i]==0):\n",
    "            ang += 1\n",
    "        elif(x[i]==1):\n",
    "            hap += 1\n",
    "        elif(x[i]==2):\n",
    "            sad += 1\n",
    "        elif(x[i]==3):\n",
    "            fea += 1\n",
    "        elif(x[i]==4):\n",
    "            sur += 1\n",
    "        elif(x[i]==5):\n",
    "            neu += 1\n",
    "    dic['ang'] = ang\n",
    "    dic['hap'] = hap\n",
    "    dic['sad'] = sad\n",
    "    dic['fea'] = fea\n",
    "    dic['sur'] = sur\n",
    "    dic['neu'] = neu\n",
    "    \n",
    "    return dic"
   ]
  },
  {
   "cell_type": "code",
   "execution_count": 17,
   "id": "779c1ea2",
   "metadata": {},
   "outputs": [],
   "source": [
    "checkpoint_path = 'IEMOCAP_Data/Weights/best_weights.hdf5'\n",
    "\n",
    "#-> Save the best weights\n",
    "mcp_save = callbacks.ModelCheckpoint(checkpoint_path, save_best_only=True,\n",
    "                           monitor='val_categorical_accuracy',\n",
    "                           mode='max')\n",
    "#-> Reduce learning rate after 100 epoches without improvement.\n",
    "rlrop = callbacks.ReduceLROnPlateau(monitor='val_categorical_accuracy', \n",
    "                                    factor=0.1, patience=100)"
   ]
  },
  {
   "cell_type": "markdown",
   "id": "2cdfc6ac",
   "metadata": {},
   "source": [
    "### TDNN\n",
    "\n",
    "We define the Time Delay Neural Netowrk Model. The model is based on a TDNN model used for flood prediction presented on ESoWC 2019 (MATHIW - Machine Learning Techniques for High Impact Weather) by Kugler & Lehner (https://github.com/MATEHIW-project)."
   ]
  },
  {
   "cell_type": "code",
   "execution_count": 186,
   "id": "69fb60da",
   "metadata": {},
   "outputs": [],
   "source": [
    "from sklearn.pipeline import Pipeline\n",
    "from sklearn.preprocessing import StandardScaler\n",
    "from tensorflow.keras.layers import Dropout\n",
    "from tensorflow.keras.constraints import MinMaxNorm, NonNeg\n",
    "\n",
    "\n",
    "def add_time(vector, time, name=None):\n",
    "    \"\"\"Converts numpy arrays to xarrays with a time coordinate.\n",
    "\n",
    "    Parameters\n",
    "    ----------\n",
    "    vector : np.array\n",
    "        1-dimensional array of predictions\n",
    "    time : xr.DataArray\n",
    "        the return value of `Xda.time`\n",
    "\n",
    "    Returns\n",
    "    -------\n",
    "    xr.DataArray\n",
    "    \"\"\"\n",
    "    return xr.DataArray(vector, dims=('time'), coords={'time': time}, name=name)\n",
    "\n",
    "\n",
    "class DenseNN(object):\n",
    "    def __init__(self, **kwargs):\n",
    "        self.xscaler = StandardScaler()\n",
    "        self.yscaler = StandardScaler()\n",
    "        \n",
    "        \n",
    "        model = Sequential()\n",
    "        self.cfg = kwargs\n",
    "        \n",
    "        filters = self.cfg.get('filters')\n",
    "        input_shape = self.cfg.get('input_shape')\n",
    "        \n",
    "        self.epoch = self.cfg.get('epochs')\n",
    "        self.batch_size = self.cfg.get('batch_size')\n",
    "        \n",
    "        model.add(Conv1D(filters[0], 6,padding='same',input_shape=(input_shape,1)))\n",
    "        model.add(Activation('relu'))\n",
    "        model.add(MaxPooling1D(pool_size=(5)))\n",
    "        model.add(BatchNormalization())\n",
    "        model.add(Dropout(self.cfg.get('dropout', None)))\n",
    "        \n",
    "        for n in filters[1:]:\n",
    "            model.add(Conv1D(n, 6,padding='same',))\n",
    "            model.add(Activation('relu'))\n",
    "            model.add(BatchNormalization())\n",
    "            model.add(Dropout(self.cfg.get('dropout', None)))\n",
    "        #model.add(Flatten())\n",
    "        model.add(GlobalMaxPooling1D())\n",
    "        model.add(Dense(6, activation='softmax'))\n",
    "        opt = tf.keras.optimizers.Adam(lr=0.005) \n",
    "        \n",
    "        #opt2 = tf.keras.optimizers.SGD(lr=0.0005)\n",
    "        model.compile(loss='categorical_crossentropy',\n",
    "              optimizer= opt,\n",
    "              metrics=['categorical_accuracy', f1_loss])\n",
    "        self.model = model\n",
    "\n",
    "        self.callbacks = [tf.keras.callbacks.EarlyStopping(monitor='val_loss',\n",
    "                            min_delta=1e-2, patience=100, verbose=0, mode='auto',\n",
    "                            baseline=None, restore_best_weights=True),]\n",
    "    \n",
    "    def score_func(self, X, y):\n",
    "        \"\"\"Calculate the RMS error\n",
    "        \n",
    "        Parameters\n",
    "        ----------\n",
    "        xr.DataArrays\n",
    "        \"\"\"\n",
    "        ypred = self.predict(X)\n",
    "        err_pred = ypred - y\n",
    "        \n",
    "        # NaNs do not contribute to error\n",
    "        err_pred = err_pred.where(~np.isnan(err_pred), 0.)  \n",
    "        return float(np.sqrt(xr.dot(err_pred, err_pred)))\n",
    "        \n",
    "    def predict(self, Xda, name=None):\n",
    "        \"\"\"Input and Output: xr.DataArray\n",
    "        \n",
    "        Parameters\n",
    "        ----------\n",
    "        Xda : xr.DataArray\n",
    "            with coordinates (time,)\n",
    "        \"\"\"\n",
    "        #X = self.xscaler.transform(Xda.values)\n",
    "        #y = self.model.predict(X).squeeze()\n",
    "        #y = self.yscaler.inverse_transform(y)\n",
    "        \n",
    "        #y = add_time(y, Xda.time, name=name)\n",
    "        return self.model.predict(Xda)\n",
    "\n",
    "    def evaluate(self, X, y):\n",
    "        return self.model.evaluate(X, y)\n",
    "    def fit(self, X_train, y_train, X_valid, y_valid, **kwargs):\n",
    "        \"\"\"\n",
    "        Input: xr.DataArray\n",
    "        Output: None\n",
    "        \"\"\"\n",
    "        \n",
    "        #print(X_train.shape)\n",
    "        #X_train = self.xscaler.fit_transform(X_train)\n",
    "        #y_train = self.yscaler.fit_transform(\n",
    "                        #y_train.reshape(-1, 6))\n",
    "        \n",
    "        #X_valid = self.xscaler.transform(X_valid)\n",
    "        #y_valid = self.yscaler.transform(y_valid.reshape(-1, 6))\n",
    "        \n",
    "        return self.model.fit(X_train, y_train,\n",
    "                              validation_data=(X_valid, y_valid), \n",
    "                              epochs=self.epoch,\n",
    "                              batch_size=self.batch_size, **kwargs)\n",
    "    def predict_classes(X):\n",
    "        return model.predict_classes(X)\n",
    "    \n",
    "    def summary(self):\n",
    "        return self.model.summary()"
   ]
  },
  {
   "cell_type": "markdown",
   "id": "84cda38e",
   "metadata": {},
   "source": [
    "### 10 - Second clips"
   ]
  },
  {
   "cell_type": "markdown",
   "id": "a4093c52",
   "metadata": {},
   "source": [
    "#### MFCC\n",
    "\n",
    "We use MFCC as input features."
   ]
  },
  {
   "cell_type": "code",
   "execution_count": 57,
   "id": "49b1d1b7",
   "metadata": {},
   "outputs": [],
   "source": [
    "X_train_mfcc_np = np.array(X_train_mfcc)\n",
    "X_test_mfcc_np = np.array(X_test_mfcc)\n",
    "y_train_mfcc_np = np.array(y_train_mfcc)\n",
    "y_test_mfcc_np = np.array(y_test_mfcc)"
   ]
  },
  {
   "cell_type": "code",
   "execution_count": 58,
   "id": "cb97aa3e",
   "metadata": {},
   "outputs": [
    {
     "name": "stdout",
     "output_type": "stream",
     "text": [
      "(2100, 40)\n",
      "(900, 40)\n",
      "(2100, 6)\n",
      "(900, 6)\n"
     ]
    }
   ],
   "source": [
    "print(X_train_mfcc_np.shape)\n",
    "print(X_test_mfcc_np.shape)\n",
    "print(y_onehot_train_mfcc.shape)\n",
    "print(y_onehot_test_mfcc.shape)"
   ]
  },
  {
   "cell_type": "code",
   "execution_count": 59,
   "id": "f93a4168",
   "metadata": {},
   "outputs": [
    {
     "data": {
      "text/plain": [
       "(2100, 40)"
      ]
     },
     "execution_count": 59,
     "metadata": {},
     "output_type": "execute_result"
    }
   ],
   "source": [
    "X_train_mfcc_np.shape"
   ]
  },
  {
   "cell_type": "code",
   "execution_count": 187,
   "id": "7bc2e415",
   "metadata": {},
   "outputs": [
    {
     "name": "stdout",
     "output_type": "stream",
     "text": [
      "Epoch 1/60\n",
      "42/42 [==============================] - 2s 15ms/step - loss: 3.0925 - categorical_accuracy: 0.2199 - f1_loss: 0.8222 - val_loss: 3.6199 - val_categorical_accuracy: 0.1589 - val_f1_loss: 0.8736\n",
      "Epoch 2/60\n",
      "42/42 [==============================] - 0s 10ms/step - loss: 1.7860 - categorical_accuracy: 0.2909 - f1_loss: 0.7653 - val_loss: 2.1337 - val_categorical_accuracy: 0.2533 - val_f1_loss: 0.8220\n",
      "Epoch 3/60\n",
      "42/42 [==============================] - 0s 9ms/step - loss: 1.5837 - categorical_accuracy: 0.3509 - f1_loss: 0.7297 - val_loss: 1.6439 - val_categorical_accuracy: 0.2789 - val_f1_loss: 0.7746\n",
      "Epoch 4/60\n",
      "42/42 [==============================] - 0s 8ms/step - loss: 1.4759 - categorical_accuracy: 0.4085 - f1_loss: 0.7001 - val_loss: 1.9154 - val_categorical_accuracy: 0.2422 - val_f1_loss: 0.8074\n",
      "Epoch 5/60\n",
      "42/42 [==============================] - 0s 10ms/step - loss: 1.4752 - categorical_accuracy: 0.3948 - f1_loss: 0.6974 - val_loss: 1.7838 - val_categorical_accuracy: 0.2356 - val_f1_loss: 0.7937\n",
      "Epoch 6/60\n",
      "42/42 [==============================] - 0s 10ms/step - loss: 1.4532 - categorical_accuracy: 0.4074 - f1_loss: 0.6912 - val_loss: 1.4437 - val_categorical_accuracy: 0.3400 - val_f1_loss: 0.7327\n",
      "Epoch 7/60\n",
      "42/42 [==============================] - 0s 10ms/step - loss: 1.3741 - categorical_accuracy: 0.4283 - f1_loss: 0.6687 - val_loss: 1.3662 - val_categorical_accuracy: 0.4333 - val_f1_loss: 0.7085\n",
      "Epoch 8/60\n",
      "42/42 [==============================] - 0s 9ms/step - loss: 1.3500 - categorical_accuracy: 0.4562 - f1_loss: 0.6553 - val_loss: 1.3168 - val_categorical_accuracy: 0.4378 - val_f1_loss: 0.6992\n",
      "Epoch 9/60\n",
      "42/42 [==============================] - 0s 8ms/step - loss: 1.3214 - categorical_accuracy: 0.4560 - f1_loss: 0.6483 - val_loss: 1.2843 - val_categorical_accuracy: 0.4600 - val_f1_loss: 0.6718\n",
      "Epoch 10/60\n",
      "42/42 [==============================] - 1s 13ms/step - loss: 1.2688 - categorical_accuracy: 0.4822 - f1_loss: 0.6334 - val_loss: 1.2480 - val_categorical_accuracy: 0.4722 - val_f1_loss: 0.6637\n",
      "Epoch 11/60\n",
      "42/42 [==============================] - 0s 9ms/step - loss: 1.2567 - categorical_accuracy: 0.4753 - f1_loss: 0.6282 - val_loss: 1.1859 - val_categorical_accuracy: 0.5211 - val_f1_loss: 0.6404\n",
      "Epoch 12/60\n",
      "42/42 [==============================] - 0s 9ms/step - loss: 1.2439 - categorical_accuracy: 0.4756 - f1_loss: 0.6236 - val_loss: 1.2023 - val_categorical_accuracy: 0.4878 - val_f1_loss: 0.6433\n",
      "Epoch 13/60\n",
      "42/42 [==============================] - 0s 9ms/step - loss: 1.1855 - categorical_accuracy: 0.5106 - f1_loss: 0.6022 - val_loss: 1.1856 - val_categorical_accuracy: 0.4900 - val_f1_loss: 0.6268\n",
      "Epoch 14/60\n",
      "42/42 [==============================] - 0s 8ms/step - loss: 1.1743 - categorical_accuracy: 0.5253 - f1_loss: 0.5959 - val_loss: 1.1557 - val_categorical_accuracy: 0.4778 - val_f1_loss: 0.6143\n",
      "Epoch 15/60\n",
      "42/42 [==============================] - 0s 9ms/step - loss: 1.1416 - categorical_accuracy: 0.5413 - f1_loss: 0.5792 - val_loss: 1.0989 - val_categorical_accuracy: 0.5511 - val_f1_loss: 0.5999\n",
      "Epoch 16/60\n",
      "42/42 [==============================] - 0s 8ms/step - loss: 1.1478 - categorical_accuracy: 0.5444 - f1_loss: 0.5702 - val_loss: 1.0212 - val_categorical_accuracy: 0.6256 - val_f1_loss: 0.5733\n",
      "Epoch 17/60\n",
      "42/42 [==============================] - 0s 9ms/step - loss: 1.1507 - categorical_accuracy: 0.5348 - f1_loss: 0.5698 - val_loss: 1.0334 - val_categorical_accuracy: 0.5889 - val_f1_loss: 0.5794\n",
      "Epoch 18/60\n",
      "42/42 [==============================] - 0s 9ms/step - loss: 1.0610 - categorical_accuracy: 0.5920 - f1_loss: 0.5512 - val_loss: 1.0676 - val_categorical_accuracy: 0.5267 - val_f1_loss: 0.5831\n",
      "Epoch 19/60\n",
      "42/42 [==============================] - 0s 9ms/step - loss: 1.1429 - categorical_accuracy: 0.5486 - f1_loss: 0.5677 - val_loss: 1.0516 - val_categorical_accuracy: 0.5500 - val_f1_loss: 0.5765\n",
      "Epoch 20/60\n",
      "42/42 [==============================] - 0s 8ms/step - loss: 1.0220 - categorical_accuracy: 0.6033 - f1_loss: 0.5320 - val_loss: 0.9900 - val_categorical_accuracy: 0.6111 - val_f1_loss: 0.5521\n",
      "Epoch 21/60\n",
      "42/42 [==============================] - 0s 9ms/step - loss: 1.0733 - categorical_accuracy: 0.5661 - f1_loss: 0.5397 - val_loss: 1.0097 - val_categorical_accuracy: 0.6033 - val_f1_loss: 0.5626\n",
      "Epoch 22/60\n",
      "42/42 [==============================] - 0s 9ms/step - loss: 1.0442 - categorical_accuracy: 0.5846 - f1_loss: 0.5423 - val_loss: 0.9711 - val_categorical_accuracy: 0.6100 - val_f1_loss: 0.5393\n",
      "Epoch 23/60\n",
      "42/42 [==============================] - 0s 8ms/step - loss: 1.0338 - categorical_accuracy: 0.5867 - f1_loss: 0.5311 - val_loss: 0.9376 - val_categorical_accuracy: 0.6367 - val_f1_loss: 0.5302\n",
      "Epoch 24/60\n",
      "42/42 [==============================] - 0s 9ms/step - loss: 0.9975 - categorical_accuracy: 0.6089 - f1_loss: 0.5184 - val_loss: 0.9622 - val_categorical_accuracy: 0.6144 - val_f1_loss: 0.5391\n",
      "Epoch 25/60\n",
      "42/42 [==============================] - 0s 9ms/step - loss: 1.0070 - categorical_accuracy: 0.5934 - f1_loss: 0.5189 - val_loss: 0.9287 - val_categorical_accuracy: 0.6300 - val_f1_loss: 0.5248\n",
      "Epoch 26/60\n",
      "42/42 [==============================] - 0s 9ms/step - loss: 1.0277 - categorical_accuracy: 0.5773 - f1_loss: 0.5237 - val_loss: 0.9218 - val_categorical_accuracy: 0.6222 - val_f1_loss: 0.5167\n",
      "Epoch 27/60\n",
      "42/42 [==============================] - 0s 10ms/step - loss: 0.9468 - categorical_accuracy: 0.6292 - f1_loss: 0.5026 - val_loss: 0.9596 - val_categorical_accuracy: 0.6000 - val_f1_loss: 0.5329\n",
      "Epoch 28/60\n",
      "42/42 [==============================] - 1s 16ms/step - loss: 1.0222 - categorical_accuracy: 0.6123 - f1_loss: 0.5220 - val_loss: 0.9411 - val_categorical_accuracy: 0.6133 - val_f1_loss: 0.5258\n",
      "Epoch 29/60\n",
      "42/42 [==============================] - 0s 10ms/step - loss: 0.9970 - categorical_accuracy: 0.6147 - f1_loss: 0.5092 - val_loss: 0.8734 - val_categorical_accuracy: 0.6611 - val_f1_loss: 0.4991\n",
      "Epoch 30/60\n",
      "42/42 [==============================] - 0s 11ms/step - loss: 0.9681 - categorical_accuracy: 0.6118 - f1_loss: 0.5061 - val_loss: 0.8947 - val_categorical_accuracy: 0.6500 - val_f1_loss: 0.5003\n",
      "Epoch 31/60\n",
      "42/42 [==============================] - 0s 11ms/step - loss: 0.9948 - categorical_accuracy: 0.6010 - f1_loss: 0.5083 - val_loss: 0.9218 - val_categorical_accuracy: 0.6456 - val_f1_loss: 0.5120\n",
      "Epoch 32/60\n",
      "42/42 [==============================] - 0s 11ms/step - loss: 0.9435 - categorical_accuracy: 0.6319 - f1_loss: 0.4869 - val_loss: 0.8347 - val_categorical_accuracy: 0.6711 - val_f1_loss: 0.4763\n",
      "Epoch 33/60\n",
      "42/42 [==============================] - 0s 11ms/step - loss: 0.9339 - categorical_accuracy: 0.6180 - f1_loss: 0.4895 - val_loss: 0.8576 - val_categorical_accuracy: 0.6733 - val_f1_loss: 0.4954\n",
      "Epoch 34/60\n",
      "42/42 [==============================] - 0s 10ms/step - loss: 0.9121 - categorical_accuracy: 0.6321 - f1_loss: 0.4874 - val_loss: 0.8474 - val_categorical_accuracy: 0.6667 - val_f1_loss: 0.4836\n",
      "Epoch 35/60\n",
      "42/42 [==============================] - 0s 11ms/step - loss: 0.9206 - categorical_accuracy: 0.6465 - f1_loss: 0.4893 - val_loss: 0.8519 - val_categorical_accuracy: 0.6667 - val_f1_loss: 0.4928\n",
      "Epoch 36/60\n",
      "42/42 [==============================] - 0s 10ms/step - loss: 0.9357 - categorical_accuracy: 0.6200 - f1_loss: 0.4833 - val_loss: 0.8470 - val_categorical_accuracy: 0.6678 - val_f1_loss: 0.4892\n",
      "Epoch 37/60\n",
      "42/42 [==============================] - 0s 10ms/step - loss: 0.9557 - categorical_accuracy: 0.6136 - f1_loss: 0.4916 - val_loss: 0.8666 - val_categorical_accuracy: 0.6500 - val_f1_loss: 0.4822\n",
      "Epoch 38/60\n",
      "42/42 [==============================] - 0s 11ms/step - loss: 0.8909 - categorical_accuracy: 0.6503 - f1_loss: 0.4749 - val_loss: 0.8548 - val_categorical_accuracy: 0.6611 - val_f1_loss: 0.4809\n",
      "Epoch 39/60\n",
      "42/42 [==============================] - 0s 9ms/step - loss: 0.9455 - categorical_accuracy: 0.6227 - f1_loss: 0.4896 - val_loss: 0.8462 - val_categorical_accuracy: 0.6556 - val_f1_loss: 0.4872\n",
      "Epoch 40/60\n",
      "42/42 [==============================] - 0s 9ms/step - loss: 0.9522 - categorical_accuracy: 0.6095 - f1_loss: 0.4887 - val_loss: 0.8846 - val_categorical_accuracy: 0.6344 - val_f1_loss: 0.4948\n",
      "Epoch 41/60\n",
      "42/42 [==============================] - 0s 12ms/step - loss: 0.9180 - categorical_accuracy: 0.6409 - f1_loss: 0.4778 - val_loss: 0.8476 - val_categorical_accuracy: 0.6711 - val_f1_loss: 0.4801\n",
      "Epoch 42/60\n",
      "42/42 [==============================] - 0s 10ms/step - loss: 0.9340 - categorical_accuracy: 0.6351 - f1_loss: 0.4917 - val_loss: 0.8384 - val_categorical_accuracy: 0.6600 - val_f1_loss: 0.4800\n",
      "Epoch 43/60\n",
      "42/42 [==============================] - 0s 10ms/step - loss: 0.8811 - categorical_accuracy: 0.6535 - f1_loss: 0.4657 - val_loss: 0.8447 - val_categorical_accuracy: 0.6489 - val_f1_loss: 0.4812\n",
      "Epoch 44/60\n",
      "42/42 [==============================] - 0s 10ms/step - loss: 0.8845 - categorical_accuracy: 0.6590 - f1_loss: 0.4701 - val_loss: 0.8213 - val_categorical_accuracy: 0.6856 - val_f1_loss: 0.4659\n",
      "Epoch 45/60\n",
      "42/42 [==============================] - 1s 18ms/step - loss: 0.8760 - categorical_accuracy: 0.6543 - f1_loss: 0.4656 - val_loss: 0.8017 - val_categorical_accuracy: 0.6756 - val_f1_loss: 0.4515\n",
      "Epoch 46/60\n",
      "42/42 [==============================] - 0s 10ms/step - loss: 0.8575 - categorical_accuracy: 0.6590 - f1_loss: 0.4595 - val_loss: 0.7961 - val_categorical_accuracy: 0.6878 - val_f1_loss: 0.4575\n",
      "Epoch 47/60\n",
      "42/42 [==============================] - 0s 10ms/step - loss: 0.8956 - categorical_accuracy: 0.6290 - f1_loss: 0.4698 - val_loss: 0.8118 - val_categorical_accuracy: 0.6756 - val_f1_loss: 0.4646\n",
      "Epoch 48/60\n",
      "42/42 [==============================] - 0s 9ms/step - loss: 0.8295 - categorical_accuracy: 0.6732 - f1_loss: 0.4397 - val_loss: 0.8056 - val_categorical_accuracy: 0.6800 - val_f1_loss: 0.4561\n",
      "Epoch 49/60\n",
      "42/42 [==============================] - 0s 10ms/step - loss: 0.9108 - categorical_accuracy: 0.6266 - f1_loss: 0.4775 - val_loss: 0.8208 - val_categorical_accuracy: 0.6822 - val_f1_loss: 0.4644\n",
      "Epoch 50/60\n",
      "42/42 [==============================] - 0s 10ms/step - loss: 0.9079 - categorical_accuracy: 0.6504 - f1_loss: 0.4670 - val_loss: 0.7909 - val_categorical_accuracy: 0.6800 - val_f1_loss: 0.4523\n",
      "Epoch 51/60\n",
      "42/42 [==============================] - 0s 10ms/step - loss: 0.8697 - categorical_accuracy: 0.6534 - f1_loss: 0.4555 - val_loss: 0.7936 - val_categorical_accuracy: 0.6967 - val_f1_loss: 0.4511\n",
      "Epoch 52/60\n",
      "42/42 [==============================] - 0s 11ms/step - loss: 0.8678 - categorical_accuracy: 0.6697 - f1_loss: 0.4500 - val_loss: 0.7989 - val_categorical_accuracy: 0.6989 - val_f1_loss: 0.4580\n",
      "Epoch 53/60\n",
      "42/42 [==============================] - 0s 10ms/step - loss: 0.8859 - categorical_accuracy: 0.6453 - f1_loss: 0.4596 - val_loss: 0.8135 - val_categorical_accuracy: 0.6822 - val_f1_loss: 0.4514\n",
      "Epoch 54/60\n",
      "42/42 [==============================] - 0s 8ms/step - loss: 0.8719 - categorical_accuracy: 0.6587 - f1_loss: 0.4541 - val_loss: 0.7895 - val_categorical_accuracy: 0.6956 - val_f1_loss: 0.4452\n",
      "Epoch 55/60\n",
      "42/42 [==============================] - 0s 10ms/step - loss: 0.8506 - categorical_accuracy: 0.6685 - f1_loss: 0.4535 - val_loss: 0.7847 - val_categorical_accuracy: 0.6833 - val_f1_loss: 0.4489\n",
      "Epoch 56/60\n",
      "42/42 [==============================] - 0s 10ms/step - loss: 0.8402 - categorical_accuracy: 0.6492 - f1_loss: 0.4549 - val_loss: 0.7909 - val_categorical_accuracy: 0.6933 - val_f1_loss: 0.4467\n",
      "Epoch 57/60\n",
      "42/42 [==============================] - 0s 9ms/step - loss: 0.8551 - categorical_accuracy: 0.6609 - f1_loss: 0.4515 - val_loss: 0.7730 - val_categorical_accuracy: 0.6933 - val_f1_loss: 0.4441\n",
      "Epoch 58/60\n",
      "42/42 [==============================] - 0s 10ms/step - loss: 0.8417 - categorical_accuracy: 0.6715 - f1_loss: 0.4423 - val_loss: 0.7811 - val_categorical_accuracy: 0.6989 - val_f1_loss: 0.4449\n",
      "Epoch 59/60\n",
      "42/42 [==============================] - 0s 11ms/step - loss: 0.8438 - categorical_accuracy: 0.6763 - f1_loss: 0.4427 - val_loss: 0.7931 - val_categorical_accuracy: 0.6867 - val_f1_loss: 0.4534\n",
      "Epoch 60/60\n",
      "42/42 [==============================] - 0s 10ms/step - loss: 0.8652 - categorical_accuracy: 0.6683 - f1_loss: 0.4545 - val_loss: 0.7951 - val_categorical_accuracy: 0.7022 - val_f1_loss: 0.4517\n"
     ]
    }
   ],
   "source": [
    "config = dict(filters=(32, 64),  \n",
    "                input_shape=40,\n",
    "                dropout=0.25,\n",
    "                epochs=60,\n",
    "                batch_size=50)\n",
    "\n",
    "m_2 = DenseNN(**config)\n",
    "\n",
    "hist_2 = m_2.fit(X_traincnn_mfcc, y_onehot_train_mfcc, X_testcnn_mfcc, y_onehot_test_mfcc)"
   ]
  },
  {
   "cell_type": "code",
   "execution_count": 188,
   "id": "f5c0e723",
   "metadata": {},
   "outputs": [
    {
     "name": "stdout",
     "output_type": "stream",
     "text": [
      "Model: \"sequential_27\"\n",
      "_________________________________________________________________\n",
      "Layer (type)                 Output Shape              Param #   \n",
      "=================================================================\n",
      "conv1d_54 (Conv1D)           (None, 40, 32)            224       \n",
      "_________________________________________________________________\n",
      "activation_54 (Activation)   (None, 40, 32)            0         \n",
      "_________________________________________________________________\n",
      "max_pooling1d_23 (MaxPooling (None, 8, 32)             0         \n",
      "_________________________________________________________________\n",
      "batch_normalization_51 (Batc (None, 8, 32)             128       \n",
      "_________________________________________________________________\n",
      "dropout_54 (Dropout)         (None, 8, 32)             0         \n",
      "_________________________________________________________________\n",
      "conv1d_55 (Conv1D)           (None, 8, 64)             12352     \n",
      "_________________________________________________________________\n",
      "activation_55 (Activation)   (None, 8, 64)             0         \n",
      "_________________________________________________________________\n",
      "batch_normalization_52 (Batc (None, 8, 64)             256       \n",
      "_________________________________________________________________\n",
      "dropout_55 (Dropout)         (None, 8, 64)             0         \n",
      "_________________________________________________________________\n",
      "global_max_pooling1d_25 (Glo (None, 64)                0         \n",
      "_________________________________________________________________\n",
      "dense_27 (Dense)             (None, 6)                 390       \n",
      "=================================================================\n",
      "Total params: 13,350\n",
      "Trainable params: 13,158\n",
      "Non-trainable params: 192\n",
      "_________________________________________________________________\n"
     ]
    }
   ],
   "source": [
    "m_2.summary()"
   ]
  },
  {
   "cell_type": "code",
   "execution_count": 189,
   "id": "ea6cfe88",
   "metadata": {},
   "outputs": [
    {
     "data": {
      "image/png": "[encoded data removed]",
      "text/plain": [
       "<Figure size 432x288 with 1 Axes>"
      ]
     },
     "metadata": {
      "needs_background": "light"
     },
     "output_type": "display_data"
    },
    {
     "data": {
      "image/png": "[encoded data removed]",
      "text/plain": [
       "<Figure size 432x288 with 1 Axes>"
      ]
     },
     "metadata": {
      "needs_background": "light"
     },
     "output_type": "display_data"
    }
   ],
   "source": [
    "plt.plot(hist_2.history['categorical_accuracy'])\n",
    "plt.plot(hist_2.history['val_categorical_accuracy'])\n",
    "plt.title('model accuracy')\n",
    "plt.ylabel('accuracy')\n",
    "plt.xlabel('epoch')\n",
    "plt.legend(['train', 'test'], loc='upper left')\n",
    "plt.show()\n",
    "# summarize history for loss\n",
    "plt.plot(hist_2.history['loss'])\n",
    "plt.plot(hist_2.history['val_loss'])\n",
    "plt.title('model loss')\n",
    "plt.ylabel('loss')\n",
    "plt.xlabel('epoch')\n",
    "plt.legend(['train', 'test'], loc='upper left')\n",
    "plt.show()"
   ]
  },
  {
   "cell_type": "code",
   "execution_count": 252,
   "id": "b9898ce1",
   "metadata": {},
   "outputs": [
    {
     "name": "stdout",
     "output_type": "stream",
     "text": [
      "29/29 [==============================] - 0s 3ms/step - loss: 0.7951 - categorical_accuracy: 0.7022 - f1_loss: 0.4613\n",
      "Restored model, accuracy: 70.22%\n"
     ]
    }
   ],
   "source": [
    "loss, acc, f1_score = m_2.evaluate(X_testcnn_mfcc, y_onehot_test_mfcc)\n",
    "print(\"Restored model, accuracy: {:5.2f}%\".format(100*acc))"
   ]
  },
  {
   "cell_type": "code",
   "execution_count": 301,
   "id": "c2c740dc",
   "metadata": {},
   "outputs": [
    {
     "name": "stdout",
     "output_type": "stream",
     "text": [
      "Confusion matrix, without normalization\n",
      "[[ 97  19   2   0   2  10]\n",
      " [ 25  74  13   0  11  30]\n",
      " [ 15  16  51   1   3  58]\n",
      " [  0   0   0 158   0   0]\n",
      " [  0   0   0   0 157   8]\n",
      " [ 11  26  17   1   0  95]]\n"
     ]
    },
    {
     "data": {
      "image/png": "[encoded data removed]",
      "text/plain": [
       "<Figure size 432x288 with 2 Axes>"
      ]
     },
     "metadata": {
      "needs_background": "light"
     },
     "output_type": "display_data"
    }
   ],
   "source": [
    "y_pred = m_2.predict(X_testcnn_mfcc)\n",
    "matrix = metrics.confusion_matrix(y_onehot_test_mfcc.argmax(axis=1), y_pred.argmax(axis=1))\n",
    "emo_keys = list(['ang', 'hap', 'sad', 'fea', 'sur', 'neu'])\n",
    "plot_confusion_matrix(matrix, classes=emo_keys)"
   ]
  },
  {
   "cell_type": "code",
   "execution_count": 302,
   "id": "b26b973f",
   "metadata": {
    "scrolled": true
   },
   "outputs": [
    {
     "name": "stdout",
     "output_type": "stream",
     "text": [
      "              precision    recall  f1-score   support\n",
      "\n",
      "         ang       0.66      0.75      0.70       130\n",
      "         hap       0.55      0.48      0.51       153\n",
      "         sad       0.61      0.35      0.45       144\n",
      "         fea       0.99      1.00      0.99       158\n",
      "         sur       0.91      0.95      0.93       165\n",
      "         neu       0.47      0.63      0.54       150\n",
      "\n",
      "    accuracy                           0.70       900\n",
      "   macro avg       0.70      0.69      0.69       900\n",
      "weighted avg       0.70      0.70      0.70       900\n",
      "\n"
     ]
    }
   ],
   "source": [
    "target_names = ['ang', 'hap', 'sad', 'fea', 'sur', 'neu']\n",
    "print(classification_report(y_onehot_test_mfcc.argmax(axis=1), y_pred.argmax(axis=1), target_names=target_names))"
   ]
  },
  {
   "cell_type": "code",
   "execution_count": 303,
   "id": "55543ab1",
   "metadata": {},
   "outputs": [
    {
     "data": {
      "text/plain": [
       "632"
      ]
     },
     "execution_count": 303,
     "metadata": {},
     "output_type": "execute_result"
    }
   ],
   "source": [
    "# indices and labels of all correctly recognized\n",
    "correct_indices = print_index(y_onehot_test_mfcc.argmax(axis=1), y_pred.argmax(axis=1))\n",
    "correct_labels = print_labels(y_onehot_test_mfcc.argmax(axis=1), y_pred.argmax(axis=1))\n",
    "\n",
    "len(correct_indices)"
   ]
  },
  {
   "cell_type": "code",
   "execution_count": 304,
   "id": "797588fe",
   "metadata": {},
   "outputs": [],
   "source": [
    "# indices of correctly recognized AND clipped\n",
    "indices_of_clipped_recognized = []\n",
    "for i in range(len(X_testcnn_mfcc)):\n",
    "    for j in range(len(correct_indices)):\n",
    "        if(i == correct_indices[j]):\n",
    "            if(i in x_clipped):\n",
    "                indices_of_clipped_recognized.append(i)\n",
    "\n",
    "label_of_clipped_recognized = []\n",
    "# we get the label of correctly recognized clipped audios\n",
    "for i in range(len(y_onehot_test_mfcc.argmax(axis=1))):\n",
    "    if(i in indices_of_clipped_recognized):\n",
    "        label_of_clipped_recognized.append((y_onehot_test_mfcc.argmax(axis=1)[i]))"
   ]
  },
  {
   "cell_type": "code",
   "execution_count": 305,
   "id": "cc64154c",
   "metadata": {},
   "outputs": [
    {
     "data": {
      "text/plain": [
       "{'ang': 8, 'hap': 4, 'sad': 4, 'fea': 0, 'sur': 7, 'neu': 4}"
      ]
     },
     "execution_count": 305,
     "metadata": {},
     "output_type": "execute_result"
    }
   ],
   "source": [
    "dic_val_clipped = count_label(label_of_clipped_recognized)\n",
    "\n",
    "dic_val_clipped"
   ]
  },
  {
   "cell_type": "code",
   "execution_count": 306,
   "id": "64f24c54",
   "metadata": {},
   "outputs": [
    {
     "data": {
      "text/plain": [
       "<BarContainer object of 6 artists>"
      ]
     },
     "execution_count": 306,
     "metadata": {},
     "output_type": "execute_result"
    },
    {
     "data": {
      "image/png": "[encoded data removed]",
      "text/plain": [
       "<Figure size 432x288 with 1 Axes>"
      ]
     },
     "metadata": {
      "needs_background": "light"
     },
     "output_type": "display_data"
    }
   ],
   "source": [
    "plt.bar(list(dic_val_clipped.keys()), dic_val_clipped.values(), color='black')"
   ]
  },
  {
   "cell_type": "code",
   "execution_count": 307,
   "id": "af573f6d",
   "metadata": {},
   "outputs": [
    {
     "name": "stdout",
     "output_type": "stream",
     "text": [
      "Number of recognized clipped test data: 27\n",
      "Total number of clipped test data: 40\n",
      "Ratio of recognized clipped test data: 0.675\n",
      "\n",
      "Anger: 8\n",
      "Happiness: 4\n",
      "Sadness: 4\n",
      "Surpise: 7\n",
      "Neutral: 4\n",
      "Fear: 0\n",
      "\n",
      "Anger: 8\n",
      "Happiness: 9\n",
      "Sadness: 10\n",
      "Surpise: 7\n",
      "Neutral: 6\n",
      "Fear: 0\n",
      "\n"
     ]
    }
   ],
   "source": [
    "clipped_ratio = len(indices_of_clipped_recognized) / len(x_clipped)\n",
    "print(\"Number of recognized clipped test data: {}\\nTotal number of clipped test data: {}\\nRatio of recognized clipped test data: {}\\n\".format(len(indices_of_clipped_recognized),len(x_clipped), clipped_ratio ))\n",
    "print(\"Anger: {}\\nHappiness: {}\\nSadness: {}\\nSurpise: {}\\nNeutral: {}\\nFear: {}\\n\".format(dic_val_clipped['ang'],dic_val_clipped['hap'],dic_val_clipped['sad'],dic_val_clipped['sur'],dic_val_clipped['neu'],dic_val_clipped['fea']))\n",
    "print(\"Anger: {}\\nHappiness: {}\\nSadness: {}\\nSurpise: {}\\nNeutral: {}\\nFear: {}\\n\".format(dic_true_val['ang'],dic_true_val['hap'],dic_true_val['sad'],dic_true_val['sur'],dic_true_val['neu'],dic_true_val['fea']))"
   ]
  },
  {
   "cell_type": "code",
   "execution_count": 308,
   "id": "7adfe864",
   "metadata": {},
   "outputs": [
    {
     "data": {
      "text/plain": [
       "605"
      ]
     },
     "execution_count": 308,
     "metadata": {},
     "output_type": "execute_result"
    }
   ],
   "source": [
    "# we get the indices of correctly recognized un-clipped audios\n",
    "indices_of_unclipped_recognized = []\n",
    "for i in range(len(X_testcnn_mfcc)):\n",
    "    for j in range(len(correct_indices)):\n",
    "        if(i == correct_indices[j]):\n",
    "            if(i not in x_clipped):\n",
    "                indices_of_unclipped_recognized.append(i)\n",
    "\n",
    "len(indices_of_unclipped_recognized)"
   ]
  },
  {
   "cell_type": "code",
   "execution_count": 309,
   "id": "6bab7216",
   "metadata": {},
   "outputs": [
    {
     "data": {
      "text/plain": [
       "<BarContainer object of 6 artists>"
      ]
     },
     "execution_count": 309,
     "metadata": {},
     "output_type": "execute_result"
    },
    {
     "data": {
      "image/png": "[encoded data removed]",
      "text/plain": [
       "<Figure size 432x288 with 1 Axes>"
      ]
     },
     "metadata": {
      "needs_background": "light"
     },
     "output_type": "display_data"
    }
   ],
   "source": [
    "label_of_unclipped_recognized = []\n",
    "# we get the label of correctly recognized unclipped audios\n",
    "for i in range(len(y_onehot_test_mfcc.argmax(axis=1))):\n",
    "    if(i in indices_of_unclipped_recognized):\n",
    "        label_of_unclipped_recognized.append((y_onehot_test_mfcc.argmax(axis=1)[i]))\n",
    "\n",
    "dic_val_unclipped = count_label(label_of_unclipped_recognized)\n",
    "\n",
    "plt.bar(list(dic_val_unclipped.keys()), dic_val_unclipped.values(), color='black')"
   ]
  },
  {
   "cell_type": "code",
   "execution_count": 310,
   "id": "883f0604",
   "metadata": {},
   "outputs": [
    {
     "name": "stdout",
     "output_type": "stream",
     "text": [
      "Number of recognized unclipped test data: 605\n",
      "Total number of unclipped test data: 860\n",
      "Ratio of recognized unclipped test data: 0.7034883720930233\n",
      "\n",
      "Anger: 89\n",
      "Happiness: 70\n",
      "Sadness: 47\n",
      "Surpise: 150\n",
      "Neutral: 91\n",
      "Fear: 158\n",
      "\n",
      "Anger: 122\n",
      "Happiness: 144\n",
      "Sadness: 134\n",
      "Surpise: 158\n",
      "Neutral: 144\n",
      "Fear: 158\n",
      "\n"
     ]
    }
   ],
   "source": [
    "unclipped_ratio = len(indices_of_unclipped_recognized) / len(x_unclipped)\n",
    "print(\"Number of recognized unclipped test data: {}\\nTotal number of unclipped test data: {}\\nRatio of recognized unclipped test data: {}\\n\".format(len(indices_of_unclipped_recognized),len(x_unclipped), unclipped_ratio ))\n",
    "print(\"Anger: {}\\nHappiness: {}\\nSadness: {}\\nSurpise: {}\\nNeutral: {}\\nFear: {}\\n\".format(dic_val_unclipped['ang'],dic_val_unclipped['hap'],dic_val_unclipped['sad'],dic_val_unclipped['sur'],dic_val_unclipped['neu'],dic_val_unclipped['fea']))\n",
    "print(\"Anger: {}\\nHappiness: {}\\nSadness: {}\\nSurpise: {}\\nNeutral: {}\\nFear: {}\\n\".format(dic_true_val_unclipped['ang'],dic_true_val_unclipped['hap'],dic_true_val_unclipped['sad'],dic_true_val_unclipped['sur'],dic_true_val_unclipped['neu'],dic_true_val_unclipped['fea']))"
   ]
  },
  {
   "cell_type": "markdown",
   "id": "c426ce56",
   "metadata": {},
   "source": [
    "#### MEL\n",
    "\n",
    "We use Mel-Spectrogram as input features."
   ]
  },
  {
   "cell_type": "code",
   "execution_count": 192,
   "id": "418cdd18",
   "metadata": {},
   "outputs": [],
   "source": [
    "X_train_mel_np = np.array(X_train_mel)\n",
    "X_test_mel_np = np.array(X_test_mel)\n",
    "y_train_mel_np = np.array(y_train_mel)\n",
    "y_test_mel_np = np.array(y_test_mel)"
   ]
  },
  {
   "cell_type": "code",
   "execution_count": 218,
   "id": "b9ded256",
   "metadata": {},
   "outputs": [
    {
     "name": "stdout",
     "output_type": "stream",
     "text": [
      "Epoch 1/80\n",
      "42/42 [==============================] - 2s 20ms/step - loss: 3.4137 - categorical_accuracy: 0.2539 - f1_loss: 0.8028 - val_loss: 3.1827 - val_categorical_accuracy: 0.3144 - val_f1_loss: 0.7283\n",
      "Epoch 2/80\n",
      "42/42 [==============================] - 1s 13ms/step - loss: 1.8800 - categorical_accuracy: 0.3463 - f1_loss: 0.7287 - val_loss: 2.0990 - val_categorical_accuracy: 0.3833 - val_f1_loss: 0.6984\n",
      "Epoch 3/80\n",
      "42/42 [==============================] - 1s 14ms/step - loss: 1.7266 - categorical_accuracy: 0.3824 - f1_loss: 0.7031 - val_loss: 1.5157 - val_categorical_accuracy: 0.3878 - val_f1_loss: 0.6766\n",
      "Epoch 4/80\n",
      "42/42 [==============================] - 1s 14ms/step - loss: 1.5361 - categorical_accuracy: 0.4071 - f1_loss: 0.6910 - val_loss: 1.4176 - val_categorical_accuracy: 0.4244 - val_f1_loss: 0.6653\n",
      "Epoch 5/80\n",
      "42/42 [==============================] - 1s 13ms/step - loss: 1.5036 - categorical_accuracy: 0.4195 - f1_loss: 0.6835 - val_loss: 1.4008 - val_categorical_accuracy: 0.4144 - val_f1_loss: 0.6532\n",
      "Epoch 6/80\n",
      "42/42 [==============================] - 1s 13ms/step - loss: 1.3910 - categorical_accuracy: 0.4619 - f1_loss: 0.6502 - val_loss: 1.3299 - val_categorical_accuracy: 0.4800 - val_f1_loss: 0.6600\n",
      "Epoch 7/80\n",
      "42/42 [==============================] - 1s 21ms/step - loss: 1.4009 - categorical_accuracy: 0.4656 - f1_loss: 0.6414 - val_loss: 1.3995 - val_categorical_accuracy: 0.4522 - val_f1_loss: 0.6723\n",
      "Epoch 8/80\n",
      "42/42 [==============================] - 1s 14ms/step - loss: 1.3541 - categorical_accuracy: 0.4838 - f1_loss: 0.6283 - val_loss: 1.2954 - val_categorical_accuracy: 0.4833 - val_f1_loss: 0.6369\n",
      "Epoch 9/80\n",
      "42/42 [==============================] - 1s 14ms/step - loss: 1.3693 - categorical_accuracy: 0.4889 - f1_loss: 0.6285 - val_loss: 1.2966 - val_categorical_accuracy: 0.4856 - val_f1_loss: 0.6440\n",
      "Epoch 10/80\n",
      "42/42 [==============================] - 1s 16ms/step - loss: 1.3206 - categorical_accuracy: 0.4832 - f1_loss: 0.6273 - val_loss: 1.3348 - val_categorical_accuracy: 0.4878 - val_f1_loss: 0.6339\n",
      "Epoch 11/80\n",
      "42/42 [==============================] - 1s 15ms/step - loss: 1.2895 - categorical_accuracy: 0.4827 - f1_loss: 0.6169 - val_loss: 1.2358 - val_categorical_accuracy: 0.5233 - val_f1_loss: 0.6129\n",
      "Epoch 12/80\n",
      "42/42 [==============================] - 1s 15ms/step - loss: 1.2673 - categorical_accuracy: 0.5061 - f1_loss: 0.6101 - val_loss: 1.1957 - val_categorical_accuracy: 0.5289 - val_f1_loss: 0.6103\n",
      "Epoch 13/80\n",
      "42/42 [==============================] - 1s 15ms/step - loss: 1.3495 - categorical_accuracy: 0.5089 - f1_loss: 0.6094 - val_loss: 1.2049 - val_categorical_accuracy: 0.5044 - val_f1_loss: 0.6144\n",
      "Epoch 14/80\n",
      "42/42 [==============================] - 1s 14ms/step - loss: 1.2566 - categorical_accuracy: 0.5344 - f1_loss: 0.5957 - val_loss: 1.1655 - val_categorical_accuracy: 0.5444 - val_f1_loss: 0.6019\n",
      "Epoch 15/80\n",
      "42/42 [==============================] - 1s 15ms/step - loss: 1.1946 - categorical_accuracy: 0.5440 - f1_loss: 0.5880 - val_loss: 1.1849 - val_categorical_accuracy: 0.5478 - val_f1_loss: 0.6058\n",
      "Epoch 16/80\n",
      "42/42 [==============================] - 1s 14ms/step - loss: 1.2367 - categorical_accuracy: 0.5177 - f1_loss: 0.5957 - val_loss: 1.2063 - val_categorical_accuracy: 0.5167 - val_f1_loss: 0.6040\n",
      "Epoch 17/80\n",
      "42/42 [==============================] - 1s 16ms/step - loss: 1.2766 - categorical_accuracy: 0.4973 - f1_loss: 0.5935 - val_loss: 1.1734 - val_categorical_accuracy: 0.5267 - val_f1_loss: 0.5885\n",
      "Epoch 18/80\n",
      "42/42 [==============================] - 1s 14ms/step - loss: 1.2030 - categorical_accuracy: 0.5430 - f1_loss: 0.5824 - val_loss: 1.1876 - val_categorical_accuracy: 0.5322 - val_f1_loss: 0.5913\n",
      "Epoch 19/80\n",
      "42/42 [==============================] - 1s 17ms/step - loss: 1.1843 - categorical_accuracy: 0.5189 - f1_loss: 0.5738 - val_loss: 1.1365 - val_categorical_accuracy: 0.5556 - val_f1_loss: 0.5796\n",
      "Epoch 20/80\n",
      "42/42 [==============================] - 1s 23ms/step - loss: 1.0922 - categorical_accuracy: 0.5727 - f1_loss: 0.5508 - val_loss: 1.2006 - val_categorical_accuracy: 0.5289 - val_f1_loss: 0.5824\n",
      "Epoch 21/80\n",
      "42/42 [==============================] - 1s 17ms/step - loss: 1.1618 - categorical_accuracy: 0.5536 - f1_loss: 0.5582 - val_loss: 1.1296 - val_categorical_accuracy: 0.5733 - val_f1_loss: 0.5666\n",
      "Epoch 22/80\n",
      "42/42 [==============================] - 1s 20ms/step - loss: 1.0734 - categorical_accuracy: 0.6006 - f1_loss: 0.5382 - val_loss: 1.2170 - val_categorical_accuracy: 0.4767 - val_f1_loss: 0.6045\n",
      "Epoch 23/80\n",
      "42/42 [==============================] - 1s 25ms/step - loss: 1.1823 - categorical_accuracy: 0.5372 - f1_loss: 0.5578 - val_loss: 1.1237 - val_categorical_accuracy: 0.5489 - val_f1_loss: 0.5619\n",
      "Epoch 24/80\n",
      "42/42 [==============================] - 1s 23ms/step - loss: 1.1526 - categorical_accuracy: 0.5621 - f1_loss: 0.5509 - val_loss: 1.1608 - val_categorical_accuracy: 0.5456 - val_f1_loss: 0.5818\n",
      "Epoch 25/80\n",
      "42/42 [==============================] - 1s 20ms/step - loss: 1.1021 - categorical_accuracy: 0.5698 - f1_loss: 0.5424 - val_loss: 1.0619 - val_categorical_accuracy: 0.5833 - val_f1_loss: 0.5616\n",
      "Epoch 26/80\n",
      "42/42 [==============================] - 1s 21ms/step - loss: 1.1640 - categorical_accuracy: 0.5554 - f1_loss: 0.5488 - val_loss: 1.0784 - val_categorical_accuracy: 0.5656 - val_f1_loss: 0.5502\n",
      "Epoch 27/80\n",
      "42/42 [==============================] - 1s 22ms/step - loss: 1.1226 - categorical_accuracy: 0.5411 - f1_loss: 0.5446 - val_loss: 1.0649 - val_categorical_accuracy: 0.5811 - val_f1_loss: 0.5538\n",
      "Epoch 28/80\n",
      "42/42 [==============================] - 1s 22ms/step - loss: 1.0412 - categorical_accuracy: 0.5985 - f1_loss: 0.5214 - val_loss: 1.1128 - val_categorical_accuracy: 0.5600 - val_f1_loss: 0.5557\n",
      "Epoch 29/80\n",
      "42/42 [==============================] - 1s 21ms/step - loss: 1.0851 - categorical_accuracy: 0.5936 - f1_loss: 0.5256 - val_loss: 1.0791 - val_categorical_accuracy: 0.5578 - val_f1_loss: 0.5539\n",
      "Epoch 30/80\n",
      "42/42 [==============================] - 1s 21ms/step - loss: 1.1553 - categorical_accuracy: 0.5631 - f1_loss: 0.5336 - val_loss: 1.0850 - val_categorical_accuracy: 0.5833 - val_f1_loss: 0.5458\n",
      "Epoch 31/80\n",
      "42/42 [==============================] - 1s 23ms/step - loss: 1.0935 - categorical_accuracy: 0.5991 - f1_loss: 0.5211 - val_loss: 1.0629 - val_categorical_accuracy: 0.5867 - val_f1_loss: 0.5520\n",
      "Epoch 32/80\n",
      "42/42 [==============================] - 1s 20ms/step - loss: 1.0790 - categorical_accuracy: 0.5949 - f1_loss: 0.5289 - val_loss: 1.1233 - val_categorical_accuracy: 0.5611 - val_f1_loss: 0.5421\n",
      "Epoch 33/80\n",
      "42/42 [==============================] - 1s 22ms/step - loss: 1.0746 - categorical_accuracy: 0.5850 - f1_loss: 0.5140 - val_loss: 0.9880 - val_categorical_accuracy: 0.6133 - val_f1_loss: 0.5275\n",
      "Epoch 34/80\n",
      "42/42 [==============================] - 1s 20ms/step - loss: 1.0222 - categorical_accuracy: 0.6086 - f1_loss: 0.5192 - val_loss: 1.1139 - val_categorical_accuracy: 0.5622 - val_f1_loss: 0.5442\n",
      "Epoch 35/80\n",
      "42/42 [==============================] - 1s 19ms/step - loss: 0.9972 - categorical_accuracy: 0.6137 - f1_loss: 0.5021 - val_loss: 1.0169 - val_categorical_accuracy: 0.5911 - val_f1_loss: 0.5353\n",
      "Epoch 36/80\n",
      "42/42 [==============================] - 1s 19ms/step - loss: 1.0246 - categorical_accuracy: 0.6045 - f1_loss: 0.5044 - val_loss: 1.0451 - val_categorical_accuracy: 0.5533 - val_f1_loss: 0.5314\n",
      "Epoch 37/80\n",
      "42/42 [==============================] - 1s 18ms/step - loss: 0.9855 - categorical_accuracy: 0.6187 - f1_loss: 0.4939 - val_loss: 0.9954 - val_categorical_accuracy: 0.5856 - val_f1_loss: 0.5188\n",
      "Epoch 38/80\n",
      "42/42 [==============================] - 1s 17ms/step - loss: 0.9626 - categorical_accuracy: 0.6242 - f1_loss: 0.4955 - val_loss: 1.0041 - val_categorical_accuracy: 0.5822 - val_f1_loss: 0.5260\n",
      "Epoch 39/80\n",
      "42/42 [==============================] - 1s 15ms/step - loss: 0.9896 - categorical_accuracy: 0.6051 - f1_loss: 0.4943 - val_loss: 1.0470 - val_categorical_accuracy: 0.5656 - val_f1_loss: 0.5313\n",
      "Epoch 40/80\n",
      "42/42 [==============================] - 1s 18ms/step - loss: 0.9933 - categorical_accuracy: 0.5939 - f1_loss: 0.4982 - val_loss: 1.0221 - val_categorical_accuracy: 0.6022 - val_f1_loss: 0.5212\n",
      "Epoch 41/80\n",
      "42/42 [==============================] - 1s 24ms/step - loss: 1.0129 - categorical_accuracy: 0.6128 - f1_loss: 0.4906 - val_loss: 1.0107 - val_categorical_accuracy: 0.5967 - val_f1_loss: 0.5177\n",
      "Epoch 42/80\n",
      "42/42 [==============================] - 1s 17ms/step - loss: 0.9726 - categorical_accuracy: 0.6219 - f1_loss: 0.4989 - val_loss: 0.9694 - val_categorical_accuracy: 0.6000 - val_f1_loss: 0.5112\n",
      "Epoch 43/80\n",
      "42/42 [==============================] - 1s 16ms/step - loss: 1.0048 - categorical_accuracy: 0.6104 - f1_loss: 0.4885 - val_loss: 0.9764 - val_categorical_accuracy: 0.5856 - val_f1_loss: 0.5092\n",
      "Epoch 44/80\n",
      "42/42 [==============================] - 1s 15ms/step - loss: 0.9840 - categorical_accuracy: 0.6208 - f1_loss: 0.4884 - val_loss: 0.9800 - val_categorical_accuracy: 0.5800 - val_f1_loss: 0.5149\n",
      "Epoch 45/80\n",
      "42/42 [==============================] - 1s 15ms/step - loss: 0.9804 - categorical_accuracy: 0.6256 - f1_loss: 0.4898 - val_loss: 0.9866 - val_categorical_accuracy: 0.6111 - val_f1_loss: 0.5105\n",
      "Epoch 46/80\n",
      "42/42 [==============================] - 1s 14ms/step - loss: 0.9321 - categorical_accuracy: 0.6411 - f1_loss: 0.4762 - val_loss: 0.9562 - val_categorical_accuracy: 0.6033 - val_f1_loss: 0.4999\n",
      "Epoch 47/80\n",
      "42/42 [==============================] - 1s 14ms/step - loss: 0.8942 - categorical_accuracy: 0.6565 - f1_loss: 0.4605 - val_loss: 0.9822 - val_categorical_accuracy: 0.6167 - val_f1_loss: 0.5058\n",
      "Epoch 48/80\n",
      "42/42 [==============================] - 1s 14ms/step - loss: 0.9165 - categorical_accuracy: 0.6397 - f1_loss: 0.4657 - val_loss: 0.9915 - val_categorical_accuracy: 0.6056 - val_f1_loss: 0.5070\n",
      "Epoch 49/80\n",
      "42/42 [==============================] - 1s 15ms/step - loss: 0.9460 - categorical_accuracy: 0.6305 - f1_loss: 0.4689 - val_loss: 1.0158 - val_categorical_accuracy: 0.5922 - val_f1_loss: 0.5040\n",
      "Epoch 50/80\n",
      "42/42 [==============================] - 1s 14ms/step - loss: 0.9271 - categorical_accuracy: 0.6392 - f1_loss: 0.4673 - val_loss: 1.0024 - val_categorical_accuracy: 0.6156 - val_f1_loss: 0.4995\n",
      "Epoch 51/80\n",
      "42/42 [==============================] - 1s 15ms/step - loss: 0.9343 - categorical_accuracy: 0.6199 - f1_loss: 0.4728 - val_loss: 0.9348 - val_categorical_accuracy: 0.6167 - val_f1_loss: 0.4985\n",
      "Epoch 52/80\n",
      "42/42 [==============================] - 1s 15ms/step - loss: 0.9309 - categorical_accuracy: 0.6313 - f1_loss: 0.4686 - val_loss: 0.9975 - val_categorical_accuracy: 0.6044 - val_f1_loss: 0.5017\n",
      "Epoch 53/80\n",
      "42/42 [==============================] - 1s 15ms/step - loss: 0.9208 - categorical_accuracy: 0.6349 - f1_loss: 0.4687 - val_loss: 0.9578 - val_categorical_accuracy: 0.6122 - val_f1_loss: 0.4895\n",
      "Epoch 54/80\n",
      "42/42 [==============================] - 1s 14ms/step - loss: 0.9022 - categorical_accuracy: 0.6343 - f1_loss: 0.4692 - val_loss: 0.9620 - val_categorical_accuracy: 0.6089 - val_f1_loss: 0.4873\n",
      "Epoch 55/80\n",
      "42/42 [==============================] - 1s 14ms/step - loss: 0.8712 - categorical_accuracy: 0.6638 - f1_loss: 0.4530 - val_loss: 0.9447 - val_categorical_accuracy: 0.6056 - val_f1_loss: 0.4865\n",
      "Epoch 56/80\n",
      "42/42 [==============================] - 1s 14ms/step - loss: 0.9297 - categorical_accuracy: 0.6544 - f1_loss: 0.4568 - val_loss: 0.9547 - val_categorical_accuracy: 0.6022 - val_f1_loss: 0.4888\n",
      "Epoch 57/80\n",
      "42/42 [==============================] - 1s 14ms/step - loss: 0.9136 - categorical_accuracy: 0.6401 - f1_loss: 0.4675 - val_loss: 1.0002 - val_categorical_accuracy: 0.6178 - val_f1_loss: 0.5091\n",
      "Epoch 58/80\n",
      "42/42 [==============================] - 1s 20ms/step - loss: 0.9365 - categorical_accuracy: 0.6461 - f1_loss: 0.4666 - val_loss: 0.9132 - val_categorical_accuracy: 0.6400 - val_f1_loss: 0.4918\n",
      "Epoch 59/80\n",
      "42/42 [==============================] - 1s 14ms/step - loss: 0.9068 - categorical_accuracy: 0.6531 - f1_loss: 0.4534 - val_loss: 0.9246 - val_categorical_accuracy: 0.5967 - val_f1_loss: 0.4897\n",
      "Epoch 60/80\n",
      "42/42 [==============================] - 1s 14ms/step - loss: 0.8501 - categorical_accuracy: 0.6753 - f1_loss: 0.4417 - val_loss: 0.9228 - val_categorical_accuracy: 0.6011 - val_f1_loss: 0.4823\n",
      "Epoch 61/80\n",
      "42/42 [==============================] - 1s 14ms/step - loss: 0.8549 - categorical_accuracy: 0.6624 - f1_loss: 0.4396 - val_loss: 0.9569 - val_categorical_accuracy: 0.5978 - val_f1_loss: 0.4823\n",
      "Epoch 62/80\n",
      "42/42 [==============================] - 1s 15ms/step - loss: 0.8840 - categorical_accuracy: 0.6664 - f1_loss: 0.4429 - val_loss: 0.9294 - val_categorical_accuracy: 0.6244 - val_f1_loss: 0.4793\n",
      "Epoch 63/80\n",
      "42/42 [==============================] - 1s 14ms/step - loss: 0.8587 - categorical_accuracy: 0.6682 - f1_loss: 0.4398 - val_loss: 0.9344 - val_categorical_accuracy: 0.5956 - val_f1_loss: 0.4905\n",
      "Epoch 64/80\n",
      "42/42 [==============================] - 1s 14ms/step - loss: 0.8624 - categorical_accuracy: 0.6554 - f1_loss: 0.4438 - val_loss: 0.9833 - val_categorical_accuracy: 0.5967 - val_f1_loss: 0.4855\n",
      "Epoch 65/80\n",
      "42/42 [==============================] - 1s 14ms/step - loss: 0.9169 - categorical_accuracy: 0.6468 - f1_loss: 0.4538 - val_loss: 0.9555 - val_categorical_accuracy: 0.6122 - val_f1_loss: 0.4818\n",
      "Epoch 66/80\n",
      "42/42 [==============================] - 1s 14ms/step - loss: 0.7940 - categorical_accuracy: 0.6897 - f1_loss: 0.4239 - val_loss: 0.9560 - val_categorical_accuracy: 0.6078 - val_f1_loss: 0.4787\n",
      "Epoch 67/80\n",
      "42/42 [==============================] - 1s 14ms/step - loss: 0.8279 - categorical_accuracy: 0.6759 - f1_loss: 0.4337 - val_loss: 1.0650 - val_categorical_accuracy: 0.5844 - val_f1_loss: 0.5026\n",
      "Epoch 68/80\n",
      "42/42 [==============================] - 1s 15ms/step - loss: 0.9036 - categorical_accuracy: 0.6657 - f1_loss: 0.4440 - val_loss: 0.9801 - val_categorical_accuracy: 0.6256 - val_f1_loss: 0.4833\n",
      "Epoch 69/80\n",
      "42/42 [==============================] - 1s 14ms/step - loss: 0.8632 - categorical_accuracy: 0.6646 - f1_loss: 0.4467 - val_loss: 0.9026 - val_categorical_accuracy: 0.6400 - val_f1_loss: 0.4705\n",
      "Epoch 70/80\n",
      "42/42 [==============================] - 1s 14ms/step - loss: 0.8450 - categorical_accuracy: 0.6695 - f1_loss: 0.4305 - val_loss: 0.9179 - val_categorical_accuracy: 0.6289 - val_f1_loss: 0.4711\n",
      "Epoch 71/80\n",
      "42/42 [==============================] - 1s 14ms/step - loss: 0.7931 - categorical_accuracy: 0.6865 - f1_loss: 0.4242 - val_loss: 0.9455 - val_categorical_accuracy: 0.6022 - val_f1_loss: 0.4791\n",
      "Epoch 72/80\n",
      "42/42 [==============================] - 1s 14ms/step - loss: 0.8033 - categorical_accuracy: 0.6821 - f1_loss: 0.4199 - val_loss: 0.9606 - val_categorical_accuracy: 0.6156 - val_f1_loss: 0.4681\n",
      "Epoch 73/80\n",
      "42/42 [==============================] - 1s 14ms/step - loss: 0.9249 - categorical_accuracy: 0.6458 - f1_loss: 0.4499 - val_loss: 1.0498 - val_categorical_accuracy: 0.6000 - val_f1_loss: 0.4887\n",
      "Epoch 74/80\n",
      "42/42 [==============================] - 1s 19ms/step - loss: 0.9066 - categorical_accuracy: 0.6602 - f1_loss: 0.4325 - val_loss: 0.9821 - val_categorical_accuracy: 0.6067 - val_f1_loss: 0.4716\n",
      "Epoch 75/80\n",
      "42/42 [==============================] - 1s 15ms/step - loss: 0.8625 - categorical_accuracy: 0.6735 - f1_loss: 0.4391 - val_loss: 0.9252 - val_categorical_accuracy: 0.6433 - val_f1_loss: 0.4657\n",
      "Epoch 76/80\n",
      "42/42 [==============================] - 1s 15ms/step - loss: 0.8330 - categorical_accuracy: 0.6855 - f1_loss: 0.4266 - val_loss: 0.9103 - val_categorical_accuracy: 0.6189 - val_f1_loss: 0.4703\n",
      "Epoch 77/80\n",
      "42/42 [==============================] - 1s 14ms/step - loss: 0.8992 - categorical_accuracy: 0.6565 - f1_loss: 0.4413 - val_loss: 0.9862 - val_categorical_accuracy: 0.6144 - val_f1_loss: 0.4778\n",
      "Epoch 78/80\n",
      "42/42 [==============================] - 1s 15ms/step - loss: 0.7587 - categorical_accuracy: 0.7026 - f1_loss: 0.4108 - val_loss: 0.9266 - val_categorical_accuracy: 0.6133 - val_f1_loss: 0.4695\n",
      "Epoch 79/80\n",
      "42/42 [==============================] - 1s 14ms/step - loss: 0.8183 - categorical_accuracy: 0.6927 - f1_loss: 0.4154 - val_loss: 0.9804 - val_categorical_accuracy: 0.6133 - val_f1_loss: 0.4673\n",
      "Epoch 80/80\n",
      "42/42 [==============================] - 1s 15ms/step - loss: 0.8088 - categorical_accuracy: 0.6980 - f1_loss: 0.4141 - val_loss: 0.9737 - val_categorical_accuracy: 0.6256 - val_f1_loss: 0.4654\n"
     ]
    }
   ],
   "source": [
    "config = dict(filters=(64, 128),  \n",
    "                input_shape=128,\n",
    "                dropout=0.25,\n",
    "                epochs=80,\n",
    "                batch_size=50)\n",
    "\n",
    "m_mel_2 = DenseNN(**config)\n",
    "\n",
    "hist_mel_2 = m_mel_2.fit(X_traincnn_mel, y_onehot_train_mel, X_testcnn_mel, y_onehot_test_mel)"
   ]
  },
  {
   "cell_type": "code",
   "execution_count": 219,
   "id": "d7dd7802",
   "metadata": {},
   "outputs": [
    {
     "name": "stdout",
     "output_type": "stream",
     "text": [
      "Model: \"sequential_33\"\n",
      "_________________________________________________________________\n",
      "Layer (type)                 Output Shape              Param #   \n",
      "=================================================================\n",
      "conv1d_66 (Conv1D)           (None, 128, 64)           448       \n",
      "_________________________________________________________________\n",
      "activation_66 (Activation)   (None, 128, 64)           0         \n",
      "_________________________________________________________________\n",
      "max_pooling1d_29 (MaxPooling (None, 25, 64)            0         \n",
      "_________________________________________________________________\n",
      "batch_normalization_63 (Batc (None, 25, 64)            256       \n",
      "_________________________________________________________________\n",
      "dropout_66 (Dropout)         (None, 25, 64)            0         \n",
      "_________________________________________________________________\n",
      "conv1d_67 (Conv1D)           (None, 25, 128)           49280     \n",
      "_________________________________________________________________\n",
      "activation_67 (Activation)   (None, 25, 128)           0         \n",
      "_________________________________________________________________\n",
      "batch_normalization_64 (Batc (None, 25, 128)           512       \n",
      "_________________________________________________________________\n",
      "dropout_67 (Dropout)         (None, 25, 128)           0         \n",
      "_________________________________________________________________\n",
      "global_max_pooling1d_31 (Glo (None, 128)               0         \n",
      "_________________________________________________________________\n",
      "dense_33 (Dense)             (None, 6)                 774       \n",
      "=================================================================\n",
      "Total params: 51,270\n",
      "Trainable params: 50,886\n",
      "Non-trainable params: 384\n",
      "_________________________________________________________________\n"
     ]
    }
   ],
   "source": [
    "m_mel_2.summary()"
   ]
  },
  {
   "cell_type": "code",
   "execution_count": 220,
   "id": "07864771",
   "metadata": {},
   "outputs": [
    {
     "data": {
      "image/png": "[encoded data removed]",
      "text/plain": [
       "<Figure size 432x288 with 1 Axes>"
      ]
     },
     "metadata": {
      "needs_background": "light"
     },
     "output_type": "display_data"
    },
    {
     "data": {
      "image/png": "[encoded data removed]",
      "text/plain": [
       "<Figure size 432x288 with 1 Axes>"
      ]
     },
     "metadata": {
      "needs_background": "light"
     },
     "output_type": "display_data"
    }
   ],
   "source": [
    "plt.plot(hist_mel_2.history['categorical_accuracy'])\n",
    "plt.plot(hist_mel_2.history['val_categorical_accuracy'])\n",
    "plt.title('model accuracy')\n",
    "plt.ylabel('accuracy')\n",
    "plt.xlabel('epoch')\n",
    "plt.legend(['train', 'test'], loc='upper left')\n",
    "plt.show()\n",
    "# summarize history for loss\n",
    "plt.plot(hist_mel_2.history['loss'])\n",
    "plt.plot(hist_mel_2.history['val_loss'])\n",
    "plt.title('model loss')\n",
    "plt.ylabel('loss')\n",
    "plt.xlabel('epoch')\n",
    "plt.legend(['train', 'test'], loc='upper left')\n",
    "plt.show()"
   ]
  },
  {
   "cell_type": "code",
   "execution_count": 268,
   "id": "23876c7c",
   "metadata": {},
   "outputs": [
    {
     "name": "stdout",
     "output_type": "stream",
     "text": [
      "29/29 [==============================] - 0s 6ms/step - loss: 0.9737 - categorical_accuracy: 0.6256 - f1_loss: 0.4761\n",
      "Restored model, accuracy: 62.56%\n"
     ]
    }
   ],
   "source": [
    "loss, acc, f1_score = m_mel_2.evaluate(X_testcnn_mel, y_onehot_test_mel)\n",
    "print(\"Restored model, accuracy: {:5.2f}%\".format(100*acc))"
   ]
  },
  {
   "cell_type": "code",
   "execution_count": 311,
   "id": "87f15931",
   "metadata": {},
   "outputs": [
    {
     "name": "stdout",
     "output_type": "stream",
     "text": [
      "Confusion matrix, without normalization\n",
      "[[106  12   5   0   2   5]\n",
      " [ 60  45  12   0   9  27]\n",
      " [ 37  21  36   0   4  46]\n",
      " [  0   0   0 158   0   0]\n",
      " [  0   8   6   0 151   0]\n",
      " [ 27  23  27   1   5  67]]\n"
     ]
    },
    {
     "data": {
      "image/png": "[encoded data removed]",
      "text/plain": [
       "<Figure size 432x288 with 2 Axes>"
      ]
     },
     "metadata": {
      "needs_background": "light"
     },
     "output_type": "display_data"
    }
   ],
   "source": [
    "y_pred = m_mel_2.predict(X_testcnn_mel)\n",
    "matrix = metrics.confusion_matrix(y_onehot_test_mel.argmax(axis=1), y_pred.argmax(axis=1))\n",
    "emo_keys = list(['ang', 'hap', 'sad', 'fea', 'sur', 'neu'])\n",
    "plot_confusion_matrix(matrix, classes=emo_keys)"
   ]
  },
  {
   "cell_type": "code",
   "execution_count": 312,
   "id": "c22cdefd",
   "metadata": {
    "scrolled": true
   },
   "outputs": [
    {
     "name": "stdout",
     "output_type": "stream",
     "text": [
      "              precision    recall  f1-score   support\n",
      "\n",
      "         ang       0.46      0.82      0.59       130\n",
      "         hap       0.41      0.29      0.34       153\n",
      "         sad       0.42      0.25      0.31       144\n",
      "         fea       0.99      1.00      1.00       158\n",
      "         sur       0.88      0.92      0.90       165\n",
      "         neu       0.46      0.45      0.45       150\n",
      "\n",
      "    accuracy                           0.63       900\n",
      "   macro avg       0.61      0.62      0.60       900\n",
      "weighted avg       0.62      0.63      0.61       900\n",
      "\n"
     ]
    }
   ],
   "source": [
    "target_names = ['ang', 'hap', 'sad', 'fea', 'sur', 'neu']\n",
    "print(classification_report(y_onehot_test_mfcc.argmax(axis=1), y_pred.argmax(axis=1), target_names=target_names))"
   ]
  },
  {
   "cell_type": "code",
   "execution_count": 313,
   "id": "96a7ffe6",
   "metadata": {},
   "outputs": [
    {
     "data": {
      "text/plain": [
       "563"
      ]
     },
     "execution_count": 313,
     "metadata": {},
     "output_type": "execute_result"
    }
   ],
   "source": [
    "# indices and labels of all correctly recognized\n",
    "correct_indices = print_index(y_onehot_test_mfcc.argmax(axis=1), y_pred.argmax(axis=1))\n",
    "correct_labels = print_labels(y_onehot_test_mfcc.argmax(axis=1), y_pred.argmax(axis=1))\n",
    "\n",
    "len(correct_indices)"
   ]
  },
  {
   "cell_type": "code",
   "execution_count": 314,
   "id": "62c4ad56",
   "metadata": {},
   "outputs": [
    {
     "data": {
      "text/plain": [
       "{'ang': 8, 'hap': 1, 'sad': 4, 'fea': 0, 'sur': 7, 'neu': 4}"
      ]
     },
     "execution_count": 314,
     "metadata": {},
     "output_type": "execute_result"
    }
   ],
   "source": [
    "# indices of correctly recognized AND clipped\n",
    "indices_of_clipped_recognized = []\n",
    "for i in range(len(X_testcnn_mfcc)):\n",
    "    for j in range(len(correct_indices)):\n",
    "        if(i == correct_indices[j]):\n",
    "            if(i in x_clipped):\n",
    "                indices_of_clipped_recognized.append(i)\n",
    "\n",
    "label_of_clipped_recognized = []\n",
    "# we get the label of correctly recognized clipped audios\n",
    "for i in range(len(y_onehot_test_mfcc.argmax(axis=1))):\n",
    "    if(i in indices_of_clipped_recognized):\n",
    "        label_of_clipped_recognized.append((y_onehot_test_mfcc.argmax(axis=1)[i]))\n",
    "\n",
    "dic_val_clipped = count_label(label_of_clipped_recognized)\n",
    "\n",
    "dic_val_clipped"
   ]
  },
  {
   "cell_type": "code",
   "execution_count": 315,
   "id": "dcd43c35",
   "metadata": {},
   "outputs": [
    {
     "data": {
      "text/plain": [
       "<BarContainer object of 6 artists>"
      ]
     },
     "execution_count": 315,
     "metadata": {},
     "output_type": "execute_result"
    },
    {
     "data": {
      "image/png": "[encoded data removed]",
      "text/plain": [
       "<Figure size 432x288 with 1 Axes>"
      ]
     },
     "metadata": {
      "needs_background": "light"
     },
     "output_type": "display_data"
    }
   ],
   "source": [
    "plt.bar(list(dic_val_clipped.keys()), dic_val_clipped.values(), color='black')"
   ]
  },
  {
   "cell_type": "code",
   "execution_count": 316,
   "id": "95cb17fd",
   "metadata": {},
   "outputs": [
    {
     "name": "stdout",
     "output_type": "stream",
     "text": [
      "Number of recognized clipped test data: 24\n",
      "Total number of clipped test data: 40\n",
      "Ratio of recognized clipped test data: 0.6\n",
      "\n",
      "Anger: 8\n",
      "Happiness: 1\n",
      "Sadness: 4\n",
      "Surpise: 7\n",
      "Neutral: 4\n",
      "Fear: 0\n",
      "\n",
      "Anger: 8\n",
      "Happiness: 9\n",
      "Sadness: 10\n",
      "Surpise: 7\n",
      "Neutral: 6\n",
      "Fear: 0\n",
      "\n"
     ]
    }
   ],
   "source": [
    "clipped_ratio = len(indices_of_clipped_recognized) / len(x_clipped)\n",
    "print(\"Number of recognized clipped test data: {}\\nTotal number of clipped test data: {}\\nRatio of recognized clipped test data: {}\\n\".format(len(indices_of_clipped_recognized),len(x_clipped), clipped_ratio ))\n",
    "print(\"Anger: {}\\nHappiness: {}\\nSadness: {}\\nSurpise: {}\\nNeutral: {}\\nFear: {}\\n\".format(dic_val_clipped['ang'],dic_val_clipped['hap'],dic_val_clipped['sad'],dic_val_clipped['sur'],dic_val_clipped['neu'],dic_val_clipped['fea']))\n",
    "print(\"Anger: {}\\nHappiness: {}\\nSadness: {}\\nSurpise: {}\\nNeutral: {}\\nFear: {}\\n\".format(dic_true_val['ang'],dic_true_val['hap'],dic_true_val['sad'],dic_true_val['sur'],dic_true_val['neu'],dic_true_val['fea']))"
   ]
  },
  {
   "cell_type": "code",
   "execution_count": 317,
   "id": "c33227e3",
   "metadata": {},
   "outputs": [
    {
     "data": {
      "text/plain": [
       "539"
      ]
     },
     "execution_count": 317,
     "metadata": {},
     "output_type": "execute_result"
    }
   ],
   "source": [
    "# we get the indices of correctly recognized un-clipped audios\n",
    "indices_of_unclipped_recognized = []\n",
    "for i in range(len(X_testcnn_mfcc)):\n",
    "    for j in range(len(correct_indices)):\n",
    "        if(i == correct_indices[j]):\n",
    "            if(i not in x_clipped):\n",
    "                indices_of_unclipped_recognized.append(i)\n",
    "\n",
    "len(indices_of_unclipped_recognized)"
   ]
  },
  {
   "cell_type": "code",
   "execution_count": 318,
   "id": "a3b5f220",
   "metadata": {},
   "outputs": [],
   "source": [
    "label_of_unclipped_recognized = []\n",
    "# we get the label of correctly recognized unclipped audios\n",
    "for i in range(len(y_onehot_test_mfcc.argmax(axis=1))):\n",
    "    if(i in indices_of_unclipped_recognized):\n",
    "        label_of_unclipped_recognized.append((y_onehot_test_mfcc.argmax(axis=1)[i]))\n",
    "\n",
    "dic_val_unclipped = count_label(label_of_unclipped_recognized)"
   ]
  },
  {
   "cell_type": "code",
   "execution_count": 319,
   "id": "22b4217e",
   "metadata": {},
   "outputs": [
    {
     "data": {
      "text/plain": [
       "<BarContainer object of 6 artists>"
      ]
     },
     "execution_count": 319,
     "metadata": {},
     "output_type": "execute_result"
    },
    {
     "data": {
      "image/png": "[encoded data removed]",
      "text/plain": [
       "<Figure size 432x288 with 1 Axes>"
      ]
     },
     "metadata": {
      "needs_background": "light"
     },
     "output_type": "display_data"
    }
   ],
   "source": [
    "plt.bar(list(dic_val_unclipped.keys()), dic_val_unclipped.values(), color='black')"
   ]
  },
  {
   "cell_type": "code",
   "execution_count": 320,
   "id": "eab5d78e",
   "metadata": {},
   "outputs": [
    {
     "name": "stdout",
     "output_type": "stream",
     "text": [
      "Number of recognized unclipped test data: 539\n",
      "Total number of unclipped test data: 860\n",
      "Ratio of recognized unclipped test data: 0.6267441860465116\n",
      "\n",
      "Anger: 98\n",
      "Happiness: 44\n",
      "Sadness: 32\n",
      "Surpise: 144\n",
      "Neutral: 63\n",
      "Fear: 158\n",
      "\n",
      "Anger: 122\n",
      "Happiness: 144\n",
      "Sadness: 134\n",
      "Surpise: 158\n",
      "Neutral: 144\n",
      "Fear: 158\n",
      "\n"
     ]
    }
   ],
   "source": [
    "unclipped_ratio = len(indices_of_unclipped_recognized) / len(x_unclipped)\n",
    "print(\"Number of recognized unclipped test data: {}\\nTotal number of unclipped test data: {}\\nRatio of recognized unclipped test data: {}\\n\".format(len(indices_of_unclipped_recognized),len(x_unclipped), unclipped_ratio ))\n",
    "print(\"Anger: {}\\nHappiness: {}\\nSadness: {}\\nSurpise: {}\\nNeutral: {}\\nFear: {}\\n\".format(dic_val_unclipped['ang'],dic_val_unclipped['hap'],dic_val_unclipped['sad'],dic_val_unclipped['sur'],dic_val_unclipped['neu'],dic_val_unclipped['fea']))\n",
    "print(\"Anger: {}\\nHappiness: {}\\nSadness: {}\\nSurpise: {}\\nNeutral: {}\\nFear: {}\\n\".format(dic_true_val_unclipped['ang'],dic_true_val_unclipped['hap'],dic_true_val_unclipped['sad'],dic_true_val_unclipped['sur'],dic_true_val_unclipped['neu'],dic_true_val_unclipped['fea']))"
   ]
  },
  {
   "cell_type": "markdown",
   "id": "38bd4db3",
   "metadata": {},
   "source": [
    "## 29 - Second clips"
   ]
  },
  {
   "cell_type": "code",
   "execution_count": 71,
   "id": "5a36f4a7",
   "metadata": {},
   "outputs": [],
   "source": [
    "#mel\n",
    "\n",
    "f = open('IEMOCAP_Data/Data_30_sec/X_train_mel', 'rb')\n",
    "X_train_mel_30 = joblib.load(f)\n",
    "f.close()\n",
    "f = open('IEMOCAP_Data/Data_30_sec/X_test_mel', 'rb')\n",
    "X_test_mel_30 = joblib.load(f)\n",
    "f.close()\n",
    "f = open('IEMOCAP_Data/Data_30_sec/y_train_mel', 'rb')\n",
    "y_train_mel_30 = joblib.load(f)\n",
    "f.close()\n",
    "f = open('IEMOCAP_Data/Data_30_sec/y_test_mel', 'rb')\n",
    "y_test_mel_30 = joblib.load(f)\n",
    "f.close()\n",
    "\n",
    "#mfcc\n",
    "\n",
    "f = open('IEMOCAP_Data/Data_30_sec/X_train_mfcc', 'rb')\n",
    "X_train_mfcc_30 = joblib.load(f)\n",
    "f.close()\n",
    "f = open('IEMOCAP_Data/Data_30_sec/X_test_mfcc', 'rb')\n",
    "X_test_mfcc_30 = joblib.load(f)\n",
    "f.close()\n",
    "f = open('IEMOCAP_Data/Data_30_sec/y_train_mfcc', 'rb')\n",
    "y_train_mfcc_30 = joblib.load(f)\n",
    "f.close()\n",
    "f = open('IEMOCAP_Data/Data_30_sec/y_test_mfcc', 'rb')\n",
    "y_test_mfcc_30 = joblib.load(f)\n",
    "f.close()"
   ]
  },
  {
   "cell_type": "code",
   "execution_count": 72,
   "id": "b8cfe36c",
   "metadata": {},
   "outputs": [],
   "source": [
    "X_train_mel_1d_30 = []\n",
    "X_test_mel_1d_30 = []\n",
    "X_train_mfcc_1d_30 = []\n",
    "X_test_mfcc_1d_30 = []\n",
    "\n",
    "for i in range(len(X_train_mel_30)):\n",
    "    X_train_mel_1d_30.append(feature_to_1d(X_train_mel_30[i]))\n",
    "for i in range(len(X_test_mel_30)):\n",
    "    X_test_mel_1d_30.append(feature_to_1d(X_test_mel_30[i]))\n",
    "for i in range(len(X_train_mfcc_30)):\n",
    "    X_train_mfcc_1d_30.append(feature_to_1d(X_train_mfcc_30[i]))\n",
    "for i in range(len(X_test_mfcc_30)):\n",
    "    X_test_mfcc_1d_30.append(feature_to_1d(X_test_mfcc_30[i]))\n",
    "    \n",
    "X_train_mel_30 = np.array(X_train_mel_1d_30)\n",
    "X_test_mel_30 = np.array(X_test_mel_1d_30)\n",
    "X_train_mfcc_30 = np.array(X_train_mfcc_1d_30)\n",
    "X_test_mfcc_30 = np.array(X_test_mfcc_1d_30)    "
   ]
  },
  {
   "cell_type": "markdown",
   "id": "f2474124",
   "metadata": {},
   "source": [
    "### Transform y data"
   ]
  },
  {
   "cell_type": "code",
   "execution_count": 73,
   "id": "32f7c40b",
   "metadata": {},
   "outputs": [],
   "source": [
    "y_onehot_train_mel_30 = y_train_mel_30\n",
    "y_onehot_test_mel_30 = y_test_mel_30\n",
    "\n",
    "y_onehot_train_mfcc_30 = y_train_mfcc_30\n",
    "y_onehot_test_mfcc_30 = y_test_mfcc_30\n",
    "\n",
    "y_onehot_train_mel_30 = pd.get_dummies(y_onehot_train_mel_30)\n",
    "y_onehot_test_mel_30 = pd.get_dummies(y_onehot_test_mel_30)\n",
    "\n",
    "y_onehot_train_mfcc_30 = pd.get_dummies(y_onehot_train_mfcc_30)\n",
    "y_onehot_test_mfcc_30 = pd.get_dummies(y_onehot_test_mfcc_30)\n",
    "\n",
    "y_onehot_train_mel_30 = np.asarray(y_onehot_train_mel_30).astype('int8')\n",
    "y_onehot_test_mel_30  = np.asarray(y_onehot_test_mel_30).astype('int8')\n",
    "\n",
    "y_onehot_train_mfcc_30 = np.asarray(y_onehot_train_mfcc_30).astype('int8')\n",
    "y_onehot_test_mfcc_30 = np.asarray(y_onehot_test_mfcc_30).astype('int8')"
   ]
  },
  {
   "cell_type": "markdown",
   "id": "3ee07701",
   "metadata": {},
   "source": [
    "Expand the dimensions"
   ]
  },
  {
   "cell_type": "code",
   "execution_count": 74,
   "id": "56842b53",
   "metadata": {},
   "outputs": [],
   "source": [
    "X_traincnn_mfcc_30 = np.expand_dims(X_train_mfcc_30, axis = 2)\n",
    "X_testcnn_mfcc_30 = np.expand_dims(X_test_mfcc_30, axis = 2)\n",
    "X_traincnn_mel_30 = np.expand_dims(X_train_mel_30, axis = 2)\n",
    "X_testcnn_mel_30 = np.expand_dims(X_test_mel_30, axis = 2)"
   ]
  },
  {
   "cell_type": "markdown",
   "id": "f36bb534",
   "metadata": {},
   "source": [
    "### MFCC"
   ]
  },
  {
   "cell_type": "code",
   "execution_count": 198,
   "id": "242f6207",
   "metadata": {},
   "outputs": [
    {
     "name": "stdout",
     "output_type": "stream",
     "text": [
      "Epoch 1/60\n",
      "42/42 [==============================] - 2s 16ms/step - loss: 2.7675 - categorical_accuracy: 0.2046 - f1_loss: 0.8209 - val_loss: 2.5175 - val_categorical_accuracy: 0.1911 - val_f1_loss: 0.8607\n",
      "Epoch 2/60\n",
      "42/42 [==============================] - 0s 9ms/step - loss: 1.7626 - categorical_accuracy: 0.2919 - f1_loss: 0.7718 - val_loss: 1.8521 - val_categorical_accuracy: 0.2200 - val_f1_loss: 0.8185\n",
      "Epoch 3/60\n",
      "42/42 [==============================] - 0s 10ms/step - loss: 1.6275 - categorical_accuracy: 0.3430 - f1_loss: 0.7447 - val_loss: 1.7054 - val_categorical_accuracy: 0.2700 - val_f1_loss: 0.8008\n",
      "Epoch 4/60\n",
      "42/42 [==============================] - 0s 9ms/step - loss: 1.5338 - categorical_accuracy: 0.3719 - f1_loss: 0.7233 - val_loss: 1.7059 - val_categorical_accuracy: 0.2100 - val_f1_loss: 0.7965\n",
      "Epoch 5/60\n",
      "42/42 [==============================] - 0s 9ms/step - loss: 1.4678 - categorical_accuracy: 0.4065 - f1_loss: 0.7002 - val_loss: 2.0755 - val_categorical_accuracy: 0.1956 - val_f1_loss: 0.8256\n",
      "Epoch 6/60\n",
      "42/42 [==============================] - 0s 10ms/step - loss: 1.4494 - categorical_accuracy: 0.4219 - f1_loss: 0.6909 - val_loss: 1.5233 - val_categorical_accuracy: 0.3222 - val_f1_loss: 0.7586\n",
      "Epoch 7/60\n",
      "42/42 [==============================] - 0s 9ms/step - loss: 1.3725 - categorical_accuracy: 0.4466 - f1_loss: 0.6637 - val_loss: 1.4860 - val_categorical_accuracy: 0.3611 - val_f1_loss: 0.7463\n",
      "Epoch 8/60\n",
      "42/42 [==============================] - 0s 10ms/step - loss: 1.3275 - categorical_accuracy: 0.4542 - f1_loss: 0.6508 - val_loss: 1.4132 - val_categorical_accuracy: 0.4378 - val_f1_loss: 0.7295\n",
      "Epoch 9/60\n",
      "42/42 [==============================] - 0s 9ms/step - loss: 1.3405 - categorical_accuracy: 0.4532 - f1_loss: 0.6556 - val_loss: 2.4285 - val_categorical_accuracy: 0.1789 - val_f1_loss: 0.8438\n",
      "Epoch 10/60\n",
      "42/42 [==============================] - 1s 18ms/step - loss: 1.4018 - categorical_accuracy: 0.4274 - f1_loss: 0.6756 - val_loss: 1.4068 - val_categorical_accuracy: 0.3778 - val_f1_loss: 0.7192\n",
      "Epoch 11/60\n",
      "42/42 [==============================] - 0s 10ms/step - loss: 1.3594 - categorical_accuracy: 0.4523 - f1_loss: 0.6602 - val_loss: 1.4245 - val_categorical_accuracy: 0.3811 - val_f1_loss: 0.7228\n",
      "Epoch 12/60\n",
      "42/42 [==============================] - 0s 9ms/step - loss: 1.2601 - categorical_accuracy: 0.4831 - f1_loss: 0.6351 - val_loss: 1.4516 - val_categorical_accuracy: 0.3356 - val_f1_loss: 0.7225\n",
      "Epoch 13/60\n",
      "42/42 [==============================] - 0s 10ms/step - loss: 1.2838 - categorical_accuracy: 0.4768 - f1_loss: 0.6334 - val_loss: 1.3368 - val_categorical_accuracy: 0.4733 - val_f1_loss: 0.7036\n",
      "Epoch 14/60\n",
      "42/42 [==============================] - 0s 9ms/step - loss: 1.2440 - categorical_accuracy: 0.5150 - f1_loss: 0.6175 - val_loss: 1.2906 - val_categorical_accuracy: 0.4489 - val_f1_loss: 0.6629\n",
      "Epoch 15/60\n",
      "42/42 [==============================] - 0s 10ms/step - loss: 1.2133 - categorical_accuracy: 0.5098 - f1_loss: 0.6067 - val_loss: 1.1892 - val_categorical_accuracy: 0.4933 - val_f1_loss: 0.6425\n",
      "Epoch 16/60\n",
      "42/42 [==============================] - 0s 9ms/step - loss: 1.1751 - categorical_accuracy: 0.5197 - f1_loss: 0.6003 - val_loss: 1.2139 - val_categorical_accuracy: 0.4911 - val_f1_loss: 0.6540\n",
      "Epoch 17/60\n",
      "42/42 [==============================] - 0s 10ms/step - loss: 1.1858 - categorical_accuracy: 0.5177 - f1_loss: 0.5967 - val_loss: 1.1317 - val_categorical_accuracy: 0.5689 - val_f1_loss: 0.6244\n",
      "Epoch 18/60\n",
      "42/42 [==============================] - 0s 10ms/step - loss: 1.1353 - categorical_accuracy: 0.5310 - f1_loss: 0.5807 - val_loss: 1.1796 - val_categorical_accuracy: 0.5167 - val_f1_loss: 0.6459\n",
      "Epoch 19/60\n",
      "42/42 [==============================] - 0s 11ms/step - loss: 1.1634 - categorical_accuracy: 0.5061 - f1_loss: 0.5894 - val_loss: 1.0694 - val_categorical_accuracy: 0.5589 - val_f1_loss: 0.5926\n",
      "Epoch 20/60\n",
      "42/42 [==============================] - 0s 10ms/step - loss: 1.1506 - categorical_accuracy: 0.5411 - f1_loss: 0.5763 - val_loss: 1.1810 - val_categorical_accuracy: 0.4989 - val_f1_loss: 0.6360\n",
      "Epoch 21/60\n",
      "42/42 [==============================] - 0s 11ms/step - loss: 1.1380 - categorical_accuracy: 0.5456 - f1_loss: 0.5747 - val_loss: 1.0532 - val_categorical_accuracy: 0.5889 - val_f1_loss: 0.5897\n",
      "Epoch 22/60\n",
      "42/42 [==============================] - 0s 10ms/step - loss: 1.1031 - categorical_accuracy: 0.5661 - f1_loss: 0.5704 - val_loss: 1.0262 - val_categorical_accuracy: 0.6044 - val_f1_loss: 0.5779\n",
      "Epoch 23/60\n",
      "42/42 [==============================] - 0s 10ms/step - loss: 1.1271 - categorical_accuracy: 0.5468 - f1_loss: 0.5720 - val_loss: 1.0188 - val_categorical_accuracy: 0.5833 - val_f1_loss: 0.5744\n",
      "Epoch 24/60\n",
      "42/42 [==============================] - 0s 10ms/step - loss: 1.0919 - categorical_accuracy: 0.5486 - f1_loss: 0.5612 - val_loss: 1.0238 - val_categorical_accuracy: 0.6022 - val_f1_loss: 0.5733\n",
      "Epoch 25/60\n",
      "42/42 [==============================] - 0s 9ms/step - loss: 1.0880 - categorical_accuracy: 0.5452 - f1_loss: 0.5550 - val_loss: 0.9756 - val_categorical_accuracy: 0.6056 - val_f1_loss: 0.5507\n",
      "Epoch 26/60\n",
      "42/42 [==============================] - 0s 10ms/step - loss: 1.0779 - categorical_accuracy: 0.5731 - f1_loss: 0.5506 - val_loss: 1.0690 - val_categorical_accuracy: 0.5744 - val_f1_loss: 0.5850\n",
      "Epoch 27/60\n",
      "42/42 [==============================] - 1s 17ms/step - loss: 1.0481 - categorical_accuracy: 0.5844 - f1_loss: 0.5403 - val_loss: 1.0205 - val_categorical_accuracy: 0.5733 - val_f1_loss: 0.5682\n",
      "Epoch 28/60\n",
      "42/42 [==============================] - 0s 11ms/step - loss: 1.0914 - categorical_accuracy: 0.5691 - f1_loss: 0.5537 - val_loss: 1.0586 - val_categorical_accuracy: 0.5511 - val_f1_loss: 0.5756\n",
      "Epoch 29/60\n",
      "42/42 [==============================] - 0s 10ms/step - loss: 1.0542 - categorical_accuracy: 0.5670 - f1_loss: 0.5479 - val_loss: 0.9747 - val_categorical_accuracy: 0.6133 - val_f1_loss: 0.5496\n",
      "Epoch 30/60\n",
      "42/42 [==============================] - 0s 9ms/step - loss: 1.0577 - categorical_accuracy: 0.5822 - f1_loss: 0.5378 - val_loss: 0.9453 - val_categorical_accuracy: 0.6356 - val_f1_loss: 0.5427\n",
      "Epoch 31/60\n",
      "42/42 [==============================] - 0s 10ms/step - loss: 1.0318 - categorical_accuracy: 0.5708 - f1_loss: 0.5363 - val_loss: 0.9542 - val_categorical_accuracy: 0.6122 - val_f1_loss: 0.5411\n",
      "Epoch 32/60\n",
      "42/42 [==============================] - 0s 9ms/step - loss: 1.0166 - categorical_accuracy: 0.5995 - f1_loss: 0.5244 - val_loss: 0.9358 - val_categorical_accuracy: 0.6333 - val_f1_loss: 0.5271\n",
      "Epoch 33/60\n",
      "42/42 [==============================] - 0s 9ms/step - loss: 1.0397 - categorical_accuracy: 0.5712 - f1_loss: 0.5265 - val_loss: 0.9761 - val_categorical_accuracy: 0.5911 - val_f1_loss: 0.5408\n",
      "Epoch 34/60\n",
      "42/42 [==============================] - 0s 10ms/step - loss: 0.9894 - categorical_accuracy: 0.6125 - f1_loss: 0.5241 - val_loss: 0.9371 - val_categorical_accuracy: 0.6378 - val_f1_loss: 0.5293\n",
      "Epoch 35/60\n",
      "42/42 [==============================] - 0s 10ms/step - loss: 1.0369 - categorical_accuracy: 0.5769 - f1_loss: 0.5248 - val_loss: 0.9200 - val_categorical_accuracy: 0.6400 - val_f1_loss: 0.5285\n",
      "Epoch 36/60\n",
      "42/42 [==============================] - 0s 10ms/step - loss: 1.0144 - categorical_accuracy: 0.5967 - f1_loss: 0.5288 - val_loss: 0.9101 - val_categorical_accuracy: 0.6467 - val_f1_loss: 0.5217\n",
      "Epoch 37/60\n",
      "42/42 [==============================] - 0s 9ms/step - loss: 0.9677 - categorical_accuracy: 0.6210 - f1_loss: 0.5075 - val_loss: 0.9559 - val_categorical_accuracy: 0.6067 - val_f1_loss: 0.5377\n",
      "Epoch 38/60\n",
      "42/42 [==============================] - 0s 9ms/step - loss: 1.0164 - categorical_accuracy: 0.6034 - f1_loss: 0.5125 - val_loss: 0.9225 - val_categorical_accuracy: 0.6233 - val_f1_loss: 0.5167\n",
      "Epoch 39/60\n",
      "42/42 [==============================] - 0s 10ms/step - loss: 0.9843 - categorical_accuracy: 0.6197 - f1_loss: 0.5066 - val_loss: 0.8958 - val_categorical_accuracy: 0.6400 - val_f1_loss: 0.5116\n",
      "Epoch 40/60\n",
      "42/42 [==============================] - 0s 9ms/step - loss: 0.9473 - categorical_accuracy: 0.6313 - f1_loss: 0.4919 - val_loss: 0.8938 - val_categorical_accuracy: 0.6367 - val_f1_loss: 0.5134\n",
      "Epoch 41/60\n",
      "42/42 [==============================] - 0s 9ms/step - loss: 0.9773 - categorical_accuracy: 0.6190 - f1_loss: 0.5003 - val_loss: 0.8741 - val_categorical_accuracy: 0.6544 - val_f1_loss: 0.4970\n",
      "Epoch 42/60\n",
      "42/42 [==============================] - 0s 10ms/step - loss: 0.9248 - categorical_accuracy: 0.6333 - f1_loss: 0.4988 - val_loss: 0.8853 - val_categorical_accuracy: 0.6433 - val_f1_loss: 0.4980\n",
      "Epoch 43/60\n",
      "42/42 [==============================] - 1s 18ms/step - loss: 0.9483 - categorical_accuracy: 0.6336 - f1_loss: 0.4908 - val_loss: 0.9475 - val_categorical_accuracy: 0.6056 - val_f1_loss: 0.5178\n",
      "Epoch 44/60\n",
      "42/42 [==============================] - 0s 10ms/step - loss: 0.9914 - categorical_accuracy: 0.6230 - f1_loss: 0.5112 - val_loss: 0.8723 - val_categorical_accuracy: 0.6589 - val_f1_loss: 0.4932\n",
      "Epoch 45/60\n",
      "42/42 [==============================] - 0s 10ms/step - loss: 0.9629 - categorical_accuracy: 0.6074 - f1_loss: 0.5074 - val_loss: 0.8904 - val_categorical_accuracy: 0.6544 - val_f1_loss: 0.5010\n",
      "Epoch 46/60\n",
      "42/42 [==============================] - 0s 9ms/step - loss: 0.9817 - categorical_accuracy: 0.6035 - f1_loss: 0.5066 - val_loss: 1.0416 - val_categorical_accuracy: 0.5744 - val_f1_loss: 0.5545\n",
      "Epoch 47/60\n",
      "42/42 [==============================] - 0s 9ms/step - loss: 1.0259 - categorical_accuracy: 0.5995 - f1_loss: 0.5115 - val_loss: 0.9737 - val_categorical_accuracy: 0.6144 - val_f1_loss: 0.5345\n",
      "Epoch 48/60\n",
      "42/42 [==============================] - 0s 9ms/step - loss: 0.9458 - categorical_accuracy: 0.6349 - f1_loss: 0.5022 - val_loss: 0.9622 - val_categorical_accuracy: 0.5889 - val_f1_loss: 0.5301\n",
      "Epoch 49/60\n",
      "42/42 [==============================] - 0s 10ms/step - loss: 0.9745 - categorical_accuracy: 0.6229 - f1_loss: 0.4993 - val_loss: 0.9050 - val_categorical_accuracy: 0.6378 - val_f1_loss: 0.5085\n",
      "Epoch 50/60\n",
      "42/42 [==============================] - 0s 9ms/step - loss: 0.9542 - categorical_accuracy: 0.6139 - f1_loss: 0.4896 - val_loss: 0.9317 - val_categorical_accuracy: 0.6022 - val_f1_loss: 0.5206\n",
      "Epoch 51/60\n",
      "42/42 [==============================] - 0s 9ms/step - loss: 0.9333 - categorical_accuracy: 0.6271 - f1_loss: 0.4849 - val_loss: 0.8815 - val_categorical_accuracy: 0.6467 - val_f1_loss: 0.4927\n",
      "Epoch 52/60\n",
      "42/42 [==============================] - 0s 9ms/step - loss: 0.9393 - categorical_accuracy: 0.6408 - f1_loss: 0.4875 - val_loss: 0.9187 - val_categorical_accuracy: 0.6267 - val_f1_loss: 0.4957\n",
      "Epoch 53/60\n",
      "42/42 [==============================] - 0s 10ms/step - loss: 0.9684 - categorical_accuracy: 0.6147 - f1_loss: 0.4904 - val_loss: 0.8600 - val_categorical_accuracy: 0.6444 - val_f1_loss: 0.4818\n",
      "Epoch 54/60\n",
      "42/42 [==============================] - 0s 10ms/step - loss: 0.9116 - categorical_accuracy: 0.6419 - f1_loss: 0.4817 - val_loss: 0.8405 - val_categorical_accuracy: 0.6600 - val_f1_loss: 0.4765\n",
      "Epoch 55/60\n",
      "42/42 [==============================] - 0s 9ms/step - loss: 0.9238 - categorical_accuracy: 0.6300 - f1_loss: 0.4797 - val_loss: 1.2632 - val_categorical_accuracy: 0.5600 - val_f1_loss: 0.5656\n",
      "Epoch 56/60\n",
      "42/42 [==============================] - 0s 9ms/step - loss: 0.9425 - categorical_accuracy: 0.6167 - f1_loss: 0.4862 - val_loss: 0.8643 - val_categorical_accuracy: 0.6378 - val_f1_loss: 0.4872\n",
      "Epoch 57/60\n",
      "42/42 [==============================] - 0s 10ms/step - loss: 0.9491 - categorical_accuracy: 0.6208 - f1_loss: 0.4881 - val_loss: 0.8859 - val_categorical_accuracy: 0.6467 - val_f1_loss: 0.4976\n",
      "Epoch 58/60\n",
      "42/42 [==============================] - 0s 9ms/step - loss: 0.9027 - categorical_accuracy: 0.6613 - f1_loss: 0.4693 - val_loss: 0.8430 - val_categorical_accuracy: 0.6733 - val_f1_loss: 0.4772\n",
      "Epoch 59/60\n",
      "42/42 [==============================] - 0s 11ms/step - loss: 0.9205 - categorical_accuracy: 0.6410 - f1_loss: 0.4768 - val_loss: 0.9248 - val_categorical_accuracy: 0.6256 - val_f1_loss: 0.5044\n",
      "Epoch 60/60\n",
      "42/42 [==============================] - 0s 11ms/step - loss: 0.9128 - categorical_accuracy: 0.6396 - f1_loss: 0.4823 - val_loss: 0.8872 - val_categorical_accuracy: 0.6378 - val_f1_loss: 0.5008\n"
     ]
    }
   ],
   "source": [
    "config = dict(filters=(32, 64),  \n",
    "                input_shape=40,\n",
    "                dropout=0.25,\n",
    "                epochs=60,\n",
    "                batch_size=50)\n",
    "\n",
    "m_2_30 = DenseNN(**config)\n",
    "\n",
    "hist_2_30 = m_2_30.fit(X_traincnn_mfcc_30, y_onehot_train_mfcc_30, X_testcnn_mfcc_30, y_onehot_test_mfcc_30)"
   ]
  },
  {
   "cell_type": "code",
   "execution_count": 199,
   "id": "4de0ef7c",
   "metadata": {},
   "outputs": [
    {
     "name": "stdout",
     "output_type": "stream",
     "text": [
      "Model: \"sequential_29\"\n",
      "_________________________________________________________________\n",
      "Layer (type)                 Output Shape              Param #   \n",
      "=================================================================\n",
      "conv1d_58 (Conv1D)           (None, 40, 32)            224       \n",
      "_________________________________________________________________\n",
      "activation_58 (Activation)   (None, 40, 32)            0         \n",
      "_________________________________________________________________\n",
      "max_pooling1d_25 (MaxPooling (None, 8, 32)             0         \n",
      "_________________________________________________________________\n",
      "batch_normalization_55 (Batc (None, 8, 32)             128       \n",
      "_________________________________________________________________\n",
      "dropout_58 (Dropout)         (None, 8, 32)             0         \n",
      "_________________________________________________________________\n",
      "conv1d_59 (Conv1D)           (None, 8, 64)             12352     \n",
      "_________________________________________________________________\n",
      "activation_59 (Activation)   (None, 8, 64)             0         \n",
      "_________________________________________________________________\n",
      "batch_normalization_56 (Batc (None, 8, 64)             256       \n",
      "_________________________________________________________________\n",
      "dropout_59 (Dropout)         (None, 8, 64)             0         \n",
      "_________________________________________________________________\n",
      "global_max_pooling1d_27 (Glo (None, 64)                0         \n",
      "_________________________________________________________________\n",
      "dense_29 (Dense)             (None, 6)                 390       \n",
      "=================================================================\n",
      "Total params: 13,350\n",
      "Trainable params: 13,158\n",
      "Non-trainable params: 192\n",
      "_________________________________________________________________\n"
     ]
    }
   ],
   "source": [
    "m_2_30.summary()"
   ]
  },
  {
   "cell_type": "code",
   "execution_count": 200,
   "id": "faaa41e8",
   "metadata": {},
   "outputs": [
    {
     "data": {
      "image/png": "[encoded data removed]",
      "text/plain": [
       "<Figure size 432x288 with 1 Axes>"
      ]
     },
     "metadata": {
      "needs_background": "light"
     },
     "output_type": "display_data"
    },
    {
     "data": {
      "image/png": "[encoded data removed]",
      "text/plain": [
       "<Figure size 432x288 with 1 Axes>"
      ]
     },
     "metadata": {
      "needs_background": "light"
     },
     "output_type": "display_data"
    }
   ],
   "source": [
    "plt.plot(hist_2_30.history['categorical_accuracy'])\n",
    "plt.plot(hist_2_30.history['val_categorical_accuracy'])\n",
    "plt.title('model accuracy')\n",
    "plt.ylabel('accuracy')\n",
    "plt.xlabel('epoch')\n",
    "plt.legend(['train', 'test'], loc='upper left')\n",
    "plt.show()\n",
    "# summarize history for loss\n",
    "plt.plot(hist_2_30.history['loss'])\n",
    "plt.plot(hist_2_30.history['val_loss'])\n",
    "plt.title('model loss')\n",
    "plt.ylabel('loss')\n",
    "plt.xlabel('epoch')\n",
    "plt.legend(['train', 'test'], loc='upper left')\n",
    "plt.show()"
   ]
  },
  {
   "cell_type": "code",
   "execution_count": 279,
   "id": "7e5212d0",
   "metadata": {},
   "outputs": [
    {
     "name": "stdout",
     "output_type": "stream",
     "text": [
      "29/29 [==============================] - 0s 3ms/step - loss: 0.8872 - categorical_accuracy: 0.6378 - f1_loss: 0.5080\n",
      "Restored model, accuracy: 63.78%\n"
     ]
    }
   ],
   "source": [
    "loss, acc, f1_score = m_2_30.evaluate(X_testcnn_mfcc_30, y_onehot_test_mfcc_30)\n",
    "print(\"Restored model, accuracy: {:5.2f}%\".format(100*acc))"
   ]
  },
  {
   "cell_type": "code",
   "execution_count": 321,
   "id": "48d6f12d",
   "metadata": {},
   "outputs": [
    {
     "name": "stdout",
     "output_type": "stream",
     "text": [
      "Confusion matrix, without normalization\n",
      "[[ 72  31   9   0   4  14]\n",
      " [ 17  86  20   1   9  20]\n",
      " [ 13  20  66   3   1  41]\n",
      " [  0   0   0 158   0   0]\n",
      " [  0  10  10   5 126  14]\n",
      " [  8  36  36   1   3  66]]\n"
     ]
    },
    {
     "data": {
      "image/png": "[encoded data removed]",
      "text/plain": [
       "<Figure size 432x288 with 2 Axes>"
      ]
     },
     "metadata": {
      "needs_background": "light"
     },
     "output_type": "display_data"
    }
   ],
   "source": [
    "y_pred = m_2_30.predict(X_testcnn_mfcc_30)\n",
    "matrix = metrics.confusion_matrix(y_onehot_test_mfcc_30.argmax(axis=1), y_pred.argmax(axis=1))\n",
    "emo_keys = list(['ang', 'hap', 'sad', 'fea', 'sur', 'neu'])\n",
    "plot_confusion_matrix(matrix, classes=emo_keys)"
   ]
  },
  {
   "cell_type": "code",
   "execution_count": 322,
   "id": "d37d5b32",
   "metadata": {
    "scrolled": true
   },
   "outputs": [
    {
     "name": "stdout",
     "output_type": "stream",
     "text": [
      "              precision    recall  f1-score   support\n",
      "\n",
      "         ang       0.65      0.55      0.60       130\n",
      "         hap       0.47      0.56      0.51       153\n",
      "         sad       0.47      0.46      0.46       144\n",
      "         fea       0.94      1.00      0.97       158\n",
      "         sur       0.88      0.76      0.82       165\n",
      "         neu       0.43      0.44      0.43       150\n",
      "\n",
      "    accuracy                           0.64       900\n",
      "   macro avg       0.64      0.63      0.63       900\n",
      "weighted avg       0.65      0.64      0.64       900\n",
      "\n"
     ]
    }
   ],
   "source": [
    "target_names = ['ang', 'hap', 'sad', 'fea', 'sur', 'neu']\n",
    "print(classification_report(y_onehot_test_mfcc.argmax(axis=1), y_pred.argmax(axis=1), target_names=target_names))"
   ]
  },
  {
   "cell_type": "code",
   "execution_count": 323,
   "id": "0358b1e9",
   "metadata": {},
   "outputs": [
    {
     "data": {
      "text/plain": [
       "574"
      ]
     },
     "execution_count": 323,
     "metadata": {},
     "output_type": "execute_result"
    }
   ],
   "source": [
    "# indices and labels of all correctly recognized\n",
    "correct_indices = print_index(y_onehot_test_mfcc.argmax(axis=1), y_pred.argmax(axis=1))\n",
    "correct_labels = print_labels(y_onehot_test_mfcc.argmax(axis=1), y_pred.argmax(axis=1))\n",
    "\n",
    "len(correct_indices)"
   ]
  },
  {
   "cell_type": "code",
   "execution_count": 324,
   "id": "e5ec717b",
   "metadata": {},
   "outputs": [
    {
     "data": {
      "text/plain": [
       "{'ang': 7, 'hap': 3, 'sad': 5, 'fea': 0, 'sur': 7, 'neu': 3}"
      ]
     },
     "execution_count": 324,
     "metadata": {},
     "output_type": "execute_result"
    }
   ],
   "source": [
    "# indices of correctly recognized AND clipped\n",
    "indices_of_clipped_recognized = []\n",
    "for i in range(len(X_testcnn_mfcc)):\n",
    "    for j in range(len(correct_indices)):\n",
    "        if(i == correct_indices[j]):\n",
    "            if(i in x_clipped):\n",
    "                indices_of_clipped_recognized.append(i)\n",
    "\n",
    "label_of_clipped_recognized = []\n",
    "# we get the label of correctly recognized clipped audios\n",
    "for i in range(len(y_onehot_test_mfcc.argmax(axis=1))):\n",
    "    if(i in indices_of_clipped_recognized):\n",
    "        label_of_clipped_recognized.append((y_onehot_test_mfcc.argmax(axis=1)[i]))\n",
    "\n",
    "dic_val_clipped = count_label(label_of_clipped_recognized)\n",
    "\n",
    "dic_val_clipped"
   ]
  },
  {
   "cell_type": "code",
   "execution_count": 325,
   "id": "8efb5f9c",
   "metadata": {},
   "outputs": [
    {
     "data": {
      "text/plain": [
       "<BarContainer object of 6 artists>"
      ]
     },
     "execution_count": 325,
     "metadata": {},
     "output_type": "execute_result"
    },
    {
     "data": {
      "image/png": "[encoded data removed]",
      "text/plain": [
       "<Figure size 432x288 with 1 Axes>"
      ]
     },
     "metadata": {
      "needs_background": "light"
     },
     "output_type": "display_data"
    }
   ],
   "source": [
    "plt.bar(list(dic_val_clipped.keys()), dic_val_clipped.values(), color='black')"
   ]
  },
  {
   "cell_type": "code",
   "execution_count": 326,
   "id": "6232e6d5",
   "metadata": {},
   "outputs": [
    {
     "name": "stdout",
     "output_type": "stream",
     "text": [
      "Number of recognized clipped test data: 25\n",
      "Total number of clipped test data: 40\n",
      "Ratio of recognized clipped test data: 0.625\n",
      "\n",
      "Anger: 7\n",
      "Happiness: 3\n",
      "Sadness: 5\n",
      "Surpise: 7\n",
      "Neutral: 3\n",
      "Fear: 0\n",
      "\n",
      "Anger: 8\n",
      "Happiness: 9\n",
      "Sadness: 10\n",
      "Surpise: 7\n",
      "Neutral: 6\n",
      "Fear: 0\n",
      "\n"
     ]
    }
   ],
   "source": [
    "clipped_ratio = len(indices_of_clipped_recognized) / len(x_clipped)\n",
    "print(\"Number of recognized clipped test data: {}\\nTotal number of clipped test data: {}\\nRatio of recognized clipped test data: {}\\n\".format(len(indices_of_clipped_recognized),len(x_clipped), clipped_ratio ))\n",
    "print(\"Anger: {}\\nHappiness: {}\\nSadness: {}\\nSurpise: {}\\nNeutral: {}\\nFear: {}\\n\".format(dic_val_clipped['ang'],dic_val_clipped['hap'],dic_val_clipped['sad'],dic_val_clipped['sur'],dic_val_clipped['neu'],dic_val_clipped['fea']))\n",
    "print(\"Anger: {}\\nHappiness: {}\\nSadness: {}\\nSurpise: {}\\nNeutral: {}\\nFear: {}\\n\".format(dic_true_val['ang'],dic_true_val['hap'],dic_true_val['sad'],dic_true_val['sur'],dic_true_val['neu'],dic_true_val['fea']))"
   ]
  },
  {
   "cell_type": "code",
   "execution_count": 327,
   "id": "a2ce5062",
   "metadata": {},
   "outputs": [
    {
     "data": {
      "text/plain": [
       "549"
      ]
     },
     "execution_count": 327,
     "metadata": {},
     "output_type": "execute_result"
    }
   ],
   "source": [
    "# we get the indices of correctly recognized un-clipped audios\n",
    "indices_of_unclipped_recognized = []\n",
    "for i in range(len(X_testcnn_mfcc)):\n",
    "    for j in range(len(correct_indices)):\n",
    "        if(i == correct_indices[j]):\n",
    "            if(i not in x_clipped):\n",
    "                indices_of_unclipped_recognized.append(i)\n",
    "len(indices_of_unclipped_recognized)"
   ]
  },
  {
   "cell_type": "code",
   "execution_count": 328,
   "id": "005073cd",
   "metadata": {},
   "outputs": [],
   "source": [
    "label_of_unclipped_recognized = []\n",
    "# we get the label of correctly recognized unclipped audios\n",
    "for i in range(len(y_onehot_test_mfcc.argmax(axis=1))):\n",
    "    if(i in indices_of_unclipped_recognized):\n",
    "        label_of_unclipped_recognized.append((y_onehot_test_mfcc.argmax(axis=1)[i]))\n",
    "\n",
    "dic_val_unclipped = count_label(label_of_unclipped_recognized)"
   ]
  },
  {
   "cell_type": "code",
   "execution_count": 329,
   "id": "f10b99da",
   "metadata": {},
   "outputs": [
    {
     "data": {
      "text/plain": [
       "<BarContainer object of 6 artists>"
      ]
     },
     "execution_count": 329,
     "metadata": {},
     "output_type": "execute_result"
    },
    {
     "data": {
      "image/png": "[encoded data removed]",
      "text/plain": [
       "<Figure size 432x288 with 1 Axes>"
      ]
     },
     "metadata": {
      "needs_background": "light"
     },
     "output_type": "display_data"
    }
   ],
   "source": [
    "plt.bar(list(dic_val_unclipped.keys()), dic_val_unclipped.values(), color='black')"
   ]
  },
  {
   "cell_type": "code",
   "execution_count": 330,
   "id": "090ce5af",
   "metadata": {},
   "outputs": [
    {
     "name": "stdout",
     "output_type": "stream",
     "text": [
      "Number of recognized unclipped test data: 549\n",
      "Total number of unclipped test data: 860\n",
      "Ratio of recognized unclipped test data: 0.6383720930232558\n",
      "\n",
      "Anger: 65\n",
      "Happiness: 83\n",
      "Sadness: 61\n",
      "Surpise: 119\n",
      "Neutral: 63\n",
      "Fear: 158\n",
      "\n",
      "Anger: 122\n",
      "Happiness: 144\n",
      "Sadness: 134\n",
      "Surpise: 158\n",
      "Neutral: 144\n",
      "Fear: 158\n",
      "\n"
     ]
    }
   ],
   "source": [
    "unclipped_ratio = len(indices_of_unclipped_recognized) / len(x_unclipped)\n",
    "print(\"Number of recognized unclipped test data: {}\\nTotal number of unclipped test data: {}\\nRatio of recognized unclipped test data: {}\\n\".format(len(indices_of_unclipped_recognized),len(x_unclipped), unclipped_ratio ))\n",
    "print(\"Anger: {}\\nHappiness: {}\\nSadness: {}\\nSurpise: {}\\nNeutral: {}\\nFear: {}\\n\".format(dic_val_unclipped['ang'],dic_val_unclipped['hap'],dic_val_unclipped['sad'],dic_val_unclipped['sur'],dic_val_unclipped['neu'],dic_val_unclipped['fea']))\n",
    "print(\"Anger: {}\\nHappiness: {}\\nSadness: {}\\nSurpise: {}\\nNeutral: {}\\nFear: {}\\n\".format(dic_true_val_unclipped['ang'],dic_true_val_unclipped['hap'],dic_true_val_unclipped['sad'],dic_true_val_unclipped['sur'],dic_true_val_unclipped['neu'],dic_true_val_unclipped['fea']))"
   ]
  },
  {
   "cell_type": "markdown",
   "id": "aa813248",
   "metadata": {},
   "source": [
    "## Mel"
   ]
  },
  {
   "cell_type": "code",
   "execution_count": 208,
   "id": "f36f908b",
   "metadata": {},
   "outputs": [
    {
     "name": "stdout",
     "output_type": "stream",
     "text": [
      "Epoch 1/80\n",
      "42/42 [==============================] - 2s 21ms/step - loss: 3.1049 - categorical_accuracy: 0.2328 - f1_loss: 0.8087 - val_loss: 2.6634 - val_categorical_accuracy: 0.3278 - val_f1_loss: 0.7316\n",
      "Epoch 2/80\n",
      "42/42 [==============================] - 1s 15ms/step - loss: 1.7091 - categorical_accuracy: 0.3513 - f1_loss: 0.7277 - val_loss: 1.5717 - val_categorical_accuracy: 0.4533 - val_f1_loss: 0.6753\n",
      "Epoch 3/80\n",
      "42/42 [==============================] - 1s 15ms/step - loss: 1.7349 - categorical_accuracy: 0.3576 - f1_loss: 0.7235 - val_loss: 1.6205 - val_categorical_accuracy: 0.3900 - val_f1_loss: 0.6977\n",
      "Epoch 4/80\n",
      "42/42 [==============================] - 1s 15ms/step - loss: 1.6014 - categorical_accuracy: 0.4014 - f1_loss: 0.7069 - val_loss: 1.4651 - val_categorical_accuracy: 0.4211 - val_f1_loss: 0.6931\n",
      "Epoch 5/80\n",
      "42/42 [==============================] - 1s 20ms/step - loss: 1.5278 - categorical_accuracy: 0.3940 - f1_loss: 0.6949 - val_loss: 1.5267 - val_categorical_accuracy: 0.3856 - val_f1_loss: 0.6988\n",
      "Epoch 6/80\n",
      "42/42 [==============================] - 1s 21ms/step - loss: 1.5059 - categorical_accuracy: 0.4233 - f1_loss: 0.6808 - val_loss: 1.4328 - val_categorical_accuracy: 0.4656 - val_f1_loss: 0.6638\n",
      "Epoch 7/80\n",
      "42/42 [==============================] - 1s 18ms/step - loss: 1.4143 - categorical_accuracy: 0.4490 - f1_loss: 0.6566 - val_loss: 1.3939 - val_categorical_accuracy: 0.4211 - val_f1_loss: 0.6772\n",
      "Epoch 8/80\n",
      "42/42 [==============================] - 1s 22ms/step - loss: 1.3482 - categorical_accuracy: 0.4761 - f1_loss: 0.6397 - val_loss: 1.3150 - val_categorical_accuracy: 0.4511 - val_f1_loss: 0.6506\n",
      "Epoch 9/80\n",
      "42/42 [==============================] - 1s 20ms/step - loss: 1.3706 - categorical_accuracy: 0.4704 - f1_loss: 0.6404 - val_loss: 1.3451 - val_categorical_accuracy: 0.4711 - val_f1_loss: 0.6491\n",
      "Epoch 10/80\n",
      "42/42 [==============================] - 1s 33ms/step - loss: 1.3668 - categorical_accuracy: 0.4479 - f1_loss: 0.6398 - val_loss: 1.2802 - val_categorical_accuracy: 0.4811 - val_f1_loss: 0.6353\n",
      "Epoch 11/80\n",
      "42/42 [==============================] - 1s 21ms/step - loss: 1.3643 - categorical_accuracy: 0.5044 - f1_loss: 0.6262 - val_loss: 1.2667 - val_categorical_accuracy: 0.5244 - val_f1_loss: 0.6498\n",
      "Epoch 12/80\n",
      "42/42 [==============================] - 1s 22ms/step - loss: 1.3133 - categorical_accuracy: 0.4825 - f1_loss: 0.6169 - val_loss: 1.2674 - val_categorical_accuracy: 0.5200 - val_f1_loss: 0.6128\n",
      "Epoch 13/80\n",
      "42/42 [==============================] - 1s 19ms/step - loss: 1.2794 - categorical_accuracy: 0.4850 - f1_loss: 0.6106 - val_loss: 1.2005 - val_categorical_accuracy: 0.5144 - val_f1_loss: 0.6172\n",
      "Epoch 14/80\n",
      "42/42 [==============================] - 1s 20ms/step - loss: 1.2620 - categorical_accuracy: 0.5021 - f1_loss: 0.6053 - val_loss: 1.2890 - val_categorical_accuracy: 0.4867 - val_f1_loss: 0.6138\n",
      "Epoch 15/80\n",
      "42/42 [==============================] - 1s 17ms/step - loss: 1.2643 - categorical_accuracy: 0.5120 - f1_loss: 0.5944 - val_loss: 1.1610 - val_categorical_accuracy: 0.5478 - val_f1_loss: 0.5977\n",
      "Epoch 16/80\n",
      "42/42 [==============================] - 1s 15ms/step - loss: 1.1741 - categorical_accuracy: 0.5206 - f1_loss: 0.5860 - val_loss: 1.2745 - val_categorical_accuracy: 0.4267 - val_f1_loss: 0.6335\n",
      "Epoch 17/80\n",
      "42/42 [==============================] - 1s 15ms/step - loss: 1.2555 - categorical_accuracy: 0.5058 - f1_loss: 0.6046 - val_loss: 1.1982 - val_categorical_accuracy: 0.5389 - val_f1_loss: 0.5951\n",
      "Epoch 18/80\n",
      "42/42 [==============================] - 1s 14ms/step - loss: 1.2299 - categorical_accuracy: 0.5161 - f1_loss: 0.5846 - val_loss: 1.1504 - val_categorical_accuracy: 0.5633 - val_f1_loss: 0.5892\n",
      "Epoch 19/80\n",
      "42/42 [==============================] - 1s 14ms/step - loss: 1.1776 - categorical_accuracy: 0.5391 - f1_loss: 0.5692 - val_loss: 1.1538 - val_categorical_accuracy: 0.5356 - val_f1_loss: 0.5916\n",
      "Epoch 20/80\n",
      "42/42 [==============================] - 1s 14ms/step - loss: 1.1411 - categorical_accuracy: 0.5539 - f1_loss: 0.5691 - val_loss: 1.1518 - val_categorical_accuracy: 0.5489 - val_f1_loss: 0.5881\n",
      "Epoch 21/80\n",
      "42/42 [==============================] - 1s 14ms/step - loss: 1.1440 - categorical_accuracy: 0.5429 - f1_loss: 0.5736 - val_loss: 1.1124 - val_categorical_accuracy: 0.5522 - val_f1_loss: 0.5838\n",
      "Epoch 22/80\n",
      "42/42 [==============================] - 1s 14ms/step - loss: 1.1447 - categorical_accuracy: 0.5313 - f1_loss: 0.5702 - val_loss: 1.1330 - val_categorical_accuracy: 0.5556 - val_f1_loss: 0.5796\n",
      "Epoch 23/80\n",
      "42/42 [==============================] - 1s 14ms/step - loss: 1.1559 - categorical_accuracy: 0.5301 - f1_loss: 0.5654 - val_loss: 1.0942 - val_categorical_accuracy: 0.5911 - val_f1_loss: 0.5781\n",
      "Epoch 24/80\n",
      "42/42 [==============================] - 1s 14ms/step - loss: 1.2382 - categorical_accuracy: 0.5041 - f1_loss: 0.5766 - val_loss: 1.1151 - val_categorical_accuracy: 0.5444 - val_f1_loss: 0.5705\n",
      "Epoch 25/80\n",
      "42/42 [==============================] - 1s 14ms/step - loss: 1.0653 - categorical_accuracy: 0.5904 - f1_loss: 0.5460 - val_loss: 1.0505 - val_categorical_accuracy: 0.5867 - val_f1_loss: 0.5554\n",
      "Epoch 26/80\n",
      "42/42 [==============================] - 1s 20ms/step - loss: 1.0451 - categorical_accuracy: 0.5952 - f1_loss: 0.5355 - val_loss: 1.0636 - val_categorical_accuracy: 0.5744 - val_f1_loss: 0.5586\n",
      "Epoch 27/80\n",
      "42/42 [==============================] - 1s 14ms/step - loss: 1.0985 - categorical_accuracy: 0.5854 - f1_loss: 0.5442 - val_loss: 1.1503 - val_categorical_accuracy: 0.5467 - val_f1_loss: 0.5599\n",
      "Epoch 28/80\n",
      "42/42 [==============================] - 1s 14ms/step - loss: 1.0706 - categorical_accuracy: 0.5863 - f1_loss: 0.5333 - val_loss: 1.0664 - val_categorical_accuracy: 0.5689 - val_f1_loss: 0.5519\n",
      "Epoch 29/80\n",
      "42/42 [==============================] - 1s 15ms/step - loss: 1.0878 - categorical_accuracy: 0.5850 - f1_loss: 0.5336 - val_loss: 1.0861 - val_categorical_accuracy: 0.5800 - val_f1_loss: 0.5580\n",
      "Epoch 30/80\n",
      "42/42 [==============================] - 1s 14ms/step - loss: 1.1183 - categorical_accuracy: 0.5678 - f1_loss: 0.5420 - val_loss: 1.0343 - val_categorical_accuracy: 0.5978 - val_f1_loss: 0.5497\n",
      "Epoch 31/80\n",
      "42/42 [==============================] - 1s 15ms/step - loss: 1.0265 - categorical_accuracy: 0.5951 - f1_loss: 0.5292 - val_loss: 1.0335 - val_categorical_accuracy: 0.5744 - val_f1_loss: 0.5436\n",
      "Epoch 32/80\n",
      "42/42 [==============================] - 1s 15ms/step - loss: 1.0655 - categorical_accuracy: 0.5758 - f1_loss: 0.5244 - val_loss: 1.0323 - val_categorical_accuracy: 0.5911 - val_f1_loss: 0.5485\n",
      "Epoch 33/80\n",
      "42/42 [==============================] - 1s 15ms/step - loss: 1.0114 - categorical_accuracy: 0.5908 - f1_loss: 0.5196 - val_loss: 1.0756 - val_categorical_accuracy: 0.5889 - val_f1_loss: 0.5494\n",
      "Epoch 34/80\n",
      "42/42 [==============================] - 1s 14ms/step - loss: 1.0392 - categorical_accuracy: 0.6290 - f1_loss: 0.5164 - val_loss: 1.0231 - val_categorical_accuracy: 0.5967 - val_f1_loss: 0.5357\n",
      "Epoch 35/80\n",
      "42/42 [==============================] - 1s 14ms/step - loss: 1.0825 - categorical_accuracy: 0.5902 - f1_loss: 0.5180 - val_loss: 1.0272 - val_categorical_accuracy: 0.5878 - val_f1_loss: 0.5388\n",
      "Epoch 36/80\n",
      "42/42 [==============================] - 1s 14ms/step - loss: 0.9770 - categorical_accuracy: 0.6209 - f1_loss: 0.5072 - val_loss: 1.1010 - val_categorical_accuracy: 0.5733 - val_f1_loss: 0.5436\n",
      "Epoch 37/80\n",
      "42/42 [==============================] - 1s 14ms/step - loss: 1.0309 - categorical_accuracy: 0.6154 - f1_loss: 0.5091 - val_loss: 1.0243 - val_categorical_accuracy: 0.5856 - val_f1_loss: 0.5443\n",
      "Epoch 38/80\n",
      "42/42 [==============================] - 1s 15ms/step - loss: 1.0680 - categorical_accuracy: 0.5961 - f1_loss: 0.5111 - val_loss: 1.0346 - val_categorical_accuracy: 0.5756 - val_f1_loss: 0.5349\n",
      "Epoch 39/80\n",
      "42/42 [==============================] - 1s 15ms/step - loss: 1.0223 - categorical_accuracy: 0.5778 - f1_loss: 0.5128 - val_loss: 0.9684 - val_categorical_accuracy: 0.5989 - val_f1_loss: 0.5230\n",
      "Epoch 40/80\n",
      "42/42 [==============================] - 1s 16ms/step - loss: 0.9911 - categorical_accuracy: 0.6077 - f1_loss: 0.4995 - val_loss: 0.9826 - val_categorical_accuracy: 0.6078 - val_f1_loss: 0.5232\n",
      "Epoch 41/80\n",
      "42/42 [==============================] - 1s 15ms/step - loss: 0.9498 - categorical_accuracy: 0.6347 - f1_loss: 0.4893 - val_loss: 0.9812 - val_categorical_accuracy: 0.6000 - val_f1_loss: 0.5209\n",
      "Epoch 42/80\n",
      "42/42 [==============================] - 1s 15ms/step - loss: 0.9251 - categorical_accuracy: 0.6170 - f1_loss: 0.4816 - val_loss: 0.9695 - val_categorical_accuracy: 0.6044 - val_f1_loss: 0.5114\n",
      "Epoch 43/80\n",
      "42/42 [==============================] - 1s 15ms/step - loss: 0.9551 - categorical_accuracy: 0.6197 - f1_loss: 0.4792 - val_loss: 1.0417 - val_categorical_accuracy: 0.5833 - val_f1_loss: 0.5247\n",
      "Epoch 44/80\n",
      "42/42 [==============================] - 1s 20ms/step - loss: 1.0638 - categorical_accuracy: 0.5999 - f1_loss: 0.5007 - val_loss: 0.9974 - val_categorical_accuracy: 0.6022 - val_f1_loss: 0.5167\n",
      "Epoch 45/80\n",
      "42/42 [==============================] - 1s 15ms/step - loss: 1.1154 - categorical_accuracy: 0.6014 - f1_loss: 0.5156 - val_loss: 1.0117 - val_categorical_accuracy: 0.6033 - val_f1_loss: 0.5172\n",
      "Epoch 46/80\n",
      "42/42 [==============================] - 1s 15ms/step - loss: 1.0021 - categorical_accuracy: 0.6136 - f1_loss: 0.4966 - val_loss: 0.9653 - val_categorical_accuracy: 0.6078 - val_f1_loss: 0.5099\n",
      "Epoch 47/80\n",
      "42/42 [==============================] - 1s 15ms/step - loss: 0.9435 - categorical_accuracy: 0.6345 - f1_loss: 0.4830 - val_loss: 0.9867 - val_categorical_accuracy: 0.5678 - val_f1_loss: 0.5159\n",
      "Epoch 48/80\n",
      "42/42 [==============================] - 1s 15ms/step - loss: 0.9350 - categorical_accuracy: 0.6371 - f1_loss: 0.4770 - val_loss: 1.0495 - val_categorical_accuracy: 0.5856 - val_f1_loss: 0.5128\n",
      "Epoch 49/80\n",
      "42/42 [==============================] - 1s 14ms/step - loss: 0.9722 - categorical_accuracy: 0.6151 - f1_loss: 0.4845 - val_loss: 1.0320 - val_categorical_accuracy: 0.5878 - val_f1_loss: 0.5076\n",
      "Epoch 50/80\n",
      "42/42 [==============================] - 1s 14ms/step - loss: 0.9841 - categorical_accuracy: 0.6248 - f1_loss: 0.4900 - val_loss: 0.9460 - val_categorical_accuracy: 0.6311 - val_f1_loss: 0.5052\n",
      "Epoch 51/80\n",
      "42/42 [==============================] - 1s 15ms/step - loss: 0.9308 - categorical_accuracy: 0.6437 - f1_loss: 0.4798 - val_loss: 0.9605 - val_categorical_accuracy: 0.6089 - val_f1_loss: 0.5064\n",
      "Epoch 52/80\n",
      "42/42 [==============================] - 1s 14ms/step - loss: 0.9722 - categorical_accuracy: 0.6067 - f1_loss: 0.4838 - val_loss: 0.9346 - val_categorical_accuracy: 0.6289 - val_f1_loss: 0.4976\n",
      "Epoch 53/80\n",
      "42/42 [==============================] - 1s 14ms/step - loss: 0.8999 - categorical_accuracy: 0.6525 - f1_loss: 0.4662 - val_loss: 0.9600 - val_categorical_accuracy: 0.6211 - val_f1_loss: 0.5046\n",
      "Epoch 54/80\n",
      "42/42 [==============================] - 1s 15ms/step - loss: 0.9561 - categorical_accuracy: 0.6346 - f1_loss: 0.4744 - val_loss: 1.0406 - val_categorical_accuracy: 0.5867 - val_f1_loss: 0.5097\n",
      "Epoch 55/80\n",
      "42/42 [==============================] - 1s 15ms/step - loss: 0.9348 - categorical_accuracy: 0.6144 - f1_loss: 0.4818 - val_loss: 0.9620 - val_categorical_accuracy: 0.6111 - val_f1_loss: 0.5010\n",
      "Epoch 56/80\n",
      "42/42 [==============================] - 1s 15ms/step - loss: 0.8870 - categorical_accuracy: 0.6458 - f1_loss: 0.4544 - val_loss: 0.9549 - val_categorical_accuracy: 0.5900 - val_f1_loss: 0.5016\n",
      "Epoch 57/80\n",
      "42/42 [==============================] - 1s 15ms/step - loss: 0.9087 - categorical_accuracy: 0.6692 - f1_loss: 0.4573 - val_loss: 0.9649 - val_categorical_accuracy: 0.5933 - val_f1_loss: 0.4979\n",
      "Epoch 58/80\n",
      "42/42 [==============================] - 1s 15ms/step - loss: 0.9479 - categorical_accuracy: 0.6417 - f1_loss: 0.4689 - val_loss: 0.9564 - val_categorical_accuracy: 0.6022 - val_f1_loss: 0.4999\n",
      "Epoch 59/80\n",
      "42/42 [==============================] - 1s 15ms/step - loss: 0.9275 - categorical_accuracy: 0.6599 - f1_loss: 0.4598 - val_loss: 0.9965 - val_categorical_accuracy: 0.5933 - val_f1_loss: 0.4983\n",
      "Epoch 60/80\n",
      "42/42 [==============================] - 1s 14ms/step - loss: 0.9078 - categorical_accuracy: 0.6434 - f1_loss: 0.4584 - val_loss: 0.9747 - val_categorical_accuracy: 0.6133 - val_f1_loss: 0.4872\n",
      "Epoch 61/80\n",
      "42/42 [==============================] - 1s 20ms/step - loss: 0.8686 - categorical_accuracy: 0.6621 - f1_loss: 0.4507 - val_loss: 0.9529 - val_categorical_accuracy: 0.5956 - val_f1_loss: 0.4953\n",
      "Epoch 62/80\n",
      "42/42 [==============================] - 1s 14ms/step - loss: 0.8982 - categorical_accuracy: 0.6391 - f1_loss: 0.4566 - val_loss: 0.9438 - val_categorical_accuracy: 0.6067 - val_f1_loss: 0.4841\n",
      "Epoch 63/80\n",
      "42/42 [==============================] - 1s 15ms/step - loss: 0.9268 - categorical_accuracy: 0.6543 - f1_loss: 0.4512 - val_loss: 0.9477 - val_categorical_accuracy: 0.6067 - val_f1_loss: 0.4929\n",
      "Epoch 64/80\n",
      "42/42 [==============================] - 1s 14ms/step - loss: 0.8827 - categorical_accuracy: 0.6644 - f1_loss: 0.4532 - val_loss: 0.9651 - val_categorical_accuracy: 0.6167 - val_f1_loss: 0.4903\n",
      "Epoch 65/80\n",
      "42/42 [==============================] - 1s 13ms/step - loss: 0.9004 - categorical_accuracy: 0.6441 - f1_loss: 0.4590 - val_loss: 0.9410 - val_categorical_accuracy: 0.6356 - val_f1_loss: 0.4817\n",
      "Epoch 66/80\n",
      "42/42 [==============================] - 1s 14ms/step - loss: 0.8356 - categorical_accuracy: 0.6856 - f1_loss: 0.4439 - val_loss: 0.9317 - val_categorical_accuracy: 0.6367 - val_f1_loss: 0.4742\n",
      "Epoch 67/80\n",
      "42/42 [==============================] - 1s 14ms/step - loss: 0.8442 - categorical_accuracy: 0.6705 - f1_loss: 0.4364 - val_loss: 0.9332 - val_categorical_accuracy: 0.6300 - val_f1_loss: 0.4843\n",
      "Epoch 68/80\n",
      "42/42 [==============================] - 1s 15ms/step - loss: 0.8454 - categorical_accuracy: 0.6794 - f1_loss: 0.4342 - val_loss: 0.9198 - val_categorical_accuracy: 0.6367 - val_f1_loss: 0.4716\n",
      "Epoch 69/80\n",
      "42/42 [==============================] - 1s 15ms/step - loss: 0.8225 - categorical_accuracy: 0.6893 - f1_loss: 0.4337 - val_loss: 1.0528 - val_categorical_accuracy: 0.5767 - val_f1_loss: 0.4937\n",
      "Epoch 70/80\n",
      "42/42 [==============================] - 1s 15ms/step - loss: 0.8526 - categorical_accuracy: 0.6713 - f1_loss: 0.4279 - val_loss: 0.9057 - val_categorical_accuracy: 0.6356 - val_f1_loss: 0.4668\n",
      "Epoch 71/80\n",
      "42/42 [==============================] - 1s 14ms/step - loss: 0.8502 - categorical_accuracy: 0.6958 - f1_loss: 0.4243 - val_loss: 0.9802 - val_categorical_accuracy: 0.6378 - val_f1_loss: 0.4749\n",
      "Epoch 72/80\n",
      "42/42 [==============================] - 1s 14ms/step - loss: 0.8165 - categorical_accuracy: 0.6896 - f1_loss: 0.4384 - val_loss: 1.0221 - val_categorical_accuracy: 0.5967 - val_f1_loss: 0.4999\n",
      "Epoch 73/80\n",
      "42/42 [==============================] - 1s 15ms/step - loss: 0.8484 - categorical_accuracy: 0.6649 - f1_loss: 0.4337 - val_loss: 0.9620 - val_categorical_accuracy: 0.6322 - val_f1_loss: 0.4860\n",
      "Epoch 74/80\n",
      "42/42 [==============================] - 1s 14ms/step - loss: 0.8679 - categorical_accuracy: 0.6579 - f1_loss: 0.4362 - val_loss: 0.8977 - val_categorical_accuracy: 0.6378 - val_f1_loss: 0.4699\n",
      "Epoch 75/80\n",
      "42/42 [==============================] - 1s 15ms/step - loss: 0.8465 - categorical_accuracy: 0.6711 - f1_loss: 0.4321 - val_loss: 0.9409 - val_categorical_accuracy: 0.6056 - val_f1_loss: 0.4774\n",
      "Epoch 76/80\n",
      "42/42 [==============================] - 1s 14ms/step - loss: 0.8536 - categorical_accuracy: 0.6739 - f1_loss: 0.4318 - val_loss: 0.9649 - val_categorical_accuracy: 0.6056 - val_f1_loss: 0.4806\n",
      "Epoch 77/80\n",
      "42/42 [==============================] - 1s 18ms/step - loss: 0.8206 - categorical_accuracy: 0.6858 - f1_loss: 0.4245 - val_loss: 0.9468 - val_categorical_accuracy: 0.6322 - val_f1_loss: 0.4664\n",
      "Epoch 78/80\n",
      "42/42 [==============================] - 1s 15ms/step - loss: 0.8360 - categorical_accuracy: 0.6946 - f1_loss: 0.4149 - val_loss: 0.9332 - val_categorical_accuracy: 0.6189 - val_f1_loss: 0.4637\n",
      "Epoch 79/80\n",
      "42/42 [==============================] - 1s 15ms/step - loss: 0.8590 - categorical_accuracy: 0.6807 - f1_loss: 0.4271 - val_loss: 1.0955 - val_categorical_accuracy: 0.6078 - val_f1_loss: 0.4878\n",
      "Epoch 80/80\n",
      "42/42 [==============================] - 1s 15ms/step - loss: 0.8294 - categorical_accuracy: 0.6800 - f1_loss: 0.4176 - val_loss: 0.8580 - val_categorical_accuracy: 0.6544 - val_f1_loss: 0.4544\n"
     ]
    }
   ],
   "source": [
    "config = dict(filters=(64, 128),  \n",
    "                input_shape=128,\n",
    "                dropout=0.25,\n",
    "                epochs=80,\n",
    "                batch_size=50)\n",
    "\n",
    "m_mel_2_30 = DenseNN(**config)\n",
    "\n",
    "hist_mel_2_30 = m_mel_2_30.fit(X_traincnn_mel_30, y_onehot_train_mel_30, X_testcnn_mel_30, y_onehot_test_mel_30)"
   ]
  },
  {
   "cell_type": "code",
   "execution_count": 209,
   "id": "b5136b7c",
   "metadata": {},
   "outputs": [
    {
     "name": "stdout",
     "output_type": "stream",
     "text": [
      "Model: \"sequential_29\"\n",
      "_________________________________________________________________\n",
      "Layer (type)                 Output Shape              Param #   \n",
      "=================================================================\n",
      "conv1d_58 (Conv1D)           (None, 40, 32)            224       \n",
      "_________________________________________________________________\n",
      "activation_58 (Activation)   (None, 40, 32)            0         \n",
      "_________________________________________________________________\n",
      "max_pooling1d_25 (MaxPooling (None, 8, 32)             0         \n",
      "_________________________________________________________________\n",
      "batch_normalization_55 (Batc (None, 8, 32)             128       \n",
      "_________________________________________________________________\n",
      "dropout_58 (Dropout)         (None, 8, 32)             0         \n",
      "_________________________________________________________________\n",
      "conv1d_59 (Conv1D)           (None, 8, 64)             12352     \n",
      "_________________________________________________________________\n",
      "activation_59 (Activation)   (None, 8, 64)             0         \n",
      "_________________________________________________________________\n",
      "batch_normalization_56 (Batc (None, 8, 64)             256       \n",
      "_________________________________________________________________\n",
      "dropout_59 (Dropout)         (None, 8, 64)             0         \n",
      "_________________________________________________________________\n",
      "global_max_pooling1d_27 (Glo (None, 64)                0         \n",
      "_________________________________________________________________\n",
      "dense_29 (Dense)             (None, 6)                 390       \n",
      "=================================================================\n",
      "Total params: 13,350\n",
      "Trainable params: 13,158\n",
      "Non-trainable params: 192\n",
      "_________________________________________________________________\n"
     ]
    }
   ],
   "source": [
    "m_2_30.summary()"
   ]
  },
  {
   "cell_type": "code",
   "execution_count": 210,
   "id": "6261e1e2",
   "metadata": {},
   "outputs": [
    {
     "data": {
      "image/png": "[encoded data removed]",
      "text/plain": [
       "<Figure size 432x288 with 1 Axes>"
      ]
     },
     "metadata": {
      "needs_background": "light"
     },
     "output_type": "display_data"
    },
    {
     "data": {
      "image/png": "[encoded data removed]",
      "text/plain": [
       "<Figure size 432x288 with 1 Axes>"
      ]
     },
     "metadata": {
      "needs_background": "light"
     },
     "output_type": "display_data"
    }
   ],
   "source": [
    "plt.plot(hist_mel_2_30.history['categorical_accuracy'])\n",
    "plt.plot(hist_mel_2_30.history['val_categorical_accuracy'])\n",
    "plt.title('model accuracy')\n",
    "plt.ylabel('accuracy')\n",
    "plt.xlabel('epoch')\n",
    "plt.legend(['train', 'test'], loc='upper left')\n",
    "plt.show()\n",
    "# summarize history for loss\n",
    "plt.plot(hist_mel_2_30.history['loss'])\n",
    "plt.plot(hist_mel_2_30.history['val_loss'])\n",
    "plt.title('model loss')\n",
    "plt.ylabel('loss')\n",
    "plt.xlabel('epoch')\n",
    "plt.legend(['train', 'test'], loc='upper left')\n",
    "plt.show()"
   ]
  },
  {
   "cell_type": "code",
   "execution_count": 290,
   "id": "67305955",
   "metadata": {},
   "outputs": [
    {
     "name": "stdout",
     "output_type": "stream",
     "text": [
      "29/29 [==============================] - 0s 5ms/step - loss: 0.8580 - categorical_accuracy: 0.6544 - f1_loss: 0.4661\n",
      "Restored model, accuracy: 65.44%\n"
     ]
    }
   ],
   "source": [
    "loss, acc, f1_score = m_mel_2_30.evaluate(X_testcnn_mel_30, y_onehot_test_mel_30)\n",
    "print(\"Restored model, accuracy: {:5.2f}%\".format(100*acc))"
   ]
  },
  {
   "cell_type": "code",
   "execution_count": 331,
   "id": "ace62f16",
   "metadata": {},
   "outputs": [
    {
     "name": "stdout",
     "output_type": "stream",
     "text": [
      "Confusion matrix, without normalization\n",
      "[[100  17  11   0   1   1]\n",
      " [ 44  56  28   0   5  20]\n",
      " [ 23  28  62   1   1  29]\n",
      " [  0   0   0 158   0   0]\n",
      " [  5   0   6   0 154   0]\n",
      " [ 25  23  41   1   1  59]]\n"
     ]
    },
    {
     "data": {
      "image/png": "[encoded data removed]",
      "text/plain": [
       "<Figure size 432x288 with 2 Axes>"
      ]
     },
     "metadata": {
      "needs_background": "light"
     },
     "output_type": "display_data"
    }
   ],
   "source": [
    "y_pred = m_mel_2_30.predict(X_testcnn_mel_30)\n",
    "matrix = metrics.confusion_matrix(y_onehot_test_mel_30.argmax(axis=1), y_pred.argmax(axis=1))\n",
    "emo_keys = list(['ang', 'hap', 'sad', 'fea', 'sur', 'neu'])\n",
    "plot_confusion_matrix(matrix, classes=emo_keys)"
   ]
  },
  {
   "cell_type": "code",
   "execution_count": 332,
   "id": "2de00624",
   "metadata": {},
   "outputs": [
    {
     "name": "stdout",
     "output_type": "stream",
     "text": [
      "              precision    recall  f1-score   support\n",
      "\n",
      "         ang       0.51      0.77      0.61       130\n",
      "         hap       0.45      0.37      0.40       153\n",
      "         sad       0.42      0.43      0.42       144\n",
      "         fea       0.99      1.00      0.99       158\n",
      "         sur       0.95      0.93      0.94       165\n",
      "         neu       0.54      0.39      0.46       150\n",
      "\n",
      "    accuracy                           0.65       900\n",
      "   macro avg       0.64      0.65      0.64       900\n",
      "weighted avg       0.65      0.65      0.65       900\n",
      "\n"
     ]
    }
   ],
   "source": [
    "target_names = ['ang', 'hap', 'sad', 'fea', 'sur', 'neu']\n",
    "print(classification_report(y_onehot_test_mfcc.argmax(axis=1), y_pred.argmax(axis=1), target_names=target_names))"
   ]
  },
  {
   "cell_type": "code",
   "execution_count": 333,
   "id": "f9f3ba4a",
   "metadata": {},
   "outputs": [
    {
     "data": {
      "text/plain": [
       "589"
      ]
     },
     "execution_count": 333,
     "metadata": {},
     "output_type": "execute_result"
    }
   ],
   "source": [
    "# indices and labels of all correctly recognized\n",
    "correct_indices = print_index(y_onehot_test_mfcc.argmax(axis=1), y_pred.argmax(axis=1))\n",
    "correct_labels = print_labels(y_onehot_test_mfcc.argmax(axis=1), y_pred.argmax(axis=1))\n",
    "\n",
    "len(correct_indices)"
   ]
  },
  {
   "cell_type": "code",
   "execution_count": 334,
   "id": "74884fb6",
   "metadata": {},
   "outputs": [
    {
     "data": {
      "text/plain": [
       "{'ang': 7, 'hap': 5, 'sad': 5, 'fea': 0, 'sur': 7, 'neu': 3}"
      ]
     },
     "execution_count": 334,
     "metadata": {},
     "output_type": "execute_result"
    }
   ],
   "source": [
    "# indices of correctly recognized AND clipped\n",
    "indices_of_clipped_recognized = []\n",
    "for i in range(len(X_testcnn_mfcc)):\n",
    "    for j in range(len(correct_indices)):\n",
    "        if(i == correct_indices[j]):\n",
    "            if(i in x_clipped):\n",
    "                indices_of_clipped_recognized.append(i)\n",
    "\n",
    "label_of_clipped_recognized = []\n",
    "# we get the label of correctly recognized clipped audios\n",
    "for i in range(len(y_onehot_test_mfcc.argmax(axis=1))):\n",
    "    if(i in indices_of_clipped_recognized):\n",
    "        label_of_clipped_recognized.append((y_onehot_test_mfcc.argmax(axis=1)[i]))\n",
    "\n",
    "dic_val_clipped = count_label(label_of_clipped_recognized)\n",
    "\n",
    "dic_val_clipped\n"
   ]
  },
  {
   "cell_type": "code",
   "execution_count": 335,
   "id": "cf8f0417",
   "metadata": {},
   "outputs": [
    {
     "data": {
      "text/plain": [
       "<BarContainer object of 6 artists>"
      ]
     },
     "execution_count": 335,
     "metadata": {},
     "output_type": "execute_result"
    },
    {
     "data": {
      "image/png": "[encoded data removed]",
      "text/plain": [
       "<Figure size 432x288 with 1 Axes>"
      ]
     },
     "metadata": {
      "needs_background": "light"
     },
     "output_type": "display_data"
    }
   ],
   "source": [
    "plt.bar(list(dic_val_clipped.keys()), dic_val_clipped.values(), color='black')"
   ]
  },
  {
   "cell_type": "code",
   "execution_count": 336,
   "id": "83d2d1a1",
   "metadata": {},
   "outputs": [
    {
     "name": "stdout",
     "output_type": "stream",
     "text": [
      "Number of recognized clipped test data: 27\n",
      "Total number of clipped test data: 40\n",
      "Ratio of recognized clipped test data: 0.675\n",
      "\n",
      "Anger: 7\n",
      "Happiness: 5\n",
      "Sadness: 5\n",
      "Surpise: 7\n",
      "Neutral: 3\n",
      "Fear: 0\n",
      "\n",
      "Anger: 8\n",
      "Happiness: 9\n",
      "Sadness: 10\n",
      "Surpise: 7\n",
      "Neutral: 6\n",
      "Fear: 0\n",
      "\n"
     ]
    }
   ],
   "source": [
    "clipped_ratio = len(indices_of_clipped_recognized) / len(x_clipped)\n",
    "print(\"Number of recognized clipped test data: {}\\nTotal number of clipped test data: {}\\nRatio of recognized clipped test data: {}\\n\".format(len(indices_of_clipped_recognized),len(x_clipped), clipped_ratio ))\n",
    "print(\"Anger: {}\\nHappiness: {}\\nSadness: {}\\nSurpise: {}\\nNeutral: {}\\nFear: {}\\n\".format(dic_val_clipped['ang'],dic_val_clipped['hap'],dic_val_clipped['sad'],dic_val_clipped['sur'],dic_val_clipped['neu'],dic_val_clipped['fea']))\n",
    "print(\"Anger: {}\\nHappiness: {}\\nSadness: {}\\nSurpise: {}\\nNeutral: {}\\nFear: {}\\n\".format(dic_true_val['ang'],dic_true_val['hap'],dic_true_val['sad'],dic_true_val['sur'],dic_true_val['neu'],dic_true_val['fea']))"
   ]
  },
  {
   "cell_type": "code",
   "execution_count": 337,
   "id": "6f2612bd",
   "metadata": {},
   "outputs": [
    {
     "data": {
      "text/plain": [
       "562"
      ]
     },
     "execution_count": 337,
     "metadata": {},
     "output_type": "execute_result"
    }
   ],
   "source": [
    "# we get the indices of correctly recognized un-clipped audios\n",
    "indices_of_unclipped_recognized = []\n",
    "for i in range(len(X_testcnn_mfcc)):\n",
    "    for j in range(len(correct_indices)):\n",
    "        if(i == correct_indices[j]):\n",
    "            if(i not in x_clipped):\n",
    "                indices_of_unclipped_recognized.append(i)\n",
    "len(indices_of_unclipped_recognized)"
   ]
  },
  {
   "cell_type": "code",
   "execution_count": 338,
   "id": "6e749436",
   "metadata": {},
   "outputs": [],
   "source": [
    "label_of_unclipped_recognized = []\n",
    "# we get the label of correctly recognized unclipped audios\n",
    "for i in range(len(y_onehot_test_mfcc.argmax(axis=1))):\n",
    "    if(i in indices_of_unclipped_recognized):\n",
    "        label_of_unclipped_recognized.append((y_onehot_test_mfcc.argmax(axis=1)[i]))\n",
    "\n",
    "dic_val_unclipped = count_label(label_of_unclipped_recognized)"
   ]
  },
  {
   "cell_type": "code",
   "execution_count": 339,
   "id": "f3b549b9",
   "metadata": {},
   "outputs": [
    {
     "data": {
      "text/plain": [
       "<BarContainer object of 6 artists>"
      ]
     },
     "execution_count": 339,
     "metadata": {},
     "output_type": "execute_result"
    },
    {
     "data": {
      "image/png": "[encoded data removed]",
      "text/plain": [
       "<Figure size 432x288 with 1 Axes>"
      ]
     },
     "metadata": {
      "needs_background": "light"
     },
     "output_type": "display_data"
    }
   ],
   "source": [
    "plt.bar(list(dic_val_unclipped.keys()), dic_val_unclipped.values(), color='black')"
   ]
  },
  {
   "cell_type": "code",
   "execution_count": 340,
   "id": "dda6cd92",
   "metadata": {},
   "outputs": [
    {
     "name": "stdout",
     "output_type": "stream",
     "text": [
      "Number of recognized unclipped test data: 562\n",
      "Total number of unclipped test data: 860\n",
      "Ratio of recognized unclipped test data: 0.6534883720930232\n",
      "\n",
      "Anger: 93\n",
      "Happiness: 51\n",
      "Sadness: 57\n",
      "Surpise: 147\n",
      "Neutral: 56\n",
      "Fear: 158\n",
      "\n",
      "Anger: 122\n",
      "Happiness: 144\n",
      "Sadness: 134\n",
      "Surpise: 158\n",
      "Neutral: 144\n",
      "Fear: 158\n",
      "\n"
     ]
    }
   ],
   "source": [
    "unclipped_ratio = len(indices_of_unclipped_recognized) / len(x_unclipped)\n",
    "print(\"Number of recognized unclipped test data: {}\\nTotal number of unclipped test data: {}\\nRatio of recognized unclipped test data: {}\\n\".format(len(indices_of_unclipped_recognized),len(x_unclipped), unclipped_ratio ))\n",
    "print(\"Anger: {}\\nHappiness: {}\\nSadness: {}\\nSurpise: {}\\nNeutral: {}\\nFear: {}\\n\".format(dic_val_unclipped['ang'],dic_val_unclipped['hap'],dic_val_unclipped['sad'],dic_val_unclipped['sur'],dic_val_unclipped['neu'],dic_val_unclipped['fea']))\n",
    "print(\"Anger: {}\\nHappiness: {}\\nSadness: {}\\nSurpise: {}\\nNeutral: {}\\nFear: {}\\n\".format(dic_true_val_unclipped['ang'],dic_true_val_unclipped['hap'],dic_true_val_unclipped['sad'],dic_true_val_unclipped['sur'],dic_true_val_unclipped['neu'],dic_true_val_unclipped['fea']))"
   ]
  },
  {
   "cell_type": "code",
   "execution_count": null,
   "id": "21e82c98",
   "metadata": {},
   "outputs": [],
   "source": []
  }
 ],
 "metadata": {
  "kernelspec": {
   "display_name": "Python 3",
   "language": "python",
   "name": "python3"
  },
  "language_info": {
   "codemirror_mode": {
    "name": "ipython",
    "version": 3
   },
   "file_extension": ".py",
   "mimetype": "text/x-python",
   "name": "python",
   "nbconvert_exporter": "python",
   "pygments_lexer": "ipython3",
   "version": "3.7.3"
  }
 },
 "nbformat": 4,
 "nbformat_minor": 5
}
